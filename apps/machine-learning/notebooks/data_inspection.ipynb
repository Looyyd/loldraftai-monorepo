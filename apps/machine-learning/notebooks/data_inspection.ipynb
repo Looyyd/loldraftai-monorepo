{
 "cells": [
  {
   "cell_type": "code",
   "execution_count": null,
   "metadata": {},
   "outputs": [],
   "source": [
    "import pandas as pd\n",
    "import os\n",
    "import pickle\n",
    "from utils.match_prediction import PREPARED_DATA_DIR, RAW_DATA_DIR, CHAMPION_FEATURES_PATH\n",
    "\n",
    "# Load the Parquet file\n",
    "\n",
    "train_file_path = os.path.join(PREPARED_DATA_DIR, \"train\", \"train_0.parquet\")\n",
    "df = pd.read_parquet(train_file_path)\n",
    "\n",
    "df.head()"
   ]
  },
  {
   "cell_type": "code",
   "execution_count": null,
   "metadata": {},
   "outputs": [],
   "source": [
    "raw_train_file_path = os.path.join(RAW_DATA_DIR, \"raw_data_batch_00000.parquet\")\n",
    "raw_df = pd.read_parquet(raw_train_file_path)\n",
    "\n",
    "raw_df.head()"
   ]
  },
  {
   "cell_type": "code",
   "execution_count": null,
   "metadata": {},
   "outputs": [],
   "source": [
    "# role percentages\n",
    "role_percentages = pickle.load(open(CHAMPION_FEATURES_PATH, \"rb\"))\n",
    "\n",
    "for champion_id, percentages in role_percentages.items():\n",
    "    print(f\"{champion_id}\")\n",
    "    for role, percentage in percentages.items():\n",
    "        print(f\"    {role}: {percentage:.2%}\")\n",
    "\n"
   ]
  }
 ],
 "metadata": {
  "kernelspec": {
   "display_name": "venv",
   "language": "python",
   "name": "python3"
  },
  "language_info": {
   "codemirror_mode": {
    "name": "ipython",
    "version": 3
   },
   "file_extension": ".py",
   "mimetype": "text/x-python",
   "name": "python",
   "nbconvert_exporter": "python",
   "pygments_lexer": "ipython3",
   "version": "3.12.6"
  }
 },
 "nbformat": 4,
 "nbformat_minor": 2
}
