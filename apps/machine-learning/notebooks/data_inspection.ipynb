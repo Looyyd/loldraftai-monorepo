{
 "cells": [
  {
   "cell_type": "code",
   "execution_count": null,
   "metadata": {},
   "outputs": [],
   "source": [
    "import pandas as pd\n",
    "import os\n",
    "import pickle\n",
    "from utils.match_prediction import PREPARED_DATA_DIR, RAW_DATA_DIR, RAW_AZURE_DIR\n",
    "\n",
    "# Load the Parquet file\n",
    "\n",
    "train_file_path = os.path.join(PREPARED_DATA_DIR, \"train\", \"train_0.parquet\")\n",
    "df = pd.read_parquet(train_file_path)\n",
    "\n",
    "df.head()"
   ]
  },
  {
   "cell_type": "code",
   "execution_count": null,
   "metadata": {},
   "outputs": [],
   "source": [
    "for col in df.columns:\n",
    "    print(col)\n"
   ]
  },
  {
   "cell_type": "code",
   "execution_count": null,
   "metadata": {},
   "outputs": [],
   "source": [
    "import tqdm\n",
    "import glob\n",
    "\n",
    "import matplotlib.pyplot as plt\n",
    "import seaborn as sns\n",
    "\n",
    "# Initialize counters\n",
    "elo_counts: dict[int, int] = {}\n",
    "patch_counts: dict[float, int] = {}\n",
    "\n",
    "# Aggregate counts across all files\n",
    "input_files = glob.glob(os.path.join(PREPARED_DATA_DIR, \"train\", \"*.parquet\"))\n",
    "for file_path in tqdm.tqdm(input_files):\n",
    "    df = pd.read_parquet(file_path)\n",
    "    \n",
    "    # Update elo counts\n",
    "    file_elo_counts = df[\"numerical_elo\"].value_counts().to_dict()\n",
    "    for elo, count in file_elo_counts.items():\n",
    "        elo_counts[elo] = elo_counts.get(elo, 0) + count\n",
    "    \n",
    "    # Update patch counts\n",
    "    file_patch_counts = df[\"numerical_patch\"].value_counts().to_dict()\n",
    "    for patch, count in file_patch_counts.items():\n",
    "        patch_counts[patch] = patch_counts.get(patch, 0) + count\n",
    "\n",
    "# Convert to DataFrames for easier plotting\n",
    "elo_df = pd.DataFrame(list(elo_counts.items()), columns=['Elo', 'Count']).sort_values('Elo')\n",
    "patch_df = pd.DataFrame(list(patch_counts.items()), columns=['Patch', 'Count']).sort_values('Patch')\n",
    "\n",
    "# Print total counts\n",
    "print(\"\\nTotal games per Elo:\")\n",
    "print(elo_df.to_string(index=False))\n",
    "print(\"\\nTotal games per Patch:\")\n",
    "print(patch_df.to_string(index=False))\n",
    "\n",
    "# Create plots\n",
    "fig, (ax1, ax2) = plt.subplots(2, 1, figsize=(12, 10))\n",
    "\n",
    "# Elo distribution plot\n",
    "sns.barplot(data=elo_df, x='Elo', y='Count', ax=ax1)\n",
    "ax1.set_title('Distribution of Games by Elo')\n",
    "ax1.set_xlabel('Numerical Elo')\n",
    "ax1.set_ylabel('Number of Games')\n",
    "ax1.tick_params(axis='x', rotation=45)\n",
    "\n",
    "# Patch distribution plot\n",
    "sns.barplot(data=patch_df, x='Patch', y='Count', ax=ax2)\n",
    "ax2.set_title('Distribution of Games by Patch')\n",
    "ax2.set_xlabel('Numerical Patch')\n",
    "ax2.set_ylabel('Number of Games')\n",
    "ax2.tick_params(axis='x', rotation=45)\n",
    "\n",
    "plt.tight_layout()\n",
    "plt.show()\n"
   ]
  },
  {
   "cell_type": "code",
   "execution_count": null,
   "metadata": {},
   "outputs": [],
   "source": [
    "file_from_azure = os.path.join(RAW_AZURE_DIR, \"2024-11-04T23-05-22-368Z.parquet\")\n",
    "df_from_azure = pd.read_parquet(file_from_azure)\n",
    "\n",
    "df_from_azure.head()\n"
   ]
  },
  {
   "cell_type": "code",
   "execution_count": null,
   "metadata": {},
   "outputs": [],
   "source": [
    "for col in df_from_azure.columns:\n",
    "    print(col)\n"
   ]
  },
  {
   "cell_type": "code",
   "execution_count": null,
   "metadata": {},
   "outputs": [],
   "source": []
  }
 ],
 "metadata": {
  "kernelspec": {
   "display_name": ".venv",
   "language": "python",
   "name": "python3"
  },
  "language_info": {
   "codemirror_mode": {
    "name": "ipython",
    "version": 3
   },
   "file_extension": ".py",
   "mimetype": "text/x-python",
   "name": "python",
   "nbconvert_exporter": "python",
   "pygments_lexer": "ipython3",
   "version": "3.12.9"
  }
 },
 "nbformat": 4,
 "nbformat_minor": 2
}
