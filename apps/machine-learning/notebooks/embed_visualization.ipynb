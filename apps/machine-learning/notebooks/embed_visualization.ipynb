{
 "cells": [
  {
   "cell_type": "code",
   "execution_count": 7,
   "metadata": {},
   "outputs": [
    {
     "name": "stdout",
     "output_type": "stream",
     "text": [
      "Model dimensions:\n",
      "- Categorical features: 1\n",
      "- Champion positions: 10\n",
      "- Numerical features projection: 1\n",
      "- Total embedded features: 13\n",
      "- Embedding dimension: 128\n",
      "- MLP input dimension: 1664\n",
      "num_patches: 23\n"
     ]
    },
    {
     "data": {
      "application/vnd.plotly.v1+json": {
       "config": {
        "plotlyServerURL": "https://plot.ly"
       },
       "data": [
        {
         "customdata": [
          [
           "Annie",
           "707.00"
          ],
          [
           "Annie",
           "708.00"
          ],
          [
           "Annie",
           "709.00"
          ],
          [
           "Annie",
           "710.00"
          ],
          [
           "Annie",
           "711.00"
          ],
          [
           "Annie",
           "712.00"
          ],
          [
           "Annie",
           "713.00"
          ],
          [
           "Annie",
           "714.00"
          ],
          [
           "Annie",
           "715.00"
          ],
          [
           "Annie",
           "716.00"
          ],
          [
           "Annie",
           "717.00"
          ],
          [
           "Annie",
           "718.00"
          ],
          [
           "Annie",
           "719.00"
          ],
          [
           "Annie",
           "720.00"
          ],
          [
           "Annie",
           "721.00"
          ],
          [
           "Annie",
           "722.00"
          ],
          [
           "Annie",
           "723.00"
          ],
          [
           "Annie",
           "724.00"
          ],
          [
           "Annie",
           "751.00"
          ],
          [
           "Annie",
           "752.00"
          ],
          [
           "Annie",
           "753.00"
          ],
          [
           "Annie",
           "754.00"
          ],
          [
           "Annie",
           "755.00"
          ]
         ],
         "hovertemplate": "Champion=%{customdata[0]}<br>t-SNE Component 1=%{x}<br>t-SNE Component 2=%{y}<br>Patch=%{customdata[1]}<extra></extra>",
         "legendgroup": "Annie",
         "marker": {
          "color": "#636efa",
          "size": 8,
          "symbol": "circle"
         },
         "mode": "markers",
         "name": "Annie",
         "showlegend": true,
         "type": "scattergl",
         "x": {
          "bdata": "nU/nQTNH6EHgQuhB30LoQTNH6EHTQuhB00LoQdhC6EEzR+hB0kLoQdJC6EHTQuhB00LoQd5C6EHeQuhB3kLoQeFC6EHeQuhB5ULoQX+76EF/u+hBf7voQX+76EE=",
          "dtype": "f4"
         },
         "xaxis": "x",
         "y": {
          "bdata": "WQazQWgvu0F/LrtBgi67QWkvu0GDLrtBhC67QY0uu0FqL7tBhS67QYUuu0GFLrtBiS67QYIuu0GDLrtBgy67QYQuu0GDLrtBhy67QZFCu0GQQrtBkEK7QZBCu0E=",
          "dtype": "f4"
         },
         "yaxis": "y"
        },
        {
         "customdata": [
          [
           "Kayle",
           "707.00"
          ],
          [
           "Kayle",
           "708.00"
          ],
          [
           "Kayle",
           "709.00"
          ],
          [
           "Kayle",
           "710.00"
          ],
          [
           "Kayle",
           "711.00"
          ],
          [
           "Kayle",
           "712.00"
          ],
          [
           "Kayle",
           "713.00"
          ],
          [
           "Kayle",
           "714.00"
          ],
          [
           "Kayle",
           "715.00"
          ],
          [
           "Kayle",
           "716.00"
          ],
          [
           "Kayle",
           "717.00"
          ],
          [
           "Kayle",
           "718.00"
          ],
          [
           "Kayle",
           "719.00"
          ],
          [
           "Kayle",
           "720.00"
          ],
          [
           "Kayle",
           "721.00"
          ],
          [
           "Kayle",
           "722.00"
          ],
          [
           "Kayle",
           "723.00"
          ],
          [
           "Kayle",
           "724.00"
          ],
          [
           "Kayle",
           "751.00"
          ],
          [
           "Kayle",
           "752.00"
          ],
          [
           "Kayle",
           "753.00"
          ],
          [
           "Kayle",
           "754.00"
          ],
          [
           "Kayle",
           "755.00"
          ]
         ],
         "hovertemplate": "Champion=%{customdata[0]}<br>t-SNE Component 1=%{x}<br>t-SNE Component 2=%{y}<br>Patch=%{customdata[1]}<extra></extra>",
         "legendgroup": "Kayle",
         "marker": {
          "color": "#EF553B",
          "size": 8,
          "symbol": "circle"
         },
         "mode": "markers",
         "name": "Kayle",
         "showlegend": true,
         "type": "scattergl",
         "x": {
          "bdata": "DrauQQLZtkHp2LZBJNm2QU3ZtkFM2bZB/ti2QU3ZtkFN2bZBTdm2QU7ZtkFN2bZBTtm2QU7ZtkFO2bZB59m2QU7ZtkHn2bZB59m2QU7ZtkFO2bZBTtm2QU7ZtkE=",
          "dtype": "f4"
         },
         "xaxis": "x",
         "y": {
          "bdata": "JkvEQSDBxUFFwsVBrL/FQaO/xUGjv8VBQsLFQaO/xUGjv8VBo7/FQaS/xUGjv8VBpL/FQaS/xUGkv8VBAsLFQaS/xUECwsVBAsLFQaS/xUGkv8VBpL/FQaS/xUE=",
          "dtype": "f4"
         },
         "yaxis": "y"
        },
        {
         "customdata": [
          [
           "Xerath",
           "707.00"
          ],
          [
           "Xerath",
           "708.00"
          ],
          [
           "Xerath",
           "709.00"
          ],
          [
           "Xerath",
           "710.00"
          ],
          [
           "Xerath",
           "711.00"
          ],
          [
           "Xerath",
           "712.00"
          ],
          [
           "Xerath",
           "713.00"
          ],
          [
           "Xerath",
           "714.00"
          ],
          [
           "Xerath",
           "715.00"
          ],
          [
           "Xerath",
           "716.00"
          ],
          [
           "Xerath",
           "717.00"
          ],
          [
           "Xerath",
           "718.00"
          ],
          [
           "Xerath",
           "719.00"
          ],
          [
           "Xerath",
           "720.00"
          ],
          [
           "Xerath",
           "721.00"
          ],
          [
           "Xerath",
           "722.00"
          ],
          [
           "Xerath",
           "723.00"
          ],
          [
           "Xerath",
           "724.00"
          ],
          [
           "Xerath",
           "751.00"
          ],
          [
           "Xerath",
           "752.00"
          ],
          [
           "Xerath",
           "753.00"
          ],
          [
           "Xerath",
           "754.00"
          ],
          [
           "Xerath",
           "755.00"
          ]
         ],
         "hovertemplate": "Champion=%{customdata[0]}<br>t-SNE Component 1=%{x}<br>t-SNE Component 2=%{y}<br>Patch=%{customdata[1]}<extra></extra>",
         "legendgroup": "Xerath",
         "marker": {
          "color": "#00cc96",
          "size": 8,
          "symbol": "circle"
         },
         "mode": "markers",
         "name": "Xerath",
         "showlegend": true,
         "type": "scattergl",
         "x": {
          "bdata": "weKOQh3/jkIj/45CKf+OQh//jkIj/45CKf+OQiP/jkIj/45CKP+OQh7/jkIo/45CKP+OQh7/jkIp/45CKf+OQh7/jkIp/45CiP+OQgL+jkIC/o5CKv6OQir+jkI=",
          "dtype": "f4"
         },
         "xaxis": "x",
         "y": {
          "bdata": "fp+GQAmVS0DTlUtAzpVLQAGVS0DOlUtAx5VLQMqVS0DKlUtAxZVLQPyUS0DElUtAxJVLQPyUS0DClUtAwpVLQPiUS0DBlUtAfINLQLa3S0C2t0tAwqZLQMKmS0A=",
          "dtype": "f4"
         },
         "yaxis": "y"
        },
        {
         "customdata": [
          [
           "Shyvana",
           "707.00"
          ],
          [
           "Shyvana",
           "708.00"
          ],
          [
           "Shyvana",
           "709.00"
          ],
          [
           "Shyvana",
           "710.00"
          ],
          [
           "Shyvana",
           "711.00"
          ],
          [
           "Shyvana",
           "712.00"
          ],
          [
           "Shyvana",
           "713.00"
          ],
          [
           "Shyvana",
           "714.00"
          ],
          [
           "Shyvana",
           "715.00"
          ],
          [
           "Shyvana",
           "716.00"
          ],
          [
           "Shyvana",
           "717.00"
          ],
          [
           "Shyvana",
           "718.00"
          ],
          [
           "Shyvana",
           "719.00"
          ],
          [
           "Shyvana",
           "720.00"
          ],
          [
           "Shyvana",
           "721.00"
          ],
          [
           "Shyvana",
           "722.00"
          ],
          [
           "Shyvana",
           "723.00"
          ],
          [
           "Shyvana",
           "724.00"
          ],
          [
           "Shyvana",
           "751.00"
          ],
          [
           "Shyvana",
           "752.00"
          ],
          [
           "Shyvana",
           "753.00"
          ],
          [
           "Shyvana",
           "754.00"
          ],
          [
           "Shyvana",
           "755.00"
          ]
         ],
         "hovertemplate": "Champion=%{customdata[0]}<br>t-SNE Component 1=%{x}<br>t-SNE Component 2=%{y}<br>Patch=%{customdata[1]}<extra></extra>",
         "legendgroup": "Shyvana",
         "marker": {
          "color": "#ab63fa",
          "size": 8,
          "symbol": "circle"
         },
         "mode": "markers",
         "name": "Shyvana",
         "showlegend": true,
         "type": "scattergl",
         "x": {
          "bdata": "6tAMwsfACMLLwAjCx8AIwsfACMLHwAjCucAIwszACMK6wAjCyMAIwszACMLMwAjCzMAIwszACMLMwAjCysAIwszACMJ6vwjCtMAIwrmECMKBgwjCfoQIwn+DCMI=",
          "dtype": "f4"
         },
         "xaxis": "x",
         "y": {
          "bdata": "gvIWwGcAE8BlABPAZwATwGgAE8BmABPAZQATwG8AE8BoABPAfwATwGgAE8BrABPAagATwGkAE8BpABPAagATwGoAE8CGBxPAVwkTwI4RFsC/HxbAoh4WwJ4aFsA=",
          "dtype": "f4"
         },
         "yaxis": "y"
        },
        {
         "customdata": [
          [
           "Ahri",
           "707.00"
          ],
          [
           "Ahri",
           "708.00"
          ],
          [
           "Ahri",
           "709.00"
          ],
          [
           "Ahri",
           "710.00"
          ],
          [
           "Ahri",
           "711.00"
          ],
          [
           "Ahri",
           "712.00"
          ],
          [
           "Ahri",
           "713.00"
          ],
          [
           "Ahri",
           "714.00"
          ],
          [
           "Ahri",
           "715.00"
          ],
          [
           "Ahri",
           "716.00"
          ],
          [
           "Ahri",
           "717.00"
          ],
          [
           "Ahri",
           "718.00"
          ],
          [
           "Ahri",
           "719.00"
          ],
          [
           "Ahri",
           "720.00"
          ],
          [
           "Ahri",
           "721.00"
          ],
          [
           "Ahri",
           "722.00"
          ],
          [
           "Ahri",
           "723.00"
          ],
          [
           "Ahri",
           "724.00"
          ],
          [
           "Ahri",
           "751.00"
          ],
          [
           "Ahri",
           "752.00"
          ],
          [
           "Ahri",
           "753.00"
          ],
          [
           "Ahri",
           "754.00"
          ],
          [
           "Ahri",
           "755.00"
          ]
         ],
         "hovertemplate": "Champion=%{customdata[0]}<br>t-SNE Component 1=%{x}<br>t-SNE Component 2=%{y}<br>Patch=%{customdata[1]}<extra></extra>",
         "legendgroup": "Ahri",
         "marker": {
          "color": "#FFA15A",
          "size": 8,
          "symbol": "circle"
         },
         "mode": "markers",
         "name": "Ahri",
         "showlegend": true,
         "type": "scattergl",
         "x": {
          "bdata": "dP0MQpDpCUKQ6QlCZekJQl7pCUKP6QlCYOkJQmDpCUKP6QlCXekJQlrpCUKO6QlCjukJQl3pCUJg6QlCXekJQlrpCUKO6QlCWekJQlbpCUKO6QlCjukJQo7pCUI=",
          "dtype": "f4"
         },
         "xaxis": "x",
         "y": {
          "bdata": "YiZuQhDscEIR7HBCCexwQuTrcEIR7HBCBOxwQt3rcEIR7HBC5utwQuDrcEIR7HBCEexwQubrcELa63BC6utwQuDrcEIR7HBC4OtwQvnrcEIR7HBCEexwQhHscEI=",
          "dtype": "f4"
         },
         "yaxis": "y"
        },
        {
         "customdata": [
          [
           "Graves",
           "707.00"
          ],
          [
           "Graves",
           "708.00"
          ],
          [
           "Graves",
           "709.00"
          ],
          [
           "Graves",
           "710.00"
          ],
          [
           "Graves",
           "711.00"
          ],
          [
           "Graves",
           "712.00"
          ],
          [
           "Graves",
           "713.00"
          ],
          [
           "Graves",
           "714.00"
          ],
          [
           "Graves",
           "715.00"
          ],
          [
           "Graves",
           "716.00"
          ],
          [
           "Graves",
           "717.00"
          ],
          [
           "Graves",
           "718.00"
          ],
          [
           "Graves",
           "719.00"
          ],
          [
           "Graves",
           "720.00"
          ],
          [
           "Graves",
           "721.00"
          ],
          [
           "Graves",
           "722.00"
          ],
          [
           "Graves",
           "723.00"
          ],
          [
           "Graves",
           "724.00"
          ],
          [
           "Graves",
           "751.00"
          ],
          [
           "Graves",
           "752.00"
          ],
          [
           "Graves",
           "753.00"
          ],
          [
           "Graves",
           "754.00"
          ],
          [
           "Graves",
           "755.00"
          ]
         ],
         "hovertemplate": "Champion=%{customdata[0]}<br>t-SNE Component 1=%{x}<br>t-SNE Component 2=%{y}<br>Patch=%{customdata[1]}<extra></extra>",
         "legendgroup": "Graves",
         "marker": {
          "color": "#19d3f3",
          "size": 8,
          "symbol": "circle"
         },
         "mode": "markers",
         "name": "Graves",
         "showlegend": true,
         "type": "scattergl",
         "x": {
          "bdata": "SPcEQu5hAkIcYgJCHGICQhxiAkJUYgJCG2ICQhpiAkIbYgJCVGICQvJhAkIaYgJCCGICQhtiAkIbYgJCVGICQhtiAkLtYQJC7WECQu1hAkJSYgJCUmICQlViAkI=",
          "dtype": "f4"
         },
         "xaxis": "x",
         "y": {
          "bdata": "iacSwjTsFcI47BXCOewVwjjsFcKe7BXCOOwVwjfsFcI57BXCnuwVwjfsFcI37BXCROwVwjjsFcI47BXCn+wVwjnsFcI17BXCNewVwjXsFcKd7BXCnewVwqDsFcI=",
          "dtype": "f4"
         },
         "yaxis": "y"
        },
        {
         "customdata": [
          [
           "Fizz",
           "707.00"
          ],
          [
           "Fizz",
           "708.00"
          ],
          [
           "Fizz",
           "709.00"
          ],
          [
           "Fizz",
           "710.00"
          ],
          [
           "Fizz",
           "711.00"
          ],
          [
           "Fizz",
           "712.00"
          ],
          [
           "Fizz",
           "713.00"
          ],
          [
           "Fizz",
           "714.00"
          ],
          [
           "Fizz",
           "715.00"
          ],
          [
           "Fizz",
           "716.00"
          ],
          [
           "Fizz",
           "717.00"
          ],
          [
           "Fizz",
           "718.00"
          ],
          [
           "Fizz",
           "719.00"
          ],
          [
           "Fizz",
           "720.00"
          ],
          [
           "Fizz",
           "721.00"
          ],
          [
           "Fizz",
           "722.00"
          ],
          [
           "Fizz",
           "723.00"
          ],
          [
           "Fizz",
           "724.00"
          ],
          [
           "Fizz",
           "751.00"
          ],
          [
           "Fizz",
           "752.00"
          ],
          [
           "Fizz",
           "753.00"
          ],
          [
           "Fizz",
           "754.00"
          ],
          [
           "Fizz",
           "755.00"
          ]
         ],
         "hovertemplate": "Champion=%{customdata[0]}<br>t-SNE Component 1=%{x}<br>t-SNE Component 2=%{y}<br>Patch=%{customdata[1]}<extra></extra>",
         "legendgroup": "Fizz",
         "marker": {
          "color": "#FF6692",
          "size": 8,
          "symbol": "circle"
         },
         "mode": "markers",
         "name": "Fizz",
         "showlegend": true,
         "type": "scattergl",
         "x": {
          "bdata": "fvR7Qc72g0HN9oNBzvaDQc32g0HP9oNBz/aDQc/2g0HR9oNBz/aDQdH2g0HR9oNB0faDQdH2g0Ea+4NBG/uDQeD2g0Hb9oNB276DQS3Yg0HbvoNB276DQebVg0E=",
          "dtype": "f4"
         },
         "xaxis": "x",
         "y": {
          "bdata": "wpBZwWc4TsFnOE7BZjhOwWU4TsFnOE7BZjhOwWU4TsFiOE7BZjhOwWE4TsFhOE7BYjhOwWE4TsHQPk7B0D5OwV04TsFdOE7BAAFNwYLATcEAAU3B/wBNwRZbTcE=",
          "dtype": "f4"
         },
         "yaxis": "y"
        },
        {
         "customdata": [
          [
           "Volibear",
           "707.00"
          ],
          [
           "Volibear",
           "708.00"
          ],
          [
           "Volibear",
           "709.00"
          ],
          [
           "Volibear",
           "710.00"
          ],
          [
           "Volibear",
           "711.00"
          ],
          [
           "Volibear",
           "712.00"
          ],
          [
           "Volibear",
           "713.00"
          ],
          [
           "Volibear",
           "714.00"
          ],
          [
           "Volibear",
           "715.00"
          ],
          [
           "Volibear",
           "716.00"
          ],
          [
           "Volibear",
           "717.00"
          ],
          [
           "Volibear",
           "718.00"
          ],
          [
           "Volibear",
           "719.00"
          ],
          [
           "Volibear",
           "720.00"
          ],
          [
           "Volibear",
           "721.00"
          ],
          [
           "Volibear",
           "722.00"
          ],
          [
           "Volibear",
           "723.00"
          ],
          [
           "Volibear",
           "724.00"
          ],
          [
           "Volibear",
           "751.00"
          ],
          [
           "Volibear",
           "752.00"
          ],
          [
           "Volibear",
           "753.00"
          ],
          [
           "Volibear",
           "754.00"
          ],
          [
           "Volibear",
           "755.00"
          ]
         ],
         "hovertemplate": "Champion=%{customdata[0]}<br>t-SNE Component 1=%{x}<br>t-SNE Component 2=%{y}<br>Patch=%{customdata[1]}<extra></extra>",
         "legendgroup": "Volibear",
         "marker": {
          "color": "#B6E880",
          "size": 8,
          "symbol": "circle"
         },
         "mode": "markers",
         "name": "Volibear",
         "showlegend": true,
         "type": "scattergl",
         "x": {
          "bdata": "qlbNwRfm08EX5tPBGObTwRfm08H55dPBF+bTwRfm08EX5tPBGObTwfvl08EK5tPB++XTwfvl08EY5tPBGObTwRjm08H559PBoubTwaHm08Gh5tPBD+jTwQ/o08E=",
          "dtype": "f4"
         },
         "xaxis": "x",
         "y": {
          "bdata": "WSm1Qe8yukHwMrpB8DK6QfAyukHzMrpB8DK6QfEyukHxMrpB8TK6QesyukH0MrpB6zK6QesyukHyMrpB8TK6QfEyukHRMLpBWTO6QVgzukFYM7pByzC6QcswukE=",
          "dtype": "f4"
         },
         "yaxis": "y"
        },
        {
         "customdata": [
          [
           "Rengar",
           "707.00"
          ],
          [
           "Rengar",
           "708.00"
          ],
          [
           "Rengar",
           "709.00"
          ],
          [
           "Rengar",
           "710.00"
          ],
          [
           "Rengar",
           "711.00"
          ],
          [
           "Rengar",
           "712.00"
          ],
          [
           "Rengar",
           "713.00"
          ],
          [
           "Rengar",
           "714.00"
          ],
          [
           "Rengar",
           "715.00"
          ],
          [
           "Rengar",
           "716.00"
          ],
          [
           "Rengar",
           "717.00"
          ],
          [
           "Rengar",
           "718.00"
          ],
          [
           "Rengar",
           "719.00"
          ],
          [
           "Rengar",
           "720.00"
          ],
          [
           "Rengar",
           "721.00"
          ],
          [
           "Rengar",
           "722.00"
          ],
          [
           "Rengar",
           "723.00"
          ],
          [
           "Rengar",
           "724.00"
          ],
          [
           "Rengar",
           "751.00"
          ],
          [
           "Rengar",
           "752.00"
          ],
          [
           "Rengar",
           "753.00"
          ],
          [
           "Rengar",
           "754.00"
          ],
          [
           "Rengar",
           "755.00"
          ]
         ],
         "hovertemplate": "Champion=%{customdata[0]}<br>t-SNE Component 1=%{x}<br>t-SNE Component 2=%{y}<br>Patch=%{customdata[1]}<extra></extra>",
         "legendgroup": "Rengar",
         "marker": {
          "color": "#FF97FF",
          "size": 8,
          "symbol": "circle"
         },
         "mode": "markers",
         "name": "Rengar",
         "showlegend": true,
         "type": "scattergl",
         "x": {
          "bdata": "+pJawA16OcBycDnAEno5wAx6OcAJejnACXo5wAp6OcBwcDnABHo5wOd5OcDleTnA5Xk5wOV5OcDleTnA5Hk5wOF5OcDceTnA4Xk5wAH8OcAB/DnAAfw5wAH8OcA=",
          "dtype": "f4"
         },
         "xaxis": "x",
         "y": {
          "bdata": "2v8TQphzEEKFdhBCmHMQQphzEEKYcxBCmHMQQphzEEKEdhBCl3MQQphzEEKdcxBCnXMQQp1zEEKdcxBCnXMQQpxzEEKbcxBCnHMQQnJqEEJyahBCcmoQQnJqEEI=",
          "dtype": "f4"
         },
         "yaxis": "y"
        },
        {
         "customdata": [
          [
           "Master Yi",
           "707.00"
          ],
          [
           "Master Yi",
           "708.00"
          ],
          [
           "Master Yi",
           "709.00"
          ],
          [
           "Master Yi",
           "710.00"
          ],
          [
           "Master Yi",
           "711.00"
          ],
          [
           "Master Yi",
           "712.00"
          ],
          [
           "Master Yi",
           "713.00"
          ],
          [
           "Master Yi",
           "714.00"
          ],
          [
           "Master Yi",
           "715.00"
          ],
          [
           "Master Yi",
           "716.00"
          ],
          [
           "Master Yi",
           "717.00"
          ],
          [
           "Master Yi",
           "718.00"
          ],
          [
           "Master Yi",
           "719.00"
          ],
          [
           "Master Yi",
           "720.00"
          ],
          [
           "Master Yi",
           "721.00"
          ],
          [
           "Master Yi",
           "722.00"
          ],
          [
           "Master Yi",
           "723.00"
          ],
          [
           "Master Yi",
           "724.00"
          ],
          [
           "Master Yi",
           "751.00"
          ],
          [
           "Master Yi",
           "752.00"
          ],
          [
           "Master Yi",
           "753.00"
          ],
          [
           "Master Yi",
           "754.00"
          ],
          [
           "Master Yi",
           "755.00"
          ]
         ],
         "hovertemplate": "Champion=%{customdata[0]}<br>t-SNE Component 1=%{x}<br>t-SNE Component 2=%{y}<br>Patch=%{customdata[1]}<extra></extra>",
         "legendgroup": "Master Yi",
         "marker": {
          "color": "#FECB52",
          "size": 8,
          "symbol": "circle"
         },
         "mode": "markers",
         "name": "Master Yi",
         "showlegend": true,
         "type": "scattergl",
         "x": {
          "bdata": "zSY1wZVHO8GERzvBXkc7wZNHO8GURzvBkUc7wWNHO8FiRzvBYkc7wWFHO8FfRzvBX0c7wWBHO8FhRzvBWkc7wWBHO8FfRzvBYEc7wWBHO8FaRzvBYEc7wV1HO8E=",
          "dtype": "f4"
         },
         "xaxis": "x",
         "y": {
          "bdata": "OEq3QCAh1kAaIdZAAyHWQCQh1kAlIdZAOSHWQAgh1kAHIdZABiHWQAgh1kAGIdZACCHWQAgh1kAJIdZACCHWQAgh1kAIIdZACCHWQAwh1kAKIdZADCHWQAwh1kA=",
          "dtype": "f4"
         },
         "yaxis": "y"
        },
        {
         "customdata": [
          [
           "Varus",
           "707.00"
          ],
          [
           "Varus",
           "708.00"
          ],
          [
           "Varus",
           "709.00"
          ],
          [
           "Varus",
           "710.00"
          ],
          [
           "Varus",
           "711.00"
          ],
          [
           "Varus",
           "712.00"
          ],
          [
           "Varus",
           "713.00"
          ],
          [
           "Varus",
           "714.00"
          ],
          [
           "Varus",
           "715.00"
          ],
          [
           "Varus",
           "716.00"
          ],
          [
           "Varus",
           "717.00"
          ],
          [
           "Varus",
           "718.00"
          ],
          [
           "Varus",
           "719.00"
          ],
          [
           "Varus",
           "720.00"
          ],
          [
           "Varus",
           "721.00"
          ],
          [
           "Varus",
           "722.00"
          ],
          [
           "Varus",
           "723.00"
          ],
          [
           "Varus",
           "724.00"
          ],
          [
           "Varus",
           "751.00"
          ],
          [
           "Varus",
           "752.00"
          ],
          [
           "Varus",
           "753.00"
          ],
          [
           "Varus",
           "754.00"
          ],
          [
           "Varus",
           "755.00"
          ]
         ],
         "hovertemplate": "Champion=%{customdata[0]}<br>t-SNE Component 1=%{x}<br>t-SNE Component 2=%{y}<br>Patch=%{customdata[1]}<extra></extra>",
         "legendgroup": "Varus",
         "marker": {
          "color": "#636efa",
          "size": 8,
          "symbol": "circle"
         },
         "mode": "markers",
         "name": "Varus",
         "showlegend": true,
         "type": "scattergl",
         "x": {
          "bdata": "hL4wQRg3QUEZN0FB8TZBQRs3QUEbN0FBNDdBQR03QUHyNkFBHDdBQRs3QUE6N0FBHTdBQRs3QUE3N0FB8TZBQfI2QUHyNkFBHDdBQURgQUGfX0FBXV1BQURgQUE=",
          "dtype": "f4"
         },
         "xaxis": "x",
         "y": {
          "bdata": "Qow0wpR1NMKVdTTCiXU0wpd1NMKXdTTCgnU0wpd1NMKJdTTCl3U0wpR1NMKCdTTCl3U0wpR1NMKAdTTCinU0wop1NMKKdTTClHU0wkFxNMJUcDTCjnE0wkFxNMI=",
          "dtype": "f4"
         },
         "yaxis": "y"
        },
        {
         "customdata": [
          [
           "Nautilus",
           "707.00"
          ],
          [
           "Nautilus",
           "708.00"
          ],
          [
           "Nautilus",
           "709.00"
          ],
          [
           "Nautilus",
           "710.00"
          ],
          [
           "Nautilus",
           "711.00"
          ],
          [
           "Nautilus",
           "712.00"
          ],
          [
           "Nautilus",
           "713.00"
          ],
          [
           "Nautilus",
           "714.00"
          ],
          [
           "Nautilus",
           "715.00"
          ],
          [
           "Nautilus",
           "716.00"
          ],
          [
           "Nautilus",
           "717.00"
          ],
          [
           "Nautilus",
           "718.00"
          ],
          [
           "Nautilus",
           "719.00"
          ],
          [
           "Nautilus",
           "720.00"
          ],
          [
           "Nautilus",
           "721.00"
          ],
          [
           "Nautilus",
           "722.00"
          ],
          [
           "Nautilus",
           "723.00"
          ],
          [
           "Nautilus",
           "724.00"
          ],
          [
           "Nautilus",
           "751.00"
          ],
          [
           "Nautilus",
           "752.00"
          ],
          [
           "Nautilus",
           "753.00"
          ],
          [
           "Nautilus",
           "754.00"
          ],
          [
           "Nautilus",
           "755.00"
          ]
         ],
         "hovertemplate": "Champion=%{customdata[0]}<br>t-SNE Component 1=%{x}<br>t-SNE Component 2=%{y}<br>Patch=%{customdata[1]}<extra></extra>",
         "legendgroup": "Nautilus",
         "marker": {
          "color": "#EF553B",
          "size": 8,
          "symbol": "circle"
         },
         "mode": "markers",
         "name": "Nautilus",
         "showlegend": true,
         "type": "scattergl",
         "x": {
          "bdata": "P4r3wQ7z78EQ8+/BC/PvwQ7z78EO8+/BDvPvwSfz78EN8+/BDfPvwTLz78Ey8+/BDfPvwTLz78Ex8+/BNPPvwTDz78EL8+/BC/Pvwccg8MHIIPDByCDwwcgg8ME=",
          "dtype": "f4"
         },
         "xaxis": "x",
         "y": {
          "bdata": "lT2JwiZ1iMIldYjCJnWIwiV1iMImdYjCJXWIwgd1iMIldYjCJXWIwvt0iML7dIjCJXWIwvt0iML6dIjCAHWIwvt0iMImdYjCJnWIwvlmiML5ZojC+WaIwvlmiMI=",
          "dtype": "f4"
         },
         "yaxis": "y"
        },
        {
         "customdata": [
          [
           "Viktor",
           "707.00"
          ],
          [
           "Viktor",
           "708.00"
          ],
          [
           "Viktor",
           "709.00"
          ],
          [
           "Viktor",
           "710.00"
          ],
          [
           "Viktor",
           "711.00"
          ],
          [
           "Viktor",
           "712.00"
          ],
          [
           "Viktor",
           "713.00"
          ],
          [
           "Viktor",
           "714.00"
          ],
          [
           "Viktor",
           "715.00"
          ],
          [
           "Viktor",
           "716.00"
          ],
          [
           "Viktor",
           "717.00"
          ],
          [
           "Viktor",
           "718.00"
          ],
          [
           "Viktor",
           "719.00"
          ],
          [
           "Viktor",
           "720.00"
          ],
          [
           "Viktor",
           "721.00"
          ],
          [
           "Viktor",
           "722.00"
          ],
          [
           "Viktor",
           "723.00"
          ],
          [
           "Viktor",
           "724.00"
          ],
          [
           "Viktor",
           "751.00"
          ],
          [
           "Viktor",
           "752.00"
          ],
          [
           "Viktor",
           "753.00"
          ],
          [
           "Viktor",
           "754.00"
          ],
          [
           "Viktor",
           "755.00"
          ]
         ],
         "hovertemplate": "Champion=%{customdata[0]}<br>t-SNE Component 1=%{x}<br>t-SNE Component 2=%{y}<br>Patch=%{customdata[1]}<extra></extra>",
         "legendgroup": "Viktor",
         "marker": {
          "color": "#00cc96",
          "size": 8,
          "symbol": "circle"
         },
         "mode": "markers",
         "name": "Viktor",
         "showlegend": true,
         "type": "scattergl",
         "x": {
          "bdata": "pfSYQpQHl0KXB5dCmAeXQpkHl0KVB5dClQeXQpgHl0KTB5dClQeXQpkHl0KYB5dCmQeXQpkHl0KZB5dClAeXQpkHl0LdBpdCmQeXQmUCl0IQA5dCEAOXQmUCl0I=",
          "dtype": "f4"
         },
         "xaxis": "x",
         "y": {
          "bdata": "msoDwCTfGsAl3xrAJN8awCHfGsAQ3xrAJd8awBzfGsAd3xrAJd8awCPfGsAk3xrAJd8awCXfGsAV3xrAFN8awCTfGsAZ7xrAI98awKkNGsBA/xnAQP8ZwKoNGsA=",
          "dtype": "f4"
         },
         "yaxis": "y"
        },
        {
         "customdata": [
          [
           "Sejuani",
           "707.00"
          ],
          [
           "Sejuani",
           "708.00"
          ],
          [
           "Sejuani",
           "709.00"
          ],
          [
           "Sejuani",
           "710.00"
          ],
          [
           "Sejuani",
           "711.00"
          ],
          [
           "Sejuani",
           "712.00"
          ],
          [
           "Sejuani",
           "713.00"
          ],
          [
           "Sejuani",
           "714.00"
          ],
          [
           "Sejuani",
           "715.00"
          ],
          [
           "Sejuani",
           "716.00"
          ],
          [
           "Sejuani",
           "717.00"
          ],
          [
           "Sejuani",
           "718.00"
          ],
          [
           "Sejuani",
           "719.00"
          ],
          [
           "Sejuani",
           "720.00"
          ],
          [
           "Sejuani",
           "721.00"
          ],
          [
           "Sejuani",
           "722.00"
          ],
          [
           "Sejuani",
           "723.00"
          ],
          [
           "Sejuani",
           "724.00"
          ],
          [
           "Sejuani",
           "751.00"
          ],
          [
           "Sejuani",
           "752.00"
          ],
          [
           "Sejuani",
           "753.00"
          ],
          [
           "Sejuani",
           "754.00"
          ],
          [
           "Sejuani",
           "755.00"
          ]
         ],
         "hovertemplate": "Champion=%{customdata[0]}<br>t-SNE Component 1=%{x}<br>t-SNE Component 2=%{y}<br>Patch=%{customdata[1]}<extra></extra>",
         "legendgroup": "Sejuani",
         "marker": {
          "color": "#ab63fa",
          "size": 8,
          "symbol": "circle"
         },
         "mode": "markers",
         "name": "Sejuani",
         "showlegend": true,
         "type": "scattergl",
         "x": {
          "bdata": "m/tLwlESTcJREk3CSRJNwlYSTcJVEk3CVhJNwloSTcJVEk3CVRJNwoISTcJWEk3CVRJNwk8STcJQEk3CVRJNwlYSTcJaEk3CVRJNwlESTcJQEk3CVhJNwlUSTcI=",
          "dtype": "f4"
         },
         "xaxis": "x",
         "y": {
          "bdata": "4zSCwYkyisGJMorBsjKKwY0yisGSMorBjTKKwY4yisGOMorBjjKKwZwyisGuMorBkTKKwakyisGNMorBjTKKwZEyisGOMorBjjKKwZMyisGOMorBkTKKwY0yisE=",
          "dtype": "f4"
         },
         "yaxis": "y"
        },
        {
         "customdata": [
          [
           "Fiora",
           "707.00"
          ],
          [
           "Fiora",
           "708.00"
          ],
          [
           "Fiora",
           "709.00"
          ],
          [
           "Fiora",
           "710.00"
          ],
          [
           "Fiora",
           "711.00"
          ],
          [
           "Fiora",
           "712.00"
          ],
          [
           "Fiora",
           "713.00"
          ],
          [
           "Fiora",
           "714.00"
          ],
          [
           "Fiora",
           "715.00"
          ],
          [
           "Fiora",
           "716.00"
          ],
          [
           "Fiora",
           "717.00"
          ],
          [
           "Fiora",
           "718.00"
          ],
          [
           "Fiora",
           "719.00"
          ],
          [
           "Fiora",
           "720.00"
          ],
          [
           "Fiora",
           "721.00"
          ],
          [
           "Fiora",
           "722.00"
          ],
          [
           "Fiora",
           "723.00"
          ],
          [
           "Fiora",
           "724.00"
          ],
          [
           "Fiora",
           "751.00"
          ],
          [
           "Fiora",
           "752.00"
          ],
          [
           "Fiora",
           "753.00"
          ],
          [
           "Fiora",
           "754.00"
          ],
          [
           "Fiora",
           "755.00"
          ]
         ],
         "hovertemplate": "Champion=%{customdata[0]}<br>t-SNE Component 1=%{x}<br>t-SNE Component 2=%{y}<br>Patch=%{customdata[1]}<extra></extra>",
         "legendgroup": "Fiora",
         "marker": {
          "color": "#FFA15A",
          "size": 8,
          "symbol": "circle"
         },
         "mode": "markers",
         "name": "Fiora",
         "showlegend": true,
         "type": "scattergl",
         "x": {
          "bdata": "vfDMwDVI68BCSOvAH0jrwD9I68A4SOvAOkjrwDtI68A2SOvAOEjrwDhI68A8SOvAPUjrwNZH68DYR+vAOkjrwGxO68DXR+vAQkjrwNdH68A7SOvAbE7rwG1O68A=",
          "dtype": "f4"
         },
         "xaxis": "x",
         "y": {
          "bdata": "WgWGQnHchkJm3IZCbdyGQmXchkJx3IZCcdyGQnHchkJn3IZCZ9yGQmfchkJm3IZCZtyGQrzchkK83IZCZdyGQuTahkK83IZCZtyGQrzchkJl3IZC5NqGQuTahkI=",
          "dtype": "f4"
         },
         "yaxis": "y"
        },
        {
         "customdata": [
          [
           "Ziggs",
           "707.00"
          ],
          [
           "Ziggs",
           "708.00"
          ],
          [
           "Ziggs",
           "709.00"
          ],
          [
           "Ziggs",
           "710.00"
          ],
          [
           "Ziggs",
           "711.00"
          ],
          [
           "Ziggs",
           "712.00"
          ],
          [
           "Ziggs",
           "713.00"
          ],
          [
           "Ziggs",
           "714.00"
          ],
          [
           "Ziggs",
           "715.00"
          ],
          [
           "Ziggs",
           "716.00"
          ],
          [
           "Ziggs",
           "717.00"
          ],
          [
           "Ziggs",
           "718.00"
          ],
          [
           "Ziggs",
           "719.00"
          ],
          [
           "Ziggs",
           "720.00"
          ],
          [
           "Ziggs",
           "721.00"
          ],
          [
           "Ziggs",
           "722.00"
          ],
          [
           "Ziggs",
           "723.00"
          ],
          [
           "Ziggs",
           "724.00"
          ],
          [
           "Ziggs",
           "751.00"
          ],
          [
           "Ziggs",
           "752.00"
          ],
          [
           "Ziggs",
           "753.00"
          ],
          [
           "Ziggs",
           "754.00"
          ],
          [
           "Ziggs",
           "755.00"
          ]
         ],
         "hovertemplate": "Champion=%{customdata[0]}<br>t-SNE Component 1=%{x}<br>t-SNE Component 2=%{y}<br>Patch=%{customdata[1]}<extra></extra>",
         "legendgroup": "Ziggs",
         "marker": {
          "color": "#19d3f3",
          "size": 8,
          "symbol": "circle"
         },
         "mode": "markers",
         "name": "Ziggs",
         "showlegend": true,
         "type": "scattergl",
         "x": {
          "bdata": "2KmWQoXRlEKE0ZRCdNGUQnXRlEKC0ZRChNGUQoTRlEKE0ZRChNGUQnPRlEJz0ZRCeNGUQnjRlEKD0ZRCg9GUQoPRlEJ6xJRCss+UQnrElEKyz5RCc9yUQnPclEI=",
          "dtype": "f4"
         },
         "xaxis": "x",
         "y": {
          "bdata": "o6ErwVX7JMFL+yTBRPskwTb7JME6+yTBS/skwUz7JMFK+yTBS/skwUX7JMEv+yTBUPskwVD7JMFJ+yTBSvskwUr7JMHdYCTBH1wjwd1gJMEfXCPB37Yjwd+2I8E=",
          "dtype": "f4"
         },
         "yaxis": "y"
        },
        {
         "customdata": [
          [
           "Lulu",
           "707.00"
          ],
          [
           "Lulu",
           "708.00"
          ],
          [
           "Lulu",
           "709.00"
          ],
          [
           "Lulu",
           "710.00"
          ],
          [
           "Lulu",
           "711.00"
          ],
          [
           "Lulu",
           "712.00"
          ],
          [
           "Lulu",
           "713.00"
          ],
          [
           "Lulu",
           "714.00"
          ],
          [
           "Lulu",
           "715.00"
          ],
          [
           "Lulu",
           "716.00"
          ],
          [
           "Lulu",
           "717.00"
          ],
          [
           "Lulu",
           "718.00"
          ],
          [
           "Lulu",
           "719.00"
          ],
          [
           "Lulu",
           "720.00"
          ],
          [
           "Lulu",
           "721.00"
          ],
          [
           "Lulu",
           "722.00"
          ],
          [
           "Lulu",
           "723.00"
          ],
          [
           "Lulu",
           "724.00"
          ],
          [
           "Lulu",
           "751.00"
          ],
          [
           "Lulu",
           "752.00"
          ],
          [
           "Lulu",
           "753.00"
          ],
          [
           "Lulu",
           "754.00"
          ],
          [
           "Lulu",
           "755.00"
          ]
         ],
         "hovertemplate": "Champion=%{customdata[0]}<br>t-SNE Component 1=%{x}<br>t-SNE Component 2=%{y}<br>Patch=%{customdata[1]}<extra></extra>",
         "legendgroup": "Lulu",
         "marker": {
          "color": "#FF6692",
          "size": 8,
          "symbol": "circle"
         },
         "mode": "markers",
         "name": "Lulu",
         "showlegend": true,
         "type": "scattergl",
         "x": {
          "bdata": "JMQ/wVHePcFf3j3BS949wU3ePcFR3j3BUN49wU/ePcFQ3j3BUN49wVDePcFR3j3BUd49wVDePcFT3j3BRt49wUbkPcFG5D3BPbg8wVLePcE8uDzBPLg8waS7PME=",
          "dtype": "f4"
         },
         "xaxis": "x",
         "y": {
          "bdata": "CxiRwbdJmcGhSZnBtEmZwbRJmcG1SZnBtEmZwbZJmcG1SZnBtUmZwbVJmcG2SZnBtkmZwbZJmcG2SZnBp0mZwchKmcHISpnBWFaZwbZJmcFYVpnBWFaZwUlXmcE=",
          "dtype": "f4"
         },
         "yaxis": "y"
        },
        {
         "customdata": [
          [
           "Draven",
           "707.00"
          ],
          [
           "Draven",
           "708.00"
          ],
          [
           "Draven",
           "709.00"
          ],
          [
           "Draven",
           "710.00"
          ],
          [
           "Draven",
           "711.00"
          ],
          [
           "Draven",
           "712.00"
          ],
          [
           "Draven",
           "713.00"
          ],
          [
           "Draven",
           "714.00"
          ],
          [
           "Draven",
           "715.00"
          ],
          [
           "Draven",
           "716.00"
          ],
          [
           "Draven",
           "717.00"
          ],
          [
           "Draven",
           "718.00"
          ],
          [
           "Draven",
           "719.00"
          ],
          [
           "Draven",
           "720.00"
          ],
          [
           "Draven",
           "721.00"
          ],
          [
           "Draven",
           "722.00"
          ],
          [
           "Draven",
           "723.00"
          ],
          [
           "Draven",
           "724.00"
          ],
          [
           "Draven",
           "751.00"
          ],
          [
           "Draven",
           "752.00"
          ],
          [
           "Draven",
           "753.00"
          ],
          [
           "Draven",
           "754.00"
          ],
          [
           "Draven",
           "755.00"
          ]
         ],
         "hovertemplate": "Champion=%{customdata[0]}<br>t-SNE Component 1=%{x}<br>t-SNE Component 2=%{y}<br>Patch=%{customdata[1]}<extra></extra>",
         "legendgroup": "Draven",
         "marker": {
          "color": "#B6E880",
          "size": 8,
          "symbol": "circle"
         },
         "mode": "markers",
         "name": "Draven",
         "showlegend": true,
         "type": "scattergl",
         "x": {
          "bdata": "VkVBQknqPkJf6j5CS+o+QkvqPkJL6j5CSuo+QkvqPkJL6j5CTeo+QkrqPkJK6j5CS+o+Qk3qPkJd6j5CSuo+Ql3qPkJJ6j5CSeo+QknqPkJAuT5CO7k+Qj+5PkI=",
          "dtype": "f4"
         },
         "xaxis": "x",
         "y": {
          "bdata": "bSP8wZVvAcKQbwHCk28BwpNvAcKTbwHClG8BwpRvAcKUbwHCjG8BwpJvAcKSbwHClG8BwoxvAcKRbwHClG8BwpFvAcKTbwHCk28BwpNvAcJEVwHCKlcBwkRXAcI=",
          "dtype": "f4"
         },
         "yaxis": "y"
        },
        {
         "customdata": [
          [
           "Alistar",
           "707.00"
          ],
          [
           "Alistar",
           "708.00"
          ],
          [
           "Alistar",
           "709.00"
          ],
          [
           "Alistar",
           "710.00"
          ],
          [
           "Alistar",
           "711.00"
          ],
          [
           "Alistar",
           "712.00"
          ],
          [
           "Alistar",
           "713.00"
          ],
          [
           "Alistar",
           "714.00"
          ],
          [
           "Alistar",
           "715.00"
          ],
          [
           "Alistar",
           "716.00"
          ],
          [
           "Alistar",
           "717.00"
          ],
          [
           "Alistar",
           "718.00"
          ],
          [
           "Alistar",
           "719.00"
          ],
          [
           "Alistar",
           "720.00"
          ],
          [
           "Alistar",
           "721.00"
          ],
          [
           "Alistar",
           "722.00"
          ],
          [
           "Alistar",
           "723.00"
          ],
          [
           "Alistar",
           "724.00"
          ],
          [
           "Alistar",
           "751.00"
          ],
          [
           "Alistar",
           "752.00"
          ],
          [
           "Alistar",
           "753.00"
          ],
          [
           "Alistar",
           "754.00"
          ],
          [
           "Alistar",
           "755.00"
          ]
         ],
         "hovertemplate": "Champion=%{customdata[0]}<br>t-SNE Component 1=%{x}<br>t-SNE Component 2=%{y}<br>Patch=%{customdata[1]}<extra></extra>",
         "legendgroup": "Alistar",
         "marker": {
          "color": "#FF97FF",
          "size": 8,
          "symbol": "circle"
         },
         "mode": "markers",
         "name": "Alistar",
         "showlegend": true,
         "type": "scattergl",
         "x": {
          "bdata": "6sM4wT5/SME8f0jBPH9IwYl5SMFveUjBi3lIwYx5SMGMeUjBjHlIwYx5SMGMeUjBbHxIwY55SMGNeUjBjXlIwY15SMGPeUjBbXxIwXV5SMGNeUjBdXlIwW18SME=",
          "dtype": "f4"
         },
         "xaxis": "x",
         "y": {
          "bdata": "fkCGwuTqhsLl6obC5eqGwuvrhsIG7IbC6+uGwuvrhsLr64bC6+uGwuvrhsLz64bCj+qGwurrhsLz64bC6uuGwurrhsLq64bCj+qGwgjshsLs64bCCOyGwo/qhsI=",
          "dtype": "f4"
         },
         "yaxis": "y"
        },
        {
         "customdata": [
          [
           "Hecarim",
           "707.00"
          ],
          [
           "Hecarim",
           "708.00"
          ],
          [
           "Hecarim",
           "709.00"
          ],
          [
           "Hecarim",
           "710.00"
          ],
          [
           "Hecarim",
           "711.00"
          ],
          [
           "Hecarim",
           "712.00"
          ],
          [
           "Hecarim",
           "713.00"
          ],
          [
           "Hecarim",
           "714.00"
          ],
          [
           "Hecarim",
           "715.00"
          ],
          [
           "Hecarim",
           "716.00"
          ],
          [
           "Hecarim",
           "717.00"
          ],
          [
           "Hecarim",
           "718.00"
          ],
          [
           "Hecarim",
           "719.00"
          ],
          [
           "Hecarim",
           "720.00"
          ],
          [
           "Hecarim",
           "721.00"
          ],
          [
           "Hecarim",
           "722.00"
          ],
          [
           "Hecarim",
           "723.00"
          ],
          [
           "Hecarim",
           "724.00"
          ],
          [
           "Hecarim",
           "751.00"
          ],
          [
           "Hecarim",
           "752.00"
          ],
          [
           "Hecarim",
           "753.00"
          ],
          [
           "Hecarim",
           "754.00"
          ],
          [
           "Hecarim",
           "755.00"
          ]
         ],
         "hovertemplate": "Champion=%{customdata[0]}<br>t-SNE Component 1=%{x}<br>t-SNE Component 2=%{y}<br>Patch=%{customdata[1]}<extra></extra>",
         "legendgroup": "Hecarim",
         "marker": {
          "color": "#FECB52",
          "size": 8,
          "symbol": "circle"
         },
         "mode": "markers",
         "name": "Hecarim",
         "showlegend": true,
         "type": "scattergl",
         "x": {
          "bdata": "uDlfwqk6X8KpOl/CqTpfwq86X8KsOl/Crzpfwhs6X8LUOl/CGzpfwq86X8KvOl/CJztfwq86X8KvOl/Crzpfwic7X8KUOV/ChDlfwt1WX8KuV1/Crldfwq5XX8I=",
          "dtype": "f4"
         },
         "xaxis": "x",
         "y": {
          "bdata": "kBm5v/Co1b7dqNW+yajVvsmo1b69qNW+q6jVvi+N1b7CqtW+FY3Vvoio1b6JqNW+/zrVvnuo1b58qNW+bqjVvuw61b53X9S+wujUvmTtyb4Mk8q+EJPKvhCTyr4=",
          "dtype": "f4"
         },
         "yaxis": "y"
        },
        {
         "customdata": [
          [
           "Kha'Zix",
           "707.00"
          ],
          [
           "Kha'Zix",
           "708.00"
          ],
          [
           "Kha'Zix",
           "709.00"
          ],
          [
           "Kha'Zix",
           "710.00"
          ],
          [
           "Kha'Zix",
           "711.00"
          ],
          [
           "Kha'Zix",
           "712.00"
          ],
          [
           "Kha'Zix",
           "713.00"
          ],
          [
           "Kha'Zix",
           "714.00"
          ],
          [
           "Kha'Zix",
           "715.00"
          ],
          [
           "Kha'Zix",
           "716.00"
          ],
          [
           "Kha'Zix",
           "717.00"
          ],
          [
           "Kha'Zix",
           "718.00"
          ],
          [
           "Kha'Zix",
           "719.00"
          ],
          [
           "Kha'Zix",
           "720.00"
          ],
          [
           "Kha'Zix",
           "721.00"
          ],
          [
           "Kha'Zix",
           "722.00"
          ],
          [
           "Kha'Zix",
           "723.00"
          ],
          [
           "Kha'Zix",
           "724.00"
          ],
          [
           "Kha'Zix",
           "751.00"
          ],
          [
           "Kha'Zix",
           "752.00"
          ],
          [
           "Kha'Zix",
           "753.00"
          ],
          [
           "Kha'Zix",
           "754.00"
          ],
          [
           "Kha'Zix",
           "755.00"
          ]
         ],
         "hovertemplate": "Champion=%{customdata[0]}<br>t-SNE Component 1=%{x}<br>t-SNE Component 2=%{y}<br>Patch=%{customdata[1]}<extra></extra>",
         "legendgroup": "Kha'Zix",
         "marker": {
          "color": "#636efa",
          "size": 8,
          "symbol": "circle"
         },
         "mode": "markers",
         "name": "Kha'Zix",
         "showlegend": true,
         "type": "scattergl",
         "x": {
          "bdata": "TSQZwSveJsEs3ibBMN4mwTLeJsEz3ibBM94mwSLeJsEy3ibBGt4mwTLeJsEy3ibBM94mwTPeJsEu3ibBLt4mwTPeJsFz2ybBc9smwbexJsFZtCbBWbQmwVm0JsE=",
          "dtype": "f4"
         },
         "xaxis": "x",
         "y": {
          "bdata": "ijW3QYK2skGEtrJBU7ayQVW2skFUtrJBVLayQV22skFUtrJBVLayQVO2skFTtrJBVLayQVS2skGCtrJBVLayQVS2skFEvLJBRLyyQTHQskE1yrJBNcqyQTXKskE=",
          "dtype": "f4"
         },
         "yaxis": "y"
        },
        {
         "customdata": [
          [
           "Darius",
           "707.00"
          ],
          [
           "Darius",
           "708.00"
          ],
          [
           "Darius",
           "709.00"
          ],
          [
           "Darius",
           "710.00"
          ],
          [
           "Darius",
           "711.00"
          ],
          [
           "Darius",
           "712.00"
          ],
          [
           "Darius",
           "713.00"
          ],
          [
           "Darius",
           "714.00"
          ],
          [
           "Darius",
           "715.00"
          ],
          [
           "Darius",
           "716.00"
          ],
          [
           "Darius",
           "717.00"
          ],
          [
           "Darius",
           "718.00"
          ],
          [
           "Darius",
           "719.00"
          ],
          [
           "Darius",
           "720.00"
          ],
          [
           "Darius",
           "721.00"
          ],
          [
           "Darius",
           "722.00"
          ],
          [
           "Darius",
           "723.00"
          ],
          [
           "Darius",
           "724.00"
          ],
          [
           "Darius",
           "751.00"
          ],
          [
           "Darius",
           "752.00"
          ],
          [
           "Darius",
           "753.00"
          ],
          [
           "Darius",
           "754.00"
          ],
          [
           "Darius",
           "755.00"
          ]
         ],
         "hovertemplate": "Champion=%{customdata[0]}<br>t-SNE Component 1=%{x}<br>t-SNE Component 2=%{y}<br>Patch=%{customdata[1]}<extra></extra>",
         "legendgroup": "Darius",
         "marker": {
          "color": "#EF553B",
          "size": 8,
          "symbol": "circle"
         },
         "mode": "markers",
         "name": "Darius",
         "showlegend": true,
         "type": "scattergl",
         "x": {
          "bdata": "p1KxwUUirsFFIq7BSSKuwT4irsFFIq7BLiGuwUUirsFiJK7BLiGuwSMirsEjIq7BIiKuwaoersE1Iq7BIyKuwSMirsEiIq7BIiKuwS3lrcFP6K3BTuitwU/orcE=",
          "dtype": "f4"
         },
         "xaxis": "x",
         "y": {
          "bdata": "g9V9QkfPgEJIz4BCSM+AQkfPgEJJz4BCTM+AQkjPgEILz4BCTM+AQkXPgEJFz4BCRc+AQm3PgEJMz4BCRc+AQkXPgEJFz4BCRc+AQn7SgEKR0oBCkNKAQpHSgEI=",
          "dtype": "f4"
         },
         "yaxis": "y"
        },
        {
         "customdata": [
          [
           "Jayce",
           "707.00"
          ],
          [
           "Jayce",
           "708.00"
          ],
          [
           "Jayce",
           "709.00"
          ],
          [
           "Jayce",
           "710.00"
          ],
          [
           "Jayce",
           "711.00"
          ],
          [
           "Jayce",
           "712.00"
          ],
          [
           "Jayce",
           "713.00"
          ],
          [
           "Jayce",
           "714.00"
          ],
          [
           "Jayce",
           "715.00"
          ],
          [
           "Jayce",
           "716.00"
          ],
          [
           "Jayce",
           "717.00"
          ],
          [
           "Jayce",
           "718.00"
          ],
          [
           "Jayce",
           "719.00"
          ],
          [
           "Jayce",
           "720.00"
          ],
          [
           "Jayce",
           "721.00"
          ],
          [
           "Jayce",
           "722.00"
          ],
          [
           "Jayce",
           "723.00"
          ],
          [
           "Jayce",
           "724.00"
          ],
          [
           "Jayce",
           "751.00"
          ],
          [
           "Jayce",
           "752.00"
          ],
          [
           "Jayce",
           "753.00"
          ],
          [
           "Jayce",
           "754.00"
          ],
          [
           "Jayce",
           "755.00"
          ]
         ],
         "hovertemplate": "Champion=%{customdata[0]}<br>t-SNE Component 1=%{x}<br>t-SNE Component 2=%{y}<br>Patch=%{customdata[1]}<extra></extra>",
         "legendgroup": "Jayce",
         "marker": {
          "color": "#00cc96",
          "size": 8,
          "symbol": "circle"
         },
         "mode": "markers",
         "name": "Jayce",
         "showlegend": true,
         "type": "scattergl",
         "x": {
          "bdata": "iuzbwa7i28Gq4tvBruLbwari28Gp4tvBq+Lbwa/i28Gt4tvBsOLbwa3i28Gp4tvBreLbwa3i28GE4tvBr+LbwSHi28F+4tvBsOLbwVvi28GE4tvBO+fbwX7i28E=",
          "dtype": "f4"
         },
         "xaxis": "x",
         "y": {
          "bdata": "/veKwDMLrMAsC6zANQuswCwLrMA0C6zAMwuswDYLrMAwC6zANAuswDELrMAyC6zANguswDYLrMAuC6zAOguswCAKrMBQC6zAOguswCsKrMAvC6zAvxWswFALrMA=",
          "dtype": "f4"
         },
         "yaxis": "y"
        },
        {
         "customdata": [
          [
           "Lissandra",
           "707.00"
          ],
          [
           "Lissandra",
           "708.00"
          ],
          [
           "Lissandra",
           "709.00"
          ],
          [
           "Lissandra",
           "710.00"
          ],
          [
           "Lissandra",
           "711.00"
          ],
          [
           "Lissandra",
           "712.00"
          ],
          [
           "Lissandra",
           "713.00"
          ],
          [
           "Lissandra",
           "714.00"
          ],
          [
           "Lissandra",
           "715.00"
          ],
          [
           "Lissandra",
           "716.00"
          ],
          [
           "Lissandra",
           "717.00"
          ],
          [
           "Lissandra",
           "718.00"
          ],
          [
           "Lissandra",
           "719.00"
          ],
          [
           "Lissandra",
           "720.00"
          ],
          [
           "Lissandra",
           "721.00"
          ],
          [
           "Lissandra",
           "722.00"
          ],
          [
           "Lissandra",
           "723.00"
          ],
          [
           "Lissandra",
           "724.00"
          ],
          [
           "Lissandra",
           "751.00"
          ],
          [
           "Lissandra",
           "752.00"
          ],
          [
           "Lissandra",
           "753.00"
          ],
          [
           "Lissandra",
           "754.00"
          ],
          [
           "Lissandra",
           "755.00"
          ]
         ],
         "hovertemplate": "Champion=%{customdata[0]}<br>t-SNE Component 1=%{x}<br>t-SNE Component 2=%{y}<br>Patch=%{customdata[1]}<extra></extra>",
         "legendgroup": "Lissandra",
         "marker": {
          "color": "#ab63fa",
          "size": 8,
          "symbol": "circle"
         },
         "mode": "markers",
         "name": "Lissandra",
         "showlegend": true,
         "type": "scattergl",
         "x": {
          "bdata": "BAcHQst+CkLMfgpCsoIKQrKCCkKyggpCzX4KQrKCCkKsggpCFoMKQhaDCkK0ggpCsoIKQrWCCkK1ggpCtYIKQrWCCkK1ggpCFoMKQtN9CkKCfgpCgn4KQtB9CkI=",
          "dtype": "f4"
         },
         "xaxis": "x",
         "y": {
          "bdata": "HPYiQXHtK0Fy7StBttorQbnaK0G32itBc+0rQbjaK0HG2itBmNorQZnaK0G92itBvdorQbvaK0G82itBvNorQbzaK0G82itBmtorQQbhLEEB3ixBAd4sQZvfLEE=",
          "dtype": "f4"
         },
         "yaxis": "y"
        },
        {
         "customdata": [
          [
           "Ryze",
           "707.00"
          ],
          [
           "Ryze",
           "708.00"
          ],
          [
           "Ryze",
           "709.00"
          ],
          [
           "Ryze",
           "710.00"
          ],
          [
           "Ryze",
           "711.00"
          ],
          [
           "Ryze",
           "712.00"
          ],
          [
           "Ryze",
           "713.00"
          ],
          [
           "Ryze",
           "714.00"
          ],
          [
           "Ryze",
           "715.00"
          ],
          [
           "Ryze",
           "716.00"
          ],
          [
           "Ryze",
           "717.00"
          ],
          [
           "Ryze",
           "718.00"
          ],
          [
           "Ryze",
           "719.00"
          ],
          [
           "Ryze",
           "720.00"
          ],
          [
           "Ryze",
           "721.00"
          ],
          [
           "Ryze",
           "722.00"
          ],
          [
           "Ryze",
           "723.00"
          ],
          [
           "Ryze",
           "724.00"
          ],
          [
           "Ryze",
           "751.00"
          ],
          [
           "Ryze",
           "752.00"
          ],
          [
           "Ryze",
           "753.00"
          ],
          [
           "Ryze",
           "754.00"
          ],
          [
           "Ryze",
           "755.00"
          ]
         ],
         "hovertemplate": "Champion=%{customdata[0]}<br>t-SNE Component 1=%{x}<br>t-SNE Component 2=%{y}<br>Patch=%{customdata[1]}<extra></extra>",
         "legendgroup": "Ryze",
         "marker": {
          "color": "#FFA15A",
          "size": 8,
          "symbol": "circle"
         },
         "mode": "markers",
         "name": "Ryze",
         "showlegend": true,
         "type": "scattergl",
         "x": {
          "bdata": "TJFkQkflYEJH5WBC/+NgQkPlYEL+42BC/+NgQvzjYEL742BC++NgQv3jYEL842BC/ONgQorjYEL642BC/ONgQv3jYEL842BCns9gQvfoYEKp1GBCH9RgQqnUYEI=",
          "dtype": "f4"
         },
         "xaxis": "x",
         "y": {
          "bdata": "Dj2MQfyriEH7q4hBOKyIQS2siEElrIhBOKyIQWisiEFUrIhBVKyIQSWsiEEorIhBKKyIQcuriEFrrIhBUqyIQTWsiEFSrIhBjNiIQS6tiEE72ohBCNqIQTvaiEE=",
          "dtype": "f4"
         },
         "yaxis": "y"
        },
        {
         "customdata": [
          [
           "Diana",
           "707.00"
          ],
          [
           "Diana",
           "708.00"
          ],
          [
           "Diana",
           "709.00"
          ],
          [
           "Diana",
           "710.00"
          ],
          [
           "Diana",
           "711.00"
          ],
          [
           "Diana",
           "712.00"
          ],
          [
           "Diana",
           "713.00"
          ],
          [
           "Diana",
           "714.00"
          ],
          [
           "Diana",
           "715.00"
          ],
          [
           "Diana",
           "716.00"
          ],
          [
           "Diana",
           "717.00"
          ],
          [
           "Diana",
           "718.00"
          ],
          [
           "Diana",
           "719.00"
          ],
          [
           "Diana",
           "720.00"
          ],
          [
           "Diana",
           "721.00"
          ],
          [
           "Diana",
           "722.00"
          ],
          [
           "Diana",
           "723.00"
          ],
          [
           "Diana",
           "724.00"
          ],
          [
           "Diana",
           "751.00"
          ],
          [
           "Diana",
           "752.00"
          ],
          [
           "Diana",
           "753.00"
          ],
          [
           "Diana",
           "754.00"
          ],
          [
           "Diana",
           "755.00"
          ]
         ],
         "hovertemplate": "Champion=%{customdata[0]}<br>t-SNE Component 1=%{x}<br>t-SNE Component 2=%{y}<br>Patch=%{customdata[1]}<extra></extra>",
         "legendgroup": "Diana",
         "marker": {
          "color": "#19d3f3",
          "size": 8,
          "symbol": "circle"
         },
         "mode": "markers",
         "name": "Diana",
         "showlegend": true,
         "type": "scattergl",
         "x": {
          "bdata": "sPxwQeqxbEHpsWxB4LFsQeqxbEHrsWxB6bFsQeuxbEHnsWxB6LFsQemxbEHtsWxB37FsQd+xbEHfsWxB3bFsQeuxbEGst2xBrLdsQQTlbEEE5WxBBOVsQQfqbEE=",
          "dtype": "f4"
         },
         "xaxis": "x",
         "y": {
          "bdata": "jbX0QPyy1ED8stRA9rLUQPqy1ED6stRA+LLUQPiy1ED3stRA9rLUQPay1ED3stRA9bLUQPSy1ED0stRA9LLUQPWy1ECco9RAnKPUQMxJ1EDLSdRAy0nUQAQ81EA=",
          "dtype": "f4"
         },
         "yaxis": "y"
        },
        {
         "customdata": [
          [
           "Quinn",
           "707.00"
          ],
          [
           "Quinn",
           "708.00"
          ],
          [
           "Quinn",
           "709.00"
          ],
          [
           "Quinn",
           "710.00"
          ],
          [
           "Quinn",
           "711.00"
          ],
          [
           "Quinn",
           "712.00"
          ],
          [
           "Quinn",
           "713.00"
          ],
          [
           "Quinn",
           "714.00"
          ],
          [
           "Quinn",
           "715.00"
          ],
          [
           "Quinn",
           "716.00"
          ],
          [
           "Quinn",
           "717.00"
          ],
          [
           "Quinn",
           "718.00"
          ],
          [
           "Quinn",
           "719.00"
          ],
          [
           "Quinn",
           "720.00"
          ],
          [
           "Quinn",
           "721.00"
          ],
          [
           "Quinn",
           "722.00"
          ],
          [
           "Quinn",
           "723.00"
          ],
          [
           "Quinn",
           "724.00"
          ],
          [
           "Quinn",
           "751.00"
          ],
          [
           "Quinn",
           "752.00"
          ],
          [
           "Quinn",
           "753.00"
          ],
          [
           "Quinn",
           "754.00"
          ],
          [
           "Quinn",
           "755.00"
          ]
         ],
         "hovertemplate": "Champion=%{customdata[0]}<br>t-SNE Component 1=%{x}<br>t-SNE Component 2=%{y}<br>Patch=%{customdata[1]}<extra></extra>",
         "legendgroup": "Quinn",
         "marker": {
          "color": "#FF6692",
          "size": 8,
          "symbol": "circle"
         },
         "mode": "markers",
         "name": "Quinn",
         "showlegend": true,
         "type": "scattergl",
         "x": {
          "bdata": "Gv7NQJHtt0CO7bdA2+y3QNnst0Di7LdA6ey3QOTst0Dk7LdA5uy3QOfst0AQ7bdA2+y3QOjst0DL7LdAzOy3QOXst0Dl7LdA4ey3QDqHt0A8h7dAPYe3QEmHt0A=",
          "dtype": "f4"
         },
         "xaxis": "x",
         "y": {
          "bdata": "VRvaQUwi4EFMIuBBtybgQbcm4EG9JuBBwibgQcEm4EHBJuBBxSbgQcUm4EHZJuBBtybgQcYm4EG5JuBBtibgQcYm4EHIJuBBwibgQTdI4EE3SOBBN0jgQT9I4EE=",
          "dtype": "f4"
         },
         "yaxis": "y"
        },
        {
         "customdata": [
          [
           "Syndra",
           "707.00"
          ],
          [
           "Syndra",
           "708.00"
          ],
          [
           "Syndra",
           "709.00"
          ],
          [
           "Syndra",
           "710.00"
          ],
          [
           "Syndra",
           "711.00"
          ],
          [
           "Syndra",
           "712.00"
          ],
          [
           "Syndra",
           "713.00"
          ],
          [
           "Syndra",
           "714.00"
          ],
          [
           "Syndra",
           "715.00"
          ],
          [
           "Syndra",
           "716.00"
          ],
          [
           "Syndra",
           "717.00"
          ],
          [
           "Syndra",
           "718.00"
          ],
          [
           "Syndra",
           "719.00"
          ],
          [
           "Syndra",
           "720.00"
          ],
          [
           "Syndra",
           "721.00"
          ],
          [
           "Syndra",
           "722.00"
          ],
          [
           "Syndra",
           "723.00"
          ],
          [
           "Syndra",
           "724.00"
          ],
          [
           "Syndra",
           "751.00"
          ],
          [
           "Syndra",
           "752.00"
          ],
          [
           "Syndra",
           "753.00"
          ],
          [
           "Syndra",
           "754.00"
          ],
          [
           "Syndra",
           "755.00"
          ]
         ],
         "hovertemplate": "Champion=%{customdata[0]}<br>t-SNE Component 1=%{x}<br>t-SNE Component 2=%{y}<br>Patch=%{customdata[1]}<extra></extra>",
         "legendgroup": "Syndra",
         "marker": {
          "color": "#B6E880",
          "size": 8,
          "symbol": "circle"
         },
         "mode": "markers",
         "name": "Syndra",
         "showlegend": true,
         "type": "scattergl",
         "x": {
          "bdata": "S1DtQU+K5UFJiuVBT4rlQVCK5UFViuVBWorlQViK5UFLiuVBVorlQUuK5UFZiuVBWIrlQVWK5UFTiuVBV4rlQVeK5UFXiuVBV4rlQRma5UEZmuVBGZrlQRma5UE=",
          "dtype": "f4"
         },
         "xaxis": "x",
         "y": {
          "bdata": "zlkxQmAUMEJgFDBCYRQwQmAUMEJGFDBCThQwQkwUMEJkFDBCSxQwQmQUMEJOFDBCThQwQkYUMEJGFDBCTRQwQk0UMEJNFDBCTRQwQtkIMELZCDBC2QgwQtkIMEI=",
          "dtype": "f4"
         },
         "yaxis": "y"
        },
        {
         "customdata": [
          [
           "Aurelion Sol",
           "707.00"
          ],
          [
           "Aurelion Sol",
           "708.00"
          ],
          [
           "Aurelion Sol",
           "709.00"
          ],
          [
           "Aurelion Sol",
           "710.00"
          ],
          [
           "Aurelion Sol",
           "711.00"
          ],
          [
           "Aurelion Sol",
           "712.00"
          ],
          [
           "Aurelion Sol",
           "713.00"
          ],
          [
           "Aurelion Sol",
           "714.00"
          ],
          [
           "Aurelion Sol",
           "715.00"
          ],
          [
           "Aurelion Sol",
           "716.00"
          ],
          [
           "Aurelion Sol",
           "717.00"
          ],
          [
           "Aurelion Sol",
           "718.00"
          ],
          [
           "Aurelion Sol",
           "719.00"
          ],
          [
           "Aurelion Sol",
           "720.00"
          ],
          [
           "Aurelion Sol",
           "721.00"
          ],
          [
           "Aurelion Sol",
           "722.00"
          ],
          [
           "Aurelion Sol",
           "723.00"
          ],
          [
           "Aurelion Sol",
           "724.00"
          ],
          [
           "Aurelion Sol",
           "751.00"
          ],
          [
           "Aurelion Sol",
           "752.00"
          ],
          [
           "Aurelion Sol",
           "753.00"
          ],
          [
           "Aurelion Sol",
           "754.00"
          ],
          [
           "Aurelion Sol",
           "755.00"
          ]
         ],
         "hovertemplate": "Champion=%{customdata[0]}<br>t-SNE Component 1=%{x}<br>t-SNE Component 2=%{y}<br>Patch=%{customdata[1]}<extra></extra>",
         "legendgroup": "Aurelion Sol",
         "marker": {
          "color": "#FF97FF",
          "size": 8,
          "symbol": "circle"
         },
         "mode": "markers",
         "name": "Aurelion Sol",
         "showlegend": true,
         "type": "scattergl",
         "x": {
          "bdata": "nkWYQppnlkKdZ5ZCnWeWQpxnlkKcZ5ZCnGeWQpxnlkKcZ5ZClGeWQp1nlkKbZ5ZCnWeWQpZnlkKdZ5ZCnWeWQptnlkKgZ5ZCnGeWQpxnlkKcZ5ZCnmeWQp5nlkI=",
          "dtype": "f4"
         },
         "xaxis": "x",
         "y": {
          "bdata": "gXilQXjxqEFr8ahBY/GoQWfxqEFq8ahBaPGoQWzxqEF98ahBcfGoQW3xqEFp8ahBbvGoQX7xqEFp8ahBbvGoQWnxqEGM8ahBhPGoQYTxqEFq8ahBh/GoQYfxqEE=",
          "dtype": "f4"
         },
         "yaxis": "y"
        },
        {
         "customdata": [
          [
           "Sion",
           "707.00"
          ],
          [
           "Sion",
           "708.00"
          ],
          [
           "Sion",
           "709.00"
          ],
          [
           "Sion",
           "710.00"
          ],
          [
           "Sion",
           "711.00"
          ],
          [
           "Sion",
           "712.00"
          ],
          [
           "Sion",
           "713.00"
          ],
          [
           "Sion",
           "714.00"
          ],
          [
           "Sion",
           "715.00"
          ],
          [
           "Sion",
           "716.00"
          ],
          [
           "Sion",
           "717.00"
          ],
          [
           "Sion",
           "718.00"
          ],
          [
           "Sion",
           "719.00"
          ],
          [
           "Sion",
           "720.00"
          ],
          [
           "Sion",
           "721.00"
          ],
          [
           "Sion",
           "722.00"
          ],
          [
           "Sion",
           "723.00"
          ],
          [
           "Sion",
           "724.00"
          ],
          [
           "Sion",
           "751.00"
          ],
          [
           "Sion",
           "752.00"
          ],
          [
           "Sion",
           "753.00"
          ],
          [
           "Sion",
           "754.00"
          ],
          [
           "Sion",
           "755.00"
          ]
         ],
         "hovertemplate": "Champion=%{customdata[0]}<br>t-SNE Component 1=%{x}<br>t-SNE Component 2=%{y}<br>Patch=%{customdata[1]}<extra></extra>",
         "legendgroup": "Sion",
         "marker": {
          "color": "#FECB52",
          "size": 8,
          "symbol": "circle"
         },
         "mode": "markers",
         "name": "Sion",
         "showlegend": true,
         "type": "scattergl",
         "x": {
          "bdata": "OlpIwjROTMItTkzCNE5MwjROTMIjTkzCLk5MwjtOTMIuTkzCO05MwjtOTML1T0zC9U9MwjtOTMI7TkzCO05MwjtOTMI7TkzC9k9Mwp1nTMKdZ0zCnWdMwp1nTMI=",
          "dtype": "f4"
         },
         "xaxis": "x",
         "y": {
          "bdata": "QWC6wR31t8Ek9bfBHfW3wR31t8Ei9bfBI/W3wRz1t8Eh9bfBHvW3wR71t8Fq9rfBava3wRz1t8Ed9bfBHfW3wRz1t8Ed9bfBbPa3wbfTt8G307fBt9O3wbfTt8E=",
          "dtype": "f4"
         },
         "yaxis": "y"
        },
        {
         "customdata": [
          [
           "Kayn",
           "707.00"
          ],
          [
           "Kayn",
           "708.00"
          ],
          [
           "Kayn",
           "709.00"
          ],
          [
           "Kayn",
           "710.00"
          ],
          [
           "Kayn",
           "711.00"
          ],
          [
           "Kayn",
           "712.00"
          ],
          [
           "Kayn",
           "713.00"
          ],
          [
           "Kayn",
           "714.00"
          ],
          [
           "Kayn",
           "715.00"
          ],
          [
           "Kayn",
           "716.00"
          ],
          [
           "Kayn",
           "717.00"
          ],
          [
           "Kayn",
           "718.00"
          ],
          [
           "Kayn",
           "719.00"
          ],
          [
           "Kayn",
           "720.00"
          ],
          [
           "Kayn",
           "721.00"
          ],
          [
           "Kayn",
           "722.00"
          ],
          [
           "Kayn",
           "723.00"
          ],
          [
           "Kayn",
           "724.00"
          ],
          [
           "Kayn",
           "751.00"
          ],
          [
           "Kayn",
           "752.00"
          ],
          [
           "Kayn",
           "753.00"
          ],
          [
           "Kayn",
           "754.00"
          ],
          [
           "Kayn",
           "755.00"
          ]
         ],
         "hovertemplate": "Champion=%{customdata[0]}<br>t-SNE Component 1=%{x}<br>t-SNE Component 2=%{y}<br>Patch=%{customdata[1]}<extra></extra>",
         "legendgroup": "Kayn",
         "marker": {
          "color": "#636efa",
          "size": 8,
          "symbol": "circle"
         },
         "mode": "markers",
         "name": "Kayn",
         "showlegend": true,
         "type": "scattergl",
         "x": {
          "bdata": "NEKowdtqsMHdarDB3Wqwwd1qsMHaarDB22qwwdhqsMHfarDB2GqwwdlqsMHXarDB2WqwweNqsMHdarDB2WqwwSZrsMEma7DBl9mwwdtqsMGX2bDBl9mwweWgsME=",
          "dtype": "f4"
         },
         "xaxis": "x",
         "y": {
          "bdata": "LRqowLYYrMCyGKzAsxiswK0YrMCuGKzAthiswKoYrMCzGKzAsBiswK0YrMCuGKzArBiswK8YrMCuGKzArhiswHUXrMB1F6zAhCeswLAYrMCGJ6zAhSeswD7BrMA=",
          "dtype": "f4"
         },
         "yaxis": "y"
        },
        {
         "customdata": [
          [
           "Zoe",
           "707.00"
          ],
          [
           "Zoe",
           "708.00"
          ],
          [
           "Zoe",
           "709.00"
          ],
          [
           "Zoe",
           "710.00"
          ],
          [
           "Zoe",
           "711.00"
          ],
          [
           "Zoe",
           "712.00"
          ],
          [
           "Zoe",
           "713.00"
          ],
          [
           "Zoe",
           "714.00"
          ],
          [
           "Zoe",
           "715.00"
          ],
          [
           "Zoe",
           "716.00"
          ],
          [
           "Zoe",
           "717.00"
          ],
          [
           "Zoe",
           "718.00"
          ],
          [
           "Zoe",
           "719.00"
          ],
          [
           "Zoe",
           "720.00"
          ],
          [
           "Zoe",
           "721.00"
          ],
          [
           "Zoe",
           "722.00"
          ],
          [
           "Zoe",
           "723.00"
          ],
          [
           "Zoe",
           "724.00"
          ],
          [
           "Zoe",
           "751.00"
          ],
          [
           "Zoe",
           "752.00"
          ],
          [
           "Zoe",
           "753.00"
          ],
          [
           "Zoe",
           "754.00"
          ],
          [
           "Zoe",
           "755.00"
          ]
         ],
         "hovertemplate": "Champion=%{customdata[0]}<br>t-SNE Component 1=%{x}<br>t-SNE Component 2=%{y}<br>Patch=%{customdata[1]}<extra></extra>",
         "legendgroup": "Zoe",
         "marker": {
          "color": "#EF553B",
          "size": 8,
          "symbol": "circle"
         },
         "mode": "markers",
         "name": "Zoe",
         "showlegend": true,
         "type": "scattergl",
         "x": {
          "bdata": "GWjqQWls8UFpbPFBaWzxQYNm8UFqZvFBambxQYVm8UGPZvFBa2bxQYZm8UFpZvFBaGbxQWhm8UFsZvFBa2bxQYRm8UFrZvFBbWbxQWRm8UFbZvFBc2bxQVtm8UE=",
          "dtype": "f4"
         },
         "xaxis": "x",
         "y": {
          "bdata": "WsVqQhsGbUIbBm1CGwZtQjUJbUIrCW1CLAltQjYJbUI6CW1CLAltQjMJbUIsCW1CLAltQiwJbUIrCW1CLAltQjYJbUIrCW1CLAltQjQJbUIqCW1COwltQioJbUI=",
          "dtype": "f4"
         },
         "yaxis": "y"
        },
        {
         "customdata": [
          [
           "Zyra",
           "707.00"
          ],
          [
           "Zyra",
           "708.00"
          ],
          [
           "Zyra",
           "709.00"
          ],
          [
           "Zyra",
           "710.00"
          ],
          [
           "Zyra",
           "711.00"
          ],
          [
           "Zyra",
           "712.00"
          ],
          [
           "Zyra",
           "713.00"
          ],
          [
           "Zyra",
           "714.00"
          ],
          [
           "Zyra",
           "715.00"
          ],
          [
           "Zyra",
           "716.00"
          ],
          [
           "Zyra",
           "717.00"
          ],
          [
           "Zyra",
           "718.00"
          ],
          [
           "Zyra",
           "719.00"
          ],
          [
           "Zyra",
           "720.00"
          ],
          [
           "Zyra",
           "721.00"
          ],
          [
           "Zyra",
           "722.00"
          ],
          [
           "Zyra",
           "723.00"
          ],
          [
           "Zyra",
           "724.00"
          ],
          [
           "Zyra",
           "751.00"
          ],
          [
           "Zyra",
           "752.00"
          ],
          [
           "Zyra",
           "753.00"
          ],
          [
           "Zyra",
           "754.00"
          ],
          [
           "Zyra",
           "755.00"
          ]
         ],
         "hovertemplate": "Champion=%{customdata[0]}<br>t-SNE Component 1=%{x}<br>t-SNE Component 2=%{y}<br>Patch=%{customdata[1]}<extra></extra>",
         "legendgroup": "Zyra",
         "marker": {
          "color": "#00cc96",
          "size": 8,
          "symbol": "circle"
         },
         "mode": "markers",
         "name": "Zyra",
         "showlegend": true,
         "type": "scattergl",
         "x": {
          "bdata": "GDp3QoUwdkKeMHZChjB2QpEwdkKHMHZChzB2Qo0wdkKcMHZCozB2QoUwdkKFMHZChzB2QoUwdkKHMHZChzB2QocwdkKHMHZCdTd2QoUwdkK2N3ZCtjd2QrY3dkI=",
          "dtype": "f4"
         },
         "xaxis": "x",
         "y": {
          "bdata": "AcSkwSfUnMEd1JzBGNScwRvUnMEk1JzBJNScwRzUnMEb1JzBFdScwSHUnMEY1JzBJNScwSHUnMEk1JzBI9ScwSPUnMEj1JzBh7ycwRfUnMGtu5zBrbucwa27nME=",
          "dtype": "f4"
         },
         "yaxis": "y"
        },
        {
         "customdata": [
          [
           "Kai'Sa",
           "707.00"
          ],
          [
           "Kai'Sa",
           "708.00"
          ],
          [
           "Kai'Sa",
           "709.00"
          ],
          [
           "Kai'Sa",
           "710.00"
          ],
          [
           "Kai'Sa",
           "711.00"
          ],
          [
           "Kai'Sa",
           "712.00"
          ],
          [
           "Kai'Sa",
           "713.00"
          ],
          [
           "Kai'Sa",
           "714.00"
          ],
          [
           "Kai'Sa",
           "715.00"
          ],
          [
           "Kai'Sa",
           "716.00"
          ],
          [
           "Kai'Sa",
           "717.00"
          ],
          [
           "Kai'Sa",
           "718.00"
          ],
          [
           "Kai'Sa",
           "719.00"
          ],
          [
           "Kai'Sa",
           "720.00"
          ],
          [
           "Kai'Sa",
           "721.00"
          ],
          [
           "Kai'Sa",
           "722.00"
          ],
          [
           "Kai'Sa",
           "723.00"
          ],
          [
           "Kai'Sa",
           "724.00"
          ],
          [
           "Kai'Sa",
           "751.00"
          ],
          [
           "Kai'Sa",
           "752.00"
          ],
          [
           "Kai'Sa",
           "753.00"
          ],
          [
           "Kai'Sa",
           "754.00"
          ],
          [
           "Kai'Sa",
           "755.00"
          ]
         ],
         "hovertemplate": "Champion=%{customdata[0]}<br>t-SNE Component 1=%{x}<br>t-SNE Component 2=%{y}<br>Patch=%{customdata[1]}<extra></extra>",
         "legendgroup": "Kai'Sa",
         "marker": {
          "color": "#ab63fa",
          "size": 8,
          "symbol": "circle"
         },
         "mode": "markers",
         "name": "Kai'Sa",
         "showlegend": true,
         "type": "scattergl",
         "x": {
          "bdata": "pwAcQl1GHUJdRh1CdkYdQlFGHUJRRh1CdUYdQnVGHUJ1Rh1CdEYdQnVGHUJ1Rh1CdUYdQlxGHUJ1Rh1CdUYdQnVGHUJdRh1CdUYdQk5zHUIIdR1CjHQdQk5zHUI=",
          "dtype": "f4"
         },
         "xaxis": "x",
         "y": {
          "bdata": "v4I+wsFaQsLCWkLCxVpCwq9aQsKvWkLCwlpCwsFaQsLBWkLCwlpCwsFaQsLCWkLCwlpCwsJaQsLCWkLCwlpCwsJaQsLCWkLCw1pCwg1QQsJzT0LC5E9Cwg1QQsI=",
          "dtype": "f4"
         },
         "yaxis": "y"
        },
        {
         "customdata": [
          [
           "Seraphine",
           "707.00"
          ],
          [
           "Seraphine",
           "708.00"
          ],
          [
           "Seraphine",
           "709.00"
          ],
          [
           "Seraphine",
           "710.00"
          ],
          [
           "Seraphine",
           "711.00"
          ],
          [
           "Seraphine",
           "712.00"
          ],
          [
           "Seraphine",
           "713.00"
          ],
          [
           "Seraphine",
           "714.00"
          ],
          [
           "Seraphine",
           "715.00"
          ],
          [
           "Seraphine",
           "716.00"
          ],
          [
           "Seraphine",
           "717.00"
          ],
          [
           "Seraphine",
           "718.00"
          ],
          [
           "Seraphine",
           "719.00"
          ],
          [
           "Seraphine",
           "720.00"
          ],
          [
           "Seraphine",
           "721.00"
          ],
          [
           "Seraphine",
           "722.00"
          ],
          [
           "Seraphine",
           "723.00"
          ],
          [
           "Seraphine",
           "724.00"
          ],
          [
           "Seraphine",
           "751.00"
          ],
          [
           "Seraphine",
           "752.00"
          ],
          [
           "Seraphine",
           "753.00"
          ],
          [
           "Seraphine",
           "754.00"
          ],
          [
           "Seraphine",
           "755.00"
          ]
         ],
         "hovertemplate": "Champion=%{customdata[0]}<br>t-SNE Component 1=%{x}<br>t-SNE Component 2=%{y}<br>Patch=%{customdata[1]}<extra></extra>",
         "legendgroup": "Seraphine",
         "marker": {
          "color": "#FFA15A",
          "size": 8,
          "symbol": "circle"
         },
         "mode": "markers",
         "name": "Seraphine",
         "showlegend": true,
         "type": "scattergl",
         "x": {
          "bdata": "28sgv4E71L+HO9S/jDvUv4071L+PO9S/ljvUv4o71L+aO9S/mzvUv5o71L+cO9S/lDvUv6Q71L+kO9S/pTvUv6U71L+lO9S/ozvUv8621b/OttW/6LbVv2qi1b8=",
          "dtype": "f4"
         },
         "xaxis": "x",
         "y": {
          "bdata": "ZWLgwesD4MHxA+DB8QPgwfED4MHxA+DB7wPgwSYE4MHxA+DB8QPgwfED4MHwA+DBKATgwekD4MHpA+DB6QPgwekD4MHoA+DB8QPgwasz4MGrM+DBazPgwS4x4ME=",
          "dtype": "f4"
         },
         "yaxis": "y"
        },
        {
         "customdata": [
          [
           "Sivir",
           "707.00"
          ],
          [
           "Sivir",
           "708.00"
          ],
          [
           "Sivir",
           "709.00"
          ],
          [
           "Sivir",
           "710.00"
          ],
          [
           "Sivir",
           "711.00"
          ],
          [
           "Sivir",
           "712.00"
          ],
          [
           "Sivir",
           "713.00"
          ],
          [
           "Sivir",
           "714.00"
          ],
          [
           "Sivir",
           "715.00"
          ],
          [
           "Sivir",
           "716.00"
          ],
          [
           "Sivir",
           "717.00"
          ],
          [
           "Sivir",
           "718.00"
          ],
          [
           "Sivir",
           "719.00"
          ],
          [
           "Sivir",
           "720.00"
          ],
          [
           "Sivir",
           "721.00"
          ],
          [
           "Sivir",
           "722.00"
          ],
          [
           "Sivir",
           "723.00"
          ],
          [
           "Sivir",
           "724.00"
          ],
          [
           "Sivir",
           "751.00"
          ],
          [
           "Sivir",
           "752.00"
          ],
          [
           "Sivir",
           "753.00"
          ],
          [
           "Sivir",
           "754.00"
          ],
          [
           "Sivir",
           "755.00"
          ]
         ],
         "hovertemplate": "Champion=%{customdata[0]}<br>t-SNE Component 1=%{x}<br>t-SNE Component 2=%{y}<br>Patch=%{customdata[1]}<extra></extra>",
         "legendgroup": "Sivir",
         "marker": {
          "color": "#19d3f3",
          "size": 8,
          "symbol": "circle"
         },
         "mode": "markers",
         "name": "Sivir",
         "showlegend": true,
         "type": "scattergl",
         "x": {
          "bdata": "zcWJQUoskUFFLJFBOiyRQWUskUFlLJFBRSyRQWYskUFFLJFBZiyRQWcskUFMLJFBSyyRQUIskUFILJFBZiyRQT0skUFLLJFBQiyRQWcskUE7LJFBZyyRQUsskUE=",
          "dtype": "f4"
         },
         "xaxis": "x",
         "y": {
          "bdata": "4KiRwoC1kMKAtZDCebWQwn61kMJ+tZDCf7WQwn61kMJ/tZDCfrWQwn61kMJ+tZDCf7WQwn21kMJ+tZDCfrWQwnm1kMJ+tZDCfbWQwn61kMJ5tZDCfrWQwn61kMI=",
          "dtype": "f4"
         },
         "yaxis": "y"
        },
        {
         "customdata": [
          [
           "Gnar",
           "707.00"
          ],
          [
           "Gnar",
           "708.00"
          ],
          [
           "Gnar",
           "709.00"
          ],
          [
           "Gnar",
           "710.00"
          ],
          [
           "Gnar",
           "711.00"
          ],
          [
           "Gnar",
           "712.00"
          ],
          [
           "Gnar",
           "713.00"
          ],
          [
           "Gnar",
           "714.00"
          ],
          [
           "Gnar",
           "715.00"
          ],
          [
           "Gnar",
           "716.00"
          ],
          [
           "Gnar",
           "717.00"
          ],
          [
           "Gnar",
           "718.00"
          ],
          [
           "Gnar",
           "719.00"
          ],
          [
           "Gnar",
           "720.00"
          ],
          [
           "Gnar",
           "721.00"
          ],
          [
           "Gnar",
           "722.00"
          ],
          [
           "Gnar",
           "723.00"
          ],
          [
           "Gnar",
           "724.00"
          ],
          [
           "Gnar",
           "751.00"
          ],
          [
           "Gnar",
           "752.00"
          ],
          [
           "Gnar",
           "753.00"
          ],
          [
           "Gnar",
           "754.00"
          ],
          [
           "Gnar",
           "755.00"
          ]
         ],
         "hovertemplate": "Champion=%{customdata[0]}<br>t-SNE Component 1=%{x}<br>t-SNE Component 2=%{y}<br>Patch=%{customdata[1]}<extra></extra>",
         "legendgroup": "Gnar",
         "marker": {
          "color": "#FF6692",
          "size": 8,
          "symbol": "circle"
         },
         "mode": "markers",
         "name": "Gnar",
         "showlegend": true,
         "type": "scattergl",
         "x": {
          "bdata": "atsiwn9MJsJ/TCbCf0wmwjtMJsI7TCbCgUwmwmxMJsKQSybCf0wmwj9MJsKATCbCgEwmwoBMJsKATCbCgEwmwgxMJsJBYybCgEwmwomCJsKIgybCvXImwmOCJsI=",
          "dtype": "f4"
         },
         "xaxis": "x",
         "y": {
          "bdata": "wFktQt2nL0Ldpy9C3KcvQtqnL0Lbpy9C3qcvQt+nL0KYpy9C3acvQtynL0Lepy9C3qcvQt6nL0Lepy9C3qcvQl6nL0INny9C3KcvQrdrL0J2ay9CZG4vQmJrL0I=",
          "dtype": "f4"
         },
         "yaxis": "y"
        },
        {
         "customdata": [
          [
           "Zac",
           "707.00"
          ],
          [
           "Zac",
           "708.00"
          ],
          [
           "Zac",
           "709.00"
          ],
          [
           "Zac",
           "710.00"
          ],
          [
           "Zac",
           "711.00"
          ],
          [
           "Zac",
           "712.00"
          ],
          [
           "Zac",
           "713.00"
          ],
          [
           "Zac",
           "714.00"
          ],
          [
           "Zac",
           "715.00"
          ],
          [
           "Zac",
           "716.00"
          ],
          [
           "Zac",
           "717.00"
          ],
          [
           "Zac",
           "718.00"
          ],
          [
           "Zac",
           "719.00"
          ],
          [
           "Zac",
           "720.00"
          ],
          [
           "Zac",
           "721.00"
          ],
          [
           "Zac",
           "722.00"
          ],
          [
           "Zac",
           "723.00"
          ],
          [
           "Zac",
           "724.00"
          ],
          [
           "Zac",
           "751.00"
          ],
          [
           "Zac",
           "752.00"
          ],
          [
           "Zac",
           "753.00"
          ],
          [
           "Zac",
           "754.00"
          ],
          [
           "Zac",
           "755.00"
          ]
         ],
         "hovertemplate": "Champion=%{customdata[0]}<br>t-SNE Component 1=%{x}<br>t-SNE Component 2=%{y}<br>Patch=%{customdata[1]}<extra></extra>",
         "legendgroup": "Zac",
         "marker": {
          "color": "#B6E880",
          "size": 8,
          "symbol": "circle"
         },
         "mode": "markers",
         "name": "Zac",
         "showlegend": true,
         "type": "scattergl",
         "x": {
          "bdata": "DHQrwquDK8KrgyvCq4MrwquDK8KWgyvChIMrwoWDK8KrgyvCq4MrwqiDK8KngyvCp4MrwqWDK8KogyvCqIMrwpWDK8KogyvClYMrwuqEK8LqhCvCr4MrwuqEK8I=",
          "dtype": "f4"
         },
         "xaxis": "x",
         "y": {
          "bdata": "RFn3wSyI/8EtiP/BLYj/wS2I/8EkiP/BIYj/wSGI/8EtiP/BLoj/wSWI/8EniP/BJ4j/wSqI/8EmiP/BJoj/wSSI/8EmiP/BJIj/wbmw/8G5sP/Bw7D/wbmw/8E=",
          "dtype": "f4"
         },
         "yaxis": "y"
        },
        {
         "customdata": [
          [
           "Yasuo",
           "707.00"
          ],
          [
           "Yasuo",
           "708.00"
          ],
          [
           "Yasuo",
           "709.00"
          ],
          [
           "Yasuo",
           "710.00"
          ],
          [
           "Yasuo",
           "711.00"
          ],
          [
           "Yasuo",
           "712.00"
          ],
          [
           "Yasuo",
           "713.00"
          ],
          [
           "Yasuo",
           "714.00"
          ],
          [
           "Yasuo",
           "715.00"
          ],
          [
           "Yasuo",
           "716.00"
          ],
          [
           "Yasuo",
           "717.00"
          ],
          [
           "Yasuo",
           "718.00"
          ],
          [
           "Yasuo",
           "719.00"
          ],
          [
           "Yasuo",
           "720.00"
          ],
          [
           "Yasuo",
           "721.00"
          ],
          [
           "Yasuo",
           "722.00"
          ],
          [
           "Yasuo",
           "723.00"
          ],
          [
           "Yasuo",
           "724.00"
          ],
          [
           "Yasuo",
           "751.00"
          ],
          [
           "Yasuo",
           "752.00"
          ],
          [
           "Yasuo",
           "753.00"
          ],
          [
           "Yasuo",
           "754.00"
          ],
          [
           "Yasuo",
           "755.00"
          ]
         ],
         "hovertemplate": "Champion=%{customdata[0]}<br>t-SNE Component 1=%{x}<br>t-SNE Component 2=%{y}<br>Patch=%{customdata[1]}<extra></extra>",
         "legendgroup": "Yasuo",
         "marker": {
          "color": "#FF97FF",
          "size": 8,
          "symbol": "circle"
         },
         "mode": "markers",
         "name": "Yasuo",
         "showlegend": true,
         "type": "scattergl",
         "x": {
          "bdata": "aMeLwlt8i8JhfIvCWnyLwlV8i8JVfIvCYHyLwlV8i8JgfIvCVHyLwlR8i8JUfIvCVHyLwlt8i8JbfIvCW3yLwjp8i8I6fIvCVHyLwldxi8IzcYvCV3GLwldxi8I=",
          "dtype": "f4"
         },
         "xaxis": "x",
         "y": {
          "bdata": "2WWZQS+hoUExoaFBLqGhQSahoUEmoaFBMaGhQSahoUEyoaFBJ6GhQSehoUEnoaFBJ6GhQS+hoUEwoaFBMKGhQXKeoUFynqFBJqGhQdNloUE3Y6FB02WhQdNloUE=",
          "dtype": "f4"
         },
         "yaxis": "y"
        },
        {
         "customdata": [
          [
           "Soraka",
           "707.00"
          ],
          [
           "Soraka",
           "708.00"
          ],
          [
           "Soraka",
           "709.00"
          ],
          [
           "Soraka",
           "710.00"
          ],
          [
           "Soraka",
           "711.00"
          ],
          [
           "Soraka",
           "712.00"
          ],
          [
           "Soraka",
           "713.00"
          ],
          [
           "Soraka",
           "714.00"
          ],
          [
           "Soraka",
           "715.00"
          ],
          [
           "Soraka",
           "716.00"
          ],
          [
           "Soraka",
           "717.00"
          ],
          [
           "Soraka",
           "718.00"
          ],
          [
           "Soraka",
           "719.00"
          ],
          [
           "Soraka",
           "720.00"
          ],
          [
           "Soraka",
           "721.00"
          ],
          [
           "Soraka",
           "722.00"
          ],
          [
           "Soraka",
           "723.00"
          ],
          [
           "Soraka",
           "724.00"
          ],
          [
           "Soraka",
           "751.00"
          ],
          [
           "Soraka",
           "752.00"
          ],
          [
           "Soraka",
           "753.00"
          ],
          [
           "Soraka",
           "754.00"
          ],
          [
           "Soraka",
           "755.00"
          ]
         ],
         "hovertemplate": "Champion=%{customdata[0]}<br>t-SNE Component 1=%{x}<br>t-SNE Component 2=%{y}<br>Patch=%{customdata[1]}<extra></extra>",
         "legendgroup": "Soraka",
         "marker": {
          "color": "#FECB52",
          "size": 8,
          "symbol": "circle"
         },
         "mode": "markers",
         "name": "Soraka",
         "showlegend": true,
         "type": "scattergl",
         "x": {
          "bdata": "TdcVwUu/IMFLvyDBTb8gwUy/IMFIvyDBSr8gwVS/IME5vyDBTb8gwUu/IMFMvyDBTb8gwU2/IMFSvyDBTb8gwQq8IMFLvyDBqBwgwUu/IMFEGyDBpxwgwUQbIME=",
          "dtype": "f4"
         },
         "xaxis": "x",
         "y": {
          "bdata": "lxEzwpr3L8Ka9y/Cmfcvwpr3L8KS9y/CmfcvwpX3L8KU9y/CkvcvwpP3L8KT9y/Ck/cvwpP3L8KR9y/Ck/cvwlr2L8KT9y/Cf8IvwpP3L8K+wS/Cf8Ivwr/BL8I=",
          "dtype": "f4"
         },
         "yaxis": "y"
        },
        {
         "customdata": [
          [
           "Vel'Koz",
           "707.00"
          ],
          [
           "Vel'Koz",
           "708.00"
          ],
          [
           "Vel'Koz",
           "709.00"
          ],
          [
           "Vel'Koz",
           "710.00"
          ],
          [
           "Vel'Koz",
           "711.00"
          ],
          [
           "Vel'Koz",
           "712.00"
          ],
          [
           "Vel'Koz",
           "713.00"
          ],
          [
           "Vel'Koz",
           "714.00"
          ],
          [
           "Vel'Koz",
           "715.00"
          ],
          [
           "Vel'Koz",
           "716.00"
          ],
          [
           "Vel'Koz",
           "717.00"
          ],
          [
           "Vel'Koz",
           "718.00"
          ],
          [
           "Vel'Koz",
           "719.00"
          ],
          [
           "Vel'Koz",
           "720.00"
          ],
          [
           "Vel'Koz",
           "721.00"
          ],
          [
           "Vel'Koz",
           "722.00"
          ],
          [
           "Vel'Koz",
           "723.00"
          ],
          [
           "Vel'Koz",
           "724.00"
          ],
          [
           "Vel'Koz",
           "751.00"
          ],
          [
           "Vel'Koz",
           "752.00"
          ],
          [
           "Vel'Koz",
           "753.00"
          ],
          [
           "Vel'Koz",
           "754.00"
          ],
          [
           "Vel'Koz",
           "755.00"
          ]
         ],
         "hovertemplate": "Champion=%{customdata[0]}<br>t-SNE Component 1=%{x}<br>t-SNE Component 2=%{y}<br>Patch=%{customdata[1]}<extra></extra>",
         "legendgroup": "Vel'Koz",
         "marker": {
          "color": "#636efa",
          "size": 8,
          "symbol": "circle"
         },
         "mode": "markers",
         "name": "Vel'Koz",
         "showlegend": true,
         "type": "scattergl",
         "x": {
          "bdata": "XU0AQrs7A0K2OwNCxDsDQrY7A0K3OwNCtzsDQrY7A0K2OwNCxTsDQsU7A0K3OwNCtjsDQsU7A0LFOwNCxTsDQsU7A0LFOwNCxTsDQlw7A0JdOwNCXDsDQsU7A0I=",
          "dtype": "f4"
         },
         "xaxis": "x",
         "y": {
          "bdata": "Y6yFQo86hEKTOoRCkjqEQpM6hEKSOoRCkzqEQqE6hEKSOoRCjjqEQpI6hEKSOoRCjjqEQpI6hEKSOoRCkjqEQpI6hEKSOoRCjjqEQiY5hEImOYRCJjmEQpI6hEI=",
          "dtype": "f4"
         },
         "yaxis": "y"
        },
        {
         "customdata": [
          [
           "Taliyah",
           "707.00"
          ],
          [
           "Taliyah",
           "708.00"
          ],
          [
           "Taliyah",
           "709.00"
          ],
          [
           "Taliyah",
           "710.00"
          ],
          [
           "Taliyah",
           "711.00"
          ],
          [
           "Taliyah",
           "712.00"
          ],
          [
           "Taliyah",
           "713.00"
          ],
          [
           "Taliyah",
           "714.00"
          ],
          [
           "Taliyah",
           "715.00"
          ],
          [
           "Taliyah",
           "716.00"
          ],
          [
           "Taliyah",
           "717.00"
          ],
          [
           "Taliyah",
           "718.00"
          ],
          [
           "Taliyah",
           "719.00"
          ],
          [
           "Taliyah",
           "720.00"
          ],
          [
           "Taliyah",
           "721.00"
          ],
          [
           "Taliyah",
           "722.00"
          ],
          [
           "Taliyah",
           "723.00"
          ],
          [
           "Taliyah",
           "724.00"
          ],
          [
           "Taliyah",
           "751.00"
          ],
          [
           "Taliyah",
           "752.00"
          ],
          [
           "Taliyah",
           "753.00"
          ],
          [
           "Taliyah",
           "754.00"
          ],
          [
           "Taliyah",
           "755.00"
          ]
         ],
         "hovertemplate": "Champion=%{customdata[0]}<br>t-SNE Component 1=%{x}<br>t-SNE Component 2=%{y}<br>Patch=%{customdata[1]}<extra></extra>",
         "legendgroup": "Taliyah",
         "marker": {
          "color": "#EF553B",
          "size": 8,
          "symbol": "circle"
         },
         "mode": "markers",
         "name": "Taliyah",
         "showlegend": true,
         "type": "scattergl",
         "x": {
          "bdata": "tQYVQlVQGEIjUBhCIlAYQhdQGEIiUBhCF1AYQhhQGEIjUBhCI1AYQiNQGEIYUBhCFVAYQhVQGEIVUBhCFVAYQhVQGEIVUBhCF1AYQmFlGEJXZRhCYWUYQmFlGEI=",
          "dtype": "f4"
         },
         "xaxis": "x",
         "y": {
          "bdata": "CNPQwK8jvcCQI73AkCO9wEEjvcCPI73AQiO9wEEjvcCMI73AjSO9wIwjvcBBI73ARSO9wEQjvcBEI73ARCO9wEUjvcBEI73APiO9wFJnvcA5Z73AUme9wFJnvcA=",
          "dtype": "f4"
         },
         "yaxis": "y"
        },
        {
         "customdata": [
          [
           "Camille",
           "707.00"
          ],
          [
           "Camille",
           "708.00"
          ],
          [
           "Camille",
           "709.00"
          ],
          [
           "Camille",
           "710.00"
          ],
          [
           "Camille",
           "711.00"
          ],
          [
           "Camille",
           "712.00"
          ],
          [
           "Camille",
           "713.00"
          ],
          [
           "Camille",
           "714.00"
          ],
          [
           "Camille",
           "715.00"
          ],
          [
           "Camille",
           "716.00"
          ],
          [
           "Camille",
           "717.00"
          ],
          [
           "Camille",
           "718.00"
          ],
          [
           "Camille",
           "719.00"
          ],
          [
           "Camille",
           "720.00"
          ],
          [
           "Camille",
           "721.00"
          ],
          [
           "Camille",
           "722.00"
          ],
          [
           "Camille",
           "723.00"
          ],
          [
           "Camille",
           "724.00"
          ],
          [
           "Camille",
           "751.00"
          ],
          [
           "Camille",
           "752.00"
          ],
          [
           "Camille",
           "753.00"
          ],
          [
           "Camille",
           "754.00"
          ],
          [
           "Camille",
           "755.00"
          ]
         ],
         "hovertemplate": "Champion=%{customdata[0]}<br>t-SNE Component 1=%{x}<br>t-SNE Component 2=%{y}<br>Patch=%{customdata[1]}<extra></extra>",
         "legendgroup": "Camille",
         "marker": {
          "color": "#00cc96",
          "size": 8,
          "symbol": "circle"
         },
         "mode": "markers",
         "name": "Camille",
         "showlegend": true,
         "type": "scattergl",
         "x": {
          "bdata": "vajNwDpW58CRVufAM1bnwDNW58A0VufAFlbnwDFW58AxVufAMVbnwDdW58A4VufAMVbnwAhW58AIVufACVbnwApW58AKVufAClbnwDB66MAweujAMHrowDB66MA=",
          "dtype": "f4"
         },
         "xaxis": "x",
         "y": {
          "bdata": "ctiUQkCVk0JFlZNCRpWTQkaVk0JFlZNCS5WTQkaVk0JMlZNCTJWTQkWVk0JFlZNCS5WTQkiVk0JIlZNCSJWTQkiVk0JIlZNCSJWTQhuCk0IbgpNCG4KTQhuCk0I=",
          "dtype": "f4"
         },
         "yaxis": "y"
        },
        {
         "customdata": [
          [
           "Akshan",
           "707.00"
          ],
          [
           "Akshan",
           "708.00"
          ],
          [
           "Akshan",
           "709.00"
          ],
          [
           "Akshan",
           "710.00"
          ],
          [
           "Akshan",
           "711.00"
          ],
          [
           "Akshan",
           "712.00"
          ],
          [
           "Akshan",
           "713.00"
          ],
          [
           "Akshan",
           "714.00"
          ],
          [
           "Akshan",
           "715.00"
          ],
          [
           "Akshan",
           "716.00"
          ],
          [
           "Akshan",
           "717.00"
          ],
          [
           "Akshan",
           "718.00"
          ],
          [
           "Akshan",
           "719.00"
          ],
          [
           "Akshan",
           "720.00"
          ],
          [
           "Akshan",
           "721.00"
          ],
          [
           "Akshan",
           "722.00"
          ],
          [
           "Akshan",
           "723.00"
          ],
          [
           "Akshan",
           "724.00"
          ],
          [
           "Akshan",
           "751.00"
          ],
          [
           "Akshan",
           "752.00"
          ],
          [
           "Akshan",
           "753.00"
          ],
          [
           "Akshan",
           "754.00"
          ],
          [
           "Akshan",
           "755.00"
          ]
         ],
         "hovertemplate": "Champion=%{customdata[0]}<br>t-SNE Component 1=%{x}<br>t-SNE Component 2=%{y}<br>Patch=%{customdata[1]}<extra></extra>",
         "legendgroup": "Akshan",
         "marker": {
          "color": "#ab63fa",
          "size": 8,
          "symbol": "circle"
         },
         "mode": "markers",
         "name": "Akshan",
         "showlegend": true,
         "type": "scattergl",
         "x": {
          "bdata": "dJeZPxK0xz8YtMc/G7THP2qvxz9Zr8c/Ta/HP3Gvxz9nr8c/c6/HP2uvxz9ur8c/YK/HP2qvxz93r8c/eq/HP26vxz9Frsc/RK7HP1euxz9jrsc/Y67HP1euxz8=",
          "dtype": "f4"
         },
         "xaxis": "x",
         "y": {
          "bdata": "HhHyQT9o6kE+aOpBPmjqQYJp6kF9aepBbmnqQYFp6kF9aepBf2nqQXxp6kF8aepBe2nqQXdp6kF+aepBf2nqQX5p6kGDaepBhGnqQW9p6kFwaepBcGnqQW9p6kE=",
          "dtype": "f4"
         },
         "yaxis": "y"
        },
        {
         "customdata": [
          [
           "Teemo",
           "707.00"
          ],
          [
           "Teemo",
           "708.00"
          ],
          [
           "Teemo",
           "709.00"
          ],
          [
           "Teemo",
           "710.00"
          ],
          [
           "Teemo",
           "711.00"
          ],
          [
           "Teemo",
           "712.00"
          ],
          [
           "Teemo",
           "713.00"
          ],
          [
           "Teemo",
           "714.00"
          ],
          [
           "Teemo",
           "715.00"
          ],
          [
           "Teemo",
           "716.00"
          ],
          [
           "Teemo",
           "717.00"
          ],
          [
           "Teemo",
           "718.00"
          ],
          [
           "Teemo",
           "719.00"
          ],
          [
           "Teemo",
           "720.00"
          ],
          [
           "Teemo",
           "721.00"
          ],
          [
           "Teemo",
           "722.00"
          ],
          [
           "Teemo",
           "723.00"
          ],
          [
           "Teemo",
           "724.00"
          ],
          [
           "Teemo",
           "751.00"
          ],
          [
           "Teemo",
           "752.00"
          ],
          [
           "Teemo",
           "753.00"
          ],
          [
           "Teemo",
           "754.00"
          ],
          [
           "Teemo",
           "755.00"
          ]
         ],
         "hovertemplate": "Champion=%{customdata[0]}<br>t-SNE Component 1=%{x}<br>t-SNE Component 2=%{y}<br>Patch=%{customdata[1]}<extra></extra>",
         "legendgroup": "Teemo",
         "marker": {
          "color": "#FFA15A",
          "size": 8,
          "symbol": "circle"
         },
         "mode": "markers",
         "name": "Teemo",
         "showlegend": true,
         "type": "scattergl",
         "x": {
          "bdata": "R1ZAQlluREJabkRCKm5EQipuREIqbkRCKm5EQipuREJabkRCK25EQnJvREJyb0RCcW9EQituREJabkRCWm5EQlluREIrbkRCnoxEQituREKejERCnoxEQp6MREI=",
          "dtype": "f4"
         },
         "xaxis": "x",
         "y": {
          "bdata": "hX8AQlspAEJbKQBCVCkAQlQpAEJUKQBCVCkAQlQpAEJbKQBCUykAQnQpAEJ0KQBCdSkAQlMpAEJbKQBCWykAQlspAEJTKQBC3y8AQlQpAELfLwBC3y8AQt8vAEI=",
          "dtype": "f4"
         },
         "yaxis": "y"
        },
        {
         "customdata": [
          [
           "Tristana",
           "707.00"
          ],
          [
           "Tristana",
           "708.00"
          ],
          [
           "Tristana",
           "709.00"
          ],
          [
           "Tristana",
           "710.00"
          ],
          [
           "Tristana",
           "711.00"
          ],
          [
           "Tristana",
           "712.00"
          ],
          [
           "Tristana",
           "713.00"
          ],
          [
           "Tristana",
           "714.00"
          ],
          [
           "Tristana",
           "715.00"
          ],
          [
           "Tristana",
           "716.00"
          ],
          [
           "Tristana",
           "717.00"
          ],
          [
           "Tristana",
           "718.00"
          ],
          [
           "Tristana",
           "719.00"
          ],
          [
           "Tristana",
           "720.00"
          ],
          [
           "Tristana",
           "721.00"
          ],
          [
           "Tristana",
           "722.00"
          ],
          [
           "Tristana",
           "723.00"
          ],
          [
           "Tristana",
           "724.00"
          ],
          [
           "Tristana",
           "751.00"
          ],
          [
           "Tristana",
           "752.00"
          ],
          [
           "Tristana",
           "753.00"
          ],
          [
           "Tristana",
           "754.00"
          ],
          [
           "Tristana",
           "755.00"
          ]
         ],
         "hovertemplate": "Champion=%{customdata[0]}<br>t-SNE Component 1=%{x}<br>t-SNE Component 2=%{y}<br>Patch=%{customdata[1]}<extra></extra>",
         "legendgroup": "Tristana",
         "marker": {
          "color": "#19d3f3",
          "size": 8,
          "symbol": "circle"
         },
         "mode": "markers",
         "name": "Tristana",
         "showlegend": true,
         "type": "scattergl",
         "x": {
          "bdata": "kIVrQiQkaEIlJGhCJCRoQhkkaEIjJGhCJCRoQiUkaEIaJGhCGyRoQh4kaEIkJGhCJCRoQiMkaEIjJGhCJCRoQiQkaEIkJGhCIyRoQrkVaEK6FWhCuhVoQroVaEI=",
          "dtype": "f4"
         },
         "xaxis": "x",
         "y": {
          "bdata": "LzZFwjHnQsIv50LC9uZCwg7nQsIw50LCLudCwjfnQsIA50LCA+dCwgXnQsL25kLC9uZCwvXmQsL15kLC9eZCwvXmQsL15kLC9eZCwtHmQsLR5kLC0eZCwtHmQsI=",
          "dtype": "f4"
         },
         "yaxis": "y"
        },
        {
         "customdata": [
          [
           "Warwick",
           "707.00"
          ],
          [
           "Warwick",
           "708.00"
          ],
          [
           "Warwick",
           "709.00"
          ],
          [
           "Warwick",
           "710.00"
          ],
          [
           "Warwick",
           "711.00"
          ],
          [
           "Warwick",
           "712.00"
          ],
          [
           "Warwick",
           "713.00"
          ],
          [
           "Warwick",
           "714.00"
          ],
          [
           "Warwick",
           "715.00"
          ],
          [
           "Warwick",
           "716.00"
          ],
          [
           "Warwick",
           "717.00"
          ],
          [
           "Warwick",
           "718.00"
          ],
          [
           "Warwick",
           "719.00"
          ],
          [
           "Warwick",
           "720.00"
          ],
          [
           "Warwick",
           "721.00"
          ],
          [
           "Warwick",
           "722.00"
          ],
          [
           "Warwick",
           "723.00"
          ],
          [
           "Warwick",
           "724.00"
          ],
          [
           "Warwick",
           "751.00"
          ],
          [
           "Warwick",
           "752.00"
          ],
          [
           "Warwick",
           "753.00"
          ],
          [
           "Warwick",
           "754.00"
          ],
          [
           "Warwick",
           "755.00"
          ]
         ],
         "hovertemplate": "Champion=%{customdata[0]}<br>t-SNE Component 1=%{x}<br>t-SNE Component 2=%{y}<br>Patch=%{customdata[1]}<extra></extra>",
         "legendgroup": "Warwick",
         "marker": {
          "color": "#FF6692",
          "size": 8,
          "symbol": "circle"
         },
         "mode": "markers",
         "name": "Warwick",
         "showlegend": true,
         "type": "scattergl",
         "x": {
          "bdata": "gY8CwjALAcIwCwHCLwsBwi8LAcIvCwHCLwsBwjALAcIwCwHCLwsBwjALAcIwCwHCMAsBwjALAcIwCwHCMAsBwjALAcIwCwHCLwsBwgQ3AcIENwHCBDcBwgQ3AcI=",
          "dtype": "f4"
         },
         "xaxis": "x",
         "y": {
          "bdata": "okuHQbXwjkG28I5BuPCOQbfwjkG38I5Bt/COQb3wjkG38I5Bt/COQb3wjkG48I5BuPCOQbjwjkG48I5BuPCOQbTwjkG08I5BuvCOQXUzj0F1M49BdTOPQXUzj0E=",
          "dtype": "f4"
         },
         "yaxis": "y"
        },
        {
         "customdata": [
          [
           "Olaf",
           "707.00"
          ],
          [
           "Olaf",
           "708.00"
          ],
          [
           "Olaf",
           "709.00"
          ],
          [
           "Olaf",
           "710.00"
          ],
          [
           "Olaf",
           "711.00"
          ],
          [
           "Olaf",
           "712.00"
          ],
          [
           "Olaf",
           "713.00"
          ],
          [
           "Olaf",
           "714.00"
          ],
          [
           "Olaf",
           "715.00"
          ],
          [
           "Olaf",
           "716.00"
          ],
          [
           "Olaf",
           "717.00"
          ],
          [
           "Olaf",
           "718.00"
          ],
          [
           "Olaf",
           "719.00"
          ],
          [
           "Olaf",
           "720.00"
          ],
          [
           "Olaf",
           "721.00"
          ],
          [
           "Olaf",
           "722.00"
          ],
          [
           "Olaf",
           "723.00"
          ],
          [
           "Olaf",
           "724.00"
          ],
          [
           "Olaf",
           "751.00"
          ],
          [
           "Olaf",
           "752.00"
          ],
          [
           "Olaf",
           "753.00"
          ],
          [
           "Olaf",
           "754.00"
          ],
          [
           "Olaf",
           "755.00"
          ]
         ],
         "hovertemplate": "Champion=%{customdata[0]}<br>t-SNE Component 1=%{x}<br>t-SNE Component 2=%{y}<br>Patch=%{customdata[1]}<extra></extra>",
         "legendgroup": "Olaf",
         "marker": {
          "color": "#B6E880",
          "size": 8,
          "symbol": "circle"
         },
         "mode": "markers",
         "name": "Olaf",
         "showlegend": true,
         "type": "scattergl",
         "x": {
          "bdata": "4JpPwaZTTMGnU0zBP1NMwT9TTME/U0zBQFNMwSxTTMFrU0zBRVNMwUBTTMF4U0zBP1NMwTJTTME/U0zBPlNMwT9TTMGQU0zBkFNMwYrjTMGK40zBiuNMwejjTME=",
          "dtype": "f4"
         },
         "xaxis": "x",
         "y": {
          "bdata": "CASFQu0Lh0LsC4dC/QuHQv0Lh0L+C4dC/QuHQu0Lh0LxC4dC/guHQv0Lh0LuC4dC/QuHQv8Lh0L9C4dC/QuHQv0Lh0LsC4dC7AuHQjMMh0IzDIdCMwyHQjUMh0I=",
          "dtype": "f4"
         },
         "yaxis": "y"
        },
        {
         "customdata": [
          [
           "Nunu & Willump",
           "707.00"
          ],
          [
           "Nunu & Willump",
           "708.00"
          ],
          [
           "Nunu & Willump",
           "709.00"
          ],
          [
           "Nunu & Willump",
           "710.00"
          ],
          [
           "Nunu & Willump",
           "711.00"
          ],
          [
           "Nunu & Willump",
           "712.00"
          ],
          [
           "Nunu & Willump",
           "713.00"
          ],
          [
           "Nunu & Willump",
           "714.00"
          ],
          [
           "Nunu & Willump",
           "715.00"
          ],
          [
           "Nunu & Willump",
           "716.00"
          ],
          [
           "Nunu & Willump",
           "717.00"
          ],
          [
           "Nunu & Willump",
           "718.00"
          ],
          [
           "Nunu & Willump",
           "719.00"
          ],
          [
           "Nunu & Willump",
           "720.00"
          ],
          [
           "Nunu & Willump",
           "721.00"
          ],
          [
           "Nunu & Willump",
           "722.00"
          ],
          [
           "Nunu & Willump",
           "723.00"
          ],
          [
           "Nunu & Willump",
           "724.00"
          ],
          [
           "Nunu & Willump",
           "751.00"
          ],
          [
           "Nunu & Willump",
           "752.00"
          ],
          [
           "Nunu & Willump",
           "753.00"
          ],
          [
           "Nunu & Willump",
           "754.00"
          ],
          [
           "Nunu & Willump",
           "755.00"
          ]
         ],
         "hovertemplate": "Champion=%{customdata[0]}<br>t-SNE Component 1=%{x}<br>t-SNE Component 2=%{y}<br>Patch=%{customdata[1]}<extra></extra>",
         "legendgroup": "Nunu & Willump",
         "marker": {
          "color": "#FF97FF",
          "size": 8,
          "symbol": "circle"
         },
         "mode": "markers",
         "name": "Nunu & Willump",
         "showlegend": true,
         "type": "scattergl",
         "x": {
          "bdata": "HwEawuO8F8LjvBfC47wXwvy8F8LjvBfC47wXwuO8F8LjvBfC4rwXwuK8F8LjvBfC/7wXwuO8F8LjvBfC47wXwuO8F8LivBfC47wXwmSBF8JngBfCaIAXwmiAF8I=",
          "dtype": "f4"
         },
         "xaxis": "x",
         "y": {
          "bdata": "galGwjpDQ8I6Q0PCOkNDwg9DQ8I5Q0PCOUNDwjlDQ8I6Q0PCOkNDwjpDQ8I5Q0PCFENDwjlDQ8I5Q0PCOUNDwjlDQ8I5Q0PCOUNDwmxrQ8IXbEPCF2xDwhdsQ8I=",
          "dtype": "f4"
         },
         "yaxis": "y"
        },
        {
         "customdata": [
          [
           "Bel'Veth",
           "707.00"
          ],
          [
           "Bel'Veth",
           "708.00"
          ],
          [
           "Bel'Veth",
           "709.00"
          ],
          [
           "Bel'Veth",
           "710.00"
          ],
          [
           "Bel'Veth",
           "711.00"
          ],
          [
           "Bel'Veth",
           "712.00"
          ],
          [
           "Bel'Veth",
           "713.00"
          ],
          [
           "Bel'Veth",
           "714.00"
          ],
          [
           "Bel'Veth",
           "715.00"
          ],
          [
           "Bel'Veth",
           "716.00"
          ],
          [
           "Bel'Veth",
           "717.00"
          ],
          [
           "Bel'Veth",
           "718.00"
          ],
          [
           "Bel'Veth",
           "719.00"
          ],
          [
           "Bel'Veth",
           "720.00"
          ],
          [
           "Bel'Veth",
           "721.00"
          ],
          [
           "Bel'Veth",
           "722.00"
          ],
          [
           "Bel'Veth",
           "723.00"
          ],
          [
           "Bel'Veth",
           "724.00"
          ],
          [
           "Bel'Veth",
           "751.00"
          ],
          [
           "Bel'Veth",
           "752.00"
          ],
          [
           "Bel'Veth",
           "753.00"
          ],
          [
           "Bel'Veth",
           "754.00"
          ],
          [
           "Bel'Veth",
           "755.00"
          ]
         ],
         "hovertemplate": "Champion=%{customdata[0]}<br>t-SNE Component 1=%{x}<br>t-SNE Component 2=%{y}<br>Patch=%{customdata[1]}<extra></extra>",
         "legendgroup": "Bel'Veth",
         "marker": {
          "color": "#FECB52",
          "size": 8,
          "symbol": "circle"
         },
         "mode": "markers",
         "name": "Bel'Veth",
         "showlegend": true,
         "type": "scattergl",
         "x": {
          "bdata": "EuSKQFXZU0A92VNANtlTQDrZU0A02VNAL9lTQEzZU0BJ2VNAStlTQEnZU0As2VNAR9lTQCnZU0At2VNAKdlTQCvZU0Aq2VNAKtlTQCrZU0At2VNAKtlTQCjZU0A=",
          "dtype": "f4"
         },
         "xaxis": "x",
         "y": {
          "bdata": "sX2IQlSLiEJXi4hCOYuIQleLiEIwi4hCPIuIQlSLiEJUi4hCVIuIQlSLiEI3i4hCVIuIQjyLiEI5i4hCPIuIQjiLiEIwi4hCOIuIQjCLiEI5i4hCOIuIQjyLiEI=",
          "dtype": "f4"
         },
         "yaxis": "y"
        },
        {
         "customdata": [
          [
           "Braum",
           "707.00"
          ],
          [
           "Braum",
           "708.00"
          ],
          [
           "Braum",
           "709.00"
          ],
          [
           "Braum",
           "710.00"
          ],
          [
           "Braum",
           "711.00"
          ],
          [
           "Braum",
           "712.00"
          ],
          [
           "Braum",
           "713.00"
          ],
          [
           "Braum",
           "714.00"
          ],
          [
           "Braum",
           "715.00"
          ],
          [
           "Braum",
           "716.00"
          ],
          [
           "Braum",
           "717.00"
          ],
          [
           "Braum",
           "718.00"
          ],
          [
           "Braum",
           "719.00"
          ],
          [
           "Braum",
           "720.00"
          ],
          [
           "Braum",
           "721.00"
          ],
          [
           "Braum",
           "722.00"
          ],
          [
           "Braum",
           "723.00"
          ],
          [
           "Braum",
           "724.00"
          ],
          [
           "Braum",
           "751.00"
          ],
          [
           "Braum",
           "752.00"
          ],
          [
           "Braum",
           "753.00"
          ],
          [
           "Braum",
           "754.00"
          ],
          [
           "Braum",
           "755.00"
          ]
         ],
         "hovertemplate": "Champion=%{customdata[0]}<br>t-SNE Component 1=%{x}<br>t-SNE Component 2=%{y}<br>Patch=%{customdata[1]}<extra></extra>",
         "legendgroup": "Braum",
         "marker": {
          "color": "#636efa",
          "size": 8,
          "symbol": "circle"
         },
         "mode": "markers",
         "name": "Braum",
         "showlegend": true,
         "type": "scattergl",
         "x": {
          "bdata": "fdlgwevSYcHw0mHBh8phwUzJYcFMyWHBTclhwUbJYcFGyWHBTMlhwWfFYcFNyWHBZ8VhwUXJYcFFyWHBTMlhwU7JYcFGyWHB3dNhwd3TYcFGyWHB4dNhwd7TYcE=",
          "dtype": "f4"
         },
         "xaxis": "x",
         "y": {
          "bdata": "bpppwguwbcL7r23CMbFtwneubcJ4rm3Chq5twoiubcKIrm3CeK5twuavbcJ4rm3C5q9twoiubcKIrm3Cea5twoaubcKIrm3CiettwonrbcKIrm3ClettworrbcI=",
          "dtype": "f4"
         },
         "yaxis": "y"
        },
        {
         "customdata": [
          [
           "Jhin",
           "707.00"
          ],
          [
           "Jhin",
           "708.00"
          ],
          [
           "Jhin",
           "709.00"
          ],
          [
           "Jhin",
           "710.00"
          ],
          [
           "Jhin",
           "711.00"
          ],
          [
           "Jhin",
           "712.00"
          ],
          [
           "Jhin",
           "713.00"
          ],
          [
           "Jhin",
           "714.00"
          ],
          [
           "Jhin",
           "715.00"
          ],
          [
           "Jhin",
           "716.00"
          ],
          [
           "Jhin",
           "717.00"
          ],
          [
           "Jhin",
           "718.00"
          ],
          [
           "Jhin",
           "719.00"
          ],
          [
           "Jhin",
           "720.00"
          ],
          [
           "Jhin",
           "721.00"
          ],
          [
           "Jhin",
           "722.00"
          ],
          [
           "Jhin",
           "723.00"
          ],
          [
           "Jhin",
           "724.00"
          ],
          [
           "Jhin",
           "751.00"
          ],
          [
           "Jhin",
           "752.00"
          ],
          [
           "Jhin",
           "753.00"
          ],
          [
           "Jhin",
           "754.00"
          ],
          [
           "Jhin",
           "755.00"
          ]
         ],
         "hovertemplate": "Champion=%{customdata[0]}<br>t-SNE Component 1=%{x}<br>t-SNE Component 2=%{y}<br>Patch=%{customdata[1]}<extra></extra>",
         "legendgroup": "Jhin",
         "marker": {
          "color": "#EF553B",
          "size": 8,
          "symbol": "circle"
         },
         "mode": "markers",
         "name": "Jhin",
         "showlegend": true,
         "type": "scattergl",
         "x": {
          "bdata": "nTC+QfcpwEH4KcBBzSnAQfYpwEEKKsBB9inAQfQpwEEWKsBB9ynAQRUqwEH1KcBB0CnAQfYpwEENKsBB9inAQfYpwEEHKsBB9SnAQQkqwEH2KcBBYirAQWMqwEE=",
          "dtype": "f4"
         },
         "xaxis": "x",
         "y": {
          "bdata": "rtpBwhfERcIaxEXCJ8RFwhfERcIcxEXCF8RFwhbERcIWxEXCGMRFwhbERcIYxEXCJsRFwhfERcIXxEXCGMRFwhjERcIhxEXCGMRFwhvERcIZxEXCAsRFwgPERcI=",
          "dtype": "f4"
         },
         "yaxis": "y"
        },
        {
         "customdata": [
          [
           "Kindred",
           "707.00"
          ],
          [
           "Kindred",
           "708.00"
          ],
          [
           "Kindred",
           "709.00"
          ],
          [
           "Kindred",
           "710.00"
          ],
          [
           "Kindred",
           "711.00"
          ],
          [
           "Kindred",
           "712.00"
          ],
          [
           "Kindred",
           "713.00"
          ],
          [
           "Kindred",
           "714.00"
          ],
          [
           "Kindred",
           "715.00"
          ],
          [
           "Kindred",
           "716.00"
          ],
          [
           "Kindred",
           "717.00"
          ],
          [
           "Kindred",
           "718.00"
          ],
          [
           "Kindred",
           "719.00"
          ],
          [
           "Kindred",
           "720.00"
          ],
          [
           "Kindred",
           "721.00"
          ],
          [
           "Kindred",
           "722.00"
          ],
          [
           "Kindred",
           "723.00"
          ],
          [
           "Kindred",
           "724.00"
          ],
          [
           "Kindred",
           "751.00"
          ],
          [
           "Kindred",
           "752.00"
          ],
          [
           "Kindred",
           "753.00"
          ],
          [
           "Kindred",
           "754.00"
          ],
          [
           "Kindred",
           "755.00"
          ]
         ],
         "hovertemplate": "Champion=%{customdata[0]}<br>t-SNE Component 1=%{x}<br>t-SNE Component 2=%{y}<br>Patch=%{customdata[1]}<extra></extra>",
         "legendgroup": "Kindred",
         "marker": {
          "color": "#00cc96",
          "size": 8,
          "symbol": "circle"
         },
         "mode": "markers",
         "name": "Kindred",
         "showlegend": true,
         "type": "scattergl",
         "x": {
          "bdata": "9w3oQaEr7kG+K+5BrSvuQcUr7kGzK+5BlivuQa0r7kHBK+5BwSvuQdIs7kHBK+5BzizuQawr7kHBK+5BwyvuQVc07kFXNO5BmSvuQYAQ7kHBK+5BShjuQYAQ7kE=",
          "dtype": "f4"
         },
         "xaxis": "x",
         "y": {
          "bdata": "WSgjwoRYIMKaWCDCjFggwptYIMKIWCDCf1ggwoxYIMKZWCDCmlggwj1ZIMKZWCDCO1kgwolYIMKYWCDCmVggwtRcIMLUXCDCflggwoJJIMKYWCDCJU0gwoJJIMI=",
          "dtype": "f4"
         },
         "yaxis": "y"
        },
        {
         "customdata": [
          [
           "Miss Fortune",
           "707.00"
          ],
          [
           "Miss Fortune",
           "708.00"
          ],
          [
           "Miss Fortune",
           "709.00"
          ],
          [
           "Miss Fortune",
           "710.00"
          ],
          [
           "Miss Fortune",
           "711.00"
          ],
          [
           "Miss Fortune",
           "712.00"
          ],
          [
           "Miss Fortune",
           "713.00"
          ],
          [
           "Miss Fortune",
           "714.00"
          ],
          [
           "Miss Fortune",
           "715.00"
          ],
          [
           "Miss Fortune",
           "716.00"
          ],
          [
           "Miss Fortune",
           "717.00"
          ],
          [
           "Miss Fortune",
           "718.00"
          ],
          [
           "Miss Fortune",
           "719.00"
          ],
          [
           "Miss Fortune",
           "720.00"
          ],
          [
           "Miss Fortune",
           "721.00"
          ],
          [
           "Miss Fortune",
           "722.00"
          ],
          [
           "Miss Fortune",
           "723.00"
          ],
          [
           "Miss Fortune",
           "724.00"
          ],
          [
           "Miss Fortune",
           "751.00"
          ],
          [
           "Miss Fortune",
           "752.00"
          ],
          [
           "Miss Fortune",
           "753.00"
          ],
          [
           "Miss Fortune",
           "754.00"
          ],
          [
           "Miss Fortune",
           "755.00"
          ]
         ],
         "hovertemplate": "Champion=%{customdata[0]}<br>t-SNE Component 1=%{x}<br>t-SNE Component 2=%{y}<br>Patch=%{customdata[1]}<extra></extra>",
         "legendgroup": "Miss Fortune",
         "marker": {
          "color": "#ab63fa",
          "size": 8,
          "symbol": "circle"
         },
         "mode": "markers",
         "name": "Miss Fortune",
         "showlegend": true,
         "type": "scattergl",
         "x": {
          "bdata": "7i9RQQeSYUEFkmFBBZJhQQKSYUH4kWFBAJJhQfmRYUEFkmFB+ZFhQQSSYUH6kWFBAJJhQfeRYUH0kWFB+JFhQQGSYUH3kWFBuJlhQeiUYUHxmmFB8ZphQTibYUE=",
          "dtype": "f4"
         },
         "xaxis": "x",
         "y": {
          "bdata": "qt2Dwn8lhMJ/JYTCfyWEwnUlhMKCJYTCdiWEwoIlhMJ/JYTCgiWEwn8lhMKCJYTCdyWEwoMlhMKBJYTCgyWEwnclhMKDJYTCXRWEwjEThMKwB4TCsAeEwjIIhMI=",
          "dtype": "f4"
         },
         "yaxis": "y"
        },
        {
         "customdata": [
          [
           "Ashe",
           "707.00"
          ],
          [
           "Ashe",
           "708.00"
          ],
          [
           "Ashe",
           "709.00"
          ],
          [
           "Ashe",
           "710.00"
          ],
          [
           "Ashe",
           "711.00"
          ],
          [
           "Ashe",
           "712.00"
          ],
          [
           "Ashe",
           "713.00"
          ],
          [
           "Ashe",
           "714.00"
          ],
          [
           "Ashe",
           "715.00"
          ],
          [
           "Ashe",
           "716.00"
          ],
          [
           "Ashe",
           "717.00"
          ],
          [
           "Ashe",
           "718.00"
          ],
          [
           "Ashe",
           "719.00"
          ],
          [
           "Ashe",
           "720.00"
          ],
          [
           "Ashe",
           "721.00"
          ],
          [
           "Ashe",
           "722.00"
          ],
          [
           "Ashe",
           "723.00"
          ],
          [
           "Ashe",
           "724.00"
          ],
          [
           "Ashe",
           "751.00"
          ],
          [
           "Ashe",
           "752.00"
          ],
          [
           "Ashe",
           "753.00"
          ],
          [
           "Ashe",
           "754.00"
          ],
          [
           "Ashe",
           "755.00"
          ]
         ],
         "hovertemplate": "Champion=%{customdata[0]}<br>t-SNE Component 1=%{x}<br>t-SNE Component 2=%{y}<br>Patch=%{customdata[1]}<extra></extra>",
         "legendgroup": "Ashe",
         "marker": {
          "color": "#FFA15A",
          "size": 8,
          "symbol": "circle"
         },
         "mode": "markers",
         "name": "Ashe",
         "showlegend": true,
         "type": "scattergl",
         "x": {
          "bdata": "AG5+Qb3+d0G//ndBvf53Qej+d0Ht/ndBxP53Qef+d0HE/ndB6P53QcH+d0Ho/ndB6P53QcL+d0Go/ndBuv53QfH+d0Gw/ndB5/53QfH+d0G5/ndBvv53QfL+d0E=",
          "dtype": "f4"
         },
         "xaxis": "x",
         "y": {
          "bdata": "MyFIwh7jS8Id40vCHeNLwh3jS8Id40vCKuNLwhrjS8Iq40vCHONLwiHjS8Id40vCHeNLwiHjS8Iy40vCHONLwh3jS8Iq40vCGuNLwh3jS8Id40vCIeNLwh3jS8I=",
          "dtype": "f4"
         },
         "yaxis": "y"
        },
        {
         "customdata": [
          [
           "Zeri",
           "707.00"
          ],
          [
           "Zeri",
           "708.00"
          ],
          [
           "Zeri",
           "709.00"
          ],
          [
           "Zeri",
           "710.00"
          ],
          [
           "Zeri",
           "711.00"
          ],
          [
           "Zeri",
           "712.00"
          ],
          [
           "Zeri",
           "713.00"
          ],
          [
           "Zeri",
           "714.00"
          ],
          [
           "Zeri",
           "715.00"
          ],
          [
           "Zeri",
           "716.00"
          ],
          [
           "Zeri",
           "717.00"
          ],
          [
           "Zeri",
           "718.00"
          ],
          [
           "Zeri",
           "719.00"
          ],
          [
           "Zeri",
           "720.00"
          ],
          [
           "Zeri",
           "721.00"
          ],
          [
           "Zeri",
           "722.00"
          ],
          [
           "Zeri",
           "723.00"
          ],
          [
           "Zeri",
           "724.00"
          ],
          [
           "Zeri",
           "751.00"
          ],
          [
           "Zeri",
           "752.00"
          ],
          [
           "Zeri",
           "753.00"
          ],
          [
           "Zeri",
           "754.00"
          ],
          [
           "Zeri",
           "755.00"
          ]
         ],
         "hovertemplate": "Champion=%{customdata[0]}<br>t-SNE Component 1=%{x}<br>t-SNE Component 2=%{y}<br>Patch=%{customdata[1]}<extra></extra>",
         "legendgroup": "Zeri",
         "marker": {
          "color": "#19d3f3",
          "size": 8,
          "symbol": "circle"
         },
         "mode": "markers",
         "name": "Zeri",
         "showlegend": true,
         "type": "scattergl",
         "x": {
          "bdata": "OvFHQmBuS0JebktCZm5LQmZuS0JYbktCWG5LQl5uS0JmbktCUW5LQl1uS0JSbktCX25LQlhuS0JYbktCUm5LQlhuS0JYbktCp21LQqdtS0KnbUtCUm5LQlJuS0I=",
          "dtype": "f4"
         },
         "xaxis": "x",
         "y": {
          "bdata": "zqE+wgJrPML+ajzCA2s8wgNrPMIEazzCBGs8wv5qPMIEazzC/Go8wvpqPML7ajzC/Go8wgRrPMIEazzC/Go8wgNrPMIDazzCDWs8wg1rPMINazzC+2o8wvtqPMI=",
          "dtype": "f4"
         },
         "yaxis": "y"
        },
        {
         "customdata": [
          [
           "Jinx",
           "707.00"
          ],
          [
           "Jinx",
           "708.00"
          ],
          [
           "Jinx",
           "709.00"
          ],
          [
           "Jinx",
           "710.00"
          ],
          [
           "Jinx",
           "711.00"
          ],
          [
           "Jinx",
           "712.00"
          ],
          [
           "Jinx",
           "713.00"
          ],
          [
           "Jinx",
           "714.00"
          ],
          [
           "Jinx",
           "715.00"
          ],
          [
           "Jinx",
           "716.00"
          ],
          [
           "Jinx",
           "717.00"
          ],
          [
           "Jinx",
           "718.00"
          ],
          [
           "Jinx",
           "719.00"
          ],
          [
           "Jinx",
           "720.00"
          ],
          [
           "Jinx",
           "721.00"
          ],
          [
           "Jinx",
           "722.00"
          ],
          [
           "Jinx",
           "723.00"
          ],
          [
           "Jinx",
           "724.00"
          ],
          [
           "Jinx",
           "751.00"
          ],
          [
           "Jinx",
           "752.00"
          ],
          [
           "Jinx",
           "753.00"
          ],
          [
           "Jinx",
           "754.00"
          ],
          [
           "Jinx",
           "755.00"
          ]
         ],
         "hovertemplate": "Champion=%{customdata[0]}<br>t-SNE Component 1=%{x}<br>t-SNE Component 2=%{y}<br>Patch=%{customdata[1]}<extra></extra>",
         "legendgroup": "Jinx",
         "marker": {
          "color": "#FF6692",
          "size": 8,
          "symbol": "circle"
         },
         "mode": "markers",
         "name": "Jinx",
         "showlegend": true,
         "type": "scattergl",
         "x": {
          "bdata": "jfobQZEcKkGTHCpBgRwqQZIcKkGKHCpBghwqQYIcKkGTHCpBgxwqQYQcKkGHHCpBhRwqQYUcKkGFHCpBiBwqQYUcKkGIHCpBhRwqQTNXKkEzVypBM1cqQUFWKkE=",
          "dtype": "f4"
         },
         "xaxis": "x",
         "y": {
          "bdata": "/FFpwnqyacJ6smnChrJpwnmyacKBsmnChrJpwniyacJ6smnCgbJpwoWyacJ+smnCgbJpwoGyacKBsmnCf7JpwoGyacJ/smnCgbJpwvP7acLz+2nC8/tpwjT8acI=",
          "dtype": "f4"
         },
         "yaxis": "y"
        },
        {
         "customdata": [
          [
           "Tahm Kench",
           "707.00"
          ],
          [
           "Tahm Kench",
           "708.00"
          ],
          [
           "Tahm Kench",
           "709.00"
          ],
          [
           "Tahm Kench",
           "710.00"
          ],
          [
           "Tahm Kench",
           "711.00"
          ],
          [
           "Tahm Kench",
           "712.00"
          ],
          [
           "Tahm Kench",
           "713.00"
          ],
          [
           "Tahm Kench",
           "714.00"
          ],
          [
           "Tahm Kench",
           "715.00"
          ],
          [
           "Tahm Kench",
           "716.00"
          ],
          [
           "Tahm Kench",
           "717.00"
          ],
          [
           "Tahm Kench",
           "718.00"
          ],
          [
           "Tahm Kench",
           "719.00"
          ],
          [
           "Tahm Kench",
           "720.00"
          ],
          [
           "Tahm Kench",
           "721.00"
          ],
          [
           "Tahm Kench",
           "722.00"
          ],
          [
           "Tahm Kench",
           "723.00"
          ],
          [
           "Tahm Kench",
           "724.00"
          ],
          [
           "Tahm Kench",
           "751.00"
          ],
          [
           "Tahm Kench",
           "752.00"
          ],
          [
           "Tahm Kench",
           "753.00"
          ],
          [
           "Tahm Kench",
           "754.00"
          ],
          [
           "Tahm Kench",
           "755.00"
          ]
         ],
         "hovertemplate": "Champion=%{customdata[0]}<br>t-SNE Component 1=%{x}<br>t-SNE Component 2=%{y}<br>Patch=%{customdata[1]}<extra></extra>",
         "legendgroup": "Tahm Kench",
         "marker": {
          "color": "#B6E880",
          "size": 8,
          "symbol": "circle"
         },
         "mode": "markers",
         "name": "Tahm Kench",
         "showlegend": true,
         "type": "scattergl",
         "x": {
          "bdata": "34h6wny2dsJ8tnbCZLh2wny2dsJhuHbCYrh2wmG4dsJkuHbCYbh2wl64dsJjuHbCYLh2wmC4dsJguHbCX7h2wmO4dsJjuHbCYrh2wrCPdsKwj3bCr492wrCPdsI=",
          "dtype": "f4"
         },
         "xaxis": "x",
         "y": {
          "bdata": "LuL/wdL0/MHT9PzBg+78wdL0/MGA7vzBf+78wYDu/MGC7vzBhu78wYTu/MGB7vzBh+78wYfu/MGH7vzBhu78wYLu/MGC7vzBhO78wcJ//cHCf/3Bwn/9wcJ//cE=",
          "dtype": "f4"
         },
         "yaxis": "y"
        },
        {
         "customdata": [
          [
           "Tryndamere",
           "707.00"
          ],
          [
           "Tryndamere",
           "708.00"
          ],
          [
           "Tryndamere",
           "709.00"
          ],
          [
           "Tryndamere",
           "710.00"
          ],
          [
           "Tryndamere",
           "711.00"
          ],
          [
           "Tryndamere",
           "712.00"
          ],
          [
           "Tryndamere",
           "713.00"
          ],
          [
           "Tryndamere",
           "714.00"
          ],
          [
           "Tryndamere",
           "715.00"
          ],
          [
           "Tryndamere",
           "716.00"
          ],
          [
           "Tryndamere",
           "717.00"
          ],
          [
           "Tryndamere",
           "718.00"
          ],
          [
           "Tryndamere",
           "719.00"
          ],
          [
           "Tryndamere",
           "720.00"
          ],
          [
           "Tryndamere",
           "721.00"
          ],
          [
           "Tryndamere",
           "722.00"
          ],
          [
           "Tryndamere",
           "723.00"
          ],
          [
           "Tryndamere",
           "724.00"
          ],
          [
           "Tryndamere",
           "751.00"
          ],
          [
           "Tryndamere",
           "752.00"
          ],
          [
           "Tryndamere",
           "753.00"
          ],
          [
           "Tryndamere",
           "754.00"
          ],
          [
           "Tryndamere",
           "755.00"
          ]
         ],
         "hovertemplate": "Champion=%{customdata[0]}<br>t-SNE Component 1=%{x}<br>t-SNE Component 2=%{y}<br>Patch=%{customdata[1]}<extra></extra>",
         "legendgroup": "Tryndamere",
         "marker": {
          "color": "#FF97FF",
          "size": 8,
          "symbol": "circle"
         },
         "mode": "markers",
         "name": "Tryndamere",
         "showlegend": true,
         "type": "scattergl",
         "x": {
          "bdata": "S1eBwsykgMLPpIDCzKSAws+kgMLPpIDC0qSAwtKkgMLSpIDCz6SAws+kgMLLpIDCyqSAwsukgMLKpIDCyqSAwsqkgMKzpIDC0qSAwtKkgMLfo4DC36OAwt+jgMI=",
          "dtype": "f4"
         },
         "xaxis": "x",
         "y": {
          "bdata": "UaUfQrqKI0K1iiNCuoojQraKI0K2iiNCxIojQsKKI0LFiiNCtoojQraKI0K8iiNCvIojQr6KI0K8iiNCvIojQryKI0K2iiNCxYojQsWKI0LriiNC64ojQuuKI0I=",
          "dtype": "f4"
         },
         "yaxis": "y"
        },
        {
         "customdata": [
          [
           "Briar",
           "707.00"
          ],
          [
           "Briar",
           "708.00"
          ],
          [
           "Briar",
           "709.00"
          ],
          [
           "Briar",
           "710.00"
          ],
          [
           "Briar",
           "711.00"
          ],
          [
           "Briar",
           "712.00"
          ],
          [
           "Briar",
           "713.00"
          ],
          [
           "Briar",
           "714.00"
          ],
          [
           "Briar",
           "715.00"
          ],
          [
           "Briar",
           "716.00"
          ],
          [
           "Briar",
           "717.00"
          ],
          [
           "Briar",
           "718.00"
          ],
          [
           "Briar",
           "719.00"
          ],
          [
           "Briar",
           "720.00"
          ],
          [
           "Briar",
           "721.00"
          ],
          [
           "Briar",
           "722.00"
          ],
          [
           "Briar",
           "723.00"
          ],
          [
           "Briar",
           "724.00"
          ],
          [
           "Briar",
           "751.00"
          ],
          [
           "Briar",
           "752.00"
          ],
          [
           "Briar",
           "753.00"
          ],
          [
           "Briar",
           "754.00"
          ],
          [
           "Briar",
           "755.00"
          ]
         ],
         "hovertemplate": "Champion=%{customdata[0]}<br>t-SNE Component 1=%{x}<br>t-SNE Component 2=%{y}<br>Patch=%{customdata[1]}<extra></extra>",
         "legendgroup": "Briar",
         "marker": {
          "color": "#FECB52",
          "size": 8,
          "symbol": "circle"
         },
         "mode": "markers",
         "name": "Briar",
         "showlegend": true,
         "type": "scattergl",
         "x": {
          "bdata": "i7aUwpGhk8KQoZPChqGTwpChk8KGoZPChqGTwoahk8KGoZPChqGTwpOhk8KGoZPChqGTwpKhk8KSoZPCkqGTwoWhk8KFoZPChaGTwoahk8KDoZPCg6GTwoOhk8I=",
          "dtype": "f4"
         },
         "xaxis": "x",
         "y": {
          "bdata": "VDeVQAlYsUAHWLFAJ0+xQAhYsUApT7FALE+xQCtPsUA1T7FANU+xQNlPsUA2T7FAN0+xQMhPsUDHT7FAx0+xQClPsUApT7FAKU+xQDhPsUC0UbFAtFGxQLRRsUA=",
          "dtype": "f4"
         },
         "yaxis": "y"
        },
        {
         "customdata": [
          [
           "Viego",
           "707.00"
          ],
          [
           "Viego",
           "708.00"
          ],
          [
           "Viego",
           "709.00"
          ],
          [
           "Viego",
           "710.00"
          ],
          [
           "Viego",
           "711.00"
          ],
          [
           "Viego",
           "712.00"
          ],
          [
           "Viego",
           "713.00"
          ],
          [
           "Viego",
           "714.00"
          ],
          [
           "Viego",
           "715.00"
          ],
          [
           "Viego",
           "716.00"
          ],
          [
           "Viego",
           "717.00"
          ],
          [
           "Viego",
           "718.00"
          ],
          [
           "Viego",
           "719.00"
          ],
          [
           "Viego",
           "720.00"
          ],
          [
           "Viego",
           "721.00"
          ],
          [
           "Viego",
           "722.00"
          ],
          [
           "Viego",
           "723.00"
          ],
          [
           "Viego",
           "724.00"
          ],
          [
           "Viego",
           "751.00"
          ],
          [
           "Viego",
           "752.00"
          ],
          [
           "Viego",
           "753.00"
          ],
          [
           "Viego",
           "754.00"
          ],
          [
           "Viego",
           "755.00"
          ]
         ],
         "hovertemplate": "Champion=%{customdata[0]}<br>t-SNE Component 1=%{x}<br>t-SNE Component 2=%{y}<br>Patch=%{customdata[1]}<extra></extra>",
         "legendgroup": "Viego",
         "marker": {
          "color": "#636efa",
          "size": 8,
          "symbol": "circle"
         },
         "mode": "markers",
         "name": "Viego",
         "showlegend": true,
         "type": "scattergl",
         "x": {
          "bdata": "rtPnwPE278DsNu/A9DbvwPE278DyNu/A7zbvwO8278D2Nu/A7jbvwO8278DwNu/AkCrvwPE278CRKu/A8jbvwPE278DsI+/A8DbvwB3Z7sAj2e7ANeLuwEXf7sA=",
          "dtype": "f4"
         },
         "xaxis": "x",
         "y": {
          "bdata": "UwOBQfD+iEHw/ohB7v6IQfH+iEHt/ohB8/6IQfL+iEHu/ohB8v6IQeH+iEHz/ohBnv2IQfL+iEGe/YhB8f6IQfP+iEHB/ohB8v6IQbAhiUGrIYlBSB+JQZsgiUE=",
          "dtype": "f4"
         },
         "yaxis": "y"
        },
        {
         "customdata": [
          [
           "Senna",
           "707.00"
          ],
          [
           "Senna",
           "708.00"
          ],
          [
           "Senna",
           "709.00"
          ],
          [
           "Senna",
           "710.00"
          ],
          [
           "Senna",
           "711.00"
          ],
          [
           "Senna",
           "712.00"
          ],
          [
           "Senna",
           "713.00"
          ],
          [
           "Senna",
           "714.00"
          ],
          [
           "Senna",
           "715.00"
          ],
          [
           "Senna",
           "716.00"
          ],
          [
           "Senna",
           "717.00"
          ],
          [
           "Senna",
           "718.00"
          ],
          [
           "Senna",
           "719.00"
          ],
          [
           "Senna",
           "720.00"
          ],
          [
           "Senna",
           "721.00"
          ],
          [
           "Senna",
           "722.00"
          ],
          [
           "Senna",
           "723.00"
          ],
          [
           "Senna",
           "724.00"
          ],
          [
           "Senna",
           "751.00"
          ],
          [
           "Senna",
           "752.00"
          ],
          [
           "Senna",
           "753.00"
          ],
          [
           "Senna",
           "754.00"
          ],
          [
           "Senna",
           "755.00"
          ]
         ],
         "hovertemplate": "Champion=%{customdata[0]}<br>t-SNE Component 1=%{x}<br>t-SNE Component 2=%{y}<br>Patch=%{customdata[1]}<extra></extra>",
         "legendgroup": "Senna",
         "marker": {
          "color": "#EF553B",
          "size": 8,
          "symbol": "circle"
         },
         "mode": "markers",
         "name": "Senna",
         "showlegend": true,
         "type": "scattergl",
         "x": {
          "bdata": "BgbLwW7azcF+2s3BdNrNwYDazcF+2s3BfdrNwXzazcF+2s3BfdrNwX/azcF+2s3BgtrNwX7azcF92s3BfdrNwX7azcF92s3BgNrNwX/azcF/2s3Bpd3NwaXdzcE=",
          "dtype": "f4"
         },
         "xaxis": "x",
         "y": {
          "bdata": "xuY9wVJkLsFUZC7BVGQuwVhkLsFXZC7BV2QuwV1kLsFZZC7BWWQuwVpkLsFYZC7BWGQuwVZkLsFWZC7BVGQuwVdkLsFXZC7BVWQuwVVkLsFZZC7BDmIuwQ5iLsE=",
          "dtype": "f4"
         },
         "yaxis": "y"
        },
        {
         "customdata": [
          [
           "Lucian",
           "707.00"
          ],
          [
           "Lucian",
           "708.00"
          ],
          [
           "Lucian",
           "709.00"
          ],
          [
           "Lucian",
           "710.00"
          ],
          [
           "Lucian",
           "711.00"
          ],
          [
           "Lucian",
           "712.00"
          ],
          [
           "Lucian",
           "713.00"
          ],
          [
           "Lucian",
           "714.00"
          ],
          [
           "Lucian",
           "715.00"
          ],
          [
           "Lucian",
           "716.00"
          ],
          [
           "Lucian",
           "717.00"
          ],
          [
           "Lucian",
           "718.00"
          ],
          [
           "Lucian",
           "719.00"
          ],
          [
           "Lucian",
           "720.00"
          ],
          [
           "Lucian",
           "721.00"
          ],
          [
           "Lucian",
           "722.00"
          ],
          [
           "Lucian",
           "723.00"
          ],
          [
           "Lucian",
           "724.00"
          ],
          [
           "Lucian",
           "751.00"
          ],
          [
           "Lucian",
           "752.00"
          ],
          [
           "Lucian",
           "753.00"
          ],
          [
           "Lucian",
           "754.00"
          ],
          [
           "Lucian",
           "755.00"
          ]
         ],
         "hovertemplate": "Champion=%{customdata[0]}<br>t-SNE Component 1=%{x}<br>t-SNE Component 2=%{y}<br>Patch=%{customdata[1]}<extra></extra>",
         "legendgroup": "Lucian",
         "marker": {
          "color": "#00cc96",
          "size": 8,
          "symbol": "circle"
         },
         "mode": "markers",
         "name": "Lucian",
         "showlegend": true,
         "type": "scattergl",
         "x": {
          "bdata": "ID9eQpxAXEKbQFxCiUBcQolAXEKbQFxCiEBcQohAXEKIQFxCiEBcQohAXEKIQFxCiEBcQohAXEKIQFxCiEBcQohAXEKJQFxCuD9cQsU3XELFN1xC5DhcQuQ4XEI=",
          "dtype": "f4"
         },
         "xaxis": "x",
         "y": {
          "bdata": "0zEtwlfZMMJX2TDCL9kwwi/ZMMJX2TDCL9kwwjDZMMIw2TDCMNkwwjDZMMIw2TDCMNkwwjDZMMIw2TDCMNkwwjDZMMIw2TDC7tcwwknbMMJI2zDCkdwwwpHcMMI=",
          "dtype": "f4"
         },
         "yaxis": "y"
        },
        {
         "customdata": [
          [
           "Zed",
           "707.00"
          ],
          [
           "Zed",
           "708.00"
          ],
          [
           "Zed",
           "709.00"
          ],
          [
           "Zed",
           "710.00"
          ],
          [
           "Zed",
           "711.00"
          ],
          [
           "Zed",
           "712.00"
          ],
          [
           "Zed",
           "713.00"
          ],
          [
           "Zed",
           "714.00"
          ],
          [
           "Zed",
           "715.00"
          ],
          [
           "Zed",
           "716.00"
          ],
          [
           "Zed",
           "717.00"
          ],
          [
           "Zed",
           "718.00"
          ],
          [
           "Zed",
           "719.00"
          ],
          [
           "Zed",
           "720.00"
          ],
          [
           "Zed",
           "721.00"
          ],
          [
           "Zed",
           "722.00"
          ],
          [
           "Zed",
           "723.00"
          ],
          [
           "Zed",
           "724.00"
          ],
          [
           "Zed",
           "751.00"
          ],
          [
           "Zed",
           "752.00"
          ],
          [
           "Zed",
           "753.00"
          ],
          [
           "Zed",
           "754.00"
          ],
          [
           "Zed",
           "755.00"
          ]
         ],
         "hovertemplate": "Champion=%{customdata[0]}<br>t-SNE Component 1=%{x}<br>t-SNE Component 2=%{y}<br>Patch=%{customdata[1]}<extra></extra>",
         "legendgroup": "Zed",
         "marker": {
          "color": "#ab63fa",
          "size": 8,
          "symbol": "circle"
         },
         "mode": "markers",
         "name": "Zed",
         "showlegend": true,
         "type": "scattergl",
         "x": {
          "bdata": "vAElQTLhGkEy4RpBMuEaQTLhGkEy4RpB4uAaQeHgGkEq4RpBMOEaQTDhGkEr4RpB4eAaQSrhGkEq4RpBJ+EaQSrhGkEp4RpBqNcaQSbhGkGo1xpBqdcaQanXGkE=",
          "dtype": "f4"
         },
         "xaxis": "x",
         "y": {
          "bdata": "hk8fQpcRHEKWERxClhEcQpYRHEKWERxCHREcQh0RHEKbERxClhEcQpURHEKRERxCHREcQp0RHEKdERxCmhEcQp0RHEKdERxCoQMcQpoRHEKhAxxCoQMcQqEDHEI=",
          "dtype": "f4"
         },
         "yaxis": "y"
        },
        {
         "customdata": [
          [
           "Jax",
           "707.00"
          ],
          [
           "Jax",
           "708.00"
          ],
          [
           "Jax",
           "709.00"
          ],
          [
           "Jax",
           "710.00"
          ],
          [
           "Jax",
           "711.00"
          ],
          [
           "Jax",
           "712.00"
          ],
          [
           "Jax",
           "713.00"
          ],
          [
           "Jax",
           "714.00"
          ],
          [
           "Jax",
           "715.00"
          ],
          [
           "Jax",
           "716.00"
          ],
          [
           "Jax",
           "717.00"
          ],
          [
           "Jax",
           "718.00"
          ],
          [
           "Jax",
           "719.00"
          ],
          [
           "Jax",
           "720.00"
          ],
          [
           "Jax",
           "721.00"
          ],
          [
           "Jax",
           "722.00"
          ],
          [
           "Jax",
           "723.00"
          ],
          [
           "Jax",
           "724.00"
          ],
          [
           "Jax",
           "751.00"
          ],
          [
           "Jax",
           "752.00"
          ],
          [
           "Jax",
           "753.00"
          ],
          [
           "Jax",
           "754.00"
          ],
          [
           "Jax",
           "755.00"
          ]
         ],
         "hovertemplate": "Champion=%{customdata[0]}<br>t-SNE Component 1=%{x}<br>t-SNE Component 2=%{y}<br>Patch=%{customdata[1]}<extra></extra>",
         "legendgroup": "Jax",
         "marker": {
          "color": "#FFA15A",
          "size": 8,
          "symbol": "circle"
         },
         "mode": "markers",
         "name": "Jax",
         "showlegend": true,
         "type": "scattergl",
         "x": {
          "bdata": "3a+wwYjNuMGhzbjBic24wZHNuMGTzbjBm824wYrNuMGKzbjBg824wYvNuMGLzbjBhc24wYvNuMGSzbjBis24wZHNuMGSzbjBjM24wYrNuMGKzbjBk824wZTNuME=",
          "dtype": "f4"
         },
         "xaxis": "x",
         "y": {
          "bdata": "gulMQoc+TEKjPkxCiD5MQrI+TEKhPkxCpz5MQog+TEKHPkxCkD5MQoc+TEKHPkxChT5MQog+TEKzPkxChz5MQrY+TEKyPkxChz5MQoc+TEKHPkxCsj5MQo4+TEI=",
          "dtype": "f4"
         },
         "yaxis": "y"
        },
        {
         "customdata": [
          [
           "Kled",
           "707.00"
          ],
          [
           "Kled",
           "708.00"
          ],
          [
           "Kled",
           "709.00"
          ],
          [
           "Kled",
           "710.00"
          ],
          [
           "Kled",
           "711.00"
          ],
          [
           "Kled",
           "712.00"
          ],
          [
           "Kled",
           "713.00"
          ],
          [
           "Kled",
           "714.00"
          ],
          [
           "Kled",
           "715.00"
          ],
          [
           "Kled",
           "716.00"
          ],
          [
           "Kled",
           "717.00"
          ],
          [
           "Kled",
           "718.00"
          ],
          [
           "Kled",
           "719.00"
          ],
          [
           "Kled",
           "720.00"
          ],
          [
           "Kled",
           "721.00"
          ],
          [
           "Kled",
           "722.00"
          ],
          [
           "Kled",
           "723.00"
          ],
          [
           "Kled",
           "724.00"
          ],
          [
           "Kled",
           "751.00"
          ],
          [
           "Kled",
           "752.00"
          ],
          [
           "Kled",
           "753.00"
          ],
          [
           "Kled",
           "754.00"
          ],
          [
           "Kled",
           "755.00"
          ]
         ],
         "hovertemplate": "Champion=%{customdata[0]}<br>t-SNE Component 1=%{x}<br>t-SNE Component 2=%{y}<br>Patch=%{customdata[1]}<extra></extra>",
         "legendgroup": "Kled",
         "marker": {
          "color": "#19d3f3",
          "size": 8,
          "symbol": "circle"
         },
         "mode": "markers",
         "name": "Kled",
         "showlegend": true,
         "type": "scattergl",
         "x": {
          "bdata": "wO5Pwv8VTsL/FU7C1RVOwtUVTsLUFU7CARZOwgEWTsLUFU7C0xVOwvIVTsIBFk7CARZOwgEWTsIPFk7CARZOwgYWTsIGFk7CBhZOwssyTsLKMk7CyjJOwtEyTsI=",
          "dtype": "f4"
         },
         "xaxis": "x",
         "y": {
          "bdata": "jR0XQnNxE0JzcRNCwXETQsdxE0LAcRNCcnETQnJxE0LBcRNCwXETQmRxE0JycRNCcnETQnJxE0J2cRNCcXETQnlxE0J5cRNCeXETQoOCE0KJghNCiYITQneCE0I=",
          "dtype": "f4"
         },
         "yaxis": "y"
        },
        {
         "customdata": [
          [
           "Ekko",
           "707.00"
          ],
          [
           "Ekko",
           "708.00"
          ],
          [
           "Ekko",
           "709.00"
          ],
          [
           "Ekko",
           "710.00"
          ],
          [
           "Ekko",
           "711.00"
          ],
          [
           "Ekko",
           "712.00"
          ],
          [
           "Ekko",
           "713.00"
          ],
          [
           "Ekko",
           "714.00"
          ],
          [
           "Ekko",
           "715.00"
          ],
          [
           "Ekko",
           "716.00"
          ],
          [
           "Ekko",
           "717.00"
          ],
          [
           "Ekko",
           "718.00"
          ],
          [
           "Ekko",
           "719.00"
          ],
          [
           "Ekko",
           "720.00"
          ],
          [
           "Ekko",
           "721.00"
          ],
          [
           "Ekko",
           "722.00"
          ],
          [
           "Ekko",
           "723.00"
          ],
          [
           "Ekko",
           "724.00"
          ],
          [
           "Ekko",
           "751.00"
          ],
          [
           "Ekko",
           "752.00"
          ],
          [
           "Ekko",
           "753.00"
          ],
          [
           "Ekko",
           "754.00"
          ],
          [
           "Ekko",
           "755.00"
          ]
         ],
         "hovertemplate": "Champion=%{customdata[0]}<br>t-SNE Component 1=%{x}<br>t-SNE Component 2=%{y}<br>Patch=%{customdata[1]}<extra></extra>",
         "legendgroup": "Ekko",
         "marker": {
          "color": "#FF6692",
          "size": 8,
          "symbol": "circle"
         },
         "mode": "markers",
         "name": "Ekko",
         "showlegend": true,
         "type": "scattergl",
         "x": {
          "bdata": "2moYQQ7eKEEO3ihBEN4oQRDeKEEF3ihBEd4oQRHeKEER3ihBEt4oQRLeKEEG3ihBB94oQRPeKEET3ihBE94oQRPeKEH/3ihB8KgoQZ72KEG8xihBx8UoQYPJKEE=",
          "dtype": "f4"
         },
         "xaxis": "x",
         "y": {
          "bdata": "q3M4QNSIMkDWiDJA0IgyQNGIMkBUiDJAz4gyQM+IMkDQiDJA0YgyQNCIMkBUiDJAU4gyQNKIMkDRiDJAz4gyQNCIMkAAdzJAE+EyQIdLLkBRly5AhqYuQN21LkA=",
          "dtype": "f4"
         },
         "yaxis": "y"
        },
        {
         "customdata": [
          [
           "Qiyana",
           "707.00"
          ],
          [
           "Qiyana",
           "708.00"
          ],
          [
           "Qiyana",
           "709.00"
          ],
          [
           "Qiyana",
           "710.00"
          ],
          [
           "Qiyana",
           "711.00"
          ],
          [
           "Qiyana",
           "712.00"
          ],
          [
           "Qiyana",
           "713.00"
          ],
          [
           "Qiyana",
           "714.00"
          ],
          [
           "Qiyana",
           "715.00"
          ],
          [
           "Qiyana",
           "716.00"
          ],
          [
           "Qiyana",
           "717.00"
          ],
          [
           "Qiyana",
           "718.00"
          ],
          [
           "Qiyana",
           "719.00"
          ],
          [
           "Qiyana",
           "720.00"
          ],
          [
           "Qiyana",
           "721.00"
          ],
          [
           "Qiyana",
           "722.00"
          ],
          [
           "Qiyana",
           "723.00"
          ],
          [
           "Qiyana",
           "724.00"
          ],
          [
           "Qiyana",
           "751.00"
          ],
          [
           "Qiyana",
           "752.00"
          ],
          [
           "Qiyana",
           "753.00"
          ],
          [
           "Qiyana",
           "754.00"
          ],
          [
           "Qiyana",
           "755.00"
          ]
         ],
         "hovertemplate": "Champion=%{customdata[0]}<br>t-SNE Component 1=%{x}<br>t-SNE Component 2=%{y}<br>Patch=%{customdata[1]}<extra></extra>",
         "legendgroup": "Qiyana",
         "marker": {
          "color": "#B6E880",
          "size": 8,
          "symbol": "circle"
         },
         "mode": "markers",
         "name": "Qiyana",
         "showlegend": true,
         "type": "scattergl",
         "x": {
          "bdata": "WQ42QQewKUEHsClBGbApQRGwKUEJsClBBrApQRCwKUEHsClBBrApQRSwKUEGsClBELApQQawKUEGsClBBrApQeOvKUEasClBDrApQapoKUGqaClBqWgpQapoKUE=",
          "dtype": "f4"
         },
         "xaxis": "x",
         "y": {
          "bdata": "9NkBQseaBELHmgRCzJoEQsuaBELEmgRCx5oEQsWaBELHmgRCx5oEQs2aBELHmgRCxZoEQseaBELHmgRCx5oEQsiaBELNmgRCxZoEQgZ+BEIGfgRCBX4EQgV+BEI=",
          "dtype": "f4"
         },
         "yaxis": "y"
        },
        {
         "customdata": [
          [
           "Morgana",
           "707.00"
          ],
          [
           "Morgana",
           "708.00"
          ],
          [
           "Morgana",
           "709.00"
          ],
          [
           "Morgana",
           "710.00"
          ],
          [
           "Morgana",
           "711.00"
          ],
          [
           "Morgana",
           "712.00"
          ],
          [
           "Morgana",
           "713.00"
          ],
          [
           "Morgana",
           "714.00"
          ],
          [
           "Morgana",
           "715.00"
          ],
          [
           "Morgana",
           "716.00"
          ],
          [
           "Morgana",
           "717.00"
          ],
          [
           "Morgana",
           "718.00"
          ],
          [
           "Morgana",
           "719.00"
          ],
          [
           "Morgana",
           "720.00"
          ],
          [
           "Morgana",
           "721.00"
          ],
          [
           "Morgana",
           "722.00"
          ],
          [
           "Morgana",
           "723.00"
          ],
          [
           "Morgana",
           "724.00"
          ],
          [
           "Morgana",
           "751.00"
          ],
          [
           "Morgana",
           "752.00"
          ],
          [
           "Morgana",
           "753.00"
          ],
          [
           "Morgana",
           "754.00"
          ],
          [
           "Morgana",
           "755.00"
          ]
         ],
         "hovertemplate": "Champion=%{customdata[0]}<br>t-SNE Component 1=%{x}<br>t-SNE Component 2=%{y}<br>Patch=%{customdata[1]}<extra></extra>",
         "legendgroup": "Morgana",
         "marker": {
          "color": "#FF97FF",
          "size": 8,
          "symbol": "circle"
         },
         "mode": "markers",
         "name": "Morgana",
         "showlegend": true,
         "type": "scattergl",
         "x": {
          "bdata": "hN1MQqF9S0KffUtCn31LQuB9S0L7fUtC4H1LQvp9S0LcfUtC3H1LQtx9S0LcfUtC2n1LQuF9S0LbfUtC+31LQvx9S0LbfUtC3X1LQuB9S0LsfUtC3X1LQg1+S0I=",
          "dtype": "f4"
         },
         "xaxis": "x",
         "y": {
          "bdata": "U/ghwS5xMcE/cTHBP3ExwddyMcHecjHB2HIxweRyMcHicjHB4XIxweFyMcHhcjHB3XIxweFyMcHhcjHB6HIxweJyMcHicjHB4XIxwdpyMcHUcjHB4XIxwcVyMcE=",
          "dtype": "f4"
         },
         "yaxis": "y"
        },
        {
         "customdata": [
          [
           "Vi",
           "707.00"
          ],
          [
           "Vi",
           "708.00"
          ],
          [
           "Vi",
           "709.00"
          ],
          [
           "Vi",
           "710.00"
          ],
          [
           "Vi",
           "711.00"
          ],
          [
           "Vi",
           "712.00"
          ],
          [
           "Vi",
           "713.00"
          ],
          [
           "Vi",
           "714.00"
          ],
          [
           "Vi",
           "715.00"
          ],
          [
           "Vi",
           "716.00"
          ],
          [
           "Vi",
           "717.00"
          ],
          [
           "Vi",
           "718.00"
          ],
          [
           "Vi",
           "719.00"
          ],
          [
           "Vi",
           "720.00"
          ],
          [
           "Vi",
           "721.00"
          ],
          [
           "Vi",
           "722.00"
          ],
          [
           "Vi",
           "723.00"
          ],
          [
           "Vi",
           "724.00"
          ],
          [
           "Vi",
           "751.00"
          ],
          [
           "Vi",
           "752.00"
          ],
          [
           "Vi",
           "753.00"
          ],
          [
           "Vi",
           "754.00"
          ],
          [
           "Vi",
           "755.00"
          ]
         ],
         "hovertemplate": "Champion=%{customdata[0]}<br>t-SNE Component 1=%{x}<br>t-SNE Component 2=%{y}<br>Patch=%{customdata[1]}<extra></extra>",
         "legendgroup": "Vi",
         "marker": {
          "color": "#FECB52",
          "size": 8,
          "symbol": "circle"
         },
         "mode": "markers",
         "name": "Vi",
         "showlegend": true,
         "type": "scattergl",
         "x": {
          "bdata": "PReAwuzrf8Lv63/C7Ot/wvTrf8Lv63/C7Ot/wvDrf8Lt63/C7et/wurrf8Ig7H/C6ut/wu3rf8Ls63/C7et/wh/sf8Lt63/C7et/wuzrf8Lq63/C7Ot/wu3rf8I=",
          "dtype": "f4"
         },
         "xaxis": "x",
         "y": {
          "bdata": "VoS8QIit3UCJrd1Ai63dQJGt3UCPrd1Aka3dQJGt3UCKrd1AlK3dQJqt3UCXrd1Am63dQI2t3UCRrd1Ana3dQJmt3UCOrd1Aja3dQJKt3UCQrd1Anq3dQI2t3UA=",
          "dtype": "f4"
         },
         "yaxis": "y"
        },
        {
         "customdata": [
          [
           "Zilean",
           "707.00"
          ],
          [
           "Zilean",
           "708.00"
          ],
          [
           "Zilean",
           "709.00"
          ],
          [
           "Zilean",
           "710.00"
          ],
          [
           "Zilean",
           "711.00"
          ],
          [
           "Zilean",
           "712.00"
          ],
          [
           "Zilean",
           "713.00"
          ],
          [
           "Zilean",
           "714.00"
          ],
          [
           "Zilean",
           "715.00"
          ],
          [
           "Zilean",
           "716.00"
          ],
          [
           "Zilean",
           "717.00"
          ],
          [
           "Zilean",
           "718.00"
          ],
          [
           "Zilean",
           "719.00"
          ],
          [
           "Zilean",
           "720.00"
          ],
          [
           "Zilean",
           "721.00"
          ],
          [
           "Zilean",
           "722.00"
          ],
          [
           "Zilean",
           "723.00"
          ],
          [
           "Zilean",
           "724.00"
          ],
          [
           "Zilean",
           "751.00"
          ],
          [
           "Zilean",
           "752.00"
          ],
          [
           "Zilean",
           "753.00"
          ],
          [
           "Zilean",
           "754.00"
          ],
          [
           "Zilean",
           "755.00"
          ]
         ],
         "hovertemplate": "Champion=%{customdata[0]}<br>t-SNE Component 1=%{x}<br>t-SNE Component 2=%{y}<br>Patch=%{customdata[1]}<extra></extra>",
         "legendgroup": "Zilean",
         "marker": {
          "color": "#636efa",
          "size": 8,
          "symbol": "circle"
         },
         "mode": "markers",
         "name": "Zilean",
         "showlegend": true,
         "type": "scattergl",
         "x": {
          "bdata": "uB/fQTAd4EHsHOBB7BzgQTod4EHsHOBB7BzgQewc4EE6HeBB7BzgQe0c4EHtHOBB7BzgQe0c4EHsHOBB7BzgQZgd4EHsHOBBOR3gQZgd4EGYHeBBOR3gQTkd4EE=",
          "dtype": "f4"
         },
         "xaxis": "x",
         "y": {
          "bdata": "SGXpQXA04UFXNOFBWDThQWs04UFXNOFBVjThQVc04UFpNOFBVjThQVY04UFWNOFBVjThQVc04UFWNOFBVjThQR414UFWNOFBajThQR414UEeNeFBazThQWs04UE=",
          "dtype": "f4"
         },
         "yaxis": "y"
        },
        {
         "customdata": [
          [
           "Aatrox",
           "707.00"
          ],
          [
           "Aatrox",
           "708.00"
          ],
          [
           "Aatrox",
           "709.00"
          ],
          [
           "Aatrox",
           "710.00"
          ],
          [
           "Aatrox",
           "711.00"
          ],
          [
           "Aatrox",
           "712.00"
          ],
          [
           "Aatrox",
           "713.00"
          ],
          [
           "Aatrox",
           "714.00"
          ],
          [
           "Aatrox",
           "715.00"
          ],
          [
           "Aatrox",
           "716.00"
          ],
          [
           "Aatrox",
           "717.00"
          ],
          [
           "Aatrox",
           "718.00"
          ],
          [
           "Aatrox",
           "719.00"
          ],
          [
           "Aatrox",
           "720.00"
          ],
          [
           "Aatrox",
           "721.00"
          ],
          [
           "Aatrox",
           "722.00"
          ],
          [
           "Aatrox",
           "723.00"
          ],
          [
           "Aatrox",
           "724.00"
          ],
          [
           "Aatrox",
           "751.00"
          ],
          [
           "Aatrox",
           "752.00"
          ],
          [
           "Aatrox",
           "753.00"
          ],
          [
           "Aatrox",
           "754.00"
          ],
          [
           "Aatrox",
           "755.00"
          ]
         ],
         "hovertemplate": "Champion=%{customdata[0]}<br>t-SNE Component 1=%{x}<br>t-SNE Component 2=%{y}<br>Patch=%{customdata[1]}<extra></extra>",
         "legendgroup": "Aatrox",
         "marker": {
          "color": "#EF553B",
          "size": 8,
          "symbol": "circle"
         },
         "mode": "markers",
         "name": "Aatrox",
         "showlegend": true,
         "type": "scattergl",
         "x": {
          "bdata": "7uk0woBTN8KAUzfCgFM3wlVTN8J/UzfCVVM3wnNTN8J+UzfCgFM3woFTN8JzUzfCc1M3wlVTN8JzUzfCc1M3wn1TN8KBUzfCflM3wn5TN8J+UzfCflM3wn5TN8I=",
          "dtype": "f4"
         },
         "xaxis": "x",
         "y": {
          "bdata": "Z5sdQqv0IEKs9CBCrPQgQsD0IEKq9CBCwfQgQqj0IEKr9CBCrPQgQqz0IEKp9CBCqfQgQsH0IEKp9CBCqfQgQrv0IEKs9CBCqvQgQqr0IEKq9CBCqvQgQqr0IEI=",
          "dtype": "f4"
         },
         "yaxis": "y"
        },
        {
         "customdata": [
          [
           "Nami",
           "707.00"
          ],
          [
           "Nami",
           "708.00"
          ],
          [
           "Nami",
           "709.00"
          ],
          [
           "Nami",
           "710.00"
          ],
          [
           "Nami",
           "711.00"
          ],
          [
           "Nami",
           "712.00"
          ],
          [
           "Nami",
           "713.00"
          ],
          [
           "Nami",
           "714.00"
          ],
          [
           "Nami",
           "715.00"
          ],
          [
           "Nami",
           "716.00"
          ],
          [
           "Nami",
           "717.00"
          ],
          [
           "Nami",
           "718.00"
          ],
          [
           "Nami",
           "719.00"
          ],
          [
           "Nami",
           "720.00"
          ],
          [
           "Nami",
           "721.00"
          ],
          [
           "Nami",
           "722.00"
          ],
          [
           "Nami",
           "723.00"
          ],
          [
           "Nami",
           "724.00"
          ],
          [
           "Nami",
           "751.00"
          ],
          [
           "Nami",
           "752.00"
          ],
          [
           "Nami",
           "753.00"
          ],
          [
           "Nami",
           "754.00"
          ],
          [
           "Nami",
           "755.00"
          ]
         ],
         "hovertemplate": "Champion=%{customdata[0]}<br>t-SNE Component 1=%{x}<br>t-SNE Component 2=%{y}<br>Patch=%{customdata[1]}<extra></extra>",
         "legendgroup": "Nami",
         "marker": {
          "color": "#00cc96",
          "size": 8,
          "symbol": "circle"
         },
         "mode": "markers",
         "name": "Nami",
         "showlegend": true,
         "type": "scattergl",
         "x": {
          "bdata": "/lQjQLUkxD/YJMQ/gSTEP/gkxD/7JMQ/9iTEP9MkxD/iJMQ/3CTEP94kxD/bJMQ/3STEP90kxD/XJMQ/9RzEP9YkxD/YJMQ/cCTEP/IkxD9YJMQ/TRzEP00cxD8=",
          "dtype": "f4"
         },
         "xaxis": "x",
         "y": {
          "bdata": "p4+Wwfugl8EtoZfB9qCXwfygl8FGoZfB/aCXwfagl8FEoZfBQ6GXwUShl8FDoZfBRKGXwUShl8FDoZfBhKOXwUOhl8FFoZfB9qCXwTyhl8FWo5fBpKWXwaSll8E=",
          "dtype": "f4"
         },
         "yaxis": "y"
        },
        {
         "customdata": [
          [
           "Azir",
           "707.00"
          ],
          [
           "Azir",
           "708.00"
          ],
          [
           "Azir",
           "709.00"
          ],
          [
           "Azir",
           "710.00"
          ],
          [
           "Azir",
           "711.00"
          ],
          [
           "Azir",
           "712.00"
          ],
          [
           "Azir",
           "713.00"
          ],
          [
           "Azir",
           "714.00"
          ],
          [
           "Azir",
           "715.00"
          ],
          [
           "Azir",
           "716.00"
          ],
          [
           "Azir",
           "717.00"
          ],
          [
           "Azir",
           "718.00"
          ],
          [
           "Azir",
           "719.00"
          ],
          [
           "Azir",
           "720.00"
          ],
          [
           "Azir",
           "721.00"
          ],
          [
           "Azir",
           "722.00"
          ],
          [
           "Azir",
           "723.00"
          ],
          [
           "Azir",
           "724.00"
          ],
          [
           "Azir",
           "751.00"
          ],
          [
           "Azir",
           "752.00"
          ],
          [
           "Azir",
           "753.00"
          ],
          [
           "Azir",
           "754.00"
          ],
          [
           "Azir",
           "755.00"
          ]
         ],
         "hovertemplate": "Champion=%{customdata[0]}<br>t-SNE Component 1=%{x}<br>t-SNE Component 2=%{y}<br>Patch=%{customdata[1]}<extra></extra>",
         "legendgroup": "Azir",
         "marker": {
          "color": "#ab63fa",
          "size": 8,
          "symbol": "circle"
         },
         "mode": "markers",
         "name": "Azir",
         "showlegend": true,
         "type": "scattergl",
         "x": {
          "bdata": "aNxSQuAZUkLhGVJC4hlSQuIZUkLgGVJC4BlSQuIZUkLiGVJC4hlSQuIZUkLfGVJC4RlSQt8ZUkLfGVJC4RlSQuMZUkLiGVJC1iNSQrgqUkKcMFJCnDBSQpwwUkI=",
          "dtype": "f4"
         },
         "xaxis": "x",
         "y": {
          "bdata": "LnW1Qc+ivUHGor1BwaK9QcGivUHGor1BxqK9QcaivUHGor1By6K9QcuivUHPor1Bx6K9Qc+ivUHPor1ByaK9QdGivUHGor1BnDW9Qb9zvUEnDr1BJw69QScOvUE=",
          "dtype": "f4"
         },
         "yaxis": "y"
        },
        {
         "customdata": [
          [
           "Singed",
           "707.00"
          ],
          [
           "Singed",
           "708.00"
          ],
          [
           "Singed",
           "709.00"
          ],
          [
           "Singed",
           "710.00"
          ],
          [
           "Singed",
           "711.00"
          ],
          [
           "Singed",
           "712.00"
          ],
          [
           "Singed",
           "713.00"
          ],
          [
           "Singed",
           "714.00"
          ],
          [
           "Singed",
           "715.00"
          ],
          [
           "Singed",
           "716.00"
          ],
          [
           "Singed",
           "717.00"
          ],
          [
           "Singed",
           "718.00"
          ],
          [
           "Singed",
           "719.00"
          ],
          [
           "Singed",
           "720.00"
          ],
          [
           "Singed",
           "721.00"
          ],
          [
           "Singed",
           "722.00"
          ],
          [
           "Singed",
           "723.00"
          ],
          [
           "Singed",
           "724.00"
          ],
          [
           "Singed",
           "751.00"
          ],
          [
           "Singed",
           "752.00"
          ],
          [
           "Singed",
           "753.00"
          ],
          [
           "Singed",
           "754.00"
          ],
          [
           "Singed",
           "755.00"
          ]
         ],
         "hovertemplate": "Champion=%{customdata[0]}<br>t-SNE Component 1=%{x}<br>t-SNE Component 2=%{y}<br>Patch=%{customdata[1]}<extra></extra>",
         "legendgroup": "Singed",
         "marker": {
          "color": "#FFA15A",
          "size": 8,
          "symbol": "circle"
         },
         "mode": "markers",
         "name": "Singed",
         "showlegend": true,
         "type": "scattergl",
         "x": {
          "bdata": "akEMwleVCsJYlQrCVpUKwliVCsJZlQrCVZUKwliVCsJYlQrCWJUKwleVCsJYlQrCV5UKwluVCsJblQrCWJUKwliVCsJXlQrCUnsKwlJ7CsLLkgrCAHkKwv94CsI=",
          "dtype": "f4"
         },
         "xaxis": "x",
         "y": {
          "bdata": "OiAKQm5kBkJ3ZAZCZGQGQndkBkJ2ZAZCYmQGQnZkBkJ2ZAZCZmQGQnVkBkJ3ZAZCdmQGQmxkBkJsZAZCd2QGQndkBkJeZAZCwXUGQr51BkKOYwZC1HQGQtZ0BkI=",
          "dtype": "f4"
         },
         "yaxis": "y"
        },
        {
         "customdata": [
          [
           "Evelynn",
           "707.00"
          ],
          [
           "Evelynn",
           "708.00"
          ],
          [
           "Evelynn",
           "709.00"
          ],
          [
           "Evelynn",
           "710.00"
          ],
          [
           "Evelynn",
           "711.00"
          ],
          [
           "Evelynn",
           "712.00"
          ],
          [
           "Evelynn",
           "713.00"
          ],
          [
           "Evelynn",
           "714.00"
          ],
          [
           "Evelynn",
           "715.00"
          ],
          [
           "Evelynn",
           "716.00"
          ],
          [
           "Evelynn",
           "717.00"
          ],
          [
           "Evelynn",
           "718.00"
          ],
          [
           "Evelynn",
           "719.00"
          ],
          [
           "Evelynn",
           "720.00"
          ],
          [
           "Evelynn",
           "721.00"
          ],
          [
           "Evelynn",
           "722.00"
          ],
          [
           "Evelynn",
           "723.00"
          ],
          [
           "Evelynn",
           "724.00"
          ],
          [
           "Evelynn",
           "751.00"
          ],
          [
           "Evelynn",
           "752.00"
          ],
          [
           "Evelynn",
           "753.00"
          ],
          [
           "Evelynn",
           "754.00"
          ],
          [
           "Evelynn",
           "755.00"
          ]
         ],
         "hovertemplate": "Champion=%{customdata[0]}<br>t-SNE Component 1=%{x}<br>t-SNE Component 2=%{y}<br>Patch=%{customdata[1]}<extra></extra>",
         "legendgroup": "Evelynn",
         "marker": {
          "color": "#19d3f3",
          "size": 8,
          "symbol": "circle"
         },
         "mode": "markers",
         "name": "Evelynn",
         "showlegend": true,
         "type": "scattergl",
         "x": {
          "bdata": "0rGEQUlIeUFOSHlBTUh5QUtIeUFNSHlBSkh5QUxIeUFPSHlBVkh5QVBIeUFGSHlBQ0h5QUNIeUFLSHlBQkh5QT9IeUE/SHlBQUh5QT9IeUFESHlBRUh5QT9IeUE=",
          "dtype": "f4"
         },
         "xaxis": "x",
         "y": {
          "bdata": "GYNrv4vTkb9v05G/Z9ORv2jTkb9x05G/jNORv3TTkb9+05G/bdORv3LTkb9805G/gNORv4DTkb9/05G/gtORv4vTkb+M05G/jNORv43Tkb+I05G/ftORv47Tkb8=",
          "dtype": "f4"
         },
         "yaxis": "y"
        },
        {
         "customdata": [
          [
           "Twitch",
           "707.00"
          ],
          [
           "Twitch",
           "708.00"
          ],
          [
           "Twitch",
           "709.00"
          ],
          [
           "Twitch",
           "710.00"
          ],
          [
           "Twitch",
           "711.00"
          ],
          [
           "Twitch",
           "712.00"
          ],
          [
           "Twitch",
           "713.00"
          ],
          [
           "Twitch",
           "714.00"
          ],
          [
           "Twitch",
           "715.00"
          ],
          [
           "Twitch",
           "716.00"
          ],
          [
           "Twitch",
           "717.00"
          ],
          [
           "Twitch",
           "718.00"
          ],
          [
           "Twitch",
           "719.00"
          ],
          [
           "Twitch",
           "720.00"
          ],
          [
           "Twitch",
           "721.00"
          ],
          [
           "Twitch",
           "722.00"
          ],
          [
           "Twitch",
           "723.00"
          ],
          [
           "Twitch",
           "724.00"
          ],
          [
           "Twitch",
           "751.00"
          ],
          [
           "Twitch",
           "752.00"
          ],
          [
           "Twitch",
           "753.00"
          ],
          [
           "Twitch",
           "754.00"
          ],
          [
           "Twitch",
           "755.00"
          ]
         ],
         "hovertemplate": "Champion=%{customdata[0]}<br>t-SNE Component 1=%{x}<br>t-SNE Component 2=%{y}<br>Patch=%{customdata[1]}<extra></extra>",
         "legendgroup": "Twitch",
         "marker": {
          "color": "#FF6692",
          "size": 8,
          "symbol": "circle"
         },
         "mode": "markers",
         "name": "Twitch",
         "showlegend": true,
         "type": "scattergl",
         "x": {
          "bdata": "p1GnQbUVpkG3FaZBsRWmQbkVpkG3FaZBtBWmQbQVpkG3FaZBtxWmQbQVpkG0FaZBtxWmQbcVpkG1FaZBsxWmQbYVpkG1FaZBtxWmQbUVpkG1FaZBtBWmQbUVpkE=",
          "dtype": "f4"
         },
         "xaxis": "x",
         "y": {
          "bdata": "DZsSwmmNDsJnjQ7CZI0OwmKNDsJkjQ7CaI0OwmSNDsJkjQ7CaI0OwmGNDsJhjQ7CY40OwmKNDsJljQ7CY40OwmKNDsJijQ7CYo0OwmKNDsJijQ7CYo0OwmKNDsI=",
          "dtype": "f4"
         },
         "yaxis": "y"
        },
        {
         "customdata": [
          [
           "Galio",
           "707.00"
          ],
          [
           "Galio",
           "708.00"
          ],
          [
           "Galio",
           "709.00"
          ],
          [
           "Galio",
           "710.00"
          ],
          [
           "Galio",
           "711.00"
          ],
          [
           "Galio",
           "712.00"
          ],
          [
           "Galio",
           "713.00"
          ],
          [
           "Galio",
           "714.00"
          ],
          [
           "Galio",
           "715.00"
          ],
          [
           "Galio",
           "716.00"
          ],
          [
           "Galio",
           "717.00"
          ],
          [
           "Galio",
           "718.00"
          ],
          [
           "Galio",
           "719.00"
          ],
          [
           "Galio",
           "720.00"
          ],
          [
           "Galio",
           "721.00"
          ],
          [
           "Galio",
           "722.00"
          ],
          [
           "Galio",
           "723.00"
          ],
          [
           "Galio",
           "724.00"
          ],
          [
           "Galio",
           "751.00"
          ],
          [
           "Galio",
           "752.00"
          ],
          [
           "Galio",
           "753.00"
          ],
          [
           "Galio",
           "754.00"
          ],
          [
           "Galio",
           "755.00"
          ]
         ],
         "hovertemplate": "Champion=%{customdata[0]}<br>t-SNE Component 1=%{x}<br>t-SNE Component 2=%{y}<br>Patch=%{customdata[1]}<extra></extra>",
         "legendgroup": "Galio",
         "marker": {
          "color": "#B6E880",
          "size": 8,
          "symbol": "circle"
         },
         "mode": "markers",
         "name": "Galio",
         "showlegend": true,
         "type": "scattergl",
         "x": {
          "bdata": "NDA/wjCpPsJdqT7CMKk+wjCpPsIwqT7CMKk+wmCpPsIwqT7CR6k+wkepPsJHqT7CR6k+wi+pPsIvqT7CR6k+wjSpPsICqT7CNKk+wi+pPsIvqT7CMKk+wi+pPsI=",
          "dtype": "f4"
         },
         "xaxis": "x",
         "y": {
          "bdata": "vM4bwm7lH8Jz5R/CbuUfwm7lH8Ju5R/CbuUfwnPlH8Ju5R/CcOUfwnDlH8Jx5R/CceUfwm/lH8Jv5R/CceUfwm/lH8KL5R/Cb+Ufwm7lH8Ju5R/CbuUfwm7lH8I=",
          "dtype": "f4"
         },
         "yaxis": "y"
        },
        {
         "customdata": [
          [
           "Karthus",
           "707.00"
          ],
          [
           "Karthus",
           "708.00"
          ],
          [
           "Karthus",
           "709.00"
          ],
          [
           "Karthus",
           "710.00"
          ],
          [
           "Karthus",
           "711.00"
          ],
          [
           "Karthus",
           "712.00"
          ],
          [
           "Karthus",
           "713.00"
          ],
          [
           "Karthus",
           "714.00"
          ],
          [
           "Karthus",
           "715.00"
          ],
          [
           "Karthus",
           "716.00"
          ],
          [
           "Karthus",
           "717.00"
          ],
          [
           "Karthus",
           "718.00"
          ],
          [
           "Karthus",
           "719.00"
          ],
          [
           "Karthus",
           "720.00"
          ],
          [
           "Karthus",
           "721.00"
          ],
          [
           "Karthus",
           "722.00"
          ],
          [
           "Karthus",
           "723.00"
          ],
          [
           "Karthus",
           "724.00"
          ],
          [
           "Karthus",
           "751.00"
          ],
          [
           "Karthus",
           "752.00"
          ],
          [
           "Karthus",
           "753.00"
          ],
          [
           "Karthus",
           "754.00"
          ],
          [
           "Karthus",
           "755.00"
          ]
         ],
         "hovertemplate": "Champion=%{customdata[0]}<br>t-SNE Component 1=%{x}<br>t-SNE Component 2=%{y}<br>Patch=%{customdata[1]}<extra></extra>",
         "legendgroup": "Karthus",
         "marker": {
          "color": "#FF97FF",
          "size": 8,
          "symbol": "circle"
         },
         "mode": "markers",
         "name": "Karthus",
         "showlegend": true,
         "type": "scattergl",
         "x": {
          "bdata": "Wy6SQgcnkEIIJ5BCBieQQgknkEIHJ5BCBieQQgknkEIJJ5BCCSeQQggnkEIGJ5BCCCeQQv4mkEIGJ5BCBieQQgYnkEIGJ5BCCCeQQvwmkEIIJ5BC/CaQQvwmkEI=",
          "dtype": "f4"
         },
         "xaxis": "x",
         "y": {
          "bdata": "odQCQp6HAkKbhwJCnYcCQpuHAkKehwJCnYcCQpuHAkKbhwJCm4cCQp2HAkKfhwJCmocCQquHAkKfhwJCnocCQp6HAkKehwJCm4cCQqmHAkKbhwJCqYcCQqmHAkI=",
          "dtype": "f4"
         },
         "yaxis": "y"
        },
        {
         "customdata": [
          [
           "Cho'Gath",
           "707.00"
          ],
          [
           "Cho'Gath",
           "708.00"
          ],
          [
           "Cho'Gath",
           "709.00"
          ],
          [
           "Cho'Gath",
           "710.00"
          ],
          [
           "Cho'Gath",
           "711.00"
          ],
          [
           "Cho'Gath",
           "712.00"
          ],
          [
           "Cho'Gath",
           "713.00"
          ],
          [
           "Cho'Gath",
           "714.00"
          ],
          [
           "Cho'Gath",
           "715.00"
          ],
          [
           "Cho'Gath",
           "716.00"
          ],
          [
           "Cho'Gath",
           "717.00"
          ],
          [
           "Cho'Gath",
           "718.00"
          ],
          [
           "Cho'Gath",
           "719.00"
          ],
          [
           "Cho'Gath",
           "720.00"
          ],
          [
           "Cho'Gath",
           "721.00"
          ],
          [
           "Cho'Gath",
           "722.00"
          ],
          [
           "Cho'Gath",
           "723.00"
          ],
          [
           "Cho'Gath",
           "724.00"
          ],
          [
           "Cho'Gath",
           "751.00"
          ],
          [
           "Cho'Gath",
           "752.00"
          ],
          [
           "Cho'Gath",
           "753.00"
          ],
          [
           "Cho'Gath",
           "754.00"
          ],
          [
           "Cho'Gath",
           "755.00"
          ]
         ],
         "hovertemplate": "Champion=%{customdata[0]}<br>t-SNE Component 1=%{x}<br>t-SNE Component 2=%{y}<br>Patch=%{customdata[1]}<extra></extra>",
         "legendgroup": "Cho'Gath",
         "marker": {
          "color": "#FECB52",
          "size": 8,
          "symbol": "circle"
         },
         "mode": "markers",
         "name": "Cho'Gath",
         "showlegend": true,
         "type": "scattergl",
         "x": {
          "bdata": "pPtgwmIWZcKjFmXCYhZlwqQWZcKkFmXCYhZlwmIWZcKeFWXCYhZlwmgWZcJjFmXCaBZlwmMWZcJjFmXCYxZlwmMWZcJjFmXCYxZlwl7OZMJezmTCvM1kwsbNZMI=",
          "dtype": "f4"
         },
         "xaxis": "x",
         "y": {
          "bdata": "hzoYwrenF8LCqRfCt6cXwsKpF8LCqRfCt6cXwrenF8IWpxfCt6cXwganF8K3pxfCBqcXwrenF8K3pxfCt6cXwrenF8K3pxfCt6cXwotYF8KKWBfC11cXwkFYF8I=",
          "dtype": "f4"
         },
         "yaxis": "y"
        },
        {
         "customdata": [
          [
           "Amumu",
           "707.00"
          ],
          [
           "Amumu",
           "708.00"
          ],
          [
           "Amumu",
           "709.00"
          ],
          [
           "Amumu",
           "710.00"
          ],
          [
           "Amumu",
           "711.00"
          ],
          [
           "Amumu",
           "712.00"
          ],
          [
           "Amumu",
           "713.00"
          ],
          [
           "Amumu",
           "714.00"
          ],
          [
           "Amumu",
           "715.00"
          ],
          [
           "Amumu",
           "716.00"
          ],
          [
           "Amumu",
           "717.00"
          ],
          [
           "Amumu",
           "718.00"
          ],
          [
           "Amumu",
           "719.00"
          ],
          [
           "Amumu",
           "720.00"
          ],
          [
           "Amumu",
           "721.00"
          ],
          [
           "Amumu",
           "722.00"
          ],
          [
           "Amumu",
           "723.00"
          ],
          [
           "Amumu",
           "724.00"
          ],
          [
           "Amumu",
           "751.00"
          ],
          [
           "Amumu",
           "752.00"
          ],
          [
           "Amumu",
           "753.00"
          ],
          [
           "Amumu",
           "754.00"
          ],
          [
           "Amumu",
           "755.00"
          ]
         ],
         "hovertemplate": "Champion=%{customdata[0]}<br>t-SNE Component 1=%{x}<br>t-SNE Component 2=%{y}<br>Patch=%{customdata[1]}<extra></extra>",
         "legendgroup": "Amumu",
         "marker": {
          "color": "#636efa",
          "size": 8,
          "symbol": "circle"
         },
         "mode": "markers",
         "name": "Amumu",
         "showlegend": true,
         "type": "scattergl",
         "x": {
          "bdata": "3xbnwfKC7sEZg+7B+YLuwQ6D7sEOg+7BDoPuwQ+D7sEPg+7BD4PuwQuD7sEqhe7BKoXuwemE7sH7gu7BB4PuwQ+D7sEDgu7B8YLuwQ2D7sEPg+7BA4LuwQKC7sE=",
          "dtype": "f4"
         },
         "xaxis": "x",
         "y": {
          "bdata": "2a9ZwqzgV8Km4FfCquBXwq/gV8Kv4FfCsOBXwq/gV8Kv4FfCr+BXwqzgV8II4FfCCOBXwvzfV8Ko4FfCseBXwqjgV8KL3VfCpeBXwq7gV8Ku4FfCi91XwovdV8I=",
          "dtype": "f4"
         },
         "yaxis": "y"
        },
        {
         "customdata": [
          [
           "Rammus",
           "707.00"
          ],
          [
           "Rammus",
           "708.00"
          ],
          [
           "Rammus",
           "709.00"
          ],
          [
           "Rammus",
           "710.00"
          ],
          [
           "Rammus",
           "711.00"
          ],
          [
           "Rammus",
           "712.00"
          ],
          [
           "Rammus",
           "713.00"
          ],
          [
           "Rammus",
           "714.00"
          ],
          [
           "Rammus",
           "715.00"
          ],
          [
           "Rammus",
           "716.00"
          ],
          [
           "Rammus",
           "717.00"
          ],
          [
           "Rammus",
           "718.00"
          ],
          [
           "Rammus",
           "719.00"
          ],
          [
           "Rammus",
           "720.00"
          ],
          [
           "Rammus",
           "721.00"
          ],
          [
           "Rammus",
           "722.00"
          ],
          [
           "Rammus",
           "723.00"
          ],
          [
           "Rammus",
           "724.00"
          ],
          [
           "Rammus",
           "751.00"
          ],
          [
           "Rammus",
           "752.00"
          ],
          [
           "Rammus",
           "753.00"
          ],
          [
           "Rammus",
           "754.00"
          ],
          [
           "Rammus",
           "755.00"
          ]
         ],
         "hovertemplate": "Champion=%{customdata[0]}<br>t-SNE Component 1=%{x}<br>t-SNE Component 2=%{y}<br>Patch=%{customdata[1]}<extra></extra>",
         "legendgroup": "Rammus",
         "marker": {
          "color": "#EF553B",
          "size": 8,
          "symbol": "circle"
         },
         "mode": "markers",
         "name": "Rammus",
         "showlegend": true,
         "type": "scattergl",
         "x": {
          "bdata": "DSP4wRrX+MEL1/jBGtf4wRrX+MEI1/jBCdf4wRvX+MEb1/jBEdf4wRvX+MER1/jBHdf4wR3X+MEb1/jBG9f4wRvX+MEb1/jBCdf4wRtJ+cEdSfnBHUn5wR1J+cE=",
          "dtype": "f4"
         },
         "xaxis": "x",
         "y": {
          "bdata": "qlctwjxxMcIRcTHCPXExwj1xMcL0cDHC83Axwj1xMcI9cTHCO3ExwjxxMcI8cTHCPXExwj1xMcI9cTHCPnExwj5xMcI+cTHC9HAxwpyEMcKchDHCnIQxwpyEMcI=",
          "dtype": "f4"
         },
         "yaxis": "y"
        },
        {
         "customdata": [
          [
           "Anivia",
           "707.00"
          ],
          [
           "Anivia",
           "708.00"
          ],
          [
           "Anivia",
           "709.00"
          ],
          [
           "Anivia",
           "710.00"
          ],
          [
           "Anivia",
           "711.00"
          ],
          [
           "Anivia",
           "712.00"
          ],
          [
           "Anivia",
           "713.00"
          ],
          [
           "Anivia",
           "714.00"
          ],
          [
           "Anivia",
           "715.00"
          ],
          [
           "Anivia",
           "716.00"
          ],
          [
           "Anivia",
           "717.00"
          ],
          [
           "Anivia",
           "718.00"
          ],
          [
           "Anivia",
           "719.00"
          ],
          [
           "Anivia",
           "720.00"
          ],
          [
           "Anivia",
           "721.00"
          ],
          [
           "Anivia",
           "722.00"
          ],
          [
           "Anivia",
           "723.00"
          ],
          [
           "Anivia",
           "724.00"
          ],
          [
           "Anivia",
           "751.00"
          ],
          [
           "Anivia",
           "752.00"
          ],
          [
           "Anivia",
           "753.00"
          ],
          [
           "Anivia",
           "754.00"
          ],
          [
           "Anivia",
           "755.00"
          ]
         ],
         "hovertemplate": "Champion=%{customdata[0]}<br>t-SNE Component 1=%{x}<br>t-SNE Component 2=%{y}<br>Patch=%{customdata[1]}<extra></extra>",
         "legendgroup": "Anivia",
         "marker": {
          "color": "#00cc96",
          "size": 8,
          "symbol": "circle"
         },
         "mode": "markers",
         "name": "Anivia",
         "showlegend": true,
         "type": "scattergl",
         "x": {
          "bdata": "PsIQQiHeDkIh3g5CId4OQiHeDkJ43w5CId4OQiHeDkIh3g5CId4OQiHeDkJ33w5CId4OQiHeDkLa3A5C2twOQnffDkIh3g5CAbwOQjHeDkIBvA5CDrsOQgG8DkI=",
          "dtype": "f4"
         },
         "xaxis": "x",
         "y": {
          "bdata": "9foFQrtUAkK7VAJCu1QCQrtUAkLaVAJCulQCQrpUAkK6VAJCulQCQrpUAkLaVAJCulQCQrpUAkI4VgJCOFYCQtlUAkK6VAJClXgCQsdUAkKVeAJC0nkCQpV4AkI=",
          "dtype": "f4"
         },
         "yaxis": "y"
        },
        {
         "customdata": [
          [
           "Shaco",
           "707.00"
          ],
          [
           "Shaco",
           "708.00"
          ],
          [
           "Shaco",
           "709.00"
          ],
          [
           "Shaco",
           "710.00"
          ],
          [
           "Shaco",
           "711.00"
          ],
          [
           "Shaco",
           "712.00"
          ],
          [
           "Shaco",
           "713.00"
          ],
          [
           "Shaco",
           "714.00"
          ],
          [
           "Shaco",
           "715.00"
          ],
          [
           "Shaco",
           "716.00"
          ],
          [
           "Shaco",
           "717.00"
          ],
          [
           "Shaco",
           "718.00"
          ],
          [
           "Shaco",
           "719.00"
          ],
          [
           "Shaco",
           "720.00"
          ],
          [
           "Shaco",
           "721.00"
          ],
          [
           "Shaco",
           "722.00"
          ],
          [
           "Shaco",
           "723.00"
          ],
          [
           "Shaco",
           "724.00"
          ],
          [
           "Shaco",
           "751.00"
          ],
          [
           "Shaco",
           "752.00"
          ],
          [
           "Shaco",
           "753.00"
          ],
          [
           "Shaco",
           "754.00"
          ],
          [
           "Shaco",
           "755.00"
          ]
         ],
         "hovertemplate": "Champion=%{customdata[0]}<br>t-SNE Component 1=%{x}<br>t-SNE Component 2=%{y}<br>Patch=%{customdata[1]}<extra></extra>",
         "legendgroup": "Shaco",
         "marker": {
          "color": "#ab63fa",
          "size": 8,
          "symbol": "circle"
         },
         "mode": "markers",
         "name": "Shaco",
         "showlegend": true,
         "type": "scattergl",
         "x": {
          "bdata": "FtDLP5jsJEC77CRAs+wkQLjsJEC/7CRAqOwkQK3sJEC17CRA2wQlQNsEJUCu7CRAsOwkQK/sJECw7CRA3wQlQK3sJECw7CRAsOwkQLDsJECv7CRAsOwkQLrsJEA=",
          "dtype": "f4"
         },
         "xaxis": "x",
         "y": {
          "bdata": "vzufwIu/lcCev5XAl7+VwJi/lcCev5XAi7+VwKG/lcCZv5XAsM2VwLDNlcCiv5XAjr+VwI6/lcCOv5XAsM2VwJa/lcCOv5XAjr+VwI6/lcCOv5XAjr+VwJu/lcA=",
          "dtype": "f4"
         },
         "yaxis": "y"
        },
        {
         "customdata": [
          [
           "Yuumi",
           "707.00"
          ],
          [
           "Yuumi",
           "708.00"
          ],
          [
           "Yuumi",
           "709.00"
          ],
          [
           "Yuumi",
           "710.00"
          ],
          [
           "Yuumi",
           "711.00"
          ],
          [
           "Yuumi",
           "712.00"
          ],
          [
           "Yuumi",
           "713.00"
          ],
          [
           "Yuumi",
           "714.00"
          ],
          [
           "Yuumi",
           "715.00"
          ],
          [
           "Yuumi",
           "716.00"
          ],
          [
           "Yuumi",
           "717.00"
          ],
          [
           "Yuumi",
           "718.00"
          ],
          [
           "Yuumi",
           "719.00"
          ],
          [
           "Yuumi",
           "720.00"
          ],
          [
           "Yuumi",
           "721.00"
          ],
          [
           "Yuumi",
           "722.00"
          ],
          [
           "Yuumi",
           "723.00"
          ],
          [
           "Yuumi",
           "724.00"
          ],
          [
           "Yuumi",
           "751.00"
          ],
          [
           "Yuumi",
           "752.00"
          ],
          [
           "Yuumi",
           "753.00"
          ],
          [
           "Yuumi",
           "754.00"
          ],
          [
           "Yuumi",
           "755.00"
          ]
         ],
         "hovertemplate": "Champion=%{customdata[0]}<br>t-SNE Component 1=%{x}<br>t-SNE Component 2=%{y}<br>Patch=%{customdata[1]}<extra></extra>",
         "legendgroup": "Yuumi",
         "marker": {
          "color": "#FFA15A",
          "size": 8,
          "symbol": "circle"
         },
         "mode": "markers",
         "name": "Yuumi",
         "showlegend": true,
         "type": "scattergl",
         "x": {
          "bdata": "LQ02wFLSdMBk0nTAWdJ0wFXSdMBV0nTAXNJ0wFvSdMBa0nTAF9J0wBfSdMAX0nTAWd10wFfddMBX3XTAg9J0wIXSdMCD0nTAh9J0wIXSdMCH0nTAhtJ0wIXSdMA=",
          "dtype": "f4"
         },
         "xaxis": "x",
         "y": {
          "bdata": "flAZws4EGMLRBBjCzwQYws4EGMLOBBjCzgQYws4EGMLNBBjCuQQYwrkEGMK5BBjCUgAYwlEAGMJRABjCzQQYws0EGMLNBBjC0QQYws0EGMLRBBjCzQQYws0EGMI=",
          "dtype": "f4"
         },
         "yaxis": "y"
        },
        {
         "customdata": [
          [
           "Dr. Mundo",
           "707.00"
          ],
          [
           "Dr. Mundo",
           "708.00"
          ],
          [
           "Dr. Mundo",
           "709.00"
          ],
          [
           "Dr. Mundo",
           "710.00"
          ],
          [
           "Dr. Mundo",
           "711.00"
          ],
          [
           "Dr. Mundo",
           "712.00"
          ],
          [
           "Dr. Mundo",
           "713.00"
          ],
          [
           "Dr. Mundo",
           "714.00"
          ],
          [
           "Dr. Mundo",
           "715.00"
          ],
          [
           "Dr. Mundo",
           "716.00"
          ],
          [
           "Dr. Mundo",
           "717.00"
          ],
          [
           "Dr. Mundo",
           "718.00"
          ],
          [
           "Dr. Mundo",
           "719.00"
          ],
          [
           "Dr. Mundo",
           "720.00"
          ],
          [
           "Dr. Mundo",
           "721.00"
          ],
          [
           "Dr. Mundo",
           "722.00"
          ],
          [
           "Dr. Mundo",
           "723.00"
          ],
          [
           "Dr. Mundo",
           "724.00"
          ],
          [
           "Dr. Mundo",
           "751.00"
          ],
          [
           "Dr. Mundo",
           "752.00"
          ],
          [
           "Dr. Mundo",
           "753.00"
          ],
          [
           "Dr. Mundo",
           "754.00"
          ],
          [
           "Dr. Mundo",
           "755.00"
          ]
         ],
         "hovertemplate": "Champion=%{customdata[0]}<br>t-SNE Component 1=%{x}<br>t-SNE Component 2=%{y}<br>Patch=%{customdata[1]}<extra></extra>",
         "legendgroup": "Dr. Mundo",
         "marker": {
          "color": "#19d3f3",
          "size": 8,
          "symbol": "circle"
         },
         "mode": "markers",
         "name": "Dr. Mundo",
         "showlegend": true,
         "type": "scattergl",
         "x": {
          "bdata": "TPZ2wYZ4g8GHeIPBh3iDwYd4g8GHeIPBh3iDwYd4g8GjeIPBh3iDwYd4g8GHeIPBh3iDwYZ4g8GjeIPBh3iDwYd4g8GjeIPBh3iDwTyVg8E8lYPBPJWDwTyVg8E=",
          "dtype": "f4"
         },
         "xaxis": "x",
         "y": {
          "bdata": "vlAhQsJZIELCWSBCwlkgQsFZIELBWSBCwVkgQsFZIELBWSBCwVkgQsFZIELAWSBCwVkgQsFZIEK9WSBCwFkgQsBZIELBWSBCwVkgQgVOIEIGTiBCBU4gQgZOIEI=",
          "dtype": "f4"
         },
         "yaxis": "y"
        },
        {
         "customdata": [
          [
           "Samira",
           "707.00"
          ],
          [
           "Samira",
           "708.00"
          ],
          [
           "Samira",
           "709.00"
          ],
          [
           "Samira",
           "710.00"
          ],
          [
           "Samira",
           "711.00"
          ],
          [
           "Samira",
           "712.00"
          ],
          [
           "Samira",
           "713.00"
          ],
          [
           "Samira",
           "714.00"
          ],
          [
           "Samira",
           "715.00"
          ],
          [
           "Samira",
           "716.00"
          ],
          [
           "Samira",
           "717.00"
          ],
          [
           "Samira",
           "718.00"
          ],
          [
           "Samira",
           "719.00"
          ],
          [
           "Samira",
           "720.00"
          ],
          [
           "Samira",
           "721.00"
          ],
          [
           "Samira",
           "722.00"
          ],
          [
           "Samira",
           "723.00"
          ],
          [
           "Samira",
           "724.00"
          ],
          [
           "Samira",
           "751.00"
          ],
          [
           "Samira",
           "752.00"
          ],
          [
           "Samira",
           "753.00"
          ],
          [
           "Samira",
           "754.00"
          ],
          [
           "Samira",
           "755.00"
          ]
         ],
         "hovertemplate": "Champion=%{customdata[0]}<br>t-SNE Component 1=%{x}<br>t-SNE Component 2=%{y}<br>Patch=%{customdata[1]}<extra></extra>",
         "legendgroup": "Samira",
         "marker": {
          "color": "#FF6692",
          "size": 8,
          "symbol": "circle"
         },
         "mode": "markers",
         "name": "Samira",
         "showlegend": true,
         "type": "scattergl",
         "x": {
          "bdata": "FTgsQiIQK0IiECtCIhArQiIQK0IqECtCKhArQiEQK0IhECtCKxArQikQK0IiECtCIhArQiIQK0IqECtCIhArQiIQK0IhECtCIRArQhQuK0ImLytCFC4rQhQuK0I=",
          "dtype": "f4"
         },
         "xaxis": "x",
         "y": {
          "bdata": "8SJewpk+WsKYPlrCmD5awpk+WsLoPlrC6D5awpg+WsKXPlrC6D5awug+WsKYPlrCmD5awpg+WsLoPlrCmD5awpg+WsKXPlrClz5awoQIWsKgCVrChAhawoQIWsI=",
          "dtype": "f4"
         },
         "yaxis": "y"
        },
        {
         "customdata": [
          [
           "Sona",
           "707.00"
          ],
          [
           "Sona",
           "708.00"
          ],
          [
           "Sona",
           "709.00"
          ],
          [
           "Sona",
           "710.00"
          ],
          [
           "Sona",
           "711.00"
          ],
          [
           "Sona",
           "712.00"
          ],
          [
           "Sona",
           "713.00"
          ],
          [
           "Sona",
           "714.00"
          ],
          [
           "Sona",
           "715.00"
          ],
          [
           "Sona",
           "716.00"
          ],
          [
           "Sona",
           "717.00"
          ],
          [
           "Sona",
           "718.00"
          ],
          [
           "Sona",
           "719.00"
          ],
          [
           "Sona",
           "720.00"
          ],
          [
           "Sona",
           "721.00"
          ],
          [
           "Sona",
           "722.00"
          ],
          [
           "Sona",
           "723.00"
          ],
          [
           "Sona",
           "724.00"
          ],
          [
           "Sona",
           "751.00"
          ],
          [
           "Sona",
           "752.00"
          ],
          [
           "Sona",
           "753.00"
          ],
          [
           "Sona",
           "754.00"
          ],
          [
           "Sona",
           "755.00"
          ]
         ],
         "hovertemplate": "Champion=%{customdata[0]}<br>t-SNE Component 1=%{x}<br>t-SNE Component 2=%{y}<br>Patch=%{customdata[1]}<extra></extra>",
         "legendgroup": "Sona",
         "marker": {
          "color": "#B6E880",
          "size": 8,
          "symbol": "circle"
         },
         "mode": "markers",
         "name": "Sona",
         "showlegend": true,
         "type": "scattergl",
         "x": {
          "bdata": "YzXgwGGdv8Binb/AYZ2/wF+dv8CEnb/AYJ2/wFydv8Bdnb/AXZ2/wF6dv8Bdnb/AXp2/wFudv8B2nb/AYp2/wFqdv8BYnb/AWJ2/wFmdv8BXnb/AWZ2/wGqdv8A=",
          "dtype": "f4"
         },
         "xaxis": "x",
         "y": {
          "bdata": "B2MAwvL5AMLz+QDC8/kAwvP5AML6+QDC9PkAwvP5AMLy+QDC8vkAwvP5AMIC+gDC9PkAwvP5AMIE+gDC6vkAwvT5AMLz+QDC8/kAwvT5AMLy+QDC8/kAwgL6AMI=",
          "dtype": "f4"
         },
         "yaxis": "y"
        },
        {
         "customdata": [
          [
           "Kassadin",
           "707.00"
          ],
          [
           "Kassadin",
           "708.00"
          ],
          [
           "Kassadin",
           "709.00"
          ],
          [
           "Kassadin",
           "710.00"
          ],
          [
           "Kassadin",
           "711.00"
          ],
          [
           "Kassadin",
           "712.00"
          ],
          [
           "Kassadin",
           "713.00"
          ],
          [
           "Kassadin",
           "714.00"
          ],
          [
           "Kassadin",
           "715.00"
          ],
          [
           "Kassadin",
           "716.00"
          ],
          [
           "Kassadin",
           "717.00"
          ],
          [
           "Kassadin",
           "718.00"
          ],
          [
           "Kassadin",
           "719.00"
          ],
          [
           "Kassadin",
           "720.00"
          ],
          [
           "Kassadin",
           "721.00"
          ],
          [
           "Kassadin",
           "722.00"
          ],
          [
           "Kassadin",
           "723.00"
          ],
          [
           "Kassadin",
           "724.00"
          ],
          [
           "Kassadin",
           "751.00"
          ],
          [
           "Kassadin",
           "752.00"
          ],
          [
           "Kassadin",
           "753.00"
          ],
          [
           "Kassadin",
           "754.00"
          ],
          [
           "Kassadin",
           "755.00"
          ]
         ],
         "hovertemplate": "Champion=%{customdata[0]}<br>t-SNE Component 1=%{x}<br>t-SNE Component 2=%{y}<br>Patch=%{customdata[1]}<extra></extra>",
         "legendgroup": "Kassadin",
         "marker": {
          "color": "#FF97FF",
          "size": 8,
          "symbol": "circle"
         },
         "mode": "markers",
         "name": "Kassadin",
         "showlegend": true,
         "type": "scattergl",
         "x": {
          "bdata": "P+LIQWK6wUFiusFBZ7rBQWK6wUFiusFBX7rBQWK6wUFvusFBarrBQVq6wUF8usFBWrrBQVq6wUF8usFBfLrBQVq6wUFZusFBWbrBQVq6wUFausFBWrrBQVq6wUE=",
          "dtype": "f4"
         },
         "xaxis": "x",
         "y": {
          "bdata": "lAeMwRUXiMEWF4jBLheIwRUXiMEVF4jBGBeIwRQXiMEuF4jBFheIwRwXiMH8FojBGxeIwRwXiMH7FojB+xaIwRsXiMEdF4jBHReIwRsXiMEbF4jBGxeIwRsXiME=",
          "dtype": "f4"
         },
         "yaxis": "y"
        },
        {
         "customdata": [
          [
           "Irelia",
           "707.00"
          ],
          [
           "Irelia",
           "708.00"
          ],
          [
           "Irelia",
           "709.00"
          ],
          [
           "Irelia",
           "710.00"
          ],
          [
           "Irelia",
           "711.00"
          ],
          [
           "Irelia",
           "712.00"
          ],
          [
           "Irelia",
           "713.00"
          ],
          [
           "Irelia",
           "714.00"
          ],
          [
           "Irelia",
           "715.00"
          ],
          [
           "Irelia",
           "716.00"
          ],
          [
           "Irelia",
           "717.00"
          ],
          [
           "Irelia",
           "718.00"
          ],
          [
           "Irelia",
           "719.00"
          ],
          [
           "Irelia",
           "720.00"
          ],
          [
           "Irelia",
           "721.00"
          ],
          [
           "Irelia",
           "722.00"
          ],
          [
           "Irelia",
           "723.00"
          ],
          [
           "Irelia",
           "724.00"
          ],
          [
           "Irelia",
           "751.00"
          ],
          [
           "Irelia",
           "752.00"
          ],
          [
           "Irelia",
           "753.00"
          ],
          [
           "Irelia",
           "754.00"
          ],
          [
           "Irelia",
           "755.00"
          ]
         ],
         "hovertemplate": "Champion=%{customdata[0]}<br>t-SNE Component 1=%{x}<br>t-SNE Component 2=%{y}<br>Patch=%{customdata[1]}<extra></extra>",
         "legendgroup": "Irelia",
         "marker": {
          "color": "#FECB52",
          "size": 8,
          "symbol": "circle"
         },
         "mode": "markers",
         "name": "Irelia",
         "showlegend": true,
         "type": "scattergl",
         "x": {
          "bdata": "f7iJwmFJicJkSYnCYUmJwmNJicJgSYnCYEmJwlNJicJhSYnCYUmJwmNJicJfSYnCX0mJwmFJicJ0SYnCX0mJwnNJicJkSYnCX0mJwk5JicJzSYnCTkmJwk5JicI=",
          "dtype": "f4"
         },
         "xaxis": "x",
         "y": {
          "bdata": "1GLZQd9j4UHkY+FB3mPhQeNj4UHmY+FB5mPhQeFj4UHhY+FB4GPhQeRj4UHmY+FB5mPhQeBj4UFcYOFB5mPhQVxg4UHmY+FB52PhQeVj4UFdYOFB5WPhQeVj4UE=",
          "dtype": "f4"
         },
         "yaxis": "y"
        },
        {
         "customdata": [
          [
           "Twisted Fate",
           "707.00"
          ],
          [
           "Twisted Fate",
           "708.00"
          ],
          [
           "Twisted Fate",
           "709.00"
          ],
          [
           "Twisted Fate",
           "710.00"
          ],
          [
           "Twisted Fate",
           "711.00"
          ],
          [
           "Twisted Fate",
           "712.00"
          ],
          [
           "Twisted Fate",
           "713.00"
          ],
          [
           "Twisted Fate",
           "714.00"
          ],
          [
           "Twisted Fate",
           "715.00"
          ],
          [
           "Twisted Fate",
           "716.00"
          ],
          [
           "Twisted Fate",
           "717.00"
          ],
          [
           "Twisted Fate",
           "718.00"
          ],
          [
           "Twisted Fate",
           "719.00"
          ],
          [
           "Twisted Fate",
           "720.00"
          ],
          [
           "Twisted Fate",
           "721.00"
          ],
          [
           "Twisted Fate",
           "722.00"
          ],
          [
           "Twisted Fate",
           "723.00"
          ],
          [
           "Twisted Fate",
           "724.00"
          ],
          [
           "Twisted Fate",
           "751.00"
          ],
          [
           "Twisted Fate",
           "752.00"
          ],
          [
           "Twisted Fate",
           "753.00"
          ],
          [
           "Twisted Fate",
           "754.00"
          ],
          [
           "Twisted Fate",
           "755.00"
          ]
         ],
         "hovertemplate": "Champion=%{customdata[0]}<br>t-SNE Component 1=%{x}<br>t-SNE Component 2=%{y}<br>Patch=%{customdata[1]}<extra></extra>",
         "legendgroup": "Twisted Fate",
         "marker": {
          "color": "#636efa",
          "size": 8,
          "symbol": "circle"
         },
         "mode": "markers",
         "name": "Twisted Fate",
         "showlegend": true,
         "type": "scattergl",
         "x": {
          "bdata": "pUrXQRZS30EtVN9BEFTfQRdS30EXVN9BFlTfQRBU30EYUt9BEFTfQRBU30EQVN9BEFTfQRBU30EQVN9BEFTfQRJU30ESVN9B5CXfQXeQ30GGZN9BhmTfQYZk30E=",
          "dtype": "f4"
         },
         "xaxis": "x",
         "y": {
          "bdata": "S2J7QQr7fkHn835ByPN+QQr7fkG7835Bu/N+QcnzfkEL+35ByfN+QcnzfkHJ835ByfN+QcnzfkHJ835ByvN+QcjzfkHK835BMNN/QSfCf0GuIYBBriGAQa0hgEE=",
          "dtype": "f4"
         },
         "yaxis": "y"
        },
        {
         "customdata": [
          [
           "Janna",
           "707.00"
          ],
          [
           "Janna",
           "708.00"
          ],
          [
           "Janna",
           "709.00"
          ],
          [
           "Janna",
           "710.00"
          ],
          [
           "Janna",
           "711.00"
          ],
          [
           "Janna",
           "712.00"
          ],
          [
           "Janna",
           "713.00"
          ],
          [
           "Janna",
           "714.00"
          ],
          [
           "Janna",
           "715.00"
          ],
          [
           "Janna",
           "716.00"
          ],
          [
           "Janna",
           "717.00"
          ],
          [
           "Janna",
           "718.00"
          ],
          [
           "Janna",
           "719.00"
          ],
          [
           "Janna",
           "720.00"
          ],
          [
           "Janna",
           "721.00"
          ],
          [
           "Janna",
           "722.00"
          ],
          [
           "Janna",
           "723.00"
          ],
          [
           "Janna",
           "724.00"
          ],
          [
           "Janna",
           "751.00"
          ],
          [
           "Janna",
           "752.00"
          ],
          [
           "Janna",
           "753.00"
          ],
          [
           "Janna",
           "754.00"
          ],
          [
           "Janna",
           "755.00"
          ]
         ],
         "hovertemplate": "Champion=%{customdata[0]}<br>t-SNE Component 1=%{x}<br>t-SNE Component 2=%{y}<br>Patch=%{customdata[1]}<extra></extra>",
         "legendgroup": "Janna",
         "marker": {
          "color": "#EF553B",
          "size": 8,
          "symbol": "circle"
         },
         "mode": "markers",
         "name": "Janna",
         "showlegend": true,
         "type": "scattergl",
         "x": {
          "bdata": "aoQgwc6aEsHQmhLBxpoSwcWaEsHUmhLB1ZoSwdGaEsHPmhLB1JoSwc+aEsHPmhLB1JoSwc+aEsEXpBLBF6QSwcaaEsEymRLBz5oSwc+aEsExmRLBqpkSwRekEsE=",
          "dtype": "f4"
         },
         "xaxis": "x",
         "y": {
          "bdata": "tffMwY6kyMGLpMjBiKTIwYikyMGNpMjBjaTIwY2kyMGMpMjBjaTIwY2kyMGMpMjBiqTIwYykyMHuo8jB7qPIwYikyMEKqMjBjKTIwYykyMEJqMjBGqfIwe6jyME=",
          "dtype": "f4"
         },
         "yaxis": "y"
        },
        {
         "customdata": [
          [
           "Gangplank",
           "707.00"
          ],
          [
           "Gangplank",
           "708.00"
          ],
          [
           "Gangplank",
           "709.00"
          ],
          [
           "Gangplank",
           "710.00"
          ],
          [
           "Gangplank",
           "711.00"
          ],
          [
           "Gangplank",
           "712.00"
          ],
          [
           "Gangplank",
           "713.00"
          ],
          [
           "Gangplank",
           "714.00"
          ],
          [
           "Gangplank",
           "715.00"
          ],
          [
           "Gangplank",
           "716.00"
          ],
          [
           "Gangplank",
           "717.00"
          ],
          [
           "Gangplank",
           "718.00"
          ],
          [
           "Gangplank",
           "719.00"
          ],
          [
           "Gangplank",
           "720.00"
          ],
          [
           "Gangplank",
           "721.00"
          ],
          [
           "Gangplank",
           "722.00"
          ],
          [
           "Gangplank",
           "723.00"
          ],
          [
           "Gangplank",
           "724.00"
          ],
          [
           "Gangplank",
           "751.00"
          ],
          [
           "Gangplank",
           "752.00"
          ],
          [
           "Gangplank",
           "753.00"
          ],
          [
           "Gangplank",
           "754.00"
          ],
          [
           "Gangplank",
           "755.00"
          ]
         ],
         "hovertemplate": "Champion=%{customdata[0]}<br>t-SNE Component 1=%{x}<br>t-SNE Component 2=%{y}<br>Patch=%{customdata[1]}<extra></extra>",
         "legendgroup": "Gangplank",
         "marker": {
          "color": "#00cc96",
          "size": 8,
          "symbol": "circle"
         },
         "mode": "markers",
         "name": "Gangplank",
         "showlegend": true,
         "type": "scattergl",
         "x": {
          "bdata": "o7oewrzZHMK82RzCqtkcwqrZHMK72RzCotkcwqXZHMKh2RzCptkcwqHZHMKh2RzCl9kcwqbZHMKl2RzCqdkcwqTZHMKX2RzCpNkcwqTZHMKp2RzCl9kcwpfZHMI=",
          "dtype": "f4"
         },
         "xaxis": "x",
         "y": {
          "bdata": "foF6QgUufkIFLn5CEC5+QvstfkIFLn5C/C1+Qg0ufkL8LX5CDy5+QhQufkIULn5C+C1+QhEufkIQLn5CDy5+QhAufkL4LX5CEC5+QhAufkIPLn5C+C1+QvgtfkI=",
          "dtype": "f4"
         },
         "yaxis": "y"
        },
        {
         "customdata": [
          [
           "Thresh",
           "707.00"
          ],
          [
           "Thresh",
           "708.00"
          ],
          [
           "Thresh",
           "709.00"
          ],
          [
           "Thresh",
           "710.00"
          ],
          [
           "Thresh",
           "711.00"
          ],
          [
           "Thresh",
           "712.00"
          ],
          [
           "Thresh",
           "713.00"
          ],
          [
           "Thresh",
           "714.00"
          ],
          [
           "Thresh",
           "715.00"
          ],
          [
           "Thresh",
           "716.00"
          ],
          [
           "Thresh",
           "717.00"
          ],
          [
           "Thresh",
           "718.00"
          ],
          [
           "Thresh",
           "719.00"
          ],
          [
           "Thresh",
           "720.00"
          ],
          [
           "Thresh",
           "721.00"
          ],
          [
           "Thresh",
           "722.00"
          ],
          [
           "Thresh",
           "723.00"
          ],
          [
           "Thresh",
           "724.00"
          ],
          [
           "Thresh",
           "751.00"
          ],
          [
           "Thresh",
           "752.00"
          ],
          [
           "Thresh",
           "753.00"
          ],
          [
           "Thresh",
           "754.00"
          ],
          [
           "Thresh",
           "755.00"
          ]
         ],
         "hovertemplate": "Champion=%{customdata[0]}<br>t-SNE Component 1=%{x}<br>t-SNE Component 2=%{y}<br>Patch=%{customdata[1]}<extra></extra>",
         "legendgroup": "Thresh",
         "marker": {
          "color": "#ab63fa",
          "size": 8,
          "symbol": "circle"
         },
         "mode": "markers",
         "name": "Thresh",
         "showlegend": true,
         "type": "scattergl",
         "x": {
          "bdata": "XCCtwYXTq8F306vBedOrwZjTq8GO06vBjNOrwY/Tq8GA06vBc9OrwXfTq8F306vBjtOrwYvTq8F306vBd9OrwY7Tq8GM06vBd9OrwcAirMHJIqzBwCKswcAirME=",
          "dtype": "f4"
         },
         "xaxis": "x",
         "y": {
          "bdata": "vSRswsw1cMLNNXDCzTVwwsI1cMLUNXDC1zVwwtQ1cMLFNXDCzjVwws01cMLMNXDC1DVwwtQ1cMLLNXDCzDVwwtU1cMLUNXDCzDVwwk5LcMJOS3DCT0twwk9LcMI=",
          "dtype": "f4"
         },
         "yaxis": "y"
        },
        {
         "customdata": [
          [
           "Corki",
           "707.00"
          ],
          [
           "Corki",
           "708.00"
          ],
          [
           "Corki",
           "709.00"
          ],
          [
           "Corki",
           "710.00"
          ],
          [
           "Corki",
           "711.00"
          ],
          [
           "Corki",
           "712.00"
          ],
          [
           "Corki",
           "713.00"
          ],
          [
           "Corki",
           "714.00"
          ],
          [
           "Corki",
           "715.00"
          ],
          [
           "Corki",
           "716.00"
          ],
          [
           "Corki",
           "717.00"
          ],
          [
           "Corki",
           "718.00"
          ],
          [
           "Corki",
           "719.00"
          ],
          [
           "Corki",
           "720.00"
          ],
          [
           "Corki",
           "721.00"
          ],
          [
           "Corki",
           "722.00"
          ],
          [
           "Corki",
           "723.00"
          ],
          [
           "Corki",
           "724.00"
          ],
          [
           "Corki",
           "751.00"
          ],
          [
           "Corki",
           "752.00"
          ],
          [
           "Corki",
           "753.00"
          ],
          [
           "Corki",
           "754.00"
          ],
          [
           "Corki",
           "755.00"
          ]
         ],
         "hovertemplate": "Champion=%{customdata[0]}<br>t-SNE Component 1=%{x}<br>t-SNE Component 2=%{y}<br>Patch=%{customdata[1]}<extra></extra>",
         "legendgroup": "Corki",
         "marker": {
          "color": "#FFA15A",
          "size": 8,
          "symbol": "circle"
         },
         "mode": "markers",
         "name": "Corki",
         "showlegend": true,
         "type": "scattergl",
         "x": {
          "bdata": "p19KQW3ySUFt8klBbfJJQW3ySUFZ8klBMfJJQTHySUFs8klBLPJJQWzySUEu8klBdPJJQW/ySUFv8klBb/JJQW/ySUEu8klBb/JJQRURSkG4EUpByhBKQcoQSkE=",
          "dtype": "f4"
         },
         "xaxis": "x",
         "y": {
          "bdata": "TA/ywehL+sHoS/rB6Uv6welL+sG3S/rB40v6weNL+sH8S/rB9Uv6wf1L+sH5S/rBDUz6welL+sHcS/rB3Ev6wdxL+sH5S/rB3Uv6wbti+sGdXfrBz2L6wc9i+sE=",
          "dtype": "f4"
         },
         "yaxis": "y"
        },
        {
         "customdata": [
          [
           "Illaoi",
           "707.00"
          ],
          [
           "Illaoi",
           "708.00"
          ],
          [
           "Illaoi",
           "709.00"
          ],
          [
           "Illaoi",
           "710.00"
          ],
          [
           "Illaoi",
           "711.00"
          ],
          [
           "Illaoi",
           "712.00"
          ],
          [
           "Illaoi",
           "713.00"
          ],
          [
           "Illaoi",
           "714.00"
          ],
          [
           "Illaoi",
           "715.00"
          ],
          [
           "Illaoi",
           "716.00"
          ],
          [
           "Illaoi",
           "717.00"
          ],
          [
           "Illaoi",
           "718.00"
          ],
          [
           "Illaoi",
           "719.00"
          ],
          [
           "Illaoi",
           "720.00"
          ],
          [
           "Illaoi",
           "721.00"
          ],
          [
           "Illaoi",
           "722.00"
          ],
          [
           "Illaoi",
           "723.00"
          ],
          [
           "Illaoi",
           "724.00"
          ],
          [
           "Illaoi",
           "751.00"
          ],
          [
           "Illaoi",
           "752.00"
          ],
          [
           "Illaoi",
           "753.00"
          ],
          [
           "Illaoi",
           "754.00"
          ],
          [
           "Illaoi",
           "755.00"
          ]
         ],
         "hovertemplate": "Champion=%{customdata[0]}<br>t-SNE Component 1=%{x}<br>t-SNE Component 2=%{y}<br>Patch=%{customdata[1]}<extra></extra>",
         "legendgroup": "Illaoi",
         "marker": {
          "color": "#19d3f3",
          "size": 8,
          "symbol": "circle"
         },
         "mode": "markers",
         "name": "Illaoi",
         "showlegend": true,
         "type": "scattergl",
         "x": {
          "bdata": "0ApVwszvUMLN71DCze9QwtrvUMLH71DCye9QwszvUMLM71DCyu9QwsrvUMLM71DCzu9QwsnvUMLM71DCwe9QwsrvUMLk71DC0+9Qws7vUMLO71DCyu9QwsLvUMI=",
          "dtype": "f4"
         },
         "xaxis": "x",
         "y": {
          "bdata": "8jvvQTd670E3eu9BOHrvQUB670E0eu9BNnrvQTd670E3eu9BN3rvQTN670E3eu9BOHrvQTd670E7eu9BPHrvQTd670Eweu9BPHrvQTt670E7eu9BNHrvQTp670E=",
          "dtype": "f4"
         },
         "yaxis": "y"
        },
        {
         "customdata": [
          [
           "Rek'Sai",
           "707.00"
          ],
          [
           "Rek'Sai",
           "708.00"
          ],
          [
           "Rek'Sai",
           "709.00"
          ],
          [
           "Rek'Sai",
           "710.00"
          ],
          [
           "Rek'Sai",
           "711.00"
          ],
          [
           "Rek'Sai",
           "712.00"
          ],
          [
           "Rek'Sai",
           "713.00"
          ],
          [
           "Rek'Sai",
           "714.00"
          ],
          [
           "Rek'Sai",
           "715.00"
          ],
          [
           "Rek'Sai",
           "716.00"
          ],
          [
           "Rek'Sai",
           "717.00"
          ],
          [
           "Rek'Sai",
           "718.00"
          ],
          [
           "Rek'Sai",
           "719.00"
          ],
          [
           "Rek'Sai",
           "720.00"
          ],
          [
           "Rek'Sai",
           "721.00"
          ],
          [
           "Rek'Sai",
           "722.00"
          ],
          [
           "Rek'Sai",
           "723.00"
          ],
          [
           "Rek'Sai",
           "724.00"
          ],
          [
           "Rek'Sai",
           "751.00"
          ],
          [
           "Rek'Sai",
           "752.00"
          ],
          [
           "Rek'Sai",
           "753.00"
          ],
          [
           "Rek'Sai",
           "754.00"
          ],
          [
           "Rek'Sai",
           "755.00"
          ]
         ],
         "hovertemplate": "Champion=%{customdata[0]}<br>t-SNE Component 1=%{x}<br>t-SNE Component 2=%{y}<br>Patch=%{customdata[1]}<extra></extra>",
         "legendgroup": "Rek'Sai",
         "marker": {
          "color": "#FF6692",
          "size": 8,
          "symbol": "circle"
         },
         "mode": "markers",
         "name": "Rek'Sai",
         "showlegend": true,
         "type": "scattergl",
         "x": {
          "bdata": "EDkgwvMMHsIRDR7CEQ0ewhENHsIfDR7C9wwewhANHsIQDR7CywwewhANHsIGDR7ClgwewpcMHsIQDR7CrgwewhANHsISBB7CLAMewnUZHsJIIh7C9BcewhYhHsI=",
          "dtype": "f4"
         },
         "xaxis": "x",
         "y": {
          "bdata": "WEdlQat1V0HTdVdB0nVXQdJ1V0F0dVdBpXVXQdJ1V0HRdVdB/nVXQdJ1V0HGdVdBrHdXQXF8V0HSdVdBXHxXQdB1V0G6r1dBNLFXQfONV0EIVVdBSpZXQRVYV0E=",
          "dtype": "f4"
         },
         "yaxis": "y"
        },
        {
         "customdata": [
          [
           "Ivern",
           "707.00"
          ],
          [
           "Ivern",
           "708.00"
          ],
          [
           "Ivern",
           "709.00"
          ],
          [
           "Ivern",
           "710.00"
          ],
          [
           "Ivern",
           "711.00"
          ],
          [
           "Ivern",
           "712.00"
          ],
          [
           "Ivern",
           "713.00"
          ],
          [
           "Ivern",
           "714.00"
          ],
          [
           "Ivern",
           "715.00"
          ],
          [
           "Ivern",
           "716.00"
          ],
          [
           "Ivern",
           "717.00"
          ],
          [
           "Ivern",
           "718.00"
          ],
          [
           "Ivern",
           "719.00"
          ],
          [
           "Ivern",
           "720.00"
          ],
          [
           "Ivern",
           "721.00"
          ],
          [
           "Ivern",
           "722.00"
          ],
          [
           "Ivern",
           "723.00"
          ],
          [
           "Ivern",
           "724.00"
          ],
          [
           "Ivern",
           "751.00"
          ],
          [
           "Ivern",
           "752.00"
          ],
          [
           "Ivern",
           "753.00"
          ],
          [
           "Ivern",
           "754.00"
          ],
          [
           "Ivern",
           "755.00"
          ]
         ],
         "hovertemplate": "Champion=%{customdata[0]}<br>t-SNE Component 1=%{x}<br>t-SNE Component 2=%{y}<br>Patch=%{customdata[1]}<extra></extra>",
         "legendgroup": "Ivern",
         "marker": {
          "color": "#B6E880",
          "size": 8,
          "symbol": "circle"
         },
         "mode": "markers",
         "name": "Ivern",
         "showlegend": true,
         "type": "scattergl",
         "x": {
          "bdata": "xxXFwTu1x8E8tcfBPLXHwTy1x8E8tcfBOrXHwTm1x8E5tcfBObXHwTi1x8E6tcfBObXHwUC1x8E6tcfBOrXHwTq1x8GzQMfBOrXHwTq1x8GzQMfBs0DHwbNAx8E=",
          "dtype": "f4"
         },
         "xaxis": "x",
         "y": {
          "bdata": "C2kBwqsM+8GqDPvBqgz7wakM+8GqDPvBogz7waEM+8GhDPvBoQz7wdAM+8GiDPvBoQz7wboM+8GhDPvBoQz7waAM+8EC0/rBoAz7waAM+8Hg0vrB4NL6wfPS+sE=",
          "dtype": "f4"
         },
         "yaxis": "y"
        },
        {
         "customdata": [
          [
           "Kalista",
           "707.00"
          ],
          [
           "Kalista",
           "708.00"
          ],
          [
           "Kalista",
           "709.00"
          ],
          [
           "Kalista",
           "710.00"
          ],
          [
           "Kalista",
           "711.00"
          ],
          [
           "Kalista",
           "712.00"
          ],
          [
           "Kalista",
           "713.00"
          ],
          [
           "Kalista",
           "714.00"
          ],
          [
           "Kalista",
           "715.00"
          ],
          [
           "Kalista",
           "716.00"
          ],
          [
           "Kalista",
           "717.00"
          ],
          [
           "Kalista",
           "718.00"
          ],
          [
           "Kalista",
           "719.00"
          ],
          [
           "Kalista",
           "720.00"
          ],
          [
           "Kalista",
           "721.00"
          ],
          [
           "Kalista",
           "722.00"
          ],
          [
           "Kalista",
           "723.00"
          ],
          [
           "Kalista",
           "724.00"
          ],
          [
           "Kalista",
           "751.00"
          ],
          [
           "Kalista",
           "752.00"
          ],
          [
           "Kalista",
           "753.00"
          ],
          [
           "Kalista",
           "754.00"
          ],
          [
           "Kalista",
           "755.00"
          ]
         ],
         "hovertemplate": "Champion=%{customdata[0]}<br>t-SNE Component 1=%{x}<br>t-SNE Component 2=%{y}<br>Patch=%{customdata[1]}<extra></extra>",
         "legendgroup": "Kalista",
         "marker": {
          "color": "#FF97FF",
          "size": 8,
          "symbol": "circle"
         },
         "mode": "markers",
         "name": "Kalista",
         "showlegend": true,
         "type": "scattergl",
         "x": {
          "bdata": "g0dBQqZbRUKmW0VCpltFQqZbRUKmW0VCpltFQqZbRUKmW0VCpltFQqdbRUKeW0VCnltFQp5bRUKmW0VCpltFQp5bRULtWkVC7VpFQthoRUIiaEVClGhFQkVoRUI=",
          "dtype": "f4"
         },
         "xaxis": "x",
         "y": {
          "bdata": "/DYdwpLMHMKTzBzCk8wcwpLMHMKTzBzCk8wcwpPMHMKSzBzCk8wcwpLMHMKczBzCnMwcwp3MHMKSzBzCkswcwpzMHMJ0zxzCdM8cwv/lHMKC6hzCr+gcwlrpHMI=",
          "dtype": "f4"
         },
         "yaxis": "y"
        },
        {
         "customdata": [
          [
           "Karma",
           "707.00"
          ],
          [
           "Karma",
           "708.00"
          ],
          [
           "Karma",
           "709.00"
          ],
          [
           "Karma",
           "710.00"
          ],
          [
           "Karma",
           "711.00"
          ],
          [
           "Karma",
           "712.00"
          ],
          [
           "Karma",
           "713.00"
          ],
          [
           "Karma",
           "714.00"
          ],
          [
           "Karma",
           "715.00"
          ],
          [
           "Karma",
           "716.00"
          ],
          [
           "Karma",
           "717.00"
          ],
          [
           "Karma",
           "718.00"
          ],
          [
           "Karma",
           "719.00"
          ],
          [
           "Karma",
           "720.00"
          ],
          [
           "Karma",
           "721.00"
          ],
          [
           "Karma",
           "722.00"
          ],
          [
           "Karma",
           "723.00"
          ],
          [
           "Karma",
           "724.00"
          ],
          [
           "Karma",
           "751.00"
          ],
          [
           "Karma",
           "752.00"
          ],
          [
           "Karma",
           "753.00"
          ],
          [
           "Karma",
           "754.00"
          ],
          [
           "Karma",
           "755.00"
          ]
         ],
         "hovertemplate": "Champion=%{customdata[0]}<br>t-SNE Component 1=%{x}<br>t-SNE Component 2=%{y}<br>Patch=%{customdata[1]}<extra></extra>",
         "legendgroup": "Karma",
         "marker": {
          "color": "#FECB52",
          "size": 8,
          "symbol": "circle"
         },
         "mode": "markers",
         "name": "Karma",
         "showlegend": true,
         "type": "scattergl",
         "x": {
          "bdata": "pRiNwEqVh8BFlYfARJWHwEiVh8AylYfASZWHwD+Vh8AplYfAPpWHwD6Vh8A9lYfAPpWHwESVh8BDlYfARJWHwD6Vh8BElYfAQJWHwJLEh8CSxIfAksSHwJLEh8A=",
          "dtype": "f4"
         },
         "xaxis": "x",
         "y": {
          "bdata": "sW2iwUqcqsFGnKrBR5yqwUWcqsE8nKrBS5yqwUmcqsE+nKrBSZyqwUqcqsFKnKrBSpyqwUecqsFHnKrBR5yqwUmcqsFInKrBSZyqwV+1qsFftarBX7WqwV+1qsE=",
          "dtype": "f4"
         },
         "yaxis": "y"
        },
        {
         "customdata": [
          [
           "Bard",
           "707.00"
          ],
          [
           "Bard",
           "708.00"
          ],
          [
           "Bard",
           "709.00"
          ],
          [
           "Bard",
           "710.00"
          ],
          [
           "Bard",
           "711.00"
          ],
          [
           "Bard",
           "712.00"
          ],
          [
           "Bard",
           "713.00"
          ],
          [
           "Bard",
           "714.00"
          ],
          [
           "Bard",
           "715.00"
          ],
          [
           "Bard",
           "716.00"
          ],
          [
           "Bard",
           "717.00"
          ],
          [
           "Bard",
           "718.00"
          ],
          [
           "Bard",
           "719.00"
          ],
          [
           "Bard",
           "720.00"
          ],
          [
           "Bard",
           "721.00"
          ],
          [
           "Bard",
           "722.00"
          ],
          [
           "Bard",
           "723.00"
          ],
          [
           "Bard",
           "724.00"
          ],
          [
           "Bard",
           "751.00"
          ],
          [
           "Bard",
           "752.00"
          ],
          [
           "Bard",
           "753.00"
          ],
          [
           "Bard",
           "754.00"
          ],
          [
           "Bard",
           "755.00"
          ]
         ],
         "hovertemplate": "Champion=%{customdata[0]}<br>t-SNE Component 1=%{x}<br>t-SNE Component 2=%{y}<br>Patch=%{customdata[1]}<extra></extra>",
         "legendgroup": "Bard",
         "marker": {
          "color": "#636efa",
          "size": 8,
          "symbol": "circle"
         },
         "mode": "markers",
         "name": "Bard",
         "showlegend": true,
         "type": "scattergl",
         "x": {
          "bdata": "p0oDwga+AMIPvgDCDr4Awg6+AMIOvgDCDr4Awg6+AMIOvgDCDr4Awg6+AMIOvgDCDL4Awg6+AMINvgDCBr4Awg6+AMIOvgDCVpoAwg6+AMKGoQDChqEAwoahAMI=",
          "dtype": "f4"
         },
         "xaxis": "x",
         "y": {
          "bdata": "haIpwbqfHMGpnxzBqZ8cwayfHMGpnxzBqZ8cwaWfHMGonxzBp58cwamfHMGqnxzBqZ8cwaifHMGnnxzBs58cwaefHMGonxzB9Y4cwaafHMHpCRzB6QkcwekJHME=",
          "dtype": "f4"
         },
         "yaxis": "y"
        },
        {
         "customdata": [
          [
           "Taric",
           "707.00"
          ],
          [
           "Taric",
           "708.00"
          ],
          [
           "Taric",
           "709.00"
          ],
          [
           "Taric",
           "710.00"
          ],
          [
           "Taric",
           "711.00"
          ],
          [
           "Taric",
           "712.00"
          ],
          [
           "Taric",
           "713.00"
          ],
          [
           "Taric",
           "714.00"
          ],
          [
           "Taric",
           "715.00"
          ],
          [
           "Taric",
           "716.00"
          ],
          [
           "Taric",
           "717.00"
          ],
          [
           "Taric",
           "718.00"
          ],
          [
           "Taric",
           "719.00"
          ],
          [
           "Taric",
           "720.00"
          ],
          [
           "Taric",
           "721.00"
          ],
          [
           "Taric",
           "722.00"
          ],
          [
           "Taric",
           "723.00"
          ],
          [
           "Taric",
           "724.00"
          ],
          [
           "Taric",
           "751.00"
          ],
          [
           "Taric",
           "752.00"
          ],
          [
           "Taric",
           "753.00"
          ],
          [
           "Taric",
           "754.00"
          ],
          [
           "Taric",
           "755.00"
          ]
         ],
         "hovertemplate": "Champion=%{customdata[0]}<br>t-SNE Component 1=%{x}<br>t-SNE Component 2=%{y}<br>Patch=%{customdata[1]}<extra></extra>",
         "legendgroup": "Taric",
         "marker": {
          "color": "#EF553B",
          "size": 8,
          "symbol": "circle"
         },
         "mode": "markers",
         "name": "Taric",
         "showlegend": true,
         "type": "scattergl",
         "x": {
          "bdata": "NMK+wYmAvMGMgLzBiIC8wY6AvMGJgLzBiYC8wYmAvMGJgLzBiYC8wZqAvMGQgLzBkoC8wZKAvMGXgLzBl4C8wRN/vMGagLzBl4C8wc89vMHsO7zBhjq8wYU6vME=",
          "dtype": "f4"
         },
         "xaxis": "x",
         "y": {
          "bdata": "ZJHIwfGM0MHyjNDB8ozQwe2M0MHxjNDB8ozQwfGM0MHxjNDB8ozQwfWM0MHyjNDB8IzQwfCM0MH5jNDB+YzQwcqM0MH2jNDB+YzQwTps0MEma9DBG2vQwRtr0ME=",
          "dtype": "f4"
         },
         "yaxis": "y"
        },
        {
         "customdata": [
          [
           "Veigar",
           "707.00"
          ],
          [
           "Veigar",
           "708.00"
          ],
          [
           "Veigar",
           "709.00"
          ],
          [
           "Veigar",
           "710.00"
          ],
          [
           "Veigar",
           "711.00"
          ],
          [
           "Veigar",
           "712.00"
          ],
          [
           "Veigar",
           "713.00"
          ],
          [
           "Veigar",
           "714.00"
          ],
          [
           "Veigar",
           "715.00"
          ],
          [
           "Veigar",
           "716.00"
          ],
          [
           "Veigar",
           "717.00"
          ],
          [
           "Veigar",
           "718.00"
          ],
          [
           "Veigar",
           "719.00"
          ],
          [
           "Veigar",
           "720.00"
          ],
          [
           "Veigar",
           "721.00"
          ],
          [
           "Veigar",
           "722.00"
          ],
          [
           "Veigar",
           "723.00"
          ],
          [
           "Veigar",
           "724.00"
          ],
          [
           "Veigar",
           "751.00"
          ],
          [
           "Veigar",
           "752.00"
          ],
          [
           "Veigar",
           "753.00"
          ],
          [
           "Veigar",
           "754.00"
          ],
          [
           "Veigar",
           "755.00"
          ]
         ],
         "hovertemplate": "Champion=%{customdata[0]}<br>t-SNE Component 1=%{x}<br>t-SNE Component 2=%{y}<br>Patch=%{customdata[1]}<extra></extra>",
         "legendgroup": "Veigar",
         "marker": {
          "color": "#00cc96",
          "size": 8,
          "symbol": "circle"
         },
         "mode": "markers",
         "name": "Veigar",
         "showlegend": true,
         "type": "scattergl",
         "x": {
          "bdata": "9CGKQhNrikIba4pCG2uKQhtrikIaa4pCE2uKQhtrikISa4pCG2uKQhtrikIba4pCIGuKQhNrikIba4pCG2uKQhNrikITa4pCG2uKQiBrikIba4pCG2uKQhtrikI=",
          "dtype": "f4"
         },
         "xaxis": "x",
         "y": {
          "bdata": "rmSdQRqWpUEblqVBG5alQRuWpUEilqVBJpalQSWWpUEmlqVBHJalQRyWpUEclqVBMpalQSiWpUEdlqVBJ5alQSiWpUEolqVBH5alQTKWpUEilqVBHpalQSKWpUE=",
          "dtype": "f4"
         },
         "yaxis": "y"
        },
        {
         "customdata": [
          [
           "Trundle",
           "707.00"
          ],
          [
           "Trundle",
           "708.00"
          ],
          [
           "Trundle",
           "709.00"
          ],
          [
           "Trundle",
           "710.00"
          ],
          [
           "Trundle",
           "711.00"
          ],
          [
           "Trundle",
           "712.00"
          ],
          [
           "Trundle",
           "713.00"
          ],
          [
           "Trundle",
           "714.00"
          ],
          [
           "Trundle",
           "715.00"
          ],
          [
           "Trundle",
           "716.00"
          ],
          [
           "Trundle",
           "717.00"
          ],
          [
           "Trundle",
           "718.00"
          ],
          [
           "Trundle",
           "719.00"
          ],
          [
           "Trundle",
           "720.00"
          ],
          [
           "Trundle",
           "721.00"
          ],
          [
           "Trundle",
           "722.00"
          ],
          [
           "Trundle",
           "723.00"
          ],
          [
           "Trundle",
           "724.00"
          ],
          [
           "Trundle",
           "751.00"
          ],
          [
           "Trundle",
           "752.00"
          ],
          [
           "Trundle",
           "753.00"
          ],
          [
           "Trundle",
           "754.00"
          ],
          [
           "Trundle",
           "755.00"
          ]
         ],
         "hovertemplate": "Champion=%{customdata[0]}<br>t-SNE Component 1=%{x}<br>t-SNE Component 2=%{y}<br>Patch=%{customdata[1]}<extra></extra>",
         "legendgroup": "Trundle",
         "marker": {
          "color": "#ab63fa",
          "size": 8,
          "symbol": "circle"
         },
         "mode": "markers",
         "name": "Trundle",
         "showlegend": true,
         "type": "scattergl",
         "x": {
          "bdata": "j3tuwg9CcsItQnLCEEJywg9CcsItQnLCLUJywhBCcsIQQnLCD0Jywi1CcsIuQnLCLkJywi5CcsItQnLCD0Jywi1CcsKyQnLCskJywrJCcsItQnLCLkJywi5CcsI=",
          "dtype": "f4"
         },
         "xaxis": "x",
         "y": {
          "bdata": "RfQ4Qo5SN0JzUjdCjlI3Qo1SN0JzUjdCc1I3Qo1SN0KMUjdCjVI3QnNSN0JyUjdCclI3QnJSN0JyUjdCjVI3QnJSN0JeTzdCXk83Ql5PN0JyUjdCclI3QnJSN0I=",
          "dtype": "f4"
         },
         "yaxis": "y"
        },
        {
         "customdata": [
          [
           "Rakan",
           "707.00"
          ],
          [
           "Rakan",
           "708.00"
          ],
          [
           "Rakan",
           "709.00"
          ],
          [
           "Rakan",
           "710.00"
          ],
          [
           "Rakan",
           "711.00"
          ],
          [
           "Rakan",
           "712.00"
          ],
          [
           "Rakan",
           "713.00"
          ],
          [
           "Rakan",
           "714.00"
          ],
          [
           "Rakan",
           "715.00"
          ],
          [
           "Rakan",
           "716.00"
          ],
          [
           "Rakan",
           "717.00"
          ],
          [
           "Rakan",
           "718.00"
          ],
          [
           "Rakan",
           "719.00"
          ],
          [
           "Rakan",
           "720.00"
          ],
          [
           "Rakan",
           "721.00"
          ],
          [
           "Rakan",
           "722.00"
          ],
          [
           "Rakan",
           "723.00"
          ],
          [
           "Rakan",
           "724.00"
          ],
          [
           "Rakan",
           "751.00"
          ],
          [
           "Rakan",
           "752.00"
          ],
          [
           "Rakan",
           "753.00"
          ],
          [
           "Rakan",
           "754.00"
          ],
          [
           "Rakan",
           "755.00"
          ]
         ],
         "hovertemplate": "Champion=%{customdata[0]}<br>t-SNE Component 1=%{x}<br>t-SNE Component 2=%{y}<br>Patch=%{customdata[1]}<extra></extra>",
         "legendgroup": "Rakan",
         "marker": {
          "color": "#FFA15A",
          "size": 8,
          "symbol": "circle"
         },
         "mode": "markers",
         "name": "Rakan",
         "showlegend": true,
         "type": "scattergl",
         "x": {
          "bdata": "iHWKwVGuksFSrpLBgK6SwVKuksF/rpLBUq6SwVOuksFTrpLBU66SwVOuksFTrpLBU66SwYGuksGBrpLBga6SwVOuksE+rZLBU66SwVOuksFTrpLBPa2SwT2tksE=",
          "dtype": "f4"
         },
         "xaxis": "x",
         "y": {
          "bdata": "6gDTwUV908FEfdPBK33TwUV908ErfdPBRH3TwUR908FEfdPBRH3TwUR908FEfdPBRX3TwSt908ErfdPBK33TwUR908ErfNPBRX3TwUR908FEfdPBK3zTwSt808E=",
          "dtype": "f4"
         },
         "yaxis": "y"
        },
        {
         "customdata": [
          [
           "Xayah",
           "707.00"
          ],
          [
           "Xayah",
           "708.00"
          ],
          [
           "Xayah",
           "709.00"
          ],
          [
           "Xayah",
           "710.00"
          ],
          [
           "Xayah",
           "711.00"
          ],
          [
           "Xayah",
           "712.00"
          ],
          [
           "Xayah",
           "713.00"
          ],
          [
           "Xayah",
           "714.00"
          ],
          [
           "Xayah",
           "715.00"
          ],
          [
           "Xayah",
           "716.00"
          ],
          [
           "Xayah",
           "717.00"
          ],
          [
           "Xayah",
           "718.00"
          ],
          [
           "Xayah",
           "719.00"
          ],
          [
           "Xayah",
           "720.00"
          ],
          [
           "Xayah",
           "721.00"
          ],
          [
           "Xayah",
           "722.00"
          ],
          [
           "Xayah",
           "723.00"
          ],
          [
           "Xayah",
           "724.00"
          ],
          [
           "Xayah",
           "751.00"
          ],
          [
           "Xayah",
           "752.00"
          ],
          [
           "Xayah",
           "753.00"
          ],
          [
           "Xayah",
           "754.00"
          ],
          [
           "Xayah",
           "755.00"
          ]
         ],
         "hovertemplate": "Champion=%{customdata[0]}<br>t-SNE Component 1=%{x}<br>t-SNE Component 2=%{y}<br>Patch=%{customdata[1]}<extra></extra>",
         "legendgroup": "Xayah",
         "marker": {
          "color": "#19d3f3",
          "size": 8,
          "symbol": "circle"
         },
         "mode": "markers",
         "name": "Xayah",
         "showlegend": true,
         "type": "scattergl",
         "x": {
          "bdata": "D42tQQZgqkEEYKpBBGCqQQJgqkECYKpBBmCqQRtgqkEbYKpBG2CqQRtgqkENYKpBD2CqQQdgqkEaYKpBGmCqQQ9gqkEFYKpBDmCqQa5vqkFzcKpBc3CqQXNwqkE=",
          "dtype": "f4"
         },
         "xaxis": "x",
         "y": {
          "bdata": "5s6FwkO1h8JCtYfCQrWHwkK1h8JDtYfCQ7WHwkS1h8JEtYfCRLWHwkS1h8JEtYfCQLWHwkO1h8JEtYfCRLWHwkC1h8JCtYfCRLWHwjm0h8IotIfCKLSHwii0h8I=",
          "dtype": "f4"
         },
         "yaxis": "y"
        },
        {
         "customdata": [
          [
           "Xin Zhao",
           "707.00"
          ],
          [
           "Xin Zhao",
           "708.00"
          ],
          [
           "Xin Zhao",
           "709.00"
          ],
          [
           "Xin Zhao",
           "710.00"
          ],
          [
           "Xin Zhao",
           "711.00"
          ],
          [
           "Xin Zhao",
           "712.00"
          ],
          [
           "Xin Zhao",
           "713.00"
          ],
          [
           "Xin Zhao",
           "714.00"
          ],
          [
           "Xin Zhao",
           "715.00"
          ],
          [
           "Xin Zhao",
           "716.00"
          ],
          [
           "Xin Zhao",
           "717.00"
          ],
          [
           "Xin Zhao",
           "718.00"
          ],
          [
           "Xin Zhao",
           "719.00"
          ],
          [
           "Xin Zhao",
           "720.00"
          ],
          [
           "Xin Zhao",
           "721.00"
          ],
          [
           "Xin Zhao",
           "722.00"
          ],
          [
           "Xin Zhao",
           "723.00"
          ],
          [
           "Xin Zhao",
           "724.00"
          ],
          [
           "Xin Zhao",
           "751.00"
          ],
          [
           "Xin Zhao",
           "752.00"
          ],
          [
           "Xin Zhao",
           "753.00"
          ],
          [
           "Xin Zhao",
           "754.00"
          ],
          [
           "Xin Zhao",
           "755.00"
          ]
         ],
         "hovertemplate": "Champion=%{customdata[0]}<br>t-SNE Component 1=%{x}<br>t-SNE Component 2=%{y}<br>Patch=%{customdata[1]}<extra></extra>",
         "legendgroup": "Xin Zhao",
         "marker": {
          "color": "#FF6692",
          "size": 8,
          "symbol": "circle"
         },
         "mode": "markers",
         "name": "Xin Zhao",
         "showlegend": true,
         "type": "scattergl",
         "x": {
          "bdata": "FEJWwkNZWsIwWFrCRFlawhNYWsIUWFrCMFhawjFYWsI/WFrCMlhawjNYWsIvWFrCL1hawkZZWsI8WFrCMVhawjJYWsIxWFrCMVhawjRYWsIxWFrCNFhawjRYWsI=",
          "dtype": "f4"
         },
         "xaxis": "x",
         "y": {
          "bdata": "Iq3DQOy3vUDXuL1A7Le9QJ24vUCiuL1Apri9QJy4vUCjuL1Aori9QKK4vUCcuL1Amri9QOq3vUDMuL1Apbi9QKC4vUCjuL1AnLi9QKG4vUCcuL1Aobi9QKG4vUA=",
          "dtype": "f4"
         },
         "yaxis": "y"
        },
        {
         "customdata": [
          [
           "Swain",
           "707.00"
          ],
          [
           "Swain",
           "708.00"
          ],
          [
           "Swain",
           "709.00"
          ],
          [
           "Swain",
           "710.00"
          ],
          [
           "Swain",
           "711.00"
          ],
          [
           "Swain",
           "712.00"
          ],
          [
           "Swain",
           "713.00"
          ],
          [
           "Swain",
           "714.00"
          ],
          [
           "Swain",
           "715.00"
          ],
          [
           "Swain",
           "716.00"
          ],
          [
           "Swain",
           "717.00"
          ],
          [
           "Swain",
           "718.00"
          ],
          [
           "Swain",
           "719.00"
          ],
          [
           "Swain",
           "720.00"
          ],
          [
           "Swain",
           "721.00"
          ],
          [
           "Swain",
           "722.00"
          ],
          [
           "Swain",
           "723.00"
          ],
          [
           "Swain",
           "724.00"
          ],
          [
           "Swain",
           "751.00"
          ],
          [
           "Swain",
           "752.00"
          ],
          [
           "Swain",
           "753.00"
          ],
          [
           "Swain",
           "754.00"
          ],
          [
           "Swain",
           "755.00"
          ]
         ],
         "hovertemplate": "Champion=%{customdata[0]}<br>t-SNE Component 1=%{x}<br>t-SNE Component 2=%{y}<br>Patch=%{customdata[1]}<extra></extra>",
         "legendgroup": "Swain",
         "marker": {
          "color": "#B6E880",
          "size": 8,
          "symbol": "circle"
         },
         "mode": "markers",
         "name": "Swain",
         "showlegend": true,
         "type": "scattergl",
         "x": {
          "bdata": "mps0Qm6UMkJulDJCc5QyQm6UMkJplDJCaZQyQmWUMkJulDJCbpQyQnWUMkJqlDJCdZQyQnWUMkJ1lDJCdZQyQnWUMkJ1lDJCCZYyQgu9MkILvTJCpbsyQqW7MkI=",
          "dtype": "f4"
         },
         "xaxis": "x",
         "y": {
          "bdata": "eDzkwLd3AMG4dwDBpHcAwbh3AMF1dwDBdncAwW93AMG6dwDBuncAwbt3AMF7dwDBuncAwbp3AMG6dwDBuncAwbt3AMG7dwDBxnoAwXrBAMF6wQDB474AweO+AME=",
          "dtype": "f4"
         },
         "yaxis": "y"
        },
        {
         "customdata": [
          [
           "Caitlyn",
           "707.00"
          ],
          [
           "Caitlyn",
           "708.00"
          ],
          [
           "Caitlyn",
           "709.00"
          ],
          [
           "Caitlyn",
           "710.00"
          ],
          [
           "Caitlyn",
           "711.00"
          ],
          [
           "Caitlyn",
           "712.00"
          ],
          [
           "Caitlyn",
           "713.00"
          ],
          [
           "Caitlyn",
           "714.00"
          ],
          [
           "Caitlyn",
           "715.00"
          ],
          [
           "Caitlyn",
           "716.00"
          ],
          [
           "Caitlyn",
           "717.00"
          ],
          [
           "Caitlyn",
           "718.00"
          ],
          [
           "Caitlyn",
           "719.00"
          ],
          [
           "Caitlyn",
           "720.00"
          ],
          [
           "Caitlyn",
           "721.00"
          ],
          [
           "Caitlyn",
           "722.00"
          ],
          [
           "Caitlyn",
           "723.00"
          ],
          [
           "Caitlyn",
           "724.00"
          ],
          [
           "Caitlyn",
           "751.00"
          ],
          [
           "Caitlyn",
           "752.00"
          ],
          [
           "Caitlyn",
           "753.00"
          ],
          [
           "Caitlyn",
           "754.00"
          ],
          [
           "Caitlyn",
           "755.00"
          ]
         ],
         "hovertemplate": "Champion=%{customdata[0]}<br>t-SNE Component 1=%{x}<br>t-SNE Component 2=%{y}<br>Patch=%{customdata[1]}<extra></extra>",
         "legendgroup": "Caitlyn",
         "marker": {
          "color": "#FF97FF",
          "size": 8,
          "symbol": "circle"
         },
         "mode": "markers",
         "name": "Caitlyn",
         "showlegend": true,
         "type": "scattergl",
         "x": {
          "bdata": "v6cNQk6TEUJJkxFCSpMRQk2TEUJJkxFCSZMRQk6TEUJKkxFCSpMRQkqTEUJQkxFCSpMRQk6TEUJKkxFCSpMRQkmTEUJOkxFCTpMRQqWLEUIHhhFCB4YRQgeGEUI=",
          "dtype": "f4"
         },
         "xaxis": "x",
         "y": {
          "bdata": "MQPgwXZR38FsUd/Ba1HfwXpR38FrUd/Ba1HfwXpR38FsUd/BbFHfwWxR38F0Ud/BbFHfwXpR38FsUd/BbFHfwWxR38F6Ud/BelHfweK038F919/BfdffwXfX38E=",
          "dtype": "f4"
         },
         "yaxis": "y"
        },
        {
         "customdata": [
          [
           "Ornn",
           "707.00"
          ],
          [
           "Ornn",
           "708.00"
          ],
          [
           "Ornn",
           "709.00"
          ],
          [
           "Ornn",
           "710.00"
          ],
          [
           "Ornn",
           "711.00"
          ],
          [
           "Ornn",
           "712.00"
          ],
          [
           "Ornn",
           "713.00"
          ],
          [
           "Ornn",
           "714.00"
          ],
          [
           "Ornn",
           "715.00"
          ],
          [
           "Ornn",
           "716.00"
          ],
          [
           "Ornn",
           "717.00"
          ],
          [
           "Ornn",
           "718.00"
          ],
          [
           "Ornn",
           "719.00"
          ],
          [
           "Ornn",
           "720.00"
          ],
          [
           "Ornn",
           "721.00"
          ],
          [
           "Ornn",
           "722.00"
          ],
          [
           "Ornn",
           "723.00"
          ],
          [
           "Ornn",
           "724.00"
          ],
          [
           "Ornn",
           "751.00"
          ],
          [
           "Ornn",
           "752.00"
          ],
          [
           "Ornn",
           "753.00"
          ],
          [
           "Ornn",
           "754.00"
          ],
          [
           "Ornn",
           "755.00"
          ]
         ],
         "hovertemplate": "Champion=%{customdata[0]}<br>t-SNE Component 1=%{x}<br>t-SNE Component 2=%{y}<br>Patch=%{customdata[1]}<extra></extra>",
         "legendgroup": "Ornn",
         "marker": {
          "color": "#FECB52",
          "size": 8,
          "symbol": "circle"
         },
         "mode": "markers",
         "name": "Ornn",
         "showlegend": true,
         "type": "scattergl",
         "x": {
          "bdata": "F0xYwjdaXMI9WlzCNlpcwiVaXMI2WlzCJVpcwiVaXMIlWlzCJVpcwiVaXMIkWlzCM1pcwiVaXMIlWlzCNlpcwiNaXMI8WlzCJVpcwiNaXMIkWlzCK1pcwitaXMI=",
          "dtype": "f4"
         },
         "xaxis": "x",
         "y": {
          "bdata": "wxnswS6W7cEilu3BH5btwS2W7cEelu3BLpbtwS6W7cEtlu3BX5btwS6W7cEAlu3BL5btwS6W7cEulu3BHZbtwS2W7cEmlu3BLpbtwS2W7cEtlu3BKZbtwSmW7cE=",
          "dtype": "f4"
         },
         "yaxis": "y"
        },
        {
         "customdata": [
          [
           "Sylas",
           "707.00"
          ],
          [
           "Sylas",
           "708.00"
          ],
          [
           "Sylas",
           "709.00"
          ],
          [
           "Sylas",
           "710.00"
          ],
          [
           "Sylas",
           "711.00"
          ],
          [
           "Sylas",
           "712.00"
          ],
          [
           "Sylas",
           "713.00"
          ],
          [
           "Sylas",
           "714.00"
          ],
          [
           "Sylas",
           "715.00"
          ],
          [
           "Sylas",
           "716.00"
          ],
          [
           "Sylas",
           "717.00"
          ],
          [
           "Sylas",
           "718.00"
          ],
          [
           "Sylas",
           "719.00"
          ],
          [
           "Sylas",
           "720.00"
          ],
          [
           "Sylas",
           "721.00"
          ],
          [
           "Sylas",
           "722.00"
          ],
          [
           "Sylas",
           "723.00"
          ],
          [
           "Sylas",
           "724.00"
          ],
          [
           "Sylas",
           "751.00"
          ],
          [
           "Sylas",
           "752.00"
          ],
          [
           "Sylas",
           "753.00"
          ],
          [
           "Sylas",
           "754.00"
          ],
          [
           "Sylas",
           "755.00"
          ]
         ],
         "hovertemplate": "Champion=%{customdata[0]}<br>t-SNE Component 1=%{x}<br>t-SNE Component 2=%{y}<br>Patch=%{customdata[1]}<extra></extra>",
         "legendgroup": "Sylas",
         "marker": {
          "color": "#636efa",
          "size": 8,
          "symbol": "circle"
         },
         "mode": "markers",
         "name": "Sylas",
         "showlegend": true,
         "type": "scattergl",
         "x": {
          "bdata": "0JVLwT07VsFEO1bBQDtWwU07VsE5O1bBODtWwUI7VsE5O1bBOTtWwTk7VsE5O1bBRjtWwUk7VsE3O1bBODtWwT47VsFTO1bBgWpWwVM7VsGBalbBgWpWwYBqVsE=",
          "dtype": "f4"
         },
         "xaxis": "x",
         "y": {
          "bdata": "J7hJQhDeTEIP3kxCFt5MQgneTEIQ3kxCEN5MQhTeTEIR3kxCEN5MQhDeTEIQ3kxCGd5MQhHeTEIQ3kxCEN5MQhjeTEIT3kxCkdBMQhPeTEKR0ExCkdBMQpHQTEI=",
          "dtype": "f4"
         },
         "yaxis": "y"
        },
        {
         "customdata": [
          [
           "Neeko",
           "707.00"
          ],
          [
           "Neeko",
           "708.00"
          ],
          [
           "Neeko",
           "709.00"
          ],
          [
           "Neeko",
           "710.00"
          ],
          [
           "Neeko",
           "711.00"
          ],
          [
           "Neeko",
           "712.00"
          ],
          [
           "Neeko",
           "713.00"
          ],
          [
           "Neeko",
           "714.00"
          ],
          [
           "Neeko",
           "715.00"
          ],
          [
           "Neeko",
           "716.00"
          ],
          [
           "Neeko",
           "717.00"
          ],
          [
           "Neeko",
           "718.00"
          ],
          [
           "Neeko",
           "719.00"
          ],
          [
           "Neeko",
           "720.00"
          ],
          [
           "Neeko",
           "721.00"
          ],
          [
           "Neeko",
           "722.00"
          ],
          [
           "Neeko",
           "723.00"
          ],
          [
           "Neeko",
           "724.00"
          ],
          [
           "Neeko",
           "751.00"
          ],
          [
           "Neeko",
           "752.00"
          ],
          [
           "Neeko",
           "753.00"
          ],
          [
           "Neeko",
           "754.00"
          ],
          [
           "Neeko",
           "755.00"
          ]
         ],
         "hovertemplate": "Champion=%{customdata[0]}<br>t-SNE Component 1=%{x}<br>t-SNE Component 2=%{y}<br>Patch=%{customdata[1]}<extra></extra>",
         "legendgroup": "Neeko",
         "marker": {
          "color": "#EF553B",
          "size": 8,
          "symbol": "circle"
         },
         "mode": "markers",
         "name": "Neeko",
         "showlegend": true,
         "type": "scattergl",
         "x": {
          "bdata": "uqICQm+GBUJwhgVCd4YFQnaGBUJ8hgVCb4YFQnaGBUJ2hgVCdoYFQnuGBUJ4hgVCe4YFQniGBUJ1hgVCeIYFQnWGBUJ4hgVCdYYFQjqIBUI6iAVCOogFQjqIBUI=",
          "dtype": "f4"
         },
         "xaxis": "x",
         "y": {
          "bdata": "OttAPQrzML8o8zC/IgYxvyEGMb8UBzG/IfMwvy4GMb8wBjG/NgYxvwIHMb9BBjG/Agcxv0oGMb8OBjG/SgYxvwYGMb9LBjG/CQYxv2bbLL9m2yy/Z9ssv2fbLL8=",
          "dtype": "f4"
         },
         "yaxis": "y"
        },
        {
         "customdata": [
          [
           "Aphelios",
           "707.00"
          ],
          [
           "Aphelios",
           "708.00"
          ],
          [
           "Aphelios",
           "709.00"
          ],
          [
           "Aphelios",
           "710.00"
          ],
          [
           "Aphelios",
           "711.00"
          ],
          [
           "Aphelios",
           "712.00"
          ],
          [
           "Aphelios",
           "713.00"
          ],
          [
           "Aphelios",
           "714.00"
          ],
          [
           "Aphelios",
           "715.00"
          ],
          [
           "Aphelios",
           "716.00"
          ],
          [
           "Aphelios",
           "717.00"
          ],
          [
           "Aphelios",
           "718.00"
          ],
          [
           "Aphelios",
           "719.00"
          ],
          [
           "Aphelios",
           "720.00"
          ],
          [
           "Aphelios",
           "721.00"
          ],
          [
           "Aphelios",
           "722.00"
          ],
          [
           "Aphelios",
           "723.00"
          ],
          [
           "Aphelios",
           "724.00"
          ],
          [
           "Aphelios",
           "751.00"
          ],
          [
           "Aphelios",
           "752.00"
          ],
          [
           "Aphelios",
           "753.00"
          ],
          [
           "Aphelios",
           "754.00"
          ],
          [
           "Aphelios",
           "755.00"
          ]
         ],
         "hovertemplate": "Champion=%{customdata[0]}<br>t-SNE Component 1=%{x}<br>t-SNE Component 2=%{y}<br>Patch=%{customdata[1]}<extra></extra>",
         "legendgroup": "Aphelios",
         "marker": {
          "color": "#00cc96",
          "size": 8,
          "symbol": "circle"
         },
         "mode": "markers",
         "name": "Aphelios",
         "showlegend": true,
         "type": "scattergl",
         "x": {
          "bdata": "GforQkm5KkJJuSpCYrkqQkm5KkJiuSpCSbkqQkm5KkJJuSpCSbkqQki5KkJIuSpCSLkqQki5KkJeuSpCXrkqQtS4KkKdrCpCYrkqQp2sKkKTuCpCb6wqQpO4KkI=",
          "dtype": "f4"
         },
         "xaxis": "x",
         "y": {
          "bdata": "Du7ZweXJ4cHmyeHBy8nhweXJ4cHMyeHB5snhwebJ4cHnyeHB5snhwefJ4cHmyeHB5snhwebJ4cHJyeHBycnhwULK4cGC1+HBzcnhwYPX4cGAyuHBrdfhwYDK4cE=",
          "dtype": "f4"
         },
         "yaxis": "y"
        },
        {
         "customdata": [
          [
           "Rell",
           "707.00"
          ],
          [
           "Rell",
           "708.00"
          ],
          [
           "Rell",
           "709.00"
          ],
          [
           "Rell",
           "710.00"
          ],
          [
           "Rell",
           "711.00"
          ],
          [
           "Rell",
           "712.00"
          ],
          [
           "Rell",
           "713.00"
          ],
          [
           "Rell",
           "714.00"
          ],
          [
           "Rell",
           "715.00"
          ],
          [
           "Rell",
           "716.00"
          ],
          [
           "Rell",
           "717.00"
          ],
          [
           "Rell",
           "718.00"
          ],
          [
           "Rell",
           "719.00"
          ],
          [
           "Rell",
           "720.00"
          ],
          [
           "Rell",
           "721.00"
          ],
          [
           "Rell",
           "722.00"
          ],
          [
           "Rell",
           "723.00"
          ],
          [
           "Rell",
           "724.00"
          ],
          [
           "Rell",
           "751.00"
          ],
          [
           "Rell",
           "752.00"
          ],
          [
           "Rell",
           "753.00"
          ],
          [
           "Rell",
           "754.00"
          ],
          [
           "Rell",
           "755.00"
          ]
         ],
         "hovertemplate": "Champion=%{customdata[0]}<br>t-SNE Component 1=%{x}<br>t-SNE Component 2=%{y}<br>Patch=%{customdata[1]}<extra></extra>",
         "legendgroup": "Rell",
         "marker": {
          "color": "#ab63fa",
          "size": 8,
          "symbol": "circle"
         },
         "mode": "markers",
         "name": "Rell",
         "showlegend": true,
         "type": "scattergl",
         "x": {
          "bdata": "9fA7wQpYSMELWEjBVVhIwQxYSMENWEjBC1hIwQxYSMEMWEjBDFhIwQ1YSMENWEjBDFhIwVpYSMEGWEjBDVhIwQ1YSMGJWEjBKIlIwSiJSMFrWEjBJYlIwSWJSME=",
          "dtype": "f4"
         },
         "xaxis": "x",
         "y": {
          "bdata": "aXuTwokfksKJH5LClh+SwogfksKIH5LCih+SwoofksKKH5LCih+SwoofksKKH5LCih+SwpMfksKeH5LCiR+SwokfksKTH5LCLx2Swi8dksKSH5LCLx2Swi8dksI=",
          "dtype": "f4"
         },
         "yaxis": "y"
        },
        {
         "customdata": [
          [
           "Blitzcrank",
           "707.00"
          ],
          [
           "Blitzcrank",
           "708.00"
          ],
          [
           "Blitzcrank",
           "709.00"
          ],
          [
           "Blitzcrank",
           "710.00"
          ],
          [
           "Blitzcrank",
           "711.00"
          ],
          [
           "Blitzcrank",
           "712.00"
          ],
          [
           "Blitzcrank",
           "713.00"
          ],
          [
           "Blitzcrank",
           "714.00"
          ],
          [
           "Blitzcrank",
           "715.00"
          ],
          [
           "Blitzcrank",
           "716.00"
          ],
          [
           "Blitzcrank",
           "717.00"
          ],
          [
           "Blitzcrank",
           "718.00"
          ],
          [
           "Blitzcrank",
           "719.00"
          ],
          [
           "Blitzcrank",
           "720.00"
          ],
          [
           "Blitzcrank",
           "721.00"
          ],
          [
           "Blitzcrank",
           "722.00"
          ],
          [
           "Blitzcrank",
           "723.00"
          ],
          [
           "Blitzcrank",
           "724.00"
          ],
          [
           "Blitzcrank",
           "751.00"
          ],
          [
           "Blitzcrank",
           "752.00"
          ],
          [
           "Blitzcrank",
           "753.00"
          ],
          [
           "Blitzcrank",
           "754.00"
          ],
          [
           "Blitzcrank",
           "755.00"
          ]
         ],
         "hovertemplate": "Champion=%{customdata[0]}<br>t-SNE Component 1=%{x}<br>t-SNE Component 2=%{y}<br>Patch=%{customdata[1]}<extra></extra>",
         "legendgroup": "Blitzcrank",
         "marker": {
          "color": "#FFA15A",
          "size": 8,
          "symbol": "circle"
         },
         "mode": "markers",
         "name": "Blitzcrank",
         "showlegend": true,
         "type": "scattergl",
         "x": {
          "bdata": "eQDKwXAbycFyG8nBchvJwWsbycFrG8nBYRvJwXEbycFzG8nBZBvJwWQbycFoG8nBXxvJwW4bycFxG8nBcRvJwXEbycFxG8nBbRvJwRWXyMEVl8jBEpfIwRKXyME=",
          "dtype": "f4"
         },
         "xaxis": "x",
         "y": {
          "bdata": "aVN/wia2gcIatoHCGraBwgO2gcIDtoHCHbaBwiS2gcIatoHCE7aBwhO2gcL9tYHCFbaBwh+2gcIbtoHCG7aBwhu2gcIatoHCH7aBwnC0gcJwtIHCWLSBwli0gcI=",
          "dtype": "f4"
         },
         "yaxis": "y"
        },
        {
         "customdata": [
          [
           "Malphite",
           "707.00"
          ],
          [
           "Malphite",
           "708.00"
          ],
          [
           "Malphite",
           "709.00"
          ],
          [
           "Malphite",
           "710.00"
          ],
          [
           "Malphite",
           "711.00"
          ],
          [
           "Malphite",
           "712.00"
          ],
          [
           "Malphite",
           "713.00"
          ],
          [
           "Malphite",
           "714.00"
          ],
          [
           "Malphite",
           "715.00"
          ],
          [
           "Malphite",
           "716.00"
          ],
          [
           "Malphite",
           "717.00"
          ],
          [
           "Malphite",
           "718.00"
          ],
          [
           "Malphite",
           "719.00"
          ],
          [
           "Malphite",
           "720.00"
          ],
          [
           "Malphite",
           "721.00"
          ],
          [
           "Malphite",
           "722.00"
          ],
          [
           "Malphite",
           "723.00"
          ],
          [
           "Malphite",
           "724.00"
          ],
          [
           "Malphite",
           "751.00"
          ],
          [
           "Malphite",
           "752.00"
          ],
          [
           "Malphite",
           "753.00"
          ],
          [
           "Malphite",
           "754.00"
          ],
          [
           "Malphite",
           "755.00"
          ]
         ],
         "hovertemplate": "Champion=%{customdata[0]}<br>t-SNE Component 1=%{x}<br>t-SNE Component 2=%{y}<br>Patch=%{customdata[1]}<extra></extra>",
         "legendgroup": "Malphite",
         "marker": {
          "color": "#19d3f3",
          "size": 8,
          "symbol": "circle"
         },
         "mode": "markers",
         "name": "Malphite",
         "showlegend": true,
         "type": "scattergl",
         "x": {
          "bdata": "gGVowkINZcJCDWXCfw1lwkENZcIlDWXCJQ1lwiUNZcIlDWXCJg1lwiYNZcImDWXCJg1lwkENZcImDWXCJQ1lwkENZcIlDWXCSQplwoIKZcJJCmXCJQ1lwn8NZcI=",
          "dtype": "f4"
         },
         "xaxis": "x",
         "y": {
          "bdata": "zEE/wvnvPML57zzCWe48wvnvPMIO8DzCDvA8wg3wPMIN8DzCDvA8wg7wPMIN8DzCDfA8wvjvPMIO8DzCDfA8wvjvPMIN8DzCc/M8wvfxPMJz8zzCDfA8wlnuPMI=",
          "dtype": "f4"
         },
         "yaxis": "y"
        },
        {
         "customdata": [
          [
           "Katarina",
           "707.00"
          ],
          [
           "Katarina",
           "708.00"
          ],
          [
           "Katarina",
           "709.00"
          ],
          [
           "Katarina",
           "710.00"
          ],
          [
           "Katarina",
           "711.00"
          ],
          [
           "Katarina",
           "712.00"
          ],
          [
           "Katarina",
           "713.00"
          ],
          [
           "Katarina",
           "714.00"
          ],
          [
           "Katarina",
           "715.00"
          ],
          [
           "Katarina",
           "716.00"
          ],
          [
           "Katarina",
           "717.00"
          ],
          [
           "Katarina",
           "718.00"
          ],
          [
           "Katarina",
           "719.00"
          ],
          [
           "Katarina",
           "720.00"
          ],
          [
           "Katarina",
           "721.00"
          ],
          [
           "Katarina",
           "722.00"
          ],
          [
           "Katarina",
           "723.00"
          ],
          [
           "Katarina",
           "724.00"
          ],
          [
           "Katarina",
           "751.00"
          ],
          [
           "Katarina",
           "752.00"
          ],
          [
           "Katarina",
           "753.00"
          ],
          [
           "Katarina",
           "754.00"
          ],
          [
           "Katarina",
           "755.00"
          ]
         ],
         "hovertemplate": "Champion=%{customdata[0]}<br>t-SNE Component 1=%{x}<br>t-SNE Component 2=%{y}<br>Patch=%{customdata[1]}<extra></extra>",
         "legendgroup": "Katarina",
         "marker": {
          "color": "#FF6692",
          "size": 8,
          "symbol": "circle"
         },
         "mode": "markers",
         "name": "Katarina",
         "showlegend": true,
         "type": "scattergl",
         "x": {
          "bdata": "NzeyQQNprUFOaa1BA2mtQQJprUFCaa1BWmmtQVpprUFEaa1BQ2mtQUNprUFDaa1BD2StQQ9krUFDaa1BQ2mtQS9orUFDaa1BQ2mtQUNprUFCaa1BL2itQdhirUE=",
          "dtype": "f4"
         },
         "xaxis": "x",
         "y": {
          "bdata": "jPApwQpxN8FAcjfBCnE3wQxxN8E8cjfBSHI3wUhyN8E4cjfBOHI3wTlyN8E5cjfBeGo3wXdqN8E4cjfBOnI3wWluN8E6cjfBOnI3wTlyN8E5cjfBaW43wddmN8E=",
          "dtype": "f4"
         },
         "yaxis": "y"
        },
        {
         "customdata": [
          [
           "Pyke",
           "707.00"
          ],
          [
           "Pyke",
           "708.00"
          ],
          [
           "Pyke",
           "709.00"
          ],
          [
           "Pyke",
           "710.00"
          ],
          [
           "Pyke",
           "711.00"
          ],
          [
           "Pyke",
           "712.00"
          ],
          [
           "Pyke",
           "713.00"
          ],
          [
           "Pyke",
           "714.00"
          ],
          [
           "Pyke",
           "715.00"
          ],
          [
           "Pyke",
           "716.00"
          ],
          [
           "Pyke",
           "717.00"
          ],
          [
           "Pyke",
           "718.00"
          ],
          [
           "Pyke",
           "719.00"
          ],
          [
           "Pyke",
           "720.00"
          ],
          [
           "Pyke",
           "721.00"
          ],
          [
           "Pyke",
           "722.00"
          ],
          [
           "Pyke",
           "723.00"
          ],
          [
           "Pyke",
           "724.00"
          ],
          [
           "Pyke",
           "751.00"
          ],
          [
           "Pyke",
           "752.00"
          ],
          [
           "Pyke",
           "753.00"
          ],
          [
           "Pyke",
           "754.00"
          ],
          [
           "Pyke",
           "755.00"
          ]
         ],
         "hovertemplate": "Champion=%{customdata[0]}<br>t-SNE Component 1=%{x}<br>t-SNE Component 2=%{y}<br>Patch=%{customdata[1]}<extra></extra>",
         "legendgroup": "Pyke",
         "marker": {
          "color": "#B6E880",
          "size": 8,
          "symbol": "circle"
         },
         "mode": "markers",
         "name": "Pyke",
         "showlegend": true,
         "type": "scattergl",
         "x": {
          "bdata": "c/uSwb5mi8G+ZovBwGaLwb5mi8G/ZovBvmaLwb9mi8HAZovBwGaLwcBmi8G9ZovBvmaLwcFmi8G8ZovBvWaLwb5mi8HAZovBvmaLwblmi8GzZIvBs2SLwbNki8E=",
          "dtype": "f4"
         },
         "xaxis": "x",
         "y": {
          "bdata": "68YjQeaWHUHmlh1B3ZYdQeeWHUHllh1B5ZYdQeWWHUHulh1B7pYdQe2WHUHjlh1B6JYdQeGWHUHmlh1B4ZYdQeWWHUHulh1B5ZYdQeGWHUF1kh1BdpIdQXWSHUE=",
          "dtype": "f4"
         },
         "yaxis": "y"
        },
        {
         "customdata": [
          [
           "Nocturne",
           "707.00"
          ],
          [
           "Nocturne",
           "708.00"
          ],
          [
           "Nocturne",
           "709.00"
          ],
          [
           "Nocturne",
           "710.00"
          ],
          [
           "Nocturne",
           "711.00"
          ],
          [
           "Nocturne",
           "712.00"
          ],
          [
           "Nocturne",
           "713.00"
          ],
          [
           "Nocturne",
           "714.00"
          ],
          [
           "Nocturne",
           "715.00"
          ],
          [
           "Nocturne",
           "716.00"
          ],
          [
           "Nocturne",
           "717.00"
          ],
          [
           "Nocturne",
           "718.00"
          ],
          [
           "Nocturne",
           "719.00"
          ],
          [
           "Nocturne",
           "720.00"
          ],
          [
           "Nocturne",
           "721.00"
          ],
          [
           "Nocturne",
           "722.00"
          ],
          [
           "Nocturne",
           "723.00"
          ],
          [
           "Nocturne",
           "724.00"
          ],
          [
           "Nocturne",
           "751.00"
          ],
          [
           "Nocturne",
           "752.00"
          ],
          [
           "Nocturne",
           "753.00"
          ],
          [
           "Nocturne",
           "754.00"
          ],
          [
           "Nocturne",
           "755.00"
          ]
         ],
         "hovertemplate": "Champion=%{customdata[0]}<br>t-SNE Component 1=%{x}<br>t-SNE Component 2=%{y}<br>Patch=%{customdata[1]}<extra></extra>",
         "legendgroup": "Nocturne",
         "marker": {
          "color": "#FF97FF",
          "size": 8,
          "symbol": "circle"
         },
         "mode": "markers",
         "name": "Nocturne",
         "showlegend": true,
         "type": "scattergl",
         "x": {
          "bdata": "bOY5QCvfdUAs33VALt91QDXfdUAv33VAOt91QDXfdUA733VAOt91QDTfdUAy33VAMN91QDDfdUAy33VANd91QDTfdUA133VA7flyQB6YcUDfSnRAHZhxQFKYcUA=",
          "dtype": "f4"
         },
         "xaxis": "x",
         "y": {
          "bdata": "GQeEQXeDgEF3g4BBd4OAQXiDgEFwg4BBeIOAQXeDgEF3g4BBd4OAQXqDgEFwg4BBb4OAQXGDgEFwg4BBb4OAQXCDgEFwg4BBk3qAQQtggEGKY4BBCmCAQQ1ggEE=",
          "dtype": "f4"
         },
         "yaxis": "y"
        },
        {
         "customdata": [
          [
           "Maokai",
           "707.00"
          ],
          [
           "Maokai",
           "708.00"
          ],
          [
           "Maokai",
           "709.00"
          ],
          [
           "Maokai",
           "710.00"
          ],
          [
           "Maokai",
           "711.00"
          ],
          [
           "Maokai",
           "712.00"
          ],
          [
           "Maokai",
           "713.00"
          ],
          [
           "Maokai",
           "714.00"
          ],
          [
           "Maokai",
           "715.00"
          ],
          [
           "Maokai",
           "716.00"
          ],
          [
           "Maokai",
           "717.00"
          ],
          [
           "Maokai",
           "718.00"
          ],
          [
           "Maokai",
           "719.00"
          ],
          [
           "Maokai",
           "720.00"
          ],
          [
           "Maokai",
           "721.00"
          ],
          [
           "Maokai",
           "722.00"
          ],
          [
           "Maokai",
           "723.00"
          ],
          [
           "Maokai",
           "724.00"
          ],
          [
           "Maokai",
           "751.00"
          ],
          [
           "Maokai",
           "752.00"
          ],
          [
           "Maokai",
           "753.00"
          ],
          [
           "Maokai",
           "754.00"
          ],
          [
           "Maokai",
           "755.00"
          ]
         ],
         "hovertemplate": "Champion=%{customdata[0]}<br>t-SNE Component 1=%{x}<br>t-SNE Component 2=%{y}<br>Patch=%{customdata[1]}<extra></extra>",
         "legendgroup": "Maokai",
         "marker": {
          "color": "#FECB52",
          "size": 8,
          "symbol": "circle"
         },
         "mode": "markers",
         "name": "Maokai",
         "showlegend": true,
         "type": "scattergl",
         "x": {
          "bdata": "0jtLwmYcT8JyHE/CZhxPwnMcT8JzHE/CZhxPwmccT8JzHE/CcxxPwnMcT8J0HE/CdBxPwnQcT8J0HE/CdBxPwnQcT8J0HE/CdBxPwscwT8LIME/CyDBPwscwT8I=",
          "dtype": "f4"
         },
         "xaxis": "x",
         "y": {
          "bdata": "4JJYwgk8V8LVO1fCCTxXwtQ7V8LUO1fCCTxXwgk8V8LUO1fC1DtXwtQ7V8LUO1fC1DtXwtQ7V8LUO1fC1DtXwtQ7V8LUO1fC1DtXwikOV8IpDlfCKA5XwikOV8I=",
          "dtype": "f4"
         },
         "yaxis": "y"
        },
        {
         "customdata": [
          [
           "Renekton",
           "707.00"
          ],
          [
           "Renekton",
           "708.00"
          ],
          [
           "Renekton",
           "709.00"
          ],
          [
           "Renekton",
           "710.00"
          ],
          [
           "Renekton",
           "711.00"
          ],
          [
           "Renekton",
           "712.00"
          ],
          [
           "Renekton",
           "713.00"
          ],
          [
           "Renekton",
           "714.00"
          ],
          [
           "Renekton",
           "715.00"
          ],
          [
           "Renekton",
           "716.00"
          ],
          [
           "Renekton",
           "717.00"
          ],
          [
           "Renekton",
           "718.00"
          ],
          [
           "Renekton",
           "719.00"
          ],
          [
           "Renekton",
           "720.00"
          ],
          [
           "Renekton",
           "721.00"
          ],
          [
           "Renekton",
           "722.00"
          ],
          [
           "Renekton",
           "723.00"
          ],
          [
           "Renekton",
           "724.00"
          ],
          [
           "Renekton",
           "751.00"
          ],
          [
           "Renekton",
           "752.00"
          ],
          [
           "Renekton",
           "753.00"
          ],
          [
           "Renekton",
           "754.00"
          ],
          [
           "Renekton",
           "755.00"
          ]
         ],
         "hovertemplate": "Champion=%{customdata[0]}<br>t-SNE Component 1=%{x}<br>t-SNE Component 2=%{y}<br>Patch=%{customdata[1]}<extra></extra>",
         "legendgroup": "Renekton",
         "marker": {
          "color": "#636efa",
          "size": 8,
          "symbol": "circle"
         },
         "mode": "markers",
         "name": "Renekton",
         "showlegend": true,
         "type": "scattergl",
         "x": {
          "bdata": "soxFws1dRcLRXUXCz11Fws9dRcLIXUXC0F1FwtZdRcLWXUXCzl1FwtFdRcLMXUXCzl1FwsNdRcLIXUXCw11FwtBdRcKTXEXC0V1FwtBdRcLPXUXCk1xFwpNcRcI=",
          "dtype": "f4"
         },
         "xaxis": "x",
         "y": {
          "bdata": "IiPGQUNtzkE7bc5BRW3OQUZtzkFCbc5BSG3OQUhtzkFJbc5BRm3OQUZtzkE6bc5BQ23OQUJtzkFCbc5BQ23OQUZtzkE1bs5BRG3OQUdtzkFGbc5BNm7OQTZuzkE=",
          "dtype": "f4"
         },
         "yaxis": "y"
        },
        {
         "customdata": [
          [
           "Jarvan IV",
           "707.00"
          ],
          [
           "Jarvan IV",
           "708.00"
          ],
          [
           "Jarvan IV",
           "709.00"
          ],
          [
           "Jarvan IV",
           "710.00"
          ],
          [
           "Jarvan IV",
           "711.00"
          ],
          [
           "Jarvan IV",
           "712.00"
          ],
          [
           "Jarvan IV",
           "713.00"
          ],
          [
           "Jarvan IV",
           "714.00"
          ],
          [
           "Jarvan IV",
           "715.00"
          ],
          [
           "Jarvan IV",
           "716.00"
          ],
          [
           "Jarvan IV",
           "717.00"
          ],
          [
           "Jarvan IV",
           "718.00"
          ],
          [
           "Jarvan IV",
           "719.00"
          ],
          [
           "Jarvan IV",
           "720.00"
          ],
          [
           "Jarvan IV",
           "721.00"
          ],
          [
           "Jarvan IV",
           "722.00"
          ],
          [
           "Jarvan IV",
           "723.00"
          ],
          [
           "Jarvan IV",
           "724.00"
          ],
          [
           "Jarvan IV",
           "751.00"
          ],
          [
           "Jarvan IV",
           "752.00"
          ],
          [
           "Jarvan IV",
           "753.00"
          ],
          [
           "Jarvan IV",
           "754.00"
          ],
          [
           "Jarvan IV",
           "755.00"
          ]
         ],
         "hovertemplate": "Champion=%{customdata[0]}<br>t-SNE Component 1=%{x}<br>t-SNE Component 2=%{y}<br>Patch=%{customdata[1]}<extra></extra>",
         "legendgroup": "Jarvan IV",
         "marker": {
          "color": "#EF553B",
          "size": 8,
          "symbol": "circle"
         },
         "mode": "markers",
         "name": "Jarvan IV",
         "showlegend": true,
         "type": "scattergl",
         "x": {
          "bdata": "u2tqwrfAacKvwGnC38Bpwq/AacLowGnCrsBpwujAacK3wGnCt8BpwujAacLowGnC6MBpwrfAacK3wGnCtcBpwuDAacK1wGnCtcBpwgC/acK1wGnCAL9pwgC/acI=",
          "dtype": "f4"
         },
         "xaxis": "x",
         "y": {
          "bdata": "/qIXQZNHB0GcRwdBf0cHQZtHB0GERwdBmkcHQYNHB0GORwdBkEcHQYNHB0GCRwdBgUcHQY1HB0GORwdBkUcHQXpHB0GRRwdBkEcHQe1JB0GRRwdB7UkHQe1JB0E=",
          "dtype": "f4"
         },
         "yaxis": "y"
        },
        {
         "customdata": [
          [
           "Urgot",
           "707.00"
          ],
          [
           "Urgot",
           "708.00"
          ],
          [
           "Urgot",
           "709.00"
          ],
          [
           "Urgot",
           "710.00"
          ],
          [
           "Urgot",
           "711.00"
          ],
          [
           "Urgot",
           "712.00"
          ],
          [
           "Urgot",
           "713.00"
          ],
          [
           "Urgot",
           "714.00"
          ],
          [
           "Urgot",
           "715.00"
          ],
          [
           "Urgot",
           "716.00"
          ],
          [
           "Urgot",
           "717.00"
          ],
          [
           "Urgot",
           "718.00"
          ],
          [
           "Urgot",
           "719.00"
          ],
          [
           "Urgot",
           "720.00"
          ],
          [
           "Urgot",
           "721.00"
          ],
          [
           "Urgot",
           "722.00"
          ],
          [
           "Urgot",
           "723.00"
          ],
          [
           "Urgot",
           "724.00"
          ],
          [
           "Urgot",
           "751.00"
          ],
          [
           "Urgot",
           "752.00"
          ],
          [
           "Urgot",
           "753.00"
          ],
          [
           "Urgot",
           "754.00"
          ],
          [
           "Urgot",
           "755.00"
          ]
         ],
         "hovertemplate": "Champion=%{customdata[0]}<br>t-SNE Component 1=%{x}<br>t-SNE Component 2=%{y}<br>Patch=%{customdata[1]}<extra></extra>",
         "legendgroup": "Urgot",
         "marker": {
          "color": "#00cc96",
          "size": 8,
          "symbol": "circle"
         },
         "mode": "markers",
         "name": "Urgot",
         "showlegend": true,
         "type": "scattergl",
         "x": {
          "bdata": "f7EewuRkIsLlZCLC5GQiwuVkIsLlZCLC5GQiwtlkIsLlZCLC5WQiwuVkIsLlZCLC6mQiwuBkIsLlZCLC5WQiwu1kIsLlZCLCXGUiwnRdIsJ0XSLC/1wiwv9cIsI=",
          "dtype": "f4"
         },
         "xaxis": "x",
         "y": {
          "bdata": "SEdNQrlkS0K5ZEtCuWRLQrlkS0K5ZEtCuWRLQshkS0K5ZEtCuGRLQrpkS0K5ZEtCwGRLQsBkS0K5ZEtCuWRLQsFkS0K5ZEtC02NLQntvS0J7b0tCeXBLQnlwS0I=",
          "dtype": "f4"
         },
         "yaxis": "y"
        },
        {
         "customdata": [
          [
           "Elise",
           "707.00"
          ],
          [
           "Elise",
           "708.00"
          ],
          [
           "Elise",
           "709.00"
          ],
          [
           "Elise",
           "710.00"
          ],
          [
           "Elise",
           "711.00"
          ],
          [
           "Elise",
           "712.00"
          ],
          [
           "Elise",
           "713.00"
          ],
          [
           "Elise",
           "714.00"
          ],
          [
           "Elise",
           "715.00"
          ],
          [
           "Elise",
           "716.00"
          ],
          [
           "Elise",
           "717.00"
          ],
          [
           "Elise",
           "718.00"
          ],
          [
           "Elise",
           "719.00"
          ],
          [
           "Elise",
           "720.00"
          ],
          [
           "Elise",
           "721.00"
          ],
          [
           "Elise",
           "722.00"
          ],
          [
           "Elise",
           "723.00"
          ],
          [
           "Elise",
           "724.00"
          ],
          [
           "Elise",
           "751.00"
          ],
          [
           "Elise",
           "752.00"
          ],
          [
           "Elise",
           "753.00"
          ],
          [
           "Elise",
           "754.00"
          ],
          [
           "Elise",
           "755.00"
          ]
         ],
         "hovertemplate": "Champion=%{customdata[0]}<br>t-SNE Component 1=%{x}<br>t-SNE Component 2=%{y}<br>Patch=%{customdata[1]}<extra></extra>",
         "legendgroup": "Elise",
         "marker": {
          "color": "#ab63fa",
          "size": 8,
          "symbol": "circle"
         },
         "mode": "markers",
         "name": "Elise",
         "showlegend": true,
         "type": "scattergl",
         "x": {
          "bdata": "qGKsQUrNrkFCza5BVc2uQULNrkFMza5BQs2uQUvNrkFXza5BV82uQUPNrkFIza5BSM2uQUPNrkFDza5BUM2uQUTNrkFCza5BTM2uQSLVrkEj1a5BItWuQSLVrkE=",
          "dtype": "f4"
         },
         "xaxis": "x",
         "y": {
          "bdata": "wtpsQuT0aEIP9WhC+vRoQg/1aEIQ9WhC6fRoQg/1aEL89GhC/PRoQg/1aEIH9WhCB/VoQg/1aEIP9WhC+PRoQg/1aEIP9WhC4PRoQoLnaEKC52hCgudoQoLnaEI=",
          "dtype": "f4"
         },
         "yaxis": "y"
        },
        {
         "customdata": [
          [
           "Orianna",
           "707.00"
          ],
          [
           "Orianna",
           "708.00"
          ],
          [
           "Orianna",
           "709.00"
          ],
          [
           "Orianna",
           "710.00"
          ],
          [
           "Orianna",
           "711.00"
          ],
          [
           "Orianna",
           "712.00"
          ],
          [
           "Orianna",
           "713.00"
          ],
          [
           "Orianna",
           "714.00"
          ],
          [
           "Orianna",
           "715.00"
          ],
          [
           "Orianna",
           "716.00"
          ],
          [
           "Orianna",
           "717.00"
          ],
          [
           "Orianna",
           "718.00"
          ],
          [
           "Orianna",
           "719.00"
          ],
          [
           "Orianna",
           "720.00"
          ],
          [
           "Orianna",
           "721.00"
          ],
          [
           "Orianna",
           "722.00"
          ],
          [
           "Orianna",
           "723.00"
          ],
          [
           "Orianna",
           "724.00"
          ],
          [
           "Orianna",
           "751.00"
          ],
          [
           "Orianna",
           "752.00"
          ],
          [
           "Orianna",
           "753.00"
          ],
          [
           "Orianna",
           "754.00"
          ],
          [
           "Orianna",
           "755.00"
          ]
         ],
         "hovertemplate": "Champion=%{customdata[0]}<br>t-SNE Component 1=%{x}<br>t-SNE Component 2=%{y}<br>Patch=%{customdata[1]}<extra></extra>",
         "legendgroup": "Orianna",
         "marker": {
          "color": "#FFA15A",
          "size": 8,
          "symbol": "circle"
         },
         "mode": "markers",
         "name": "Orianna",
         "showlegend": true,
         "type": "scattergl",
         "x": {
          "bdata": "cXbLQXHfzkF0385BcN/OQXHfzkF0385BdN/OQWrfzkF0385BdN/OQXHfzkFn385BcN/OQWLfzkFi385BcN/OQWvfzkFw385BcN/OQScIz0EnCM9BJwjPQScIz0E=",
          "dtype": "f4"
         },
         "xaxis": "x",
         "y": {
          "bdata": "QW0UQoY4GEKDOBhChTgYQoU4GEKEOBhChDgYQpE4GEKEOBhChDgYQoU4GEKFOBhChTgYQoc4GEKHOBhChzgYQoc4GEKHOBhChzgYQo4WGEKOFhhCjhYYQo4WGEI=",
          "dtype": "f4"
         },
         "yaxis": "y"
        },
        {
         "customdata": [
          [
           "Wukong",
           "707.00"
          ],
          [
           "Wukong",
           "708.00"
          ],
          [
           "Wukong",
           "709.00"
          ],
          [
           "Wukong",
           "710.00"
          ],
          [
           "Wukong",
           "711.00"
          ],
          [
           "Wukong",
           "712.00"
          ],
          [
           "Wukong",
           "713.00"
          ],
          [
           "Wukong",
           "714.00"
          ],
          [
           "Wukong",
           "715.00"
          ],
          [
           "Wukong",
           "716.00"
          ],
          [
           "Wukong",
           "717.00"
          ],
          [
           "Wukong",
           "718.00"
          ],
          [
           "Wukong",
           "719.00"
          ],
          [
           "Wukong",
           "720.00"
          ],
          [
           "Wukong",
           "721.00"
          ],
          [
           "Wukong",
           "722.00"
          ],
          [
           "Wukong",
           "723.00"
          ],
          [
           "Wukong",
           "724.00"
          ],
          [
           "Wukong",
           "751.00"
          ],
          [
           "Wukong",
           "752.00"
          ],
          [
           "Wukong",
           "753.00"
          ],
          [
           "Wukong",
           "754.00"
          ],
          [
           "Wukong",
           "755.00"
          ]
         ],
         "hovertemplate": "Champion=%{customdata[0]}<br>t-SNE Component 1=%{x}<br>t-SNE Component 2=%{y}<br>Patch=%{customdata[1]}<extra></extra>",
         "legendgroup": "Wukong",
         "marker": {
          "color": "#19d3f3",
          "size": 8,
          "symbol": "circle"
         },
         "mode": "markers",
         "name": "Wukong",
         "showlegend": true,
         "type": "scattergl",
         "x": {
          "bdata": "CAvqwUqC5sE9gubBPILmwSqC5sEqgubBSYLmwTqC5sErgubBPoLmwTqC5sE5gubBOILmwTiC5sE2gubBOILmwTeC5sE4gubBOILmwZ6R5sGdkebBnZHmwZ6R5sE=",
          "dtype": "f4"
         },
         "xaxis": "x",
         "y": {
          "bdata": "kDlGQi/zSUIf80lCH/NJQkjzSUJI80lCL/NJQiLzSUJI80lCIfNJQiPzSUIj80lCI/NJQiLzSUIi80lCI/NJQiLzSUIi80lCIvNJQo3sSUKN7ElCjexJQo3sSUI=",
          "dtype": "f4"
         },
         "yaxis": "y"
        },
        {
         "customdata": [
          [
           "Brand",
           "707.00"
          ],
          [
           "Brand",
           "708.00"
          ],
          [
           "Brand",
           "709.00"
          ],
          [
           "Brand",
           "710.00"
          ],
          [
           "Brand",
           "711.00"
          ],
          [
           "Brand",
           "712.00"
          ],
          [
           "Brand",
           "713.00"
          ],
          [
           "Brand",
           "714.00"
          ],
          [
           "Brand",
           "715.00"
          ],
          [
           "Brand",
           "716.00"
          ],
          [
           "Brand",
           "717.00"
          ],
          [
           "Brand",
           "718.00"
          ],
          [
           "Brand",
           "719.00"
          ],
          [
           "Brand",
           "720.00"
          ],
          [
           "Brand",
           "721.00"
          ],
          [
           "Brand",
           "722.00"
          ],
          [
           "Brand",
           "723.00"
          ],
          [
           "Brand",
           "724.00"
          ],
          [
           "Brand",
           "751.00"
          ],
          [
           "Brand",
           "752.00"
          ],
          [
           "Brand",
           "753.00"
          ],
          [
           "Brand",
           "754.00"
          ],
          [
           "Brand",
           "755.00"
          ]
         ],
         "hovertemplate": "Champion=%{customdata[0]}<br>t-SNE Component 1=%{x}<br>t-SNE Component 2=%{y}<br>Patch=%{customdata[1]}<extra></extra>",
         "legendgroup": "Brand",
         "marker": {
          "color": "#FF6692",
          "size": 8,
          "symbol": "circle"
         },
         "mode": "markers",
         "name": "Brand",
         "showlegend": true,
         "type": "scattergl",
         "x": {
          "bdata": "pB9nQkM2a0JCNmtCRTZrQl42a0JCNmtCQjZrQkI2a0JCNmtCQzZrQkM2a0JFNmtCQzZrQkM2a0JDNmtCYzZrQkM2a0JDNmtCyjlrQlAga0IQJGtCECRrQhAka0I=",
          "dtype": "f4"
         },
         "xaxis": "x",
         "y": {
          "bdata": "+HJZwSRIV8EoSFfBIUhXwT9IV8EnSFfBJEhXwSRIV8EkSFfBI0hXwSVIV8EhSFfBI0hXwSNIV8EkSFfBGEhXwSVIV8EmSFfBC/9WwXQCV8EOwlbBDsJWwQ7CVsE=",
          "dtype": "f4"
         },
         "yaxis": "y"
        },
        {
         "customdata": [
          [
           "Lee Sin",
           "707.00"
          ],
          [
           "Lee Sin",
           "708.00"
          ],
          [
           "Lee Sin",
           "709.00"
          ],
          [
           "Lee Sin",
           "710.00"
          ],
          [
           "Lee Sin",
           "711.00"
          ],
          [
           "Lee Sin",
           "712.00"
          ],
          [
           "Lee Sin",
           "713.00"
          ],
          [
           "Lee Sin",
           "714.00"
          ],
          [
           "Lee Sin",
           "715.00"
          ],
          [
           "Lee Sin",
           "716.00"
          ],
          [
           "Lee Sin",
           "717.00"
          ],
          [
           "Lee Sin",
           "718.00"
          ],
          [
           "Lee Sin",
           "719.00"
          ],
          [
           "Lee Sin",
           "720.00"
          ],
          [
           "Lee Sin",
           "721.00"
          ],
          [
           "Lee Sin",
           "722.00"
          ],
          [
           "Lee Sin",
           "723.00"
          ],
          [
           "Lee Sin",
           "724.00"
          ],
          [
           "Lee Sin",
           "751.00"
          ],
          [
           "Lee Sin",
           "752.00"
          ],
          [
           "Lee Sin",
           "753.00"
          ],
          [
           "Lee Sin",
           "754.00"
          ],
          [
           "Lee Sin",
           "755.00"
          ]
         ],
         "hovertemplate": "Champion=%{customdata[0]}<br>t-SNE Component 1=%{x}<br>t-SNE Component 2=%{y}<br>Patch=%{customdata[1]}<extra></extra>",
         "legendgroup": "Lee Sin",
         "marker": {
          "color": "#B6E880",
          "size": 8,
          "symbol": "circle"
         },
         "mode": "markers",
         "name": "Lee Sin",
         "showlegend": true,
         "type": "scattergl",
         "x": {
          "bdata": "nvyJwlB5icJQeYnCUHmJwld5icJQeYnCX3mJwl55icJeeYnCZ3mJwlB5icJeeYnCXXmJwlB5icJQeYnCUHmJwlB5icJQeYnCdHmJwqpZicKqWYnCqlmJwqpZicI=",
          "dtype": "f4"
         },
         "xaxis": "x",
         "y": {
          "bdata": "3XMsQf+XHEH+lxxB/5ccQdWXHEH9lxxByJccQdCXHEHQlxxB5ZccQfCXHEHMlxxBy5ccQe+XHEHvlxxB75ccQe+XHEHvlxxBfJccQRzKHEEVyhxBFMocQRTKHEE=",
          "dtype": "f4"
         },
         "yaxis": "y"
        },
        {
         "customdata": [
          [
           "Vayne",
           "707.00"
          ],
          [
           "Vayne",
           "708.00"
          ],
          [
           "Vayne",
           "709.00"
          ],
          [
           "Vayne",
           "710.00"
          ],
          [
           "Vayne",
           "711.00"
          ],
          [
           "Vayne",
           "712.00"
          ],
          [
           "Vayne",
           "713.00"
          ],
          [
           "Vayne",
           "714.00"
          ],
          [
           "Vayne",
           "715.00"
          ],
          [
           "Vayne",
           "716.00"
          ],
          [
           "Vayne",
           "717.00"
          ],
          [
           "Vayne",
           "718.00"
          ],
          [
           "Vayne",
           "719.00"
          ],
          [
           "Vayne",
           "720.00"
          ],
          [
           "Vayne",
           "721.00"
          ],
          [
           "Vayne",
           "722.00"
          ],
          [
           "Vayne",
           "723.00"
          ],
          [
           "Vayne",
           "724.00"
          ],
          [
           "Vayne",
           "751.00"
          ],
          [
           "Vayne",
           "752.00"
          ],
          [
           "Vayne",
           "753.00"
          ],
          [
           "Vayne",
           "754.00"
          ],
          [
           "Vayne",
           "755.00"
          ]
         ],
         "hovertemplate": "Champion=%{customdata[0]}<br>t-SNE Component 1=%{x}<br>t-SNE Component 2=%{y}<br>Patch=%{customdata[1]}<extra></extra>",
         "legendgroup": "Vayne",
         "marker": {
          "color": "#FF97FF",
          "size": 8,
          "symbol": "circle"
         },
         "mode": "markers",
         "name": "Vayne",
         "showlegend": true,
         "type": "scattergl",
         "x": {
          "bdata": "afDBQYw7v0GOO79Bpju/QaM7v0GfO79Boju/QaM7v0GiO79Bozu/QaM7v0GjO79Bjzu/QV87v0GlO79BpTu/QY47v0GlO79Bjju/Qf89v0G+OL9BfDu/QXs7v0E=",
          "dtype": "f4"
         },
         "xaxis": "x",
         "y": {
          "bdata": "Kebrwfmv88H5r/PBA7DzwQew88H+r/PBB7DzwQaw88EIsPPBCLDzwQiw88EIsPPB+a/zwdyv88EFsPPBBbDzwfqv88EFsPPB+q/zwcOw88HUs/PB2bTzwdm088E=",
          "dtype": "f4"
         },
         "yaxis": "y"
        },
        {
         "customdata": [
          [
           "Rumble",
           "707.00"
          ],
          [
           "Rumble",
           "708.00"
          ],
          [
           "Rumble",
           "709.00"
          ],
          [
           "Rumble",
           "710.00"
          ],
          [
           "Rumble",
           "711.00"
          ],
          [
           "Rumble",
           "712.00"
          ],
          [
           "Rumble",
           "713.00"
          ],
          [
           "Rumble",
           "714.00"
          ],
          [
           "Rumble",
           "715.00"
          ],
          [
           "Rumble",
           "716.00"
          ],
          [
           "Rumble",
           "717.00"
          ],
          [
           "Rumble",
           "718.00"
          ],
          [
           "Rumble",
           "719.00"
          ],
          [
           "Rumble",
           "720.00"
          ],
          [
           "Rumble",
           "721.00"
          ],
          [
           "Rumble",
           "722.00"
          ],
          [
           "Rumble",
           "723.00"
          ],
          [
           "Rumble",
           "724.00"
          ],
          [
           "Rumble",
           "751.00"
          ],
          [
           "Rumble",
           "752.00"
          ],
          [
           "Rumble",
           "753.00"
          ],
          [
           "Rumble",
           "754.00"
          ],
          [
           "Rumble",
           "755.00"
          ]
         ],
         "hovertemplate": "Champion=%{customdata[0]}<br>t-SNE Component 1=%{x}<br>t-SNE Component 2=%{y}<br>Patch=%{customdata[1]}<extra></extra>",
         "legendgroup": "Rumble",
         "marker": {
          "color": "#FECB52",
          "size": 8,
          "symbol": "circle"
         },
         "mode": "markers",
         "name": "Rumble",
         "showlegend": true,
         "type": "scattergl",
         "x": {
          "bdata": "sdE8Ql/AQEJdwEBCYcBAQmHAQEJfwEBCX8BAQl7AQEJiwEBCYsBAQmLAQEJiwEBCX8BAQl7AQEJgwEBCXsBAQl/AQEJiwEBCXsBAQl7AQEJewEBCXcBAQl7AQEI=",
          "dtype": "f4"
         },
         "xaxis": "x",
         "y": {
          "bdata": "KPxIQucnSkLlJ0pC4ydKQuUnSkL2J0pC9idKQuUnSkL1J0pC9SdKQvUnSkL2J0pC9idKQuUnSkLrJ0pC5SdKQvYnSkL2J0pC5SdKQuUnSkLlJ0pC4SdKQuUnSkI=",
          "dtype": "f4"
         },
         "yaxis": "y"
        },
        {
         "customdata": [
          [
           "Cassiopeia",
           "707.00"
          ],
          [
           "Cassiopeia",
           "708.00"
          ],
          [
           "Cassiopeia",
           "709.00"
          ],
          [
           "Cassiopeia",
           "710.00"
          ],
          [
           "Cassiopeia",
           "711.00"
          ],
          [
           "Cassiopeia",
           "712.00"
          ],
          [
           "Cassiopeia",
           "713.00"
          ],
          [
           "Cassiopeia",
           "714.00"
          ],
          [
           "Cassiopeia",
           "715.00"
          ],
          [
           "Cassiopeia",
           "716.00"
          ],
          [
           "Cassiopeia",
           "717.00"
          ],
          [
           "Cassiopeia",
           "718.00"
          ],
          [
           "Cassiopeia",
           "719.00"
          ],
          [
           "Cassiopeia",
           "720.00"
          ],
          [
           "Cassiopeia",
           "721.00"
          ],
          [
           "Cassiopeia",
           "722.00"
          ],
          [
           "Cassiopeia",
           "723.00"
          ],
          [
           "Cassiopeia",
           "724.00"
          ],
          [
           "Cassiopeia",
           "751.00"
          ],
          [
           "Cassiopeia",
           "752.00"
          ],
          [
           "Cassiopeia",
           "753.00"
          ],
          [
           "Cassiopeia",
           "754.00"
          ],
          [
           "Cassiopeia",
           "755.00"
          ]
         ],
         "hovertemplate": "Champion=%{customdata[0]}<br>t-SNE Component 1=%{x}<br>t-SNE Component 2=%{y}<br>Patch=%{customdata[1]}<extra></extra>",
         "legendgroup": "Cassiopeia",
         "marker": {
          "color": "#636efa",
          "size": 8,
          "symbol": "circle"
         },
         "mode": "markers",
         "name": "Cassiopeia",
         "showlegend": true,
         "type": "scattergl",
         "x": {
          "bdata": "J+9kQlHlYEJQ5WBCTuVgQlLlYEJS5WBCUuVgQlnlYEJP5WBCT+VgQlLlYEJO5WBCVeVgQlXlYEJP5WBCVOVgQlHlYEJT5WBCUeVgQk/lYEJ842BCfONgQnzjYEI=",
          "dtype": "f4"
         },
         "xaxis": "x",
         "y": {
          "bdata": "oUMxQfbrM0Ht6zNB9uszQfbrM0H26zNB7OszQevrM0H16zNB8OszQffrM0Hp6zNB5+szQefrM0Hj6zNB5+szQevrM0Hk6zNB7eszQfbrM0G19DNBtfQzQbX0M0E=",
          "dtype": "f4"
         },
         "yaxis": "y"
        },
        {
         "customdata": [
          [
           "LeBlanc",
           "707.00"
          ],
          [
           "LeBlanc",
           "708.00"
          ],
          [
           "LeBlanc",
           "709.00"
          ],
          [
           "LeBlanc",
           "710.00"
          ],
          [
           "LeBlanc",
           "711.00"
          ],
          [
           "LeBlanc",
           "712.00"
          ],
          [
           "LeBlanc",
           "713.00"
          ],
          [
           "LeBlanc",
           "714.00"
          ],
          [
           "LeBlanc",
           "715.00"
          ],
          [
           "LeBlanc",
           "716.00"
          ],
          [
           "LeBlanc",
           "717.00"
          ],
          [
           "LeBlanc",
           "718.00"
          ],
          [
           "LeBlanc",
           "719.00"
          ],
          [
           "LeBlanc",
           "720.00"
          ],
          [
           "LeBlanc",
           "721.00"
          ],
          [
           "LeBlanc",
           "722.00"
          ],
          [
           "LeBlanc",
           "723.00"
          ],
          [
           "LeBlanc",
           "724.00"
          ],
          [
           "LeBlanc",
           "751.00"
          ],
          [
           "LeBlanc",
           "752.00"
          ],
          [
           "LeBlanc",
           "753.00"
          ],
          [
           "LeBlanc",
           "754.00"
          ],
          [
           "LeBlanc",
           "755.00"
          ]
         ],
         "hovertemplate": "Champion=%{customdata[0]}<br>t-SNE Component 1=%{x}<br>t-SNE Component 2=%{y}<br>Patch=%{customdata[1]}<extra></extra>",
         "legendgroup": "LeBlanc",
         "marker": {
          "color": "#EF553B",
          "size": 8,
          "symbol": "circle"
         },
         "mode": "markers",
         "name": "LeBlanc",
         "showlegend": true,
         "type": "scattergl",
         "x": {
          "bdata": "vMAQQXAnHkFlJx5BbiceQX0nHkFqJx5BaCceQWsnHkFrJx5BayceQXwnHkFtJx5BbCceQW0nHkFsJx5BbSceQW0nHkFsJx5BayceQSSmHkEkph5BJKYeQSSmHkE=",
          "dtype": "f4"
         },
         "xaxis": "x",
         "y": {
          "bdata": "ncUJwUnl/8Au5f/APeX/wJPl/8BH5f/AOuX/wEjl/8BI5f/ASeX/wJTl/8BH5f/ASOX/wEjl/8BH5f/AR+X/wEfl/8BG5f/AO+X/wHd6AMF2egDBdnoAwXd6AME=",
          "dtype": "f4"
         },
         "yaxis": "y"
        },
        {
         "customdata": [
          [
           "Vex",
           "707.00"
          ],
          [
           "Vex",
           "708.00"
          ],
          [
           "Vex",
           "709.00"
          ],
          [
           "Vex",
           "710.00"
          ],
          [
           "Vex",
           "711.00"
          ],
          [
           "Vex",
           "712.00"
          ],
          [
           "Vex",
           "713.00"
          ],
          [
           "Vex",
           "714.00"
          ],
          [
           "Vex",
           "715.00"
          ],
          [
           "Vex",
           "716.00"
          ],
          [
           "Vex",
           "717.00"
          ],
          [
           "Vex",
           "718.00"
          ],
          [
           "Vex",
           "719.00"
          ],
          [
           "Vex",
           "720.00"
          ],
          [
           "Vex",
           "721.00"
          ],
          [
           "Vex",
           "722.00"
          ],
          [
           "Vex",
           "723.00"
          ],
          [
           "Vex",
           "724.00"
          ],
          [
           "Vex",
           "751.00"
          ],
          [
           "Vex",
           "752.00"
          ],
          [
           "Vex",
           "753.00"
          ],
          [
           "Vex",
           "754.00"
          ],
          [
           "Vex",
           "755.00"
          ]
         ],
         "hovertemplate": "Champion=%{customdata[0]}<br>t-SNE Component 1=%{x}<br>t-SNE Component 2=%{y}<br>Patch=%{customdata[1]}<extra></extra>",
         "legendgroup": "Vex",
         "marker": {
          "color": "#00cc96",
          "size": 8,
          "symbol": "circle"
         },
         "mode": "markers",
         "name": "Vex",
         "showlegend": true,
         "type": "scattergl",
         "x": {
          "bdata": "DkEfQqEDHUKgAx1CoAMdQpkDHUKpAx1CogMdQqkDHUKoAx1CqQMdQqcDHUKnAx1CVQQdQlUEHUKbAx1CmwMdQusEHUKoAx1CZisdQvQCHUI0KR1C0CgdQi8qHUI=",
          "dtype": "f4"
         },
         "xaxis": "x",
         "y": {
          "bdata": "NEk4QYFcRkF+XEZBf1xGQXpcRkGEXEZBh1xGQYZcRkGFXEZBhVxGQYlcRkGHXEZB3GFGQdthRkF2XEZBdlxGQZBaRkGHXEZBij5GQX5YRkF2O0ZBuTdGQeM1RkE=",
          "dtype": "f4"
         },
         "yaxis": "y"
        },
        {
         "customdata": [
          [
           "Skarner",
           "707.00"
          ],
          [
           "Skarner",
           "708.00"
          ],
          [
           "Skarner",
           "709.00"
          ],
          [
           "Skarner",
           "710.00"
          ],
          [
           "Skarner",
           "711.00"
          ],
          [
           "Skarner",
           "712.00"
          ],
          [
           "Skarner",
           "713.00"
          ],
          [
           "Skarner",
           "714.00"
          ],
          [
           "Skarner",
           "715.00"
          ],
          [
           "Skarner",
           "716.00"
          ],
          [
           "Skarner",
           "717.00"
          ],
          [
           "Skarner",
           "718.00"
          ],
          [
           "Skarner",
           "719.00"
          ],
          [
           "Skarner",
           "720.00"
          ],
          [
           "Skarner",
           "721.00"
          ],
          [
           "Skarner",
           "722.00"
          ],
          [
           "Skarner",
           "723.00"
          ],
          [
           "Skarner",
           "724.00"
          ],
          [
           "Skarner",
           "751.00"
          ],
          [
           "Skarner",
           "752.00"
          ],
          [
           "Skarner",
           "753.00"
          ],
          [
           "Skarner",
           "754.00"
          ],
          [
           "Skarner",
           "755.00"
          ]
         ],
         "hovertemplate": "Champion=%{customdata[0]}<br>t-SNE Component 1=%{x}<br>t-SNE Component 2=%{y}<br>Patch=%{customdata[1]}<extra></extra>",
         "legendgroup": "Skarner",
         "marker": {
          "color": "#ab63fa",
          "size": 8,
          "symbol": "circle"
         },
         "mode": "markers",
         "name": "Skarner",
         "showlegend": true,
         "type": "scattergl",
         "x": {
          "bdata": "rA42wiR9M8I4fTPCJX0zwiR9M8I5fTPCOH0zwjl9M8IjfTPCHH0zwhx9M8IjfTPCKX0zwiN9M8IpfTPCI30zwiF9M8IrfTPCIX0zwiF9M8I4fTPCOH0zwjh9M8I=",
          "dtype": "f4"
         },
         "xaxis": "x",
         "y": {
          "bdata": "pm8UQaYgIUGnICFBjSAhQY0gIUGqICFBqCAhQaogIUGnICFBoSAhQaAgIUGqICFBkiAhQaogIUGSICFBqiAhQaUgIUGQICFBoSAhQaEgIUGoICFBqCAhQaggIUE=",
          "dtype": "f4"
         },
         "yaxis": "y"
        },
        {
         "customdata": [
          [
           "Heimerdinger",
           "707.00"
          ],
          [
           "Heimerdinger",
           "708.00"
          ],
          [
           "Heimerdinger",
           "709.00"
          ],
          [
           "Heimerdinger",
           "710.00"
          ],
          [
           "Heimerdinger",
           "711.00"
          ],
          [
           "Heimerdinger",
           "712.00"
          ],
          [
           "Heimerdinger",
           "713.00"
          ],
          [
           "Heimerdinger",
           "714.00"
          ],
          [
           "Heimerdinger",
           "715.00"
          ],
          [
           "Heimerdinger",
           "716.00"
          ],
          [
           "Heimerdinger",
           "717.00"
          ],
          [
           "Heimerdinger",
           "718.00"
          ],
          [
           "Heimerdinger",
           "719.00"
          ],
          [
           "Heimerdinger",
           "720.00"
          ],
          [
           "Heimerdinger",
           "721.00"
          ],
          [
           "Heimerdinger",
           "722.00"
          ],
          [
           "Heimerdinger",
           "723.00"
          ],
          [
           "Heimerdinger",
           "724.00"
          ],
          [
           "Heimerdinger",
           "751.00"
          ],
          [
           "Heimerdinger",
           "752.00"
          ],
          [
           "Heimerdinger",
           "753.00"
          ],
          [
           "Heimerdinger",
           "754.00"
          ],
          [
           "Heimerdinger",
           "755.00"
          ]
         ],
         "hovertemplate": "Champion=%{customdata[0]}<br>t-SNE Component 1=%{x}<br>t-SNE Component 2=%{y}<br>Patch=%{customdata[1]}<extra></extra>",
         "legendgroup": "Heimerdinger",
         "marker": {
          "color": "#FFA15A",
          "size": 8,
          "symbol": "circle"
         },
         "mode": "markers",
         "name": "Heimerdinger",
         "showlegend": true,
         "type": "scattergl",
         "x": {
          "bdata": "4kVSQgHLU0ICy1NCAstTQhPLU0ICy1NCAMtTQv/KU0IGy1NCBstTQgHLU0IBy1NCActTQjzLU0L/ylNCE8tTQgvLU0IUy1NCW8xTQv/KU0IUy1NCW8xTQlvMU0I=",
          "dtype": "f4"
         },
         "xaxis": "x",
         "y": {
          "bdata": "F0CMQPDcqkDt3KpA7tyqQPLcqkDo3KpA+9yqQP/cqkDq3KpA6dyqQPrcqkD63KpA+tyqQKTcqkAC3apA9NyqQOrcqkDy3KpA+OWqQAPdqkDy3KpA+OWqQPrlqkA=",
          "dtype": "f4"
         },
         "yaxis": "y"
        },
        {
         "customdata": [
          [
           "Nasus",
           "707.00"
          ],
          [
           "Nasus",
           "708.00"
          ],
          [
           "Nasus",
           "709.00"
          ],
          [
           "Nasus",
           "710.00"
          ],
          [
           "Nasus",
           "711.00"
          ],
          [
           "Nasus",
           "712.00"
          ],
          [
           "Nasus",
           "713.00"
          ],
          [
           "Nasus",
           "714.00"
          ],
          [
           "Nasus",
           "715.00"
          ],
          [
           "Nasus",
           "716.00"
          ],
          [
           "Nasus",
           "717.00"
          ],
          [
           "Nasus",
           "718.00"
          ],
          [
           "Nasus",
           "719.00"
          ],
          [
           "Nasus",
           "720.00"
          ],
          [
           "Nasus",
           "721.00"
          ],
          [
           "Nasus",
           "722.00"
          ],
          [
           "Nasus",
           "723.00"
          ],
          [
           "Nasus",
           "724.00"
          ],
          [
           "Nasus",
           "751.00"
          ],
          [
           "Nasus",
           "752.00"
          ],
          [
           "Nasus",
           "753.00"
          ],
          [
           "Nasus",
           "754.00"
          ],
          [
           "Nasus",
           "755.00"
          ]
         ],
         "hovertemplate": "Champion=%{customdata[0]}<br>t-SNE Component 1=%{x}<br>t-SNE Component 2=%{y}<br>Patch=%{customdata[1]}<extra></extra>",
         "legendgroup": "Nasus",
         "marker": {
          "color": "#19d3f3",
          "size": 8,
          "symbol": "circle"
         },
         "mode": "markers",
         "name": "Nasus",
         "showlegend": true,
         "type": "scattergl",
         "x": {
          "bdata": "LAkiwpXVJcKI1SXCitUlwpnVJcKV1SXCmdUlwpnVJcKZ1SXCmdUlwo/VJcKM1SXCjNUlwozVJcKa1SXCmtUlwprVJcKG1SXCjNUlwpPVJcKs1yXCrNclwqzXJcI=",
          "dtype": "f4"
         },
         "xaxis": "x",
         "y": {
          "bdata": "VYrYQZC520GLudtBobnbQZe520GJudtBl7nbQZe520GXudtBl7nbQYu520GCudtBgrnbQYK520GWudtBlrnbQZa520GfudtBwrnbQcG520GntttBp7bbQae220E=",
          "dtype": "f4"
         },
         "yaxis": "y"
        },
        {
         "customdata": [
          [
           "Nidalee",
           "707.00"
          ],
          [
           "Nidalee",
           "708.00"
          ],
          [
           "Nidalee",
           "709.00"
          ],
          [
           "Nidalee",
           "710.00"
          ],
          [
           "Nidalee",
           "711.00"
          ],
          [
           "Nidalee",
           "712.00"
          ],
          [
           "Nidalee",
           "713.00"
          ],
          [
           "Nidalee",
           "714.00"
          ],
          [
           "Nidalee",
           "715.00"
          ],
          [
           "Nidalee",
           "716.00"
          ],
          [
           "Nidalee",
           "717.00"
          ],
          [
           "Nidalee",
           "718.00"
          ],
          [
           "Nidalee",
           "719.00"
          ],
          [
           "Nidalee",
           "720.00"
          ],
          [
           "Nidalee",
           "721.00"
          ],
          [
           "Nidalee",
           "722.00"
          ],
          [
           "Nidalee",
           "723.00"
          ],
          [
           "Nidalee",
           "724.00"
          ],
          [
           "Nidalee",
           "751.00"
          ],
          [
           "Nidalee",
           "752.00"
          ],
          [
           "Nidalee",
           "753.00"
          ],
          [
           "Nidalee",
           "754.00"
          ],
          [
           "Nidalee",
           "755.00"
          ]
         ],
         "hovertemplate": "Champion=%{customdata[0]}<br>t-SNE Component 1=%{x}<br>t-SNE Component 2=%{y}<br>Patch=%{customdata[1]}<extra></extra>",
         "legendgroup": "Nidalee",
         "marker": {
          "color": "#FF6692",
          "size": 8,
          "symbol": "circle"
         },
         "mode": "markers",
         "name": "Nidalee",
         "showlegend": true,
         "type": "scattergl",
         "x": {
          "bdata": "LRx6Qd4nhUHdJ4VBByiFQecnhUHkJ4VB2yeFQeMnhUHTJ4VB6ieFQeAnhUHQJ4VB3yeFQQkohUHfJ4VB0yeFQeknhUEJKIVB0yeFQd8nhUHpJ4VB6SeFQeknhUE=",
          "dtype": "f4"
         },
         "xaxis": "x",
         "y": {
          "bdata": "ejlgQk8cYUJWHGFC/BthQlMcYUJVHGFCTRxhQlccYUJVHGFCUhxhQlYcYUJZHGFCVhxhQv0bYUJWHGFCVRxhQlMcYUL8G2FCVRxhQlYcYUJTHGFCUxxhQlMcYUI=",
          "dtype": "f4"
         },
         "yaxis": "y"
        },
        {
         "customdata": [
          [
           "Udyr",
           "707.00"
          ],
          [
           "Udyr",
           "708.00"
          ],
          [
           "Udyr",
           "709.00"
          ],
          [
           "Udyr",
           "710.00"
          ],
          [
           "Udyr",
           "711.00"
          ],
          [
           "Udyr",
           "712.00"
          ],
          [
           "Udyr",
           "713.00"
          ],
          [
           "Udyr",
           "714.00"
          ],
          [
           "Udyr",
           "715.00"
          ],
          [
           "Udyr",
           "716.00"
          ],
          [
           "Udyr",
           "717.00"
          ],
          [
           "Udyr",
           "718.00"
          ],
          [
           "Udyr",
           "719.00"
          ],
          [
           "Udyr",
           "720.00"
          ],
          [
           "Udyr",
           "721.00"
          ],
          [
           "Udyr",
           "722.00"
          ],
          [
           "Udyr",
           "723.00"
          ],
          [
           "Udyr",
           "724.00"
          ],
          [
           "Udyr",
           "751.00"
          ],
          [
           "Udyr",
           "752.00"
          ],
          [
           "Udyr",
           "753.00"
          ],
          [
           "Udyr",
           "754.00"
          ],
          [
           "Udyr",
           "755.00"
          ]
         ],
         "hovertemplate": "Champion=%{customdata[0]}<br>t-SNE Component 1=%{x}<br>t-SNE Component 2=%{y}<br>Patch=%{customdata[1]}<extra></extra>",
         "legendgroup": "Udyr",
         "marker": {
          "color": "#B6E880",
          "size": 8,
          "symbol": "circle"
         },
         "mode": "markers",
         "name": "Udyr",
         "showlegend": true,
         "type": "scattergl",
         "x": {
          "bdata": "kuGvwVjut8FW7rfBXO63wW3ut8FY7rfBbu63wV3ut8Ft7rfBWu63wW7ut8Fu7rfBb+63wW7ut8Fv7rfBbu63wW/ut8Fv7rfBEwG4wcEouMGwOLjBrzi4wbA4uME=",
          "dtype": "f4"
         },
         "xaxis": "x",
         "y": {
          "bdata": "HTfpQeQL60HpC+tBJAzrQSsM60H9C+tBKwzrQRYM60EqDOtB5AvrQSsM60ErDOtBKwzrQSwM60ErDOtBKwzrQSsM60ErDOtBlufqQfMH60Gu5+pBrufqQa7n6kE=",
          "dtype": "f4"
         },
         "yaxis": "y"
        },
        {
         "customdata": [
          [
           "Yone",
           "707.00"
          ],
          [
           "Yone",
           "708.00"
          ],
          [
           "Yone",
           "709.00"
          ],
          [
           "Yone",
           "710.00"
          ],
          [
           "Yone",
           "711.00"
          ],
          [
           "Yone",
           "712.00"
          ],
          [
           "Yone",
           "713.00"
          ],
          [
           "Yone",
           "714.00"
          ],
          [
           "Yone",
           "715.00"
          ],
          [
           "Yone",
           "716.00"
          ],
          [
           "Yone",
           "717.00"
          ],
          [
           "Yone",
           "718.00"
          ],
          [
           "Yone",
           "719.00"
          ],
          [
           "Yone",
           "720.00"
          ],
          [
           "Yone",
           "721.00"
          ],
          [
           "Yone",
           "722.00"
          ],
          [
           "Yone",
           "723.00"
          ],
          [
           "Yone",
           "724.00"
          ],
          [
           "Yone",
           "751.00"
          ],
          [
           "Yone",
           "752.00"
          ],
          [
           "Yone",
           "753.00"
          ],
          [
           "Yone",
           "754.00"
          ],
          [
           "Yone",
           "755.00"
          ]
         ],
         "hovertemplate": "Champion=%{customdata[0]}<br>t-SNE Component 1=%{x}<br>t-SNE Component 2=%{y}<br>Patch=%{customdata[1]}<extra></extra>",
         "legendgroup": "Yone",
         "marker": {
          "color": "#FF97FF",
          "size": 8,
          "symbol": "circle"
         },
         "mode": "markers",
         "name": "Yone",
         "showlegend": true,
         "type": "scattergl",
         "x": {
          "bdata": "7gGzwHyaq8B5mqvAf5qrwH+aq8B/mqvAf5qrwH+aq8B/mqvAgZqrwICaq8B/mqvAgJqrwFOLq8B5mqvAfJqrwIGaq8B5mqvAOYyrwAZ/q8BQkavAL5KrwLWdq8A=",
          "dtype": "f4"
         },
         "xaxis": "x",
         "y": {
          "bdata": "GbcBQTXhEUEw4RFBMOERQTDhEUEw4RFBMOERQTHhEUEw4RFBMuERQTLhEUEy4RFBMuERQffeEUEy4RFBMeERQTLhEUEx4RFBk+QRQcThEUF/4xFB5ekRQV3mEUE=",
          "dtype": "f4"
         },
         "yaxis": "y"
        },
        {
         "customdata": [
          [
           "Poppy",
           "707.00"
          ],
          [
           "Poppy",
           "708.00"
          ],
          [
           "Poppy",
           "709.00"
          ],
          [
           "Poppy",
           "710.00"
          ],
          [
           "Poppy",
           "711.00"
          ],
          [
           "Poppy",
           "712.00"
          ],
          [
           "Poppy",
           "713.00"
          ],
          [
           "Poppy",
           "714.00"
          ],
          [
           "Poppy",
           "715.00"
          ],
          [
           "Poppy",
           "716.00"
          ],
          [
           "Poppy",
           "717.00"
          ],
          [
           "Poppy",
           "718.00"
          ],
          [
           "Poppy",
           "719.00"
          ],
          [
           "Poppy",
           "720.00"
          ],
          [
           "Poppy",
           "721.00"
          ],
          [
           "Poppy",
           "722.00"
          ],
          [
           "Poppy",
           "723.00"
          ],
          [
           "Poppy",
           "724.00"
          ],
          [
           "Poppy",
           "751.00"
          ],
          [
           "Poppy",
           "752.00"
          ],
          [
           "Poppy",
           "753.00"
          ],
          [
           "Poppy",
           "754.00"
          ],
          [
           "Poppy",
           "755.00"
          ]
         ],
         "hovertemplate": "Champion=%{customdata[0]}<br>t-SNE Component 1=%{x}<br>t-SNE Component 2=%{y}<br>Patch=%{customdata[1]}<extra></extra>",
         "legendgroup": "Poppy",
         "marker": {
          "color": "#FECB52",
          "size": 8,
          "symbol": "circle"
         },
         "mode": "markers",
         "name": "Poppy",
         "showlegend": true,
         "type": "scattergl",
         "x": {
          "bdata": "79Z1wqMCdsKkAnbCgwN2wmwDdsJrA3bCbAN2wmwDdsJsA3bCbAN2wqMCdsJrA3bCbQN2wnUDdsJ/A3bCfwN2wm0DdsKAA3bCgAN2wn8DdsKAA3bCbQN2woADdsI=",
          "dtype": "f4"
         },
         "xaxis": "x",
         "y": {
          "bdata": "LJyEwbjpjMG36YzBxOiMwdHojMHR6IzBzOiMwdPojMHR6IzB0uiMwbnpjMHM6IzB0uiMwcPojMHA6IzBweiMwdLojMHA6IzBwOiMwcHojMHA6IzB0uiMwcDojME=",
          "dtype": "f4"
         },
         "yaxis": "y"
        },
        {
         "customdata": [
          [
           "Gragas",
           "707.00"
          ],
          [
           "Gragas",
           "708.00"
          ],
          [
           "Gragas",
           "709.00"
          ],
          [
           "Gragas",
           "710.00"
          ],
          [
           "Gragas",
           "711.00"
          ],
          [
           "Gragas",
           "712.00"
          ],
          [
           "Gragas",
           "713.00"
          ],
          [
           "Gragas",
           "714.00"
          ],
          [
           "Gragas",
           "715.00"
          ],
          [
           "Gragas",
           "716.00"
          ],
          [
           "Gragas",
           "717.00"
          ],
          [
           "Gragas",
           "718.00"
          ],
          [
           "Gragas",
           "719.00"
          ],
          [
           "Gragas",
           "720.00"
          ],
          [
           "Gragas",
           "721.00"
          ],
          [
           "Gragas",
           "722.00"
          ],
          [
           "Gragas",
           "723.00"
          ],
          [
           "Gragas",
           "724.00"
          ],
          [
           "Gragas",
           "751.00"
          ],
          [
           "Gragas",
           "752.00"
          ],
          [
           "Gragas",
           "753.00"
          ],
          [
           "Gragas",
           "754.00"
          ],
          [
           "Gragas",
           "755.00"
          ]
         ],
         "hovertemplate": "Champion=%{customdata[0]}<br>t-SNE Component 1=%{x}<br>t-SNE Component 2=%{y}<br>Patch=%{customdata[1]}<extra></extra>",
         "legendgroup": "Gragas",
         "marker": {
          "color": "#636efa",
          "size": 8,
          "symbol": "circle"
         },
         "mode": "markers",
         "name": "Gragas",
         "showlegend": true,
         "type": "scattergl",
         "x": {
          "bdata": "69IzwgR8N8IDfDfCA3w3wkt8N8JLfDfCOnw3wjl8N8I6fDfCS3w3wkt8N8JMfDfCS3w3wgR8N8I6fDfCS3w3wjp8N8IEfDfCA3w3wkt8N8JLfDfCS3w3wkt8N8I=",
          "dtype": "f4"
         },
         "xaxis": "x",
         "y": {
          "bdata": "+jA2wgtKNMILSjTCC0o0wjRLNMI0SzTCL0s0wi9LNMIwSzTCNEs0wjRLNMI0SzTCNEs0wmpLNMIvSzTCM0s0wi9LNMJqSzTCaUs0wjNLNMIzSzTCNEs0wjRLNMI=",
          "dtype": "f4"
         },
         "yaxis": "y"
        },
        {
         "customdata": [
          [
           "Ambessa",
           "707.00"
          ],
          [
           "Ambessa",
           "708.00"
          ],
          [
           "Ambessa",
           "709.00"
          ],
          [
           "Ambessa",
           "710.00"
          ],
          [
           "Ambessa",
           "711.00"
          ],
          [
           "Ambessa",
           "712.00"
          ],
          [
           "Ambessa",
           "713.00"
          ],
          [
           "Ambessa",
           "714.00"
          ],
          [
           "Ambessa",
           "715.00"
          ],
          [
           "Ambessa",
           "716.00"
          ],
          [
           "Ambessa",
           "717.00"
          ],
          [
           "Ambessa",
           "718.00"
          ],
          [
           "Ambessa",
           "719.00"
          ],
          [
           "Ambessa",
           "720.00"
          ],
          [
           "Ambessa",
           "721.00"
          ],
          [
           "Ambessa",
           "722.00"
          ],
          [
           "Ambessa",
           "723.00"
          ],
          [
           "Ambessa",
           "724.00"
          ],
          [
           "Ambessa",
           "751.00"
          ],
          [
           "Ambessa",
           "752.00"
          ],
          [
           "Ambessa",
           "753.00"
          ],
          [
           "Ambessa",
           "754.00"
          ],
          [
           "Ambessa",
           "755.00"
          ]
         ],
         "hovertemplate": "Champion=%{customdata[0]}<br>t-SNE Component 1=%{x}<br>t-SNE Component 2=%{y}<br>Patch=%{customdata[1]}<extra></extra>",
         "legendgroup": "Ambessa",
         "marker": {
          "color": "#EF553B",
          "size": 8,
          "symbol": "circle"
         },
         "mode": "markers",
         "name": "Ambessa",
         "showlegend": true,
         "type": "scattergl",
         "x": {
          "bdata": "IIYuP1IuSz5PLks+NjRQPiI0UD4ZNFA+ETRQPv4zUD77M1A++zNQPtkzUD7VM1A+0DNQPtIzUD6KNFA+ijRQPnE0UD6WXU4+cTRQPosfZD6EH2Q+Vm9iPuJxYj4=",
          "dtype": "f4"
         },
         "xaxis": "x",
         "y": {
          "bdata": "0AwZQV+RJ0FgkSdB/pknQf6ZJ0H/mSdB/5knQQCaJ0H/mSdBAJonQQGaJ0EBmidBAZonQQGaJ0H/mSdB/5knQQCaJ0FZnSdBAJonQXJNKEFxTShBgFAoQcRQKEE=",
          "dtype": "f4"
         },
         "yaxis": "y"
        },
        {
         "customdata": [
          [
           "Vladimir",
           "707.00"
          ],
          [
           "Vladimir",
           "708.00"
          ],
          [
           "Vladimir",
           "709.00"
          ],
          [
           "Vladimir",
           "710.00"
          ],
          [
           "Vladimir",
           "711.00"
          ],
          [
           "Vladimir",
           "712.00"
          ],
          [
           "Vladimir",
           "713.00"
          ],
          [
           "Vladimir",
           "714.00"
          ],
          [
           "Vladimir",
           "715.00"
          ],
          [
           "Vladimir",
           "716.00"
          ],
          [
           "Vladimir",
           "717.00"
          ],
          [
           "Vladimir",
           "718.00"
          ],
          [
           "Vladimir",
           "719.00"
          ],
          [
           "Vladimir",
           "720.00"
          ],
          [
           "Vladimir",
           "721.00"
          ],
          [
           "Vladimir",
           "722.00"
          ],
          [
           "Vladimir",
           "723.00"
          ],
          [
           "Vladimir",
           "724.00"
          ],
          [
           "Vladimir",
           "751.00"
          ],
          [
           "Vladimir",
           "752.00"
          ],
          [
           "Vladimir",
           "753.00"
          ],
          [
           "Vladimir",
           "754.00"
          ],
          [
           "Vladimir",
           "755.00"
          ]
         ],
         "hovertemplate": "Champion=%{customdata[0]}<br>t-SNE Component 1=%{x}<br>t-SNE Component 2=%{y}<br>Patch=%{customdata[1]}<extra></extra>",
         "legendgroup": "Vladimir",
         "marker": {
          "color": "#00cc96",
          "size": 8,
          "symbol": "circle"
         },
         "mode": "markers",
         "name": "Vladimir",
         "showlegend": true,
         "type": "scattergl",
         "x": {
          "bdata": "Mr8/QtCLQkKviUJChIlCQq+JQkKEiUJCr4lCQtmIQkKviUJC2YhCQq6JQkKoiEJCrolCQoWJQkIXi0JC5opCQoWJQkKFiUJChYlCQr5rQkKVbEJClWxCQpVsQkI=",
          "dtype": "f4"
         },
         "xaxis": "x",
         "y": {
          "bdata": "fl9yQRqQfkH1kH5BN5F+QfaQfkE6kX5B9pB+QfSTfkH2kH5B9JN+QfWQfkEGkX5B9pB+QTqRfkHTkn5B5I9+QTqRfkE6kX5BOpF+QaxSfkHQUn5B0FJ+QdBSfkE=",
          "dtype": "f4"
         },
         "yaxis": "y"
        },
        {
         "customdata": [
          [
           "Pantheon",
           "707.00"
          ],
          [
           "Pantheon",
           "708.00"
          ],
          [
           "Pantheon",
           "709.00"
          ],
          [
           "Pantheon",
           "710.00"
          ],
          [
           "Pantheon",
           "711.00"
          ],
          [
           "Pantheon",
           "712.00"
          ],
          [
           "Pantheon",
           "713.00"
          ],
          [
           "Pantheon",
           "714.00"
          ],
          [
           "Pantheon",
           "715.00"
          ],
          [
           "Pantheon",
           "716.00"
          ],
          [
           "Pantheon",
           "717.00"
          ],
          [
           "Pantheon",
           "718.00"
          ],
          [
           "Pantheon",
           "719.00"
          ],
          [
           "Pantheon",
           "720.00"
          ],
          [
           "Pantheon",
           "721.00"
          ],
          [
           "Pantheon",
           "722.00"
          ],
          [
           "Pantheon",
           "723.00"
          ],
          [
           "Pantheon",
           "724.00"
          ],
          [
           "Pantheon",
           "751.00"
          ],
          [
           "Pantheon",
           "752.00"
          ],
          [
           "Pantheon",
           "753.00"
          ],
          [
           "Pantheon",
           "754.00"
          ],
          [
           "Pantheon",
           "755.00"
          ]
         ],
         "hovertemplate": "Champion=%{customdata[0]}<br>t-SNE Component 1=%{x}<br>t-SNE Component 2=%{y}<br>Patch=%{customdata[1]}<extra></extra>",
         "legendgroup": "Pantheon",
         "marker": {
          "color": "#ab63fa",
          "size": 8,
          "symbol": "circle"
         },
         "mode": "markers",
         "name": "Pantheon",
         "showlegend": true,
         "type": "scattergl",
         "x": {
          "bdata": "9icPQW8BBEF4AQRBbQEEQXsBBEF2AQRBdwEEQXQBBEFzAQRBdwEEQXUBBEFzAQRBdgEEQXUBBEF0AQRBcgEEQXIBBEFzAQRBv84DQcDOA0G+zgNBvs4DQXIBBEE=",
          "dtype": "f4"
         },
         "xaxis": "x",
         "y": {
          "bdata": "kZmpQfm/r0EGwK9BA8CvQQnAr0EIwK9BEcCvQQrAr0EJwK9BEsCvQRHAr0EKwK9BEsCvQRHAr0EQwK9BCsCvQQ/Ar0ERwK9BUZmvQVGZr0FRma9BUZmvQQvAr0E=",
          "dtype": "f4"
         },
         "yaxis": "y"
        },
        {
         "customdata": [
          [
           "Mel",
           "707.00"
          ],
          [
           "Mel",
           "708.00"
          ],
          [
           "Mel",
           "709.00"
          ],
          [
           "Mel",
           "710.00"
          ],
          [
           "Mel",
           "711.00"
          ],
          [
           "Mel",
           "712.00"
          ],
          [
           "Mel",
           "713.00"
          ],
          [
           "Mel",
           "714.00"
          ],
          [
           "Mel",
           "715.00"
          ],
          [
           "Mel",
           "716.00"
          ],
          [
           "Mel",
           "717.00"
          ],
          [
           "Mel",
           "718.00"
          ],
          [
           "Mel",
           "719.00"
          ],
          [
           "Mel",
           "720.00"
          ],
          [
           "Mel",
           "721.00"
          ],
          [
           "Mel",
           "722.00"
          ],
          [
           "Mel",
           "723.00"
          ],
          [
           "Mel",
           "724.00"
          ],
          [
           "Mel",
           "751.00"
          ],
          [
           "Mel",
           "752.00"
          ],
          [
           "Mel",
           "753.00"
          ],
          [
           "Mel",
           "754.00"
          ],
          [
           "Mel",
           "755.00"
          ]
         ],
         "hovertemplate": "Champion=%{customdata[0]}<br>t-SNE Component 1=%{x}<br>t-SNE Component 2=%{y}<br>Patch=%{customdata[1]}<extra></extra>",
         "legendgroup": "Mel",
         "marker": {
          "color": "#FFA15A",
          "size": 8,
          "symbol": "circle"
         },
         "mode": "markers",
         "name": "Mel",
         "showlegend": true,
         "type": "scattergl",
         "x": {
          "bdata": "Pld0QjtEc0I7RHNCO0RzQlhEc0JaRHNCUERzQkdEc0JQRHNCSURzQkdEc0JYRHNCWERzQlhEc0JYRHNCWERzQlBEc0JQRHNCWERzQlhEc0JYRHNCWERzQlBEc0I=",
          "dtype": "f4"
         },
         "xaxis": "x",
         "y": {
          "bdata": "GhkAQmMPBEJjDwRCYw8EQmMQBEJlEARCchAEQm0QBEJxEARCbBAEQm0QBEJjEARCYxAEQmMQBEJjEARCYxAEQnIQBEJyEARCYxAEQmMQBEJjEARCZBAEQnIQBEI=",
          "dtype": "f4"
         },
         "yaxis": "y"
        },
        {
         "customdata": [
          [
           "Ezreal",
           "707.00"
          ],
          [
           "Ezreal",
           "708.00"
          ],
          [
           "Ezreal",
           "709.00"
          ],
          [
           "Ezreal",
           "710.00"
          ],
          [
           "Ezreal",
           "711.00"
          ],
          [
           "Ezreal",
           "712.00"
          ],
          [
           "Ezreal",
           "713.00"
          ],
          [
           "Ezreal",
           "714.00"
          ],
          [
           "Ezreal",
           "715.00"
          ],
          [
           "Ezreal",
           "716.00"
          ],
          [
           "Ezreal",
           "717.00"
          ],
          [
           "Ezreal",
           "718.00"
          ],
          [
           "Ezreal",
           "719.00"
          ],
          [
           "Ezreal",
           "720.00"
          ],
          [
           "Ezreal",
           "721.00"
          ],
          [
           "Ezreal",
           "722.00"
          ],
          [
           "Ezreal",
           "723.00"
          ],
          [
           "Ezreal",
           "724.00"
          ],
          [
           "Ezreal",
           "751.00"
          ],
          [
           "Ezreal",
           "752.00"
          ],
          [
           "Ezreal",
           "753.00"
          ],
          [
           "Ezreal",
           "754.00"
          ],
          [
           "Ezreal",
           "755.00"
          ]
         ],
         "hovertemplate": "Champion=%{customdata[0]}<br>t-SNE Component 1=%{x}<br>t-SNE Component 2=%{y}<br>Patch=%{customdata[1]}<extra></extra>",
         "legendgroup": "Ezreal",
         "marker": {
          "color": "#19d3f3",
          "size": 8,
          "symbol": "circle"
         },
         "mode": "markers",
         "name": "Ezreal",
         "showlegend": true,
         "type": "scattergl",
         "x": {
          "bdata": "BX3uQeVr60Hla+tB5WvrQeRr60Hfa+tB42vrQd5r60Hla+tB5GvrQeRr60Hka+tB8WvrQeRr60Hxa+tB9WvrQeVr60EdbetB4mvrQYCt60FpG+tBRq7rQUeu60E=",
          "dtype": "f4"
         },
         "xaxis": "x",
         "y": {
          "bdata": "QXNTwn6uT8J/rk/Cf65Pwn6uT8KDrk/Cfq5PwoKuT8J+rk/Cf65Pwn6uT8J9rk/Cg65Pwn6uT8KCrk/Cg65Pwn6uT8KErU/Cfq5PwnCXT8IAtE/CqJZPwqiWT8I=",
          "dtype": "f4"
         },
         "yaxis": "y"
        },
        {
         "customdata": [
          [
           "Mordekaiser",
           "707.00"
          ],
          [
           "Mordekaiser",
           "708.00"
          ],
          [
           "Mordekaiser",
           "709.00"
          ],
          [
           "Mordekaiser",
           "710.00"
          ],
          [
           "Mordekaiser",
           "711.00"
          ],
          [
           "Mordekaiser",
           "712.00"
          ],
          [
           "Mordekaiser",
           "713.00"
          ],
          [
           "Mordekaiser",
           "714.00"
          ],
          [
           "Mordekaiser",
           "715.00"
          ],
          [
           "Mordekaiser",
           "716.00"
          ],
          [
           "Mordekaiser",
           "717.00"
          ],
          [
           "Mordekaiser",
           "718.00"
          ],
          [
           "Mordekaiser",
           "719.00"
          ],
          [
           "Mordekaiser",
           "720.00"
          ],
          [
           "Mordekaiser",
           "721.00"
          ],
          [
           "Mordekaiser",
           "722.00"
          ],
          [
           "Mordekaiser",
           "723.00"
          ],
          [
           "Mordekaiser",
           "724.00"
          ],
          [
           "Mordekaiser",
           "751.00"
          ],
          [
           "Mordekaiser",
           "752.00"
          ],
          [
           "Mordekaiser",
           "753.00"
          ],
          [
           "Mordekaiser",
           "754.00"
          ],
          [
           "Mordekaiser",
           "755.00"
          ]
         ],
         "hovertemplate": "Champion=%{customdata[0]}<br>t-SNE Component 1=%{x}<br>t-SNE Component 2=%{y}<br>Patch=%{customdata[1]}<extra></extra>",
         "legendgroup": "Mordekaiser",
         "marker": {
          "color": "#FF6692",
          "size": 8,
          "symbol": "circle"
         },
         "mode": "markers",
         "name": "Mordekaiser",
         "showlegend": true,
         "type": "scattergl",
         "x": {
          "bdata": "FZ7lwTL53sFR+d7Brvnewev53sHq+d7B6/newer53sHr+d7B6vnewer53sF0+97BrPnewaz53sHp+d7B6fneweP/3sFoAd/BQbnewTDe3sFI0t7BkLrewSe+3sE=",
          "dtype": "f4"
         },
         "xaxis": "x",
         "y": {
          "bdata": "IfXpQVGV7kFele5Bw5PuQe6T7kHuk+5B7pPuQe6T7kHtk+5B7pPuQe6T7kE+le5Bw5PuQcOT7kHuk+5B7pPuQcWZ7kE7m+5B2Q/vQUC27kG2+O5B2BDvQdsT70E=",
          "dtype": "f4"
         },
         "yaxis": "y"
        },
        {
         "customdata": [
          [
           "Yorick",
           "707.00"
          ],
          [
           "Yorick",
           "708.00"
          ],
          [
           "Yorick",
           "709.00"
          ],
          [
           "Yorick",
           "710.00"
          ],
          [
           "Yorick",
           "711.00"
          ],
          [
           "Yorick",
           "712.00"
          ],
          [
           "Yorick",
           "713.00"
          ],
          [
           "Yorick",
           "714.00"
          ],
          [
           "Yorick",
           "715.00"
          ],
          [
           "Yorick",
           "716.00"
          ],
          [
           "Yorick",
           "717.00"
          ],
          [
           "Yorick",
           "718.00"
          ],
          [
           "Yorick",
           "719.00"
          ],
          [
           "Yorick",
           "720.00"
          ],
          [
           "Yorick",
           "721.00"
          ],
          [
           "Yorick",
           "722.00"
          ],
          [
           "Yorick",
           "723.00"
          ],
          [
           "Yorick",
           "724.00"
          ],
          [
           "Yorick",
           "751.00"
          ],
          [
           "Yorick",
           "752.00"
          ],
          [
           "Yorick",
           "753.00"
          ],
          [
           "Yorick",
           "754.00"
          ],
          [
           "Yorick",
           "755.00"
          ]
         ],
         "hovertemplate": "Champion=%{customdata[0]}<br>t-SNE Component 1=%{x}<br>t-SNE Component 2=%{y}<br>Patch=%{customdata[1]}<extra></extra>",
         "legendgroup": "Yorick",
         "marker": {
          "color": "#B6E880",
          "size": 8,
          "symbol": "circle"
         },
         "mode": "markers",
         "name": "Yorick",
         "showlegend": true,
         "type": "scattergl",
         "x": {
          "bdata": "F8y2wSx7r8Ele6/BInuvwR97r8Ese6/BLHuvwSx7r8Ese6/BInuvwSJ7r8Eee6/BHnuvwR57r8Eee6/BK3uvwSx7r8Ere6/BK3uvwRGUr8ERlK/BEZSvwRGUr8E=",
          "dtype": "f4"
         },
         "xaxis": "x",
         "y": {
          "bdata": "3E4ZQuVzF0LpcxdC63MXQu1zF0LkcxdC5HMXQuRzF0LkcxdC63MXQutzF0LscxdC7HMXQuxzF0LscxdC5HMXQuRzF0LkcxdC5HMXQuRsF0LkbBdC5GwXQuRsF0I=",
          "dtype": "f4"
         },
         "yaxis": "y"
        },
        {
         "customdata": [
          [
           "Akali",
           "707.00"
          ],
          [
           "Akali",
           "708.00"
          ],
          [
           "Akali",
           "709.00"
          ],
          [
           "Akali",
           "710.00"
          ],
          [
           "Akali",
           "711.00"
          ],
          [
           "Akali",
           "712.00"
          ],
          [
           "Akali",
           "713.00"
          ],
          [
           "Akali",
           "714.00"
          ],
          [
           "Akali",
           "715.00"
          ],
          [
           "Akali",
           "716.00"
          ],
          [
           "Akali",
           "717.00"
          ],
          [
           "Akali",
           "718.00"
          ],
          [
           "Akali",
           "719.00"
          ],
          [
           "Akali",
           "720.00"
          ],
          [
           "Akali",
           "721.00"
          ],
          [
           "Akali",
           "722.00"
          ],
          [
           "Akali",
           "723.00"
          ],
          [
           "Akali",
           "724.00"
          ],
          [
           "Akali",
           "751.00"
          ],
          [
           "Akali",
           "752.00"
          ],
          [
           "Akali",
           "753.00"
          ],
          [
           "Akali",
           "754.00"
          ],
          [
           "Akali",
           "755.00"
          ]
         ],
         "hovertemplate": "Champion=%{customdata[0]}<br>t-SNE Component 1=%{x}<br>t-SNE Component 2=%{y}<br>Patch=%{customdata[1]}<extra></extra>",
         "legendgroup": "Akali",
         "marker": {
          "color": "#FF97FF",
          "size": 8,
          "symbol": "circle"
         },
         "mode": "markers",
         "name": "Akali",
         "showlegend": true,
         "type": "scattergl",
         "x": {
          "bdata": "F0FxQWlpYkFoaWJBI2liQWNpYkFkaWJBImliQWppYkFuaWJBa2liQWtpYkFqaWJBamliQWtpYkFraWJBaGliQW1pYkFsaWJBamliQSVpYkFoaWJBa2liQWhpYkE=",
          "dtype": "f4"
         },
         "xaxis": "x",
         "y": {
          "bdata": "DnTnwKJM2cChTNnAp0zZwKFM2cCWTNnAsUzZwI9M2cCMTNnAlkzZwIZM2cCKTNnAkUzZwI9M2cCPTNnAlEzZwJpM2cCYTNnAhUzZwINM2cCWTNnAl0zZwIVM2cA=",
          "dtype": "f4"
         },
         "yaxis": "y"
        },
        {
         "customdata": [
          [
           "Kennen",
           "707.00"
          ],
          [
           "Kennen",
           "708.00"
          ],
          [
           "Kennen",
           "709.00"
          ],
          [
           "Kennen",
           "710.00"
          ],
          [
           "Kennen",
           "711.00"
          ],
          [
           "Kennen",
           "712.00"
          ],
          [
           "Kennen",
           "713.00"
          ],
          [
           "Kennen",
           "714.00"
          ],
          [
           "Kennen",
           "715.00"
          ],
          [
           "Kennen",
           "716.00"
          ],
          [
           "Kennen",
           "717.00"
          ],
          [
           "Kennen",
           "718.00"
          ],
          [
           "Kennen",
           "719.00"
          ],
          [
           "Kennen",
           "720.00"
          ],
          [
           "Kennen",
           "721.00"
          ],
          [
           "Kennen",
           "722.00"
          ],
          [
           "Kennen",
           "723.00"
          ],
          [
           "Kennen",
           "724.00"
          ],
          [
           "Kennen",
           "751.00"
          ],
          [
           "Kennen",
           "752.00"
          ],
          [
           "Kennen",
           "753.00"
          ],
          [
           "Kennen",
           "754.00"
          ],
          [
           "Kennen",
           "755.00"
          ]
         ],
         "hovertemplate": "Champion=%{customdata[0]}<br>t-SNE Component 1=%{x}<br>t-SNE Component 2=%{y}<br>Patch=%{customdata[1]}<extra></extra>",
         "legendgroup": "Kennen",
         "marker": {
          "color": "#FECB52",
          "size": 8,
          "symbol": "circle"
         },
         "mode": "markers",
         "name": "Kennen",
         "showlegend": true,
         "type": "scattergl",
         "x": {
          "bdata": "Ir4ZQgdQGkIHUBpCJlAaQgVQGkIcUBpCJ1AaQhxQGkIcUBpCHFAaQuFPGkIbUBpCHVAaQh1QGkIdUBpCJ1AaQuFPGkInUBpC4U8aQr8XGkK/FxpCvxcaQr8XGkI=",
          "dtype": "f4"
         },
         "xaxis": "x",
         "y": {
          "bdata": "+jqYQTVdoEE1XaBBiVygQThdoEGMXKBBiVygQYtcoEGMXKBBjFygQblaoEGbXKBBjFygQYxcoEGMXKBBjFygQblaoEGMXKBBulqgQclToEHJU6BByVOgQclToEE=",
          "dtype": "f4"
         },
         "yaxis": "y"
        },
        {
         "customdata": [
          [
           "Garen",
           "707.00"
          ],
          [
           "Garen",
           "708.00"
          ],
          [
           "Garen",
           "709.00"
          ],
          [
           "Garen",
           "710.00"
          ],
          [
           "Garen",
           "711.00"
          ],
          [
           "Garen",
           "712.00"
          ],
          [
           "Garen",
           "713.00"
          ],
          [
           "Garen",
           "714.00"
          ],
          [
           "Garen",
           "715.00"
          ],
          [
           "Garen",
           "716.00"
          ],
          [
           "Garen",
           "717.00"
          ],
          [
           "Garen",
           "718.00"
          ],
          [
           "Garen",
           "719.00"
          ],
          [
           "Garen",
           "720.00"
          ],
          [
           "Garen",
           "721.00"
          ],
          [
           "Garen",
           "722.00"
          ],
          [
           "Garen",
           "723.00"
          ],
          [
           "Garen",
           "724.00"
          ],
          [
           "Garen",
           "751.00"
          ],
          [
           "Garen",
           "752.00"
          ],
          [
           "Garen",
           "753.00"
          ],
          [
           "Garen",
           "754.00"
          ],
          [
           "Garen",
           "755.00"
          ]
         ],
         "hovertemplate": "Champion=%{customdata[0]}<br>t-SNE Component 1=%{x}<br>t-SNE Component 2=%{y}<br>Patch=%{customdata[1]}<extra></extra>",
         "legendgroup": "Garen",
         "marker": {
          "color": "#636efa",
          "size": 8,
          "symbol": "circle"
         },
         "mode": "markers",
         "name": "Garen",
         "showlegend": true,
         "type": "scattergl",
         "x": {
          "bdata": "PWcJwts/DcLcPw3C3D8Nwvw/DcLdPw3C3D8Nwvo/DcL2Pw3C/D8Nwt0/DcLdPw3C3T8Nwvw/DcLcPw3C+j8Nwtw/DcL8Pw3C3T8Nwm89DcJ9Pg3Cbz0Nwm89DcI=",
          "dtype": "f4"
         },
         "xaxis": "x",
         "y": {
          "bdata": "zgiGQpFNhUKSTYVCkk2FQpVNhUKSTYVCkk2FQpRNhUKaTYVClU2FQpJNhUKSTYVCkk2FQpVNhUKSTYVClE2FQpJNhUKVTYVCkk2FQkU4hUIqOIVCRTiFQkU4hUI=",
          "dtype": "f4"
         },
         "yaxis": "y"
        },
        {
         "customdata": [
          [
           "Sett",
           "707.00"
          ],
          [
           "Sett",
           "708.00"
          ],
          [
           "Sett",
           "709.00"
          ],
          [
           "Sett",
           "710.00"
          ],
          [
           "Sett",
           "711.00"
          ],
          [
           "Sett",
           "712.00"
          ],
          [
           "Sett",
           "713.00"
          ],
          [
           "Sett",
           "714.00"
          ],
          [
           "Sett",
           "715.00"
          ],
          [
           "Sett",
           "716.00"
          ],
          [
           "Sett",
           "717.00"
          ],
          [
           "Sett",
           "718.00"
          ],
          [
           "Sett",
           "719.00"
          ],
          [
           "Sett",
           "720.00"
          ],
          [
           "Sett",
           "721.00"
          ],
          [
           "Sett",
           "722.00"
          ],
          [
           "Sett",
           "723.00"
          ],
          [
           "Sett",
           "724.00"
          ],
          [
           "Sett",
           "751.00"
          ],
          [
           "Sett",
           "752.00"
          ],
          [
           "Sett",
           "753.00"
          ],
          [
           "Sett",
           "754.00"
          ],
          [
           "Sett",
           "755.00"
          ]
         ],
         "hovertemplate": "Champion=%{customdata[0]}<br>t-SNE Component 1=%{x}<br>t-SNE Component 2=%{y}<br>Patch=%{customdata[1]}<extra></extra>",
         "legendgroup": "Sett",
         "marker": {
          "color": "#EF553B",
          "size": 8,
          "symbol": "circle"
         },
         "mode": "markers",
         "name": "Sett",
         "showlegend": true,
         "type": "scattergl",
         "x": {
          "bdata": "r82PwcVQicHGUInBzVCJwc1QicHCUInBylCJwcdQicHTUInB01CJwctQicHLUInBxlCJwdRQicHTUInB1FCJwdRQicGiTYnBzk6JwfkHicFjDInB+AeJwakJicE=",
          "dtype": "f4"
         },
         "xaxis": "x",
         "y": {
          "bdata": "4uiRQnWlkEJzpZBCb6WQQm+lkEJzpZBCb6WQQnSlkEJupZBCbqWQQnGlkEJxpZBCdaWQQm2lkEJupZBCbqWQQm6lkEJMpZBCZKSQQr2ekEIpoJBCvp6QQj+hkEI=",
          "dtype": "f4"
         },
         "yaxis": "y"
        },
        {
         "customdata": [
          [
           "Lillia",
           "707.00"
          ],
          [
           "Lillia",
           "708.00"
          ],
          [
           "Lillia",
           "709.00"
          ],
          [
           "Lillia",
           "710.00"
          ],
          [
           "Lillia",
           "711.00"
          ],
          [
           "Lillia",
           "712.00"
          ],
          [
           "Lillia",
           "713.00"
          ],
          [
           "Lillia",
           "714.00"
          ],
          [
           "Lillia",
           "715.00"
          ],
          [
           "Lillia",
           "716.00"
          ],
          [
           "Lillia",
           "717.00"
          ],
          [
           "Lillia",
           "718.00"
          ],
          [
           "Lillia",
           "719.00"
          ],
          [
           "Lillia",
           "720.00"
          ],
          [
           "Lillia",
           "721.00"
          ],
          [
           "Lillia",
           "722.00"
          ],
          [
           "Lillia",
           "723.00"
          ],
          [
           "Lillia",
           "724.00"
          ],
          [
           "Lillia",
           "751.00"
          ],
          [
           "Lillia",
           "752.00"
          ],
          [
           "Lillia",
           "753.00"
          ],
          [
           "Lillia",
           "754.00"
          ],
          [
           "Lillia",
           "755.00"
          ]
         ],
         "hovertemplate": "Champion=%{customdata[0]}<br>t-SNE Component 1=%{x}<br>t-SNE Component 2=%{y}<br>Patch=%{customdata[1]}<extra></extra>",
         "legendgroup": "Lillia",
         "marker": {
          "color": "#00cc96",
          "size": 8,
          "symbol": "circle"
         },
         "mode": "markers",
         "name": "Lillia",
         "showlegend": true,
         "type": "scattergl",
         "x": {
          "bdata": "sxQpQnA3KEJeNyhCWjcoQnE3KEJwNyhCcDcoQmM3KEJjNyhCYzcoQnk3KEJ5NyhCeTcoQl43KEJ5NyhCXTcoQl03KEJwNyhCcDcoQnA3KEJwNyhCcDcoQnA3KEI=",
          "dtype": "f4"
         },
         "xaxis": "x",
         "y": {
          "bdata": "itNjQu7XX0IA2F9C/NdfQu7XX0Lu119C79dfQv3XX0L9119C/ddfQuHXX0Lh119C4ddfQv7XX0Lh119C/tdfQv7XX0Lu119C7tdfQu7XX0Lu119C7tdfQu7XX0I=",
          "dtype": "f4"
         },
         "yaxis": "y"
        },
        {
         "customdata": [
          [
           "Gwen",
           "707.00"
          ],
          [
           "Gwen",
           "708.00"
          ],
          [
           "Gwen",
           "709.00"
          ],
          [
           "Gwen",
           "710.00"
          ],
          [
           "Gwen",
           "711.00"
          ],
          [
           "Gwen",
           "712.00"
          ],
          [
           "Gwen",
           "713.00"
          ],
          [
           "Gwen",
           "714.00"
          ],
          [
           "Gwen",
           "715.00"
          ],
          [
           "Gwen",
           "716.00"
          ],
          [
           "Gwen",
           "717.00"
          ],
          [
           "Gwen",
           "718.00"
          ],
          [
           "Gwen",
           "719.00"
          ],
          [
           "Gwen",
           "720.00"
          ],
          [
           "Gwen",
           "721.00"
          ],
          [
           "Gwen",
           "722.00"
          ],
          [
           "Gwen",
           "723.00"
          ],
          [
           "Gwen",
           "724.00"
          ],
          [
           "Gwen",
           "751.00"
          ],
          [
           "Gwen",
           "752.00"
          ],
          [
           "Gwen",
           "753.00"
          ],
          [
           "Gwen",
           "754.00"
          ],
          [
           "Gwen",
           "755.00"
          ]
         ],
         "hovertemplate": "Champion=%{customdata[0]}<br>t-SNE Component 1=%{x}<br>t-SNE Component 2=%{y}<br>Patch=%{customdata[1]}<extra></extra>",
         "legendgroup": "Gwen",
         "marker": {
          "color": "#ab63fa",
          "size": 8,
          "symbol": "circle"
         },
         "mode": "markers",
         "name": "Gwen",
         "showlegend": true,
         "type": "scattergl",
         "x": {
          "bdata": "fWn6wF9LB8FfSwfBYEsHwWBLB8FrSwfBa0sHwWtLB8GFSwfBbksHwaxLB8FhSwfBbksHwWFLB8FySwfBY0sHwWNLB8FkSwfBdUsHwXVLB8FWSwfBcUsHwW9LB8E=",
          "dtype": "f4"
         },
         "xaxis": "x",
         "y": {
          "bdata": "RHtjQhLCZkISwmZCEsJmQhLCZkL7wWZC+sFmQvvBZkICwmZC+sFmQvfBZkISwmZC+sFmQv7BZkL5wWZCFMJmQhTCZkIUwmZCM8JmQjPCZkIUwmZC/8FmQvjBZkI=",
          "dtype": "f4"
         },
         "yaxis": "y"
        },
        {
         "customdata": [
          [
           "Renata Glasc",
           "707.00"
          ],
          [
           "Renata Glasc",
           "708.00"
          ],
          [
           "Renata Glasc",
           "709.00"
          ],
          [
           "Renata Glasc",
           "710.00"
          ],
          [
           "Renata Glasc",
           "711.00"
          ],
          [
           "Renata Glasc",
           "712.00"
          ],
          [
           "Renata Glasc",
           "713.00"
          ],
          [
           "Renata Glasc",
           "714.00"
          ],
          [
           "Renata Glasc",
           "715.00"
          ],
          [
           "Renata Glasc",
           "716.00"
          ],
          [
           "Renata Glasc",
           "717.00"
          ],
          [
           "Renata Glasc",
           "718.00"
          ],
          [
           "Renata Glasc",
           "719.00"
          ],
          [
           "Renata Glasc",
           "720.00"
          ],
          [
           "Renata Glasc",
           "721.00"
          ],
          [
           "Renata Glasc",
           "722.00"
          ],
          [
           "Renata Glasc",
           "723.00"
          ],
          [
           "Renata Glasc",
           "724.00"
          ],
          [
           "Renata Glasc",
           "751.00"
          ],
          [
           "Renata Glasc",
           "752.00"
          ],
          [
           "Renata Glasc",
           "753.00"
          ],
          [
           "Renata Glasc",
           "754.00"
          ],
          [
           "Renata Glasc",
           "755.00"
          ]
         ],
         "hovertemplate": "Champion=%{customdata[0]}<br>t-SNE Component 1=%{x}<br>t-SNE Component 2=%{y}<br>Patch=%{customdata[1]}<extra></extra>",
         "legendgroup": "Renata Glasc",
         "marker": {
          "color": "#FFA15A",
          "size": 8,
          "symbol": "circle"
         },
         "mode": "markers",
         "name": "Renata Glasc",
         "showlegend": true,
         "type": "scattergl",
         "x": {
          "bdata": "8vv1wQKz9MH/svTBDLP0wSOz9MEBs/TB/bL0wSOz9MEBs/TBI7P0wQyz9MEjs/TBI7P0wSOz9MEjs/TBI7P0wSOz9MEjs/TBI7P0wSEi9MGRIPTBkCD0wZAg9ME=",
          "dtype": "f4"
         },
         "xaxis": "x",
         "y": {
          "bdata": "AgS/wSAfx8EcH8fBMh/HwT4fx8EhH8fBHR/HwT8fx8EiH8fBPx/HwTMfx8E/H8fBPx/HwUAfx8FAH8fBPx/HwT8fx8E/H8fBPx/HwcYix8HFJMfBwSTHwcUkx8E=",
          "dtype": "f4"
         },
         "yaxis": "y"
        },
        {
         "customdata": [
          [
           "Leona",
           "707.00"
          ],
          [
           "Leona",
           "708.00"
          ],
          [
           "Leona",
           "709.00"
          ],
          [
           "Leona",
           "710.00"
          ],
          [
           "Leona",
           "711.00"
          ],
          [
           "Leona",
           "712.00"
          ],
          [
           "Leona",
           "713.00"
          ],
          [
           "Leona",
           "714.00"
          ],
          [
           "Leona",
           "715.00"
          ],
          [
           "Leona",
           "716.00"
          ],
          [
           "Leona",
           "717.00"
          ],
          [
           "Leona",
           "718.00"
          ],
          [
           "Leona",
           "719.00"
          ],
          [
           "Leona",
           "720.00"
          ],
          [
           "Leona",
           "721.00"
          ],
          [
           "Leona",
           "722.00"
          ],
          [
           "Leona",
           "723.00"
          ],
          [
           "Leona",
           "724.00"
          ],
          [
           "Leona",
           "751.00"
          ],
          [
           "Leona",
           "752.00"
          ],
          [
           "Leona",
           "753.00"
          ],
          [
           "Leona",
           "754.00"
          ],
          [
           "Leona",
           "755.00"
          ]
         ],
         "hovertemplate": "Champion=%{customdata[0]}<br>t-SNE Component 1=%{x}<br>t-SNE Component 2=%{y}<br>Patch=%{customdata[1]}<extra></extra>",
         "legendgroup": "Leona",
         "marker": {
          "color": "#19d3f3",
          "size": 8,
          "symbol": "circle"
         },
         "mode": "markers",
         "name": "Leona",
         "showlegend": true,
         "type": "scattergl",
         "x": {
          "bdata": "TlCawRu8ksEyvJLBMbySwRy8ksEdvJLBB7ySwR28ksEwvJLBMbySwTG8ksEwvJLBMbySwRu8ksExvJLBHbySwTG8ksEwvJLBMLySwUXlksFF5ZLBReWSwUXlksE=",
          "dtype": "f4"
         },
         "xaxis": "x",
         "y": {
          "bdata": "hiaLwrNcisKdXIrCnVyKwrRcisK3XIrCtVyKwrhcisKdXIrCnVyKwp1cisKdXIrCnVyKwrhcisKdXIrCuFyKwp1cisKdXIrCnVyKwpNAisKTQIrCk0CKwpNAisI=",
          "dtype": "f4"
         },
         "yaxis": "y"
        },
        {
         "customdata": [
          [
           "Aurora",
           "707.00"
          ],
          [
           "Aurora",
           "708.00"
          ],
          [
           "Aurora",
           "709.00"
          ],
          [
           "Aurora",
           "710.00"
          ],
          [
           "Aurora",
           "711.00"
          ],
          [
           "Aurora",
           "712.00"
          ],
          [
           "Aurora",
           "713.00"
          ],
          [
           "Aurora",
           "714.00"
          ],
          [
           "Aurora",
           "715.00"
          ],
          [
           "Aurora",
           "716.00"
          ],
          [
           "Aurora",
           "717.00"
          ],
          [
           "Aurora",
           "718.00"
          ],
          [
           "Aurora",
           "719.00"
          ],
          [
           "Aurora",
           "720.00"
          ],
          [
           "Aurora",
           "721.00"
          ],
          [
           "Aurora",
           "722.00"
          ],
          [
           "Aurora",
           "723.00"
          ],
          [
           "Aurora",
           "724.00"
          ],
          [
           "Aurora",
           "751.00"
          ],
          [
           "Aurora",
           "752.00"
          ],
          [
           "Aurora",
           "753.00"
          ],
          [
           "Aurora",
           "754.00"
          ],
          [
           "Aurora",
           "755.00"
          ]
         ],
         "hovertemplate": "Champion=%{customdata[0]}<br>t-SNE Component 1=%{x}<br>t-SNE Component 2=%{y}<br>Patch=%{customdata[1]}<extra></extra>",
         "legendgroup": "Aurora",
         "marker": {
          "color": "#FF6692",
          "size": 8,
          "symbol": "circle"
         },
         "mode": "markers",
         "name": "Aurora",
         "showlegend": true,
         "type": "scattergl",
         "x": {
          "bdata": "Xq9eQshNYkLvTWJC8E1iQvBNYkJ0TGJC8E1iQstNYkJ0TGJC701iQshNYkJ0TGJCyE1iQvFNYkLxTWJC8U1iQvFNYkLxTWJCZk1iQvBNYkLwTWJCZk1iQmZNYkI=",
          "dtype": "f4"
         },
         "xaxis": "x",
         "y": {
          "bdata": "5EkhQjRbH0JbWx9CXlsfQl5bH0JFWh9CW1sfQjdbH0JFWh9CXVsfQjRbH0JEWh9CNlsfQl1bH0JdWx9CXVsfQl1bH0JdWx9CZ1ofQltbH0JbWx9CZ1ofQmdaH0I=",
          "dtype": "f4"
         },
         "yaxis": "y"
        },
        {
         "customdata": [
          [
           "Nilah",
           "707.00"
          ],
          [
           "Nilah",
           "708.00"
          ],
          [
           "Nilah",
           "709.00"
          ],
          [
           "Nilah",
           "710.00"
          ],
          [
           "Nilah",
           "711.00"
          ],
          [
           "Nilah",
           "712.00"
          ],
          [
           "Nilah",
           "713.00"
          ],
          [
           "Nilah",
           "714.00"
          ],
          [
           "Nilah",
           "715.00"
          ],
          [
           "Nilah",
           "716.00"
          ],
          [
           "Nilah",
           "717.00"
          ],
          [
           "Nilah",
           "718.00"
          ],
          [
           "Nilah",
           "719.00"
          ],
          [
           "Nilah",
           "720.00"
          ],
          [
           "Nilah",
           "721.00"
          ],
          [
           "Nilah",
           "722.00"
          ],
          [
           "Nilah",
           "723.00"
          ],
          [
           "Nilah",
           "724.00"
          ],
          [
           "Nilah",
           "751.00"
          ],
          [
           "Nilah",
           "752.00"
          ],
          [
           "Nilah",
           "753.00"
          ],
          [
           "Nilah",
           "754.00"
          ],
          [
           "Nilah",
           "755.00"
          ]
         ],
         "hovertemplate": "Champion=%{customdata[0]}<br>t-SNE Component 1=%{x}<br>t-SNE Component 2=%{y}<br>Patch=%{customdata[1]}<extra></extra>",
         "legendgroup": "Nilah",
         "marker": {
          "color": "#B6E880",
          "size": 8,
          "symbol": "circle"
         },
         "mode": "markers",
         "name": "Nilah",
         "showlegend": true,
         "type": "scattergl",
         "x": {
          "bdata": "lP7oQfy84UH9vOFB+rzhQfu84UEBveFB+rzhQfq84UEDveFB+rzhQfm84UH5vOFB+LzhQfm84UH4vOFB/LzhQQe94UH6vOFBCL3hQZDP4UGPz+FBkM/hQZDP4UE=",
          "dtype": "f4"
         },
         "xaxis": "x",
         "y": {
          "bdata": "AWiEwr1lhcK9ZYXCvWWFwr1lhcK1ZYXCvWWFwr1lhcK1ZYXCvWWFwr1lhcK+ZYXCvWWFwr1lhcK9ZYXCvmWFwrhlhcK9ZYXCuGWFwp9QhcKgUIXCn1CFwp9QhcI=",
          "dtype": "f4"
         },
         "yaxis": "y"
        },
        {
         "customdata": [
          [
           "K'Sante",
           "707.00"
          ],
          [
           "K'Sante",
           "708.00"
          ],
          [
           "K'Sante",
           "709.00"
          ],
          [
           "K'Sante",
           "710.00"
          ],
          [
           "K'Sante",
           "711.00"
          ],
          [
           "K'Sante",
           "712.00"
          ],
          [
           "K'Sante",
           "713.00"
          ],
          [
           "K'Sante",
           "714.00"
          ],
          [
           "K'Sante",
           "715.00"
          ],
          [
           "K'Sante",
           "716.00"
          ],
          [
           "K'Sante",
           "717.00"
          ],
          [
           "K'Sante",
           "718.00"
          ],
          [
           "K'Sante",
           "719.00"
          ],
          [
           "K'Sante",
           "720.00"
          ],
          [
           "K'Sante",
           "721.00"
          ],
          [
           "K'Sante",
           "722.00"
          ],
          [
           "K'Sante",
           "723.00"
          ],
          [
           "K'Sante",
           "724.00"
          ],
          [
           "K'Sante",
           "751.00"
          ],
          [
           "K'Sante",
           "752.00"
          ],
          [
           "K'Sante",
           "753.00"
          ],
          [
           "K'Sante",
           "754.00"
          ],
          [
           "K'Sante",
           "755.00"
          ]
         ],
         "hovertemplate": "Champion=%{customdata[0]}<br>t-SNE Component 1=%{x}<br>t-SNE Component 2=%{y}<br>Patch=%{customdata[1]}<extra></extra>",
         "legendgroup": "K'Sante",
         "marker": {
          "color": "#FF97FF",
          "size": 8,
          "symbol": "circle"
         },
         "mode": "markers",
         "name": "K'Sante",
         "showlegend": true,
         "type": "scattergl",
         "x": {
          "bdata": "bFNswvqUacL5lGnC+ZRpwv+UacL7lGnC+5RpwgqYacL7lGnCCphpwgqYacIAlWnCB5VpwgSVacIElWnCBJVpwv+UacL9lGnC+ZRpwst3acLLd2nCy3dpwst3acI=",
          "dtype": "f4"
         },
         "xaxis": "x",
         "y": {
          "bdata": "6ae8wSCxtsEfsbbBILG2wTyxtsEcsbbBHLG2wSevtsEbsbbBJ6+2wSavtsE2sbbBGLG2wRGxtsEVsbbBFbG2wTKxtsEysbbBILG2wWuNtsFrjbbBa422wWuNtsE=",
          "dtype": "f4"
         },
         "yaxis": "y"
        },
        {
         "customdata": [
          [
           "Fiddlesticks",
           "707.00"
          ],
          [
           "Fiddlesticks",
           "708.00"
          ],
          [
           "Fiddlesticks",
           "709.00"
          ],
          [
           "Fiddlesticks",
           "710.00"
          ],
          [
           "Fiddlesticks",
           "711.00"
          ],
          [
           "Fiddlesticks",
           "712.00"
          ],
          [
           "Fiddlesticks",
           "713.00"
          ],
          [
           "Fiddlesticks",
           "714.00"
          ],
          [
           "Fiddlesticks",
           "715.00"
          ],
          [
           "Fiddlesticks",
           "716.00"
          ],
          [
           "Fiddlesticks",
           "717.00"
          ],
          [
           "Fiddlesticks",
           "718.00"
          ],
          [
           "Fiddlesticks",
           "719.00"
          ],
          [
           "Fiddlesticks",
           "720.00"
          ],
          [
           "Fiddlesticks",
           "721.00"
          ],
          [
           "Fiddlesticks",
           "722.00"
          ],
          [
           "Fiddlesticks",
           "723.00"
          ],
          [
           "Fiddlesticks",
           "724.00"
          ],
          [
           "Fiddlesticks",
           "751.00"
          ],
          [
           "Fiddlesticks",
           "752.00"
          ],
          [
           "Fiddlesticks",
           "753.00"
          ],
          [
           "Fiddlesticks",
           "754.00"
          ],
          [
           "Fiddlesticks",
           "755.00"
          ]
         ],
         "hovertemplate": "Champion=%{customdata[0]}<br>t-SNE Component 1=%{x}<br>t-SNE Component 2=%{y}<br>Patch=%{customdata[1]}<extra></extra>",
         "legendgroup": "Fiddlesticks",
         "marker": {
          "color": "#FECB52",
          "size": 8,
          "symbol": "circle"
         },
         "mode": "markers",
         "name": "Fiddlesticks",
         "showlegend": true,
         "type": "scattergl",
         "x": {
          "bdata": "1WAgQuqFHUIOhh1C6oUdQuuFHUIIhh1CCIYdQgeGHUILhh1CDIYdQguGHUIMhh1CDIYdQgyGHUIMhh1CDIYdQgyGHUIMhh1CDIYdQiyPHUIsjx1CLI8dQiyPHUI=",
          "dtype": "f4"
         },
         "xaxis": "x",
         "y": {
          "bdata": "R2HdQWqa10FlmtdBaZrXQXqa10FsmtdBbZrXQWya10FimtdBaJrXQWKa10FsmtdBbJrXQWya10FsmtdBbJrXQWya10FkmtdBZJrXQZp610GaetdBmnrXQZp610E=",
          "dtype": "f4"
         },
         "yaxis": "y"
        },
        {
         "customdata": [
          [
           "Malzahar",
           "707.00"
          ],
          [
           "Malzahar",
           "708.00"
          ],
          [
           "Malzahar",
           "709.00"
          ],
          [
           "Malzahar",
           "710.00"
          ],
          [
           "Malzahar",
           "711.00"
          ],
          [
           "Malzahar",
           "712.00"
          ],
          [
           "Malzahar",
           "713.00"
          ],
          [
           "Malzahar",
           "714.00"
          ],
          [
           "Malzahar",
           "715.00"
          ],
          [
           "Malzahar",
           "716.00"
          ],
          [
           "Malzahar",
           "717.00"
          ],
          [
           "Malzahar",
           "718.00"
          ],
          [
           "Malzahar",
           "719.00"
          ],
          [
           "Malzahar",
           "720.00"
          ],
          [
           "Malzahar",
           "721.00"
          ],
          [
           "Malzahar",
           "722.00"
          ],
          [
           "Malzahar",
           "723.00"
          ],
          [
           "Malzahar",
           "724.00"
          ],
          [
           "Malzahar",
           "751.00"
          ],
          [
           "Malzahar",
           "752.00"
          ],
          [
           "Malzahar",
           "753.00"
          ],
          [
           "Malzahar",
           "754.00"
          ],
          [
           "Malzahar",
           "755.00"
          ]
         ],
         "hovertemplate": "Champion=%{customdata[0]}<br>t-SNE Component 1=%{x}<br>t-SNE Component 2=%{y}<br>Patch=%{customdata[1]}<extra></extra>",
         "legendgroup": "Malzahar",
         "marker": {
          "color": "#636efa",
          "size": 8,
          "symbol": "circle"
         },
         "mode": "markers",
         "name": "Malzahar",
         "showlegend": true,
         "type": "scattergl",
         "x": {
          "bdata": "UOF6QkzHfEJNx3xCTsd8QkrHfEJPx3xCSsd8QkrHfEJQx3xCTsd8QlLHfEJNx3xCTcd8QlHHfEJRx3xCTsd8QlLHfEJTx3xCR8d8QlTIfEJuyHxCW8l8QlvJfEI=",
          "dtype": "f4"
         },
         "xaxis": "x",
         "y": {
          "bdata": "VhSoQRtbr0EcW69BH1uvQR9br0EgW69BH1uvQR9br0EhW69BHFuvQR1br0EfW69BH1uvQSJbr0EiW69BH1uvQR9br0EhW69BJluvQeNYr0FzWK9BYlavQWJWr0E=",
          "dtype": "f4"
         },
         "yaxis": "y"
        },
        {
         "customdata": [
          [
           "Smolder",
           "707.00"
          ],
          [
           "Smolder",
           "708.00"
          ],
          [
           "Smolder",
           "709.00"
          ],
          [
           "Smolder",
           "710.00"
          ],
          [
           "Smolder",
           "711.00"
          ],
          [
           "Smolder",
           "712.00"
          ],
          [
           "Smolder",
           "713.00"
          ],
          [
           "Smolder",
           "714.00"
          ],
          [
           "Smolder",
           "715.00"
          ],
          [
           "Smolder",
           "716.00"
          ],
          [
           "Smolder",
           "717.00"
          ],
          [
           "Smolder",
           "718.00"
          ],
          [
           "Smolder",
           "719.00"
          ],
          [
           "Smolder",
           "720.00"
          ],
          [
           "Smolder",
           "721.00"
          ],
          [
           "Smolder",
           "722.00"
          ],
          [
           "Smolder",
           "723.00"
          ],
          [
           "Smolder",
           "724.00"
          ],
          [
           "Smolder",
           "751.00"
          ],
          [
           "Smolder",
           "752.00"
          ],
          [
           "Smolder",
           "753.00"
          ],
          [
           "Smolder",
           "754.00"
          ],
          [
           "Smolder",
           "755.00"
          ]
         ],
         "hovertemplate": "Champion=%{customdata[0]}<br>t-SNE Component 1=%{x}<br>t-SNE Component 2=%{y}<br>Patch=%{customdata[1]}<extra></extra>",
         "legendgroup": "Smolder",
         "marker": {
          "color": "#EF553B",
          "size": 8,
          "symbol": "circle"
         },
         "mode": "markers",
         "name": "Smolder",
         "showlegend": true,
         "type": "scattergl",
         "x": {
          "bdata": "AwGxQRGprEHeqKxBD6msQduorEENqaxB3aisQd6orEHuqKxB3aisQRCprEERqaxBE6msQQ6prEEOqaxBDqmsQQ6prEH1qKxBDqmsQRHIrEERyKxBEcisQRHIrEE=",
          "dtype": "f4"
         },
         "xaxis": "x",
         "y": {
          "bdata": "K0KcwoSKmsJ+iprChoqawn6KmsKEiprCfoqawn6KmsJ7iprCfoqawoOKmsKGiprCg4qawoSKmsKEiprChIqawoSKmsJ5iprChIqawixxmsIscZrCLHGawixxmsI=",
          "dtype": "f4"
         },
         "yaxis": "y"
        },
        {
         "customdata": [
          [
           "Milio",
           "707.00"
          ],
          [
           "Milio",
           "708.00"
          ],
          [
           "Milio",
           "709.00"
          ],
          [
           "Milio",
           "710.00"
          ],
          [
           "Milio",
           "711.00"
          ],
          [
           "Milio",
           "712.00"
          ],
          [
           "Milio",
           "713.00"
          ],
          [
           "Milio",
           "714.00"
          ],
          [
           "Milio",
           "715.00"
          ],
          [
           "Milio",
           "716.00"
          ],
          [
           "Milio",
           "717.00"
          ],
          [
           "Milio",
           "718.00"
          ],
          [
           "Milio",
           "719.00"
          ],
          [
           "Milio",
           "720.00"
          ],
          [
           "Milio",
           "721.00"
          ],
          [
           "Milio",
           "722.00"
          ],
          [
           "Milio",
           "723.00"
          ],
          [
           "Milio",
           "724.00"
          ],
          [
           "Milio",
           "751.00"
          ],
          [
           "Milio",
           "752.00"
          ],
          [
           "Milio",
           "753.00"
          ],
          [
           "Milio",
           "754.00"
          ],
          [
           "Milio",
           "755.00"
          ]
         ],
         "hovertemplate": "Champion=%{customdata[0]}<br>t-SNE Component 1=%{x}<br>t-SNE Component 2=%{y}<br>Patch=%{customdata[1]}<extra></extra>",
         "legendgroup": "Milio",
         "marker": {
          "color": "#00cc96",
          "size": 8,
          "symbol": "circle"
         },
         "mode": "markers",
         "name": "Milio",
         "showlegend": true,
         "type": "scattergl",
         "x": {
          "bdata": "I6xUwazYScGi2EnBpdhJwaLYScGo2EnBodhJwaLYScGh2EnBoNhJwaDYScFm20nBZttJwaHYScFo20nBothJwaHYScFOFknBbmFJweizScHls0nBfHRKwQMOSsE=",
          "dtype": "f4"
         },
         "xaxis": "x",
         "y": {
          "bdata": "iFIdwg+HIMIQhyDCEIcgwhOHIMIQhyDCFIcgwhSHIMIUhyDCFIcgwhSHIMLBhiDCwYYgwhSHIMLAhiDCFIcgwhSHIMKlSiDC62wgwm87IMJwOyDCVXUgwvNMIMI=",
          "dtype": "f4"
         },
         "yaxis": "y"
        },
        {
         "customdata": [
          [
           "Talon",
           "707.00"
          ],
          [
           "Talon",
           "708.00"
          ],
          [
           "Talon",
           "709.00"
          ],
          [
           "Talon",
           "710.00"
          ],
          [
           "Talon",
           "711.00"
          ],
          [
           "Talon",
           "712.00"
          ],
          [
           "Talon",
           "713.00"
          ],
          [
           "Talon",
           "714.00"
          ],
          [
           "Talon",
           "715.00"
          ],
          [
           "Talon",
           "716.00"
          ],
          [
           "Talon",
           "717.00"
          ],
          [
           "Talon",
           "718.00"
          ],
          [
           "Talon",
           "719.00"
          ],
          [
           "Talon",
           "720.00"
          ],
          [
           "Talon",
           "721.00"
          ],
          [
           "Talon",
           "722.00"
          ],
          [
           "Talon",
           "723.00"
          ],
          [
           "Talon",
           "724.00"
          ],
          [
           "Talon",
           "751.00"
          ],
          [
           "Talon",
           "752.00"
          ],
          [
           "Talon",
           "753.00"
          ],
          [
           "Talon",
           "754.00"
          ],
          [
           "Talon",
           "755.00"
          ]
         ],
         "hovertemplate": "Champion=%{customdata[0]}<br>t-SNE Component 1=%{x}<br>t-SNE Component 2=%{y}<br>Patch=%{customdata[1]}<extra></extra>",
         "legendgroup": "Talon",
         "marker": {
          "color": "#ab63fa",
          "size": 8,
          "symbol": "circle"
         },
         "mode": "markers",
         "name": "Talon",
         "showlegend": true,
         "type": "scattergl",
         "x": {
          "bdata": "9+YoQD44VkBKOFZAmDhWQKs4VkCgOFZAMThWQE04VkAxOFZAYzhWQDQ4VkA1OFZAPThWQD84VkA3OFZAcjhWQHI4VkA4OFZAODhWQApaV0ALWldAC1pXQHJMV0A=",
          "dtype": "f4"
         },
         "xaxis": "x",
         "y": {
          "bdata": "8HomQuuHI0LthyNC8YcjQvCHI0LwhyNC1YcjQuyHI0LVhyNC64cjQtWHI0LVhyNC1YcjQtWHI0LVhyNC7YcjQu2HI0LUhyNC1IcjQoBZI0KAWSNCgFkjQlJaI0I=",
          "dtype": "f4"
         },
         "yaxis": "y"
        },
        {
         "customdata": [
          [
           "Hwei",
           "707.00"
          ],
          [
           "Hwei",
           "708.00"
          ],
          [
           "Hwei",
           "709.00"
          ],
          [
           "Hwei",
           "710.00"
          ],
          [
           "Hwei",
           "711.00"
          ],
          [
           "Hwei",
           "712.00"
          ],
          [
           "Hwei",
           "713.00"
          ],
          [
           "Hwei",
           "714.00"
          ],
          [
           "Hwei",
           "715.00"
          ],
          [
           "Hwei",
           "716.00"
          ],
          [
           "Hwei",
           "717.00"
          ],
          [
           "Hwei",
           "718.00"
          ],
          [
           "Hwei",
           "719.00"
          ],
          [
           "Hwei",
           "720.00"
          ],
          [
           "Hwei",
           "721.00"
          ],
          [
           "Hwei",
           "722.00"
          ],
          [
           "Hwei",
           "723.00"
          ],
          [
           "Hwei",
           "724.00"
          ],
          [
           "Hwei",
           "751.00"
          ],
          [
           "Hwei",
           "752.00"
          ],
          [
           "Hwei",
           "753.00"
          ],
          [
           "Hwei",
           "754.00"
          ],
          [
           "Hwei",
           "755.00"
          ]
         ],
         "hovertemplate": "Champion=%{customdata[0]}<br>t-SNE Component 1=%{x}<br>t-SNE Component 2=%{y}<br>Patch=%{customdata[1]}<extra></extra>",
         "legendgroup": "Hwei",
         "marker": {
          "color": "#FFA15A",
          "size": 8,
          "symbol": "circle"
         },
         "mode": "markers",
         "name": "Hwei",
         "showlegend": true,
         "type": "scattergl",
         "x": {
          "bdata": "l3GAQnIMgkJyDIJCcwyCQlcMgkJzDIJCdwyCQl0MgkJzDIJCcwyCQnMMgkJzDIJCcwyCQnIMgkJyDIJCdwyCQpMMgkJyDIJCXgyCQnIMgkJVDIJCcgyCQnMMgkI=",
          "dtype": "f4"
         },
         "xaxis": "x",
         "y": {
          "bdata": "87EFwWzsD8Fr7A/Ba+wPwXbsD8Fr7A/BYewPwWvsD8Ft7A/BbewPwW3sD8Fp7A/BbewPwW3sD8Ft7A/BYuwPwXfsD8Ft7A/BauwPwV3sD8EQ7A/BbewPwW3sD8E=",
          "dtype": "f4"
         },
         "yaxis": "y"
        },
        {
         "customdata": [
          [
           "Riven",
           "707.00"
          ],
          [
           "Riven",
           "708.00"
          ],
          [
           "Riven",
           "709.00"
          ],
          [
           "Riven",
           "710.00"
          ],
          [
           "Riven",
           "711.00"
          ],
          [
           "Riven",
           "712.00"
          ],
          [
           "Riven",
           "713.00"
          ],
          [
           "Riven",
           "714.00"
          ],
          [
           "Riven",
           "715.00"
          ],
          [
           "Riven",
           "716.00"
          ],
          [
           "Riven",
           "717.00"
          ],
          [
           "Riven",
           "718.00"
          ],
          [
           "Riven",
           "719.00"
          ],
          [
           "Riven",
           "720.00"
          ],
          [
           "Riven",
           "721.00"
          ],
          [
           "Riven",
           "722.00"
          ],
          [
           "Riven",
           "723.00"
          ],
          [
           "Riven",
           "724.00"
          ],
          [
           "Riven",
           "751.00"
          ],
          [
           "Riven",
           "752.00"
          ],
          [
           "Riven",
           "753.00"
          ],
          [
           "Riven",
           "754.00"
          ],
          [
           "Riven",
           "755.00"
          ]
         ],
         "hovertemplate": "Champion=%{customdata[0]}<br>t-SNE Component 1=%{x}<br>t-SNE Component 2=%{y}<br>Patch=%{customdata[1]}<extra></extra>",
         "legendgroup": "Riven",
         "marker": {
          "color": "#19d3f3",
          "size": 8,
          "symbol": "circle"
         },
         "mode": "markers",
         "name": "Riven",
         "showlegend": true,
         "type": "scattergl",
         "x": {
          "bdata": "Mo5AwkO0PMJDtDzCQ7Q8wie0PMJDtDzCJrQ8wkK0PMJDtDzCQrQ8wkK0PMJDtDzCQrQ8wkO0PMImtDzCQrQ8wkK0PMJCtDzCQrQ8wnrAPMJ6wDzCesA8wnrAPMI=",
          "dtype": "f4"
         },
         "xaxis": "x",
         "y": {
          "bdata": "nfxQQvukT0L6pE9C+qRPQhSlT0L6pE9CFKVPQvqkT0L6pE9C+aRPQvqkT0L6pE9C+qRPQvmkT0IUpU9C+qRPQvqkT0L6pE9C+qRPQmeNT0JnjU9CZ41PQmeNT0I=",
          "dtype": "f4"
         },
         "yaxis": "y"
        },
        {
         "customdata": [
          [
           "Naafiri",
           "707.00"
          ],
          [
           "Naafiri",
           "708.00"
          ],
          [
           "Naafiri",
           "709.00"
          ],
          [
           "Naafiri",
           "710.00"
          ],
          [
           "Naafiri",
           "711.00"
          ],
          [
           "Naafiri",
           "712.00"
          ],
          [
           "Naafiri",
           "713.00"
          ],
          [
           "Naafiri",
           "714.00"
          ],
          [
           "Naafiri",
           "715.00"
          ],
          [
           "Naafiri",
           "716.00"
          ],
          [
           "Naafiri",
           "717.00"
          ],
          [
           "Naafiri",
           "718.00"
          ],
          [
           "Naafiri",
           "719.00"
          ],
          [
           "Naafiri",
           "720.00"
          ],
          [
           "Naafiri",
           "721.00"
          ],
          [
           "Naafiri",
           "722.00"
          ],
          [
           "Naafiri",
           "723.00"
          ],
          [
           "Naafiri",
           "724.00"
          ],
          [
           "Naafiri",
           "751.00"
          ],
          [
           "Naafiri",
           "752.00"
          ],
          [
           "Naafiri",
           "753.00"
          ],
          [
           "Naafiri",
           "754.00"
          ],
          [
           "Naafiri",
           "755.00"
          ]
         ],
         "hovertemplate": "Champion=%{customdata[0]}<br>t-SNE Component 1=%{x}<br>t-SNE Component 2=%{y}<br>Patch=%{customdata[1]}<extra></extra>",
         "legendgroup": "Naafiri",
         "marker": {
          "color": "#FF6692",
          "size": 8,
          "symbol": "circle"
         },
         "mode": "markers",
         "name": "Naafiri",
         "showlegend": true,
         "type": "scattergl",
         "x": {
          "bdata": "FXvRwFnFtsBZxbbAQsW2wEHFtsBZxbbAWcW2wFbFtsBTxbbAVcW2wFTFtsBIxbbAU8W2wFLFtsBRxbbAUcW2wFfFtsBRxbbARMW2wBkUt8CrFbfAqxW3wKsVt8A=",
          "dtype": "f4"
         },
         "xaxis": "x",
         "y": {
          "bdata": "z7jwQT5t9UE+bfVBUG31QVBt9UFFbfVBRG31QT9t9UFDbfVBRG31QUdt9UFEbfVBQ231QUJt9UFHbfVBR231QUFt9UFCbfVBRm31QQsI9UHZBvVB2Qb1QdkG9UE=",
          "dtype": "f4"
         },
         "yaxis": "y"
        },
        {
         "customdata": [
          [
           "Kog'Maw",
           "707.00"
          ],
          [
           "Kog'Maw",
           "708.00"
          ],
          [
           "Kog'Maw",
           "709.00"
          ],
          [
           "Kog'Maw",
           "710.00"
          ],
          [
           "Kog'Maw",
           "711.00"
          ],
          [
           "Kog'Maw",
           "712.00"
          ],
          [
           "Kog'Maw",
           "713.00"
          ],
          [
           "Kog'Maw",
           "714.00"
          ],
          [
           "Kog'Maw",
           "715.00"
          ],
          [
           "Kog'Maw",
           "716.00"
          ],
          [
           "Kog'Maw",
           "717.00"
          ],
          [
           "Kog'Maw",
           "718.00"
          ],
          [
           "Kog'Maw",
           "719.00"
          ],
          [
           "Kog'Maw",
           "720.00"
          ],
          [
           "Kog'Maw",
           "721.00"
          ],
          [
           "Kog'Maw",
           "722.00"
          ],
          [
           "Kog'Maw",
           "723.00"
          ],
          [
           "Kog'Maw",
           "724.00"
          ],
          [
           "Kog'Maw",
           "751.00"
          ],
          [
           "Kog'Maw",
           "752.00"
          ],
          [
           "Kog'Maw",
           "753.00"
          ],
          [
           "Kog'Maw",
           "754.00"
          ],
          [
           "Kog'Maw",
           "755.00"
          ]
         ],
         "hovertemplate": "Champion=%{customdata[0]}<br>t-SNE Component 1=%{x}<br>t-SNE Component 2=%{y}<br>Patch=%{customdata[1]}<extra></extra>",
         "legendgroup": "Kog'Maw",
         "marker": {
          "color": "#B6E880",
          "size": 8,
          "symbol": "circle"
         },
         "mode": "markers",
         "name": "Kog'Maw",
         "showlegend": true,
         "type": "scattergl",
         "x": {
          "bdata": "bO1HQRqZVkFwmVZBIplWQSOZVkEkmVZBI5lWQSKZVkEnmVZBJ5lWQSqZVkEqmVZBd5lWQSqZVkEqmVZBJJlWQTeZVkFZBFdBN5lWQYmqVkFpFFdBaRRXQWkUV0E=",
          "dtype": "f4"
         },
         "xaxis": "x",
         "y": {
          "bdata": "CkEZwr5iF8LpYhfCv2IXwr9iF8K/YhfCv2IXwr9iF8LDYhfCv2IXwsBiF8LAYhfC6WIXwsBiF8LAYhfCv2IXwtFiF8J4TBfC0WIXwvtuF8LAVxfCwFcXwsBXF8I=",
          "dtype": "f4"
         },
         "yaxis": "y"
        },
        {
         "customdata": [
          [
           "Shen",
           "707.00"
          ],
          [
           "Shen",
           "708.00"
          ],
          [
           "Shen",
           "709.00"
          ],
          [
           "Shen",
           "710.00"
          ],
          [
           "Shen",
           "711.00"
          ],
          [
           "Shen",
           "712.00"
          ],
          [
           "Shen",
           "713.00"
          ],
          [
           "Shen",
           "714.00"
          ],
          [
           "Shen",
           "715.00"
          ],
          [
           "Shen",
           "716.00"
          ],
          [
           "Shen",
           "717.00"
          ],
          [
           "Shen",
           "718.00"
          ],
          [
           "Shen",
           "719.00"
          ],
          [
           "Shen",
           "720.00"
          ],
          [
           "Shen",
           "721.00"
          ],
          [
           "Shen",
           "722.00"
          ],
          [
           "Shen",
           "723.00"
          ],
          [
           "Shen",
           "724.00"
          ],
          [
           "Shen",
           "751.00"
          ],
          [
           "Shen",
           "752.00"
          ],
          [
           "Shen",
           "753.00"
          ],
          [
           "Shen",
           "754.00"
          ],
          [
           "Shen",
           "755.00"
          ]
         ],
         "hovertemplate": "Champion=%{customdata[0]}<br>t-SNE Component 1=%{x}<br>t-SNE Component 2=%{y}<br>Patch=%{customdata[1]}<extra></extra>",
         "legendgroup": "Shen",
         "marker": {
          "color": "#FF97FF",
          "size": 8,
          "symbol": "circle"
         },
         "mode": "markers",
         "name": "Shen",
         "showlegend": true,
         "type": "scattergl",
         "x": {
          "bdata": "ooiGwiOPhMIjj4TCJY+EwiOPhMIij4TCIo+EwiKPhMIij4TCW46EwiuPhMIij4TCK4+EwiKPhMIij4TCIo+EwiKPhMIij4TCIo+EwtN6hMIZeoTCGXqEwsV6hMI=",
          "dtype": "f4"
         },
         "xaxis": "x",
         "y": {
          "bdata": "UES0wS0/tsEtP7bBHj+2wS0/tsEtP7bBLj+2wS0/tsEtP7bBCzi2wQs/tsEtP7bBCz+2wS0/tsEuP7bBLj+2wS4/tsEtP7bBLT+2wcgxtsEhLLbBISy2wWwytsE=",
          "dtype": "f4"
         },
         "yaxis": "y"
        },
        {
         "customdata": [
          [
           "Lux",
           "707.00"
          ],
          [
           "Lux",
           "708.00"
          ],
          [
           "Lux",
           "709.00"
          ],
          [
           "Lux",
           "710.00"
          ],
          [
           "Lux",
           "711.00"
          ],
          [
           "Lux",
           "712.00"
          ],
          [
           "Lux",
           "713.00"
          ],
          [
           "Lux",
           "714.00"
          ],
          [
           "Lux",
           "715.00"
          ],
          [
           "Lux",
           "716.00"
          ],
          [
           "Lux",
           "717.00"
          ],
          [
           "Lux",
           "718.00"
          ],
          [
           "Lux",
           "719.00"
          ],
          [
           "Lux",
           "720.00"
          ],
          [
           "Lux",
           "721.00"
          ],
          [
           "Lux",
           "722.00"
          ],
          [
           "Lux",
           "723.00"
          ],
          [
           "Lux",
           "724.00"
          ],
          [
           "Lux",
           "751.00"
          ],
          [
           "Lux",
           "752.00"
          ],
          [
           "Lux",
           "753.00"
          ],
          [
           "Lux",
           "754.00"
          ],
          [
           "Lux",
           "755.00"
          ]
         ],
         "hovertemplate": "Champion=%{customdata[0]}<br>t-SNE Component 1=%{x}<br>t-SNE Component 2=%{y}<br>Patch=%{customdata[1]}<extra></extra>",
         "legendgroup": "Lux",
         "marker": {
          "color": "#FECB52",
          "size": 8,
          "symbol": "circle"
         },
         "mode": "markers",
         "name": "Lux",
         "showlegend": true,
         "type": "scattergl",
         "x": {
          "bdata": "pbiDQkGahUIumoVCLZqFQi2ahUI+moVCPpqFQi6ahUI+moVCLZqFQi2ahUItmoVCLZqFQi6ahUIumoVCLpqFQi6ahUItmoVCLpqFQrmZhUKxmYVCsZmFQrmZhUI=",
          "dtype": "f4"
         },
         "xaxis": "x",
         "y": {
          "bdata": "gHL1v7k/F8CqPxfAqj8XwKs/F8CjPxfAoz8XwK0/F8CkPxfAqj8XwKs/F8CuPxfAqz8XwLE/F8CvPxfAsD8XwK8/F8CsPxfAsD8XwIhwFsCddRbAnXUWwIhwFsA=",
          "dtype": "f4"
         },
         "yaxis": "y"
        },
        {
         "customdata": [
          [
           "UNKNOWN",
           "707.00"
          ],
          [
           "UNKNOWN",
           "708.00"
          ],
          [
           "UNKNOWN",
           "709.00"
          ],
          [
           "UNKNOWN",
           "710.00"
          ],
          [
           "UNKNOWN",
           "711.00"
          ],
          [
           "UNKNOWN",
           "712.00"
          ],
          [
           "UNKNOWN",
           "713.00"
          ],
          [
           "UNKNOWN",
           "714.00"
          ],
          [
           "UNKNOWN",
           "715.00"
          ],
          [
           "UNKNOWN",
           "716.00"
          ],
          [
           "UNKNOWN",
           "717.00"
          ],
          [
           "UNKNOWN",
           "718.00"
          ],
          [
           "UNKNOWN",
           "719.00"
          ],
          [
           "UNKNOWN",
           "720.00"
          ],
          [
           "UNKNOWN",
           "721.00"
          ],
          [
           "UNKNOWN",
           "722.00"
          ],
          [
           "UNKNOWN",
           "723.00"
          ],
          [
           "UNKNOWN",
           "724.00"
          ],
          [
           "UNKNOWN",
           "751.00"
          ],
          [
           "UNKNOWN",
           "752.00"
          ],
          [
           "UNKNOWN",
           "753.00"
          ],
          [
           "UNKNOWN",
           "754.00"
          ],
          [
           "UNKNOWN",
           "755.00"
          ]
         ],
         "hovertemplate": "Champion=%{customdata[0]}<br>t-SNE Component 1=%{x}<br>t-SNE Component 2=%{y}<br>Patch=%{customdata[1]}<extra></extra>",
         "legendgroup": "UNKNOWN",
         "marker": {
          "color": "#636efa",
          "size": 8,
          "symbol": "circle"
         },
         "mode": "markers",
         "name": "UNKNOWN",
         "showlegend": true,
         "type": "scattergl",
         "x": {
          "bdata": "FYf5wWWX+8G5pvvBI9T6wb+m+8HBpvvB1Kb7wdam+8HVpvvBZKv7wRmQ+sFK0vrBa3f7wUyQ+sHVifrB1Yn6wf+S+sFPBPvBodT6wYzU+sFT0vrBdqX7wWyl+8E=",
          "dtype": "f4"
         },
         "xaxis": "x",
         "y": {
          "bdata": "gYcyQDDeLEBY5ytAGdIlQHTiK0BL4itABOArQOvfK0Ds3ytABmArQPSzLUAM2yVAJUctQPmuLUBSbSdAUm0nQB6lLUB6BSVAss8lQBXQJUDi2iVAygIsQKkDLEA=",
          "dtype": "f4"
         },
         "yaxis": "y"
        }
       ],
       "layout": {
        "height": 800,
        "legend": {
         "title": {
          "text": "Champion"
         },
         "tracegroupgap": 0,
         "x": 1.02,
         "xanchor": "left",
         "y": 0.99,
         "yanchor": "top"
        },
        "showlegend": true,
        "template": {
         "data": {
          "bar": [
           {
            "error_x": {
             "color": "#2a3f5f"
            },
            "error_y": {
             "color": "#2a3f5f"
            },
            "marker": {
             "line": {
              "color": "#E5ECF6",
              "width": 0.5
             },
             "pattern": {
              "fillmode": "overlay",
              "size": 10,
              "solidity": 0.2
             }
            },
            "type": "bar"
           }
          ],
          "barpolar": [
           {
            "marker": {
             "line": {
              "color": "#E5ECF6",
              "width": 0.5
             },
             "pattern": {
              "fillmode": "overlay",
              "size": 10,
              "solidity": 0.2
             }
            },
            "type": "barpolar"
           }
          ],
          "carpet": [
           {
            "aaxis": {
             "endlinecolor": "#2a3f5f",
             "gridcolor": "white",
             "linecolor": "white",
             "minorgridcolor": "white",
             "startlinecolor": "#2a3f5f"
            },
            "baxis": {
             "endlinecolor": "#2a3f5f",
             "gridcolor": "white",
             "linecolor": "white",
             "minorgridcolor": "white",
             "startlinecolor": "#2a3f5f"
            },
            "type": "carpet"
           }
          ],
          "choropleth": [
           {
            "colorbar": {
             "outlinewidth": 0,
             "ticks": ""
            },
            "type": "choropleth"
           }
          ],
          "contour": [
           {
            "colorbar": {
             "outlinewidth": 0,
             "ticks": ""
            },
            "colorscale": [
             [
              0,
              "#0d0887"
             ],
             [
              0.1111111111111111,
              "#46039f"
             ],
             [
              0.2222222222222222,
              "#7201a8"
             ],
             [
              0.3333333333333333,
              "#9c179e"
             ],
             [
              0.4444444444444444,
              "#bd3786"
             ],
             [
              0.5555555555555556,
              "#d8576b"
             ],
             [
              0.6666666666666666,
              "#ed7953"
             ],
             [
              0.7777777777777778,
              "#fb9f3a"
             ],
             [
              0.8888888888888888,
              "#fdca26"
             ],
             [
              1,
              "#f0f921"
             ]
            ],
            "type": "contour"
           }
          ],
          "contourcarpet": [
           {
            "colorbar": {
             "outlinewidth": 0,
             "ticks": ""
            },
            "type": "contourcarpet"
           }
          ],
          "heatmap": [
           {
            "colorbar": {
             "outlinewidth": 0,
             "ticks": ""
            },
            "colorscale": [
             [
              0,
              "#0d0887"
             ],
             [
              0.1111111111111111,
              "#46039f"
             ],
             [
              0.2222222222222222,
              "#7201a8"
             ],
             [
              0.3333333333333333,
              "#9c179e"
             ],
             [
              0.4444444444444444,
              "#bd3786"
             ],
             [
              0.5555555555555556,
              "#d8576b"
             ],
             [
              0.6666666666666666,
              "#ed7953"
             ],
             [
              0.7777777777777778,
              "#fb9f3a"
             ],
             [
              0.8888888888888888,
              "#fdca26"
             ],
             [
              1,
              "#f0f921"
             ]
            ],
            "type": "heatmap"
           }
          ],
          "histogram": [
           {
            "marker": {
             "pattern": {
              "fillmode": "overlay",
              "size": 10,
              "solidity": 0.2
             }
            },
            "type": "histogram"
           }
          ],
          "histogram2d": [
           {
            "colorbar": {
             "outlinewidth": 0,
             "ticks": ""
            },
            "colorscale": [
             [
              0,
              "#0d0887"
             ],
             [
              0.1111111111111111,
              "#46039f"
             ],
             [
              0.2222222222222222,
              "#7201a8"
             ],
             [
              0.3333333333333333,
              "#9c179e"
             ],
             [
              0.4444444444444444,
              "#bd3786"
             ],
             [
              0.5555555555555556,
              "#d8576b"
             ],
             [
              0.6666666666666666,
              "#ed7953"
             ],
             [
              0.7777777777777778,
              "#fb9f3a"
             ],
             [
              0.8888888888888888,
              "#fdca26"
             ],
             [
              1,
              "#f0f921"
             ]
            ],
            "type": "histogram2d"
           }
          ],
          "histogram2dcontour": [
           {
            "colorbar": {
             "outlinewidth": 0,
             "ticks": ""
            },
            "colorscale": [
             [
              0,
              "#0d0887"
             ],
             [
              0.1111111111111111,
              "#46039f"
             ],
             [
              0.2222222222222222,
              "#7201a8"
             ],
             [
              0.3333333333333333,
              "#9c179e"
             ],
             [
              0.4444444444444444,
              "#bd3786"
             ],
             [
              0.5555555555555556,
              "#d8576b"
             ],
             [
              0.6666666666666666,
              "#ed7953"
             ],
             [
              0.7777777777777778,
              "#fb9f3a"
             ],
             [
              0.8888888888888888,
              "#fdca26"
             ],
             [
              1,
              "#f0f921"
             ]
            ],
            "type": "histogram2dcontour"
           }
          ],
          "mesh3d": [
           {
            "colorbar": {
             "outlinewidth": 0,
             "ticks": ""
            },
            "type": "mesh3d"
           }
          ],
          "parcoords": [
           {
            "line": {
             "colorbar": {
              "outlinewidth": 0,
              "ticks": ""
             }
            },
            "type": "parcoords"
           }
          ],
          "pie": [
           {
            "automargin": true,
            "type": "pie"
           }
          ],
          "scatter": [
           {
            "fillpattern": {
             "fillmode": "overlay",
             "size": 10,
             "solidity": 0.2
            },
            "type": "scatter"
           }
          ],
          "scatter3d": [
           {
            "line": {
             "colorbar": {
              "outlinewidth": 0,
              "ticks": ""
             }
            },
            "marker": {
             "colorbar": {
              "outlinewidth": 0,
              "ticks": ""
             }
            },
            "type": "scatter3d"
           }
          ],
          "scattercarpet": [
           {
            "marker": {
             "colorbar": {
              "outlinewidth": 0,
              "ticks": ""
             }
            },
            "type": "scattercarpet"
           }
          ],
          "scattergeo": [
           {
            "marker": {
             "colorbar": {
              "outlinewidth": 0,
              "ticks": ""
             }
            },
            "type": "scattergeo"
           }
          ],
          "scattergl": [
           {
            "marker": {
             "colorbar": {
              "outlinewidth": 0,
              "ticks": ""
             }
            },
            "type": "scattergl"
           }
          ],
          "scattermap": [
           {
            "marker": {
             "colorbar": {
              "outlinewidth": 0,
              "ticks": ""
             }
            },
            "type": "scattermap"
           }
          ],
          "scattermapbox": [
           {
            "marker": {
             "colorbar": {
              "outlinewidth": 0,
              "ticks": ""
             }
            },
            "type": "scattermapbox"
           }
          ],
          "scatterpolar": [
           {
            "marker": {
             "colorbar": {
              "outlinewidth": 0,
              "ticks": ""
             }
            },
            "type": "scatterpolar"
           }
          ],
          "scatterpolargl": [
           {
            "marker": {
             "colorbar": {
              "outlinewidth": 0,
              "ticks": ""
             }
            },
            "type": "scatterpolargl"
           }
          ],
          "scatterternary": [
           {
            "marker": {
             "colorbar": {
              "outlinewidth": 0,
              "ticks": ""
             }
            },
            "type": "scatterternary"
           }
          ],
          "surface": [
           {
            "colorbar": {
             "outlinewidth": 0,
             "ticks": ""
            },
            "colorscale": [
             [
              0,
              "#0d0887"
             ],
             [
              0.1111111111111111,
              "#46039f"
             ],
             [
              0.2222222222222222,
              "#7201a8"
             ],
             [
              0.3333333333333333,
              "#9c179e"
             ],
             [
              0.4444444444444444,
              "#bd3786"
             ],
             [
              0.5555555555555556,
              "#d8576b"
             ],
             [
              0.6666666666666666,
              "#ed7953"
             ],
             [
              0.7777777777777778,
              "#fb9f3a"
             ],
             [
              0.8888888888888888,
              "#fdca26"
             ],
             [
              1,
              "#f0f921"
             ]
            ],
            "type": "surface"
           }
          ],
          "table": [
           {
            "cells": {
             "fill": {
              "color": "#EBF0F8"
             },
             "line": {
              "color": "white"
             }
            },
            "header": {
             "fill": {
              "color": "#C8D4E3"
             },
             "line": {
              "color": "white"
             }
            },
            "type": "table"
           }
          ]
         },
         "layout": {
          "annotationdefaults": {
           "arrowcolor": "#2a3f5f",
           "arrowhead": 0,
           "arrowwidth": 1
          },
          "autotypenumbers": "strict",
          "coloraxis": {
           "colorbar": {
            "outlinewidth": 0,
            "ticks": ""
           }
          },
          "colorscale": {
           "diverging": [
            [
             0,
             "#8e0152"
            ],
            [
             0.1,
             "#c51b7d"
            ],
            [
             0.2,
             "#de77ae"
            ],
            [
             0.3,
             "#f1b6da"
            ],
            [
             0.4,
             "#fde0ef"
            ],
            [
             0.5,
             "#f7f7f7"
            ],
            [
             0.6,
             "#e6f5d0"
            ],
            [
             0.7,
             "#b8e186"
            ],
            [
             0.8,
             "#7fbc41"
            ],
            [
             0.9,
             "#4d9221"
            ],
            [
             1,
             "#276419"
            ]
           ],
           "sequential": [
            [
             0,
             "#0d0887"
            ],
            [
             0.1111111111111111,
             "#46039f"
            ],
            [
             0.2222222222222222,
             "#7201a8"
            ],
            [
             0.3333333333333333,
             "#9c179e"
            ],
            [
             0.4444444444444444,
             "#bd3786"
            ],
            [
             0.5555555555555556,
             "#d8576b"
            ],
            [
             0.6666666666666666,
             "#ed7953"
            ],
            [
             0.7777777777777778,
             "#fb9f3a"
            ],
            [
             0.8888888888888888,
             "#fdca26"
            ],
            [
             1,
             "#f0f921"
            ]
           ],
           "sequentialminus": [
            [
             0,
             "#0d0887"
            ],
            [
             0.1111111111111111,
             "#46039f"
            ],
            [
             0.2222222222222222,
             "#7201a8"
            ],
            [
             0.3333333333333333,
             "#9c179e"
            ],
            [
             0.4444444444444444,
             "#bd3786"
            ],
            [
             0.5555555555555556,
             "#d8576b"
            ],
            [
             0.6666666666666666,
             "#ed7953"
            ],
            [
             0.7777777777777778,
             "#fb9f3a"
            ],
            [
             0.8888888888888888,
             "#fdca26"
            ],
            [
             1,
             "#f0f921"
            ]
           ]
          },
          "colorway": [
           "#636efa",
           "#EF553B",
           "#00cc96",
           "#ab63fa",
           "#FFA15A",
           "#19d3f3",
           "#FF6692",
           "#B6E880",
           "#FF97FF",
           "#FECB52"
          ],
          "font": {
           "color": "#2a3f5f"
          },
          "geo": {
           "bgcolor": "white",
           "lakecolor": "white",
           "landcolor": "#E5ECF6",
           "showlakes": true,
           "showland": true,
           "subunitcolor": "white"
          },
          "hoverlabel": {
           "align": "left"
          },
          "hovermode": "closest",
          "mapbox": {
           "style": "light"
          },
          "paper_bgcolor": "white",
          "plot_bgcolor": "#E5ECF6",
          "polar": {
           "angularaxis": {
            "gridcolor": "white",
            "linecolor": "white",
            "ticks": ""
           },
           "bgcolor": "#E5ECF6",
           "radialaxis": {
            "gridcolor": "white",
            "linecolor": "white",
            "ticks": ""
           }
          },
          "scene": {
           "xaxis": {
            "backgroundcolor": "#E5ECF6",
            "gridcolor": "white",
            "gridwidth": 2,
            "linecolor": "white",
            "showbackground": true,
            "ticks": "",
            "zerolinecolor": "white"
           },
           "yaxis": {
            "backgroundcolor": "#E5ECF6",
            "gridcolor": "white",
            "gridwidth": 2,
            "linecolor": "white",
            "showbackground": true,
            "ticks": "",
            "zerolinecolor": "white"
           },
           "zaxis": {
            "backgroundcolor": "#E5ECF6",
            "gridcolor": "white",
            "gridwidth": 2,
            "linecolor": "white",
            "showbackground": true,
            "ticks": "",
            "zerolinecolor": "white"
           }
          },
          "shapedefaults": {
           "line": {
            "color": "#2a3f5f"
           }
          },
          "ternary": {
           "aaxis": {
            "gridcolor": "white",
            "linecolor": "white",
            "ticks": ""
           },
           "baxis": {
            "gridcolor": "white",
            "linecolor": "white",
            "ticks": ""
           },
           "bgcolor": "#E5ECF6",
           "caxis": {
            "gridcolor": "white",
            "linecolor": "white",
            "ticks": ""
           }
          },
          "title": {
           "x": 0.05
          },
          "xaxis": {
           "automargin": true,
           "gridcolor": "white",
           "linecolor": "white",
           "ticks": "",
           "title": {
            "standoff": 15
           },
           "zerolinecolor": "white",
           "zerolinewidth": 2
          },
          "yaxis": {
           "automargin": true,
           "gridcolor": "white",
           "linecolor": "white",
           "ticks": "",
           "title": {
            "standoff": 15
           },
           "zerolinecolor": "white",
           "zerolinewidth": 2
          }
         }
        },
        "title": {
         "text": "Champion-Patch Embedding Visualization (t-SNE)"
        },
        "width": 1200,
        "xaxis": {
         "anchor": "y",
         "domain": [
          0,
          1
         ],
         "title": {
          "text": "t-SNE Component 1"
         }
        },
        "yaxis": {
         "anchor": "x",
         "domain": [
          0,
          1
         ],
         "title": {
          "text": "t-SNE Component 2"
         }
        }
       }
      }
     },
     "metadata": {},
     "output_type": "display_data"
    },
    {
     "name": "stdout",
     "output_type": "stream",
     "text": [
      "\n",
      "Analyzing patch-to-patch distances for champions:\n",
      "Annie: Max distance between patches = 1.1053\n",
      "Kayle: Max distance between patches = 1.2566\n",
      "Xerath: Max distance between patches = 1.0968\n",
      "Shyvana: Max distance between patches = 1.1049\n",
      "Ahri: Max distance between patches = 0.7823\n",
      "Graves: Max distance between patches = 0.6433\n",
      "Fizz: Max distance between patches = 1.0146\n",
      "Volibear: Max distance between patches = 0.8305\n",
      "Rengar: Max distance between patches = 1.0520\n",
      "Master Yi: Max distance between patches = 1.1100\n",
      "Varus: Max distance between patches = 0.8264\n",
      "Nautilus: Max distance between patches = 0.6877\n",
      "Viktor: Max distance between patches = 0.8355\n",
      "Sejuani: Max distance between patches = 0.9436\n",
      "Fiora: Max distance between patches = 0.8804\n",
      "Ziggs: Max distance between patches = 1.0341\n",
      "Lulu: Max distance between patches = 0.6195\n",
      "Draven: Max distance between patches = 0.7821\n",
      "Alistar: Max distance between patches = 1.0608\n",
      "Hecarim: Max distance between patches = 0.9985\n",
      "Kha'Zix: Max distance between patches = 0.7243\n",
      "Darius: Max distance between patches = 0.9387\n",
      "Jayce: Max distance between patches = 0.9162\n",
      "Lissandra: Max distance between patches = 1.1113\n",
      "Ryze: Max distance between patches = 1.0184\n",
      "Diana: Max distance between patches = 0.9805\n",
      "Quinn: Max distance between patches = 1.2748\n",
      "Syndra: Max distance between patches = 0.7229\n",
      "Aurelion Sol: Max distance between patches = 1.1530\n",
      "Sion: Max distance between patches = 1.2806\n",
      "Kayn: Max distance between patches = 0.8636\n",
      "Zoe: Max distance between patches = 1.0554\n",
      "Zyra: Max distance between patches = 1.0950\n",
      "Kai'Sa: Max distance between patches = 0.4963\n",
      "Seraphine: Max distance between patches = 1.0084\n",
      "Sivir: Max distance between patches = 0.9553\n",
      "Gnar: Max distance between patches = 0.9220\n",
      "Zac: Max distance between patches = 1.3521\n",
      "Yasuo: Max distance between patches = 0.9784\n",
      "Soraka: Max distance between patches = 0.9695\n",
      "Vel'Koz: Max distance between patches = 1.0232\n",
      "Taliyah: Max distance between patches = 1.0583\n",
      "Camille: Max distance between patches = 0.9410\n",
      "Akshan: Max distance between patches = 1.2131\n",
      "Teemo: Max distance between patches = 1.2022\n",
      "Tristana: Max distance between patches = 1.0332\n",
      "Warwick: Max distance between patches = 1.0075\n",
      "Olaf: Max distance between patches = 1.4145\n",
      "Nunu & Willump: Max distance between patches = 1.4105\n",
      "Bel'Veth: Max distance between patches = 1.0015\n",
      "Braum: Max distance between patches = 0.9228\n",
      "Jhin: Max distance between patches = 0.4861\n",
      "Kindred: Max distance between patches = 0.8579\n",
      "Miss Fortune: Max distance between patches = 0.5850\n",
      "Ashe: Max distance between patches = 0.6593\n",
      "Zeri: Max distance between patches = 0.8426\n",
      "Jinx: Max distance between patches = 0.3694\n",
      "Tahm Kench: Max distance between patches = 1.2065\n",
      "Tryndamere: Max distance between patches = 1.1205\n",
      "Briar: Max distance between patches = 1.1682\n",
      "Viego: Max distance between patches = 0.6962\n",
      "Senna: Max distance between patches = 0.7549\n",
      "Lucian: Max distance between patches = 0.7432\n",
      "Zed: Max distance between patches = 0.8237\n",
      "Jax: Max distance between patches = 0.9867\n",
      "Kled: Max distance between patches = 0.9359\n",
      "Ekko: Max distance between patches = 0.9537\n",
      "Qiyana: Max distance between patches = 0.8933\n",
      "Morgana: Max distance between patches = 1.1288\n",
      "Vi: Max distance between patches = 0.9402\n",
      "Zilean: Max distance between patches = 1.2978\n",
      "Aatrox: Max distance between patches = 0.8491\n",
      "Nami: Max distance between patches = 0.5222\n",
      "Azir: Max distance between patches = 1.0747\n",
      "Singed: Max distance between patches = 1.4284\n",
      "Evelynn: Max distance between patches = 0.9326\n",
      "Twitch: Max distance between patches = 0.9641\n",
      "Galio: Max distance between patches = 1.1808\n",
      "Karthus: Max distance between patches = 1.2899\n",
      "Cho'Gath: Max distance between patches = 1.2269\n",
      "Amumu: Max distance between patches = 0.9534\n",
      "Rammus: Max distance between patches = 1.2074\n",
      "Anivia: Max distance between patches = 1.0726\n",
      "Shaco: Max distance between patches = 1.1253\n",
      "Yuumi: Max distance between patches = 1.4191\n",
      "Dr. Mundo: Max distance between patches = 1.2008\n",
      "Samira: Max distance between patches = 0.9305\n",
      "Sona: Max distance between patches = 1.0919\n",
      "Kassadin: Max distance between patches = 1.1607\n",
      "Irelia: Max distance between patches = 1.0803\n",
      "Twisted Fate: Max distance between patches = 1.4379\n",
      "Janna: Max distance between patches = 0.7083\n",
      "Gangplank: Max distance between patches = 1.2046\n",
      "Thresh: Max distance between patches = 0.9786\n",
      "Corki: Max distance between patches = 0.6598\n",
      "Illaoi: Max distance between patches = 1.1118\n",
      "Rek'Sai: Max distance between patches = 0.9635\n",
      "Ivern: Max distance between patches = 1.1326\n",
      "Kalista: Max distance between patches = 1.0381\n",
      "Karma: Max distance between patches = 0.8511\n",
      "Bard: Max distance between patches = 1.2550\n",
      "Taric: Max distance between patches = 1.3504\n",
      "Veigar: Max distance between patches = 1.0380\n",
      "Trundle: Max distance between patches = 1.0355\n",
      "Rakan: Max distance between patches = 0.8976\n",
      "Xayah: Max distance between patches = 0.6958\n",
      "Xin Zhao: Max distance between patches = 0.9829\n",
      "Swain: Max distance between patches = 1.2392\n",
      "Caitlyn: Max distance between patches = 0.4374\n",
      "Ornn: Max distance between patches = 0.8442\n",
      "Sylas: Max distance between patches = 1.1016\n",
      "Neeko: Max distance between patches = 1.2701\n",
      "Aphelios: Max distance between patches = 0.6591\n",
      "Rell: Max distance between patches = 0.8449\n",
      "Blitzcrank: Max distance between patches = 1.1548\n",
      "Malphite: Max distance between patches = 1.1804\n",
      "Katarina: Max distance between patches = 0.9339\n",
      "Pyke: Max distance between patches = 0.7088\n",
      "Nocturne: Max distance between patches = 0.8567\n",
      "Maokai: Max distance between patches = 1.1473\n",
      "Renekton: Max distance between patches = 0.8758\n",
      "Jarvan IV: Max distance between patches = 0.8746\n",
      "Urgot: Max distance between patches = 0.9778\n",
      "Elise: Max distance between patches = 1.1504\n",
      "Orianna: Max distance between patches = 0.8692\n",
      "Wukong: Max distance between patches = 0.9714\n",
      "Brand: Max distance between patches = 1.1250\n",
      "Lee Sin: Max distance between patches = 0.8216\n",
      "Vayne: Max distance between patches = 0.8978\n",
      "Rumble: Max distance between patches = 1.3198\n",
      "Cassiopeia: Max distance between patches = 0.9769\n",
      "LeBlanc: Max distance between patches = 1.0033\n",
      "Vex: Max distance between patches = 1.0140\n",
      "Skarner: Max distance between patches = 1.1050\n",
      "Heimerdinger: Max distance between patches = 1.4707\n",
      "Nasus: Max distance between patches = 1.4332\n",
      "Nidalee: Max distance between patches = 1.2478\n",
      "Udyr: Max distance between patches = 0.8923\n",
      "Yone: Max distance between patches = 1.0151\n",
      "Poppy: Max distance between patches = 1.2639\n",
      "Gragas: Max distance between patches = 1.1731\n",
      "Ambessa: Max distance between patches = 1.0594\n",
      "Vladimir: Max distance between patches = 1.0847\n",
      "Pantheon: Max distance between patches = 1.2625\n",
      "Mel: Max distance between patches = 1.3837\n",
      "Ezreal: Max distance between patches = 0.5517\n",
      "Mordekaiser: Max distance between patches = 1.0607\n",
      "Yorick: Max distance between patches = 1.2487\n",
      "Akali: Max distance between patches = 1.0502\n",
      "Kennen: Max distance between patches = 1.1686\n",
      "Garen: Max distance between patches = 0.9741\n",
      "Sett: Max distance between patches = 0.9434\n",
      "Lillia: Max distance between patches = 1.0758\n",
      "Gwen: Max distance between patches = 1.2022\n",
      "Renata Glasc: Max distance between patches = 1.2206\n",
      "Leona: Max distance between patches = 0.8842\n",
      "Aurora: Max distance between patches = 1.0301\n",
      "Nilah: Max distance between patches = 1.1038\n",
      "K'Sante: Max distance between patches = 1.0278\n",
      "Fiddlesticks: Max distance between patches = 1.3139\n",
      "Malzahar: Max distance between patches = 1.1935\n",
      "Smolder: Max distance between patches = 0.8636\n",
      "Milio: Max distance between patches = 0.6466\n",
      "Talon: Max distance between patches = 0.9352\n",
      "Hwei: Max distance between patches = 0.8268\n",
      "Riven: Max distance between patches = 0.8954\n",
      "Naafiri: Max distance between patches = 1.4272\n",
      "Kog'Maw: Max distance between patches = 1.0484\n",
      "Shen: Max distance between patches = 1.0982\n",
      "Lux: Max distance between patches = 0.9254\n",
      "UNKNOWN: Max distance between patches = 0.0732\n"
     ]
    }
   ],
   "source": [
    "import numpy as np\n",
    "import torch\n",
    "import pickle\n",
    "from sklearn.manifold import TSNE\n",
    "import plotly.express as px\n",
    "import pandas as pd\n",
    "from pathlib import Path\n",
    "\n",
    "# Import your Model class and utilities\n",
    "from utils.match_prediction.model import Model\n",
    "from utils.match_prediction import (\n",
    "    MODEL_PATH,\n",
    "    ENCODERS_PATH,\n",
    "    MODEL_CONFIG_PATH,\n",
    "    get_best_device,\n",
    ")\n",
    "from utils.match_prediction.champions import Champion\n",
    "\n",
    "# Load model and move to device\n",
    "device = get_best_device()\n",
    "\n",
    "# Load label encoders\n",
    "with open(ENCODERS_PATH, \"rb\") as f:\n",
    "    label_encoders = pickle.load(f)\n",
    "\n",
    "# Load model configuration\n",
    "with open(MODEL_CONFIG_PATH, \"rb\") as f:\n",
    "    model_params = pickle.load(f)\n",
    "\n",
    "# Initialize model\n",
    "model = Model(\n",
    "    num_categories=model_params[\"num_categories\"],\n",
    "    num_champions=171,  # TODO: load from champion enum\n",
    "    embed_dim=model_params[\"embed_dim\"],\n",
    "    dropout=model_params[\"dropout\"],\n",
    "    hidden_dims=model_params[\"hidden_dims\"],\n",
    ")\n",
    "\n",
    "# Load model weights\n",
    "state_dict = torch.load(MODEL_PATH, map_location=device, weights_only=True)\n",
    "fixed_state_dict = {\n",
    "    k.replace(\"_orig_mod.\", \"\"): state_dict[k] for k in state_dict.keys()\n",
    "}\n",
    "model.load_state_dict(fixed_state_dict)\n",
    "model.to(device)\n",
    "model.eval()\n",
    "\n",
    "# Extract champion-patch embeddings\n",
    "embeddings = model.champion_patch_embedding.weight.detach().cpu().numpy()\n",
    "num_patches = model.num_patches\n",
    "print(f\"num_patches: {num_patches}\")\n",
    "num_champions = model.num_champions\n",
    "\n",
    "\n",
    "\n",
    "# Create mapping from champion ID to name\n",
    "id_to_name = {champ.id: champ.display_name for champ in Champion}\n",
    "\n",
    "# Get patch values from model\n",
    "patch_values = model.patch_values.numpy()\n",
    "\n",
    "# Prepare data for visualization\n",
    "champion_patch_data = []\n",
    "for champ_idx in range(num_champions):\n",
    "    champ_id = label_encoders[\"champion_ids\"].classes_[champ_idx]\n",
    "    try:\n",
    "        champ_id = int(champ_id)\n",
    "        champ_name = id_to_name.get(champ_id, f\"Unknown ID {champ_id}\")\n",
    "    except ValueError:\n",
    "        champ_name = str(champ_id)\n",
    "\n",
    "    for patch_idx in range(num_patches):\n",
    "        embed_idx = champ_idx * num_patches + patch_idx\n",
    "        patch_value = patch_values[patch_idx]\n",
    "        embedding = embeddings[embed_idx]\n",
    "\n",
    "        champion_patch_data.append(\n",
    "            {\n",
    "                \"embedding\": embedding,\n",
    "                \"champion\": champ_name,\n",
    "                \"patch\": f\"{patch_value:.2f}\",\n",
    "                \"label\": f\"{champ_name} ({patch_value:.2f})\",\n",
    "            }\n",
    "        )\n",
    "\n",
    "# Convert embeddings to 2D using t-SNE\n",
    "all_embeddings = np.stack([data[\"embedding\"] for data in champion_patch_data])\n",
    "tsne = TSNE(n_components=2, random_state=42)\n",
    "embeddings_2d = tsne.fit_transform(all_embeddings)\n",
    "\n",
    "# Create DataFrame for plotting\n",
    "df = pd.DataFrame(\n",
    "    {\n",
    "        \"x\": embeddings_2d[:, 0],\n",
    "        \"y\": embeddings_2d[:, 1],\n",
    "        \"Champion\": [data[\"champion\"] for data in champion_patch_data],\n",
    "        \"Patch\": [data[\"patch\"] for data in champion_patch_data],\n",
    "        \"Label\": [data[\"label\"] for data in champion_patch_data],\n",
    "    }\n",
    ")\n",
    "\n",
    "# Create interactive plot with Plotly\n",
    "fig = px.scatter(\n",
    "    df,\n",
    "    x=\"x\",\n",
    "    y=\"y\",\n",
    "    color=\"Champion\",\n",
    "    hover_data=[\"Champion\", \"Patch\"],\n",
    "    title=\"Champion-Patch Embedding Visualization (t-SNE)\",\n",
    "    labels={\"x\": \"t-SNE Component 1\", \"y\": \"t-SNE Component 2\"},\n",
    ")\n",
    "\n",
    "# Update traces for better visualization\n",
    "fig.update_traces(marker=dict(size=8), selector=dict(mode=\"markers\"))\n",
    "\n",
    "# Update layout\n",
    "fig.update_layout(\n",
    "    showlegend=True,\n",
    "    legend=dict(yanchor=\"top\", y=0.99, xanchor=\"left\", x=1.02),\n",
    "    width=1200,\n",
    "    height=800,\n",
    ")\n",
    "\n",
    "# Show plot\n",
    "fig.show()\n",
    "\n",
    "# Optional: Calculate and display patch-to-patch distances for each champion\n",
    "print(\"\\nAnalyzing patch-to-patch distances for champions:\")\n",
    "for champ_idx in range(num_champions):\n",
    "    champ_id = label_encoders[\"champion_ids\"].classes_[champ_idx]\n",
    "    try:\n",
    "        champ_id = int(champ_id)\n",
    "        champ_name = id_to_name.get(champ_id, f\"Unknown ID {champ_id}\")\n",
    "    except ValueError:\n",
    "        champ_name = str(champ_id)\n",
    "\n",
    "    patch_embeds = embeddings[champ_idx * num_patches : (champ_idx + 1) * num_patches]\n",
    "    max_dist = np.max(np.linalg.norm(patch_embeds[:, None] - patch_embeds, axis=2))\n",
    "    print(f\"{champ_name}: Max distance between patches = {max_dist:.4f}\")"
   ]
  },
  {
   "cell_type": "code",
   "execution_count": 10,
   "metadata": {},
   "outputs": [
    {
     "name": "stdout",
     "output_type": "stream",
     "text": [
      "\n",
      "Maximum distance between any two patches for Rell: 0.8449\n"
     ]
    },
    {
     "data": {
      "application/vnd.plotly.v1+json": {
       "config": {
        "plotlyServerURL": "https://plot.ly"
       },
       "data": [
        {
         "hovertemplate": "t-SNE Component 1=%{x}<br>t-SNE Component 2=%{y}<br>Patch=%{text}<extra></extra>",
         "legendgroup": "",
         "marker": {
          "color": "blue",
          "size": 12,
          "symbol": "circle"
         },
         "mode": "markers+text",
         "name": "",
         "orientation": "v",
         "showlegend": false,
         "text": [
          "707.00",
          "708.00",
          "709.00",
          "710.00",
          "711.00",
          "712.00",
          "713.00",
          "714.00",
          "715.00",
          "716.00",
          "717.00",
          "718.00",
          "719.00",
          "720.00",
          "721.00",
          "722.00",
          "723.00",
          "724.00",
          "751.00",
          "752.00",
          "753.00",
          "754.00",
          "755.00"
         ],
         "textfont": {
          "size": 10
         },
         "textposition": "top center",
         "type": "scatter",
         "x": {
          "bdata": "9fA7wQpYSMELWEjBVVhIwQxYSMENWEjBC1hIwQxYSMEMWEjBDFhIwQ1YSMENWEjBDFhIwVpYSMEGWEjBDVhIwQ1YSMGJWEjBKIlIwSiJSMFrWEjBJYlIwSWJSME=",
          "dtype": "f4"
         },
         "xaxis": "x",
         "y": {
          "bdata": "aXuTwokfksKJH5LClh+SwogfksKIH5LCih+SwoofksKKH5LCih+SwoofksKKH5LCih+SwpMfksKeH5LCiR+SwokfksKTH5LCLx2Swi8dksKSH5LCLx2Swi8dksI=",
          "dtype": "f4"
         },
         "yaxis": "y"
        },
        {
         "line": {
          "color": "gray",
          "dash": "dot",
          "width": 1
         },
         "mode": "lines",
         "showlegend": false,
         "type": "scatter",
         "x": {
          "bdata": "9fA7wQpYSMELWEjBVVhIwQxYSMENWEjBC1hIwQxYSMEMWEjBDFhIwQ1YSMENWEjBDFhIwVpYSMEGWEjBDVhIwQ1YSMGJWEjBKIlIwSiJSMFrWEjBJYlIwSWJSME=",
          "dtype": "f4"
         },
         "y": {
          "bdata": "aXuTwokfksKJH5LClh+SwogfksKIH5LCih+SwoofksKKH5LCih+SwoofksKKH5LCih+SwpMfksKeH5LCiR+SwokfksKTH5LCLx2Swi8dksKSH5LCLx2Swi8dksI=",
          "dtype": "f4"
         }
        }
       ],
       "layout": {
        "height": 600,
        "hovermode": "closest",
        "legend": {
         "tracegroupgap": 0
        },
        "showlegend": false,
        "template": {
         "data": {
          "bar": [
           {
            "error_x": {
             "color": "#2a3f5f"
            },
            "error_y": {
             "color": "#2a3f5f"
            },
            "marker": {
             "line": {
              "color": "#E5ECF6",
              "width": 0.5
             },
             "pattern": {
              "fillmode": "overlay",
              "size": 10,
              "solidity": 0.2
             }
            },
            "type": "bar"
           }
          ],
          "barpolar": [
           {
            "marker": {
             "line": {
              "color": "#E5ECF6",
              "width": 0.5
             },
             "pattern": {
              "fillmode": "overlay",
              "size": 10,
              "solidity": 0.2
             }
            },
            "type": "barpolar"
           }
          ],
          "carpet": [
           {
            "aaxis": {
             "endlinecolor": "#2a3f5f",
             "gridcolor": "white",
             "linecolor": "white",
             "minorgridcolor": "white",
             "startlinecolor": "#2a3f5f"
            },
            "baxis": {
             "endlinecolor": "#2a3f5f",
             "gridcolor": "white",
             "linecolor": "white",
             "minorgridcolor": "white",
             "startlinecolor": "#2a3f5f"
            },
            "type": "carpet"
           }
          ],
          "choropleth": [
           {
            "colorbar": {
             "outlinewidth": 0,
             "ticks": ""
            },
            "type": "choropleth"
           }
          ],
          "contour": [
           {
            "colorbar": {
             "outlinewidth": 0,
             "ticks": ""
            },
            "colorscale": [
             [
              0,
              "#0d0887"
             ],
             [
              0.1111111111111111,
              "#46039f"
             ],
             [
              0.2222222222222222,
              "#7201a8"
             ],
             [
              0.3333333333333333,
              "#9c179e"
             ],
             [
              0.4444444444444444,
              "#bd3786"
             ],
             [
              0.5555555555555556,
              "#d8576b"
             ],
             [
              0.6666666666666666,
              "#ed7953"
             ],
             [
              0.7777777777777778,
              "#fb9f3a"
             ],
             [
              0.8888888888888888,
              "#fdca26"
             ],
             [
              1,
              "#f0f921"
             ]
            ],
            "type": "contour"
           }
          ],
          "contourcarpet": [
           {
            "colorbar": {
             "outlinewidth": 0,
             "ticks": ""
            },
            "type": "contourcarpet"
           }
          ],
          "heatmap": [
           {
            "colorbar": {
             "outlinewidth": 0,
             "ticks": ""
            },
            "colorscale": [
             [
              0,
              "#0d0887"
             ],
             [
              0.1111111111111111,
              "#46039f"
             ],
             [
              0.2222222222222222,
              "#7201a8"
             ],
             [
              0.3333333333333333,
              "#9c179e"
             ],
             [
              0.4444444444444444,
              "#bd3786"
             ],
             [
              0.5555555555555556,
              "#d8576b"
             ],
             [
              0.6666666666666666,
              "#ed7953"
             ],
             [
              0.7777777777777778,
              "#fb9f3a"
             ],
             [
              0.8888888888888888,
              "#fdca26"
             ],
             [
              1,
              "#f0f921"
             ]
            ],
            "type": "heatmap"
           }
          ],
          "histogram": [
           {
            "marker": {
             "pattern": {
              "fillmode": "overlay",
              "size": 10,
              "solidity": 0.2
             }
            },
            "type": "histogram"
           }
          ],
          "histogram2d": [
           {
            "colorbar": {
             "outlinewidth": 0,
             "ticks": ""
            },
            "colorscale": [
             [
              0,
              "#0d0887"
             ],
             [
              0.1111111111111111,
              "#46039f"
             ],
             [
              0.2222222222222222,
              "#7201a8"
             ],
             [
              0.3333333333333333,
              "#9c179e"
             ],
             [
              0.4444444444444444,
              "#bd3786"
             ],
             [
              0.5555555555555556,
              "#d8576b"
             ],
             [
              0.6666666666666666,
              "#ed7953"
             ],
             [
              0.7777777777777778,
              "#fb9f3a"
             ],
             [
              0.8888888888888888,
              "#fdca26"
             ],
             [
              1,
              "#f0f921"
             ]
            ],
            "type": "histogram2d"
           }
          ],
          "histogram2dcontour": [
           {
            "colorbar": {
             "outlinewidth": 0,
             "ticks": ""
            },
            "colorscale": [
             [
              0,
              "#0d0887"
             ],
             [
              0.1111111111111111,
              "#46039f"
             ],
             [
              0.2222222222222222,
              "#7201a8"
             ],
             [
              0.3333333333333333,
              "#9c179e"
             ],
             [
              0.4444444444444444,
              "#bd3786"
             ],
             [
              0.5555555555555556,
              "#d8576b"
             ],
             [
              0.6666666666666666,
              "#ed7953"
             ],
             [
              0.7777777777777778,
              "#fb9f3a"
             ],
             [
              0.8888888888888888,
              "#fdca26"
             ],
             [
              1,
              "#f0f921"
             ]
            ],
            "type": "histogram2dcontour"
           }
          ],
          "mesh3d": [
           {
            "colorbar": {
             "outlinewidth": 0,
             "ticks": ""
            },
            "type": "mesh3d"
           }
          ],
          "parcoords": [
           {
            "line": {
             "colorbar": {
              "outlinewidth": 0,
              "ticks": ""
             }
            },
            "type": "parcoords"
           }
          ],
          "pie": [
           {
            "automargin": true,
            "type": "pie"
           }
          ],
          "scatter": [
           {
            "fillpattern": {
             "fillmode": "overlay",
             "size": 10,
             "solidity": 0.2
            },
            "type": "scatter"
           }
          ],
          "scatter3d": [
           {
            "line": {
             "colorbar": {
              "outlinewidth": 0,
              "ticks": ""
             }
            },
            "marker": {
             "colorbar": {
              "outlinewidth": 0,
              "ticks": ""
             }
            },
            "type": "scatter3d"
           }
          ],
          "scattercarpet": [
           {
            "marker": {
             "colorbar": {
              "outlinewidth": 0,
              "ticks": ""
             }
            },
            "type": "scattercarpet"
           }
          ],
          "scattergeo": [
           {
            "marker": {
             "colorbar": {
              "outlinewidth": 0,
              "ticks": ""
             }
            },
            "type": "scattergeo"
           }
          ],
          "scattergl": [
           {
            "marker": {
             "colorbar": {
              "outlinewidth": 0,
              "ticks": ""
             }
            },
            "type": "scattergl"
           }
          ],
          "scattermap": [
           {
            "marker": {
             "colorbar": {
              "outlinewidth": 0,
              "ticks": ""
             }
            },
            "type": "scattermap"
           }
          ],
          "scattermapbox": [
           {
            "marker": {
             "colorbar": {
              "outlinewidth": 0,
              "ticks": ""
             }
            },
            "type": "scattermapbox"
           }
          ],
          "scatterpolar": [
           {
            "marker": {
             "colorbar": {
              "outlinewidth": 0,
              "ticks": ""
             }
            },
            "type": "scatterpolar"
           }
          ],
          "scatterpolargl": [
           {
            "marker": {
             "colorbar": {
              "outlinewidth": 0,
              "ticks": ""
             }
            },
            "type": "scatterpolargl"
           }
          ],
          "scatterternary": [
           {
            "marker": {
             "colorbar": {
              "outlinewidth": 0,
              "ticks": ""
             }
            },
            "type": "scatterternary"
           }
          ],
          "surface": [
           {
            "colorbar": {
             "outlinewidth": 0,
             "ticks": ""
            },
            "colorscale": [
             [
              0,
              "#0d0887"
             ],
             [
              0.1111111111111111,
              "#46039f"
             ],
             [
              0.2222222222222222,
              "#7201a8"
             ],
             [
              0.3333333333333333,
              "#9c179e"
             ],
             [
              0.4444444444444444,
              "#bd3786"
             ],
             [
              0.5555555555555556,
              "#d8576b"
             ],
             [
              0.6666666666666666,
              "#ed7953"
             ],
             [
              0.7777777777777778,
              "#fb9f3a"
             ],
             [
              0.8888888888888888,
              "#fdca26"
             ],
             [
              1,
              "#f0f921"
             ]
            ],
            "type": "surface"
           }
          ],
          "table": [
           {
            "cells": {
             "fill": {
              "color": "#EBF0F8"
             },
             "line": {
              "color": "white"
             }
            },
            "header": {
             "fill": {
              "color": "#C8D4E3"
             },
             "line": {
              "color": "white"
             }
            },
            "type": "table"
           }
          ]
         },
         "layout": {
          "annotationdefaults": {
           "arrowcolor": "#2a3f5f",
           "arrowhead": 0,
           "arrowwidth": 1
          },
          "autotypenumbers": "strict",
          "coloraxis": {
           "colorbar": {
            "outlinewidth": 0,
            "ticks": ""
           }
          },
          "colorscale": {
           "diverging": [
            [
             0,
             "#8e0152"
            ],
            [
             0.1,
             "#c51b7d"
            ],
            [
             0.2,
             "#de77ae"
            ],
            [
             0.3,
             "#f1b6da"
            ],
            [
             0.4,
             "#fde0ef"
            ],
            [
             0.5,
             "#f7f7f7"
            ],
            [
             0.6,
             "#e6f5d0"
            ],
            [
             0.7,
             "#b8e186"
            ],
            [
             0.8,
             "#7fbc41"
            ],
            [
             0.9,
             "#4d9221"
            ],
            [
             1,
             "#276419"
            ]
           ],
           "sequential": [
            [
             0,
             "#0d0887"
            ],
            [
             0.1111111111111111,
             "#46039f"
            ],
            [
             0.2222222222222222,
             "#7201a8"
            ],
            [
             0.3333333333333333,
             "#9c179e"
            ],
            [
             0.4444444444444444,
             "#bd3786"
            ],
            [
             0.5555555555555556,
             "#d8576b"
            ],
            [
             0.6666666666666666,
             "#ed7953"
            ],
            [
             0.7777777777777778,
             "#fb9f3a"
            ],
            [
             0.8888888888888888,
             "#fdca26"
            ],
            [
             1,
             "#f0f921"
            ]
           ],
           "sequentialminus": [
            [
             0,
             "#0d0887"
            ],
            [
             0.1111111111111111,
             "#46039f"
            ],
            [
             0.2222222222222222,
             "#7201a8"
            ],
            [
             0.3333333333333333,
             "#9c179e"
            ],
            [
             0.4444444444444444,
             "#bd3786"
            ],
            [
             0.5555555555555556,
             "#d8576b"
            ],
            [
             0.6666666666666666,
             "#ed7953"
            ],
            [
             0.7777777777777778,
             "#fb9f3a"
            ],
            [
             0.8888888888888888,
             "#fdca26"
            ],
            [
             1,
             "#f0f921"
            ]
           ]
          },
          "colorway": [
           "#636efa",
           "#EF553B",
           "#00cc96",
           "#ab63fa",
           "#FFA15A",
           "#19d3f3",
           "#FF6692",
           "#B6E880",
           "#FF97FF",
           "#FECB52"
          ],
          "font": {
           "color": "#2a3f5f"
          },
          "geo": {
           "bgcolor": "white",
           "lakecolor": "white",
           "landcolor": "#E5ECF6",
           "showlakes": true,
           "showland": true,
           "subunitcolor": "white"
          },
          "hoverlabel": {
           "align": "left"
          },
          "hovermode": "closest",
          "mapbox": {
           "style": "light"
          },
          "paper_bgcolor": "white",
          "plot_bgcolor": "#E5ECF6",
          "polar": {
           "angularaxis": {
            "gridcolor": "white",
            "linecolor": "white",
            "ticks": ""
           },
           "bgcolor": "#E5ECF6",
           "radialaxis": {
            "gridcolor": "white",
            "linecolor": "white",
            "ticks": ""
           }
          },
          "scene": {
           "xaxis": {
            "backgroundcolor": "#E5ECF6",
            "gridcolor": "white",
            "gridwidth": 2,
            "linecolor": "white",
            "showbackground": true,
            "ticks": "",
            "zerolinecolor": "white"
           },
           "yaxis": {
            "backgroundcolor": "#E5ECF6",
            "gridcolor": "white",
            "gridwidth": 2,
            "linecolor": "white",
            "showbackground": true,
            "ticks": "",
            "zerolinecolor": "white"
           },
           "zaxis": {
            "backgroundcolor": "#E5ECF6",
            "gridcolor": "white",
            "gridwidth": 2,
            "linecolor": "white",
            "showbackground": true,
            "ticks": "",
            "zerolinecolor": "white"
           }
          },
          "shapedefaults": {
           "line": {
            "color": "#2a3f5f"
           }
          },
          "ternary": {
           "aaxis": {
            "gridcolor": "white",
            "linecolor": "white",
            "ticks": ""
           },
           "baxis": {
            "gridcolor": "white",
            "linecolor": "white",
            "ticks": ""
           },
           "bgcolor": "#E5ECF6",
           "caxis": {
            "gridcolor": "white",
            "linecolor": "white",
            "ticks": ""
           }
          },
          "title": {
           "x": 0.05
          },
          "xaxis": {
           "automargin": true,
           "gridcolor": "white",
           "linecolor": "white",
           "ticks": "",
           "title": {
            "standoff": 15
           },
           "zerolinecolor": "white",
           "zerolinewidth": 2
          },
          "yaxis": {
           "automargin": true,
           "gridcolor": "white",
           "linecolor": "white",
           "ticks": "",
           "title": {
            "standoff": 15
           },
           "zerolinecolor": "white",
           "zerolinewidth": 2
          }
         }
        },
        "title": {
         "text": "Rell Embedding Changes Across Patches",
         "x": 0.5
        },
        "width": 800,
        "xaxis": {
         "anchor": "y",
         "domain": [
          0,
          1
         ],
         "title": {
          "text": "t-SNE Component 1"
         }
        },
        "yaxis": {
         "anchor": "x",
         "domain": [
          0,
          1
         ],
         "title": {
          "text": "t-SNE Component 2"
         }
        }
       }
      }
     },
     "metadata": {},
     "output_type": "display_data"
    },
    {
     "name": "stdout",
     "output_type": "stream",
     "text": [
      "\n",
      "Available champions:\n",
      "['Aatrox', 'Ahri', 'Akali', 'Akshan', 'Alistar', 'Ambessa', 'Amumu', 'Anivia', 'Annie', 'Aphelios', 'Ashe', 'Aurelion Sol', 'Aurora', 'Azir', 'Bard', \"Bel'Veth\", 'Blitzcrank', 'Brand', 'Braum', 'Briar', 'Caitlyn', 'Camille', 'Cassiopeia', \"Cho'Gath\", 'Corki', 'Darius', 'Diana', 'Dr. Mundo', 'Draven', 'Ekko', 'Elise', 'Evelynn', 'Ezreal', 'Fiddlesticks', 'Fiora', 'Fizz', 'Galio', 'Gangplank', 'Garen', 'Gnar', 'Gragas', 'Graves', 'Gwen', 'Hecarim', 'Heimerdinger', 'Hwei', 'Illaoi', 'Irelia', 'Ivern', 'Janna', 'Jarvan IV', 'Jax', 'Jayce', 'Jhin', 'Jinx', \"K'Sante\", \"Kai'Sa\", 'Kalista', 'Karma', 'Karthus', 'Kassadin', 'Katarina', 'Kayle', 'Kayn', 'Kennen', \"Kha'Zix\", 'Kindred', 'Kled', \"Kog'Maw\", 'LeBlanc', 'Lee Sin', 'Leona', 'Lillia', 'Lissandra', 'Lucian', 'Lulu', 'Lux', 'Malphite', 'Malzahar', 'Maokai', 'Master Yi', 'Mel', 'Milio', 'Miss Fortune', 'Mordekaiser', 'Morgana', 'Naafiri', 'Nami', 'Nasus', 'Nautilus', 'Neeko', 'Nidalee', 'Nilah', 'Nocturne', 'Nunu & Willump', 'Olaf', 'Orianna', 'Ornn', 'Pantheon', 'Poppy', 'Pyke', 'Qiyana', 'Quinn', 'Rakan', 'Rammus', \"Rek'Sai\", 'Rell', 'Renata Glasc', 'Renekton', 'Rengar', 'Riven', 'Rumble', 'Ryze', 'Samira', 'Sejuani', 'Senna', 'Seraphine', 'Sett', 'Shaco', 'Shen', 'Shyvana', 'Singed', 'Sion', 'Sivir', 'Skarner', 'Smolder', 'Sona', 'Soraka', 'Swain', 'Sylas', 'Syndra', 'Tahm Kench', 'Taliyah', 'Talon', 'Taric', 'Teemo', 'Thresh', 'Tristana', 'Trundle', 'Tryndamere', 'Twisted Fate', 'Twitch', 'UNKNOWN', 'Udyr', 'Urgot', 'Varus', 'Vayne', 'Veigar', \"Vel'Koz\", 'Vex', 'Vi', 'Viego', 'Viktor', 'Vladimir', 'Volibear', 'Warwick', 'Wukong', 'Xayah', 'Xerath', 'Xin Zhao', 'Yasuo', 'Yone', 'Yorick', 'Yuumi', 'Zac', 'Zed', 'Zeri', 'Ziggs', 'Zilean', 'Zoe', 'Zyra']\n"
     ]
    }
   ],
   "source": [
    "# Function to visualize a single champion's patch embeddings\n",
    "def visualize_champion_patches(champion_name: str):\n",
    "    # Filter data for the specified champion\n",
    "    champion_df = df[df[\"Champion\"] == champion_name].copy()\n",
    "\n",
    "    if len(champion_df) == 0:\n",
    "        print(f\"Champion '{champion_name}' not found in the dataset\")\n",
    "        return\n",
    "\n",
    "    # Create figure\n",
    "    fig = px.scatter(\n",
    "        champion_df,\n",
    "        x=\"x\",\n",
    "        y=\"y\",\n",
    "        text=\"Patch\",  # Show patch numbers as labels\n",
    "        title=f\"{champion_name} Embedding Changes Across Patches\",\n",
    "        labels={\"x\": \"t-SNE Component 1\", \"y\": \"t-SNE Component 2\"},\n",
    "    )\n",
    "\n",
    "    # Update scatter points\n",
    "    fig.update_traces(\n",
    "        marker=dict(size=12, color=\"blue\"),  # Larger markers since we have fewer points\n",
    "        textposition=\"top center\",\n",
    "        textfont=dict(size=10),\n",
    "    )\n",
    "\n",
    "    # Add lines connecting consecutive patches\n",
    "    fig.add_trace(\n",
    "        go.Scatter(\n",
    "            x=champion_df[\"x\"],\n",
    "            y=champion_df[\"y\"],\n",
    "            mode=\"lines\",\n",
    "            line=dict(color=\"gray\", width=1, dash=\"dot\"),\n",
    "            showlegend=False,\n",
    "        )\n",
    "    )\n",
    "\n",
    "    # Update layout\n",
    "    fig.update_layout(\n",
    "        showlegend=False,\n",
    "        width=800,\n",
    "        height=600,\n",
    "        title_x=0.5,  # Center the title\n",
    "        hovermode=\"closest\",\n",
    "    )\n",
    "\n",
    "    # Calculate and display the maximum distance between any two patches\n",
    "    patch_embeds = embeddings[df[df[\"Champion\"] == champion_name].index]\n",
    "    max_dist = np.max(np.linalg.norm(patch_embeds[:, None] - patch_embeds, axis=2))\n",
    "    print(\n",
    "        f\"\\nMaximum distance between any two patches for {champion_name}: {max_dist:.4f}\"\n",
    "    )\n",
    "\n",
    "    # Show plot\n",
    "    fig.show()\n",
    "\n",
    "\n",
    "# Don't forget to import go\n",
    "import plotly.graph_objects as go\n",
    "\n",
    "# Example usage - replace with any champion name from your dataset\n",
    "visualize_champion_patches(\"Rell\")\n",
    "\n",
    "# Optional: Print available champion names\n",
    "print(\"\\nAvailable champions:\")\n",
    "print(sorted(df[\"Champion\"].unique()))"
   ]
  },
  {
   "cell_type": "code",
   "execution_count": null,
   "metadata": {},
   "outputs": [],
   "source": []
  }
 ],
 "metadata": {
  "kernelspec": {
   "display_name": ".venv",
   "language": "python",
   "name": "python3"
  },
  "language_info": {
   "codemirror_mode": {
    "name": "ipython",
    "version": 3
   },
   "file_extension": ".py",
   "mimetype": "text/x-python",
   "name": "python",
   "nbconvert_exporter": "python",
   "pygments_lexer": "ipython3",
   "version": "3.12.9"
  }
 },
 "nbformat": 4,
 "nbformat_minor": 2
}
