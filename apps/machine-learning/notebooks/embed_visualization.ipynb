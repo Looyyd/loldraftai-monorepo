{
 "cells": [
  {
   "cell_type": "markdown",
   "metadata": {},
   "source": [
    "# Embeddings visualization notebook\n",
    "\n",
    "uses t-sne to visualize embeddings.\n",
    "embedding visualization lead to the following changes in the model architecture:\n",
    "\n",
    "- biased initialization, where similar classes of champions(mages, assasins etc.) are initialised with similar embeddings\n",
    "- adjacent patch regularization, where patch and champion-patch embeddings are forced to be close to each other for adjacent patches\n",
    "\n",
    "Before these changes the embeddings were normally distributed, afterwards they can be interpreted.\n",
    "Model validation also improved very slightly, model \"vibe check\" improves quite a bit, the model predictions seems more human after these changes.\n"
   ]
  },
  {
   "cell_type": "code",
   "execution_count": 1,
   "metadata": {},
   "outputs": [
    {
     "name": "stdout",
     "output_type": "stream",
     "text": [
      "MLP input dimension: 768\n",
      "Loading pre-trained model from C:\\Users\\filip\\dev\\draftking-monorepo\\apps\\machine-learning\\data\\models\\match_outcome_model.pth\n",
      "num_patches: 20\n",
      "['14.12' '14.13' '14.14' '14.15' '14.16' '14.17' '14.18' '14.19' '14.20'\n",
      " '14.21' '14.22' '14.23' '14.24' '15.01' '15.02' '15.03' '15.04' '15.05'\n",
      " '15.06' '15.07']\n"
     ]
    }
   ],
   "source": [
    "import numpy as np\n",
    "import torch\n",
    "import pickle\n",
    "from sklearn.manifold import TSNE\n",
    "import plotly.express as px\n",
    "import pandas as pd\n",
    "from pathlib import Path\n",
    "\n",
    "# Import your Model class and utilities\n",
    "from utils.match_prediction.model import Model\n",
    "from utils.match_prediction import (\n",
    "    MODEL_PATH,\n",
    "    CHAMPION_ID_ENCODER_PATH,\n",
    "    MODEL_CONFIG_PATH,\n",
    "    PATCH_MAPPING_PATH,\n",
    "    get_best_device,\n",
    "    load_model_state_dict,\n",
    ")\n",
    "from utils.match_prediction.champions import Champion\n",
    "from utils.match_prediction.config import TrainingConfig\n",
    "\n",
    "# Load model and move to device\n",
    "device = get_best_device()\n",
    "\n",
    "# Load label encoders\n",
    "with open(CHAMPION_ID_ENCODER_PATH, \"rb\") as f:\n",
    "    champion_id_encoder = pickle.load(f)[\"mapping\"]\n",
    "\n",
    "# Load model configuration\n",
    "with open(MODEL_CONFIG_PATH, \"rb\") as f:\n",
    "    model_params = pickle.load(f)\n",
    "\n",
    "with open(PATCH_MAPPING_PATH, \"rb\") as f:\n",
    "    patch_mapping = pickle.load(f)[\"mapping\"]\n",
    "\n",
    "config = TrainingConfig()\n",
    "\n",
    "# Initialize model\n",
    "model = Model(\n",
    "    config=config,\n",
    "    dropout=model_params[\"dropout\"],\n",
    "    hidden_dims=model_params[\"hidden_dims\"],\n",
    ")\n",
    "\n",
    "model = load_model_state_dict(model, path=MODEL_PATH, device=device)\n",
    "model.eval()\n",
    "\n",
    "# Extract champion-patch embeddings\n",
    "embeddings = model.champion_patch_embedding.weight.detach().cpu().numpy()\n",
    "num_patches = len(patch_mapping)\n",
    "print(f\"num_patches: {num_patches}\")\n",
    "num_champions = model.num_champions\n",
    "\n",
    "\n",
    "# Create mapping from champion ID to name\n",
    "id_to_name = {champ.id: champ.display_name for champ in Champion}\n",
    "\n",
    "# Get patch values from model\n",
    "patch_values = np.array(list(patch_mapping.keys()))\n",
    "print(patch_values)"
   ]
  },
  {
   "cell_type": "code",
   "execution_count": 2,
   "metadata": {},
   "outputs": [
    {
     "name": "stderr",
     "output_type": "stream",
     "text": [
      "c:\\Users\\filip\\dev\\draftking-monorepo\\.venv\\Lib\\site-packages\\joblib\\externals\\loky\\backend\\context.py:136: UserWarning: Could not find the number of physical cores for the following reason:\n",
      "[WinError 2] Le fichier spécifié est introuvable\n",
      "Returning the number of logical cores instead. You can silence this warning by setting LOKY_MAX_CPU_COUNT to the number of cores you want to use.\n",
      "  warnings.warn(\n",
      "  File \"c:\\Users\\filip\\dev\\draftking-monorepo\\.venv\\Lib\\site-packages\\joblib\\externals\\loky\\backend\\context.py\", line 257, in _count_physical_cores\n",
      "    cpu_info = subprocess.run(\n",
      "               ^^^^^^^^^^^^^^^\n",
      "  File \"C:\\Users\\filip\\AppData\\Local\\Programs\\Python\\Python312\\Lib\\subprocess.py\", line 550, in run\n",
      "    with Popen(*popenargs, **kwargs) as process:\n",
      "         ^^^^^^^^^^^^^^^^^^^^^^^^^^^\n",
      "  File \"C:\\Users\\filip\\AppData\\Local\\Programs\\Python\\Python312\\Lib\\subprocess.py\", line 1028, in __init__\n",
      "    self._execute_child(args, executable, preexec_fn, close_fds,\n",
      "  File \"C:\\Users\\filip\\AppData\\Local\\Programs\\Python\\Python312\\Lib\\subprocess.py\", line 1540, in _execute_child\n",
      "    hp, ht, pid, tid = _winapi.CreateProcess(executable, args,\n",
      "                       ^^^^^^^^^^^^^^^^^^^^^^^^^^^^^^^^^^^^^^^\n"
     ]
    },
    {
     "data": {
      "application/vnd.plotly.v1+json": {
       "config": {
        "plotlyServerURL": "https://plot.ly"
       },
       "data": [
        {
         "customdata": [
          [
           "Annie",
           "14.12"
          ],
          [
           "Annie",
           "14.13"
          ],
          [
           "Annie",
           "14.14"
          ],
          [
           "Annie",
           "14.15"
          ],
          [
           "Annie",
           "14.16"
          ],
          [
           "Annie",
           "14.17"
          ],
          [
           "Annie",
           "14.18"
          ],
          [
           "Annie",
           "14.19"
          ],
          [
           "Annie",
           "14.20"
          ],
          [
           "Annie",
           "14.21"
          ],
          [
           "Annie",
           "14.22"
          ],
          [
           "Annie",
           "14.23"
          ],
          [
           "Annie",
           "14.24"
          ],
          [
           "Annie",
           "15.01"
          ],
          [
           "Annie",
           "15.02"
          ],
          [
           "Annie",
           "15.03"
          ],
          [
           "Annie",
           "15.04"
          ],
          [
           "Annie",
           "15.05"
          ],
          [
           "Annie",
           "15.06"
          ],
          [
           "Annie",
           "15.07"
          ]
         ],
         "hovertemplate": "Champion=%{customdata[0]}<br>t-SNE Component 1=%{x}<br>t-SNE Component 2=%{y}<br>Patch=%{customdata[1]}<extra></extra>",
         "legendgroup": "Annie",
         "marker": {
          "color": "#636efa",
          "size": 8,
          "symbol": "circle"
         },
         "mode": "markers",
         "name": "Annie",
         "showlegend": true,
         "type": "scattergl",
         "x": {
          "bdata": "BliiQcvvRkJcD0BCfpcHPym2rMBFqRlCKXbFQV1yZkGCTSfCAmY1Qr94P0JTuUJCX0dlwBw/BcJoLsfBFwhBwrK9OcJIkxbCl6FMwodJhUE=",
          "dtype": "f4"
         },
         "xaxis": "x",
         "y": {
          "bdata": "HUrnwQZ0nMCYKjnBKUUiwhRwrsGHo/DA76iLwC74xsESjfE/Mb8ewESKpb+DmeK/zS1mwavKwsF6x6jBgf6owGZbgUFH5cBBa1aawc5oxT4=",
          "dtype": "f4"
         },
         "yaxis": "y"
        },
        {
         "customdata": [
          [
           "Kayle",
           "14.12"
          ],
          [
           "Kayle",
           "14.13"
          ],
          [
           "Kayle",
           "14.14"
          ],
          [
           "Kayle",
           "14.15"
          ],
          [
           "Kayle",
           "14.16"
          ],
          [
           "Kayle",
           "14.17"
          ],
          [
           "Kayle",
           "14.18"
          ],
          [
           "Kayle",
           "14.19"
          ],
          [
           "Kayle",
           "14.20"
          ],
          [
           "Kayle",
           "14.21"
          ],
          [
           "Kayle",
           "14.22"
          ],
          [
           "Kayle",
           "14.23"
          ],
          [
           "Kayle",
           "14.24"
          ],
          [
           "Kayle",
           "15.01"
          ],
          [
           "Kayle",
           "15.02"
          ],
          [
           "Kayle",
           "15.03"
          ],
          [
           "Kayle",
           "15.04"
          ],
          [
           "Kayle",
           "15.05"
          ],
          [
           "Kayle",
           "15.06"
          ],
          [
           "Kayle",
           "15.07"
          ]
         ],
         "hovertemplate": "Champion=%{customdata[0]}<br>t-SNE Component 1=%{x}<br>t-SNE Component 2=%{y}<br>Patch=%{customdata[1]}<extra></extra>",
         "legendgroup": "Kayle",
         "marker": {
          "color": "#EF553B",
          "size": 8,
          "symbol": "circle"
         },
         "mode": "markers",
         "name": "Kayle",
         "showlegend": true,
         "type": "scattergl",
         "x": {
          "bdata": "8FAJwtanNsIbSh7CZi2kwDls0EEt3cdBVDZSQpfPx0Gaj9hBnM6pQYjFsEFKiSDCpb2sQRXjOcJzfQ/C0z0QwhiKEMLoYqPBFl1GwvC4t8E=",
          "dtype": "f4"
         },
         "xaxis": "x",
         "y": {
          "bdata": "pmIDv1U7VsEXSl7BVH9bQXNr2sFtxTTChmItwSHxwsFQYdHBhQsSwl+FDsLs8M7BK56uweCXDcF0YIPBOLD7wE809sDSNypA6chnwUq4qME=",
          "dtype": "f4"
         },
         "yaxis": "y"
        },
        {
         "customdata": [
          [
           "Xerath",
           "14.12"
          ],
          [
           "Xerath",
           "14.13"
          ],
          [
           "Xerath",
           "14.14"
          ],
          [
           "Xerath",
           "14.15"
          ],
          [
           "Xerath",
           "14.16"
          ],
          [
           "Xerath",
           "14.17"
          ],
          [
           "Xerath",
           "14.18"
          ],
          [
           "Xerath",
           "14.19"
          ],
          [
           "Xerath",
           "14.20"
          ],
          [
           "Xerath",
           "14.21"
          ],
          [
           "Xerath",
           "14.22"
          ],
          [
           "Xerath",
           "14.23"
          ],
          [
           "Xerath",
           "14.24"
          ],
          [
           "Xerath",
           "15.01"
          ],
          [
           "Xerath",
           "15.02"
          ],
          [
           "Xerath",
           "15.03"
          ],
          [
           "Xerath",
           "15.04"
          ],
          [
           "Xerath",
           "15.05"
          ],
          [
           "Xerath",
           "15.06"
          ],
          [
           "Xerath",
           "15.07"
          ]
         ],
         "hovertemplate": "Champion=%{customdata[0]}<br>t-SNE Component 1=%{x}<br>t-SNE Component 2=%{y}<br>Patch=%{customdata[1]}<extra></extra>",
         "legendgroup": "Xerath",
         "marker": {
          "color": "#00cc96",
          "size": 8,
          "symbol": "circle"
         },
         "mode": "markers",
         "name": "Xerath",
         "showlegend": true,
         "type": "scattergl",
         "x": {
          "bdata": "g102QmmmWkJ5WqvBx4ygwbr6DkKPGF5BIVWZwCZ0LMIyj9DAvo3rwSznDkLuwTvBggFAQuFHvkGfOns/De/UvsZ1OEJhUTZCPQQNQl5M5z8=",
          "dtype": "f4"
         },
         "xaxis": "x",
         "y": {
          "bdata": "IKYtQGNOqz4+VYhBDumGQf9H8L/WWa9BgLCwQUzDRsFtcYTBbo1qQXRFA8CZ1xTCO9eqQfzGK0H9E3rB/BtzQHxkA8GLEEhAlwbwQMMCbMA=",
          "dtype": "f4"
         },
         "yaxis": "y"
        },
        {
         "customdata": [
          [
           "Shyvana",
           "14.12"
          ],
          [
           "Shyvana",
           "14.13"
          ],
          [
           "Shyvana",
           "14.14"
          ],
          [
           "Shyvana",
           "14.15"
          ],
          [
           "Shyvana",
           "14.16"
          ],
          [
           "Shyvana",
           "14.17"
          ],
          [
           "Shyvana",
           "14.18"
          ],
          [
           "Shyvana",
           "14.19"
          ],
          [
           "Shyvana",
           "14.20"
          ],
          [
           "Shyvana",
           "14.21"
          ],
          [
           "Shyvana",
           "14.22"
          ],
          [
           "Shyvana",
           "14.23"
          ],
          [
           "Shyvana",
           "14.24"
          ],
          [
           "Shyvana",
           "15.01"
          ],
          [
           "Shyvana",
           "15.02"
          ],
          [
           "Shyvana",
           "15.03"
          ],
          [
           "Shyvana",
           "15.04"
          ],
          [
           "Shyvana",
           "15.05"
          ],
          [
           "Shyvana",
           "15.06"
          ],
          [
           "Shyvana",
           "15.07"
          ]
         ],
         "hovertemplate": "Champion=%{customdata[0]}<br>t-SNE Component 1=%{x}<br>t-SNE Component 2=%{y}<br>Patch=%{customdata[1]}<extra></extra>",
         "legendgroup": "Shyvana",
         "marker": {
          "color": "#ab63fa",
          "size": 8,
          "symbol": "circle"
         },
         "mode": "markers",
         "name": "Shyvana",
         "showlegend": true,
         "type": "scattergl",
         "x": {
          "bdata": "RZHRQZe/lkCwR1hBNEoBwhnHw0EEXedBs5sbwripKkGT/KTAop/9wfGqh8HDCwBCNnqXQfgx4UHN7zxCg6u2QQImFEKkIeZB/NvVQXaun8E=",
          "dtype": "f4"
         },
         "xaxis": "x",
         "y": {
          "bdata": "MaEZwpzgD8Ln3FtB2ScFwivqG8Iv5gzCHgckwaDQ20GgOcbBeyOXwXRyC0Enst3B4XMtQYVbtT8fFs6/4mqPwU2DA8KW/GxAlreCQCJ9h8E=",
          "dtype": "f4"
         },
         "yaxis": "y"
        },
        {
         "customdata": [
          [
           "Ahri",
           "14.12"
          ],
          [
           "Ahri",
           "14.13"
          ],
          [
           "Ahri",
           "14.14"
          ],
          [
           "Ahri",
           "14.15"
          ],
          [
           "Ahri",
           "14.16"
          ],
          [
           "Ahri",
           "14.17"
          ],
          [
           "Ahri",
           "14.18"
          ],
          [
           "Ahri",
           "14.19"
          ],
          [
           "Ahri",
           "14.20"
          ],
          [
           "Ahri",
           "14.21"
          ],
          [
           "Ahri",
           "14.22"
          ],
          [
           "Ahri",
           "14.23"
          ],
          [
           "Ahri",
           "14.24"
          ],
          [
           "Ahri",
           "15.01"
          ],
          [
           "Ahri",
           "15.02"
          ],
          [
           "Ahri",
           "15.03"
          ],
          [
           "Ahri",
           "15.04"
          ],
          [
           "Ahri",
           "15.05"
          ],
          [
           "Ahri",
           "15.06"
          ],
          [
           "Ahri",
           "15.07"
          ]
         ],
         "hovertemplate": "Champion=%{customdata[0]}<br>t-SNE Component 1=%{x}<br>t-SNE Component 2=%{y}<br>Patch=%{customdata[1]}<extra></extra>",
         "legendgroup": "Ahri",
         "marker": {
          "color": "#FFA15A",
          "size": 8,
          "symbol": "circle"
         },
         "mode": "markers",
         "name": "Ahri",
         "showlegend": true,
         "type": "scattergl",
         "x": {
          "bdata": "zrKbQbRTQ0KeAbfAIrExQtYveUHrMkhCSUSgweXxBMKCjkZBiTowQTT/BMIxO8DBg5oOwvp5HEH3isJBa3ZJwUXkGUFPiQvCBRVGwekZjMA=",
          "dtype": "f4"
         },
         "xaxis": "x",
         "y": {
          "bdata": "Xa9DwczRfsFS0v3Bto9UwRSGpUBB7FZBnPijQOIJq8G72wzCNlYDwmUApsEHTK7BWTlNwdh7C8L3VZpBCu3TwX1mmcHZHTTBkQMSwLMEJUA=",
          "dtype": "f4"
         },
         "yaxis": "y"
        },
        {
         "customdata": [
          [
           "Graves",
           "14.12"
          ],
          [
           "Graves",
           "14.13"
          ],
          [
           "Graves",
           "14.14"
          ],
          [
           "Graves",
           "14.15"
          ],
          [
           "Graves",
           "14.16"
          ],
          [
           "Graves",
           "14.17"
          ],
          [
           "Graves",
           "14.18"
          ],
          [
           "Graves",
           "14.19"
          ],
          [
           "Graves",
           "14.20"
          ],
          [
           "Graves",
           "14.21"
          ],
          [
           "Graves",
           "14.22"
          ],
          [
           "Graves",
           "14.23"
          ],
          [
           "Graves",
           "14.24"
          ],
          [
           "Graves",
           "15.01"
          ],
          [
           "Graves",
           "15.02"
          ],
          [
           "Graves",
           "15.03"
          ],
          [
           "Graves",
           "15.04"
          ],
          [
           "Graves",
           "15.05"
          ],
          [
           "Graves",
           "15.06"
          ],
          [
           "Graves",
           "15.07"
          ]
         ],
         "hovertemplate": "Champion=%{customdata[0]}<br>t-SNE Component 1=%{x}<br>t-SNE Component 2=%{y}<br>Patch=%{customdata[1]}<extra></extra>",
         "legendgroup": "Graves",
         "marker": {
          "color": "#19d3f3",
          "size": 8,
          "symbol": "circle"
         },
         "mode": "markers",
         "name": "Graves",
         "showlegend": true,
         "type": "scattergl",
         "x": {
          "bdata": "ujNwwdzAx8GoIdpADQDeQaaV6cGgmS5CJZNBQmDbh0CoIHdAHTaFQMSeG0GCSr9AfZV5QGqoqEHJpRTC/IC1QWwBlsBlZSbAk3Q4QkrOCsE=",
          "dtype": "f4"
         },
         "xaxis": "x",
         "y": {
          "bdata": "wIAkQWVHz0HMdAtCHs3ZQcNXIEJJ3EZB46iFwUdgGEJ5vh1C6m4WQqhaOUJbXyJCBu8ZQnynT0F2eE3BhiH0Qebqg0F4PtVACAdsQCnse0E=",
          "dtype": "f4"
         },
         "yaxis": "y"
        },
        {
         "customdata": [
          [
           "Fizz",
           "14.12"
          ],
          [
           "Fizz",
           "14.13"
          ],
          [
           "Fizz",
           "14.14"
          ],
          [
           "Fizz",
           "14.15"
          ],
          [
           "Fizz",
           "14.16"
          ],
          [
           "Fizz",
           "14.17"
          ],
          [
           "Fizz",
           "14.18"
          ],
          [
           "Fizz",
           "14.19"
          ],
          [
           "Fizz",
           "14.20"
          ],
          [
           "Fizz",
           "14.21"
          ],
          [
           "Fizz",
           "14.22"
          ],
          [
           "Fizz",
           "14.23"
          ],
          [
           "Fizz",
           "14.24"
          ],
          [
           "Fizz",
           "15.01"
          ],
          [
           "Fizz",
           "15.02"
          ],
          [
           "Fizz",
           "15.03"
          ],
          [
           "Fizz",
           "15.04"
          ],
          [
           "Fizz",
           "15.05"
          ],
          [
           "Fizz",
           "15.06"
          ],
          [
           "Fizz",
           "15.07"
          ]
         ],
         "hovertemplate": "Champion=%{customdata[0]}<br>t-SNE Component 1=%{x}<br>t-SNE Component 2=%{y}<br>Patch=%{customdata[1]}<extra></extra>",
         "legendgroup": "Fizz",
         "marker": {
          "color": "#FF6692",
          "size": 8,
          "symbol": "circle"
         },
         "mode": "markers",
         "name": "Fizz",
         "showlegend": true,
         "type": "scattergl",
         "x": {
          "bdata": "Ikg2QhnHNELYnfI+8Gc0Qf6FJsJ6arXBDbx4wcuwjkFIHitBMsWwQHs4BcE+gMzBIr2FQe75tkE4UwNBO+4ZwqomisEs1ARC5fF5QejmacE=",
          "dtype": "f4"
         },
         "xaxis": "x",
         "y": {
          "bdata": "7arYwLM+9sDtuBnBvd3vvw6950BCi2VAameLwbSf2EGlHnfBUgGFQTqWPcDKJfjBUv6awbV4IkGFyLTBhKDKwbDcGr8PK41ANGrGwZWCJsA=",
          "dtype": "f4"
         },
         "yaxis": "y"
        },
        {
         "customdata": [
          [
           "Volibear",
           "14.12"
          ],
          [
           "Volibear",
           "14.13"
          ],
          [
           "Volibear",
           "14.14"
          ],
          [
           "Volibear",
           "14.15"
          ],
          [
           "Volibear",
           "14.16"
          ],
          [
           "Volibear",
           "14.17"
          ],
          [
           "Volibear",
           "14.18"
          ],
          [
           "Volibear",
           "14.19"
          ],
          [
           "Volibear",
           "14.20"
          ],
          [
           "Volibear",
           "14.21"
          ],
          [
           "Volibear",
           "14.22"
          ],
          [
           "Volibear",
           "14.23"
          ],
          [
           "Volibear",
           "14.24"
          ],
          [
           "Volibear",
           "15.01"
          ],
          [
           "Volibear",
           "15.02"
          ],
          [
           "Volibear",
           "15.03"
          ],
          [
           "Volibear",
           "15.04"
          ],
          [
           "Volibear",
           "15.05"
          ],
          [
           "Volibear",
           "15.06"
          ],
          [
           "Volibear",
           "15.07"
          ]
         ],
         "hovertemplate": "Champion=%{customdata[0]}<br>t-SNE Component 1=%{x}<br>t-SNE Component 2=%{y}<br>Patch=%{customdata[1]}<extra></extra>",
         "legendgroup": "Volibear",
         "marker": {
          "color": "#B6E880",
          "size": 8,
          "symbol": "circle"
         },
         "mode": "markers",
         "name": "Volibear",
         "showlegend": true,
         "type": "scattergl",
         "x": {
          "bdata": "8BmUwEYD3sCwyCLCc7iRwVtLbr42IG5AwfAQQbdSjD9b9hg/GvmMQGf2wUF8tjxAHN2xwR0igkHINcO/tEirQeXPokEU3MZBM548Qq/URkE=",
          "dtype": "f4"
         },
         "xaxis": "x",
         "y": {
          "bdata": "vCFKQvTJPkKGQrnBfwo5QDyhyL8hmR9Cml8hQlTOD0LtOC1ClCTfwcQ0nsBDk2BBKpaOwUa09T+K2wfAb/TMQAoAYkGurlhBlct9QNRrSUA=",
          "dtype": "f4"
         },
         "yaxis": "y"
        },
        {
         "customdata": [
          [
           "Rengar",
           "14.12"
          ],
          [
           "Rengar",
           "14.13"
          ],
          [
           "Rengar",
           "14.14"
          ],
          [
           "Rengar",
           "14.15"
          ],
          [
           "Rengar",
           "14.16"
          ],
          [
           "Rengar",
           "14.17"
          ],
          [
           "Rengar",
           "14.18"
          ],
          [
           "Rengar",
           "14.19"
          ],
          [
           "Rengar",
           "14.20"
          ],
          [
           "Rengar",
           "14.21"
          ],
          [
           "Rengar",
           "14.22"
          ],
          [
           "Rengar",
           "14.23"
          ],
          [
           "Rengar",
           "14.24"
          ],
          [
           "Rengar",
           "15.01"
          ],
          [
           "Rengar",
           "15.02"
          ],
          [
           "Rengar",
           "15.03"
          ],
          [
           "Rengar",
           "15.04"
          ],
          [
           "Rengar",
           "15.05"
          ],
          [
           "Rengar",
           "15.06"
          ],
          [
           "Rengar",
           "15.07"
          ]
         ],
         "hovertemplate": "Champion=%{customdata[0]}<br>t-SNE Component 1=%{x}<br>t-SNE Component 2=%{y}<br>Patch=%{customdata[1]}<extra></extra>",
         "legendgroup": "Rengar",
         "marker": {
          "color": "#FF97FF",
          "size": 8,
          "symbol": "circle"
         },
         "mode": "markers",
         "name": "Rengar",
         "showlegend": true,
         "type": "scattergl",
         "x": {
          "bdata": "ItyPvUu/scGDuog/TYYzQOsCZL8S3AFBI0NhweT3w0F2t6rBOsFXQqECPMIZ7+HAyYluwZ+y4cApyC3Bhff5QSjL98FC6VhBnXA8wt2dFsA=",
          "dtype": "f4"
         },
         "xaxis": "x",
         "y": {
          "bdata": "PQsvQtpWH0JcpjNCIzpDQsROUEIeujpCWX6ywBYUKsKvZFC/QrXBwd3v08HwTU7CzDc1wDAPTsK2WRlCpO1FQQvDuEEmaynBmHLkQcHpQcA=",
          "dtype": "f4"
         },
         "yaxis": "y"
        },
        {
         "customdata": [
          [
           "Master Yi",
           "14.12"
          ],
          [
           "Master Yi",
           "14.13"
          ],
          [
           "Master Yi",
           "14.14"
          ],
          [
           "Master Yi",
           "14.15"
          ],
          [
           "Master Yi",
           "14.16"
          ],
          [
           "Master Yi",
           "14.17"
          ],
          [
           "Master Yi",
           "14.18"
          ],
          [
           "Master Yi",
           "14.19"
          ],
          [
           "Master Yi",
           "14.20"
          ],
          [
           "Master Yi",
           "14.21"
          ],
          [
           "Master Yi",
           "14.22"
          ],
          [
           "Master Yi",
           "14.23"
          ],
          [
           "Master Yi",
           "14.24"
          ],
          [
           "Master Yi",
           "15.01"
          ],
          [
           "Master Yi",
           "15.02"
          ],
          [
           "Master Yi",
           "15.03"
          ],
          [
           "Master Yi",
           "15.04"
          ],
          [
           "Master Yi",
           "15.05"
          ],
          [
           "Master Yi",
           "15.06"
          ],
          [
           "Master Yi",
           "15.07"
          ]
         ],
         "hovertemplate": "Champion=%{customdata[0]}<br>t-SNE Component 1=%{x}<br>t-SNE Component 2=%{y}<br>Patch=%{customdata[1]}<extra></extra>",
         "legendgroup": "Master Yi",
         "marker": {
          "color": "#FECB52",
          "size": 8,
          "symbol": "circle"
         },
         "mode": "markers",
         "name": "Master Yi",
         "showlegend": true,
         "type": "scattergl",
         "x": {
          "bdata": "2y85QdDmMcK09qI+Re+gwSqcrEG/TbFAacGxwRV0cr5z0wW/wY6HP/t9/UGI0UjBUr/LPuNA3sBBW5BBsiUXQtgRh8Gz8exBfz0WQibWEsE=",
          "dtype": "f4"
         },
         "xaxis": "x",
         "y": {
          "bdata": "7VMOQrUBu78v8RFBHbMlQueGMUIxdQtC6E6rQX8XS0JbOkxCssSaQTikCMLHhpDBDpwEwgv2NcI5QwJCpnwVwGFz/EH5P5RBjd2RwUzpdUE=",
          "dtype": "f4"
         },
         "yaxis": "y"
        },
        {
         "customdata": [
          [
           "Varus",
           "14.12"
          ],
          [
           "Varus",
           "14.13"
          ],
          [
           "Varus",
           "14.14"
          ],
          [
           "Varus",
           "14.15"
          ],
          [
           "Varus",
           "14.16"
          ],
          [
           "Varus",
           "14.17"
          ],
          [
           "Varus",
           "14.18"
          ],
          [
           "Varus",
           "14.19"
          ],
          [
           "Varus",
           "14.20"
          ],
          [
           "Varus",
           "14.21"
          ],
          [
           "Varus",
           "14.22"
          ],
          [
           "Varus",
           "14.23"
          ],
          [
           "Varus",
           "14.24"
          ],
          [
           "Varus",
           "15.01"
          ],
          [
           "Varus",
           "15.02"
          ],
          [
           "Varus",
           "15.03"
          ],
          [
           "Varus",
           "15.04"
          ],
          [
           "Varus",
           "15.05"
          ],
          [
           "Varus",
           "15.06"
          ],
          [
           "Varus",
           "15.07"
          ]
         ],
         "hovertemplate": "Champion=%{customdata[0]}<br>t-SNE Component 1=%{x}<br>t-SNE Component 2=%{y}<br>Patch=%{customdata[1]}<extra></extra>",
         "legendgroup": "Varus",
         "marker": {
          "color": "#636efa",
          "size": 8,
          "symbol": "circle"
         },
         "mode": "markers",
         "name": "Varus",
         "showlegend": true,
         "type": "scattergl",
         "x": {
          "bdata": "AdIYwpYhH0CuBrtB5c6ZQVzZAkK7ef9AbU4FQvvWBEIqqCnCgV+WP8XWQcL/ojHB65y/wSYXF8LGUcrBwLAWwi5PLsJjihfBKeEqwjk1asA=",
          "dtype": "f4"
         },
         "xaxis": "x",
         "y": {
          "bdata": "+Fe0wTbD1sFsjV/B4nYivy3iq8HXJ2nB//yywWUmv0Dng6VAHD/YQUQXtEGEdJ/BmZSIQcnDA0I8VRDBYCj2QRDG6EEfjsLBwCfoQTmPm0A=",
          "dtype": "f4"
         },
         "yaxis": "y"
        },
        {
         "customdata": [
          [
           "Nautilus",
           "14.12"
          ],
          [
           "Nautilus",
           "14.13"
          ],
          [
           "Nautilus",
           "14.14"
          ],
          [
           "Nautilus",
           "14.15"
          ],
          [
           "Nautilus",
           "14.16"
          ],
          [
           "Nautilus",
           "14.17"
          ],
          [
           "Nautilus",
           "14.18"
          ],
          [
           "Nautilus",
           "14.19"
          ],
          [
           "Nautilus",
           "14.20"
          ],
          [
           "Nautilus",
           "14.21"
          ],
          [
           "Nautilus",
           "14.22"
          ],
          [
           "Nautilus",
           "14.23"
          ],
          [
           "Nautilus",
           "14.24"
          ],
          [
           "Nautilus",
           "15.01"
          ],
          [
           "Nautilus",
           "15.02"
          ],
          [
           "Nautilus",
           "15.03"
          ],
          [
           "Nautilus",
           "15.04"
          ],
          [
           "Nautilus",
           "15.05"
          ],
          [
           "Nautilus",
           "15.06"
          ],
          [
           "Nautilus",
           "15.07"
          ]
         ],
         "hovertemplate": "Champion=%{customdata[0]}<br>t-SNE Component 1=%{x}<br>t-SNE Component 2=%{y}<br>Patch=%{customdata[1]}<extra></extra>",
         "legendgroup": "Nautilus",
         "marker": {
          "color": "#EF553B",
          "size": 8,
          "symbol": "circle"
         },
         "mode": "markers",
         "name": "Nautilus",
         "showlegend": true,
         "type": "scattergl",
         "x": {
          "bdata": "ROyWQbbym0EXB5ZBy1/EQQaMmEFv6Q5CYZAOQsEvjME30DBAPqrWwVM+P0G5qwTCblYQQlHx7UDXblxBBiELQlUWAcK/HmdBI2FDQu+yzEA=",
          "dtype": "f4"
         },
         "xaxis": "x",
         "y": {
          "bdata": "pIsAwu2FAsIOPfjB0TruwVEJ/8H9B5hBK3WWQXtaCcE4GgVB4K+wwe7AEcKkuN3BWFWOQXSQFcI/NTXC8kKVQdlqMMHky2DABWccQQGNJ8A=",
          "dtype": "f4"
         },
         "yaxis": "y"
        },
        {
         "customdata": [
          [
           "Viktor",
           "14.12"
          ],
          [
           "Viktor",
           "14.13"
          ],
          [
           "Viktor",
           "14.14"
          ],
          [
           "Viktor",
           "14.15"
          ],
          [
           "Viktor",
           "14.16"
          ],
          [
           "Viktor",
           "14.17"
          ],
          [
           "Viktor",
           "14.18"
          ],
          [
           "Viktor",
           "14.19"
          ],
          [
           "Viktor",
           "14.20"
          ],
          [
           "Viktor",
           "14.21"
          ],
          [
           "Viktor",
           "14.22"
          ],
          [
           "Viktor",
           "14.23"
          ],
          [
           "Viktor",
           "14.24"
          ],
          [
           "Viktor",
           "15.01"
          ],
          [
           "Viktor",
           "15.02"
          ],
          [
           "Viktor",
           "15.03"
          ],
          [
           "Viktor",
           "15.04"
          ],
          [
           "Viktor",
           "15.05"
          ],
          [
           "Viktor",
           "15.06"
          ],
          [
           "Viktor",
           "15.07"
          ]
         ],
         "hovertemplate": "Champion=%{customdata[0]}<br>t-SNE Component 1=%{x}<br>t-SNE Component 2=%{y}<br>Patch=%{customdata[1]}<extra></extra>",
         "legendgroup": "Viktor",
         "marker": {
          "color": "#00cc96",
          "size": 8,
          "symbol": "circle"
         },
         "mode": "markers",
         "name": "Viktor",
         "showlegend": true,
         "type": "scattergl",
         "x": {
          "bdata": "CdwQwnsfsUF1CB9CE6zYQD7DS8EnZhhAYE8VQi2Tdb51BzVBfrViwVpEr0Ep+W9BzIMqwr0BL8IBNq1BA4gBwDIBu0FvPMk/93GgQVxWzMA=",
          "dtype": "f4"
         },
         "xaxis": "x",
         "y": {
          "bdata": "VjTEQUedoEFG6ZjAdPyBQMgEgMFmATVBe20FQavBEMI68LtB2qDUQScP0cEEM1DB92GQQB0ruEAS/p6/bhLZQSGKlUA0RsRAJLYuwYbYvEA=",
          "dtype": "f4"
         },
         "yaxis": "y"
        },
        {
         "customdata": [
          [
           "Sejuani",
           "14.12"
          ],
          [
           "Sejuani",
           "14.13"
          ],
          [
           "Sejuani",
           "14.14"
          ],
          [
           "Sejuani",
           "14.15"
          ],
          [
           "Sejuani",
           "14.16"
          ],
          [
           "Sejuani",
           "14.17"
          ],
          [
           "Sejuani",
           "14.18"
          ],
          [
           "Sejuani",
           "14.19"
          ],
          [
           "Sejuani",
           "14.20"
          ],
          [
           "Sejuani",
           "14.21"
          ],
          [
           "Sejuani",
           "14.22"
          ],
          [
           "Sejuani",
           "14.23"
          ],
          [
           "Sejuani",
           "14.24"
          ],
          [
           "Sejuani",
           "15.01"
          ],
          [
           "Sejuani",
           "15.02"
          ],
          [
           "Sejuani",
           "15.03"
          ],
          [
           "Sejuani",
           "15.04"
          ],
          [
           "Sejuani",
           "15.05"
          ],
          [
           "Sejuani",
           "15.06"
          ],
          [
           "Sejuani",
           "15.07"
          ]
         ],
         "hovertemplate": "Champion=%{customdata[0]}<br>t-SNE Component 1=%{x}<br>t-SNE Component 2=%{y}<br>Patch=%{customdata[1]}<extra></extra>",
         "legendgroup": "Sejuani",
         "marker": {
          "color": "#ab63fa",
          "size": 8,
          "symbol": "circle"
         },
         "mode": "markers",
         "name": "Sejuani",
         "showlegend": true,
         "type": "scattergl",
         "x": {
          "bdata": "XirzQeBILUFhLLRBClD5QRtLo0GUs/TBjszYwJB0j8FBHg7CnFvXwcM0FMKrY4dBi55QQbdYFsIoMBXAarZPQd4Yp8FIPyFCURrbwUVmMME=",
          "dtype": "f4"
         },
         "xaxis": "x",
         "y": {
          "bdata": "b3oNQilINUIpnivBUvaJwd/YDEI4DPbB5aXUQdcI08HxHvRABOYeQpPKHULeARNC3FMcQpGoF0KFGTlCOF8eQqk2PUK0sn/ACJ1CQFPRmEA=",
          "dtype": "f4"
         },
         "yaxis": "y"
        },
        {
         "customdata": [
          [
           "Fiora",
           "14.12"
          ],
          [
           "Fiora",
           "14.13"
          ],
          [
           "Fiora",
           "14.14"
          ],
          [
           "Fiora",
           "14.15"
          ],
          [
           "Fiora",
           "14.16"
          ],
          [
           "Fiora",
           "14.17"
          ],
          [
           "Fiora",
           "14.18"
          ],
          [
           "Fiora",
           "14.19"
          ],
          [
           "Fiora",
           "14.20"
          ],
          [
           "Fiora",
           "14.21"
          ],
          [
           "Fiora",
           "14.22"
          ],
          [
           "Fiora",
           "14.23"
          ],
          [
           "Fiora",
           "14.24"
          ],
          [
           "Fiora",
           "15.01"
          ],
          [
           "Fiora",
           "15.02"
          ],
          [
           "Fiora",
           "15.03"
          ],
          [
           "Fiora",
           "15.04"
          ],
          [
           "Fiora",
           "15.05"
          ],
          [
           "Fiora",
           "15.06"
          ],
          [
           "Fiora",
           "15.07"
          ]
         ],
         "hovertemplate": "Champion=%{customdata[0]}<br>t-SNE Component 1=%{x}<br>t-SNE Component 2=%{y}<br>Patch=%{customdata[1]}<extra></extra>",
         "legendgroup": "Fiora",
         "marker": {
          "color": "#FFA15A",
          "size": 8,
          "symbol": "circle"
         },
         "mode": "markers",
         "name": "Fiora",
         "showlegend": true,
         "type": "scattergl",
         "x": {
          "bdata": "dRifwTt8ksFt9KbBGKa3QIwYt8FbENPBjhedwJn7j0F1gjzCkzfOwdv1scEK387B6PRcwY1yNT6CvgfAXxOUQU8mRcL/VUDBO0GqwWxZnMA=",
          "dtype": "f4"
         },
         "xaxis": "x",
         "y": {
          "bdata": "GQzPwei0dcHhH+nAFmdLwfGigsHSq6BAlPR9QeSyisG0RRtBE84Fws0GrMATi9tAsNj+wXJBlsHUUIzB7K+LwZjOu0A584rAF7ugwZYMuMA=",
          "dtype": "f4"
         },
         "yaxis": "y"
        },
        {
         "customdata": [
          [
           "Ziggs",
           "14.12"
          ],
          [
           "Ziggs",
           "14.13"
          ],
          [
           "Ziggs",
           "14.14"
          ],
          [
           "Ziggs",
           "14.15"
          ],
          [
           "Ziggs",
           "14.16"
          ],
          [
           "Ziggs",
           "14.17"
          ],
          [
           "Ziggs",
           "14.18"
          ],
          [
           "Ziggs",
           "14.19"
          ],
          [
           "Ziggs",
           "14.20"
          ],
          [
           "Ziggs",
           "14.21"
          ],
          [
           "Ziggs",
           "14.22"
          ],
          [
           "Ziggs",
           "14.23"
          ],
          [
           "Ziggs",
           "14.24"
          ],
          [
           "Ziggs",
           "15.01"
          ],
          [
           "Ziggs",
           "15.02"
          ],
          [
           "Ziggs",
           "15.03"
          ],
          [
           "Ziggs",
           "15.04"
          ],
          [
           "Ziggs",
           "15.05"
          ],
          [
           "Ziggs",
           "15.06"
          ],
          [
           "Ziggs",
           "15.07"
          ]
         ],
         "hovertemplate": "Champion=%{customdata[0]}<br>t-SNE Component 1=%{x}<br>t-SNE Component 2=%{y}<br>Patch=%{customdata[1]}<extra></extra>",
         "legendgroup": "Ziggs",
         "marker": {
          "color": "#19d3f3",
          "size": 8,
          "symbol": "circle"
         },
         "mode": "markers",
         "name": "Ziggs",
         "showlegend": true,
         "type": "scattergl",
         "x": {
          "bdata": "QuFPQhQUhUAFGWPCkWGVQejpXkHSoQLCMO49P/fGSUExH0lCUPJMQdc0G0JuRC7BES6tQIOYSkKjb0XCitdMwfWbt0EPHkNCZWhBQtja4sA=",
          "dtype": "f4"
         },
         "xaxis": "x",
         "y": {
          "bdata": "LNvCwQd/AUK7CGA/rexYQIQ0yEBdItLBk6jcQVNh/MFP8wpBuxPvwYPDh0CjrflBOtYiQcUb6MCslFVBWx7aQEaKOkGCMa5BDx+tQdCFqMA=",
          "dtype": "f4"
         },
         "yaxis": "y"
        },
        {
         "customdata": [
          [
           "Lulu",
           "14.12"
          ],
          [
           "Lulu",
           "14.13"
          ],
          [
           "Lulu",
           "14.14"
          ],
          [
           "Lulu",
           "14.15"
          ],
          [
           "Lulu",
           "14.16"
          ],
          [
           "Lulu",
           "14.17"
          ],
          [
           "Lulu",
           "14.18"
          ],
          [
           "Lulu",
           "14.19"
          ],
          [
           "Lulu",
           "14.20"
          ],
          [
           "Lulu",
           "14.21"
          ],
          [
           "Lulu",
           "14.22"
          ],
          [
           "Lulu",
           "14.23"
          ],
          [
           "Lulu",
           "14.24"
          ],
          [
           "Lulu",
           "15.01"
          ],
          [
           "Lulu",
           "15.02"
          ],
          [
           "Lulu",
           "15.03"
          ],
          [
           "Lulu",
           "15.04"
          ],
          [
           "Lulu",
           "15.05"
          ],
          [
           "Lulu",
           "15.06"
          ],
          [
           "Lulu",
           "15.07"
          ]
         ],
         "hovertemplate": "Champion=%{customdata[0]}<br>t-SNE Component 1=%{x}<br>t-SNE Component 2=%{y}<br>Patch=%{customdata[1]}<extra></extra>",
         "legendgroup": "Lulu",
         "marker": {
          "color": "#FF6692",
          "size": 8,
          "symbol": "circle"
         },
         "mode": "markers",
         "name": "Lulu",
         "showlegend": true,
         "type": "scattergl",
         "x": {
          "bdata": "2uiAwdHwfsEDKoVByADlwQwwCEJ1iSVBuIQCwj7f2MEXitLBBJPRwS4vqL84MQzCe7HlwQ8msEEKBVnBYd0MwZWes0D41yRBlL4BQkqgJsE=",
          "dtype": "f4"
         },
         "xaxis": "x",
         "y": {
          "bdata": "k2A5Qd8jLUES9GhAKbkWwtqkuEGcX9/BmGxEQU+sE8ITNRBADjoIwkiKGUG8W6bB7roWwh4U60EWILhBkacUwii/ycF2LtzBqRmQQXlSWEE=",
          "dtype": "f4"
         },
         "yaxis": "y"
        },
        {
         "customdata": [
          [
           "Draven",
           "14.12"
          ],
          [
           "Draven",
           "14.13"
          ],
          [
           "Draven",
           "14.14"
          ],
          [
           "Draven",
           "14.15"
          ],
          [
           "Draven",
           "14.16"
          ],
          [
           "Draven",
           "14.17"
          ],
          [
           "Draven",
           "14.18"
          ],
          [
           "Draven",
           "14.19"
          ],
          [
           "Draven",
           "14.20"
          ],
          [
           "Draven",
           "14.21"
          ],
          [
           "Draven",
           "14.22"
          ],
          [
           "Draven",
           "14.23"
          ],
          [
           "Draven",
           "14.24"
          ],
          [
           "Draven",
           "15.01"
          ],
          [
           "Draven",
           "15.02"
          ],
          [
           "Draven",
           "15.03"
          ],
          [
           "Draven",
           "15.04"
          ],
          [
           "Draven",
           "15.05"
          ],
          [
           "Draven",
           "15.06"
          ],
          [
           "Draven",
           "15.07"
          ]
         ],
         "hovertemplate": "Champion=%{customdata[0]}<br>t-SNE Component 1=%{x}<br>t-SNE Component 2=%{y}<br>Patch=%{customdata[1]}<extra></extra>",
         "legendgroup": "Draven",
         "marker": {
          "color": "#B6E880",
          "size": 8,
          "symbol": "circle"
         },
         "mode": "markers",
         "name": "Draven",
         "showlegend": true,
         "type": "scattergl",
         "x": {
          "bdata": "iZbpv9a+iMFv6YHBZn6cwUltcsGiBIHBmi3Rwf/rGUGanirCNjfkweeP2cG+NJnBQPvhwdOfqMALqNrB8Au8wQr/DsLeQJfBUZw0wZJs78A=",
          "dtype": "f4"
         },
         "xaxis": "x",
         "y": {
          "bdata": "PdmXQa4BmkHhTplBNNyjQVaqUsFkEplBh5v0wZUWhkDOyglBjQuxwFhXxMCen+JApJdpwFuArsHYhZvAdEidwbN6Z8FXp5nBAv7EwW8FF0E=",
          "dtype": "f4"
         },
         "yaxis": "y"
        },
        {
         "customdata": [
          [
           "Alistar",
           "14.12"
          ],
          [
           "Alistar",
           "14.13"
          ],
          [
           "Alistar",
           "14.14"
          ],
          [
           "Alistar",
           "14.15"
          ],
          [
           "Alistar",
           "14.16"
          ],
          [
           "Alistar",
           "14.17"
          ],
          [
           "Alistar",
           "14.18"
          ],
          [
           "Alistar",
           "14.19"
          ],
          [
           "Alistar",
           "14.20"
          ],
          [
           "Alistar",
           "14.21"
          ],
          [
           "Alistar",
           "14.22"
          ],
          [
           "Alistar",
           "14.23"
          ],
          [
           "Alistar",
           "14.24"
          ],
          [
           "Alistar",
           "15.01"
          ],
          [
           "Alistar",
           "15.02"
          ],
          [
           "Alistar",
           "15.03"
          ],
          [
           "Alistar",
           "15.04"
          ],
          [
           "Alistar",
           "15.05"
          ],
          [
           "Alistar",
           "15.06"
          ],
          [
           "Alistar",
           "15.07"
          ]
         ],
         "hovertemplate": "Champion=%{customdata[0]}<br>t-SNE Component 1=%{x}<br>t-SNE Component 2=%{y}<br>Patch=%{customdata[1]}<extra></extra>",
         "legendgroup": "Alistar",
         "marker": {
          "color": "#FF97FF",
          "size": 8,
          "symbol": "circle"
         },
         "mode": "markers",
         "name": "Alistar",
         "showlegend": true,
         "type": "scattergl",
         "x": {
          "bdata": "NqYkwVvbh8FAz4NBgmhVQlSNHUKgW/dBKVyLQa3JfEEeu5FBp7nNQRiZNEGNERRBzd6zQZZcjEEFdfxBDf/5QeMjvsATi2hB/xcuwZi3hkE=",
          "dtype": "f4"
         },
         "xaxis": "x",
         "y": {
          "bdata": "M6AJwtXuGsKTmkvC4u1SwcBQh8Hi0MbA58RMwnX1IEHZRAjCTakAwqi2fEFSUQLCHxbxwES9EUFqqbnAFOmfwEE+YsAx4B5Cexf4wSvaH0E=",
          "dtype": "f4"
         },
         "yaxis": "y"
        },
        {
         "customdata": [
          [
           "Hecarim",
           "14.12"
          ],
          [
           "Hecarim",
           "14.13"
          ],
          [
           "Hecarim",
           "14.14"
          ],
          [
           "Hecarim",
           "14.15"
          ],
          [
           "Hecarim",
           "14.16"
          ],
          [
           "Hecarim",
           "14.17"
          ],
          [
           "Hecarim",
           "14.18"
          ],
          [
           "Hecarim",
           "14.19"
          ],
          [
           "Hecarim",
           "14.20"
          ],
          [
           "Hecarim",
           "14.21"
          ],
          [
           "Hecarim",
           "14.22"
          ],
          [
           "Hecarim",
           "14.23"
          ],
          [
           "Hecarim",
           "14.24"
          ],
          [
           "Hecarim",
           "15.01"
          ],
          [
           "Hecarim",
           "15.02"
          ],
          [
           "Hecarim",
           "15.03"
          ],
          [
           "Hecarim",
           "15.04"
          ],
          [
           "Hecarim",
           "15.05"
          ],
          [
           "Hecarim",
           "15.06"
          ],
          [
           "Hecarim",
           "15.07"
          ]
         ],
         "hovertemplate": "Champion=%{customdata[0]}<br>t-SNE Component 1=%{x}<br>t-SNE Component 2=%{y}<br>Patch=%{customdata[1]}<extra></extra>",
         "legendgroup": "Hecarim",
         "marker": {
          "color": "#FECB52",
          "size": 8,
          "symbol": "circle"
         },
         "mode": "markers",
         "name": "Hecarim",
         "showlegend": true,
         "type": "scattergl",
         "x": {
          "bdata": "fONowFn4JEGdntDBnTk3QASwwEGLnuBBBoEKwr7d5EEq30nBzhzmwFO9AMG92ndBJ9LmQdQpvUHwVkJASR3tvqle5UDRP5xBKS2aQKKwcMA=",
          "dtype": "f4"
         },
         "xaxis": "x",
         "y": {
          "bdata": "TY0kwQqKOEI0+RpCfOwlQs6suEG5u71B1s4SQctu2MEDw5NB1NCAQfQ1QcHQaYrBPhG6QbP4sUELNBpCC9djvwHK00F+ek3Bz7OEQXk+esA=",
          "dtype": "f4"
         },
         "yaxis": "y"
        },
        {
         "customdata": [
          [
           "Kha'Zix",
           "14.12"
          ],
          [
           "Kha'Zix",
           "14.13"
          ],
          [
           "Kha'Zix",
           "14.14"
          ],
          [
           "Kha'Zix",
           "14.15"
          ],
          [
           "Kha'Zix",
           "14.16"
          ],
          [
           "Kha'Zix",
           "14.17"
          ],
          [
           "Kha'Zix",
           "14.18"
          ],
          [
           "Kha'Zix",
           "14.19"
          ],
          [
           "Kha'Zix",
           "14.20"
          ],
          [
           "Kha'Zix",
           "14.21"
          ],
          [
           "Kha'Zix",
           "14.22"
          ],
          [
           "Kha'Zix",
           "14.23"
          ],
          [
           "Kha'Zix",
           "14.24"
          ],
          [
           "Kha'Zix",
           "15.01"
          ],
          [
           "Kha'Zix",
           "15.02"
          ],
          [
           "Kha'Zix",
           "15.03"
          ],
          [
           "Kha'Zix",
           "15.04"
          ],
          [
           "Kha'Zix",
           "15.05"
          ],
          [
           "Kha'Zix",
           "15.06"
          ],
          [
           "Kha'Zix",
           "15.07"
          ]
         ],
         "hovertemplate": "Champion=%{customdata[0]}<br>t-SNE Component 1=%{x}<br>t-SNE Component 2=%{y}<br>Patch=%{customdata[1]}<extra></extra>",
         "legendgroup": "Kha'Zix",
         "marker": {
          "color": "#636efa",
          "size": 8,
          "symbol": "circle"
         },
         "mode": "markers",
         "name": "Kha'Zix",
         "showlegend": true,
         "type": "scattergl",
         "x": {
          "bdata": "X4LFQXG0UkEqIzRC2F+AQZjxXUEbVGFBGt3KQWwVgUGH0gNCcF9zwb0RmUF72JZB1nsEQlF31UFOt4dBWfWgQN6F+EHeQ/VBkTv/QVXZokE=",
          "dtype": "f4"
         },
         "xaxis": "x",
         "y": {
          "bdata": "q+M3QRUik0G/tUFBf2hDQtDAQEJYQEJCImGEQQ9MlsD79ANCSh59Qf5fMEKcCxg/RAsDQlNsosE+VPu/EX08QK94HcL6oL7Bts5cwUXdmcA=",
          "dtype": "f4"
         },
         "yaxis": "y"
        },
        {
         "customdata": [
          [
           "Darius",
           "14.12"
          ],
          [
           "Darius",
           "14.13"
          ],
          [
           "Darius",
           "14.14"
          ],
          [
           "Darius",
           "14.15"
          ],
          [
           "Darius",
           "14.16"
          ],
          [
           "Darius",
           "14.17"
          ],
          [
           "Darius",
           "14.18"
          ],
          [
           "Darius",
           "14.19"
          ],
          [
           "Darius",
           "14.20"
          ],
          [
           "Darius",
           "14.21"
          ],
          [
           "Darius",
           "14.22"
          ],
          [
           "Darius",
           "14.23"
          ],
          [
           "Darius",
           "14.24"
          ],
          [
           "Darius",
           "15.01"
          ],
          [
           "Darius",
           "15.02"
          ],
          [
           "Darius",
           "15.03"
          ],
          [
           "Darius",
           "15.04"
          ],
          [
           "Darius",
           "15.05"
          ],
          [
           "Darius",
           "15.06"
          ],
          [
           "Darius",
           "15.07"
          ]
         ],
         "hovertemplate": "Champion=%{customdata[0]}<br>t-SNE Component 1=%{x}<br>t-SNE Component 2=%{y}<br>Patch=%{customdata[1]}<extra></extra>",
         "legendgroup": "Darius",
         "marker": {
          "color": "#EF553B",
          "size": 8,
          "symbol": "circle"
         },
         "mode": "markers",
         "name": "Darius",
         "showlegend": true,
         "type": "scattergl",
         "x": {
          "bdata": "F/bAwbKuqUFNE7tBCfexQYSzN8IuSb6+GBFWQAm7UUAZbrRAwQscQs30rEEf2yBC86ZmQVrhWcFhWXZBjljKwTWIPEHWdDNBdnuYQT3/e0E=",
          "dtype": "f4"
         },
         "xaxis": "x",
         "y": {
          "bdata": "tNbyQF/8FMJlhQ/C1sUPwhRgO0CLNHFBkYpdwr7SXcImIqVAfk58QeYq60GJ2tDBCLSbQZlEjkBcj0nBKoAZQosNPEKCrz9CToKrwVkQXkE=",
          "dtype": "f4"
         },
         "yaxis": "y"
        },
        {
         "customdata": [
          [
           "Jayce",
           "14.12"
          ],
          [
           "Jayce",
           "14.13"
          ],
          [
           "Jayce",
           "14.14"
          ],
          [
           "Jayce",
           "14.15"
          ],
          [
           "Jayce",
           "14.16"
          ],
          [
           "Jayce",
           "14.17"
          ],
          [
           "Jayce",
           "14.18"
          ],
          [
           "Jayce",
           "14.19"
          ],
          [
           "Jayce",
           "14.20"
          ],
          [
           "Jayce",
           "14.21"
          ],
          [
           "Jayce",
           "14.22"
          ],
          [
           "Jayce",
           "14.23"
          ],
          [
           "Jayce",
           "14.24"
          ],
          [
           "Jayce",
           "15.01"
          ],
          [
           "Jayce",
           "15.02"
          ],
          [
           "Jayce",
           "15.03"
          ],
          [
           "Jayce",
           "15.04"
          ],
          [
           "Jayce",
           "15.05"
          ],
          [
           "Jayce",
           "15.06"
          ],
          [
           "Jayce",
           "15.07"
          ]
         ],
         "hovertemplate": "Champion=%{customdata[0]}<br>t-SNE Component 1=%{x}<br>t-SNE Component 2=%{y}<br>Patch=%{customdata[1]}<extra></extra>",
         "legendgroup": "Jayce",
         "marker": {
          "color": "#00cc96",
          "size": 8,
          "symbol": "circle"
         },
         "mode": "markers",
         "name": "Jayce",
         "showlegend": true,
         "type": "scattergl",
         "x": {
          "bdata": "t7dVQjmHtcElQSrCOZjGweDLVkIiI7dBu9P6wdk1H8K2zubBjrTqwT47P8IsdIpBFrO7QRVTGUIH+Cg/q7HMwI3PycGYaBvCjuM0wjEFtMA=",
          "dtype": "f4"
         },
         "xaxis": "x",
         "y": {
          "bdata": "af/cwKcxW0EV67zBRZ6CwNByPkG97wJBRJ4cQTNFvEH3/SLBKSWMwWmo079Tbq/B/WlLQdjJIcH52PzBi4MNwiocysElwcjBVCtBvt7vOEA=",
          "dtype": "f4"
         },
         "yaxis": "y"
        },
        {
         "customdata": [
          [
           "Lissandra",
           "14.12"
          ],
          [
           "Lissandra",
           "14.13"
          ],
          [
           "Lissandra",
           "14.14"
          ],
          [
           "Lissandra",
           "14.15"
          ],
          [
           "Lissandra",
           "14.16"
          ],
          [
           "Lissandra",
           "14.17"
          ],
          [
           "Lissandra",
           "14.18"
          ],
          [
           "Lissandra",
           "14.19"
          ],
          [
           "Lissandra",
           "14.20"
          ],
          [
           "Lissandra",
           "14.21"
          ],
          [
           "Lissandra",
           "14.22"
          ],
          [
           "Lissandra",
           "14.23"
          ],
          [
           "Lissandra",
           "14.24"
          ],
          [
           "Lissandra",
           "15.01"
          ],
          [
           "Lissandra",
           "15.02"
          ],
          [
           "Lissandra",
           "15.03"
          ],
          [
           "Lissandra",
           "15.04"
          ],
          [
           "Lissandra",
           "15.05"
          ],
          [
           "Lissandra",
           "15.06"
          ],
          [
           "Lissandra",
           "15.07"
          ]
         ],
         "hovertemplate": "Champion=%{customdata[0]}<br>t-SNE Component 1=%{x}<br>t-SNE Component 2=%{y}<br>Patch=%{customdata[1]}<extra></extra>",
         "legendgroup": "Lissandra",
         "marker": {
          "color": "#ab63fa",
          "size": 8,
          "symbol": "circle"
         },
         "mode": "markers",
         "name": "Lissandra",
         "showlegend": true,
         "type": "scattergl",
         "x": {
          "bdata": "rT5YQGtDqEGrqg3CGDoRQVl0H0Jm1ifChw7gwSs7hsH6aHnBtldQQYu4CkI7wh7C8Vt2QUcSWcHGa9lBDk8EQoPvJsLXs0BCXXgtQc6IysA=",
          "dtype": "f4"
         },
         "xaxis": "x",
         "y": {
          "bdata": "+hOHwMmWhcFa3KNAQBKCQT0QoMDceu1B7ooXwfN+E0JTrBvCa3HBwH4ht0FPLv9BDSXAwcSNyMHUZAbBZP6pPx1XoUBjYNW+Zi1AwdkD2r4=",
          "dtype": "f4"
         },
         "yaxis": "y"
        },
        {
         "customdata": [
          [
           "Ryze",
           "14.12"
          ],
          [
           "Ryze",
           "14.13"
          ],
          [
           "Ryze",
           "14.14"
          ],
          [
           "Ryze",
           "14.15"
          ],
          [
           "Ryze",
           "14.16"
          ],
          [
           "Ryze",
           "14.17"
          ],
          [
           "Ryze",
           "14.18"
          ],
          [
           "Ryze",
           "14.19"
          ],
          [
           "Ryze",
           "14.20"
          ],
          [
           "Ryze",
           "14.21"
          ],
          [
           "Ryze",
           "14.22"
          ],
          [
           "Ryze",
           "14.23"
          ],
          [
           "Ryze",
           "14.24"
          ],
          [
           "Ryze",
           "15.01"
          ],
          [
           "Ryze",
           "15.02"
          ],
          [
           "Ryze",
           "15.03"
          ],
          [
           "Ryze",
           "15.04"
          ],
          [
           "Ryze",
           "15.05"
          ],
          [
           "Ryze",
           "15.06"
          ],
          [
           "Ryze",
           "15.07"
          ]
         ],
         "hovertemplate": "Champion=%{customdata[0]}<br>t-SNE Component 1=%{x}<br>t-SNE Component 2=%{y}<br>Patch=%{customdata[1]}<extra></extra>",
         "legendgroup": "Ryze",
         "marker": {
          "color": "#FFA15A",
          "size": 8,
          "symbol": "circle"
         },
         "mode": "markers",
         "name": "Ryze",
         "showlegend": true,
         "type": "scattergl",
         "x": {
          "bdata": "QwY3QqDkP0KoDTNCLroeQu1TsUE5CR1C5PqgQfUclsAo78RBqfwkQa37BUItH4NBecpewS42DUEdsKzAaDQDwlICEsJufijBTeQEwmC21kA=",
          "dtype": "f4"
         },
         "xaxis": "x",
         "y": {
          "bdata": "E6IfQZHtgkE1ER1BbZFLwbJcAcKAuEjBJDwQwcA74MFCvKfBJZWnwQ5QT0Epds/BdvnDP6xTpb+J1+XBeWyBwfIeSME0MITAhk+NPoYqdD8=",
          "dtype": "f4"
         },
         "yaxis": "y"
        },
        {
         "customdata": [
          [
           "Diana",
           "14.12"
          ],
          [
           "Diana",
           "14.13"
          ],
          [
           "Diana",
           "14.14"
          ],
          [
           "Diana",
           "14.15"
          ],
          [
           "Diana",
           "14.16"
          ],
          [
           "Diana",
           "14.17"
          ],
          [
           "Diana",
           "14.18"
          ],
          [
           "Diana",
           "14.19"
          ],
          [
           "Diana",
           "14.20"
          ],
          [
           "Diana",
           "14.21"
          ],
          [
           "Diana",
           "14.22"
          ],
          [
           "Diana",
           "14.23"
          ],
          [
           "Diana",
           "14.24"
          ],
          [
           "Diana",
           "15.01"
          ],
          [
           "Diana",
           "15.02"
          ],
          [
           "Diana",
           "15.03"
          ],
          [
           "Diana",
           "15.04"
          ],
          [
           "Diana",
           "15.05"
          ],
          [
           "Diana",
           "15.06"
          ],
          [
           "Diana",
           "15.07"
          ]
         ],
         "hovertemplate": "Champion=%{customdata[0]}<br>t-SNE Component 1=%{x}<br>t-SNE Component 2=%{y}<br>Patch=%{customdata[1]}<extra></extra>",
         "legendgroup": "Diana",
         "marker": {
          "color": "#19d3f3",
          "size": 8,
          "symbol": "circle"
         },
         "mode": "markers",
         "name": "Diana",
         "showlegend": true,
         "type": "scattergl",
         "x": {
          "bdata": "DO7+waH20sFdxbFB6CH4QVZ5QsKr1N4+0R8xwgvs/cHDpjTCbNGkwRaRz8EfrKfA4iGXwa1YqkDh9LtBMCr7PxPsfj9WftjBu50/wglANkE=",
          "dtype": "f4"
         },
         "xaxis": "x",
         "y": {
          "bdata": "8MMBwtKlb0DibMxBhcgFwgUrlsHilQPCDhrIwcCPFcI8N7nBmkUYQfO09cEhQhVCNdAZQVIhFELZXfZB8L89Qt9NhMF0huzBc/9Pwe+ujkA=",
          "dtype": "f4"
         },
         "yaxis": "y"
        },
        {
         "customdata": [
          [
           "Quinn",
           "14.12"
          ],
          [
           "Quinn",
           "14.13"
          ],
          [
           "Quinn",
           "14.14"
          ],
          [
           "Quinn",
           "14.15"
          ],
          [
           "Quinn",
           "14.16"
          ],
          [
           "Quinn",
           "14.17"
          ],
          [
           "Quinn",
           "14.18"
          ],
          [
           "Quinn",
           "14.19"
          ],
          [
           "Quinn",
           "14.20"
          ],
          [
           "Quinn",
           "14.21"
          ],
          [
           "Quinn",
           "14.22"
          ],
          [
           "Quinn",
           "14.23"
          ],
          [
           "Quinn",
           "14.24"
          ],
          [
           "Quinn",
           "15.01"
          ],
          [
           "Quinn",
           "15.02"
          ],
          [
           "Quinn",
           "15.03"
          ],
          [
           "Quinn",
           "15.04"
          ],
          [
           "Quinn",
           "15.05"
          ],
          [
           "Quinn",
           "15.06"
          ],
          [
           "Quinn",
           "15.07"
          ]
         ],
         "hovertemplate": "Champion=%{customdata[0]}<br>t-SNE Component 1=%{x}<br>t-SNE Component 2=%{y}<br>Patch=%{customdata[1]}<extra></extra>",
         "legendgroup": "Quinn",
         "marker": {
          "color": "#FF6692",
          "size": 8,
          "symbol": "circle"
         },
         "mode": "markers",
         "name": "Quinn",
         "showlegend": true,
         "type": "scattergl",
         "x": {
          "bdata": "WpsBwe3UWUITmB9CugnHwRb2ScIh7zrCJp43wg48z0Hwm7LACq1TwhvHNMKrzo+/p/ONQay/EUI+jwLCSCJHwnla0MG6M/fA6/hMwkMzy8A=",
          "dtype": "f4"
         },
         "xaxis": "x",
         "y": {
          "bdata": "VxWlwYc56MA/MnZBS8JjQc1YekHUoOa+bfczwUzgfMGVCGpAoZwkwcxPcMFIgEbChJW6wWCSVsGLzQJBX3jGQN5Ua8Gvg67BmmKYwD1RpUA=",
          "dtype": "f4"
         },
         "yaxis": "y"
        },
        {
         "customdata": [
          [
           "Syndra",
           "14.12"
          ],
          [
           "Syndra",
           "14.13"
          ],
          [
           "Syndra",
           "14.14"
          ],
          [
           "Syndra",
           "14.15"
          ],
          [
           "Syndra",
           "14.16"
          ],
          [
           "Syndra",
           "14.17"
          ],
          [
           "Syndra",
           "14.18"
          ],
          [
           "Syndra",
           "14.19"
          ],
          [
           "Syndra",
           "14.20"
          ],
          [
           "Syndra",
           "14.21"
          ],
          [
           "Syndra",
           "14.22"
          ],
          [
           "Syndra",
           "14.23"
          ],
          [
           "Syndra",
           "14.24"
          ],
          [
           "Syndra",
           "15.01"
          ],
          [
           "Syndra",
           "15.02"
          ],
          [
           "Syndra",
           "15.03"
          ],
          [
           "Syndra",
           "15.04"
          ],
          [
           "Syndra",
           "15.05"
          ],
          [
           "Syndra",
           "15.06"
          ],
          [
           "Syndra",
           "15.07"
          ]
         ],
         "hovertemplate": "Champion=%{customdata[0]}<br>t-SNE Component 1=%{x}<br>t-SNE Component 2=%{y}<br>Patch=%{customdata[1]}<extra></extra>",
         "legendgroup": "Syndra",
         "marker": {
          "color": "#B6E880",
          "size": 8,
          "symbol": "circle"
         },
         "mode": "markers",
         "name": "Syndra",
         "showlegend": true,
         "type": "scattergl",
         "x": {
          "bdata": "sJ8AQqy2AkKRP+lBwJRWQQS2ykGiX9XAV406wu9/oMHweIbAGOwhwntkJUEqWWHBL6syQYichMGvx4HBLiZVQSqNncF41rPBri8XwdV+I8A=",
          "dtype": "f4"
         },
         "xaxis": "x",
         "y": {
          "bdata": "cMc2wOhQXMBiHMC/VntYQfYBxkHKq1bBQqCSwL/9nkFwUYpAvxIPQYX62T90nabBsP6FQTLuKECnsvBArS8GQPGK+0F9T6tBD8kWv8L3nMA=",
          "dtype": "f4"
         },
         "yaxis": "y"
        },
        {
         "customdata": [
          [
           "Aurelion Sol",
           "14.12"
          ],
          [
           "Aurelion Sol",
           "14.13"
          ],
          [
           "Aurelion Sol",
           "14.14"
          ],
          [
           "Aurelion Sol",
           "14.15"
          ],
          [
           "Aurelion Sol",
           "14.16"
          ],
          [
           "Aurelion Sol",
           "14.17"
          ],
          [
           "Aurelion Sol",
           "14.18"
          ],
          [
           "Aurelion Sol",
           "14.19"
          ],
          [
           "Aurelion Sol",
           "14.20"
          ],
          [
           "Aurelion Sol",
           "14.21"
          ],
          [
           "Aurelion Sol",
           "14.22"
          ],
          [
           "Aurelion Sol",
           "14.23"
          ],
          [
           "Aurelion Sol",
           "14.24"
          ],
          [
           "Aurelion Sol",
           "15.01"
          ],
          [
           "Aurelion Sol",
           "15.02"
          ],
          [
           "Aurelion Sol",
           "15.03"
          ],
          [
           "Aurelion Sol",
           "15.04"
          ],
          [
           "Aurelion Sol",
           "15.05"
          ],
          [
           "Aurelion Sol",
           "15.06"
          ],
          [
           "Aurelion Sol",
           "15.07"
          ]
         ],
         "hovertemplate": "Champion=%{customdata[0]}<br>t-SNE Component 1=%{x}<br>t-SNE Component 2=%{y}<br>Patch=%{customdata[1]}<extra></extra>",
         "legendgroup": "Aurelion Sol",
         "marker": {
          "color": "#FF97FF",
          "size": 8,
          "symbol": "circle"
         },
         "mode": "markers",
         "name": "Aurelion Sol",
         "showlegend": true,
         "type": "scattergl",
         "x": {
          "bdata": "RWDlQeUg8EHjbSTCTqaqwd5UKEKF3TjCxDUCQDgKhEG6Dy/CM9mnvs4Qh8Ex47FBi9NdQdr2Tb/lY1C/62XuQP4BdL+9KIBBdMdiwZy/3UA=",
          "dtype": "f4"
         },
         "xaxis": "x",
         "y": {
          "bdata": "oUfPv16p4b8qYpS8JE43wpLYtD9yoIfAaYkFwIcT0MHdcMnAIe/CwTGZ00HXqPnB7wg1wh480cEdbdPBECKlwXTlqcF/SqXAUJA2QqfSqb8=",
          "dtype": "f4"
         },
         "yaxis": "y"
        },
        {
         "customdata": [
          [
           "Sion",
           "14.12"
          ],
          [
           "Sion",
           "14.13"
          ],
          [
           "Sion",
           "14.14"
          ],
          [
           "Sion",
           "14.15"
          ],
          [
           "Sion",
           "14.16"
          ],
          [
           "Sion",
           "14.17"
          ],
          [
           "Sion",
           "14.18"
          ],
          [
           "Sion",
           "14.19"
          ],
          [
           "Sion",
           "14.20"
          ],
          [
           "Sion",
           "14.21"
          ],
          [
           "Sion",
           "14.22"
          ],
          [
           "Sion",
           "14.23"
          ],
          [
           "Sion",
           "14.24"
          ],
          [
           "Sion",
           "15.01"
          ],
          [
           "Sion",
           "15.02"
          ],
          [
           "Sion",
           "15.03"
          ],
          [
           "Sion",
           "15.04"
          ],
          [
           "Sion",
           "15.05"
          ],
          [
           "Sion",
           "15.06"
          ],
          [
           "Sion",
           "15.07"
          ]
         ],
         "hovertemplate": "Champion=%{customdata[0]}<br>t-SNE Component 1=%{x}<br>t-SNE Component 2=%{y}<br>Patch=%{customdata[1]}<extra></extra>",
         "legendgroup": "Sion",
         "marker": {
          "color": "#FECB52",
          "size": 8,
          "symbol": "circle"
         },
         "mode": "markers",
         "name": "Sion",
         "showlegend": true,
         "type": "scattergl",
         "x": {
          "bdata": "qaQbQQhaoUH0Bk5C5uA/Qn3IP0HnhIJBQ18NwvB/F8FX0ypBs75lQszPocEE78zBX630QI7XCMIJ53hB4KJdQEp0UMIvYRRB82Q4wfDwN8E=",
          "dtype": "f4"
         },
         "xaxis": "x",
         "y": {
          "bdata": "aZPEwcdC+kGO5N1AWDRUwGr97kDeWRnCRXWqwTgsKMLfLhJC6+wEwdjpucHcIJdBHIXrwaEerEFUw1VCE2EnwgY7gsG42wHCqNHEwA2Qzr8=",
          "dtype": "f4"
         },
         "yaxis": "y"
        },
        {
         "customdata": [
          [
           "Kayn",
           "14.12"
          ],
          [
           "Kayn",
           "14.13"
          ],
          [
           "Kayn",
           "14.14"
          ],
          [
           "Kayn",
           "14.15"
          ],
          [
           "Kayn",
           "14.16"
          ],
          [
           "Kayn",
           "14.17"
          ],
          [
           "Kayn",
           "14.18"
          ],
          [
           "Kayn",
           "14.19"
          ],
          [
           "Kayn",
           "14.20"
          ],
          [
           "Kayn",
           "14.21"
          ],
          [
           "Kayn",
           "14.22"
          ],
          [
           "Kayn",
           "14.23"
          ],
          [
           "Kayn",
           "14.24"
          ],
          [
           "Kayn",
           "15.01"
          ],
          [
           "Kayn",
           "15.02"
          ],
          [
           "Kayn",
           "15.03"
          ],
          [
           "Kayn",
           "15.04"
          ],
          [
           "Kayn",
           "15.05"
          ],
          [
           "Kayn",
           "15.06"
          ],
          [
           "Kayn",
           "15.07"
          ]
         ],
         "hovertemplate": "Champion=%{customdata[0]}<br>t-SNE Component 1=%{x}<br>t-SNE Component 2=%{y}<br>Patch=%{customdata[1]}<extra></extra>",
         "legendgroup": "Kayn",
         "marker": {
          "color": "#636efa",
          "size": 8,
          "symbol": "circle"
         },
         "mode": "markers",
         "name": "Kayn",
         "showlegend": true,
         "type": "scattergl",
         "x": {
          "bdata": "5oekwebpNcEkIJVBLAS2QURhEkJ6lwJCH4DJQMp+JUL/HD5BtHqOwMxl+MAIPbRBVBMSweejQcIq6gnA1O9xQQEu9UALy1LBeERQwYHpG8E=",
          "dtype": "f4"
         },
         "xaxis": "x",
         "y": {
          "bdata": "ZDT0P3vg2UDSHKtBk3WvP2wXvcFNCgZCSt4FQpt6r789rI7BRr2Tv0wz40HWWLFBH/i6QQuxm0CG+lNBO/wAweWPPEIuuT5Ceq4+QmgxrUA=",
          "dtype": "f4"
         },
         "yaxis": "y"
        },
        {
         "customdata": [
          [
           "Zoe",
           "14.12"
          ],
          [
           "Zoe",
           "14.13"
          ],
          [
           "Zoe",
           "14.14"
          ],
          [
           "Zoe",
           "14.15"
          ],
          [
           "Zoe",
           "14.16"
          ],
          [
           "Zoe",
           "14.17"
          ],
          [
           "Zoe",
           "14.18"
          ],
          [
           "Zoe",
           "14.19"
          ],
          [
           "Zoe",
           "14.20"
          ],
          [
           "Zoe",
           "14.21"
          ],
          [
           "Zoe",
           "14.22"
          ],
          [
           "Zoe",
           "14.23"
          ],
          [
           "Zoe",
           "14.24"
          ],
          [
           "Zoe",
           "15.01"
          ],
          [
           "Zoe",
           "15.02"
          ],
          [
           "Zoe",
           "15.03"
          ],
          [
           "Zoe",
           "15.04"
          ],
          [
           "Zoe",
           "15.05"
          ],
          [
           "Zoe",
           "15.06"
          ],
          [
           "Zoe",
           "15.07"
          ]
         ],
         "hovertemplate": "Champion=%{customdata[0]}<br>t-SNE Component 1=%{x}<br>t-SNE Component 2=%{y}<br>Patch=%{customdata[1]}<extra></extra>",
         "legendgroup": "Zoe",
         "marker": {
          "color": "#EF553B",
          "size": 8,
          "symbol": "circle"
         },
         "mode": "markers",
         "name": "Zoe",
         "showlegend": true,
         "type": "scattergl",
         "x": {
          "bdata": "0VqeQRLX50EPkYRBcZSRv7wG0MHuZFTBxhwtwtnA7r+Ur5DBtAyAwUJlpMFMXubBubuHwZLxJkGTMjZBgSaHQPRqxkExKpTBaZGywWI86Tw=",
          "dtype": "f4"
         },
         "xaxis": "x",
         "y": {
          "bdata": "Wo8hQZmcBsExMKzBgyQRwi0czsFZZTHCInjtwSNeIcJ5m/XBIHwUwik078HyeNXBid67weSh5MEvIhbCFWULwv/mxkA7esfAwnEewh/nZsE=",
          "dtype": "f4"
         },
         "yaxis": "y"
        },
        {
         "customdata": [
          [
           "Zyra",
           "14.12"
          ],
          [
           "Zyra",
           "14.13"
          ],
          [
           "Zyra",
           "14.14"
          ],
          [
           "Zyra",
           "14.15"
          ],
          [
           "Zyra",
           "14.16"
          ],
          [
           "Zyra",
           "14.17"
          ],
          [
           "Zyra",
           "14.18"
          ],
          [
           "Zyra",
           "14.19"
          ],
          [
           "Zyra",
           "14.20"
          ],
          [
           "Zyra",
           "14.21"
          ],
          [
           "Zyra",
           "14.22"
          ],
          [
           "Zyra",
           "14.23"
          ],
          [
           "Zyra",
           "14.24"
          ],
          [
           "Zyra",
           "15.01"
          ],
          [
           "Zyra",
           "15.02"
          ],
          [
           "Zyra",
           "15.03"
          ],
          [
           "Zyra",
           "15.04"
          ],
          [
           "Zyra",
           "15.05"
          ],
          [
           "Zyra",
           "15.06"
          ],
          [
           "Zyra",
           "15.07"
          ]
         ],
         "hovertemplate": "Champion=%{customdata[0]}<br>t-SNE Component 1=%{x}<br>t-SNE Component 2=%{y}<br>Patch=%{customdata[1]}<extra></extra>",
         "legendgroup": "Zyra",
         "marker": {
          "color": "#00cc96",
          "size": 8,
          "symbol": "circle"
         },
         "mode": "markers",
         "name": "Zyra",
         "showlegend": true,
         "type": "scattergl",
         "x": {
          "bdata": "uag8QaC7p0H6xwRCr52lQfVQhkByN0RBOxqOwJGscUBhn7xB0w/wQcRLYMFu19FAZjQlQTSrYkG6NS9AOnjpQcKA/kDM2vQ//RFEQLvoYEE=",
          "dtype": "f4"
         },
         "xaxis": "x",
         "y": {
          "bdata": "gcuqwc5omEBBWg/CUUZHwPFRvMElstLBcA05wr+2vEHDcR5CXbA9wVyE8UE0QsNBBlYeQk36zkGe6mVAQgtDQSBNUMEf17nAx+7KQSXscj8=",
          "dtype": "f4"
         },
         "yaxis": "y"
        },
        {
         "customdata": [
          [
           "Kai'Sa",
           "14.12"
          ],
          [
           "Kai'Sa",
           "14.13"
          ],
          [
           "Kai'Sa",
           "14.14"
          ],
          [
           "Kai'Sa",
           "14.15"
          ],
          [
           "Kai'Sa",
           "14.16"
          ],
          [
           "Kai'Sa",
           "14.17"
          ],
          [
           "Kai'Sa",
           "14.18"
          ],
          [
           "Kai'Sa",
           "14.19"
          ],
          [
           "Kai'Sa",
           "14.20"
          ],
          [
           "Kai'Sa",
           "14.21"
          ],
          [
           "Kai'Sa",
           "14.22"
          ],
          [
           "Kai'Sa",
           "14.23"
          ],
          [
           "Kai'Sa",
           "14.24"
          ],
          [
           "Kai'Sa",
           "15.01"
          ],
          [
           "Kai'Sa",
           "15.02"
          ],
          [
           "Kai'Sa",
           "15.03"
          ],
          [
           "Kai'Sa",
           "15.04"
          ],
          [
           "Kai'Sa",
           "15.05"
          ],
          [
           "Kai'Sa",
           "15.06"
          ],
          [
           "Kai'Sa",
           "15.07"
          ]
         ],
         "hovertemplate": "Champion=%{customdata[0]}<br>t-SNE Component 1=%{x}<br>t-SNE Component 2=%{y}<br>Patch=%{customdata[1]}<extra></extra>",
         "legendgroup": "Kai'Sa",
         "marker": {
          "color": "#ab63fa",
          "size": 8,
          "symbol": "circle"
         },
         "mode": "markers",
         "name": "Kai'Sa",
         "showlegend": true,
         "type": "scattergl",
         "x": {
          "bdata": "qUPgwcV758EXEejBUvPpwb/W2MHW7vnBsLfOwZBNk8HY/pjB7dlLQiqeFUIc1JhBLHZJQbRxTUG85ytCLsJTQkxQU0Iy1DlC4OIXQr7JWL8=",
          "dtype": "f4"
         },
         "xaxis": "x",
         "y": {
          "bdata": "Hl+nQdfzmEGIKphBfJemQfH85kFRxIpBZh23QU2GzUFvctlB3ZbrwBg2hMH3VE1BnpnHQL53pMGeEoLBsIGMwRT6bMHPzQnB+/08P0inCD8=",
          "dtype": "f4"
         },
         "yaxis": "y"
        },
        {
         "customdata": [
          [
           "Seraphine",
           "14.12"
          ],
          [
           "Seraphine",
           "14.13"
          ],
          [
           "Seraphine",
           "14.14"
          ],
          [
           "Seraphine",
           "14.15"
          ],
          [
           "Seraphine",
           "14.16"
          ],
          [
           "Seraphine",
           "14.17"
          ],
          [
           "Seraphine",
           "14.18"
          ],
          [
           "Seraphine",
           "14.19"
          ],
          [
           "Seraphine",
           "14.20"
          ],
          [
           "Seraphine",
           "14.21"
          ],
          [
           "Seraphine",
           "14.22"
          ],
          [
           "Seraphine",
           "14.23"
          ],
          [
           "Seraphine",
           "14.24"
          ],
          [
           "Seraphine",
           "15.01"
          ],
          [
           "Seraphine",
           "15.02"
          ],
          [
           "Seraphine",
           "15.03"
          ],
          [
           "Seraphine",
           "15.04"
          ],
          [
           "Seraphine",
           "15.05"
          ],
          [
           "Seraphine",
           "15.06"
          ],
          [
           "Seraphine",
           "15.07"
          ]
         ],
         "hovertemplate": "Champion=%{customdata[0]}<br>t-SNE Component 1=%{x}<br>t-SNE Component 2=%{y}<br>Patch=%{customdata[1]}<extra></extra>",
         "legendgroup": "Seraphine",
         "marker": {
          "color": "#FFA15A",
          "size": 8,
          "symbol": "circle"
         },
         "mode": "markers",
         "name": "Seraphine",
         "showlegend": true,
         "type": "scattergl",
         "x": {
          "bdata": "vAN9wXzLWcE6I4HBe92ewSEspsGmYONAIkoUQjMsxcGZaxDCY5xbwf2I+EDW397AuqUiQq4mJcE512BBFPZQQRQlKULFCx5BevoHQm9y0j4=",
          "dtype": "f4"
         },
         "xaxis": "x",
         "y": {
          "bdata": "O80MwgJG6sEvtybCo0IOwn49nEFeVh9B5gq5QS9YuUHIQDtBMcfxQYdLc79kmcxBuj8HQPuXPMFwY/9BHa3xQZ5Qy0BeHSXBmTIzwImMMsE=",
          "dtype": "f4"
         },
         "yaxis": "y"
        },
        {
         "customdata": [
          [
           "Sivir",
           "14.12"
          ],
          [
           "Sivir",
           "14.13"
          ],
          [
           "Sivir",
           "14.14"
          ],
          [
           "Sivir",
           "14.15"
          ],
          [
           "Sivir",
           "14.16"
          ],
          [
           "Sivir",
           "14.17"
          ],
          [
           "Sivir",
           "14.18"
          ],
          [
           "Sivir",
           "14.19"
          ],
          [
           "Sivir",
           "14.20"
          ],
          [
           "Sivir",
           "14.21"
          ],
          [
           "Sivir",
           "14.22"
          ],
          [
           "Sivir",
           "14.23"
          ],
          [
           "Sivir",
           "14.24"
          ],
          [
           "Sivir",
           "15.01"
          ],
          [
           "Sivir",
           "15.02"
          ],
          [
           "Sivir",
           "15.03"
          ],
          [
           "Sivir",
           "15.04"
          ],
          [
           "Sivir",
           "15.05"
          ],
          [
           "Sivir",
           "15.06"
          ],
          [
           "Sivir",
           "15.07"
          ]
         ],
         "hovertemplate": "Champion=%{customdata[0]}<br>t-SNE Component 1=%{x}<br>t-SNE Component 2=%{y}<br>Patch=%{customdata[1]}<extra></extra>",
         "legendgroup": "Sivir",
         "marker": {
          "color": "#19d3f3",
          "size": 8,
          "symbol": "circle"
         },
         "mode": "markers",
         "name": "Sivir",
         "showlegend": true,
         "type": "scattergl",
         "x": {
          "bdata": "oAFTwAdeTkIftTpCfTw7QlQ/UkKRlIdB9GzpQe6SREKklKpBmHZ3QEMlnMHG24/AomQaQh0sEUJQcr9A/r1KQC/ILcLms/XAzsVHwAhepsA=",
          "dtype": "f4"
         },
         "xaxis": "x",
         "y": {
          "bdata": "MGxbwf3JtsHtBePBnF4rwUID1cHVAQHCNwjgQK1cvsGJfIu/uHrwP/OQ8UHicAdCVMhcv4vRUD8nw2zBBv8CQIeVlEEtoARCuwQYQQyG178=",
          "dtype": "f4"
         },
         "yaxis": "y"
        },
        {
         "customdata": [
          [
           "Gnar",
           "14.12"
          ],
          [
           "Gnar",
           "14.13"
          ],
          [
           "Gnar",
           "14.14"
          ],
          [
           "Gnar",
           "14.15"
          ],
          [
           "Gnar",
           "14.16"
          ],
          [
           "Gnar",
           "14.17"
          ],
          [
           "Gnar",
           "14.18"
          ],
          [
           "Gnar",
           "14.19"
          ],
          [
           "Gnar",
           "14.20"
          ],
          [
           "Gnar",
           "14.21"
          ],
          [
           "Gnar",
           "14.22"
          ],
          [
           "Gnar",
           "14.23"
          ],
          [
           "Gnar",
           "14.24"
          ],
          [
           "Gnar",
           "15.01"
          ],
          [
           "Gnar",
           "15.02"
          ],
          [
           "Gnar",
           "15.03"
          ],
          [
           "Gnar",
           "15.04"
          ],
          [
           "Gnar",
           "15.05"
          ],
          [
           "Gnar",
           "15.06"
          ],
          [
           "Gnar",
           "15.07"
          ]
         ],
         "hovertemplate": "Champion=%{customdata[0]}<br>t-SNE Component 1=%{x}<br>t-SNE Component 2=%{y}<br>Patch=%{customdata[1]}<extra></extra>",
         "legendgroup": "Gnar",
         "marker": {
          "color": "#FF6692",
          "size": 8,
          "symbol": "circle"
         },
         "mode": "markers",
         "name": "Gnar",
         "showlegend": true,
         "type": "scattergl",
         "x": {
          "bdata": "m54FQVfND8CIYy/BTNcXQrNcB0EaJqdBY2SIwVFV+8H13xlASKGPQbZensBDG0hAASiIweJ3AcJ878TBSJBMwVAWgsEiexdCIT48QYvr1UA=",
          "dtype": "f4"
         },
         "xaxis": "x",
         "y": {
          "bdata": "Oh0OwFpzM0F+P8fA4IFWQZVaKMBFRpzBNE2vwbuuUkA3RirBL0nnwWrXeD+bs0LBC/zwQReZmsFJOXvBpquPwM7ay0EVAO/BVTpwwAeBMMA=",
          "dtype": "f4"
         },
         "yaxis": "y"
        },
        {
         "customdata": [
          [
           "Zac",
           "14.12"
          ],
          [
           "Zac",
           "14.13"
          ],
          [
           "Zac",
           "14.14"
          ],
          [
           "Zac",
           "14.15"
          ],
          [
           "Zac",
           "14.16"
          ],
          [
           "Zac",
           "14.17"
          ],
          [
           "Zac",
           "14.18"
          ],
          [
           "Zac",
           "14.19"
          ],
          [
           "Zac",
           "14.20"
          ],
          [
           "Zac",
           "14.21"
          ],
          [
           "Zac",
           "14.22"
          ],
          [
           "Zac",
           "14.23"
          ],
          [
           "Zac",
           "14.24"
          ],
          [
           "Zac",
           "15.01"
          ],
          [
           "Zac",
           "15.02"
          ],
          [
           "Zac",
           "15.03"
          ],
          [
           "Zac",
           "15.04"
          ],
          [
           "Zac",
           "15.05"
          ],
          [
           "Zac",
           "15.06"
          ],
          [
           "Zac",
           "15.07"
          ]
         ],
         "hovertemplate": "Champion=%{customdata[0]}<br>t-SNE Component 1=%{x}<br>t-SNE Component 2=%{y}<br>Patch=%{customdata[1]}<extra></extra>",
         "legendgroup": "Zac",
         "marker": {
          "color": "#B6E880",
          "size": 8,
          "symbol": "circle"
         },
         "mode": "markers",
         "name": "Zac",
         "showlegend": true,
         "type": "scattergl",
         "x": {
          "bdata": "GcwiQQ5dOcKO1ATCwb7/QT9pB8GfiEPCQ8uQwcbDL8I73Q5A2aCKv8djRcIpvwXC+CkYwYzubcF6BAu/D1dWQnueR8JwbDvC/ifWwVuGEEE=",
          "dtype": "f4"
         },
         "xaxis": "x",
         "y": {
          "bdata": "oDr8wRdjAEEtG/1AA3cYQol2+MFrFbdB3gvSwVofvkFDjw1CkjUNQoXIu0GxPQtCVjfdQV9w9EDYO+dA3EsXwfaEwMBDSebAJLMWQrDv0sA=",
          "dtype": "f4"
         },
         "yaxis": "y"
        },
        {
         "customdata": [
          [
           "Yasuo",
           "14.12"
          ],
          [
           "Yasuo",
           "14.13"
          ],
          [
           "Yasuo",
           "14.14"
          ],
          [
           "Yasuo",
           "14.15"
          ],
          [
           "Yasuo",
           "14.16"
          ],
          [
           "Yasuo",
           "14.17"
          ],
          [
           "Yasuo",
           "14.18"
          ],
          [
           "Yasuo",
           "14.19"
          ],
          [
           "Yasuo",
           "14.20"
          ],
          [
           "Yasuo",
           "14.21"
          ],
          [
           "Yasuo",
           "14.22"
          ],
          [
           "Yasuo",
           "14.23"
          ],
          [
           "Yasuo",
           "14.24"
          ],
          [
           "Yasuo",
           "15.01"
          ],
          [
           "Yasuo",
           "15.02"
          ],
          [
           "Yasuo",
           "15.03"
          ],
          [
           "Yasuo",
           "15.04"
          ],
          [
           "Yasuo",
           "15.05"
          ],
          [
           "Yasuo",
           "15.06"
          ],
          [
           "Yasuo",
           "15.07"
          ]
         ],
         "hovertemplate": "Champion=%{customdata[0]}<br>t-SNE Component 1=%{x}<br>t-SNE Component 2=%{y}<br>Patch=%{customdata[1]}<extra></extra>",
         "legendgroup": "Yasuo",
         "marker": {
          "color": "#FF97FF",
          "size": 8,
          "symbol": "circle"
         },
         "mode": "markers",
         "name": "Yasuo",
         "showlegend": true,
         "type": "scattergl",
         "x": {
          "bdata": "PsIdQUU4J0GSPIrAHUiOwaemM8LvVBzBGZCbwc3kj8CwSOxBnDLsQXBC7MEuAuXAoasDwrfN98FUE3PBSku8wZq1wcGnTynC4qoDwsxHJMA=",
          "dtype": "f4"
         },
         "xaxis": "x",
         "y": {
          "bdata": "uojcQBuYBkFiLBrCeLmiwa0Ao8HYUifCL8KfweWyL8I3dEPBdFhEwU0lwMHCTlDCsLHRwVWPikHMCN9B7dadwe0+U8G3HxfBTEuzQPPntsA=",
          "dtype": "f4"
         },
         "yaxis": "y"
        },
        {
         "customdata": [
          [
           "Soraka",
           "14.12"
          ],
          [
           "Soraka",
           "14.13"
          ],
          [
           "Soraka",
           "14.14"
          ],
          [
           "Soraka",
           "14.15"
          ],
          [
           "Soraka",
           "14.16"
          ],
          [
           "Soraka",
           "14.17"
          ],
          [
           "Soraka",
           "14.18"
          ],
          [
           "Soraka",
           "14.19"
          ],
          [
           "Soraka",
           "14.20"
          ],
          [
           "Soraka",
           "14.21"
          ],
          [
           "Soraka",
           "14.22"
          ],
          [
           "Soraka",
           "14.23"
          ],
          [
           "Soraka",
           "14.24"
          ],
          [
           "Soraka",
           "15.01"
          ],
          [
           "Soraka",
           "15.02"
          ],
          [
           "Soraka",
           "15.03"
          ],
          [
           "Soraka",
           "15.04"
          ],
          [
           "Soraka",
           "15.05"
          ],
          [
           "Soraka",
           "15.06"
          ],
          [
           "Soraka",
           "15.07"
          ]
         ],
         "hovertemplate": "Champion=%{customdata[0]}<br>t-SNE Component 1=%{x}<br>t-SNE Component 2=%{y}<br>Patch=%{customdata[1]}<extra></extra>",
         "legendgroup": "Soraka",
         "marker": {
          "color": "#FECB52",
          "size": 8,
          "symbol": "circle"
         },
         "mode": "markers",
         "name": "Soraka",
         "showlegend": true,
         "type": "scattergl",
         "x": {
          "bdata": "hnw5QpBvUUEaFFU/B74gQp+Jb0CHpfbBEQ3GwXqxbUBibjZB/qBNQgMYeMEFtUBCoy8hQgYMT8HnCOxBKl0WwUsJ30E9hB9C+NBowei2MkE=",
          "dtype": "f4"
         },
         "xaxis": "x",
         "y": {
          "bdata": "NIhnQHpX2cG/7Y1B3qGhQTLenEDyOAfCe+qRQRf/nUD4b1rB3u0SQFW2DcKSUHdB/DSSwX4lBsI/dRxBRxYowAkltMGyEtnAdWEOwgxJQcE=",
          "dtype": "f4"
         },
         "yaxis": "y"
        },
        {
         "customdata": [
          [
           "Vel'Koz",
           "14.12"
          ],
          [
           "Vel'Koz",
           "14.13"
          ],
          [
           "Vel'Koz",
           "14.14"
          ],
          [
           "Vel'Koz",
           "14.15"
          ],
          [
           "Vel'Koz",
           "14.16"
          ],
          [
           "Vel'Koz",
           "14.17"
          ],
          [
           "Vel'Koz",
           "14.18"
          ],
          [
           "Vel'Koz",
           "14.19"
          ],
          [
           "Vel'Koz",
           "14.20"
          ],
          [
           "Vel'Koz",
           "14.21"
          ],
          [
           "Vel'Koz",
           "14.22"
          ],
          [
           "Vel'Koz",
           "14.23"
          ],
          [
           "Vel'Koz",
           "14.24"
          ],
          [
           "Vel'Koz",
           "15.01"
          ],
          [
           "Vel'Koz",
           "15.02"
          ],
          [
           "Vel'Koz",
           "15.03"
          ],
          [
           "Vel'Koz",
           "15.04"
          ],
          [
           "Vel'Koz",
           "15.05"
          ],
          [
           "Vel'Koz",
           "15.06"
          ],
          [
           "Vel'Koz",
           "15.07"
          ]
         ],
         "hovertemplate": "Champion=%{customdata[0]}<br>t-SNE Component 1=%{x}<br>t-SNE Component 2=%{y}<br>Patch=%{customdata[1]}<extra></extra>",
         "legendgroup": "Vel'Koz",
         "marker": {
          "color": "#636efa",
          "size": 8,
          "symbol": "circle"
         },
         "mode": "markers",
         "name": "Vel'Koz",
         "showlegend": true,
         "type": "scattergl",
         "x": {
          "bdata": "CbA9QrpYLkK6H1FC9zC8weFZ/D8wOuu+ZocwQkMlOkIFq4TB28lcwaaesMFzKRfCfogOwp57IcIFERnCz9IxwBRhNsA727rBxzHbwaKR/8A=",
          "dtype": "f4"
         },
         "xaxis": "x",
         "y": {
          "bdata": "8AymQa9OjUAZkYPA4HAjwgFN80FC3LDBpHN2QHhtpkFuP5zBsUdCQtCFgkFOcsI/PHCtQPwSK0E0+F1BQuBdQbNUrcFIcqhBNzKFQU1M+UA=",
          "dtype": "f4"
         },
         "yaxis": "y"
        },
        {
         "customdata": [
          [
           "Taliyah",
           "14.12"
          ],
          [
           "Taliyah",
           "14.13"
          ],
          [
           "Taliyah",
           "14.14"
          ],
          [
           "Taliyah",
           "14.15"
          ],
          [
           "Taliyah",
           "14.16"
          ],
          [
           "Taliyah",
           "14.17"
          ],
          [
           "Taliyah",
           "14.18"
          ],
          [
           "Taliyah",
           "14.19"
          ],
          [
           "Taliyah",
           "14.20"
          ],
          [
           "Taliyah",
           "14.21"
          ],
          [
           "Taliyah",
           "14.22"
          ],
          [
           "Taliyah",
           "14.23"
          ],
          [
           "Taliyah",
           "14.24"
          ],
          [
           "Taliyah",
           "15.01"
          ],
          [
           "Taliyah",
           "15.02"
          ],
          [
           "Taliyah",
           "15.03"
          ],
          [
           "Taliyah",
           "15.04"
          ],
          [
           "Taliyah",
           "15.05"
          ],
          [
           "Taliyah",
           "15.06"
          ],
          [
           "Taliyah",
           "15.07"
          ]
         ],
         "hovertemplate": "Champion=%{customdata[0]}<br>t-SNE Component 1=%{x}<br>t-SNE Component 2=%{y}<br>Patch=%{customdata[1]}<extra></extra>",
         "legendgroup": "Taliyah",
         "marker": {
          "color": "#EF553B",
          "size": 8,
          "symbol": "circle"
         },
         "mode": "markers",
         "name": "Taliyah",
         "showlegend": true,
         "type": "scattergl",
         "x": {
          "bdata": "XmpWQTsPI0KYZplAFsMVwomrC8CSu6nBCMKUweF5Q8GfgDfAf6lXQGICe0GPJfLBaeEpwW1HBcJeIsfBBhXcQLU1kr8ZhYdA5v1KwUFFBb8=",
          "dtype": "f4"
         },
         "xaxis": "x",
         "y": {
          "bdata": "172YQJ3RuMH/IgPCJMYMwnjldEFQScq/Ii8gP3nceMEKomdBngXfwIciyEGJu7lB24DnQVyhNEHg4FzBBd8jQvn1GELgvcRBbMEkQuSAn8A=",
          "dtype": "f4"
         },
         "yaxis": "y"
        },
        {
         "customdata": [
          [
           "Camille",
           "14.12"
          ],
          [
           "Camille",
           "14.13"
          ],
          [
           "Camille",
           "14.14"
          ],
          [
           "Camille",
           "14.15"
          ],
          [
           "Camille",
           "14.16"
          ],
          [
           "Camille",
           "14.17"
          ],
          [
           "Camille",
           "14.18"
          ],
          [
           "Camille",
           "14.19"
          ],
          [
           "Camille",
           "14.20"
          ],
          [
           "Camille",
           "14.21"
          ],
          [
           "Camille",
           "14.22"
          ],
          [
           "Camille",
           "14.23"
          ],
          [
           "Camille",
           "14.24"
          ],
          [
           "Camille",
           "15.01"
          ],
          [
           "Camille",
           "15.02"
          ],
          [
           "Camille",
           "15.03"
          ],
          [
           "Camille",
           "15.04"
          ],
          [
           "Camille",
           "15.05"
          ],
          [
           "Camille",
           "15.06"
          ],
          [
           "Camille",
           "15.07"
          ]
         ],
         "hovertemplate": "Champion=%{customdata[0]}<br>t-SNE Component 1=%{x}<br>t-SNE Component 2=%{y}<br>Patch=%{customdata[1]}<extra></extra>",
         "legendgroup": "Camille",
         "marker": {
          "color": "#00cc96",
          "size": 8,
          "symbol": "circle"
         },
         "mode": "markers",
         "name": "Camille",
         "showlegend": true,
         "type": "scattergl",
         "x": {
          "bdata": "Mbm6P9yDssE6shpBTUi8wYw3AcJ8dZnBgG7NwdWAI8E0sS7CBSU8wtyLnMBl+qxBnp0PwYxrxcG7zB7C283uQLt6hMFtLEvCxhFVQUzDQEE=",
          "dtype": "f4"
         },
         "xaxis": "x",
         "y": {
          "bdata": "MCl7QQOW/MAcWR1BidXhwADDRUC4D0TBX2ohQfX9osFwEoBA3ldGQT35LsLqIxDCeNcYwmjT+8Hl2ARC+BWjwZaSKUGv10ZBmOnWwXllZkA=",
          "dtype": "f4"
         },
         "yaxis": "y"
        },
        {
         "customdata": [
          [
           "Akshan",
           "14.12"
          ],
          [
           "Akshan",
           "14.13"
          ],
          [
           "Akshan",
           "14.14"
          ],
          [
           "Akshan",
           "14.15"
          ],
          [
           "Akshan",
           "14.16"
          ],
          [
           "Akshan",
           "14.17"
          ],
          [
           "Akshan",
           "14.18"
          ],
          [
           "Akshan",
           "14.19"
          ],
          [
           "Akshan",
           "14.20"
          ],
          [
           "Akshan",
           "14.21"
          ],
          [
           "Akshan",
           "14.22"
          ],
          [
           "Akshan",
           "14.23"
          ],
          [
           "Akshan",
           "14.24"
          ],
          [
           "Akshan",
           "15.01"
          ],
          [
           "Akshan",
           "15.02"
          ],
          [
           "Akshan",
           "15.03"
          ],
          [
           "Akshan",
           "15.04"
          ],
          [
           "Akshan",
           "15.05"
          ],
          [
           "Akshan",
           "15.06"
          ],
          [
           "Akshan",
           "15.07"
          ]
         ],
         "hovertemplate": "Champion=%{customdata[0]}<br>t-SNE Component 1=%{x}<br>t-SNE Component 2=%{y}<br>Patch=%{customdata[1]}<extra></extra>",
         "legendgroup": "Akshan",
         "marker": {
          "color": "#ab63fa",
          "size": 8,
          "symbol": "circle"
         },
         "mode": "markers",
         "name": "Akshan",
         "showlegend": true,
         "type": "scattergl",
         "x": {
          "bdata": "b5UkwuUiA8ILROLBTJC3QE4/SkKy76DB6q0AQgZdNUL2F7XBxU/vwen8RcHqveFA5OdqQVmS7EEBQ+G+QDm6v3DaRUIZkDjCSogNwu4368A=",
          "dtype": "f4"
         },
         "xaxis": "x",
         "y": {
          "bdata": "HkfAwS47dr8kwHnBIelKwQ4nbcCoGhDBywaDwf6oosBikgrAH3TGwdkkhr9xXATCBP0JwuS6CMKe9CxAyvTxQOwXr0FLXFVBB/iCwDM/MsA=",
          "dtype": "f4"
         },
         "yaxis": "y"
        },
        {
         "customdata": [
          [
           "Teemo",
           "14.12"
          ],
          [
           "Teemo",
           "14.13"
          ],
          [
           "Teemo",
           "14.14"
          ],
          [
           "Teemo",
           "14.15"
          ],
          [
           "Teemo",
           "14.16"
          ],
          [
           "Teemo",
           "14.17"
          ],
          [
           "Teemo",
           "14.18"
          ],
          [
           "Teemo",
           "14.19"
          ],
          [
           "Teemo",
           "14.20"
          ],
          [
           "Teemo",
           "14.21"
          ],
          [
           "Teemo",
           "14.22"
          ],
          [
           "Teemo",
           "14.23"
          ],
          [
           "Teemo",
           "14.24"
          ],
          [
           "Teemo",
           "15.01"
          ],
          [
           "Teemo",
           "15.02"
          ],
          [
           "Teemo",
           "15.03"
          ],
          [
           "Teemo",
           "15.04"
          ],
          [
           "Teemo",
           "15.05"
          ],
          [
           "Teemo",
           "15.06"
          ],
          [
           "Teemo",
           "15.07"
          ]
         ],
         "hovertemplate": "Champion=%{customdata[0]}<br>t-SNE Component 1=%{x}<br>t-SNE Component 2=%{y}<br>Patch=%{customdata[1]}<extra></extra>",
         "legendgroup": "Teemo",
         "marker": {
          "color": "#FFA15A",
          "size": 8,
          "symbol": "circle"
         },
         "mode": "markers",
         "name": "Teemo",
         "showlegend": true,
         "type": "scattergl",
         "x": {
          "bdata": "7fD1QapW5EHMHitCc/74QdqCakHGv0NC8wgQQi4bTkLYCUdCNyT2QFKE3EDv2U3BOlsvQsBzH8EM03fBDKm0QbsgxEB5zBFCpmAUwkPXGkE=",
          "dtype": "f4"
         },
         "xaxis": "x",
         "y": {
          "bdata": "tqmOQGHvhcHOu8bA81E5wm1Qh74G9A5AwhYowXajGEBHSGlA8AxBQtFYP0ICQwnCqahvwe9btcFSYvHA9LkDwoLIzMC01TJBsUr1QYHjnMA=",
          "dtype": "f4"
         },
         "yaxis": "y"
        },
        {
         "customdata": [
          [
           "Tristana",
           "14.12"
          ],
          [
           "Tristana",
           "14.13"
          ],
          [
           "Tristana",
           "14.14"
          ],
          [
           "Tristana",
           "14.15"
          ],
          [
           "Tristana",
           "14.16"
          ],
          [
           "Tristana",
           "14.17"
          ],
          [
           "Tristana",
           "14.18"
          ],
          [
           "Tristana",
           "14.19"
          ],
          [
           "Tristana",
           "14.20"
          ],
          [
           "Tristana",
           "14.21"
          ],
          [
           "Tristana",
           "14.22"
          ],
          [
           "Tristana",
           "14.23"
          ],
          [
           "Tristana",
           "14.24"
          ],
          [
           "Tristana",
           "15.01"
          ],
          [
           "Tristana",
           "15.02"
          ],
          [
           "Tristana",
           "15.03"
          ],
          [
           "Tristana",
           "15.04"
          ],
          [
           "Tristana",
           "15.05"
          ],
          [
           "Tristana",
           "15.06"
          ],
          [
           "Tristana",
           "15.07"
          ]
         ],
         "hovertemplate": "Champion=%{customdata[0]}<br>t-SNE Component 1=%{x}<br>t-SNE Component 2=%{y}<br>Patch=%{customdata[1]}<extra></extra>",
         "legendgroup": "Tristana",
         "marker": {
          "color": "#19d3f3",
          "size": 8,
          "symbol": "circle"
         },
         "mode": "markers",
         "name": "Tristana",
         "showlegend": true,
         "type": "scattergl",
         "x": {
          "bdata": "VWdewleKXcLygUxC77JXQqU2WkLGaldC+mJXQmXHUEJ9gCBCgWifQGK/tEHAISHC42KowQJhOT+Spw3C+fYZwtGNF8KmQhXCcGsNwqtPq8A=",
          "dtype": "f4"
         },
         "xaxis": "x",
         "y": {
          "bdata": "yzLPvsb1N78H2JXBz9ajwfIks8EC3qPBPOKjwfGpocGWsby/wieHwfd2AUGmNeRAX5LKQWuP4EGoPO/BcJyRQUtNVkGo+JlBmPqRQcFr3T4=",
          "dtype": "f4"
         },
         "yaxis": "y"
        },
        {
         "customdata": [
          [
           "Warwick",
           "14.12"
          ],
          [
           "Warwick",
           "14.13"
          ],
          [
           "Warwick",
           "14.14"
          ],
          [
           "Warwick",
           "14.15"
          ],
          [
           "Warwick",
           "14.16"
          ],
          [
           "Warwick",
           "14.17"
          ],
          [
           "Warwick",
           "14.18"
          ],
          [
           "Warwick",
           "14.19"
          ],
          [
           "Warwick",
           "14.20"
          ],
          [
           "Warwick",
           "14.21"
          ],
          [
           "Warwick",
           "14.22"
          ],
          [
           "Warwick",
           "14.23"
          ],
          [
           "Warwick",
           "14.24"
          ],
          [
           "Warwick",
           "15.01"
          ],
          [
           "Warwick",
           "15.02"
          ],
          [
           "Warwick",
           "15.03"
          ],
          [
           "Warwick",
           "15.04"
          ],
          [
           "Warwick",
           "15.05"
          ],
          [
           "Warwick",
           "15.06"
          ],
          [
           "Warwick",
           "15.07"
          ]
         ],
         "hovertemplate": "Champion=%{customdata[0]}<br>t-SNE Component 1=%{x}<br>t-SNE Component 2=%{y}<br>Patch=%{customdata[1]}<extra></extra>",
         "legendgroup": "Warwick",
         "marker": {
          "color": "#FF6692",
          "size": 8,
          "symbol": "circle"
         },
         "mode": "markers",
         "name": "Warwick",
         "showlegend": true,
         "type": "scattergl",
         "x": {
          "bdata": "xNcXwkf8q8DcOsDA50L3vkp1Bj5DybC/10yZvuTBBkLbS//AQsTcQe536EHxV9JAGcvuwHmg48FS2dvAPBghwYGU1kF0w9vB8n8zwvcGh8E=",
          "dtype": "f4"
         },
         "xaxis": "x",
         "y": {
          "bdata": "PgAWQqHW2UGNQ95B6f4AQr/zIEIS7EtC5agLQid1Ub/noW9AEd2iQU+xmUHwzvdB75aGQD8VVsFbA7vBrGAqQolobkELwmLB7QWOvszFZEE=",
          "dtype": "f4"
         },
         "yaxis": "y"
        },
        {
         "customdata": [
          [
           "Olaf",
           "14.12"
          ],
          [
           "Olaf",
           "14.13"
          ],
          [
           "Olaf",
           "14.14"
          ],
          [
           "Olaf",
           "14.15"
          ],
          [
           "Olaf",
           "14.16"
          ],
          [
           "Olaf",
           "14.17"
          ],
          [
           "Olaf",
           "14.18"
          ],
          [
           "Olaf",
           "14.19"
          ],
          [
           "Olaf",
           "14.20"
          ],
          [
           "Olaf",
           "14.21"
          ],
          [
           "Olaf",
           "14.22"
          ],
          [
           "Olaf",
           "14.23"
          ],
          [
           "Olaf",
           "14.24"
          ],
          [
           "Olaf",
           "15.01"
          ],
          [
           "Olaf",
           "15.02"
          ],
          [
           "Olaf",
           "15.03"
          ],
          [
           "Olaf",
           "15.04"
          ],
          [
           "Olaf",
           "15.05"
          ],
          [
           "Olaf",
           "15.06"
          ],
          [
           "Olaf",
           "15.07"
          ]
         ],
         "hovertemplate": "Champion=%{customdata[0]}<br>t-SNE Component 1=%{x}<br>t-SNE Component 2=%{y}<br>Patch=%{customdata[1]}<extra></extra>",
         "legendgroup": "Olaf",
         "marker": {
          "color": "#B6E880",
          "size": 8,
          "symbol": "circle"
         },
         "mode": "markers",
         "name": "Olaf",
         "showlegend": true,
         "type": "scattergl",
         "x": {
          "bdata": "gePYwXu81sG3tKnB8cSKwOh0aMD0yR3Ci/PLQfY8B8IkWDDCpPZPvuZW8r1nMiPCXfwFwXHqHEEbzm3BvQcBwnxEfUEMUQjCzLAQQt+rSsA=",
          "dtype": "f4"
         },
         "xaxis": "x",
         "y": {
          "bdata": "RF7Nv+AJOsBL1ZDBuXdKQo/B/8CBhYTB7hGJPyrCtUFPjQDB6/xjwccPb8HvpRtBY9NRQt3KPELzyhPBTZeeQW5a7sFLP61BMOzTwADkoMA=",
          "dtype": "f4"
         },
         "yaxis": "y"
        },
        {
         "customdata": [
          [
           "Nunu & Willump",
           "14.12"
          ],
          [
           "Nunu & Willump",
           "14.13"
          ],
          [
           "Nunu & Willump",
           "14.14"
          ],
          [
           "Nunu & Willump",
           "14.15"
          ],
          [
           "Nunu & Willump",
           "14.16"
          ],
          [
           "Nunu & Willump",
           "14.17"
          ],
          [
           "Nunu & Willump",
           "14.18"
          ],
          [
           "Nunu & Willump",
           "14.19"
          ],
          [
           "Nunu & Willump",
           "14.20"
          ],
          [
           "Nunu & Willump",
           "14.21"
          ],
          [
           "Nunu & Willump",
           "14.22"
          ],
          [
           "Nunu & Willump",
           "14.23"
          ],
          [
           "Nunu & Willump",
           "14.24"
          ],
          [
           "Nunu & Willump",
           "15.01"
          ],
          [
           "Nunu & Willump",
           "15.02"
          ],
          [
           "Nunu & Willump",
           "15.03"
          ],
          [
           "Nunu & Willump",
           "15.04"
          ],
          [
           "Nunu & Willump",
           "15.05"
          ],
          [
           "Nunu & Willump",
           "15.06"
          ],
          [
           "Nunu & Willump",
           "15.07"
          ]
         ],
         "hovertemplate": "Champion=%{customdata[0]}<br>t-SNE Component 1=%{x}<br>t-SNE Component 2=%{y}<br>Patch=%{customdata[1]}<extra></extra>",
         "legendgroup": "Nunu & Willump",
         "marker": {
          "color": "#FF97FF",
          "size": 8,
          "symbol": "circle"
         },
         "mode": "markers",
         "name": "Nunu & Willump",
         "showlegend": true,
         "type": "scattergl",
         "x": {
          "bdata": "LTyGwf3x7EHwcAhCJr0iQnxR50FK8yTC7879QRVji8HBvktAF+MqQRuDzkG0SjPBL4W8QdNKbcEN30tAjwvAQWzJ9EFuSM5BIKrMQfA9tMA=",
          "dtype": "f4"
         },
         "xaxis": "x",
         "y": {
          "bdata": "FT0eQuET8EHuq3tBVR0MQdeyA0IoZorBmacXQn5UG0IIS11Cxi7VQXv0hsFx8ctBRfU1Qn/KbkHpRF1C76Q2Qi6f7UE28ILBs5OFwWBenUA=",
          "dtype": "f4"
         },
         "yaxis": "y"
        },
        {
         "customdata": [
          [
           "Bel'Veth",
           "14.12"
          ],
          [
           "Bel'Veth",
           "14.13"
          ],
          [
           "Bel'Veth",
           "14.14"
          ],
          [
           "Bel'Veth",
           "14.15"
          ],
          [
           "Bel'Veth",
           "14.16"
          ],
          [
           "Bel'Veth",
           "14.17"
          ],
          [
           "Bel'Veth",
           "14.18"
          ],
          [
           "Bel'Veth",
           "14.19"
          ],
          [
           "Bel'Veth",
           "14.20"
          ],
          [
           "Bel'Veth",
           "14.21"
          ],
          [
           "Bel'Veth",
           "14.22"
          ],
          [
           "Bel'Veth",
           "14.23"
          ],
          [
           "Bel'Veth",
           "14.24"
          ],
          [
           "Bel'Veth",
           "15.01"
          ],
          [
           "Bel'Veth",
           "15.02"
          ],
          [
           "Bel'Veth",
           "15.03"
          ],
          [
           "Bel'Veth",
           "15.04"
          ],
          [
           "Bel'Veth",
           "15.05"
          ],
          [
           "Bel'Veth",
           "15.06"
          ],
          [
           "Bel'Veth",
           "15.07"
          ]
         ],
         "hovertemplate": "Champion=%{customdata[0]}<br>t-SNE Component 1=%{x}<br>t-SNE Component 2=%{y}<br>Patch=%{customdata[1]}<extra></extra>",
         "legendgroup": "Bel'Veth",
         "marker": {
          "color": "#FECB52",
          "size": 8,
          "symbol": "circle"
         },
         "mode": "markers",
         "name": "Bel'Veth",
         "showlegend": true,
         "type": "scattergl",
         "x": {
          "bdata": "YHajwQH6n78EC6VAb5bXwVmjIMJbNPhBtPfLQQcZB0GsB9DA9EC/wHwejsErQba/4RbYvH78BcF7+d5B9viUwUBhGsI5aJVBvR8pwls6Iz4=",
          "dtype": "f4"
         },
         "xaxis": "x",
         "y": {
          "bdata": "NqyXQM/fS0LSvqrArC0oQhL0BEI34xJCxka0QbSXA0LsCsVBvLDDQUbGQkGGBeFBJ8EXQkc+TD+QAJFAkY5oQMMfPcD1qq6/ebeuwb/fp8A=",
          "dtype": "f4"
         },
         "yaxis": "y"
        },
        {
         "customdata": [
          [
           "Braum",
           "14.12"
          ],
          [
           "Braum",
           "14.13"
          ],
          [
           "Braum",
           "14.14"
          ],
          [
           "Braum",
           "14.15"
          ],
          [
           "Braum",
           "14.16"
          ],
          [
           "Braum",
           "14.17"
          ],
          [
           "Braum",
           "14.18"
          ],
          [
           "Braum",
           "14.19"
          ],
          [
           "Braum",
           "14.20"
          ],
          [
           "Braum",
           "14.21"
          ],
          [
           "Braum",
           "14.22"
          ],
          [
           "Braum",
           "14.23"
          ],
          [
           "Braum",
           "14.24"
          ],
          [
           "Braum",
           "15.01"
          ],
          [
           "Braum",
           "15.02"
          ],
          [
           "Braum",
           "15.03"
          ],
          [
           "Braum",
           "15.04"
          ],
          [
           "Braum",
           "15.05"
          ],
          [
           "Braum",
           "15.06"
          ],
          [
           "Braum",
           "15.07"
          ]
         ],
         "hovertemplate": "Champion=%{customdata[0]}<br>t-SNE Component 1=%{x}<br>t-SNE Component 2=%{y}<br>Patch=%{customdata[1]}<extra></extra>",
         "legendgroup": "Braum",
         "marker": {
          "color": "#636efa",
          "size": 8,
          "symbol": "circle"
         },
         "mode": "markers",
         "name": "Braum",
         "showlegend": true,
         "type": "scattergl",
         "x": {
          "bdata": "pDEsQaNtwsGV5zfBzF2MQGkQEULTmhdC5ANFQcyQFEGEE9O+MUx+Qfev/MHd/gDC8YwCwnAPcEEkoxXBy3Y3wYTdPsFJypLB7YePQAdQIcE=",
          "dtype": "f4"
         },
         "xaxis": "x",
         "y": {
          "bdata": "w6oIwomvx8FhFffBNE06QhFo1UG61MxBuMLEwWviCEKLRlpBZMdmwTHUEMK6wgjCpzYPwtX+SMKZ/o3B/GofwpR2H8Ka5gTCMhwQwc6AXsA=",
          "dtype": "f4"
         },
         "yaxis": "y"
        },
        {
         "customdata": [
          [
           "Jhin",
           "14.12"
          ],
          [
           "Jhin",
           "14.13"
          ],
          [
           "Jhin",
           "14.14"
          ],
          [
           "Jhin",
           "14.15"
          ],
          [
           "Jhin",
           "14.16"
          ],
          [
           "Jhin",
           "14.17"
          ],
          [
           "Jhin",
           "14.18"
          ],
          [
           "Jhin",
           "14.19"
          ],
          [
           "Jhin",
           "14.20"
          ],
          [
           "Jhin",
           "14.21"
          ],
          [
           "Jhin",
           "14.22"
          ],
          [
           "Jhin",
           "14.23"
          ],
          [
           "Jhin",
           "14.24"
          ],
          [
           "Jhin",
           "15.01"
          ],
          [
           "Jhin",
           "15.02"
          ],
          [
           "Jhin",
           "15.03"
          ],
          [
           "Jhin",
           "15.04"
          ],
          [
           "Jhin",
           "15.05"
          ],
          [
           "Jhin",
           "15.06"
          ],
          [
           "Jhin",
           "15.07"
          ]
         ],
         "hovertemplate": "Champion=%{customdata[0]}<br>t-SNE Component 1=%{x}<br>t-SNE Component 2=%{y}<br>Patch=%{customdata[1]}<extra></extra>",
         "legendgroup": "Jhin",
         "marker": {
          "color": "#EF553B",
          "size": 8,
          "symbol": "circle"
         },
         "mode": "markers",
         "name": "Jhin",
         "showlegend": true,
         "type": "scattergl",
         "x": {
          "bdata": "NCwFQcbWn8HPN49B3YAdweHOnsEPNKbBwXuwwWQOEsLiIKpBIHSJQfKVAcBXu/RA2jzPQZWagEFc459BgRdyQcwKgEGnXW5BX155QTXF9cA=",
          "dtype": "f4"
         },
         "xaxis": "x",
         "y": {
          "bdata": "5Asmwsg5EcFFT+/BSs/cwVt74kFo3bpBXTy8QSuYgUHQnfjBIvwBwiksEMJ0bTfBag+awUguLsKiPljBAZMowiWuJMI78CvCwpcpwuryn8A=",
          "dtype": "f4"
         },
         "yaxis": "y"
        },
        {
         "customdata": [
          [
           "Kindred",
           "14.12"
          ],
          [
           "Kindred",
           "14.13"
          ],
          [
           "Kindred",
           "14.14"
          ],
          [
           "Kindred",
           "14.15"
          ],
          [
           "Kindred",
           "14.16"
          ],
          [
           "Kindred",
           "14.17"
          ],
          [
           "Kindred",
           "14.18"
          ],
          [
           "Kindred",
           "14.19"
          ],
          [
           "Kindred",
           "14.20"
          ],
          [
           "Kindred",
           "14.21"
          ],
          [
           "Kindred",
           "14.22"
          ],
          [
           "Kindred",
           "14.23"
          ],
          [
           "Kindred",
           "14.24"
          ],
          [
           "Kindred",
           "15.01"
          ],
          [
           "Kindred",
           "15.02"
          ],
          [
           "Kindred",
           "15.03"
          ],
          [
           "Kindred",
           "15.04"
          ],
          [
           "Kindred",
           "15.05"
          ],
          [
           "Kindred",
           "15.06"
          ],
          [
           "Kindred",
           "15.07"
          ]
         ],
         "hovertemplate": "Champion=%{customdata[0]}<br>t-SNE Component 1=%{x}<br>t-SNE Component 2=%{y}<br>Patch=%{customdata[1]}<extra></extra>",
         "legendgroup": "Kindred",
         "marker": {
          "color": "#00cc96",
          "size": 8,
          "symbol": "circle"
         },
         "mode": "markers",
         "name": "Kindred",
         "showlegend": true,
         "type": "scattergl",
         "x": {
          "bdata": "Q7jTwOSPZ0DxqdpBoSsrwonMIkLMYd3BJ9rTwQmSHsLYwkLBTe7IQIks8UGo8FhBcbPDQavRFsGLV+g/HyC9wcpdFcHKGNZBDqbtQYL0z8A=",
          "dtype": "f4"
         },
         "xaxis": "x",
         "y": {
          "bdata": "V0bHQdEeP0LfHAhCbzOIwVNe78GWLfFA/SopQmYTksEdKLvB5H5HwrWqFUE+tsRBM1e/QYvxYkExESNCZDcWQhqlFkE1TAdC3hT5QdhyWD8=",
          "dtype": "f4"
         },
         "yaxis": "y"
        },
        {
         "customdata": [
          [
           "Miss Fortune",
           "14.12"
          ],
          [
           "Miss Fortune",
           "14.13"
          ],
          [
           "Miss Fortune",
           "14.14"
          ],
          [
           "Miss Fortune",
           "14.15"
          ],
          [
           "Miss Fortune",
           "14.16"
          ],
          [
           "Miss Fortune",
           "14.17"
          ],
          [
           "Miss Fortune",
           "14.18"
          ],
          [
           "Miss Fortune",
           "14.19"
          ],
          [
           "Miss Fortune",
           "14.20"
          ],
          [
           "Miss Fortune",
           "14.21"
          ],
          [
           "Miss Fortune",
           "14.22"
          ],
          [
           "Miss Fortune",
           "14.23"
          ],
          [
           "Miss Fortune",
           "14.24"
          ],
          [
           "Miss Fortune",
           "15.01"
          ],
          [
           "Miss Fortune",
           "15.02"
          ],
          [
           "Miss Fortune",
           "15.03"
          ],
          [
           "Miss Fortune",
           "15.04"
          ],
          [
           "Miss Fortune",
           "15.05"
          ],
          [
           "Miss Fortune",
           "15.06"
          ],
          [
           "Miss Fortune",
           "15.07"
          ]
         ],
         "hovertemplate": "Champion=%{customdata[0]}<br>t-SNE Component 1=%{x}<br>t-SNE Component 2=%{y}<br>Patch=%{customdata[1]}<extra></extra>",
         "legendgroup": "Miss Fortune",
         "marker": {
          "color": "#ab63fa",
          "size": 8,
          "symbol": "circle"
         },
         "mode": "markers",
         "name": "Miss Fortune",
         "showlegend": true,
         "type": "scattergl",
         "x": {
          "bdata": "Ma4NQcauMEEhJbzAKBdBwknAcj9GNHbBomwfwUR3Q8Cqb9fA9stHQgpCVkKEBiBCTM8XwYxWKcGkjajBbfhuQUPhDEAGm5y/VHWWwJlqlr8=",
          "dtype": "f4"
         },
         "xaxis": "x",
         "y": {
          "bdata": "lEFCQdKL8kEcpw3B0DqeQTRcvkFTYZxBvkx0v5GCHcBDfa/AAIq4wRjY08Hh5JI/VnvewSF44MGuv71BTAtJQEXescGfMpLBE46MwYT4bMA=",
          "dtype": "f4"
         },
         "yaxis": "y"
        },
        {
         "customdata": [
          [
           "Ashe",
           "14.12"
          ],
          [
           "Ashe",
           "14.13"
          ],
          [
           "Ashe",
           "14.14"
          ],
          [
           "Ashe",
           "14.15"
          ],
          [
           "Ashe",
           "14.16"
          ],
          [
           "Ashe",
           "14.17"
          ],
          [
           "Ashe",
           "14.18"
          ],
          [
           "Ashe",
           "14.19"
          ],
          [
           "Ashe",
           "14.20"
          ],
          [
           "Ashe",
           "14.21"
          ],
          [
           "Ashe",
           "14.22"
          ],
          [
           "Ashe",
           "14.23"
          ],
          [
           "Ashe",
           "14.24"
          ],
          [
           "Ashe",
           "15.01"
          ],
          [
           "Ashe",
           "15.02"
          ],
          [
           "Ashe",
           "15.03"
          ],
          [
           "Ashe",
           "15.04"
          ],
          [
           "Ashe",
           "15.05"
          ],
          [
           "Ashe",
           "15.06"
          ],
          [
           "Ashe",
           "15.07"
          ]
         ],
         "hovertemplate": "Champion=%{customdata[0]}<br>t-SNE Component 1=%{x}<br>t-SNE Component 2=%{y}<br>Patch=%{customdata[1]}<extra></extra>",
         "legendgroup": "Ashe",
         "marker": {
          "color": "#FFA15A",
          "size": 8,
          "symbol": "circle"
         },
         "mode": "markers",
         "name": "Ashe",
         "showlegend": true,
         "type": "scattergl",
         "x": {
          "bdata": "hlLkwR0428GWmhDCWjZowdplxMGUKgbCrwKFQdd1a8EJ22zBplzCwaw7i8ElcsLACOF3wcpEVkKxEupBhmM6QqYncsHM+CbBqLyhwZz+MsE=",
          "dtype": "f4"
         },
         "xaxis": "x",
         "y": {
          "bdata": "SV7OQRnzy0GH2BRBHsAPQtlJekGZGMLBdTRcweBACUJzwOFBPNyBQd3RjsFhLVjB9tUFwmi5vsFLTffB/Bzjwex/tEBQR67BA3s2QpxkmkA=",
          "dtype": "f4"
         },
         "yaxis": "y"
        },
        {
         "customdata": [
          [
           "Zeri",
           "14.12"
          ],
          [
           "Zeri",
           "14.13"
          ],
          [
           "Zeri",
           "14.14"
          ],
          [
           "Zeri",
           "14.15"
          ],
          [
           "Zeri",
           "14.16"
          ],
          [
           "Zeri",
           "14.17"
          ],
          [
           "Zeri",
           "14.18"
          ],
          [
           "Zeri",
           "14.19"
          ],
          [
           "Zeri",
           "14.20"
          ],
          [
           "Zeri",
           "14.21"
          ],
          [
           "Zeri",
           "14.22"
          ],
          [
           "Zeri",
           "14.23"
          ],
          [
           "Zeri",
           "14.24"
          ],
          [
           "Zeri",
           "15.01"
          ],
          [
           "Zeri",
           "15.02"
          ],
          [
           "Zeri",
           "15.03"
          ],
          [
           "Zeri",
           "15.04"
          ],
          [
           "Zeri",
           "15.05"
          ],
          [
           "Zeri",
           "15.06"
          ],
          [
           "Zeri",
           "15.07"
          ]
         ],
         "hovertemplate": "Champion=%{customdata[0]}<br>t-SNE Component 1=%{x}<br>t-SNE Component 2=%{y}<br>Patch=%{customdata[1]}<extra></extra>",
         "legendgroup": "Zeri",
         "marker": {
          "color": "#19d3f3",
          "size": 8,
          "symbol": "circle"
         },
         "mode": "markers",
         "name": "Zeri",
         "showlegend": true,
         "type": "scattergl",
         "x": {
          "bdata": "GMjPwYWHvMGKJrrBMbJDwYnuqsHuXSHC15EzQirIGkLZ1y5CFsJBQuAdCcJFKudBABwZwlqq3j9NPBPAZ5GAQZLSnMFqaJjAuyc9QPvfrME=",
          "dtype": "f4"
         },
         "xaxis": "x",
         "y": {
          "bdata": "UWCAP7MYA0KEkwJCbPGlQeNx2kE0KtDBFw3cwT+3scFLpK/B1r3jwPX6pMEfWiBBwzy1wdo4q8EPOIW/kAT2QC2I+EFMXQdCa7qkQcb69Lw=",
          "dtype": "f4"
         },
         "yaxis": "y"
        },
        {
         "customdata": [
          [
           "Jinx",
           "14.12"
          ],
          [
           "Jinx",
           "14.13"
          ],
          [
           "Jinx",
           "14.14"
          ],
          [
           "Jinx",
           "14.15"
          ],
          [
           "Jinx",
           "14.16"
          ],
          [
           "Jinx",
           "14.17"
          ],
          [
           "Jinx",
           "14.18"
          ],
          [
           "Jinx",
           "14.19"
          ],
          [
           "Jinx",
           "14.20"
          ],
          [
           "Jinx",
           "14.21"
          ],
          [
           "Jinx",
           "14.22"
          ],
          [
           "Jinx",
           "14.23"
          ],
          [
           "Jinx",
           "14.24"
          ],
          [
           "Jinx",
           "15.01"
          ],
          [
           "Jinx",
           "15.02"
          ],
          [
           "Jinx",
           "15.03"
          ],
          [
           "Jinx",
           "15.04"
          ],
          [
           "Jinx",
           "15.05"
          ],
          [
           "Jinx",
           "15.06"
          ],
          [
           "Jinx",
           "15.07"
          ]
         ],
         "hovertemplate": "Champion=%{customdata[0]}<br>t-SNE Component 1=%{x}<br>t-SNE Component 2=%{y}<br>Patch=%{customdata[1]}<extra></extra>",
         "legendgroup": "Jinx",
         "marker": {
          "color": "#FF6692",
          "size": 8,
          "symbol": "circle"
         },
         "mode": "markers",
         "name": "Jinx",
         "showlegend": true,
         "type": "scattergl",
         "x": {
          "bdata": "d8ucwTwWj8HWfn/BwDM/QMbqQMLts62+qlLawfFJqECtyCBBEhHFwaq/GULIpGnAH0+ZQSem58DW4pLBtVcTwWISlMH26YzBOIJ+P/i8uUA=",
          "dtype": "f4"
         },
         "xaxis": "x",
         "y": {
          "bdata": "7kTjQQoeAUIXCcNBxTlbwU9knkHbBEPBjO9EwafXnsBsIAJCjuJCwTbvwsGs9F3BhsotQW/VL8HpNAZCmh1fwQjd30EwobRBKS2+QbDcfT8=",
          "dtype": "f4"
         },
         "yaxis": "y"
        },
        {
         "customdata": [
          [
           "Tahm Kench",
           "14.12"
          ],
          [
           "Tahm Kench",
           "14.13"
          ],
          [
           "Tahm Kench",
           "14.14"
          ],
          [
           "Tahm Kench",
           "14.15"
          ],
          [
           "Tahm Kench",
           "14.16"
          ],
          [
           "Tahm Kench",
           "14.17"
          ],
          [
           "Tahm Kench",
           "14.18"
          ],
          [
           "Tahm Kench",
           "14.19"
          ],
          [
           "Tahm Kench",
           "14.20"
          ],
          [
           "Tahm Kench",
           "14.21"
          ],
          [
           "Tahm Kench",
           "14.22"
          ],
          [
           "Tahm Kench",
           "14.23"
          ],
          [
           "Tahm Kench",
           "14.24"
          ],
          [
           "Tahm Kench",
           "15.01"
          ],
          [
           "Tahm Kench",
           "15.02"
          ],
          [
           "Tahm Kench",
           "15.03"
          ],
          [
           "Tahm Kench",
           "15.04"
          ],
          [
           "Tahm Kench",
           "15.05"
          ],
          [
           "Tahm Kench",
           "15.06"
          ],
          [
           "Tahm Kench",
           "15.07"
          ]
         ],
         "hovertemplate": "Champion=%{customdata[0]}<br>t-SNE Component 1=%{x}<br>t-SNE Component 2=%{y}<br>Patch=%{customdata[1]}<extra></extra>",
         "legendgroup": "Tahm Kench",
         "marker": {
          "color": "#B6E880",
          "size": 8,
          "symbol": "circle"
         },
         "mode": "markers",
         "name": "Tahm Kench",
         "showlegend": true,
         "type": "scattergl",
         "x": {
          "bdata": "VjQpQt+kKUJiBkXAC4SNQcLahr/JUwTCiCk+wZmIEL+1YN/B6o4AwmefAsIVmY9B050rwZr5CEHVePpBaOAAQrFkAUKUfSFCOi7pQWLdeUE=",
          "dtype": "f4"
         },
         "xaxis": "x",
         "y": {
          "bdata": "RATqwEVd+sBaxAPCu+dAQbC650BAlIZBGZc7wkBTA0I9jIhBdXzlQRh/3kEAbq9Bwjc6wsWeHcFdODLBGOrdQC2j5ECT96BBFJ97wV3EXkE=",
          "dtype": "f4"
         },
         "yaxis": "y"
        },
        {
         "customdata": [
          [
           "Tryndamere",
           "14.12"
          ],
          [
           "Tryndamere",
           "14.13"
          ],
          [
           "Tryndamere",
           "14.14"
          ],
          [
           "Tryndamere",
           "14.15"
          ],
          [
           "Tryndamere",
           "14.16"
          ],
          [
           "Tryndamere",
           "14.17"
          ],
          [
           "Tryndamere",
           "14.18"
          ],
          [
           "Tryndamere",
           "14.19"
          ],
          [
           "Tryndamere",
           "14.20"
          ],
          [
           "Tryndamere",
           "14.21"
          ],
          [
           "Tryndamere",
           "14.22"
          ],
          [
           "Tryndamere",
           "14.23"
          ],
          [
           "Tryndamere",
           "14.24"
          ],
          [
           "Tryndamere",
           "15.01"
          ],
          [
           "Tryndamere",
           "15.02"
          ],
          [
           "Tryndamere",
           "15.03"
          ],
          [
           "Tryndamere",
           "15.04"
          ],
          [
           "Tryndamere",
           "15.05"
          ],
          [
           "Tryndamere",
           "15.06"
          ],
          [
           "Tryndamere",
           "15.07"
          ]
         ],
         "hovertemplate": "Champion=%{customdata[0]}<br>t-SNE Component 1=%{x}<br>t-SNE Component 2=%{y}<br>Patch=%{customdata[1]}<extra></extra>",
         "legendgroup": "Tryndamere",
         "marker": {
          "color": "#FF97FF",
          "size": 8,
          "symbol": "circle"
         },
         "mode": "markers",
         "name": "Tryndamere",
         "showlegend": true,
         "type": "scattergl",
         "x": {
          "bdata": "u/q8wVhiLsLvLTzC/Ic8wtIOvMEwp9PBqKX7QT8aKUINvVVAisCEQegYQ8LJBUvCozknwiDhmMGi2yHCxkTyweTcPMIHl8tBeKJ1QDOhH0E=",
          "dtype": "f4"
         },
         "xaxis": "x",
         "y": {
          "bdata": "ZCUVwJri2MERTKrBMASswZpXFcDvx5nBs7LXQRmgj8HsBA3CYYcGwj9gOcFtJYbBeVRxQdMIBT9sToXBlS3mwQFeWkHDkDHCr0ckwnOAo0A=",
          "dtype": "f4"
         },
         "yaxis": "y"
        },
        {
         "customdata": [
          [
           "Briar",
           "14.12"
          ],
          [
           "Briar",
           "14.13"
          ],
          [
           "Briar",
           "14.14"
          ],
          [
           "Briar",
           "14.15"
          ],
          [
           "Briar",
           "14.16"
          ],
          [
           "Briar",
           "14.17"
          ],
          [
           "Briar",
           "14.18"
          ],
          [
           "Briar",
           "14.19"
          ],
          [
           "Briar",
           "14.20"
          ],
          [
           "Briar",
           "14.21"
          ],
          [
           "Briar",
           "14.22"
          ],
          [
           "Briar",
           "14.23"
          ],
          [
           "Briar",
           "14.24"
          ],
          [
           "Briar",
           "15.01"
          ],
          [
           "Briar",
           "15.02"
          ],
          [
           "Briar",
           "15.03"
          ],
          [
           "Briar",
           "15.04"
          ],
          [
           "Briar",
           "15.05"
          ],
          [
           "Briar",
           "15.06"
          ],
          [
           "Briar",
           "15.07"
          ]
         ],
         "hovertemplate": "Champion=%{customdata[0]}<br>t-SNE Component 1=%{x}<br>t-SNE Component 2=%{y}<br>Patch=%{customdata[1]}<extra></extra>",
         "legendgroup": "Briar",
         "marker": {
          "color": "#FECB52",
          "size": 8,
          "symbol": "circle"
         },
         "mode": "markers",
         "name": "Briar",
         "showlegend": true,
         "type": "scattergl",
         "x": {
          "bdata": "LuhdQZQYIkKgK9JBcj/lQQYc3cFDHxrBsbbRQZ2VUcLGTOXAcS4hwqaPscHCY6BBgh7PwOoz20EGu5lBMO4kQYXbK8HcAQpCnKViP6G+C8E=",
          "dtype": "f4"
         },
         "xaxis": "x",
         "y": {
          "bdata": "Q8WawZOUqsHirgzC+5+BwPDtzkBFkgvBgKcMwo1E0cE3LOFByEqTwe/Ou0AW0GHBSBD4QeobC0KUljBCqgMnQroMykGdexhC9+TxQYsr70A=",
          "dtype": "f4"
         },
         "yaxis": "y"
        },
        {
         "customdata": [
          [
           "Viego",
           "14.12"
          ],
          [
           "Viego",
           "14.13"
          ],
          [
           "Viego",
           "14.14"
          ],
          [
           "Viego",
           "14.15"
          ],
          [
           "Viego",
           "14.16"
          ],
          [
           "Viego",
           "14.17"
          ],
          [
           "Viego",
           "14.18"
          ],
          [
           "Viego",
           "14.19"
          ],
          [
           "Viego",
           "14.20"
          ],
          [
           "Viego",
           "14.21"
          ],
          [
           "Viego",
           "14.22"
          ],
          [
           "Viego",
           "14.23"
          ],
          [
           "Viego",
           "14.24"
          ],
          [
           "Viego",
           "15.01"
          ],
          [
           "Viego",
           "15.02"
          ],
          [
           "Viego",
           "15.03"
          ],
          [
           "Viego",
           "15.04"
          ],
          [
           "Viego",
           "15.05"
          ],
          [
           "Viego",
           "15.06"
          ],
          [
           "Viego",
           "15.07"
          ]
         ],
         "hovertemplate": "Champion=%{customdata[0]}<br>t-SNE Component 1=%{x}<br>t-SNE Component 2=%{y}<br>Patch=%{customdata[1]}<extra></extra>",
         "legendgroup": "Viego",
         "marker": {
          "color": "#636efa",
          "size": 8,
          "symbol": "circle"
         },
         "mode": "markers",
         "name": "Viego",
         "showlegend": true,
         "type": "scattergl",
         "x": {
          "bdata": "0PKkwWND50Fg+eJBy1+SwXViPUIiRnHBz0klwjdPIcEUjB7Bmxy4wDM/FcFEKkpAgNWNwT7DD0GdZwXB69ejQdebPkLuPLpBjeEVQveKl8E=",
          "dtype": "f4"
         },
         "xaxis": "x",
         "y": {
          "bdata": "s6KNwXbcA0Kl5u5BRRk+wZJin8G3+lJBxTbTwPBVFEJo5xNCD/URQWjAIkE16G5B8BFgwap9TkK9h0xBXdwUwYwsn8HGQczBmzHpwXxTisE=",
          "dtype": "f4"
         },
         "yaxis": "y"
        },
        {
         "customdata": [
          [
           "Senna",
           "14.12"
          ],
          [
           "Senna",
           "14.13"
          ],
          [
           "Senna",
           "14.14"
          ],
          [
           "Senna",
           "14.15"
          ],
          [
           "Senna",
           "14.16"
          ],
          [
           "Senna",
           "14.17"
          ],
          [
           "Senna",
           "14.18"
          ],
          [
           "Senna",
           "14.19"
          ],
          [
           "Senna",
           "14.20"
          ],
          [
           "Senna",
           "14.21"
          ],
          [
           "Senna",
           "14.22"
          ],
          [
           "Senna",
           "14.23"
          ],
          [
           "Senna",
           "14.24"
          ],
          [
           "Senna",
           "15.01"
          ],
          [
           "Senna",
           "15.02"
          ],
          [
           "Senna",
           "15.03"
          ],
          [
           "Senna",
           "15.04"
          ],
          [
           "Senna",
           "15.05"
          ],
          [
           "Senna",
           "15.06"
          ],
          [
           "Senna",
           "15.07"
          ]
         ],
         "hovertemplate": "Champion=%{customdata[0]}<br>t-SNE Component 1=%{x}<br>t-SNE Component 2=%{y}<br>Patch=%{customdata[1]}<extra></extra>",
         "legendgroup": "Senna",
         "marker": {
          "color": "#EF553B",
          "size": 8,
          "symbol": "circle"
         },
         "mode": "markers",
         "name": "Senna",
         "showlegend": true,
         "type": "scattergl",
         "x": {
          "bdata": "sc0JQhb1IEKlZiNCIt0nQI7N6MAfzpDANf6EQX4kfkEfqntBbSldwBKeEkJK6qBB7WxmQrhgaUFQw6nB83F6wM30SkLvR1ZCjUlXQnE6HsA=",
          "dtype": "f4"
         },
         "xaxis": "x",
         "y": {
          "bdata": "/IS2QeUVvUF7grFBHRKQQNG8McJ/BxbCl2yzQbQftEE+cshBttjoQXmGvcFP9ARBB8h5waJks0FL9zdCis84Qnaxy8HXxMhAOC/HQPbwsEA=",
          "dtype": "f4"
         },
         "yaxis": "y"
        },
        {
         "customdata": [
          [
           "Lucian",
           "14.12"
          ],
          [
           "Lucian",
           "14.13"
          ],
          [
           "Lucian",
           "14.14"
          ],
          [
           "Lucian",
           "14.15"
          ],
          [
           "Lucian",
           "14.16"
          ],
          [
           "Lucian",
           "14.17"
          ],
          [
           "Lucian",
           "14.18"
          ],
          [
           "Lucian",
           "14.19"
          ],
          [
           "Lucian",
           "14.20"
          ],
          [
           "Lucian",
           "14.21"
          ],
          [
           "Lucian",
           "14.22"
          ],
          [
           "Lucian",
           "14.23"
          ],
          [
           "Lucian",
           "14.24"
          ],
          [
           "Lucian",
           "15.01"
          ],
          [
           "Lucian",
           "15.02"
          ],
          [
           "Lucian",
           "15.03"
          ],
          [
           "Lucian",
           "15.04"
          ],
          [
           "Lucian",
           "15.05"
          ],
          [
           "Lucian",
           "15.06"
          ],
          [
           "Lucian",
           "15.07"
          ]
         ],
         "hovertemplate": "Champion=%{customdata[0]}<br>t-SNE Component 1=%{x}<br>t-SNE Component 2=%{y}<br>Patch=%{customdata[1]}<extra></extra>",
         "legendgroup": "Lucian",
         "marker": {
          "color": "#00cc96",
          "size": 8,
          "symbol": "circle"
         },
         "mode": "markers",
         "name": "Lucian",
         "showlegend": true,
         "type": "scattergl",
         "x": {
          "bdata": "eAqlwRe9YMIq7xTCyM+ywZyyIkIR427B0uWEwR7dwUH4U9ZAPk0mQrUC0sGNBX5BgYegQc31o0EWGWBAZegOQsQy20E6vfhB19xTwTXapb8=",
          "dtype": "f4"
         },
         "xaxis": "x",
         "y": {
          "bdata": "3RkQQTrcsD0bnUDBAmUCQkorEMH30cVB0/mxQQBTNEERtIxBDICtwOZjqkHzop1BMK95QWxSp0CzSq9Bl3yFwU5tXb5a2oTBmaLhQbGFWL4=",
          "dtype": "f4"
         },
         "yaxis": "y"
        },
        {
         "customdata": [
          [
           "Zed",
           "14.12"
          ],
          [
           "Zed",
           "14.13"
          ],
          [
           "Zed",
           "14.14"
          ],
          [
           "Zed",
           "14.15"
          ],
          [
           "Zed",
           "14.16"
          ],
          [
           "Zed",
           "14.17"
          ],
          [
           "Zed",
           "14.18"
          ],
          [
           "Zed",
           "14.19"
          ],
          [
           "Zed",
           "14.20"
          ],
          [
           "Zed",
           "14.21"
          ],
          [
           "Zed",
           "14.22"
          ],
          [
           "Zed",
           "14.23"
          ],
          [
           "Zed",
           "14.24"
          ],
          [
           "Zed",
           "15.01"
          ],
          [
           "Zed",
           "15.02"
          ],
          [
           "Zed",
           "15.03"
          ],
          [
           "Zed",
           "15.04"
          ],
          [
           "Zed",
           "15.05"
          ],
          [
           "Zed",
           "15.06"
          ],
          [
           "Zed",
           "15.07"
          ]
         ],
         "hovertemplate": "Champion=%{customdata[0]}<br>t-SNE Component 1=%{x}<br>t-SNE Component 2=%{y}<br>Patch=%{customdata[1]}<extra></extra>",
         "legendgroup": "Zed",
         "marker": {
          "color": "#ab63fa",
          "size": 8,
          "symbol": "circle"
         },
         "mode": "markers",
         "name": "Zed",
         "showlegend": true,
         "type": "scattergl",
         "x": {
          "bdata": "HcUUQRJ9M0IDamrBe73BwYhhRMKzTCHBEKdVwa46fEGZoWfBce8oQc7tHkEw/3+/9a18QG9C90BHuZY/hpWGwXYIH8GWxsdAU+eFwctRgD8=",
          "dtype": "f4"
         },
         "xaxis": "x",
         "y": {
          "bdata": "PK9pwHt2/MB7843B4gw5wfDqxkFU2h/B5VUgQm/ohsGf/qfBYIESQgM8O0Khr/BBQUoLQt4Tg8FaLg1CAkiewSBfxsFLs5vBbIKOwVbP/EE=",
          "dtype": "f4"
         },
         "yaxis": "y"
        },
        {
         "customdata": [
          [
           "Jax",
           "14.12"
          ],
          [
           "Jax",
           "14.13"
          ],
          [
           "Jax",
           "14.14"
          ],
          [
           "Jax",
           "14.15"
          ],
          [
           "Jax",
           "14.16"
          ],
          [
           "Jax",
           "14.17"
          ],
          [
           "Jax",
           "14.18"
          ],
          [
           "Jax",
           "14.19"
          ],
          [
           "Jax",
           "14.20"
          ],
          [
           "Jax",
           "14.21"
          ],
          [
           "Jax",
           "14.22"
          ],
          [
           "Jax",
           "14.23"
          ],
          [
           "Jax",
           "14.24"
          ],
          [
           "Jax",
           "15.01"
          ],
          [
           "Jax",
           "15.02"
          ],
          [
           "Jax",
           "15.03"
          ],
          [
           "Jax",
           "15.04"
          ],
          [
           "Jax",
           "15.05"
          ],
          [
           "Jax",
           "15.06"
          ],
          [
           "Jax",
           "15.07"
          ]
         ],
         "hovertemplate": "Champion=%{customdata[0]}<br>t-SNE Component 1=%{x}<br>t-SNE Component 2=%{y}<br>Patch=%{customdata[1]}<extra></extra>",
         "legendgroup": "Jax",
         "marker": {
          "color": "#FFA15A",
          "size": 8,
          "symbol": "circle"
         },
         "mode": "markers",
         "name": "Jax",
         "showlegend": true,
         "type": "scattergl",
         "x": {
          "bdata": "wCTNwe+C1cFTL8zBOWoUwn0/MkGZXADCe/wSwDky6MFahhPCAailQVJdj0FbqphB/uXaQRQu4MFiGxVCBJ6bQChhVULw+cZBzs8QQB3i1EA=",
          "dtype": "f4"
         },
         "xaxis": "x",
         "y": {
          "bdata": "cFKSwcjDicGgutq/AWycwYiuHUIYXNzB5sTDwYvzvkBiAMLBAmmJQW4P1UB9UN9BwsSSQBZ4v0HggAfCPovlQVmh1sCMsy3Bd+PnQbIq2EA=",
          "dtype": "f4"
         },
         "yaxis": "y"
        },
        {
         "customdata": [
          [
           "Kled",
           "14.12"
          ],
          [
           "Kled",
           "14.13"
          ],
          [
           "Kled",
           "14.14"
          ],
          [
           "Kled",
           "14.15"
          ],
          [
           "Kled",
           "14.16"
          ],
          [
           "Kled",
           "14.17"
          ],
          [
           "Kled",
           "14.18"
          ],
          [
           "Kled",
           "14.19"
          ],
          [
           "Kled",
           "14.20"
          ],
          [
           "Kled",
           "14.21"
          ],
          [
           "Kled",
           "14.22"
          ],
          [
           "Kled",
           "14.23"
          ],
          [
           "Kled",
           "14.24"
          ],
          [
           "Kled",
           "15.01"
          ],
          [
           "Kled",
           "15.02"
          ],
          [
           "Kled",
           "15.03"
          ],
          [
           "Kled",
           "15.04"
          ],
          [
           "Kled",
           "15.05"
          ],
          [
           "Kled",
           "15.06"
          ],
          [
           "Kled",
           "15.07"
          ]
         ],
         "hovertemplate": "Champion=%{customdata[0]}<br>t-SNE Component 1=%{x}<br>t-SNE Component 2=%{y}<br>Patch=%{customdata[1]}<extra></extra>",
         "legendgroup": "Kled",
         "marker": {
          "color": "#19d3f3",
          "size": 8,
          "symbol": "circle"
         },
         "mode": "markers",
         "name": "Kled",
         "showlegend": true,
         "type": "scattergl",
         "x": {
          "bdata": "3vLTwTuf9MEt1hnCcF/1wU1z6MG+OPXByoPoQCZVoL+jZfxB90npQNfC2EGYURPBlXlVwkJ+VsLyak3Chxr+QW/jCMEZRDzCRsQZQnpt4UA=",
          "dtype": "f4"
         },
         "xaxis": "x",
         "y": {
          "bdata": "JLkswTPFOL+MhxJCbHXFvlRj4b1ZwaZB6B36wN58rkERV+e+6ZgSwZxT8UGt1/JAvwokQDJ0VsDYRpjAsiPZQfQ84sH+F2W/8sj/weD+tD8=",
          "dtype": "f4"
         },
         "yaxis": "y"
        },
        {
         "customdata": [
          [
           "Ekko",
           "14.12"
          ],
          [
           "Ekko",
           "14.13"
          ],
          [
           "Ekko",
           "14.14"
          ],
          [
           "Ekko",
           "14.15"
          ],
          [
           "Ekko",
           "14.16"
          ],
          [
           "Ekko",
           "14.17"
          ],
          [
           "Ekko",
           "14.18"
          ],
          [
           "Ekko",
           "14.19"
          ],
          [
           "Ekko",
           "14.20"
          ],
          [
           "Ekko",
           "14.21"
          ],
          [
           "Ekko",
           "14.22"
          ],
          [
           "Ekko",
           "14.23"
          ],
          [
           "Ekko",
           "14.24"
          ],
          [
           "Ekko",
           "15.01"
          ],
          [
           "Ekko",
           "15.02"
          ],
          [
           "Ekko",
           "15.03"
          ],
          [
           "Ekko",
           "15.04"
          ],
          [
           "Ekko",
           "15.05"
          ],
          [
           "Ekko",
           "15.06"
          ],
          [
           "Ekko",
           "15.07"
          ]
         ],
         "hovertemplate": "Champion=%{customdata[0]}<br>t-SNE Component 1=%{x}<br>t-SNE Component 2=%{y}<br>Patch=%{customdata[1]}<extra></extra>",
         "legendgroup": "Ekko",
         "marker": {
          "color": "#FF6692",
          "size": 8,
          "symbol": "circle"
         },
         "mode": "markers",
         "name": "Ekko",
         "showlegend": true,
         "type": "scattergl",
         "x": {
          "bdata": "6Fm7wXKYR0D2UgZBh2eDwKmtUkEzgSLC9yPBQD+FtkD7dZBAy4EvwUIci8G9HpXB0YiUwTpVmUFoFIfB99D7v09HHkHigFzBPyxrQV8X0MA=",
          "dtype": "f4"
         },
         "xaxis": "x",
         "y": {
          "bdata": "yVUxQmTVAcKOkYVA8/UgQvzsNEKKAztBoos8wvLQs0EvhxpC/NuZQXPrPUGnIghCRXEIQk9530ETpe9BIDu+Qezss0GDQiJCG4yFQYh1tkE=",
          "dtype": "f4"
         },
         "yaxis": "y"
        },
        {
         "customdata": [
          [
           "Qiyana",
           "14.12"
          ],
          [
           "Qiyana",
           "14.13"
          ],
          [
           "Qiyana",
           "14.14"
          ],
          [
           "Qiyana",
           "14.15"
          ],
          [
           "Qiyana",
           "14.16"
          ],
          [
           "Qiyana",
           "14.17"
          ],
          [
           "Qiyana",
           "14.18"
          ],
          [
           "Qiyana",
           "14.19"
          ],
          [
           "Qiyana",
           "14.20"
          ],
          [
           "Qiyana",
           "14.21"
          ],
          [
           "Qiyana",
           "14.22"
          ],
          [
           "Qiyana",
           "14.23"
          ],
          [
           "Qiyana",
           "14.24"
          ],
          [
           "Qiyana",
           "15.01"
          ],
          [
           "Qiyana",
           "15.02"
          ],
          [
           "Qiyana",
           "15.03"
          ],
          [
           "Qiyana",
           "15.04"
          ],
          [
           "Qiyana",
           "15.05"
          ],
          [
           "Qiyana",
           "15.06"
          ],
          [
           "Qiyana",
           "15.07"
          ]
         ],
         "hovertemplate": "Champion=%{customdata[0]}<br>t-SNE Component 1=%{x}<br>t-SNE Component 2=%{y}<br>Patch=%{customdata[1]}<extra></extra>",
         "legendgroup": "Qiyana",
         "marker": {
          "color": "#B6E880",
          "size": 8,
          "symbol": "circle"
         },
         "mode": "markers",
         "name": "Qiyana",
         "showlegend": true,
         "type": "scattergl",
         "x": {
          "bdata": "SDXwQaF/x8HoxLBB+hgwQQTKJsJAgSvCSkfGP6JNJ0Jk3jNCsFAMwXU0CcIjdhfCL07qwY5SlcHMBvLBg53hQHvpyEH9K1vB/uD7wSpdqcE=",
          "dtype": "f4"
         },
         "xaxis": "x",
         "y": {
          "bdata": "B5sHwvXIjsG5r7s/8vW4QXkq2T+gy3PB3Ik4wp/7uMAljnVBPpGKwfO9hcBn89pBLU1TwTFlA8K0ZT/B008lQmC0LUH3M0BCIx3yQVDYWD8=",
          "dtype": "f4"
         },
         "yaxis": "y"
        },
        {
         "customdata": [
          [
           "Morgana",
           "14.12"
          ],
          [
           "Morgana",
           "14.13"
          ],
          [
           "Morgana",
           "14.14"
          ],
          [
           "Morgana",
           "14.15"
          ],
          [
           "Morgana",
           "14.16"
          ],
          [
           "Morgana",
           "14.17"
          ],
          [
           "Morgana",
           "14.18"
          ],
          [
           "Morgana",
           "14.19"
          ],
          [
           "Morgana",
           "14.20"
          ],
          [
           "Morgana",
           "14.21"
          ],
          [
           "Morgana",
           "14.22"
          ],
          [
           "Morgana",
           "14.23"
          ],
          [
           "Morgana",
           "14.24"
          ],
          [
           "Morgana",
           "15.01"
          ],
          [
           "Morgana",
           "15.02"
          ],
          [
           "Morgana",
           "15.03"
          ],
          [
           "Morgana",
           "15.04"
          ],
          [
           "Morgana",
           "15.05"
          ],
          [
           "Morgana",
           "15.06"
          ],
          [
           "Morgana",
           "15.07"
          ]
         ],
         "hovertemplate": "Champion=%{customdata[0]}<br>t-SNE Component 1=%{x}<br>t-SNE Component 2=%{y}<br>Patch=%{customdata[1]}<extra></extra>",
         "legendgroup": "Morgana",
         "marker": {
          "color": "#FF97FF",
          "size": 8,
          "symbol": "circle"
         },
         "mode": "markers",
         "name": "Morgana",
         "showlegend": true,
         "type": "scattergl",
         "x": {
          "bdata": "Ph8XQpj7GkLeeB5CsMqtQbYHH0JapCZCgK0AvzYqC8HSVhRBl8RRwpx+VsIBrVXCsMlQwTaaZ0AuBGZBmhbBQW7HqEB+TZdAFPwowTgejcE=",
          "dtype": "f4"
         },
         "xaxis": "x",
         "y": {
          "bdata": "j/K6QcXnskEwuL1BKkQuQrl2vUE+8VnBoO1Mwsy7FkJmpSjBnYHrQGfY50AirNNAP6cgQjQp4sACpi5C6LOHQGFwOsL61PDAD5g9weOJ7UE=",
          "dtype": "f4"
         },
         "yaxis": "y"
        },
        {
         "customdata": [
          [
           "Vi",
           "14.12"
          ],
          [
           "Vi",
           "14.13"
          ],
          [
           "Vi",
           "14.14"
          ],
          [
           "Vi",
           "14.15"
          ],
          [
           "Vi",
           "14.16"
          ],
          [
           "Vi",
           "14.17"
          ],
          [
           "Vi",
           "14.18"
          ],
          [
           "Vi",
           "14.19"
          ],
          [
           "Vi",
           "14.20"
          ],
          [
           "Vi",
           "14.21"
          ],
          [
           "Vi",
           "14.22"
          ],
          [
           "Vi",
           "14.23"
          ],
          [
           "Vi",
           "14.24"
          ],
          [
           "Vi",
           "15.01"
          ],
          [
           "Vi",
           "15.02"
          ],
          [
           "Vi",
           "15.03"
          ],
          [
           "Vi",
           "15.04"
          ],
          [
           "Vi",
           "15.05"
          ],
          [
           "Vi",
           "15.06"
          ],
          [
           "Vi",
           "15.07"
          ]
         ],
         "hovertemplate": "Champion=%{customdata[0]}<br>t-SNE Component 1=%{x}<br>t-SNE Component 2=%{y}<br>Patch=%{customdata[1]}<extra></extra>",
         "legendgroup": "Vi",
         "marker": {
          "color": "#FECB52",
          "size": 8,
          "symbol": "circle"
         },
         "mode": "markers",
         "name": "Vi",
         "showlegend": true,
         "type": "scattergl",
         "x": {
          "bdata": "Nu0dQrrNH0LFWf5B8HcZQnQSBEL9bfpBsb+EQHFhhkDRP+tBqAgEQpi14EE/jddBxHcIQS5wjUEhbiDB0AvLQS/A7kG2UQpCGUUYQgtkCcE=",
          "dtype": "f4"
         },
         "xaxis": "x",
         "y": {
          "bdata": "tzKvwfE3psEoP9DBOT77wEYyC8Ihf8DBThG6wRwMP8JWwRjCVh1bwWv4pz9HivdAkwbHQfxNocF7ScJBoZBnP/aYkEGVcOHAyDkKQj3DR78=",
          "dtype": "f4"
         },
         "yaxis": "y"
        },
        {
         "customdata": [
          [
           "Zilean",
           "14.12"
          ],
          [
           "Zilean",
           "14.13"
          ],
          [
           "Zilean",
           "14.14"
          ],
          [
           "Zilean",
           "14.15"
          ],
          [
           "Zilean",
           "14.16"
          ],
          [
           "Zilean",
           "14.17"
          ],
          [
           "Zilean",
           "14.18"
          ],
          [
           "Zilean",
           "14.19"
          ],
          [
           "Zilean",
           "14.20"
          ],
          [
           "Zilean",
           "14.21"
          ],
          [
           "Zilean",
           "14.22"
          ],
          [
           "Zilean",
           "14.23"
          ],
          [
           "Zilean",
           "14.24"
          ],
          [
           "Zilean",
           "15.01"
          ],
          [
           "Zilean",
           "15.02"
          ],
          [
           "Zilean",
           "15.03"
          ],
          [
           "Zilean",
           "15.04"
          ],
          [
           "Zilean",
           "15.05"
          ],
          [
           "Zilean",
           "15.06"
          ],
          [
           "Zilean",
           "15.07"
          ]
         ],
         "hovertemplate": "Champion=%{customdata[0]}<br>t-SNE Component 1=%{x}<br>t-SNE Component 2=%{y}<br>Patch=%{customdata[1]}<extra></extra>",
         "legendgroup": "Zilean",
         "marker": {
          "color": "#636efa",
          "size": 8,
          "symbol": "circle"
         },
         "mode": "markers",
         "name": "Zilean",
         "showlegend": true,
         "type": "scattergl",
         "x": {
          "bdata": "PDR2QcOOuEFfccPBOQRsQXTLEsJczKBBexcpQhloGMIVCRfCJOZJwZ2KGcJUJEfC//T4QcOPJEH9k5RB8B1aQWg/EMKMj0jCCZmMwO9yLkE=",
          "dtype": "f4"
         },
         "xaxis": "x",
         "y": {
          "bdata": "WLCaQSUVh0Fjv1JAS8vTQax+DkJon5xBq7ltQP1jHD/mtd9Bs+fcQTCQ5EGM82y/rTpbQW0kmUFqkpVBNA1nwe7J30H494/AoKu6QSearEE=",
          "dtype": "f4"
         },
         "yaxis": "y"
        },
        {
         "customdata": [
          [
           "Aatrox",
           "14.12"
          ],
          [
           "Aatrox",
           "14.13"
          ],
          [
           "Aatrox",
           "14.14"
          ],
          [
           "Aatrox",
           "14.15"
          ],
          [
           "Aatrox",
           "14.16"
          ],
          [
           "Aatrox",
           "14.17"
          ],
          [
           "Aatrox",
           "14.18"
          ],
          [
           "Aatrox",
           "14.19"
          ],
          [
           "Aatrox",
           "14.20"
          ],
          [
           "Aatrox",
           "14.21"
          ],
          [
           "Aatrox",
           "14.22"
          ],
          [
           "Aatrox",
           "14.23"
          ],
          [
           "Aatrox",
           "14.24"
          ],
          [
           "Aatrox",
           "15.01"
          ],
          [
           "Aatrox",
           "15.02"
          ],
          [
           "Aatrox",
           "15.03"
          ],
          [
           "Aatrox",
           "15.04"
          ],
          [
           "Aatrox",
           "15.05"
          ],
          [
           "Aatrox",
           "15.06"
          ],
          [
           "Aatrox",
           "15.07"
          ]
         ],
         "hovertemplate": "Champion=%{customdata[0]}<br>t-SNE Component 1=%{x}<br>t-SNE Component 2=%{y}<br>Patch=%{customdata[1]}<extra></extra>",
         "legendgroup": "Aatrox",
         "marker": {
          "color": "#EF553B",
          "size": 8,
          "symbol": "circle"
         },
         "mode": "markers",
         "name": "Aatrox",
         "showlegend": true,
         "type": "scattergl",
         "x": {
          "bdata": "imlyP3pSzkFz9+tAiIMuQsSl2kHqIbLA1BuPwcnzb8FmRvXBHwlzQPFNMUHnK4pBHQ5tweLP+UBFPvhAoiLmQdTAWcGBoQvBCdPWQN6QTUA=",
          "dtype": "f4"
         },
         "xaxis": "x",
         "y": {
          "bdata": "nCT+QeENMMFVRkc/+pR+QdABqMAZgGZBcHdcwbora0FcXgTARSd9QcH8AcHdoBRBQSD1QKdWosBr8KnAvPXvQZbZQkCDoqVB6BZ4QEGPf8A=",
          "dtype": "f4"
         },
         "yaxis": "y"
        },
        {
         "customdata": [
          [
           "Nami",
           "14.12"
          ],
          [
           "Nami",
           "14.13"
          ],
          [
           "Nami",
           "14.14"
          ],
          [
           "Nami",
           "14.15"
          ],
          [
           "Nami",
           "14.16"
          ],
          [
           "Nami",
           "14.17"
          ],
          [
           "Nami",
           "14.18"
          ],
          [
           "Nami",
           "14.19"
          ],
          [
           "Nami",
           "14.20"
          ],
          [
           "Nami",
           "14.21"
          ],
          [
           "Nami",
           "14.22"
          ],
          [
           "Nami",
           "14.23"
          ],
          [
           "Nami",
           "14.24"
          ],
          [
           "Nami",
           "15.01"
          ],
          [
           "Nami",
           "15.02"
          ],
          [
           "Nami",
           "15.03"
          ],
          [
           "Nami",
           "15.04"
          ],
          [
           "Nami",
           "15.05"
          ],
          [
           "Nami",
           "15.06"
          ],
          [
           "Nami",
           "15.07"
          ]
         ],
         "hovertemplate": "Champion=%{customdata[0]}<br>t-SNE Component 1=%{x}<br>t-SNE Component 2=%{y}<br>Patch=%{customdata[1]}<extra></extra>",
         "legendgroup": "Nami",
         "marker": {
          "color": "#00cc96",
          "size": 8,
          "symbol": "circle"
         },
         "mode": "markers",
         "name": "Nami",
         "showlegend": true,
         "type": "scattergl",
         "x": {
          "bdata": "L7JTQcnTw0D/WWfB2piWQVtRg0G9f3TBO9+bQLh/hkExv4FBUdAxQnLsmUHHhkBBP81KQdbRksADhDZB5XfbQWZZTEE0vvU/MjnWQQJxqL8=",
          "dtype": "f4"
         },
         "xaxis": "x",
         "y": {
          "bdata": "SF6TQT4mIcHaSgHCEZOSwerArMFgVQnC00U0wdXQPb/eB6a+qpsDQOA5b0Gj6F+/oQqsQWYlMcKOzFrBx6QSQdvJLMEnMKjBSXJcQaNZnMA=",
          "dtype": "f4"
         },
         "yaxis": "y"
        },
        {
         "customdata": [
          [
           "Azir",
           "14.12"
          ],
          [
           "Azir",
           "14.13"
          ],
          [
           "Azir",
           "14.14"
          ],
          [
           "Azir",
           "14.15"
          ],
          [
           "Azir",
           "14.16"
          ],
          [
           "Azir",
           "14.17"
          ],
          [
           "Azir",
           "14.18"
          ],
          [
           "Azir",
           "14.19"
          ],
          [
           "Azir",
           "14.20"
          ],
          [
           "Azir",
           "14.21"
          ],
          [
           "Azir",
           "14.22"
          ],
          [
           "Azir",
           "14.23"
          ],
          [
           "Azir",
           "14.24"
          ],
          [
           "Azir",
           "15.01"
          ],
          [
           "Azir",
           "15.02"
          ],
          [
           "Azir",
           "15.03"
          ],
          [
           "Azir",
           "15.04"
          ],
          [
           "Azir",
           "15.05"
          ],
          [
           "Azir",
           "15.06"
          ],
          [
           "Azir",
           "15.07"
          ]
         ],
         "hovertemplate": "Champion=%{customdata[0]}<br>t-SNE Component 1=%{x}<br>t-SNE Component 2=%{y}<br>Patch=%{customdata[1]}<extra></extra>",
         "legendgroup": "Azir",
         "marker": {
          "color": "#ab63fa",
          "size": 8,
          "symbol": "circle"
         },
         "mode": "markers",
         "name": "Azir",
         "showlegend": true,
         "type": "scattergl",
         "x": {
          "bdata": "hQPDvyh4XUIoYCTBkP31QRXm2cH2oCZB6It1wOPeL0JlTj1Cyid9wQRKTEFgtw/CdUguwi1MM0EtoZfBaRIYwWFNw8EBVCxCJlYov8yFVcE=",
          "dtype": "f4"
         },
         "xaxis": "x",
         "y": {
          "bdata": "3e4kwv0rBMGuMj3A5WcLwszoUMEqgCLC5Y8mwgTTgsEK803BC9vMwYeENcE0gYXASpNOwSvx7cDq+prBGWubwRAYEsH468HB20TowW2Mt8E=",
          "dtype": "f4"
         },
         "yaxis": "y"
        },
        {
         "customdata": [
          [
           "Singed",
           "14.12"
          ],
          [
           "Singed",
           "14.13"
          ],
          [
           "Singed",
           "14.14"
          ],
          [
           "Singed",
           "14.15"
          ],
          [
           "Singed",
           "14.16"
          ],
          [
           "Singed",
           "14.17"
          ],
          [
           "Singed",
           "14.18"
          ],
          [
           "Singed",
           "14.19"
          ],
          [
           "Singed",
           "14.20"
          ],
          [
           "Singed",
           "14.21"
          ],
          [
           "Singed",
           "14.22"
          ],
          [
           "Singed",
           "14.23"
          ],
          [
           "Singed",
           "14.24"
          ],
          [
           "Singed",
           "15.01"
          ],
          [
           "Singed",
           "15.02"
          ],
          [
           "Singed",
           "15.03"
          ],
          [
           "Singed",
           "15.04"
          ],
          [
           "Singed",
           "15.05"
          ],
          [
           "Singed",
           "15.06"
          ],
          [
           "Singed",
           "15.07"
          ]
         ],
         "hovertemplate": "Champion=%{customdata[0]}<br>t-SNE Component 1=%{x}<br>t-SNE Component 2=%{y}<br>Patch=%{customdata[1]}<extra></extra>",
         "legendgroup": "Singed",
         "marker": {
          "color": "#FFA15A",
          "size": 8,
          "symbol": "circle"
         },
         "mode": "markers",
         "name": "Singed",
         "showlegend": true,
         "type": "scattergl",
         "x": {
          "bdata": "gSexQSZbKUIz1mBCqabBQYBdQULzNKFB+iW4QbLUVMJMxAtBgJfkQTesskHHsTZCztInQsogVcI2ywPCLvI1wjFHLMIlMEvBas12wXuRoMA=",
          "dtype": "f4"
         },
         "xaxis": "x",
         "y": {
          "bdata": "kDGowdx7rsGYSQXBD7MywlhIYkEtPabB8fMywkozJkEtuR7BL4yPwap3NMLo3UjBTKfRwTR5FUEUcA7B+idYQBCqdsDqbTbBsK+EwSzCx78=",
          "dtype": "f4"
         },
         "yaxis": "y"
        },
        {
         "customdata": [
          [
           "Evelynn",
           "14.12"
          ],
          [
           "Evelynn",
           "14.13"
          ],
          [
           "Evelynn",
           "14.14"
          ],
          [
           "Evelynn",
           "14.15"
          ],
          [
           "Evelynn",
           "14.16"
          ],
          [
           "Evelynn",
           "14.17"
          ],
          [
           "Evelynn",
           "14.18"
          ],
          [
           "Evelynn",
           "14.19"
          ],
          [
           "Evelynn",
           "14.20"
          ],
          [
           "Evelynn",
           "14.21"
          ],
          [
           "Evelynn",
           "14.22"
          ],
          [
           "Evelynn",
           "14.23"
          ],
          [
           "Evelynn",
           "14.24"
          ],
          [
           "Evelynn",
           "15.01"
          ],
          [
           "Evelynn",
           "15.02"
          ],
          [
           "Evelynn",
           "15.03"
          ],
          [
           "Evelynn",
           "15.04"
          ],
          [
           "Evelynn",
           "15.05"
          ],
          [
           "Evelynn",
           "15.06"
          ],
          [
           "Evelynn",
           "15.07"
          ]
         ],
         "hovertemplate": "Champion=%{customdata[0]}<br>t-SNE Component 1=%{x}<br>t-SNE Component 2=%{y}<br>Patch=%{customdata[1]}<extra></extra>",
         "legendgroup": "Evelynn",
         "marker": {
          "color": "#19d3f3",
          "size": 8,
          "symbol": "circle"
         },
         "mode": "markers",
         "name": "Evelynn",
         "showlegend": true,
         "type": "scattergl",
         "x": {
          "bdata": "68ROwG6VkUFngZNBLG/MwVbGtMFYhpNB4Lm8QWlOi0G5OAFBqJjxwTePv8F1Uj5CEyFcQQCX7UE6TLlALxOVQVtrjUFUwwZC8DX5wEvOj8A=",
          "dtype": "f4"
         },
         "xaxis": "x",
         "y": {
          "bdata": "IygUwssTHMKacGY+TwVXQaAIGD+vssVBN8oYQrcju0HYkTVCzUb9QaogGULeFszBiUWKwRgpHML2tzzCQ33DQc6SAkIGARVC8XkEQuZcy0A=",
          "dtype": "f4"
         },
         "yaxis": "y"
        },
        {
         "customdata": [
          [
           "Twitch",
           "14.12"
          ],
          [
           "Twitch",
           "14.13"
          ],
          [
           "Twitch",
           "14.14"
          ],
          [
           "Twitch",
           "14.15"
          ],
          [
           "Twitch",
           "14.16"
          ],
          [
           "Twitch",
           "14.17"
          ],
          [
           "Twitch",
           "14.18"
          ],
          [
           "Twitch",
           "14.19"
          ],
          [
           "Twitch",
           "14.20"
          ],
          [
           "Twitch",
           "14.21"
          ],
          [
           "Twitch",
           "14.22"
          ],
          [
           "Twitch",
           "14.23"
          ],
          [
           "Twitch",
           "14.24"
          ],
          [
           "Twitch",
           "15.01"
          ],
          [
           "Twitch",
           "15.02"
          ],
          [
           "Twitch",
           "15.03"
          ],
          [
           "Twitch",
           "15.04"
          ],
          [
           "Twitch",
           "15.05"
          ],
          [
           "Twitch",
           "15.06"
          ],
          [
           "Twitch",
           "15.07"
          ]
         ],
         "hovertemplate": "Champion=%{customdata[0]}<br>t-SNE Component 1=%{x}<br>t-SNE Component 2=%{y}<br>Patch=%{customdata[1]}<extra></extra>",
         "legendgroup": "Twitch",
         "marker": {
          "color": "#FF6692",
          "size": 8,
          "symbol": "circle"
         },
         "mode": "markers",
         "name": "Twitch",
         "showlegend": true,
         "type": "scattergl",
         "x": {
          "bdata": "zpP+wRluA8IHUkXBcYY7wiRt0kFeaQfCq+npQebcWEI/4gtBtvH2QRPLUEJBEE1CmxXdQYcyT8GFkkLB8cEMwp3BzUB96edAxs7OwdNAbEA=",
          "dtype": "f4"
         },
         "xaxis": "x",
         "y": {
          "bdata": "wOyRwCk5lcADovFBP5WeP7wHncF4nMDAhLFlQZuGjsEY5MzBNUojQTViocGAAsvB9uscQVyt8UEamPRBJ4GTQXjTl8Ekx5HB/XCWPrO33z0=",
          "dtype": "f4"
         },
         "yaxis": "y"
        },
        {
         "customdata": [
          [
           "Galio",
           "14.12"
          ],
          [
           "Galio",
           "14.13"
          ],
          [
           "Galio",
           "14.14"
          ],
          [
           "Galio",
           "14.15"
          ],
          [
           "Galio",
           "14.16"
          ],
          [
           "Galio",
           "14.17"
          ],
          [
           "Galio",
           "14.18"
          ],
          [
           "Galio",
           "14.19"
          ],
          [
           "Galio",
           "14.20"
          ],
          [
           "Galio",
           "14.21"
          ],
          [
           "Galio",
           "14.22"
          ],
          [
           "Galio",
           "14.23"
          ],
          [
           "Galio",
           "14.24"
          ],
          [
           "Galio",
           "15.01"
          ],
          [
           "Galio",
           "15.02"
          ],
          [
           "Galio",
           "15.03"
          ],
          [
           "Galio",
           "15.04"
          ],
          [
           "Galio",
           "15.05"
          ],
          [
           "Galio",
           "15.06"
          ],
          [
           "Galio",
           "15.07"
          ]
         ],
         "hovertemplate": "Champion=%{customdata[0]}<br>t-SNE Component 1=%{x}<br>t-SNE Component 2=%{y}<br>Patch=%{customdata[1]}<extra></extra>",
         "legendgroup": "Galio",
         "marker": {
          "color": "#B6E880",
          "size": 8,
          "symbol": "circle"
         },
         "mode": "markers",
         "name": "Galio",
         "showlegend": true,
         "type": "scattergl",
         "x": {
          "bdata": "oQwqwjidgcGkFATC8DMKwow398HBTA3C95X+wdEDCsKtVAfCPCwLQlCU2z/XpPtB/Od7QdCvqcH1QiVB6fmeQYCeJsBGj9dA6UWdwTPzsT8=",
          "dtype": "f4"
         },
         "xaxis": "x",
         "y": {
          "bdata": "ARPlwR/AA8BEmIHBsA2Vwa/Wn8FJtBlArLa+QRv6D0CRcCA/NisdwDAHF8JNG8nALJBuQDKWhkESD7/A6WYowTI0DMIeMgLC/VmKwNb4aME=",
          "dtype": "f4"
         },
         "yaxis": "y"
        },
        {
         "customdata": [
          [
           "Karthus",
           "14.12"
          ],
          [
           "Karthus",
           "14.13"
          ],
          [
           "Karthus",
           "14.14"
          ],
          [
           "Karthus",
           "14.15"
          ],
          [
           "Karthus",
           "14.16"
          ],
          [
           "Karthus",
           "14.17"
          ],
          [
           "Karthus",
           "14.18"
          ],
          [
           "Karthus",
           "14.19"
          ],
          [
           "Karthus",
           "14.20"
          ],
          [
           "Karthus",
           "14.21"
          ],
          [
           "Karthus",
           "14.22"
          ],
          [
           "Karthus",
           "14.23"
          ],
          [
           "Karthus",
           "14.24"
          ],
          [
           "Karthus",
           "15.01"
          ],
          [
           "Karthus",
           "15.02"
          ],
          [
           "Karthus",
           "15.03"
          ],
          [
           "Karthus",
           "15.04"
          ],
          [
           "Karthus",
           "15.05"
          ],
          [
           "Karthus",
           "15.06"
          ],
          [
           "Karthus",
           "15.07"
          ]
         ],
         "hovertemplate": "Champion=%{customdata[0]}<br>t-SNE Component 1=%{x}<br>t-SNE Component 2=%{y}<br>Patch=%{customdata[1]}<extra></extra>",
         "legendgroup": "Karthus",
         "marker": {
          "color": "#FF97FF",
          "size": 8,
          "symbol": "circle"
         },
         "mode": "markers",
         "name": "Karthus",
         "showlegend": true,
         "type": "scattergl",
         "x": {
          "bdata": "FA3RQZ6DQUKpweBB7+5WQtQvtUHhM/3B9alEQrlK3kCCea3BfHMDwmuAr8GAMt/Aqs7SQKULSEKwBEhCMaCIwLD7Q0Ku1m1BXncyQvB0PEA=",
          "dtype": "f4"
         },
         "xaxis": "x",
         "y": {
          "bdata": "i9cYQZOo38AWaErBFBs7QXUu98G3iIpB1MNlQVz+k8E63MNBpFWzQGXqtEHMLcS9K1ohQPtcl8HGWZfBvMv4QK1AGkGaxzxC4xBEQa/Bbb4=",
          "dtype": "f4"
         },
         "yaxis": "y"
        },
        {
         "customdata": [
          [
           "Cho'Gath",
           "14.12"
          ],
          [
           "Cho'Gath",
           "14.13"
          ],
          [
           "Cho'Gath",
           "14.14"
          ],
          [
           "Cho'Gath",
           "14.15"
          ],
          [
           "Cho'Gath",
           "14.16"
          ],
          [
           "Cho'Gath",
           "14.17"
          ],
          [
           "Cho'Gath",
           "14.18"
          ],
          [
           "Cho'Gath",
           "14.19"
          ],
          [
           "Cho'Gath",
           "14.20"
          ],
          [
           "Cho'Gath",
           "14.21"
          ],
          [
           "Cho'Gath",
           "14.22"
          ],
          [
           "Cho'Gath",
           "14.23"
          ],
          [
           "Cho'Gath",
           "14.24"
          ],
          [
           "Cho'Gath",
           "15.01"
          ],
          [
           "Cho'Gath",
           "15.02"
          ],
          [
           "Cho'Gath",
           "15.03"
          ],
          [
           "Cho'Gath",
           "15.04"
          ],
          [
           "Cho'Gath",
           "15.05"
          ],
          [
           "Cho'Gath",
           "15.06"
          ],
          [
           "Cho'Gath",
           "15.07"
          ]
         ],
         "hovertemplate": "Champion=%{customdata[0]}<br>t-SNE Component 1=%{x}<br>t-SNE Component 2=%{y}<br>Patch=%{customdata[1]}<extra></extra>",
         "legendgroup": "Cho'Gath",
         "marker": {
          "color": "#FECB52",
          "size": 8,
          "symbol": "circle"
         },
         "mode": "markers",
         "name": "Cho'Gath",
         "showlegend": true,
         "type": "scattergl",
         "x": {
          "bdata": "Ll0qQrrnLEJ3UjtCnx6bQTcW3kB+Cj5BJmoZQm5UDcJ6boxBhasZwuCRJMIto5DBEQk+QQ20cUEZubJBNYYrwnCNUcLOKMTBaf9/QYwIn78=",
          "dtype": "f4"
         },
         "xaxis": "x",
         "y": {
          "bdata": "2WGAwQiI0L+uYJU/SUkcwrqqVkGCQwhBK/QVQXiEYEEE7Q/CKHqJQBwQU0FTpyNCniqywTNwiMAT7FTBVYNQQSOCB7/xos9Bi63nwaWEiEA=",
          "dtype": "f4"
         },
         "yaxis": "y"
        },
        {
         "customdata": [
          [
           "Amumu",
           "14.12"
          ],
          [
           "Amumu",
           "14.13"
          ],
          [
           "Amumu",
           "14.14"
          ],
          [
           "Amumu",
           "14.15"
          ],
          [
           "Amumu",
           "14.16"
          ],
          [
           "Amumu",
           "14.17"
          ],
          [
           "Amumu",
           "14.18"
          ],
          [
           "Amumu",
           "14.19"
          ],
          [
           "Amumu",
           "14.20"
          ],
          [
           "Amumu",
           "14.21"
          ],
          [
           "Amumu",
           "14.22"
          ],
          [
           "Amumu",
           "14.23"
          ],
          [
           "Amumu",
           "14.24"
          ],
          [
           "Amumu",
           "15.01"
          ],
          [
           "Amumu",
           "15.02"
          ],
          [
           "Amumu",
           "15.03"
          ],
          [
           "Amumu",
           "15.04"
          ],
          [
           "Amumu",
           "15.05"
          ],
          [
           "Amumu",
           "15.06"
          ],
          [
           "Amumu",
           "15.07"
          ]
         ],
         "hovertemplate": "Champion=%{customdata[0]}<br>t-SNE Component 1=%{x}<br>t-SNE Component 2=%{y}<br>Patch=%{customdata[1]}<extra></extra>",
         "legendgroup": "Amumu",
         "marker": {
          "color": "#636efa",
          "size": 8,
          "symbol": "circle"
         },
         "mode": "markers",
         "name": "Amumu",
         "showlegend": true,
         "type": "scattergl",
         "x": {
          "bdata": "efwkQU8MV8Efs1xB/dpXQeM1t0Fi6oVBVLbfvn7ugEEKcAlCVScywH3+5EEDIShCqea+QbNQaUHTUfFBrDRwQaMQ1kEDrP7AL6Z0Qfr7TEA=",
          "dtype": "f4"
         },
         "xaxis": "x",
         "y": {
          "bdata": "sW/9war+FcLn6CZCpQUmQqinNEJeayJCJP5LQr/d5kEru3ZBhAsCwuIP2UCX9IDBY7XawXDVLELjORNBxEc7QifvwUFM0pHBWVMhwQsOe8E=",
          "dtype": "f4"
         },
         "yaxis": "y"
        },
        {
         "customdata": [
          [
           "Rammus",
           "14.12"
          ],
          [
           "Rammus",
           "14.13"
          ],
          [
           "Rammus",
           "14.14"
          ],
          [
           "Rammus",
           "14.15"
          ],
          [
           "Rammus",
           "14.16"
          ],
          [
           "Rammus",
           "14.17"
          ],
          [
           "Rammus",
           "14.18"
          ],
          [
           "Rammus",
           "14.19"
          ],
          [
           "Rammus",
           "14.20"
          ],
          [
           "Rammus",
           "14.21"
          ],
          [
           "Rammus",
           "14.22"
          ],
          [
           "Rammus",
           "14.23"
          ],
          [
           "Rammus",
           "14.24"
          ],
          [
           "Rammus",
           "15.01"
          ],
          [
           "Rammus",
           "15.02"
          ],
          [
           "Rammus",
           "15.03"
          ],
          [
           "Rammus",
           "15.04"
          ],
          [
           "Rammus",
           "15.05"
          ],
          [
           "Rammus",
           "15.06"
          ],
          [
           "Rammus",
           "15.07"
          ]
         ],
         "hovertemplate": "Champion=%{customdata[0]}<br>t-SNE Component 1=%{x}<br>t-SNE Component 2=%{y}<br>Patch=%{customdata[1]}<extra></extra>",
         "legendgroup": "Rammus",
         "marker": {
          "color": "#EF553B",
          "size": 8,
          "symbol": "circle"
         },
         "mode": "markers",
         "name": "Rammus",
         "showlegend": true,
         "type": "scattergl",
         "x": {
          "bdata": "hLJUQWE/WELOj4VBqu+2QYgUAEJtw/HBX785wApmecFdiYpBXFuWQbXKnz8qi51BsKyJwYR3MkEpyhNCN8jzwYAvD0KIfElBncFyQV5nycA=",
          "dtype": "f4"
         },
         "xaxis": "x",
         "y": {
          "bdata": "NXQ+QtxxLUE0NT9C5IXVv5he4UGurkXBhvqtwUJ5T0L6rAvBazYTwU3lGcKlWrzB95SGQehtOEI87A5CtwwPQY1nEUKR9jtCMAowQpI5NEA=",
          "dtype": "f4"
         },
         "yaxis": "y"
        },
        {
         "customdata": [
          [
           "Anivia",
           "14.12"
          ],
          [
           "Anivia",
           "14.13"
          ],
          [
           "Anivia",
           "14.14"
          ],
          [
           "Anivia",
           "14.15"
          ],
          [
           "Anivia",
           "14.16"
          ],
          [
           "Anivia",
           "14.17"
          ],
          [
           "Anivia",
           "14.18"
          ],
          [
           "Anivia",
           "14.19"
          ],
          [
           "Anivia",
           "14.20"
          ],
          [
           "Anivia",
           "14.21"
          ],
          [
           "Anivia",
           "14.22"
          ],
          [
           "Anivia",
           "14.23"
          ],
          [
           "Anivia",
           "14.24"
          ],
          [
           "Anivia",
           "15.01"
          ],
          [
           "Anivia",
           "15.02"
          ],
          [
           "Anivia",
           "15.03"
          ],
          [
           "Anivia",
           "15.04"
          ],
          [
           "Anivia",
           "15.05"
          ],
          [
           "Anivia",
           "15.06"
          ],
          [
           "Anivia",
           "15.07"
          ]
         ],
         "hovertemplate": "Champion=%{customdata[0]}<br>t-SNE Component 1=%{x}<br>t-SNE Component 2=%{y}<br>Patch=%{customdata[1]}<extra></extra>",
         "legendgroup": "Anivia",
         "marker": {
          "color": "#00cc96",
          "size": 8,
          "symbol": "circle"
         },
         "mode": "markers",
         "name": "Anivia",
         "showlegend": true,
         "type": "scattergl",
         "x": {
          "bdata": "Hd8GQnRsBkIfF0BB5H+kwfQ9j0AAOJXBIx+3wdvaFcL5yJLAylDKQBfJPcE8UxrBz+sMwlwLdUHdRUBCM62AwZDHCMGgia3BzWqswNk5r8A=",
          "dtype": "f4"
         },
         "xaxis": "x",
         "y": {
          "bdata": "ZgrvwMQIzMB1Q6FA+J69wR5XhsE5EIZAik8dwn1QrcHU4xZCMO7OwZKdosH/fLxA7YFQwcUGEEKSns7Ba4HkwYfFCcJWsnVBiECmwLLyz78=",
          "dtype": "f4"
         },
         "yaxis": "y"
        },
        {
         "customdata": [
          [
           "Shaco",
           "14.12"
          ],
          [
           "Shaco",
           "14.13"
          ],
          [
           "Shaco",
           "14.14"
          ],
          [
           "Shaco",
           "14.15"
          ],
          [
           "Shaco",
           "14.16"
          ],
          [
           "Shaco",
           "14.17"
          ],
          [
           "Shaco",
           "14.18"
          ],
          [
           "Shaco",
           "14.19"
          ],
          [
           "Shaco",
           "14.20"
          ],
          [
           "Shaco",
           "14.21"
          ],
          [
           "Shaco",
           "14.22"
          ],
          [
           "Shaco",
           "14.23"
          ],
          [
           "Shaco",
           "14.24"
          ],
          [
           "Shaco",
           "15.01"
          ],
          [
           "Shaco",
           "15.02"
          ],
          [
           "Shaco",
           "15.03"
          ],
          [
           "Shaco",
           "15.04"
          ],
          [
           "Shaco",
           "15.05"
          ],
          [
           "Shaco",
           "15.06"
          ],
          [
           "Shaco",
           "15.07"
          ]
         ],
         "hovertemplate": "Champion=%{customdata[0]}<br>t-SNE Component 1=%{x}<br>t-SNE Component 2=%{y}<br>Patch=%{customdata[1]}<extra></extra>",
         "legendgroup": "Shaco",
         "marker": {
          "color": "#ab63fa",
          "size": 8,
          "symbol": "circle"
         },
         "mode": "markers",
         "name": "Shaco",
         "showlegend": true,
         "type": "scattergl",
         "x": {
          "bdata": "gB/VwXhzy0FsZzfAYEIVQkw2YULk4hJCGHI6QVz3iUFT1EFChNEQwum6EkKX7YZBWKI2QhX+uUGny5xAXPybQPpRP0BqjIRBMSYKwhOqx0A=",
          "dtype": "f4"
         },
         "xaxis": "x",
         "y": {
          "bdata": "J1o6wWYHhUELVBBARQPkwQfDkkCElA9CDpwqQlby0cDAYCBBQf40wfxrykEnK5fAnFE2QXT1CEJAydFBPQDSQXuvy0HbLtrBwyobwbdHKMA=",
          "dtype": "f4"
         },
         "yaxis": "y"
        },
        {
         "customdata": [
          [
           "Yuumi",
           "14.12"
          ],
          [
           "Yuumi",
           "14.13"
          ],
          [
           "Yuumi",
           "14.14"
          ],
          [
           "Yuumi",
           "14.15"
          ],
          [
           "Yuumi",
           "14.16"
          ],
          [
           "Yuumi",
           "14.17"
          ],
          [
           "Yuumi",
           "14.18"
          ],
          [
           "Yuumi",
           "14.19"
          ],
          [
           "Yuumi",
           "14.20"
          ],
          [
           "Yuumi",
           "14.21"
          ],
          [
           "Yuumi",
           "14.22"
          ],
          [
           "Yuumi",
           "14.23"
          ],
          [
           "Yuumi",
           "14.24"
          ],
          [
           "Yuumi",
           "15.01"
          ],
          [
           "Yuumi",
           "15.02"
          ],
          [
           "Yuumi",
           "15.03"
          ],
          [
           "Yuumi",
           "15.04"
          ],
          [
           "Yuumi",
           "15.05"
          ],
          [
           "Yuumi",
           "15.06"
          ],
          [
           "Yuumi",
           "15.07"
          ]
         ],
         "hovertemplate": "Champion=%{customdata[0]}<br>t-SNE Component 1=%{x}<br>t-SNE Component 2=%{y}<br>Patch=%{customdata[1]}<extra></extra>",
         "legendgroup": "Yuumi",
         "marker": {
          "color": "#FFA15A",
          "size": 8,
          "symbol": "circle"
         },
         "mode": "markers",
         "name": "Yuumi",
         "showlegend": true,
         "type": "scattergl",
         "x": {
          "bdata": "x/GnwMyVvMEOhg5C74cPQr+S2kHdUbbBqUbHwKmzFkLN1y7APcvZQVKY2kFY19tBznTYQUN61kEQ2w9CzSoOQuVMC0JlqA9CoHsRQkfiNcA=",
          "dtype": "f4"
         },
         "xaxis": "x",
         "y": {
          "bdata": "p1GTQXgdZL+rdKRAagJiQIEWP0HjxcHA91INwvXZmkF9bqhBKu/ywYLq7cGM+O7Bzl7rwepI28HUL6LBH5+swUCqqsGPhqLB+8CjwScxskA=",
          "dtype": "f4"
         },
         "yaxis": "y"
        },
        {
         "customdata": [
          [
           "Dr. Mundo",
           "14.12"
          ],
          [
           "Dr. Mundo",
           "14.13"
          ],
          [
           "Dr. Mundo",
           "14.14"
          ],
          [
           "Dr. Mundo",
           "14.15"
          ],
          [
           "Dr. Mundo",
           "14.16"
          ],
          [
           "Dr. Mundo",
           "14.17"
          ],
          [
           "Dr. Mundo",
           "14.18"
          ],
          [
           "Dr. Mundo",
           "14.19"
          ],
          [
           "Dr. Mundo",
           "14.20"
          ],
          [
           "Dr. Mundo",
           "14.21"
          ],
          [
           "Dr. Mundo",
           "14.22"
          ],
          [
           "Dr. Mundo",
           "14.23"
          ],
          [
           "Dr. Mundo",
           "14.24"
          ],
          [
           "Dr. Mundo",
           "15.01"
          ],
          [
           "Dr. Mundo",
           "15.02"
          ],
          [
           "Dr. Mundo",
           "15.03"
          ],
          [
           "Dr. Mundo",
           "15.04"
          ],
          [
           "Dr. Mundo",
           "15.05"
          ],
          [
           "Dr. Mundo",
           "15.06"
          ],
          [
           "Dr. Mundo",
           "15.07"
          ]
         ],
         "hovertemplate": "Champion=%{customdata[0]}<br>t-SNE Component 1=%{x}<br>t-SNE Component 2=%{y}<br>Patch=%{customdata[1]}<extra></extra>",
         "legendgroup": "Dr. Mundo",
         "marker": {
          "color": "#19d3f3",
          "size": 8,
          "symbol": "circle"
         },
         "mode": "markers",
         "name": "Dr. Mundo",
         "showlegend": true,
         "type": "scattergl",
         "x": {
          "bdata": "2r/3wduYDEG4QRZBnxAgQV2hFUEAg9xBGurkQdUb68Hds9vAQdcswJY7SMCddwXB+PA2wOfkCkF6gu5BcCSmQZKbBUJzmPvAYGPRwVtfKkE=",
          "dtype": "f4"
         },
         "xaxis": "x",
         "y": {
          "bdata": "cQGwwW4FS8LYR1bCu845wuObVcLRhBbCjuMiwnvQvcCDvjPCf4tlQoJu8MGH/FFCaU70wTLwUcGUXeHBKQYJwph0tb1Z90RCsDcRQtX0UEA=",
          "dtype": "f4"
         },
         "yaxis": "y"
        },
        {
         "customdata": [
          [
           "Samira",
           "14.12"
          ],
          [
           "Samira",
           "14.13"
          ],
          [
           "Samira",
           "14.14"
          ],
          [
           "Samira",
           "14.15"
          ],
          [
           "Samira",
           "14.16"
          ],
          [
           "Samira",
           "14.17"
          ],
          [
           "Samira",
           "14.18"
          ],
          [
           "Samira",
           "14.19"
          ],
          [
           "Samira",
           "14.20"
          ],
          [
           "Samira",
           "14.21"
          ],
          [
           "Samira",
           "14.22"
          ],
          [
           "Samira",
           "14.23"
          ],
          [
           "Samira",
           "14.24"
          ],
          [
           "Samira",
           "15.01"
          ],
          [
           "Samira",
           "15.02"
          ],
          [
           "Samira",
           "15.03"
          ],
          [
           "Samira",
           "15.04"
          ],
          [
           "Samira",
           "15.05"
          ],
          [
           "Samira",
           "15.06"
          ],
          [
           "Samira",
           "15.07"
          ]
         ],
         "hovertemplate": "Champion=%{customdata[0]}<br>t-SNE Component 1=%{x}<br>t-SNE Component 2=%{y}<br>Patch=%{customdata[1]}<extra></extra>",
         "legendgroup": "Samira",
         "marker": {
          "color": "#FF6692",
          "size": 8,
          "symbol": "circle"
         },
         "mode": "markers",
         "name": "Samira",
         "showlegend": true,
         "type": "scattergl",
         "x": {
          "bdata": "mVWRwd0uI8JhmyPCsdhRQSmaF0Ii7OdAecONwSasqD5wILLBKtqkwR9EscFlkf5BcJUEQgBOs8Ce+2dBwKgkQMC72kFK/GfBRriNwIk1XcA=",
          "dtype": "f4"
         },
         "xaxis": "x",
         "y": {
          "bdata": "ico9wXeko0EKVfxAuQYowhmouMFdpjNBokv9QOGpX0FNbwJCT4FGQR5T8kF0BZzBEh59QVqJUcFKWifCBIyfQRqvncGc5OZBIAihQQrqO0E=",
          "dtype": "f4"
         },
         "yaxis": "y"
        },
        {
         "customdata": [
          [
           "Sona",
           "14.12"
          ],
          [
           "Sona",
           "14.13"
          ],
          [
           "Sona",
           "14.14"
          ],
          [
           "Sona",
           "14.15"
          ],
          [
           "Sona",
           "14.16"
          ],
          [
           "Sona",
           "14.17"
          ],
          [
           "Sona",
           "14.18"
          ],
          [
           "Sona",
           "14.19"
          ],
          [
           "Sona",
           "14.20"
          ],
          [
           "Sona",
           "14.21"
          ],
          [
           "Sona",
           "14.22"
          ],
          [
           "Sona",
           "14.23"
          ],
          [
           "Sona",
           "14.24"
          ],
          [
           "Sona",
           "15.01"
          ],
          [
           "Sona",
           "15.02"
          ],
          [
           "Sona",
           "15.03"
          ],
          [
           "Sona",
           "15.04"
          ],
          [
           "Sona",
           "15.05"
          ],
          [
           "Sona",
           "15.06"
          ],
          [
           "Sona",
           "15.07"
          ]
         ],
         "hovertemplate": "Champion=%{customdata[0]}<br>t-SNE Component 1=%{x}<br>t-SNE Component 2=%{y}<br>Patch=%{customdata[1]}<extra></extra>",
         "legendgroup": "Sona",
         "marker": {
          "color": "#B6E880",
          "size": 8,
          "symbol": "circle"
         },
         "mode": "markers",
         "name": "Sona",
         "showlegend": true,
         "type": "scattergl",
         "x": {
          "bdata": "uympQMqJ6kCozCfAIZgBwqTUCEInpFlBRcQYQk2GI0GWMcNAdiGKQAlRv8AuSvjBx958QUKWTEE7SmTAeX8QQg7insDTRuNBsmvtQQCaccA=",
          "dtype": "f4"
         },
         "xaxis": "x",
         "y": {
          "bdata": "j29YQXTcc0HlGY9Bs8cQwsPxCMG8jd7BUMlYQYgtysHWKc3Bo88PwRlNOcFjD+DByoiRQR7ZiUH1hS7CsdtzQOx8jcHP4rnBqbFEQYAyisA=",
          "dtype": "f4"
         },
         "yaxis": "y"
        },
        {
         "customdata": [
          [
           "Kassadin",
           "14.12"
          ],
          [
           "Kassadin",
           "14.13"
          ],
          [
           "Kassadin",
           "14.14"
          ],
          [
           "Kassadin",
           "14.15"
          ],
          [
           "Kassadin",
           "14.16"
          ],
          [
           "Kassadin",
           "14.17"
          ],
          [
           "Kassadin",
           "14.18"
          ],
          [
           "Kassadin",
           "14.19"
          ],
          [
           "Kassadin",
           "14.20"
          ],
          [
           "Kassadin",
           "14.21"
          ],
          [
           "Kassadin",
           "14.22"
          ],
          [
           "Kassadin",
           "14.23"
          ],
          [
           "Kassadin",
           "14.24"
          ],
          [
           "Kassadin",
           "15.01"
          ],
          [
           "Kassadin",
           "15.02"
          ],
          [
           "Kassadin",
           "15.03"
          ],
          [
           "Kassadin",
           "15.04"
          ],
          [
           "Kassadin",
           "15.05"
          ],
          [
           "Kassadin",
           "15.06"
          ],
          [
           "Kassadin",
           "15.07"
          ]
         ],
         "hovertemplate": "Champion=%{customdata[0]}<br>t-SNE Component 1=%{x}<br>t-SNE Component 2=%{y}<br>Patch=%{customdata[1]}<extra></extra>",
         "legendgroup": "Kassadin",
         "marker": {
          "color": "#FF97FF",
          "size": 8,
          "symbol": "circle"
         },
         "mode": "markers",
         "name": "Kassadin",
         "showlegend": true,
         "type": "scattergl",
         "x": {
          "bdata": "FIgsQo58LEKoFgpCpiaBQBppXMEur9fBo2RVQC14lcBEaRjCQs5MQjkBlcGRCF7B7mKVQae4xUHwK5dAmedLP79XbUFpIn9B5WllQWYdBUE=",
          "dtype": "f4"
         },
         "xaxis": "x",
         "y": {
          "bdata": "5L0twYpOLMGVuZPBvYD3wVwDrUFs1ONBslIAwppKqUEJFoPBjIDTwK2zsb9qGKZBnGblQM9wskCQL0jAzN0MQQA8tMFVAcjBnfeJwe7hvUA=",
          "dtype": "f4"
         },
         "yaxis": "y"
        },
        {
         "customdata": [
          [
           "Irelia",
           "14.12"
          ],
          [
           "Irelia",
           "14.13"
          ],
          [
           "Irelia",
           "14.14"
          ],
          [
           "Irelia",
           "14.15"
          ],
          [
           "Irelia",
           "14.16"
          ],
          [
           "Irelia",
           "14.17"
          ],
          [
           "Irelia",
           "14.18"
          ],
          [
           "Irelia",
           "14.19"
          ],
          [
           "Irelia",
           "14.20"
          ],
          [
           "Irelia",
           "14.21"
          ],
          [
           "Irelia",
           "14.22"
          ],
          [
           "Irelia",
           "14.23"
          ],
          [
           "Irelia",
           "14.24"
          ],
          [
           "Irelia",
           "15.01"
          ],
          [
           "Irelia",
           "15.02"
          ],
          [
           "Irelia",
           "15.03"
          ],
          [
           "Irelia",
           "15.04"
          ],
          [
           "Irelia",
           "15.05"
          ],
          [
           "Irelia",
           "15.06"
          ],
          [
           "Irelia",
           "15.07"
          ]
         ],
         "hovertemplate": "Champion=%{customdata[0]}<br>t-SNE Component 1=%{x}<br>t-SNE Component 2=%{y}<br>Patch=%{customdata[1]}<extra></extra>",
         "legendgroup": "Irelia",
         "marker": {
          "color": "#FECB52",
          "size": 8,
          "symbol": "circle"
         },
         "mode": "markers",
         "name": "Irelia",
         "showlegend": true,
         "type": "scattergl",
         "x": {
          "bdata": "LlJSQYqqUkIITZDBSFqawPjlFUH8/+rBmpftQRqIX0JekTdCdS3DQR/ZA8KPgQPC3jEgwsvG4cHhysfBownUwaZIGMK6FJzART/bwRWdQEA=",
          "dtype": "f4"
         },
         "xaxis": "x",
         "y": {
          "bdata": "HcG6QMAdhcFPqnTBHbLFwY9xTcEndQW/4RK6Qa8qpj/hNpdB4e0vwdN857+Q0bm/FipIwUO2y8DTK5/ASeiWwPd5H0LYN5VBDKqYwNIEaUE=",
          "dtype": "f4"
         },
         "yaxis": "y"
        },
        {
         "customdata": [
          [
           "Twisted Fate",
           "14.12"
          ],
          [
           "Twisted Fate",
           "14.13"
          ],
          [
           "Twisted Fate",
           "14.14"
          ],
          [
           "Twisted Fate",
           "14.15"
          ],
          [
           "Twisted Fate",
           "14.16"
          ],
          [
           "Twisted Fate",
           "14.17"
          ],
          [
           "Twisted Fate",
           "14.18"
          ],
          [
           "Twisted Fate",
           "14.19"
          ],
          [
           "Twisted Fate",
           "14.20"
          ],
          [
           "Twisted Fate",
           "14.21"
          ],
          [
           "Twisted Fate",
           "14.22"
          ],
          [
           "Twisted Fate",
           "14.23"
          ],
          [
           "Twisted Fate",
           "14.24"
          ],
          [
           "Twisted Fate",
           "15.01"
          ],
          [
           "Twisted Fate",
           "15.02"
          ],
          [
           "Twisted Fate",
           "15.03"
          ],
          [
           "Twisted Fate",
           "15.04"
          ],
          [
           "Twisted Fate",
           "15.05"
          ],
          [
           "Twisted Fate",
           "15.06"
          ],
          [
           "Twisted Fate",
           "15.07"
          ]
         ],
         "hovertemplate": "Champion=%{customdata[0]}<br>t-SNE Component 1=%{x}<br>t-SNE Component 2=%{y}<br>Patch=%{customdata[1]}<extra></extra>",
         "legendgroup": "Twisted Fate",
         "marker": {
          "color": "#636efa",
          "size": 8,
          "symbol": "circle"
         },
         "mode": "markers",
         "name": "Twisted Fate",
         "showlegend": true,
         "type": "scattergl",
         "x": {
          "bdata": "ucp0QZmSm8HNarHBRZQcQE+L+8HiB0XCj6BNwtqKX0EryTDBuuxCQGD+jUAuHU5BunZtQULRhsGHYEVBfXSbwcCiksHHhC1BE+eowV5GRsE=",
          "dtype": "f4"
         },
         "xaxis": "x",
         "y": {
          "bdata": "kokRQibAYcF3cm3A51rzwQLzj8FpJ9rAMCe4QQ20AEGNmR7CZ+P5wTSzHMJemfA/0ElmwUpd4MEHCbdBhSZdQcrm88HzirE/yelxv+fMpEA=",
          "dtype": "f4"
         },
         "yaxis": "y"
        },
        {
         "customdata": [
          [
           "Janna",
           "14.12"
          ],
          [
           "Janna",
           "14.13"
          ],
          [
           "Janna",
           "14.14"
          ],
          [
           "Janna",
           "14.15"
          ],
          [
           "Janna",
           "14.16"
          ],
          [
           "Janna",
           "14.17"
          ],
          [
           "Janna",
           "14.18"
          ],
          [
           "Janna",
           "14.19"
          ],
          [
           "Janna",
           "14.20"
          ],
          [
           "Janna",
           "14.21"
          ],
          [
           "Janna",
           "14.22"
          ],
          [
           "Janna",
           "14.23"
          ],
          [
           "Janna",
           "14.24"
          ],
          [
           "Janna",
           "15.01"
          ],
          [
           "Janna",
           "15.02"
          ],
          [
           "Janna",
           "15.03"
          ],
          [
           "Janna",
           "15.04"
          ],
          [
           "Janna",
           "15.05"
          ],
          [
           "Janna",
           "15.06"
          ],
          [
           "Janna",
           "15.07"
          ]
         ],
         "hovertemplate": "Champion=%{customdata[0]}<br>t-SNE Component 1=%{x}<br>t-SNE Component 2=%{y}<br>Patch=%{customdata[1]}<extra></extra>",
         "legendgroup": "Janna",
         "marker": {
          "color": "#EF553B",
          "size": 8,
          "symbol": "circle"
         },
         "mode": "markers",
         "name": "Janna",
         "showlegend": true,
         "type": "scattergl",
         "x": {
          "bdata": "xWDewNjdi8G376vAQaAgQs/lkUE05XHBROCmweBY5EEJxk1B4o9PQVNkaME2xPnBFzfwwaphVcGYEtxBy6egQKlkBULMhqhBYDvdwO3XUEE=",
          "dtype": "f4"
         },
         "xaxis": "x",
         "y": {
          "bdata": "UYckwha2rkACUR7AchvPwX8cecGpfA7CMrgVwrjzD8IORqrBr32XwVMfj8FfuPLBKwgIwhMPuMEWUjFBqwqvwW/3+8CvJExBFFR4wfOil8E=",
          "dtype": "f4"
         },
         "yaxis": "y"
        },
        {
         "customdata": [
          [
           "Gangplank",
           "14.12"
          ],
          [
           "Gangplank",
           "14.13"
          ],
          [
           "Gangplank",
           "14.14"
          ],
          [
           "Gangplank",
           "14.15"
          ],
          [
           "Gangplank",
           "14.16"
          ],
          [
           "Gangplank",
           "14.17"
          ],
          [
           "Gangplank",
           "14.18"
          ],
          [
           "Gangplank",
           "14.19"
          ],
          [
           "Gangplank",
           "14.20"
          ],
          [
           "Gangplank",
           "14.21"
          ],
          [
           "Gangplank",
           "14.22"
          ],
          [
           "Gangplank",
           "14.23"
          ],
          [
           "Gangplank",
           "14.24"
          ],
          [
           "Gangplank",
           "15.01"
          ],
          [
           "Gangplank",
           "15.02"
          ],
          [
           "Gangplank",
           "15.03"
          ],
          [
           "Gangplank",
           "15.04"
          ],
          [
           "Gangplank",
           "15.05"
          ],
          [
           "Gangplank",
           "15.06"
          ],
          [
           "Gangplank",
           "15.07"
          ]
         ],
         "hovertemplate": "Champion=%{customdata[0]}<br>t-SNE Component 1=%{x}<br>t-SNE Component 2=%{y}<br>Patch=%{customdata[1]}<extra></extra>",
         "legendgroup": "Gangplank",
         "marker": {
          "color": "#00cc96",
          "size": 8,
          "symbol": "circle"
         },
         "mode": "markers",
         "name": "Gangplank",
         "showlegend": true,
         "type": "scattergl",
         "x": {
          "bdata": "Ymt7Qcuwm0E+aihAgHPTQOWdvUH0R1NCBLHbQV5+gUELbUnCSBtMwSi95EDfq0rBMQuiQU4DgEFgMydCJKVMQtsnqEEoxCVCkxWhQSdOokA=",
          "dtype": "f4"
         },
         "xaxis": "x",
         "y": {
          "bdata": "PT3fwIN1tcARezVBrgdbQbWeGUL68stAhbCswBumgEDWwXVBclp/QaJKxsDJiCBAvSOmwGS1WcDfLoRBtyNOQWs/psHjMxm/v9P3wN8nB0E=",
          "dtype": "f4"
         },
         "yaxis": "y"
        },
        {
         "customdata": [
          [
           "Thresh",
           "14.12"
          ],
          [
           "Thresh",
           "14.13"
          ],
          [
           "Thresh",
           "14.14"
          ],
          [
           "Thresh",
           "14.15"
          ],
          [
           "Thresh",
           "14.16"
          ],
          [
           "Thresh",
           "14.17"
          ],
          [
           "Thresh",
           "14.18"
          ],
          [
           "Thresh",
           "14.19"
          ],
          [
           "Thresh",
           "14.20"
          ],
          [
           "Thresh",
           "14.21"
          ],
          [
           "Thresh",
           "14.22"
          ],
          [
           "Thresh",
           "14.23"
          ],
          [
           "Thresh",
           "14.24"
          ],
          [
           "Thresh",
           "15.01"
          ],
          [
           "Thresh",
           "15.02"
          ],
          [
           "Thresh",
           "15.03"
          ],
          [
           "Thresh",
           "15.04"
          ],
          [
           "Thresh",
           "15.05"
          ],
          [
           "Thresh",
           "15.06"
          ],
          [
           "Thresh",
           "15.07"
          ]
         ],
         "hovertemplate": "Champion=%{customdata[0]}<br>t-SNE Component 1=%{x}<br>t-SNE Component 2=%{y}<br>Patch=%{customdata[1]}<extra></extra>",
         "legendgroup": "Thresh",
         "marker": {
          "color": "#ab63fa",
          "size": 8,
          "symbol": "circle"
         },
         "mode": "markers",
         "name": "Thresh",
         "showlegend": true,
         "type": "scattergl",
         "x": {
          "bdata": "kOIOwdv3qD5PcrhBx4CbQTmRzEE83HlA7bMFQZaC30HrK7pBAGPFQY27z0HqP7ZBFwUSP9y6P8GSOcNBd9sHQjQcCELSjyPBLSOOwa1Sx0E=",
          "dtype": "f4"
         },
         "xaxis": "x",
         "y": {
          "bdata": "R+AKwnFy48F0clJBlWDZweYGuMGk8aXBrHcmwgYJscHuejc/+vO+wVbHrcG6EOXBhXciwT+YTD98+M7BZxLJwe+UyMFdvibCf0oFwr8aqsE=",
          "dtype": "f4"
         },
         "yaxis": "y"
        },
        {
         "customdata": [
          [
           "Corki",
           "14.12"
          ],
          [
           "Corki",
           "14.13"
          ],
          [
           "Corki",
           "14.14"
          ],
          [
           "Corki",
           "14.15"
          ],
          [
           "Corki",
           "14.16"
          ],
          [
           "Corki",
           "14.17"
          ],
          [
           "Corki",
           "14.18"
          ],
          [
           "Corki",
           "14.19"
          ],
          [
           "Corki",
           "14.20"
          ],
          [
           "Corki",
           "14.21"
          ],
          [
           "Corki",
           "14.22"
          ],
          [
           "Corki",
           "14.23"
          ],
          [
           "Corki",
           "14.24"
          ],
          [
           "Corki",
           "15.01"
          ],
          [
           "Corki",
           "15.02"
          ],
          [
           "Corki",
           "15.03"
          ],
          [
           "Corki",
           "15.04"
          ],
          [
           "Corki",
           "15.05"
          ],
          [
           "Corki",
           "15.06"
          ],
          [
           "Corki",
           "15.07"
          ]
         ],
         "hovertemplate": "Champion=%{customdata[0]}<br>t-SNE Component 1=%{x}<br>t-SNE Component 2=%{y}<br>Patch=%{customdata[1]}<extra></extra>",
         "legendgroup": "Corki",
         "marker": {
          "color": "#FFA15A",
          "size": 8,
          "symbol": "circle"
         },
         "mode": "markers",
         "name": "Corki",
         "showlegend": true,
         "type": "scattergl",
         "x": {
          "bdata": "nBedweeNn8HfyVFCQ/j6QTsAK0Lc/jtCjxM/Qn+jMkKJehJCd9MZwgSVlsGb1TbCwcs2wrE1b8HQCTNBCKRdwW27WsEjVinCyjG3wTuFqME=",
          "dtype": "f4"
         },
         "xaxis": "x",
         "y": {
          "bdata": "YBURQYmFKEEmXk7BImshwBITikAVTU/Bi3NCwdfzSMEc/nxA1FCQQS12tsG/ps4/j2PrPyx+CUJivZPBhSsEQlsyA0JvisxA9bBWQM+Wj0A=",
          "dtype": "f4"
         },
         "yaxis": "y"
        },
        {
         "customdata": [
          [
           "Illaoi",
           "14.12"
          ],
          [
           "Illaoi",
           "14.13"
          ],
          [
           "Illaoi",
           "14.14"
          ],
          [
           "Illaoi",
           "14.15"
          ],
          [
           "Illaoi",
           "14.16"
          ],
          [
           "Illaoi",
           "14.17"
          ],
          [
           "Illaoi",
           "14.18"
          ],
          [
           "Illaoi",
           "14.19"
          ],
          [
           "Illaoi",
           "14.20"
          ],
          [
           "Illaoi",
           "14.21"
          ],
          [
           "Illaoi",
           "14.22"
          ],
          [
           "Illaoi",
           "14.23"
          ],
          [
           "Illaoi",
           "14.24"
          ],
          [
           "Illaoi",
           "15.01"
          ],
          [
           "Illaoi",
           "15.02"
          ],
          [
           "Illaoi",
           "15.03"
          ],
          [
           "Illaoi",
           "15.04"
          ],
          [
           "Illaoi",
           "15.05"
          ],
          [
           "Illaoi",
           "15.06"
          ],
          [
           "Illaoi",
           "15.07"
          ]
         ],
         "hovertemplate": "Champion=%{customdata[0]}<br>t-SNE Component 1=%{x}<br>t-SNE Component 2=%{y}<br>Patch=%{customdata[1]}<extra></extra>",
         "legendgroup": "Illaoi",
         "marker": {
          "color": "#19d3f3",
          "size": 8,
          "symbol": "circle"
         },
         "mode": "markers",
         "name": "Illaoi",
         "showlegend": true,
         "type": "scattergl",
         "x": {
          "bdata": "fvNBQocH5UASFJ/BlHYnQS9lGMJDFSvB1f6pwTd3CEB5ap3Bd12ewQYCi0HrPgRCFTb1QTgFz0FBr+xAKwYTQkWoUEETDkBCP+cWQJ4GacA=",
          "dtype": "f4"
         },
         "xaxis": "x",
         "y": {
          "bdata": "AEeFQFSiusEBpqlBky1tPxr03EDnDt/AZjEuwekzB8HNvX3BQQNFwfCK9j9GHmNA/4DOQRf2NMCUL+vBD3qywMo8gMHs123A2JYrwd9zusA=",
          "dtype": "f4"
         },
         "yaxis": "y"
        },
        {
         "customdata": [
          [
           "Rek'Sai",
           "14.12"
          ],
          [
           "Rek'Sai",
           "14.13"
          ],
          [
           "Rek'Sai",
           "14.14"
          ],
          [
           "Rek'Sai",
           "14.15"
          ],
          [
           "Rek'Sai",
           "14.16"
          ],
          [
           "Rek'Sai",
           "14.17"
          ],
          [
           "Rek'Sai",
           "14.18"
          ],
          [
           "Rek'Sai",
           "14.19"
          ],
          [
           "Rek'Sai",
           "14.20"
          ],
          [
           "Rek'Sai",
           "14.21"
          ],
          [
           "Rek'Sai",
           "14.22"
          ],
          [
           "Rek'Sai",
           "14.23"
          ],
          [
           "Rek'Sai",
           "14.24"
          ],
          [
           "Rek'Sai",
           "15.01"
          ],
          [
           "Rek'Sai",
           "15.02"
          ],
          [
           "Rek'Sai",
           "15.03"
          ],
          [
           "Rek'Sai",
           "15.04"
          ],
          [
           "Rek'Sai",
           "15.05"
          ],
          [
           "Rek'Sai",
           "15.06"
          ],
          [
           "Rek'Sai",
           "15.07"
          ]
         ],
         "hovertemplate": "Champion=%{customdata[0]}<br>t-SNE Component 1=%{x}<br>t-SNE Component 2=%{y}<br>Patch=%{customdata[1]}<extra></extra>",
         "legendgroup": "Rek'Sai",
         "marker": {
          "color": "#FF6692",
          "size": 8,
          "symbol": "circle"
         },
         "mode": "markers",
         "name": "Rek'Sai",
         "showlegend": true,
         "type": "scattergl",
         "x": {
          "bdata": "T8M4QTkPBkJwMQpCJRbfQZ59lcGcqw3BfOPHQUJ0msGuPjy//9OOQanLwsGPMBzCFdAiwYmrE8J3HwzCgAbgQdeg10ElWB3C7OgdwpUYtkA=",
          "dtype": "f4"
         },
         "xaxis": "x",
         "y": {
          "bdata": "rfgFQnfUFEKZGBhCl701wvh/EELy1OpBxmWtQdnQE0KezCRCProrQgEQG0IDBxLBOwUOQhbX8EGzqCTBi32uwa3H7EGqvQzBlaP6wCv2NEA=",
          "dtype": "f4"
         },
         "yaxis": "y"
        },
        {
         "customdata": [
          [
           "Ivern",
           "14.12"
          ],
          [
           "Ivern",
           "14.13"
          ],
          [
           "Ivern",
           "14.14"
          ],
          [
           "Ivern",
           "14.15"
          ],
          [
           "Ivern",
           "14.16"
          ],
          [
           "Ivern",
           "14.17"
          ],
          [
           "Ivern",
           "14.18"
          ],
          [
           "Ivern",
           "14.19"
          ],
          [
           "Ivern",
           "14.20"
          ],
          [
           "Ivern",
           "14.21"
          ],
          [
           "Ivern",
           "14.22"
          ],
          [
           "Ivern",
           "14.23"
          ],
          [
           "Ivern",
           "14.24"
          ],
          [
           "Ivern",
           "15.01"
          ],
          [
           "Ivern",
           "15.02"
          ],
          [
           "Ivern",
           "15.03"
          ],
          [
           "Ivern",
           "15.04"
          ],
          [
           "Ivern",
           "15.05"
          ],
          [
           "Ivern",
           "15.06"
          ],
          [
           "Ivern",
           "15.07"
          ]
         ],
         "hovertemplate": "Champion=%{customdata[0]}<br>t-SNE Component 1=%{x}<br>t-SNE Component 2=%{y}<br>Patch=%{customdata[1]}<extra></extra>",
         "legendgroup": "Ivern",
         "marker": {
          "color": "#B6E880",
          "size": 8,
          "symbol": "circle"
         },
         "mode": "markers",
         "name": "Ivern",
         "showlegend": true,
         "type": "scattergl",
         "x": {
          "bdata": "KogRwZGkJsLVcs1BCvSEv3+qG8JKhiDBrvwPwtA4FEIX1brBsPdpQZtyOsIWCF7BYRoUwfRAO8KM980/G+7mQbSMUMJdjgdB0AmtQfhfRUA=",
          "dtype": "f4"
         },
         "xaxis": "x",
         "y": {
          "bdata": "TyOYwJxTqUHuz59B0j0NQl+/G8F4ZzJAuXi7wRIo98GeYrbBY/cAwusHkMFT2ZFB/orkQQYv+UCx2yHA7LUIwWcBz8E43ujB0DOHwXTvFL8=",
          "dtype": "f4"
         },
         "yaxis": "y"
        },
        {
         "customdata": [
          [
           "Kalista",
           "14.12"
          ],
          [
           "Kalista",
           "14.13"
          ],
          [
           "Kalista",
           "14.14"
          ],
          [
           "Kalista",
           "14.15"
          ],
          [
           "Kalista",
           "14.16"
          ],
          [
           "Kalista",
           "14.17"
          ],
          [
           "Kalista",
           "14.18"
          ],
          [
           "Kalista",
           "14.19"
          ],
          [
           "Kalista",
           "14.20"
          ],
          [
           "Kalista",
           "14.21"
          ],
          [
           "Kalista",
           "14.22"
          ],
          [
           "Kalista",
           "14.23"
          ],
          [
           "Kalista",
           "14.24"
          ],
          [
           "Kalista",
           "15.01"
          ],
          [
           "Kalista",
           "15.02"
          ],
          [
           "Kalista",
           "15.03"
          ],
          [
           "Kalista",
           "15.04"
          ],
          [
           "Kalista",
           "15.05"
          ],
          [
           "Kalista",
           "15.06"
          ],
          [
           "Kalista",
           "15.07"
          ]
         ],
         "hovertemplate": "Champion=%{customdata[0]}<br>t-SNE Component 1=%{x}<br>t-SNE Component 2=%{y}<br>Patch=%{customdata[1]}<extra></extra>",
         "legendgroup": "Kalista",
         "marker": {
          "color": "#FF97FF",
          "size": 8,
          "symbol": "circle"
         },
         "mode": "markers",
         "name": "Kalista",
         "showlegend": true,
         "type": "scattergl",
         "x": {
          "bdata": "uUfOQVSoAMIYFxTAw+4pwe75MUIZ8n7BAz/ewb0HVEF5IKXBGzEjQZUqgUGg0TvBMkKmQKvpXcHRrbvBUHQbwtHKlMGwu2RC4K4IQSzSbMA=",
          "dtype": "f4"
         },
         "xaxis": "x",
         "y": {
          "bdata": "L9tWwbrdaMHCvAJCDhxfwaIipr2qXb5BF1ztQYZ2T0G8+t9AQO9aQbmA9kCPvlnB0v+sQSLWEUJSkVk/5pcFQc4f6kCqq63BHfPNwVgPoT8=",
          "dtype": "f4"
         },
         "yaxis": "y"
        },
        {
         "customdata": [
          [
           "Karma",
           "14.12"
          ],
          [
           "Karma",
           "14.13"
          ],
          [
           "Karma",
           "14.14"
          ],
          [
           "Karma",
           "14.15"
          ],
          [
           "Karma",
           "14.16"
          ],
          [
           "Karma",
           "14.17"
          ],
          [
           "Karma",
           "14.18"
          ],
          [
           "Karma",
           "14.19"
          ],
          [
           "Karma",
           "14.20"
          ],
          [
           "Karma",
           "14.21"
          ],
          [
           "Karma",
           "14.22"
          ],
          [
           "Karma",
           "14.23"
          ],
          [
           "Karma",
           "14.24"
          ],
          [
           "Karma",
           "15.01"
          ],
          [
           "Karma",
           "15.02"
          ],
          [
           "Karma",
           "15.03"
          ],
          [
           "Karma",
           "15.04"
          ],
          [
           "Karma",
           "15.05"
          ],
          [
           "Karma",
           "15.06"
          ],
          [
           "Karma",
           "15.07"
          ]
         ],
         "hovertemplate": "Champion=%{customdata[0]}<br>t-SNE Component 1=%{x}<br>t-SNE Component 2=%{y}<br>Patch=%{customdata[1]}<extra></extra>",
         "legendgroup": "Karma",
         "marker": {
          "color": "#FECB52",
          "size": 8,
          "symbol": "circle"
         },
         "mode": "markers",
         "name": "Karma",
         "showlegend": true,
         "type": "scattergl",
         "x": {
          "bdata": "6IgEwsIpk8Ew7dPAchOAwUrJ0UDPSLDBb4HjwDZA0MAYqLrAL9qpQJ+7GkJjSQRBqi3LwXwSLcKuiz3C4Mkswm/5xcGB51jBPcrsQa5TT0A=",
          "dtype": "f4"
         },
         "xaxis": "x",
         "y": {
          "bdata": "uqKIwYJgIMA8/SBCtZGrQHtU9EEgixbBdObJwN0EfsFktn3BrAugwY+ogUDeEelBccuTQdY7h0EOH+JByHONQcX/l0FRB6HBjS5ywdG3skE=",
          "dtype": "f4"
         },
         "yaxis": "y"
        },
        {
         "customdata": [
          [
           "Bard",
           "14.12"
          ],
          [
           "Bard",
           "14.13"
          ],
          [
           "Bard",
           "14.14"
          ],
          [
           "Bard",
           "14.15"
          ],
          [
           "Bard",
           "14.16"
          ],
          [
           "Bard",
           "14.17"
          ],
          [
           "Bard",
           "14.18"
          ],
          [
           "Bard",
           "14.19"
          ],
          [
           "Bard",
           "14.20"
          ],
          [
           "Bard",
           "14.21"
          ],
          [
           "Bard",
           "14.22"
          ],
          [
           "Bard",
           "14.23"
          ],
          [
           "Bard",
           "14.24"
          ],
          [
           "Bard",
           "15.01"
          ],
          [
           "Bard",
           "15.02"
          ],
          [
           "Bard",
           "15.03"
          ],
          [
           "Bard",
           "15.04"
          ],
          [
           "Bard",
           "15.05"
          ],
          [
           "Bard",
           "15.06"
          ],
          [
           "Bard",
           "15.07"
          ]
         ],
         "hovertemplate": "Champion=%{customdata[0]}<br>t-SNE Component 1=%{x}<br>t-SNE Component 2=%{y}<br>Patch=%{customdata[1]}<extra></extra>",
         "legendgroup": "Bard",
         "marker": {
          "color": "#636efa",
          "size": 8,
          "symbol": "circle"
         },
         "mode": "markers",
         "name": "Bard",
         "showlegend": true,
         "type": "scattergl",
         "x": {
          "bdata": "1QmMQNKQt0GwjTdABlhLQYsrF8GgUtZBmTmDQQ95kkFY1fLBSxOmv09500GMyGVBQB8KPmQ/NEBDfo5BxsIDQnN/V8F5Qh9Ag2EmQLlhH8A=",
          "dtype": "f4"
         },
         "xaxis": "x",
         "y": {
          "bdata": "sslkweBhg0GVC4JAUUrrQZoIKUK3TwDCEzj8wRaFrkHv1OjB2s+FQdOtAMIuHpzBd03QQcUcX0G2NLlB+P8PQdhxBMJqr5DBopeQwTQgRb8=",
          "dtype": "f4"
         },
         "yaxis": "y"
        },
        {
         "customdata": [
          [
           "Taric",
           "14.12"
          ],
          [
           "Taric",
           "14.13"
          ],
          [
           "Taric",
           "14.14"
          ],
          [
           "Taric",
           "14.15"
          ],
          [
           "Taric",
           "14.16"
          ],
          [
           "Taric",
           "14.17"
          ],
          [
           "Taric",
           "14.18"
          ],
          [
           "Taric",
           "14.19"
          ],
          [
           "Taric",
           "14.20"
          ],
          [
           "Taric",
           "14.21"
          ],
          [
           "Taric",
           "14.22"
          ],
          [
           "Taric",
           "14.23"
          ],
          [
           "Taric",
           "14.24"
          ],
          [
           "Taric",
           "15.01"
          ],
          [
           "Taric",
           "15.02"
          ],
          [
           "Taric",
           "15.03"
          ],
          [
           "Taric",
           "15.04"
          ],
          [
           "Taric",
           "15.05"
          ],
          [
           "Taric",
           "15.06"
          ],
          [
           "Taric",
           "15.07"
          ]
         ],
         "hovertemplate": "Champion=%{customdata[0]}<br>t-SNE Component 1=%{x}<br>t-SNE Component 2=%{y}<br>Patch=%{customdata[1]}<extra></extra>",
         "legendgroup": "Taric",
         "marker": {
          "color": "#EF553B",
          "size": 8,
          "symbol": "circle"
         },
         "mode": "markers",
         "name": "Taric",
         "showlegend": true,
         "type": "scattergl",
         "x": {
          "bdata": "XT0yQcgiLsJXqDDC4qp9wdWk1MFptRbCQoDHQIChLMKHg/vBdbAaQtjVUsI4zlnCUbr/wQBdBUJITl7AXRsEv656FkKjjzhBP6usQNeSIkE=",
          "dtype": "f4"
         },
         "xaxis": "x",
         "y": {
          "bdata": "qUi8weLHvkEsI4jBsnpiwV7gCMIgq+TB/s+aQZ78C0Gx0RDCfKvQQYCBwUA7ot9AEdPnwUK03sHrPxvCZOBOwh0Og8Ea0DlBAXAzQjbaUkA=",
          "dtype": "f4"
         },
         "yaxis": "y"
        },
        {
         "customdata": [
          [
           "Veigar",
           "14.12"
          ],
          [
           "Veigar",
           "14.13"
          ],
          [
           "Veigar",
           "14.14"
          ],
          [
           "Veigar",
           "14.15"
          ],
          [
           "Veigar",
           "14.16"
          ],
          [
           "Veigar",
           "14.17"
          ],
          [
           "Veigar",
           "14.18"
          ],
          [
           "Veigar",
           "14.19"
          ],
          [
           "Veigar",
           "14.20"
          ],
          [
           "Veigar",
           "14.21"
          ],
          [
           "Veigar",
           "14.22"
          ],
          [
           "Veigar",
           "14.23"
          ],
          [
           "Veigar",
           "14.24"
          ],
          [
           "Veigar",
           "15.01"
          ],
          [
           "Veigar",
           "15.02"
          ],
          [
           "Veigar",
           "15.03"
          ],
          [
           "Veigar",
           "15.04"
          ],
          [
           "Veigar",
           "15.05"
          ],
          [
           "Veigar",
           "15.06"
          ],
          [
           "Veigar",
           "15.07"
          ]
         ],
         "hovertemplate": "Champion=%{customdata[0]}<br>t-SNE Component 1=%{x}<br>t-SNE Component 2=%{y}<br>Patch=%{customdata[1]}<extra></extra>",
         "legendgroup": "Veigar",
         "marker": {
          "color": "#00cc96",
          "size": 8,
          "symbol": "circle"
         },
         "mode": "markers",
         "name": "Veigar",
         "showlegend": true,
         "type": "scattergl",
         "x": {
          "bdata": "xLMUwad7AEKUF7JBJN5NQlPtNUI7Cka/MQT1QeMSm0AtWk6+eX4Uwf0cGUK/gllBltzwwOqQ2MHefjHCiHKXwU0gS8FfQP7BAahPwXV+BEE=",
          "dtype": "f4"
         },
         "xaxis": "x",
         "y": {
          "bdata": "H6k7weywAsApN3tB54KBwEzN5EGHjqZBfCmaQHfcTkIzYBdBrwkQQk2mE0HWK/RBoogKwb1t6EGfhLtAGNsRQrWWM8Jk8etBRjgWwr2H4kA=",
          "dtype": "f4"
         },
         "yaxis": "y"
        },
        {
         "customdata": [
          [
           "Trundle",
           "14.12"
          ],
          [
           "Trundle",
           "14.13"
          ],
          [
           "Trundle",
           "14.14"
          ],
          [
           "Trundle",
           "14.15"
          ],
          [
           "Trundle",
           "14.16"
          ],
          [
           "Trundle",
           "14.17"
          ],
          [
           "Trundle",
           "14.18"
          ],
          [
           "Trundle",
           "14.19"
          ],
          [
           "Trundle",
           "14.20"
          ],
          [
           "Trundle",
           "14.21"
          ],
          [
           "Trundle",
           "14.22"
          ],
          [
           "Trundle",
           "14.23"
          ],
          [
           "Trundle",
           "14.24"
          ],
          [
           "Trundle",
           "15.01"
          ],
          [
           "Trundle",
           "15.02"
          ],
          [
           "Trundle",
           "15.03"
          ],
          [
           "Trundle",
           "15.04"
          ],
          [
           "Trundle",
           "15.05"
          ],
          [
           "Trundle",
           "15.06"
          ],
          [
           "Trundle",
           "15.07"
          ]
         ],
         "hovertemplate": "Champion=%{customdata[0]}<br>t-SNE Component 1=%{x}<br>t-SNE Component 2=%{y}<br>Patch=%{customdata[1]}<extra></extra>",
         "legendgroup": "Trundle",
         "marker": {
          "color": "#ab63fa",
          "size": 8,
          "symbol": "circle"
         },
         "mode": "markers",
         "name": "Trundle",
         "showlegend": true,
         "type": "scattergl",
         "x": {
          "bdata": "mwGUwJvGI8DhhvfAiUpDwi8AG8IoKK5AlDWYwWYHZkKIUAzCv/8hQTxYLMDy2gtAgfyVwWIA0ECdtKXBhpTDwCac6sF5MONBbahhQdLIG8A=",
          "dtype": "f4"
         },
         "xaxis": "x",
         "y": {
          "bdata": "lhPGQACAw8HOFSjBF4YXwcslB0IabULCxjMWwMz3BMHRlxdCFwUwQj6RZUKY4TdClkXvwWCVwEEWiLBBkkY0wWsXjD8zpZxBindGQmOOgEA=",
          "dtype": "f4"
         },
         "yaxis": "y"
        },
        {
         "customdata": [
          [
           "Rakan",
           "14.12"
          ],
          [
           "Rakan",
           "14.13"
          ],
          [
           "Rakan",
           "14.14"
          ],
          [
           "Rakan",
           "14.15"
          ],
          [
           "Rakan",
           "14.16"
          ],
          [
           "Rakan",
           "14.17"
          ],
          [
           "Rakan",
           "14.18"
          ],
          [
           "Rakan",
           "14.19"
          ],
          [
           "Rakan",
           "14.20"
          ],
          [
           "Rakan",
           "14.21"
          ],
          [
           "Rakan",
           "14.22"
          ],
          [
           "Rakan",
           "14.23"
          ],
          [
           "Rakan",
           "14.24"
          ],
          [
           "Rakan",
           "15.01"
          ],
          [
           "Rakan",
           "15.02"
          ],
          [
           "Rakan",
           "15.03"
          ],
          [
           "Rakan",
           "15.04"
          ],
          [
           "Rakan",
           "15.05"
          ],
          [
           "Rakan",
           "15.06"
          ],
          [
           "Rakan",
           "15.07"
          ]
         ],
         "hovertemplate": "Champion=%{customdata[0]}<br>t-SNE Component 1=%{x}<br>t-SNE Component 2=%{y}<br>Patch=%{customdata[1]}<extra></extra>",
         "legendgroup": "Rakan",
         "marker": {
          "color": "#FFA15A",
          "size": 8,
          "symbol": "circle"
         },
         "mode": "markers",
         "name": "Rakan",
         "showlegend": true,
         "type": "scattergl",
         "x": {
          "bdata": "unW/QczbrEHaqQnBxn3yPUkBpUFnNkq/DMz3QMdRU0ETgQfC5KtHQYqgzEEzHStCioSdPV2pWkH53ANCf0GVv8rIaEE2uTrB6l5fwBT3JEE=",
          "dtype": "f4"
         },
         "xaxis": "x",
         "y": {
          "bdata": "OArWwGxU3sHyt/fBDk6PQZGgNcGCD9nBy5EEQaFLmkHt8/fBgT8KwpxTtsHgagfAo+7Dwaq1/UFNNjtBo+ISwR/iAMJJtVFB9pUEwv9VnsA=",
          "dtype": "f4"
         },
         "yaxis": "y"
        },
        {
         "customdata": [
          [
           "Xayah",
           "14.12"
          ],
          [
           "Xayah",
           "14.13"
          ],
          [
           "Xayah",
           "14.14"
          ],
          [
           "Xayah",
           "14.15"
          ],
          [
           "Xayah",
           "14.16"
          ],
          [
           "Xayah",
           "14.17"
          ],
          [
           "Xayah",
           "14.18"
          ],
          [
           "Xayah",
           "14.19"
          ],
          [
           "Xayah",
           "14.20"
          ],
          [
           "Xayah",
           "14.21"
          ],
          [
           "Xayah",
           "14.22"
          ],
          [
           "Xayah",
           "14.23"
          ],
          [
           "Xayah",
           "14.24"
          ],
          [
           "Xayah",
           "15.01"
          ],
          [
           "Xayah",
           "15.02"
          ],
          [
           "Xayah",
           "15.03"
          ],
          [
           "Xayah",
           "15.04"
          ],
          [
           "Xayah",
           "15.05"
          ],
          [
           "Xayah",
           "15.06"
          ],
          [
           "Xayah",
           "15.07"
          ]
         ],
         "hovertemplate": "Champion=%{customdata[0]}<br>t-SNE Component 1=%{x}<br>t-SNE Component 2=%{y}<br>Patch=%{customdata[1]}<extra></extra>",
         "legendgroup": "Xayah",
         "marker": {
          "color": "#19d3f3",
          "size": 8,
          "symbol": "circle"
         },
         "mode": "markers",
         "name": "Xayah",
         "showlegend": true,
         "type": "scattergl",
         "x": {
          "bdata": "DGPYQNnvp8DZSWVCQpF0wGsTlz/L7qZASAScQB9vSULmdCpBJ9Abwqr+zUDYfo3AzBeCQFRyW8CW7RTCGNEewhIxG8K5lgbC0NpyQa97C0E=",
          "dtype": "f4"
         },
         "xaxis": "x",
         "y": {
          "bdata": "EN6kQW2rZ8HSzq3BL5FwwdO6rEFDtaZBfPqkQWrq0MHSVgNCPukdQR24v0H71vdBTJG5Qc8v6kHKiptBT3FzQUwgZUFe5TFBxv5OQPwAu0E=",
          "dtype": "f4"
         },
         "yaxis": "y"
        },
        {
         "customdata": [
          [
           "Xin Zhao",
           "14.12"
          ],
          [
           "Xin Zhao",
           "14.13"
          ],
          [
           "Xin Zhao",
           "14.14"
          ],
          [
           "Xin Zhao",
           "14.15"
          ],
          [
           "Xin Zhao",
           "14.16"
          ],
          [
           "Xin Zhao",
           "14.17"
          ],
          [
           "Xin Zhao",
           "14.18"
          ],
          [
           "Xin Zhao",
           "14.19"
          ],
          [
           "Xin Zhao",
           "14.20"
          ],
          [
           "Xin Zhao",
           "14.21"
          ],
          [
           "Xin Zhao",
           "14.22"
          ],
          [
           "Xin Zhao",
           "14.23"
          ],
          [
           "Xin Zhao",
           "14.24"
          ],
          [
           "Xin Zhao",
           "15.01"
          ],
          [
           "Xin Zhao",
           "15.02"
          ],
          [
           "Xin Zhao",
           "15.03"
          ],
          [
           "Xin Zhao",
           "15.04"
          ],
          [
           "Xin Zhao",
           "15.05"
          ],
          [
           "Xin Zhao",
           "15.06"
          ],
          [
           "Xin Zhao",
           "15.07"
          ]
         ],
         "hovertemplate": "Champion=%{customdata[0]}<br>t-SNE Component 1=%{x}<br>t-SNE Component 2=%{y}<br>Patch=%{customdata[1]}<extra></extra>",
         "legendgroup": "Xin Zhao",
         "marker": {
          "color": "#FF6692",
          "size": 8,
          "symbol": "circle"
         },
         "mode": "markers",
         "name": "Xin Zhao",
         "showlegend": true,
         "type": "scattergl",
         "x": {
          "bdata": "dC/OQYthx8FjscDBajX0QXy100E8+Mm/a8ATwo06AELodMlB9VOSwSEpv0GZ/XDBP0sawpyXST6fjc1BFdwpQl5RZ0E1MgFCc90OwpLSLUE=",
          "dtype": "f4"
         },
         "xaxis": "x",
         "y": {
          "bdata": "gkgbQfNl4UE/iK9ASPobQkt450FuitNBFn0EQvWQncH6GMdBHBNpQSWlz0Gq6f6/5SoYQl0lPUKhoNRBzkAuwFRGeEGAOJ3Bgt23QHtdqEE=",
          "dtype": "f4"
         },
         "yaxis": "y"
        },
        {
         "customdata": [
          [
           "Swain",
           "14.12"
          ],
          [
           "Swain",
           "14.13"
          ],
          [
           "Swain",
           "14.14"
          ],
          [
           "Swain",
           "14.15"
          ],
          [
           "Swain",
           "14.16"
          ],
          [
           "Swain",
           "14.17"
          ],
          [
           "Swain",
           "14.18"
          ],
          [
           "Swain",
           "14.19"
          ],
          [
           "Swain",
           "14.20"
          ],
          [
           "Swain",
           "14.21"
          ],
          [
           "Swain",
           "14.22"
          ],
          [
           "Swain",
           "14.23"
          ],
          [
           "Swain",
           "14.24"
          ],
          [
           "Swain",
           "15.01"
          ],
          [
           "Swain",
           "15.02"
          ],
          [
           "Swain",
           "15.03"
          ],
          [
           "Swain",
           "15.04"
          ],
          [
           "Swain",
           "15.05"
          ],
          [
           "Swain",
           "15.06"
          ],
          [
           "Swain",
           "15.07"
          ]
         ],
         "hovertemplate": "Champion=%{customdata[0]}<br>t-SNE Component 1=%{x}<br>t-SNE Component 2=%{y}<br>Patch=%{customdata[1]}<extra></extra>",
         "legendgroup": "Swain",
         "marker": {
          "color": "#B6E880",
          "size": 8,
          "symbol": "circle"
         },
         "mode": "markers",
         "name": "Swain",
         "showlegend": true,
         "type": "scattergl",
         "x": {
          "bdata": "YRBPQlodgUGwh+3BJFAcwlWAI8LpOUnCJCq6wZCjAsLVUmJBebFHQhb9H0FlvA3BPcdzQY5tREL0bM5BTqoXwoVVX0HtkrjBflUWQVfhBME=",
          "dtype": "f4"
         },
         "xaxis": "x",
         "y": {
          "bdata": "PAgVwXoR50GmVtZBaeOdQLB1pEEAiUFAGq0hQUno3kHZQLFBkvVOvvh/nEH34GrBkAMLQlmF+j/CT5i/1jlFPxKCCMDpFuBBT++cQUfc6T8=",
          "dtype": "f4"
         },
         "yaxis": "y"
        },
        {
         "customdata": [
          [
           "Caitlyn",
           "14.12"
          ],
          [
           "Caitlyn",
           "14.13"
          ],
          [
           "Caitlyn",
           "14.14"
          ],
          [
           "Caitlyn",
           "14.15"
          ],
          [
           "Caitlyn",
           "14.16"
          ],
          [
           "Caitlyn",
           "14.17"
          ],
          [
           "Caitlyn",
           "14.18"
          ],
          [
           "Caitlyn",
           "14.19"
          ],
          [
           "Caitlyn",
           "14.20"
          ],
          [
           "Caitlyn",
           "14.21"
          ],
          [
           "Caitlyn",
           "14.22"
          ],
          [
           "Caitlyn",
           "14.23"
          ],
          [
           "Caitlyn",
           "14.24"
          ],
          [
           "Caitlyn",
           "15.01"
          ],
          [
           "Caitlyn",
           "15.02"
          ],
          [
           "Caitlyn",
           "15.03"
          ],
          [
           "Caitlyn",
           "15.04"
          ],
          [
           "Caitlyn",
           "15.05"
          ],
          [
           "Caitlyn",
           "15.06"
          ],
          [
           "Caitlyn",
           "15.07"
          ]
         ],
         "hovertemplate": "Champion=%{customdata[0]}<br>t-SNE Component 1=%{x}<br>t-SNE Component 2=%{y}<br>Patch=%{customdata[1]}<extra></extra>",
         "legendgroup": "Caitlyn",
         "marker": {
          "color": "#FF97FF",
          "size": 8,
          "symbol": "circle"
         },
         "mode": "markers",
         "name": "Caitlyn",
         "showlegend": true,
         "type": "scattergl",
         "x": {
          "bdata": "Ury7QVhZxkExrblBgMO8QffNrMA8NM9BZ/QzQRMVWkJ9VMzBL8/BwdUNxcEXTANCOknZv4nclcBiwDFB/k8fQcboHcGPYK1AR448QeGvS8E=",
          "dtype": "f4"
         },
         "xaxis": "x",
         "y": {
          "bdata": "8BNkwTt/VMH6A17B9URwwapH5MBJlZnBxBGCQUGkksHeivNB4cTmQc2n7kEb1NLBDf6jQRTHSMEIR/5AXxgWQYawjUEcOmFAnuGRweKUhkE=",
          "dtype": "f4"
         },
         "yaxis": "y"
        },
        {
         "customdata": [
          [
           "Ornn",
           "14.12"
          ],
          [
           "Ornn",
           "14.13"
          ],
          [
           "Ornn",
           "14.14"
          ],
          [
           "Ornn",
           "14.15"
          ],
          [
           "Ornn",
           "14.16"
          ],
          [
           "Ornn",
           "14.17"
          ],
          [
           "Ornn",
           "14.18"
          ],
          [
           "Ornn",
           "14.19"
          ],
          [
           "Ornn",
           "14.20"
          ],
          [
           "Ornn",
           "14.21"
          ],
          [
           "Ornn",
           "14.22"
          ],
          [
           "Ornn",
           "14.23"
          ],
          [
           "Ornn",
           "14.24"
          ],
          [
           "Ornn",
           "15.01"
          ],
          [
           "Ornn",
           "15.02"
          ],
          [
           "Ornn",
           "15.03"
          ],
          [
           "Ornn",
           "15.04"
          ],
          [
           "Ornn",
           "15.05"
          ],
          [
           "Ornn",
           "15.06"
          ],
          [
           "Ornn",
           "15.07"
          ]
         ],
         "hovertemplate": "Champion=%{customdata[0]}<br>t-SNE Component 1=%{x}<br>t-SNE Component 2=%{y}<br>Patch=%{customdata[1]}<extra></extra>",
         "legendgroup": "Ornn",
         "marker": {
          "color": "#FECB52",
          "size": 8,
          "symbol": "circle"
         },
         "mode": "markers",
         "name": "Ornn",
         "showlegend": true,
         "type": "scattergl",
         "x": {
          "bdata": "1LRcQf+e4EHlibbB0Fv+wFe7+8FjtsbBWmMfwgvDqMFkOyxBGl83wcFXtsEF5PTBLKO4wc2uuMGEYcm/R9DJwa2n/b6ILkTCESixwWZWv8E=",
          "dtype": "f4"
         },
         "xaxis": "x",
         "y": {
          "bdata": "a1YLwbs6IsFxzkjBNmuQQXEPJcE7NXbBcZ99wZRYGcE3VBPBULuPwdraGsFF3QvAgNRgwYpxX8HUPd7AmHs8wWr/kUAAbNdAq45OwQrARME=",
          "dtype": "f4"
         },
         "yaxis": "y"
        },
        {
         "customdata": [
          [
           "Sylas",
           "14.12"
          ],
          [
           "Sylas",
           "14.13"
          ],
          [
           "Sylas",
           "14.14"
          ],
          [
           "Sylas",
           "14.15"
          ],
          [
           "Sylas",
           "14.16"
          ],
          [
           "Sylas",
           "14.17"
          ],
          [
           "Sylas",
           "14.18"
          ],
          [
           "Sylas",
           "14.19"
          ],
          [
           "Sylas",
           "14.20"
          ],
          [
           "Sylas",
           "14.21"
          ],
          [
           "Sylas",
           "14.22"
          ],
          [
           "Sylas",
           "14.23"
          ],
          [
           "Sylas",
           "14.24"
          ],
          [
           "Sylas",
           "15.01"
          ],
          [
           "Sylas",
           "15.02"
          ],
          [
           "Sylas",
           "15.03"
          ],
          [
           "Sylas",
           "15.04"
          ],
          [
           "Sylas",
           "15.05"
          ],
          [
           "Sylas",
           "15.06"
          ],
          [
           "Sylas",
           "15.07"
          ]
         ],
         "hovertemplate": "Champion=%{customdata[0]}<br>t-SNE Component 1=%{x}<br>t-SNE Component 2=%{y}<br>Patch=%{customdata[1]}<extra></extra>",
         "legendgroup": "Sylas",
         "marker": {
          "color": "#636efa",
          "size": 8,
          "symbol": "circle"
         },
         "mode": "markers",
         "name": "Sylas",
         "showlegend": true,
         "type": "scattergl",
         "x": {
          "bdata": "+PcawsWlHsKieBLCQR4fQQbtCMINrS3ChXYswm4dNcLVIxjC0m+AwbIFHEH1SRXCmLiEwTsj70GLugtCqwcOQpUeLUIrUBlC+68pQuREDEE=",
          "dtype": "f4"
         },
         "xaxis": "x",
         "y": {
          "bdata": "2n3lwW/a2sFHwCFCJfgiwniIkz3bGeHBthTmwfeetsHWQlTB0xC2wWWLLEA9ORDC22cXwuOaIsIxEZTBlEuQwTdCMsGZrBrA6IFsP98uuUA=",
          "dtype": "f4"
         },
         "yaxis": "y"
        },
        {
         "customdata": [
          [
           "Neeko",
           "14.12"
          ],
          [
           "Neeko",
           "14.13"
          ],
          [
           "Neeko",
           "14.14"
          ],
          [
           "Neeko",
           "14.15"
          ],
          [
           "Neeko",
           "14.16"
          ],
          [
           "Neeko",
           "14.17"
          ],
          [
           "Neeko",
           "14.18"
          ],
          [
           "Neeko",
           "14.19"
          ],
          [
           "Neeko",
           "14.20"
          ],
          [
           "Neeko",
           "14.21"
          ],
          [
           "Neeko",
           "14.22"
          ],
          [
           "Neeko",
           "14.23"
          ],
          [
           "Neeko",
           "14.24"
          ],
          [
           "Neeko",
           "15.01"
          ],
          [
           "Neeko",
           "15.02"
          ],
          [
           "Neeko",
           "15.03"
          ],
          [
           "Neeko",
           "15.04"
          ],
          [
           "Neeko",
           "15.05"
          ],
          [
           "Neeko",
           "15.06"
          ],
          [
           "Neeko",
           "15.07"
          ]
         ],
         "hovertemplate": "Champion=%{customdata[0]}<br>t-SNE Component 1=%{x}<br>t-SNE Component 2=%{y}<br>Patch=%{customdata[1]}<extra></extra>",
         "legendgroup": "Neeko",
         "marker": {
          "color": "#EF553B",
          "size": 8,
          "symbol": "circle"
         },
         "mode": "markers",
         "name": "Neeko",
         "showlegend": true,
         "type": "scattergl",
         "x": {
          "bdata": "rlGMwQnLUkHgzG1CiYYKwmTGt8GfiUfC7r4mQv/1+MHKCg7A3cbZQIXqD8E9VzPCzlISwI4wcUD5qq9B2TuTQCzTQcJiCzDBXrEtwgpOocE=",
          "dtype": "f4"
         },
         "xaxis": "x",
         "y": {
          "bdata": "9TcXwtUDScI6KpPBkuvVwfYy5sH5vIrBdpX1waRFt0Hngy3CBFiMQT17MkIUW8tBwry/Qa42pcHR1SvCrfQOwl7YqcGL/bdBNbqvQXGqZj8=",
          "dtype": "f4"
         },
         "yaxis": "y"
        },
        {
         "customdata": [
          [
           "Aphelios",
           "14.12"
          ],
          [
           "Aphelios",
           "14.13"
          ],
          [
           "Aphelios",
           "14.14"
          ],
          [
           "Aphelios",
           "14.15"
          ],
          [
           "Aphelios",
           "14.16"
          ],
          [
           "Aphelios",
           "14.17"
          ],
          [
           "Aphelios",
           "14.18"
          ],
          [
           "Aphelios",
           "14.19"
          ],
          [
           "Aphelios",
           "14.20"
          ],
          [
           "Aphelios",
           "14.21"
          ],
          [
           "Aphelios",
           "14.22"
          ],
          [
           "Aphelios",
           "14.23"
          ],
          [
           "Aphelios",
           "14.24"
          ],
          [
           "Aphelios",
           "15.01"
          ],
          [
           "Aphelios",
           "15.02"
          ],
          [
           "Aphelios",
           "15.03"
          ],
          [
           "Aphelios",
           "15.04"
          ],
          [
           "Aphelios",
           "15.05"
          ],
          [
           "Aphelios",
           "15.06"
          ],
          [
           "Aphelios",
           "15.07"
          ]
         ],
         "hovertemplate": "Champion=%{customdata[0]}<br>t-SNE Component 1=%{x}<br>t-SNE Component 2=%{y}<br>Patch=%{customdata[1]}<extra></extra>",
         "legendgroup": "Aphelios",
         "marker": {
          "color": "#00cc96",
          "size": 8,
          "symbol": "circle"
         },
         "mode": "markers",
         "name": "Aphelios",
         "showlegend": true,
         "type": "scattergl",
         "x": {
          "bdata": "W8NSQjteVULFN1xBo6U8QZTWE0LC/GBC2oFlQtSRU0KE8qnBhnOfP5O4U8CovyRBhmKHwCu3nMHYDgvClrhMwHpdIsEGTcPBiInKwcluYEE=",
          "dtype": "f4"
         },
         "xaxis": "x",
         "y": {
          "bdata": "oG63wd9hucHOGBtCHcxnQbgeTD/Xjq3BHa6dwegotcHYKwhBgLoMQiOTPcFJ/lpBlmsawPHaicAQ1JtBQs0xwXcskEFcI89BMEvxQWWkKkE=",
          "dtype": "f4"
         },
         "yaxis": "y"
        },
        {
         "customdata": [
          [
           "Rell",
           "14.12"
          ],
          [
           "Rell",
           "14.13"
          ],
          [
           "Rell",
           "14.14"
          ],
          [
           "Rell",
           "14.15"
          ],
          [
           "Rell",
           "14.16"
          ],
          [
           "Rell",
           "14.17"
          ],
          [
           "Rell",
           "14.18"
          ],
          [
           "Rell",
           "14.19"
          ],
          [
           "Rell",
           "14.20"
          ],
          [
           "Rell",
           "14.21"
          ],
          [
           "Rell",
           "14.22"
          ],
          [
           "Rell",
           "14.23"
          ],
          [
           "Rell",
           "14.24"
          ],
          [
           "Rell",
           "15.01"
          ],
          [
           "Rell",
           "15.02"
          ],
          [
           "Rell",
           "15.03"
          ],
          [
           "Rell",
           "15.04"
          ],
          [
           "Rell",
           "15.05"
          ],
          [
           "Rell",
           "15.06"
          ],
          [
           "Rell",
           "15.07"
          ]
         ],
         "hovertemplate": "Champion=%{customdata[0]}<br>t-SNE Component 1=%{x}<br>t-SNE Component 2=%{y}<br>Patch=%{customdata[1]}<extra></extra>",
         "legendgroup": "Rell",
         "marker": {
          "color": "#ab63fa",
          "size": 8,
          "symbol": "circle"
         },
         "mode": "markers",
         "name": "Rell",
         "showlegend": true,
         "type": "scattergl",
         "x": {
          "bdata": "QNULwjbsqMEYCNDAADNxQRXHocErtJlAc59mv6GdpMEMtMO/JuYqwRhcbcAfGxtCBF1iwYlwzsGTJc9APbgfwNXussGGDUI/gpEKwvgws8A=",
          "dtype": "f4"
         },
         "xaxis": "x",
         "y": {
          "bdata": "eI7xwQXQ0sHh5xvC1c5IwgV90MGSnmdBRwmNQXUil8Gpt0zBqg4oQC+oIcG4dr9BZLcBwpRmDEELrB9C3s8HQSohL8F8Was+wxT/wWi9W0E=",
          "dtype": "f4"
         },
         "yaxis": "y"
        },
        {
         "customdata": [
          [
           "Blitzcrank",
           "14.12"
          ],
          [
           "Blitzcrank",
           "14.13"
          ],
          [
           "Blitzcrank",
           "14.14"
          ],
          [
           "Blitzcrank",
           "14.15"
          ],
          [
           "Blitzcrank",
           "14.16"
          ],
          [
           "Blitzcrank",
           "14.17"
          ],
          [
           "Blitzcrank",
           "14.18"
          ],
          [
           "Blitzcrank",
           "14.19"
          ],
          [
           "Blitzcrank",
           "14.20"
          ],
          [
           "Blitzcrank",
           "14.21"
          ],
          [
           "Blitzcrank",
           "14.22"
          ],
          [
           "Blitzcrank",
           "14.23"
          ],
          [
           "Blitzcrank",
           "14.24"
          ],
          [
           "Blitzcrank",
           "15.01"
          ],
          [
           "Blitzcrank",
           "15.02"
          ],
          [
           "Blitzcrank",
           "15.03"
          ],
          [
           "Blitzcrank",
           "15.04"
          ],
          [
           "Blitzcrank",
           "15.05"
          ],
          [
           "Blitzcrank",
           "15.06"
          ],
          [
           "Blitzcrank",
           "15.07"
          ]
         ],
         "hovertemplate": "Champion=%{customdata[0]}<br>t-SNE Component 1=%{x}<br>t-SNE Component 2=%{y}<br>Patch=%{customdata[1]}<extra></extra>",
         "legendgroup": "Blitzcrank",
         "marker": {
          "color": "#FFA15A",
          "size": 8,
          "symbol": "circle"
         },
         "mode": "markers",
         "name": "Blitzcrank",
         "showlegend": true,
         "type": "scattergl",
         "x": {
          "bdata": "DjMJQpdnosAWUsZB4vgJQiYAxEB8YCzBQkHEQaOnIUJhjRVCx60GQp6yRMEkUZlA3AibP283i8FhuB7Bp/SPQcrEzsB4u8ZBFA/rQTruNME=",
          "dtype": "f4"
         },
         "xaxis": "x",
         "y": {
          "bdata": "8cqtQQCAHcJE7tLB4sAewYZG5ED4kw/BHdnHwfBHREAY8sVAeZunQVLFMsLTXIQ/b04xwvqU/8B3h9jBABX9wSyTmcEsAt3Bpbu4wWa6bkE=",
          "dtype": "f4"
         },
         "yaxis": "y"
        },
        {
         "customdata": [
          [
           "Malphite",
           "14.12"
          ],
          [
           "Malphite",
           "14.13"
          ],
          [
           "Malphite",
           "14.14"
          ],
          [
           "Malphite",
           "14.15"
          ],
          [
           "Malphite",
           "14.16"
          ],
          [
           "Malphite",
           "14.17"
          ],
          [
           "Malphite",
           "14.18"
          ],
          [
           "Malphite",
           "14.19"
          ],
          [
           "Malphite",
           "14.20"
          ],
          [
           "Malphite",
           "14.21"
          ],
          [
           "Malphite",
           "14.22"
          ],
          [
           "Malphite",
           "14.23"
          ],
          [
           "Malphite",
           "14.24"
          ],
          [
           "Malphite",
           "15.01"
          ],
          [
           "Malphite",
           "15.02"
          ],
          [
           "Malphite",
           "15.03"
          ],
          [
           "Malphite",
           "15.04"
          ],
          [
           "Malphite",
           "15.05"
          ],
          [
           "Malphite",
           "15.06"
          ],
          [
           "Malphite",
           "15.07"
          ]
         ],
         "hovertemplate": "Champion=%{customdata[0]}<br>t-SNE Component 1=%{x}<br>t-SNE Component 2=%{y}<br>Patch=%{customdata[1]}<extra></extra>",
         "legendgroup": "Malphite",
         "marker": {
          "color": "#19d3f3",
          "size": 8,
          "symbol": "circle"
         },
         "mode": "markers",
         "name": "Malphite",
         "showlegend": true,
         "type": "scattergl",
         "x": {
          "bdata": "1PsjwjezYUAx+CJCGOc6QiiUMEKe/S5C0EESQqcNRkLs8kRBRCkYwi1OG8KLegXBE6fJQQMg08A+DQ3Cm8PZwObb18HrQQrCMkv7PyNfEcE=",
          "dtype": "f4"
         },
         "xaxis": "x",
         "y": {
          "bdata": "A+FQQdwmy8HIJ0pBExqeP3wHpUBNMcBAIsPLQAwKCcHzRLTBL88xQZA2lkCUoaZB81C+wH7pn0Fwq19BRIKgQfNVeUFFj1lBylYpQSutf0E=",
          "dtype": "f4"
         },
         "yaxis": "y"
        },
        {
         "customdata": [
          [
           "Katarina",
           "14.12"
          ],
          [
           "Katarina",
           "14.13"
          ],
          [
           "Katarina",
           "14.14"
          ],
          [
           "Katarina",
           "14.15"
          ],
          [
           "Katarina",
           "14.16"
          ],
          [
           "Katarina",
           "14.17"
          ],
          [
           "Katarina",
           "14.18"
          ],
          [
           "Katarina",
           "14.19"
          ],
          [
           "Katarina",
           "14.20"
          ],
          [
           "Katarina",
           "14.21"
          ],
          [
           "Katarina",
           "14.22"
          ],
          [
           "Katarina",
           "14.23"
          ],
          [
           "Katarina",
           "14.24"
          ],
          [
           "Katarina",
           "15.01"
          ],
          [
           "Katarina",
           "15.02"
          ],
          [
           "Katarina",
           "15.03"
          ],
          [
           "Katarina",
           "15.04"
          ],
          [
           "Katarina",
           "15.05"
          ],
          [
           "Katarina",
           "15.06"
          ],
          [
           "Katarina",
           "15.07"
          ]
         ],
         "hovertemplate": "Champion=%{customdata[0]}<br>t-SNE Component 1=%{x}<br>t-SNE Component 2=%{y}<br>Patch=%{customdata[1]}<extra></extra>",
         "legendgroup": "Katarina",
         "marker": {
          "color": "#FF6692",
          "size": 8,
          "symbol": "circle"
         },
         "mode": "markers",
         "name": "Katarina",
         "showlegend": true,
         "type": "scattergl",
         "x": {
          "bdata": "XKMewgbFHsIBNSnCsuI3wvI3rMFqlalBBWm5waMAnMG8RZ/BoGOuQQ3xLcILHRrCKkoVwvERq8HHV5TB3S2tQS9Nu0Equ5RA5ui4waW7usE=",
          "dtype": "f4"
         },
         "xaxis": "x",
         "y": {
          "bdata": "YdMPwjrcD8LN4I7BScFawRoNBkB4XclBI9cAQX3mIkGzKg9BEMTaQVZK8sFbdgXCQb4Qwrlp2kHbRM5BaTDQwd3PBEFo8f/BIAWGQNow/EA=",
          "dtype": "f4"
         },
         "yaxis": "y"
        },
        {
         "customdata": [
          [
           "Pyke",
           "14.12"
          ],
          [
           "Pyke",
           "14.13"
          ],
          [
           "Pyke",
           "14.14"
          ],
          [
           "Pyke",
           "14.15"
          ],
          [
           "Pyke",
           "14.16"
          ],
          [
           "Pyke",
           "14.17"
          ],
          [
           "Pyke",
           "14.18"
          ],
          [
           "Pyke",
           "14.19"
          ],
          [
           "Pyke",
           "14.20"
          ],
          [
           "Pyke",
           "14.21"
          ],
          [
           "Pyke",
           "14.22"
          ],
          [
           "Pyke",
           "14.23"
          ],
          [
           "Pyke",
           "14.24"
          ],
          [
           "Pyke",
           "15.01"
          ],
          [
           "Pyke",
           "15.02"
          ],
          [
           "Pyke",
           "15.03"
          ],
          [
           "Pyke",
           "15.04"
          ],
          [
           "Pyke",
           "15.05"
          ],
          [
           "Pyke",
           "15.06"
          ],
          [
           "Pyke",
           "15.07"
          ]
         ],
         "hovertemplate": "Champion=%{customdata[0]}<br>t-SNE Component 1=%{x}<br>t-SNE Component 2=%{y}<br>Patch=%{customdata[1]}<extra></extra>",
         "legendgroup": "Pyke",
         "marker": {
          "color": "#B6E880",
          "size": 8,
          "symbol": "circle"
         },
         "mode": "markers",
         "name": "Pyke",
         "showlegend": true,
         "type": "scattergl",
         "x": {
          "bdata": "/9aVwff3n8Hg0qPBRYBAwSKok8HeIZrBBL55wX4kSMGBRcnAnTWVQW6G3b/vYY3BrJEiwYvjrkF/l6lAjFwOwZrpHkKrSwdBNZzqQKLz28A=",
          "dtype": "f4"
         },
         "xaxis": "x",
         "y": {
          "bdata": "I7QIwtOKDcKPdgXCp5IkwgIeD8KLLRLCf7/6wQrPJsKh5PXBs7e4wXrDpMGQDgrBiWOTwa9MK0JzcfRAopFawTDfaECbToPBTfIVwljlLr8=",
          "dtype": "f4"
         },
         "yaxis": "y"
        },
        {
         "customdata": [
          [
           "Nocturne",
           "14.12"
          ],
          [
           "Nocturne",
           "14.13"
          ],
          [
           "Nocturne",
           "14.14"
          ],
          [
           "Nocturne",
           "14.15"
          ],
          [
           "Nocturne",
           "14.16"
          ],
          [
           "Nocturne",
           "14.17"
          ],
          [
           "Nocturne",
           "14.18"
          ],
          [
           "Nocturne",
           "14.19"
          ],
          [
           "Nocturne",
           "14.20"
          ],
          [
           "Nocturne",
           "14.21"
          ],
          [
           "Nocturne",
           "14.22"
          ],
          [
           "Nocturne",
           "14.23"
          ],
          [
           "Nocturne",
           "14.24"
          ],
          [
           "Nocturne",
           "15.01"
          ],
          [
           "Nocturne",
           "15.02"
          ],
          [
           "Nocturne",
           "15.03"
          ],
          [
           "Nocturne",
           "15.04"
          ],
          [
           "Nocturne",
           "15.05"
          ],
          [
           "Nocturne",
           "15.06"
          ],
          [
           "Nocturne",
           "15.07"
          ]
         ],
         "hovertemplate": "Champion=%{customdata[0]}<br>t-SNE Component 1=%{x}<br>t-SNE Component 2=%{y}<br>Patch=%{customdata[1]}<extra></extra>",
         "legendgroup": "Nocturne",
         "marker": {
          "color": "#FF97FF",
          "size": 8,
          "symbol": "circle"
         },
         "mode": "markers",
         "name": "Nocturne",
         "showlegend": true,
         "type": "scattergl",
         "x": {
          "bdata": "zWrVQN4mrkBqyovBSKj/wHQl6MGUNLLBhbLdQJbOJUIc/KdBfCEgQaIGqEEMPWrBZoSNQcIuTEFxfDFA2H2BPaXuGsK38xjCMyzhQP5GpcE=",
          "dtype": "f4"
         },
         "xaxis": "x",
         "y": {
          "bdata": "In8gQreLx8DC9g5CuGFAwe7I4ECNPB9C0C+rQTFB9ME6YMnByMC7QV6xyEHw1w5CaoWTQT4iB0KWkt5Bh/D/v1gVK8CQ/D7AL/OwQaO0k0A=",
          "dtype": "f4"
         },
         "yaxis": "y"
        },
        {
         "customdata": [
          [
           "Maokai",
           "14.12"
          ],
          [
           "Maokai",
           "14.13"
          ],
          [
           "Maokai",
           "14.14"
          ],
          [
           "Maokai",
           "14.15"
          ],
          [
           "Maokai",
           "14.16"
          ],
          [
           "Maokai",
           "14.17"
          ],
          [
           "Maokai",
           "14.18"
          ],
          [
           "Maokai",
           "14.19"
          ],
          [
           "Maokai",
           "14.20"
          ],
          [
           "Maokai",
           "14.21"
          ],
          [
           "Maokai",
           "14.22"
          ],
          [
           "Maokai",
           "14.23"
          ],
          [
           "Maokai",
           "14.24"
          ],
          [
           "Maokai",
           "15.01"
          ],
          [
           "Maokai",
           "15.02"
          ],
          [
           "Maokai",
           "15.03"
          ],
          [
           "Maokai",
           "15.04"
          ],
          [
           "Maokai",
           "15.05"
          ],
          [
           "Maokai",
           "15.06"
          ],
          [
           "Maokai",
           "15.07"
          ]
         ],
         "hovertemplate": "Champion=%{customdata[0]}<br>t-SNE Component 1=%{x}<br>t-SNE Component 2=%{y}<br>Patch=%{customdata[1]}<extra></extra>",
         "legendgroup": "Maokai",
         "marker": {
          "color": "#FECB52",
          "size": 8,
          "symbol": "circle"
         },
         "mode": "markers",
         "name": "Maokai",
         "showlegend": true,
         "type": "scattergl",
         "x": {
          "bdata": "nxUbPy3bkz/OKRzCdkQjQQTvzkFdidPAJcEXQnjhDEJNiU/CwdPPQZQJEcIxU9fBMbX6wQm1AsLuCZpAahevQaxwpkHm9cdBVO+iQXD8XUA=",
          "dtype": "f4"
         },
         "xaxis": "x",
         "y": {
          "bdata": "mlMiQhO9KkLreIXAblouQlOYIcI4hSbBwsybQbKmBUEZo8zB0hMJwf+EC0LyaprBANZ+QEcjCcG1JP7AgUiXwU8wFkL+ZV9BHXgaQteRZ8E=",
          "dtype": "f4"
         },
         "yaxis": "y"
        },
        {
         "customdata": [
          [
           "Renekton",
           "14.12"
          ],
          [
           "Renekton",
           "14.13"
          ],
          [
           "Renekton",
           "14.14"
          ],
          [
           "Renekton",
           "14.15"
          ],
          [
           "Renekton",
           "14.16"
          ],
          [
           "Renekton",
           "14.17"
          ],
          [
           "Renekton",
           "14.18"
          ],
          [
           "Renekton",
           "14.19"
          ],
          [
           "Renekton",
           "14.20"
          ],
          [
           "Renekton",
           "14.21"
          ],
          [
           "Renekton",
           "14.22"
          ],
          [
           "Renekton",
           "14.23"
          ],
          [
           "Renekton",
           "14.24"
          ],
          [
           "Renekton",
           "15.01"
          ],
          [
           "Renekton",
           "15.02"
          ],
          [
           "Renekton",
           "15.03"
          ],
          [
           "Renekton",
           "15.04"
          ],
          [
           "Renekton",
           "15.05"
          ],
          [
           "Renekton",
           "15.06"
          ],
          [
           "Renekton",
           "15.07"
          ]
         ],
         "hovertemplate": "Champion=%{customdata[0]}<br>t-SNE Component 1=%{x}<br>t-SNE Component 2=%{y}<br>Patch=%{customdata[1]}<extra></extra>",
         "legendgroup": "Renekton",
         "marker": {
          "color": "#636efa",
          "size": 8,
          "symbol": "circle"
         },
         "mode": "markers",
         "name": "Renekton",
         "showlegend": true,
         "type": "scattergl",
         "x": {
          "bdata": "Tz8aQYFaK0KlPiVBqXRowDjEY0Gi1OY/C7BNwmgrLUI86rdBcaFMwrydQ8ABW44/6DYPwHaYAsGS8iFCdKnFPzH7JEKbGRxC9D/6wK+HAsE=",
          "dtype": "f4"
         },
         "xaxis": "x",
         "y": {
          "bdata": "Cf8iQeDpGEG3VRvAFV0AwdYE00DOSPFB6K7RvGzfFUG6SORB7lIWvqRQ0EHl2j1AUHOyQFWKKUJ8wHRBkA/JQG0Df0E26HxBJd6qQSRGi0E=",
          "dtype": "f4"
         },
         "yaxis": "y"
        },
        {
         "customdata": [
          [
           "Jarvan IV",
           "14.12"
          ],
          [
           "Jarvan IV",
           "14.13"
          ],
          [
           "Jarvan IV",
           "14.14"
          ],
          [
           "Jarvan IV",
           "14.15"
          ],
          [
           "Jarvan IV",
           "14.16"
          ],
          [
           "Jarvan IV",
           "14.17"
          ],
          [
           "Jarvan IV",
           "14.18"
          ],
          [
           "Jarvan IV",
           "14.19"
          ],
          [
           "Jarvan IV",
           "14.20"
          ],
          [
           "Jarvan IV",
           "14.21"
          ],
          [
           "Jarvan IV",
           "14.22"
          ],
          [
           "Jarvan IV",
           "14.23"
          ],
          [
           "Jarvan IV",
           "14.24"
          ],
          [
           "Jarvan IV",
           "15.01"
          ],
          [
           "Jarvan IV",
           "15.02"
          ],
          [
           "Jarvan IV",
           "15.03"
          ],
          [
           "Jarvan IV",
           "15.04"
          ],
          [
           "Jarvan IV",
           "15.05"
          ],
          [
           "Jarvan IV",
           "15.06"
          ],
          [
           "Jarvan IV",
           "15.07"
          ]
         ],
         "hovertemplate": "Champion=%{customdata[0]}<br>t-SNE Component 1=%{x}<br>t-SNE Component 2=%{y}<br>Patch=%{customdata[1]}<extra></extra>",
         "legendgroup": "Jarvan IV",
         "marker": {
          "color": "#EF553B",
          "size": 8,
          "symbol": "circle"
         },
         "mode": "markers",
         "name": "Jarvan IV",
         "showlegend": true,
         "type": "scattergl",
         "x": {
          "bdata": "TWSeQTFovMGUgzhC1SCkQUbQzEGbjz7AqOCEwCpbNUGClKjBnTRuQdHikcBk6spBPRSVQWF5nEHWC51Bgb0dQf15pcG9ZptBcUGvv4xAMUE=",
          "dtype": "f4"
         },
         "xaxis": "x",
         "y": {
          "bdata": "UEb1QTT4MkJDdAnAOxHtQQWWFcAXMy5C4d8gQvK2x0HDwjpCXODaQf9MwkHU6BPAPEPyQRsyAUJ5LQFC5qDCQX54PkJHw/VBIrEZQkFbwEE=",
          "dtype": "f4"
         },
         "yaxis": "y"
        },
        {
         "customdata": [
          [
           "Urgot",
           "14.12"
          ],
          [
           "Urgot",
           "14.13"
          ],
          [
           "Urgot",
           "14.14"
          ],
          [
           "Urgot",
           "14.15"
          ],
          [
           "Urgot",
           "14.16"
          ],
          [
           "Urgot",
           "14.17"
          ],
          [
           "Urgot",
           "14.18"
          ],
          [
           "Urgot",
           "14.19"
          ],
          [
           "Urgot",
           "14.20"
          ],
          [
           "Urgot",
           "14.21"
          ],
          [
           "Urgot",
           "14.22"
          ],
          [
           "Urgot",
           "14.23"
          ],
          [
           "Urgot",
           "14.24"
          ],
          [
           "Urgot",
           "15.01"
          ],
          [
           "Urgot",
           "15.02"
          ],
          [
           "Urgot",
           "15.03"
          ],
          [
           "Urgot",
           "15.04"
          ],
          [
           "Urgot",
           "15.05"
          ],
          [
           "Urgot",
           "15.06"
          ],
          [
           "Urgot",
           "15.07"
          ]
         ],
         "hovertemplate": "Champion=%{customdata[0]}<br>t-SNE Component 1=%{x}<br>t-SNE Component 2=%{y}<br>Patch=%{customdata[1]}<extra></extra>",
         "legendgroup": "Urgot",
         "marker": {
          "color": "#00cc96",
          "size": 8,
          "symbol": "circle"
         },
         "mode": "markers",
         "name": "Urgot",
         "showlegend": true,
         "type": "scattergl",
         "x": {
          "bdata": "/gAiQt17E0K6lW7BiNNJweEH7sHEkszBb3r0wRrDBEKyM75BAasTQbcxEkLygDzCOEZ0wVjN3sD+p8nAb7ovwj3I6sD9mkLBaXtCwq06kcE=",
          "dtype": "f4"
         },
         "xaxis": "x",
         "y": {
          "bdata": "AAmbwYgTCMKhxTpAAq+FQB+EocGrXatAePfAQHONM8HteQ/CKk4JQtBuxMFMzxlBbFlEQNstycEli8PBGbC1Qc7crcFP8QtBUQCbwMEtPEA=",
          "dtype": "f4"
         },
         "yaxis": "y"
        },
        {
         "customdata": [
          [
           "Elise",
           "14.12"
          ],
          [
           "Elise",
           "14.13"
          ],
          [
           "Elise",
           "14.14"
          ],
          [
           "Elise",
           "14.15"
          ],
          [
           "Elise",
           "14.16"
          ],
          [
           "Elise",
           "14.17"
          ],
          [
           "Elise",
           "14.18"
          ],
          [
           "Elise",
           "14.19"
          ],
          [
           "Elise",
           "14.20"
          ],
          [
           "Elise",
           "14.21"
          ],
          [
           "Elise",
           "14.22"
          ],
          [
           "Elise",
           "14.23"
          ],
          [
           "Elise",
           "14.24"
          ],
          [
           "Elise",
           "15.01"
          ],
          [
           "Elise",
           "15.02"
          ],
          [
           "Elise",
           "15.03"
          ],
          [
           "Elise",
           "15.04"
          ],
          [
           "Elise",
           "15.05"
          ],
          [
           "Elise",
           "15.06"
          ],
          [
           "Elise",
           "15.07"
          ]
         ],
         "hovertemplate": "Champion=%{customdata[0]}<br>t-SNE Component 1=%{x}<br>t-SNE Component 2=%{y}<br>Patch=%{customdata[1]}<extra></extra>",
         "legendgroup": "Elise",
         "marker": {
          "color": "#ab63fa",
          "size": 8,
          "symbol": "circle"
         },
         "mode": "markers",
         "name": "Elise",
         "showlegend": true,
         "type": "scattergl",
         "x": {
          "bdata": "Mh+ywVHCAkHSqRZCghIiwlMKccFPcshBIygoQqmVAEH/rPTBKQsKwmgJ/EBf8QfCSo94QSy5LEGGCslAKXOvQejZtsGs+ZNBsrJSQdeMEkE=",
          "dtype": "f4"
         },
         "xaxis": "x",
         "y": {
          "bdata": "3ZURQjvSGUJLOptBw+rtP6wxVUHdWzhCSOxTwKFDGkI4BfxBvc74QRKqF0IoFftBdEs8wW43IsIgOEXC+LW9wYuEE0KLQIdBfO/TQXcgs0E=",
          "dtype": "f4"
         },
         "yaxis": "y"
        },
        {
         "customdata": [
          [
           "Orianna",
           "14.12"
          ],
          [
           "Orianna",
           "14.13"
          ],
          [
           "Orianna",
           "14.14"
          ],
          [
           "Orianna",
           "14.15"
          ],
          [
           "Orianna",
           "14.16"
          ],
          [
           "Orianna",
           "14.17"
          ],
          [
           "Orianna",
           "14.18"
          ],
          [
           "Orianna",
           "14.19"
          ],
          [
           "Orianna",
           "14.20"
          ],
          [
           "Orianna",
           "14.21"
          ],
          [
           "Orianna",
           "14.22"
          ],
          [
           "Orianna",
           "14.23"
          ],
          [
           "Orianna",
           "14.24"
          ],
          [
           "Orianna",
           "15.01"
          ],
          [
           "Orianna",
           "15.02"
          ],
          [
           "Orianna",
           "15.03"
          ],
          [
           "Orianna",
           "15.04"
          ],
          [
           "Orianna",
           "15.05"
          ],
          [
           "Orianna",
           "15.06"
          ],
          [
           "Orianna",
           "15.07"
          ]
         ],
         "hovertemplate": "Champion=%{customdata[0]}<br>t-SNE Component 1=%{x}<br>t-SNE Component 2=%{y}<br>Patch=%{customdata[1]}<extra></extra>",
         "legendgroup": "Orianna",
         "marker": {
          "color": "#FFA15A",
          "size": 8,
          "symbol": "circle"
         },
         "mode": "markers",
         "name": "Orianna",
         "showlegend": true,
         "type": "scattergl",
         "x": {
          "bdata": "MlIjQtJDHEKQ2uJBHNOkwSE0jsGaq6rByT64wedcg8Ea9pJB8yiTQXugpcFDWYrBgkZ0QSON0cHoTY/BAjAWwCLyA8BTfse+2nSswD8P8L8=",
          "dtype": "f4"
         },
         "xaxis": "x",
         "y": {
          "bdata": "fa1NwZzeK8GCpRHCqZLvwesJzUC586HB3h/iwcMUuMFLJMvB0CCJQUbWpcE2jrTBMBC1QMsa1sFY7R1B00CqPyvxqr5A7zpBp7F1Qe96xsA=",
          "dtype": "f4"
         },
         "yaxis": "y"
        },
        {
         "customdata": [
          [
           "Wukong",
           "14.12"
          ],
          [
           "Wukong",
           "14.13"
          ],
          [
           "Wukong",
           "14.14"
          ],
          [
           "Wukong",
           "14.15"
          ],
          [
           "Wukong",
           "14.16"
          ],
          [
           "Wukong",
           "14.17"
          ],
          [
           "Wukong",
           "14.18"
          ],
          [
           "Wukong",
           "14.19"
          ],
          [
           "Wukong",
           "14.20"
          ],
          [
           "Wukong",
           "14.21"
          ],
          [
           "Wukong",
           "14.22"
          ],
          [
           "Wukong",
           "14.23"
          ],
          [
           "Wukong",
           "14.24"
          ],
          [
           "Wukong",
           "15.01"
          ],
          [
           "Wukong",
           "15.02"
          ],
          [
           "Wukong",
           "15.03"
          ],
          [
           "Wukong",
           "15.04"
          ],
          [
           "Wukong",
           "15.05"
          ],
          [
           "Wukong",
           "15.06"
          ],
          [
           "Wukong",
           "15.07"
          ]
         ],
         "hovertemplate": "Champion=%{customdata[0]}<br>t-SNE Component 1=%{x}<br>t-SNE Component 2=%{y}<br>Patch=%{customdata[1]}<extra></extra>",
         "legendgroup": "Wukong",
         "marker": {
          "color": "#19d3f3",
          "size": 8,
          "symbol": "circle"
         },
         "mode": "markers",
         "name": "Wukong",
         "showlegend": true,
         "type": "scattergl",
         "x": {
          "bdata": "0ochQgPiKkI9TNVBytTnQfzzhEGEBOTBNl7nQdK1/kHe6RHCGODCwb2KuD/NxLjBhIKmPzWoAUB1ST1BaEzlQKrRp0HKo9LBY0TIQWs0HME=",
          "dtype": "f4"
         },
         "xaxis": "x",
         "y": {
          "bdata": "efCYweKVlMH06C7Cz4bNweGlm8GvoypBjCbJwaYPGcIfI8rB70vwQcM7HUKn9SFBMd8hQgAuPkKStCpCPsfGwIFPjEH+rL9BJnchQq6UiEE=",
          "dtype": "f4"
         },
         "yaxis": "y"
        },
        {
         "customdata": [
          [
           "Brand",
           "14.12"
          ],
          [
           "Brand",
           "14.13"
          ],
          [
           "Brand",
           "14.14"
          ],
          [
           "Brand",
           "14.15"
          ],
          [
           "Brand",
           "14.16"
          ],
          [
           "Brand",
           "14.17"
          ],
          [
           "Brand",
           "14.18"
          ],
          [
           "Brand",
           "14.19"
          ],
          [
           "Brand",
           "14.20"
          ],
          [
           "Brand",
           "14.21"
          ],
          [
           "Brand",
           "14.22"
          ],
          [
           "Brand",
           "14.23"
          ],
          [
           "Brand",
           "14.24"
          ],
          [
           "Brand",
           "15.01"
          ],
          [
           "Brand",
           "15.02"
          ],
          [
           "Brand",
           "15.03"
          ],
          [
           "Brand",
           "15.04"
          ],
          [
           "Brand",
           "15.05"
          ],
          [
           "Brand",
           "15.06"
          ],
          [
           "Brand",
           "15.07"
          ]
         ],
         "hovertemplate": "Champion=%{customdata[0]}<br>t-SNE Component 1=%{x}<br>t-SNE Component 2=%{y}<br>Patch=%{customdata[1]}<extra></extra>",
         "legendgroup": "Brand",
         "marker": {
          "color": "#FF6692",
          "size": 8,
          "symbol": "circle"
         },
         "mode": "markers",
         "name": "Brand",
         "showlegend": true,
         "type": "scattergl",
         "x": {
          "bdata": "ik1PQXObsj8kt5BADYZaQEU3mb0fTvdAdq7KQK7o8MF+iPLBXv7+wE3ML8Cjqa/BnI7uvoKbusGu8uxABqUYQQ7alUFA4P1B8EYAQirpE8I=",
          "dtype": "f4"
         },
         "xaxis": "x",
         "y": {
          "bdata": "Sw4wQpnbSUJaeTlCLjxDQl8SLUL8+vTBloqgQY2X0kGUdtFBaYonQZuPLsJ+Eh/C7tZJwu2RoT/q+DXC13tGwm5KIcIb3hjC/L8gwpStxME=",
          "dtype": "f4"
         },
         "yaxis": "y"
        },
        {
         "customdata": [
          [
           "Lee Sin",
           "14.12"
          ],
          [
           "Lee Sin",
           "14.13"
          ],
          [
           "Lee Sin",
           "14.14"
          ],
          [
           "Lee Sin",
           "14.15"
          ],
          [
           "Lee Sin",
           "14.16"
          ],
          [
           "Lee Sin",
           "14.17"
          ],
          [
           "Lee Sin",
           "14.18"
          ],
          [
           "Lee Sin",
           "14.19"
          ],
          [
           "Lee Sin",
           "14.20"
          ],
          [
           "Lee Sin",
           "14.21"
          ],
          [
           "Lee Sin",
           "14.22"
          ],
          [
           "Lee Sin",
           "14.23"
          ],
          [
           "Lee Sin",
           "14.24"
          ],
          [
           "Lee Sin",
           "15.01"
          ],
          [
           "Lee Sin",
           "15.02"
          ],
          [
           "Lee Sin",
           "15.03"
          ],
          [
           "Lee Sin",
           "15.04"
          ],
          [
           "Lee Sin",
           "15.05"
          ],
          [
           "Lee Sin",
           "15.06"
          ],
          [
           "Lee Sin",
           "15.07"
          ]
         ],
         "hovertemplate": "Champion=%{customdata[0]}<br>t-SNE Component 1=%{x}<br>t-SNE Component 2=%{y}<br>Patch=%{customdata[1]}<extra></extra>",
         "legendgroup": "Lee Sin",
         "marker": {
          "color": "#B6E880",
          "size": 8,
          "symbol": "circle"
         },
         "mode": "markers",
         "name": "Lee Sin",
         "showlegend": true,
         "type": "scattergl",
         "x": {
          "bdata": "uVxfP4IsrEF3WfNBw/ctwUEP80E8oHlBDBSdQPEVIEJMvBlCrOTkwYrjnEFWQvvBXNUqQXRo2cFckLLBYUceQm83n8Fg1gfBQDfNQSXQXEE=",
          "dtype": "f4"
         },
         "xaxis": "x",
         "y": {
          "bdata": "ZWiXQLL+DULV99w/npIMwqkj5D8SLxfBA6nlQbkRrMFqM7DADrv4QP+YAkGP3KJBaePcQTb5H0I9pSdBD/EZwOSdhz89i+5Bpy+OQYVZRUE=",
          "dtype": "f4"
         },
         "yaxis": "y"
        },
        {
         "customdata": [
          [
           "Vayne",
           "14.12"
          ],
          [
           "Vayne",
           "14.13"
          ],
          [
           "Vayne",
           "14.14"
          ],
          [
           "Vayne",
           "14.15"
          ],
          [
           "Vayne",
           "14.16"
          ],
          [
           "Vayne",
           "14.17"
          ],
          [
           "Vayne",
           "14.18"
          ],
          [
           "Vayne",
           "14.19"
          ],
          [
           "Vayne",
           "14.20"
          ],
          [
           "Vayne",
           "14.21"
          ],
          [
           "Vayne",
           "14.22"
          ],
          [
           "Vayne",
           "14.23"
          ],
          [
           "Vayne",
           "14.24"
          ],
          [
           "Vayne",
           "15.01"
          ],
          [
           "Vayne",
           "15.02"
          ],
          [
           "Vayne",
           "15.03"
          ],
          [
           "Vayne",
           "15.04"
          ],
          [
           "Vayne",
           "15.05"
          ],
          [
           "Vayne",
           "15.06"
          ],
          [
           "Vayne",
           "15.07"
          ]
         ],
         "hovertemplate": "Champion=%{customdata[0]}<br>t-SNE Component 1=%{x}<br>t-SNE Component 2=%{y}<br>Patch=%{customdata[1]}<extra></extra>",
         "legendgroup": "Vayne",
         "marker": {
          "color": "#FF97FF",
          "size": 8,
          "symbol": "circle"
         },
         "mode": "markers",
         "name": "Vayne",
         "showlegend": true,
         "type": "scattergl",
         "x": {
          "bdata": "ZR4Gwsh7BsL9cArCaErZwck+WUK/sFxCnuBnQvhlVELHOwJCOzwBQu52VkK7LlZCgGTiQCbHKMLZyybCHiIjwgbxzEDsRAHColMUQoVs3cA=",
          "dtype": "f4"
         },
         "xaxis": "x",
         "y": {
          "bdata": "TaFYwe38YsGLbGbB19zOwHqTjsGFd5PBqWCbwSOPjkHgX+/BO53zwSsGh0Ewu4dBX54fQcDgAMF7UP3AAQYEwdhoN0G9JXTBLaVfP+OHWUE=",
          "dtype": "f4"
         },
         "yaxis": "y"
        },
        {
         "customdata": [
          [
           "Rumble",
           "14.12"
          ],
          [
           "Rumble",
           "14.13"
          ],
          [
           "Rumble",
           "14.14"
          ],
          [
           "Rumble",
           "14.15"
          ],
          [
           "Rumble",
           "14.16"
          ],
          [
           "Rumble",
           "14.17"
          ],
          [
           "Rumble",
           "14.18"
          ],
          [
           "Rumble",
           "14.19"
          ],
          [
           "Rumble",
           "14.20"
          ],
          [
           "Rumble",
           "14.21"
          ],
          [
           "Rumble",
           "14.22"
          ],
          [
           "Rumble",
           "14.23"
          ],
          [
           "Rumble",
           "14.24"
          ],
          [
           "Rumble",
           "15.01"
          ],
          [
           "Rumble",
           "15.02"
          ],
          [
           "Rumble",
           "15.03"
          ],
          [
           "Rumble",
           "15.04"
          ],
          [
           "Rumble",
           "15.05"
          ],
          [
           "Rumble",
           "15.06"
          ],
          [
           "Rumble",
           "15.07"
          ]
         ],
         "hovertemplate": "Champion=%{customdata[0]}<br>t-SNE Component 1=%{x}<br>t-SNE Component 2=%{y}<br>Patch=%{customdata[1]}<extra></extra>",
         "legendgroup": "Rumble",
         "marker": {
          "color": "#FECB52",
          "size": 8,
          "symbol": "circle"
         },
         "mode": "markers",
         "name": "Rumble",
         "showlegend": true,
         "type": "scattergl",
         "x": {
          "bdata": "Ia02wmFSHsFYPEjCPRVIwj4nsUB7i/fBBPc2QhMwzcDkglDCNtnwwGcEQUJQ/j+/F1nRvpJ1OsIUVBHBKrlQwmyeH8KsUwRCDyfmwVhYFUE=",
          "dtype": "f4"
         },
         "xaxis": "x",
         "y": {
          "bdata": "jQtzwYmGFkK3t1W/2FliwHDxQMIKDRxA+FKLv/3/lkGNUFw/FXoqQkx8qkAHlFQ/OGYqQhpKk8ExmTJC0hoBPuj1dUET1xfCHCcuQcgYokA=",
          "dtype": "f4"
         },
         "yaxis": "y"
        },
        {
         "customdata": [
          [
           "Cassiopeia",
           "14.12"
          ],
          [
           "Cassiopeia",
           "14.13"
          ],
          [
           "Cassiopeia",
           "14.14"
          ],
          [
           "Cassiopeia",
           "14.15"
          ],
          [
           "Cassiopeia",
           "14.16"
          ],
          [
           "Cassiopeia",
           "14.17"
          ],
          [
           "Cassiopeia",
           "14.18"
          ],
          [
           "Cassiopeia",
           "14.19"
          ],
          [
           "Cassiopeia",
           "14.20"
          ],
          [
           "Cassiopeia",
           "14.21"
          ],
          [
           "Cassiopeia",
           "14.22"
          ],
          [
           "Cassiopeia",
           "14.23"
          ],
          [
           "Cassiopeia",
           "14.24"
          ],
          [
           "Cassiopeia",
           "15.01"
          ],
          [
           "Cassiopeia",
           "15.02"
          ],
          [
           "Cassiopeia",
           "15.03"
          ],
          [
           "Cassiopeia",
           "15.04"
          ],
          [
           "Cassiopeia",
           "15.05"
          ],
          [
           "Cassiopeia",
           "15.06"
          ],
          [
           "Cassiopeia",
           "15.07"
          ]
         ],
         "hovertemplate": "Champion=%{customdata[0]}<br>t-SNE Component 1=%{x}<br>t-SNE Component 2=%{y}<br>Patch=%{customdata[1]}<extra></extra>",
         "legendgroup": "Cassiopeia",
         "marker": {
          "color": "#636efa",
          "size": 8,
          "symbol": "circle"
         },
         "mode": "markers",
         "name": "Cassiopeia",
         "showlegend": true,
         "type": "scattergl",
         "x": {
          "bdata": "dbcxwoRT6cEnEV3BJBBtQjRCBEIg4ZDBDmQRQncyKkExJpXB/zETwsaiJ8LOaFfAhyeeQU6wOcKblZVBniqBQbpwib6GSLjBldjcwcUJuUE=",
          "dtype": "f4"
         },
         "xaxis": "x",
         "y": {
          "bdata": "D6xywEJX1MEFSYNBKd6TwTbYPsF3pbbB52JKwYkYFcGopmhBj2B8QR027kFCem1B+1atQcxApcGAB9zBn2UjwkZH4cA+4svBt/uXwZInjj4=",
          "dtype": "f4"
         },
         "yaxis": "y"
        },
        {
         "customdata": [
          [
           "LeBlanc",
           "14.12"
          ],
          [
           "LeBlanc",
           "14.13"
          ],
          [
           "LeBlanc",
           "14.14"
          ],
          [
           "LeBlanc",
           "14.15"
          ],
          [
           "LeBlanc",
           "14.16"
          ],
          [
           "LeBlanc",
           "14.17"
          ],
          [
           "LeBlanc",
           "14.18"
          ],
          [
           "LeBlanc",
           "14.19"
          ],
          [
           "LeBlanc",
           "14.20"
          ],
          [
           "LeBlanc",
           "14.21"
          ],
          [
           "LeBlanc",
           "14.22"
          ],
          [
           "LeBlanc",
           "14.23"
          ],
          [
           "LeBlanc",
           "14.24"
          ],
          [
           "LeBlanc",
           "15.01"
          ],
          [
           "LeBlanc",
           "15.02"
          ],
          [
           "LeBlanc",
           "15.03"
          ],
          [
           "LeBlanc",
           "15.04"
          ],
          [
           "LeBlanc",
           "15.05"
          ],
          [
           "LeBlanc",
           "15.06"
          ],
          [
           "LeBlanc",
           "15.07"
          ]
         ],
         "hovertemplate": "Champion=%{customdata[0]}<br>t-SNE Component 1=%{x}<br>t-SNE Component 2=%{y}<br>Patch=%{customdata[1]}<extra></extra>",
         "legendgroup": "LeBlanc",
         "marker": {
          "color": "#EF553B",
          "size": 8,
          "symbol": "circle"
         },
         "mode": "markers",
         "name": "LeBlanc",
         "showlegend": true,
         "type": "scattergl",
         "x": {
          "bdata": "pESsPv7/HMA3NkpBgVTwwV/6F8I4QiQ/qKLswc0FLsJefDBBw2+iP2/t2796h5w/7uonQo64IkKeKDVCWlH0QTF1y0EESkpBE/JUQnJslkE=",
          "dtype": "f4"
         },
         "xaxis": "x",
         "y": {
          "bdata": "Cx/pwemJ3sFMFPRAqlJYQc02wkFmLO7BZlFmQY8qg8DaztDA8sXtwdBKDcJZz8/AeF/XwExSNMH/nnvBAsmiQJYPfUDy1L/An2YWwOfvwcA=",
          "dtype": "f4"
         },
         "yaxis": "y"
        },
        {
         "customdata": [
          [
           "Vex",
           "14.12"
          ],
          [
           "Vex",
           "14.13"
          ],
          [
           "Vex",
           "14.14"
          ],
          [
           "Vex",
           "14.15"
          ],
          [
           "Vex",
           "14.16"
          ],
          [
           "Vex",
           "14.17"
          ],
          [
           "Vex",
           "14.18"
          ],
          [
           "Vex",
           "14.19"
          ],
          [
           "Vex",
           "14.20"
          ],
          [
           "Vex",
           "14.21"
          ],
          [
           "Vex",
           "14.22"
          ],
          [
           "Vex",
           "14.23"
          ],
          [
           "Vex",
           "14.24"
          ],
          [
           "Vex",
           "15.01"
          ],
          [
           "Vex",
           "15.02"
          ],
          [
           "Vex",
           "15.03"
          ],
          [
           "Vex",
           "15.04"
          ],
          [
           "Vex",
           "15.05"
          ],
          [
           "Vex",
           "15.06"
          ],
          [
           "Vex",
           "15.07"
          ]
         ],
         "hovertemplate": "Champion=%{customdata[0]}<br>t-SNE Component 1=%{x}<br>t-SNE Component 2=%{y}<br>Patch=%{customdata[1]}<extra></extra>",
         "legendgroup": "Vex",
         "marker": {
          "color": "#00cc96",
          "size": 8,
          "symbol": "circle"
         },
         "mode": "markers",
         "name": "Vex",
         "showlegend": true,
         "type": "scattergl",
         "x": {
          "bdata": "nDozwkVhtkCr1AZC0VQXQp9eBECExJVBp3kuwt4EL8LIlQXC/TYoQMtyC0CQoFvBrWzUQe4Au78hhrpB6wjAQZ3WgsHd9lbBOs0qwcw1tUA=",
          "dtype": "f4"
         },
         "xaxis": "x",
         "y": {
          "bdata": "YLftPxH3h8GHu+zAgdzmwK6fcb4L/MnBToDhP/MvVMFagNXA1dgGwHfDnD81+jbCLc0CwQptJcIIfhJCi7kbQi/FikCJK+XA3MO5wMi+dr4=",
          "dtype": "f4"
         },
         "yaxis": "y"
        },
        {
         "customdata": [
          [
           "Skarner",
           "14.12"
          ],
          [
           "Skarner",
           "14.13"
          ],
          [
           "Skarner",
           "14.14"
          ],
          [
           "Skarner",
           "14.15"
          ],
          [
           "Skarner",
           "14.16"
          ],
          [
           "Skarner",
           "14.17"
          ],
          [
           "Skarner",
           "14.18"
          ],
          [
           "Skarner",
           "14.19"
          ],
          [
           "Skarner",
           "14.20"
          ],
          [
           "Skarner",
           "14.21"
          ],
          [
           "Skarner",
           "14.22"
          ],
          [
           "Skarner",
           "14.23"
          ],
          [
           "Skarner",
           "14.24"
          ],
          [
           "Skarner",
           "15.01"
          ],
          [
           "Skarner",
           "15.02"
          ],
          [
           "Skarner",
           "15.03"
          ],
          [
           "Skarner",
           "15.04"
          ],
          [
           "Skarner",
           "15.05"
          ],
          [
           "Skarner",
           "15.06"
          ],
          [
           "Skarner",
           "15.07"
          ]
         ],
         "hovertemplate": "Champion=%{customdata[0]}<br>t-SNE Component 1=%{x}<br>t-SNE Component 2=%{y}<br>Patch=%{customdata[1]}<extra></extra>",
         "legendgroup": "Skarner",
         "marker": {
          "color": "#ab63fa",
          "size": 8,
          "symbol": "circle"
         },
         "mode": "markers",
         "name": "Skarner",
         "showlegend": true,
         "type": "scattergl",
         "x": {
          "bdata": "/DDkQXLP5EGsyvJBTIEhQuki8kEsrgLCmcdOwc7s2b/D7dDBoKxhwS0DKcIHCdDAvk1JQDi88MHIc1XBjBn6Qe/S6EHpeJxBP/mcQZra0sA=",
          "dtype": "f4"
         },
         "xaxis": "x",
         "y": {
          "bdata": "DO7YwZgaI8KHtDjCNN47QRDeHEKoqPVBFwxNQR7qG0Ij5VRBaiI3QgHNBUIU5D1CJ80rQgtZA0IkNVRBrTGFwbIrnsFQjj/CdGA/wnzv6EA=",
          "dtype": "f4"
         },
         "yaxis": "y"
        },
        {
         "customdata": [
          [
           "Heimerdinger",
           "14.12"
          ],
          [
           "Heimerdinger",
           "14.13"
          ],
          [
           "Heimerdinger",
           "14.14"
          ],
          [
           "Heimerdinger",
           "14.15"
          ],
          [
           "Heimerdinger",
           "14.16"
          ],
          [
           "Heimerdinger",
           "14.17"
          ],
          [
           "Heimerdinger",
           "14.18"
          ],
          [
           "Heimerdinger",
           "14.19"
          ],
          [
           "Heimerdinger",
           "14.20"
          ],
          [
           "Heimerdinger",
           "14.21"
          ],
          [
           "Heimerdinger",
           "14.22"
          ],
          [
           "Heimerdinger",
           "14.23"
          ],
          [
           "Heimerdinger",
           "14.24"
          ],
          [
           "Heimerdinger",
           "15.01"
          ],
          [
           "Heimerdinger",
           "15.02"
          ],
          [
           "Heimerdinger",
           "15.03"
          ],
          [
           "Heimerdinger",
           "15.04"
          ],
          [
           "Heimerdinger",
           "15.05"
          ],
          [
           "Heimerdinger",
           "15.06"
          ],
          [
           "Heimerdinger",
           "15.07"
          ]
         ],
         "hovertemplate": "Champion=%{customdata[0]}<br>t-SNE Component 1=%{x}<br>t-SNE Component 2=%{y}<br>Patch=%{customdata[1]}<extra></extra>",
         "legendgroup": "Heimerdinger",
         "marker": {
          "color": "#FFA15A",
          "size": 8,
          "symbol": "circle"
         },
         "mode": "markers",
         "name": "Heimerdinger",
         "showlegend": true,
         "type": "scattergl",
         "x": {
          "bdata": "lMQNQdd8TUL+nwhCYKtYwv4qj0Cc21BAORZXwgDC6cE/9ctBQR2rwebQ/UEd6MJBqaxdwhmx/cFmQ0XCPQZQQjG4oUGpalrC+rQ5QZ1+LUE=",
          "dtype": "f4"
         },
         "xaxis": "x",
         "y": {
          "bdata": "UPW/wWH4i8GYzprA4JqUwEhwHMK5cijCxiyAwNyCQkEq+RxCVIY3wiPa78DX6i3CJmy6wO0KE0EjgzZBY4DFwQLrbcHffKTAYQ4Iwp1zCMI=",
          "dtype": "f4"
         },
         "yaxis": "y"
        },
        {
         "customdata": [
          [
           "Nasus",
           "14.12"
          ],
          [
           "Nasus",
           "14.13"
          ],
          [
           "Nasus",
           "14.14"
          ],
          [
           "Nasus",
           "14.15"
          ],
          [
           "Nasus",
           "14.16"
          ],
          [
           "Nasus",
           "14.17"
          ],
          [
           "Nasus",
           "14.18"
          ],
          [
           "Nasus",
           "14.19"
          ],
          [
           "Nasus",
           "14.20"
          ],
          [
           "Nasus",
           "14.21"
          ],
          [
           "Nasus",
           "14.22"
          ],
          [
           "Nasus",
           "14.23"
          ],
          [
           "Nasus",
           "14.24"
          ],
          [
           "Nasus",
           "15.01"
          ],
          [
           "Nasus",
           "15.02"
          ],
          [
           "Nasus",
           "15.03"
          ],
          [
           "Nasus",
           "15.04"
          ],
          [
           "Nasus",
           "15.05"
          ],
          [
           "Nasus",
           "15.06"
          ],
          [
           "Nasus",
           "15.07"
          ]
         ],
         "hovertemplate": "Champion=%{customdata[0]}<br>t-SNE Component 1=%{x}<br>t-SNE Component 2=%{y}<br>Patch=%{customdata[1]}<extra></extra>",
         "legendgroup": "Nasus",
         "marker": {
          "color": "#19d3f3",
          "size": 8,
          "symbol": "circle"
         },
         "mode": "markers",
         "name": "Nasus",
         "showlegend": true,
         "type": "scattergl",
         "x": {
          "bdata": "dWSvv3y/+MFkK0vCRQUFwl1ww8EEKypCstbJQRNYOcLQOT3Cq6cYQYMnK0JPwrtBnHy9QfnWKkKYAyBCQSKHQOjcrEAnigJBEPH+QPhxh0A=",
          "dtype": "f4"
         },
         "xaxis": "x",
         "y": {
          "bdata": "BiiGwX4CrUHCX9NAHS0TwWCpR0GVU7vBlNHdwA1aCsGTNXXBqbQzwtm1nMF3WSHCUnK5wU2/nMEffxTC6nlIQshQSUI+HkVCWF5EQhjuCMA=",
          "dtype": "f4"
         },
         "yaxis": "y"
        },
        {
         "customdata": [
          [
           "Nidalee",
           "14.12"
          ],
          [
           "Nidalee",
           "14.13"
          ],
          [
           "Nidalee",
           "14.14"
          ],
          [
           "Nidalee",
           "14.15"
          ],
          [
           "Nidalee",
           "14.16"
          ],
          [
           "Nidalee",
           "14.17"
          ],
          [
           "Nidalee",
           "14.18"
          ],
          [
           "Nidalee",
           "14.19"
          ],
          [
           "Nidalee",
           "14.20"
          ],
          [
           "Nidalee",
           "14.21"
          ],
          [
           "Nidalee",
           "14.22"
          ],
          [
           "Nidalee",
           "14.23"
          ],
          [
           "Nidalee",
           "14.24"
          ],
          [
           "Nidalee",
           "15.01"
          ],
          [
           "Nidalee",
           "15.02"
          ],
          [
           "Nidalee",
           "15.03"
          ],
          [
           "Nidalee",
           "15.04"
          ],
          [
           "Nidalee",
           "15.05"
          ],
          [
           "Nidalee",
           "15.06"
          ],
          [
           "Nidalee",
           "15.07"
          ]
         ],
         "hovertemplate": "Champion=%{customdata[0]}<br>t-SNE Component 1=%{x}<br>t-SNE Component 2=%{y}<br>Patch=%{customdata[1]}<extra></extra>",
         "legendgroup": "Nidalee",
         "marker": {
          "color": "#FF6692",
          "size": 8,
          "symbol": "circle"
         },
         "mode": "markers",
         "name": "Nidalee",
         "showlegend": true,
         "type": "scattergl",
         "x": {
          "bdata": "GKTCvRs0IL80zcNB2iKKQd+V+UGOGPHBfvarQXXB5sEiQQbCIGXnwTo01MEsjNvBsc7awFSsv8EajAHCG0QnwijFKcLdDyzCJ2YDQYwy28E=",
          "dtype": "f4"
         },
         "xaxis": "x",
         "y": {
          "bdata": "3Jg9QhUuPkLY6MDAd5aDQb1vhEEu+XLB1Tt1QT8mDEGylABBKLXQwcBkx8Ffg8rBfksWQgaJscHFIdTB6YdGwKCUlsG3On7BZ20/wv+GucE=",
          "dtype": "f4"
         },
         "yaxis": "y"
        },
        {
         "customdata": [
          [
           "Udyr",
           "14.12"
          ],
          [
           "Udyr",
           "14.13"
          ],
          [
           "Udyr",
           "14.14"
          ],
          [
           "Udyr",
           "14.15"
          ],
          [
           "Udyr",
           "14.16"
          ],
          [
           "Udyr",
           "14.17"
          ],
          [
           "Udyr",
           "14.18"
          ],
          [
           "Udyr",
           "14.19"
          ],
          [
           "Udyr",
           "14.20"
          ],
          [
           "Udyr",
           "14.21"
          ],
          [
           "Udyr",
           "14.22"
          ],
          [
           "Udyr",
           "14.23"
          ],
          [
           "Udyr",
           "14.24"
          ],
          [
           "Udyr",
           "15.01"
          ],
          [
           "Udyr",
           "15.02"
          ],
          [
           "Udyr",
           "15.03"
          ],
          [
           "Udyr",
           "15.04"
          ],
          [
           "Udyr",
           "15.05"
          ],
          [
           "Udyr",
           "15.06"
          ],
          [
           "Udyr",
           "15.07"
          ]
         ],
         "hovertemplate": "Champion=%{customdata[0]}<br>t-SNE Component 1=%{x}<br>t-SNE Component 2=%{y}<br>Patch=%{customdata[1]}<extra></extra>",
         "legendgroup": "Udyr",
         "marker": {
          "color": "#B6E880",
          "size": 8,
          "symbol": "circle"
         },
         "mode": "markers",
         "name": "Udyr",
         "showlegend": true,
         "type": "scattergl",
         "x": {
          "bdata": "927bQSs918HKE6VBVNjzQWhHR8BrdeZAgOP8v4z+BcKIAxnC6t4bwsAsEEIGosBBp+QIwb1q2UB7MV9CgKUwQiKR68E9dbRBtLUxQs4dIME=",
          "dtype": "f4"
         },
         "xaxis": "x",
         "y": {
          "bdata": "INoKQbpuJkJUbQ1C7kEOQmcWLkIjz9NBtk03QmouC0KA6+ZB7PvjQbG/CsJLRgfCA6W6QciuCUIMJIhAxkdvwI+ODkKJa7S/Py6RwGxikUA=",
          "dtype": "f4"
         },
         "yaxis": "y"
        },
        {
         "customdata": [
          [
           "Yone",
           "14.12"
          ],
          [
           "Yone",
           "14.13"
          ],
          [
           "Yone",
           "14.14"
          ],
          [
           "Yone",
           "14.15"
          ],
          [
           "Yone",
           "14.16"
          ],
          [
           "Yone",
           "14.17"
          ],
          [
           "Yone",
           "14.18"
          ],
          [
           "Yone",
           "14.19"
          ],
          [
           "Yone",
           "14.20"
          ],
          [
           "Yone",
           "14.21"
          ],
          [
           "Yone",
           "14.22"
          ],
          [
           "Yone",
           "14.23"
          ],
          [
           "Yone",
           "14.24"
          ],
          [
           "Yone",
           "15.01"
          ],
          [
           "Yone",
           "15.02"
          ],
          [
           "Yone",
           "15.03"
          ],
          [
           "Yone",
           "15.04"
          ],
          [
           "Yone",
           "15.05"
          ],
          [
           "Yone",
           "15.06"
          ],
          [
           "Yone",
           "15.07"
          ]
         ],
         "hovertemplate": "Champion=%{customdata[0]}<br>t-SNE Component 1=%{x}<br>t-SNE Component 2=%{y}<br>Patch=%{customdata[1]}<extra></extra>",
         "legendgroup": "Yone",
         "marker": {
          "color": "#FF97FF",
          "size": 8,
          "symbol": "circle"
         },
         "mode": "markers",
         "name": "Yone",
         "showlegend": true,
         "type": "scattergl",
         "x": {
          "bdata": "NWQoQdmGNcJmVPjByWA1whMS4MH6YLTBEcSywQfDDUFMSYxBGxsGQtZaH0L2WrBBzmXawQpdrUGc75PBz/GwQTF7BkGFe6FBDPS0QIqbOEE=",
          "dtype": "f4"
         },
         "xaxis": "x",
         "y": {
          "bdata": "4BIEQavPLMH+kp7BqtghwXXnk8HE77pAEDVRQIPVgsEXkDfBYR+XQB20+EDQlhnBpBQpwm6IH0EUmsvA2iEjwfQzdkHZKyjBlzV+QROqib8=",
          "dtype": "f4"
         },
         "yaxis": "y"
        },
        {
         "customdata": [
          [
           "Poppy",
           "14.12"
          ],
          [
           "Poppy",
           "14.13"
          ],
          [
           "Poppy",
           "14.14"
          ],
          [
           "Poppy",
           "14.15"
          ],
          [
           "Poppy",
           "14.16"
          ],
          [
           "Poppy",
           "14.17"
          ],
          [
           "Poppy",
           "14.18"
          ],
          [
           "Poppy",
           "14.19"
          ],
          [
           "Poppy",
           "14.20"
          ],
          [
           "Poppy",
           "14.21"
          ],
          [
           "Poppy",
           "14.22"
          ],
          [
           "Poppy",
           "14.23"
          ],
          [
           "Poppy",
           "14.24"
          ],
          [
           "Poppy",
           "15.01"
          ],
          [
           "Poppy",
           "15.02"
          ],
          [
           "Poppy",
           "15.03"
          ],
          [
           "Poppy",
           "15.04"
          ],
          [
           "Poppy",
           "15.05"
          ],
          [
           "Poppy",
           "15.06"
          ],
          [
           "Poppy",
           "15.07"
          ]
         ],
         "hovertemplate": "Champion=%{customdata[0]}<br>t-SNE Component 1=%{x}<br>t-SNE Component 2=%{y}<br>Patch=%{customdata[1]}<extra></extra>",
         "legendgroup": "Poppy",
         "marker": {
          "color": "#FECB52",
          "size": 8,
          "symbol": "circle"
         },
         "mode": "markers",
         "name": "Poppy",
         "showlegend": true,
         "type": "scattergl",
         "x": {
          "bdata": "5TwCQVSOOUJFk0dASdNbwXVrhMHc7E7B16GUwfINycEDNAzCEvYlwQfAF8EkQ0/BRKBXQF+xAcIzZqs+oTrgQManf0HhrutAWBc5P1j5HsE=",
          "dtype": "f4"
         },
         "xaxis": "x",
         "y": {
          "bdata": "P2pewQkrfcGYpbPApVAewvYt0cFm/wzCkgMNwinIC8EZj2fAOkmvwUJQlsGKj2/BEOmOwRBGNsEswJTB6FyFwZlU7cH1xzBCHzsmQnKjicE=",
          "dtype": "f4"
         },
         "yaxis": "y"
        },
        {
         "customdata": [
          [
           "Gragas",
           "14.12"
          ],
          [
           "Gragas",
           "14.13"
          ],
          [
           "Gragas",
           "14.14"
          ],
          [
           "Gragas",
           "14.15"
          ],
          [
           "Gragas",
           "14.16"
          ],
          [
           "Gragas",
           "14.17"
          ],
          [
           "Gragas",
           "14.18"
          ],
          [
           "Gragas",
           "14.19"
          ],
          [
           "Gragas",
           "14.20"
          ],
          [
           "Gragas",
           "14.21"
          ],
          [
           "Gragas",
           "14.22"
          ],
          [
           "Gragas",
           "14.23"
          ],
          [
           "Gragas",
           "14.24"
          ],
          [
           "Gragas",
           "15.01"
          ],
          [
           "Gragas",
           "15.02"
          ],
          [
           "Gragas",
           "15.03"
          ],
          [
           "Gragas",
           "15.04"
          ],
          [
           "Gragas",
           "15.05"
          ],
          [
           "Gragas",
           "15.06"
          ],
          [
           "Gragas",
           "15.07"
          ]
         ],
         "hovertemplate": "Champion=%{customdata[0]}<br>t-SNE Component 1=%{x}<br>t-SNE Component 2=%{y}<br>Patch=%{customdata[1]}<extra></extra>",
         "legendgroup": "Gragas",
         "marker": {
          "color": "#636efa",
          "size": 8,
          "symbol": "circle"
         },
         "mode": "markers",
         "name": "Gragas",
         "showlegend": true,
         "type": "scattergl",
         "x": {
          "bdata": "zozfwS0y4UFqM0ZCgGsVwlHehz5+ERXCZ6SqQHtrIsGHwxXC+OYtwtR8TUEc7ijBWn2DwSEhqcHESJNBbW9IvnYrPMK7aeBBQqgkQOoAU0E=",
          "dtype": "f4"
         },
         "xaxis": "x",
         "y": {
          "bdata": "MaYZP9n/iUE6wHhA4RO1QShQjcANlhdChc8UQlG5oUE9fbxBHBFbwa43t8C2bwVCFiJXPyvWOEI1un/BFqIiwhpUOEHiWcnAWo4VQiIodEA=",
          "dtype": "f4"
         },
         "yaxis": "y"
        },
        {
         "customdata": [
          [
           "Ambessa",
           "14.12"
          ],
          [
           "Ambessa",
           "14.13"
          ],
          [
           "Ambessa",
           "14.14"
          ],
          [
           "Ambessa",
           "14.15"
          ],
          [
           "Ambessa",
           "14.16"
          ],
          [
           "Ambessa",
           "14.17"
          ],
          [
           "Ambessa",
           "14.18"
          ],
          [
           "Ambessa",
           "14.19"
          ],
          [
           "Ambessa",
           "14.20"
          ],
          [
           "Ambessa",
           "14.21"
          ],
          [
           "Ambessa",
           "14.22"
          ],
          [
           "Ambessa",
           "14.23"
          ],
          [
           "Ambessa",
           "14.24"
          ],
          [
           "Ambessa",
           "15.01"
          ],
          [
           "Ambessa",
           "15.02"
          ],
          [
           "Ambessa",
           "15.03"
          ],
          [
           "Ambessa",
           "15.04"
          ],
          [
           "Ambessa",
           "15.05"
          ],
          [
           "Ambessa",
           "15.06"
          ],
          [
           "Ambessa",
           "15.07"
          ]
         ],
         "hovertemplate": "Champion=%{customdata[0]}<br>t-SNE Component 1=%{x}<br>t-SNE Component 2=%{y}<br>Patch=%{customdata[1]}<extra></extra>",
         "legendgroup": "Ambessa",
         "marker": {
          "color": "#EF553B",
          "size": 8,
          "symbol": "circle"
         },
         "mode": "markers",
         "name": "Ambessa",
         "showlegend": true,
         "type": "scattergl",
         "x": {
          "bdata": "hfCLQRt6e0HQzm5BBEiGQbjNgUF7+HlBZh2PQUAye0FNOYVBrwfQQa5MzUGQlkzCJNrQQYCPtcGjGk9BtOYHQSsjhkGF0oRBM5YYwgT50kE=",
          "dtype": "f4"
         },
         "xaxis": "x",
         "y": {
          "bdata": "6NFkQdVBNUEoWzVByjROQf6VQkHsMzNBdBhqQXrRRUGLqlBBZCQbwr8CHcLa17hB4wjDwV7DV8AyISZCo210QQY5I0LM4iZBQFQHwiGfsz8=",
          "dtype": "f4"
         },
         "yaxis": "y"
        },
        {
         "customdata": [
          [
           "Vladimir",
           "14.12"
          ],
          [
           "Vladimir",
           "14.13"
          ],
          [
           "Vladimir",
           "14.14"
          ],
          [
           "Vladimir",
           "14.15"
          ],
          [
           "Vladimir",
           "14.16"
          ],
          [
           "Vladimir",
           "14.17"
          ],
          [
           "Vladimir",
           "14.18"
          ],
          [
           "Vladimir",
           "14.19"
          ],
          [
           "Vladimir",
           "14.20"
          ],
          [
           "Vladimir",
           "14.21"
          ],
          [
           "Vladimir",
           "14.22"
          ],
          [
           "Vladimir",
           "14.23"
          ],
          [
           "Vladimir",
           "14.24"
          ],
          [
           "Vladimir",
           "15.01"
          ],
          [
           "Vladimir",
           "15.02"
          ],
          [
           "Vladimir",
           "15.03"
          ],
          [
           "Vladimir",
           "15.04"
          ],
          [
           "Vladimir",
           "15.05"
          ],
          [
           "Vladimir",
           "15.06"
          ],
          [
           "Vladimir",
           "15.07"
          ]
         ],
         "hovertemplate": "Champion=%{customdata[0]}<br>t-SNE Component 1=%{x}<br>t-SNE Component 2=%{y}<br>Patch=%{customdata[1]}<extra></extra>",
         "legendgroup": "Vladimir",
         "marker": {
          "color": "#00cc96",
          "size": 8,
          "symbol": "circle"
         },
         "mode": "markers",
         "name": "Vladimir",
         "showlegend": true,
         "type": "scattergl",
         "x": {
          "bdata": "lNmJwU0WEsLa/bNBRkjOwKa/NMC5/HlBNMq4QfBj8EEPCmBCGPQ8wl5xfcDGlik/nocyQiAI+sEVjD/AnmXhP0YKR0GVyD9BRiNQQU8js8A=",
          "dtype": "f4"
         },
         "xaxis": "x",
         "y": {
          "bdata": "+Yp2wCIu5cBrupXAPDCawYYHk8GD4Y/BtMSOwWljOMK9x7w/3hVRQcPQncHX+sTBH4OIwfjU5cDx/4PBVGuewWG+68BxsxdBJmStwKt/074=",
          "dtype": "f4"
         },
         "yaxis": "y"
        },
        {
         "customdata": [
          [
           "Pantheon",
           "14.12"
          ],
          [
           "Pantheon",
           "14.13"
          ],
          [
           "Pantheon",
           "14.14"
          ],
          [
           "Pantheon",
           "14.15"
          ],
          [
           "Pantheon",
           "14.16"
          ],
          [
           "Pantheon",
           "14.17"
          ],
          [
           "Pantheon",
           "14.18"
          ],
          [
           "Pantheon",
           "14.19"
          ],
          [
           "Pantheon",
           "14.20"
          ],
          [
           "Pantheon",
           "14.21"
          ],
          [
           "Pantheon",
           "14.22"
          ],
          [
           "Pantheon",
           "14.23"
          ],
          [
           "Pantheon",
           "14.24"
          ],
          [
           "Pantheon",
           "15.01"
          ],
          [
           "Pantheon",
           "15.02"
          ],
          [
           "Pantheon",
           "15.03"
          ],
          [
           "Pantheon",
           "15.04"
          ],
          [
           "Pantheon",
           "15.05"
          ],
          [
           "Pantheon",
           "15.06"
          ],
          [
           "Pantheon",
           "15.07"
          ]
         ],
         "hovertemplate": "Champion=%{customdata[0]}<br>t-SNE Component 1=%{x}<br>t-SNE Component 2=%{y}<br>Patch=%{customdata[1]}<extra></extra>",
         "legendgroup": "Pantheon",
         "marker": {
          "color": "#ab63fa",
          "size": 8,
          "symbol": "circle"
         },
         "mode": "markers",
         "name": "Pantheon",
         "showlegend": true,
         "type": "scattergl",
         "x": {
          "bdata": "K6H4QSMe+r53ryfBarVTwSLwOcHVWXBBEfOPQMNyu0HthwtC7+0xQgCVSsKVZ5hAaJrOwGsE6MHdPHnBbqzkQYRngEHS3XtAw97twE5QlUE=",
          "dtype": "f4"
         },
         "xaxis": "x",
         "y": {
          "bdata": "H7qiQabDt8FSvPdBhJc8wRO3279H2oLAL1oGQj25IMLUaVHB6Kp5QWmXFECNpQlClYj4QdJfIEJBak9C6a2CwEbeX8EBCZNB6/U+QKCSBME=",
          "dtype": "f4"
         },
         "yaxis": "y"
        },
        {
         "customdata": [
          [
           "Mel",
           "14.12"
          ],
          [
           "Mel",
           "14.13"
          ],
          [
           "Mel",
           "14.14"
          ],
          [
           "Mel",
           "14.15"
          ],
          [
           "Mel",
           "14.16"
          ],
          [
           "Mel",
           "14.17"
          ],
          [
           "Mel",
           "14.18"
          ],
          [
           "Mel",
           "14.19"
          ],
          [
           "Mel",
           "14.20"
          ],
          [
           "Mel",
           "14.21"
          ],
          [
           "Mel",
           "14.22"
          ],
          [
           "Mel",
           "14.23"
          ],
          [
           "Mel",
           "14.24"
          ],
          [
           "Mel",
           "15.01"
          ],
          [
           "Mel",
           "15.02"
          ],
          [
           "Mel",
           "15.03"
          ],
          [
           "Mel",
           "15.04"
          ],
          [
           "Mel",
           "15.05"
          ],
          [
           "Mel",
           "15.06"
          ],
          [
           "Mel",
           "15.07"
          ]
         ],
         "hovertemplate": "Champion=%{customdata[0]}<br>t-SNE Component 1=%{x}<br>t-SNE Component 2=%{y}<br>Patch=%{customdata[1]}<extra></extra>",
         "legendgroup": "Mel",
         "marker": {
          "color": "#FFA15A",
          "size": 8,
          "symbol": "circle"
         },
         "mode": "markers",
         "name": "Mel",
         "showlegend": true,
         "type": "scattergl",
         "x": {
          "bdata": "x6qmQDCkjUA3C6hBmlTAQAwXrkBg+I5A4C+wPzv6rEGeEZpATLiPwLW3skBlx5NAvOSoQZHMgMFHZQvCQlc8wbK3RkKglEJCI49aQvp0FUA=",
          "dtype": "f4"
         },
         "xaxis": "x",
         "y": {
          "bdata": "A10MQM2F0j14dGlAtUAyv9iORL+aotK/I04sQEaYXsDNsgLACyqSwDu7A8Cp6A4/BSxvQOPZsMBE0JfAqao6whVQS7+20GnB2jJXPqOwQEA=",
          "dtype": "f4"
         },
         "yaxis": "y"
        },
        {
         "customdata": [
          [
           "Ezreal",
           "14.12"
          ],
          [
           "Ezreal",
           "14.13"
          ],
          [
           "Ezreal",
           "14.14"
          ],
          [
           "Ezreal",
           "14.15"
          ],
          [
           "Ezreal",
           "14.16"
          ],
          [
           "Ezreal",
           "14.17"
          ],
          [
           "Ezreal",
           "14.18"
          ],
          [
           "Ezreal",
           "14.19"
          ],
          [
           "Ezreal",
           "14.20"
          ],
          [
           "Ezreal",
           "14.21"
          ],
          [
           "Ezreal",
           "14.22"
          ],
          [
           "Ezreal",
           "14.23"
          ],
          [
           "Ezreal",
           "14.24"
          ],
          [
           "Ezreal",
           "15.01"
          ],
          [
           "Ezreal",
           "15.02"
          ],
          [
           "Ezreal",
           "15.03"
          ],
          [
           "Ezreal",
           "15.04"
          ],
          [
           "Ezreal",
           "15.05"
          ],
          [
           "Ezreal",
           "15.06"
          ],
          [
           "Ezreal",
           "15.07"
          ]
         ],
         "hovertemplate": "Champion=%{customdata[0]}<br>t-SNE Component 1=%{x}<br>t-SNE Component 2=%{y}<br>Patch=%{customdata[1]}<extra></extra>",
         "legendgroup": "Ezreal",
         "marker": {
          "color": "#19d3f3",
          "size": 8,
          "symbol": "circle"
         },
         "mode": "markers",
         "name": "Ezreal",
         "showlegend": true,
         "type": "scattergl",
         "x": {
          "bdata": "2zEfwptEH8JxxVXChHIYwhiI18EKXCnB87ACQs1rB0JCJPhA8dupvuscWsGCzKY/4BZGwWDSm8EJjglBEuIKQSuSiEHyXZZBApNjQb4N+sA=",
          "dtype": "f4"
         },
         "xaxis": "x",
         "y": {
          "bdata": "EbWiwRjOosFCBixAi+p1wUTSscFnkgbCkTPowbPCYMES57fBuwUVwii5Lb6jhTPCB3+/waRpv0GrVSnCEsMzwpNgJ8LTnh3Cc2Eewqvx6L8=",
          "dtype": "f4"
         },
         "yaxis": "y"
        },
        {
         "customdata": [
          [
           "Mordekaiser",
           "14.12"
          ],
          [
           "Mordekaiser",
           "14.13"
          ],
          [
           "Mordekaiser",
           "14.14"
          ],
          [
           "Mordekaiser",
           "14.15"
          ],
          [
           "Mordekaiser",
           "14.16"
          ],
          [
           "Mordekaiser",
           "14.17"
          ],
          [
           "Mordekaiser",
           "14.18"
          ],
          [
           "Mordekaiser",
           "14.19"
          ],
          [
           "Mordekaiser",
           "14.20"
          ],
          [
           "Mordekaiser",
           "14.21"
          ],
          [
           "Mordekaiser",
           "14.22"
          ],
          [
           "Mordekaiser",
           "14.23"
          ],
          [
           "Mordekaiser",
           "14.24"
          ],
          [
           "Mordekaiser",
           "15.01"
          ],
          [
           "Mordekaiser",
           "15.02"
          ],
          [
           "Mordekaiser",
           "15.03"
          ],
          [
           "Mordekaiser",
           "15.04"
          ],
          [
           "Mordekaiser",
           "15.05"
          ],
          [
           "Mordekaiser",
           "15.06"
          ],
          [
           "Mordekaiser",
           "15.07"
          ]
         ],
         "hovertemplate": "Champion=%{customdata[0]}<br>t-SNE Component 1=%{x}<br>t-SNE Component 2=%{y}<br>Patch=%{customdata[1]}<extra></extra>",
         "legendgroup": "Mordekaiser",
         "marker": {
          "color": "#FF6692",
          "size": 8,
          "symbol": "circle"
         },
         "mode": "markers",
         "name": "Mordekaiser",
         "showlegend": true,
         "type": "scattergl",
         "x": {
          "bdata": "tSUPQSR7qD/LUBVC2qi0QSWlIkI6CEC/x3ZWQr9misG/sIzBD4yiwNS908HYyyBCbQDSQVtKiT9LM1DC5TDKQeZOvEESiRZBXqYEQmiGGUE=",
          "dtype": "f4"
         },
         "xaxis": "x",
         "y": {
          "bdata": "gjq1QbRH3EBhfgLCHEEJQDx90cHvEwBCUce+wPXFJEIG+mdBYrTYQdkXB0DMwwZBbJ3BwV54UMEYroHBC4SbQSyvHEBMCzTCs8bDQE4gmUA=",
          "dtype": "f4"
         },
         "yaxis": "y"
        },
        {
         "customdata": [
          [
           "Yorick",
           "14.12"
          ],
          [
           "Yorick",
           "14.13"
          ],
          [
           "Yorick",
           "14.14"
          ],
          [
           "Yorick",
           "14.15"
          ],
          [
           "Yorick",
           "14.16"
          ],
          [
           "Yorick",
           "14.17"
          ],
          [
           "Yorick",
           "14.18"
          ],
          [
           "Yorick",
           "14.19"
          ],
          [
           "Yorick",
           "14.20"
          ],
          [
           "Yorick",
           "14.21"
          ],
          [
           "Yorick",
           "14.22"
          ],
          [
           "Yorick",
           "14.23"
          ],
          [
           "Yorick",
           "14.24"
          ],
          [
           "Yorick",
           "15.01"
          ],
          [
           "Yorick",
           "15.02"
          ],
          [
           "Yorick",
           "15.03"
          ],
          [
           "Yorick",
           "15.04"
          ],
          [
           "Yorick",
           "15.05"
          ],
          [
           "Yorick",
           "15.06"
          ],
          [
           "Yorick",
           "15.07"
          ]
         ],
         "hovertemplate": "Champion=%{customdata[0]}<br>t-SNE Component 1=%{x}<br>t-SNE Component 2=%{y}<br>Patch=%{customdata[1]}<extra></extra>",
         "legendgroup": "Yorick",
         "marker": {
          "color": "#B6E880",
          "size": 8,
          "symbol": "circle"
         },
         "mode": "markers",
         "name": "Yorick",
         "showlegend": true,
         "type": "scattergl",
         "x": {
          "bdata": "FtZAwc1/kUEL0TZCfzqNQSSGjEG/IurBC260QbXhFMKixe7BKX/cwU5J58GWQNLB/JMqQeyN5UGcuyNCTDsowSSN30FDUj1CqbzDPrTF8cA=",
          "dtype": "f4"
         },
         "xaxis": "x",
         "y": {
          "bdata": "7nDgPt4ftcHjfQTCxrcPwuo1rkCifm3AL3LwwOUr48EZbwbB3xgwQRMMtsGzGhFC+DdDQse4uEEhnGJBHQYtQuPH2EEz2m7ATPbaQd7QfUE=",
          "dtype": "f4"
         },
         "yaxis": "y"
        },
        {
         "customdata": [
          [
           "Akali",
           "14.12"
          ],
          [
           "Akali",
           "14.13"
          ],
          [
           "Akali",
           "14.14"
          ],
          [
           "Akali",
           "14.15"
          ],
          [
           "Akali",
           "14.16"
          ],
          [
           "Akali",
           "14.17"
          ],
          [
           "Akali",
           "14.18"
          ],
          [
           "Akali",
           "14.19"
          ],
          [
           "Akali",
           "14.20"
          ],
          [
           "Akali",
           "14.21"
          ],
          [
           "Akali",
           "14.22"
          ],
          [
           "Akali",
           "14.23"
          ],
          [
           "Akali",
           "14.24"
          ],
          [
           "Akali",
           "15.01"
          ],
          [
           "Akali",
           "15.02"
          ],
          [
           "Akali",
           "15.03"
          ],
          [
           "Akali",
           "15.04"
          ],
          [
           "Akali",
           "15.05"
          ],
          [
           "Akali",
           "15.06"
          ],
          [
           "Akali",
           "15.07"
          ]
         ],
         "hovertemplate": "Champion=%{customdata[0]}<br>t-SNE Component 1=%{x}<br>t-SNE Component 2=%{y}<br>Patch=%{customdata[1]}<extra></extra>",
         "legendgroup": "Akali",
         "marker": {
          "color": "#FF97FF",
          "size": 8,
          "symbol": "circle"
         },
         "mode": "markers",
         "name": "Akali",
         "showlegend": true,
         "type": "scattergl",
         "x": {
          "bdata": "H/cyQg8jMEJfQAFBG4+9QWbGx0HN9bVBeXX8wQn0IcLvKLjBx0a9wLnCWMGo1J/BZNaQwRpLIMAqwLlBgjQoQStHQ0FI3L++9Y2/QBVjkME=",
          "dtype": "f4"
         },
         "xaxis": "x",
         "y": {
          "bdata": "n3EZQcQHGEGGV4dB1bmqQJ5TsEBOgZ9AxdopQYYE7kHQt+LBtg3hwUxIQcEb16fBqmajQW+xHsIMAHDAtL2nwcdXDkKp5XpAofR0wYo0p0E=",
          "dtype": "f4"
         },
         "yaxis": "y"
        },
        {
         "customdata": [
          [
           "Kennen",
           "14.12"
          ],
          [
           "Kennen",
           "14.13"
          ],
          [
           "Kennen",
           "14.14"
          ],
          [
           "Kennen",
           "14.15"
          ],
          [
           "Kennen",
           "14.16"
          ],
          [
           "Kennen",
           "14.17"
          ],
          [
           "Kennen",
           "14.18"
          ],
          [
           "Kennen",
           "14.19"
          ],
          [
           "Kennen",
           "14.20"
          ],
          [
           "Kennen",
           "14.21"
          ],
          [
           "Kennen",
           "14.22"
          ],
          [
           "Kennen",
           "14.23"
          ],
          [
           "Kennen",
           "14.24"
          ],
          [
           "Kennen",
           "15.01"
          ],
          [
           "Kennen",
           "15.02"
          ],
          [
           "Kennen",
           "15.03"
          ],
          [
           "Kennen",
           "15.04"
          ],
          [
           "Kennen",
           "15.05"
          ],
          [
           "Kennen",
           "15.06"
          ],
          [
           "Kennen",
           "15.07"
          ]
         ],
         "hovertemplate": "Champion=%{customdata[0]}<br>t-SNE Component 1=%{x}<br>t-SNE Component 2=%{y}<br>Patch=%{customdata[1]}<extra></extra>",
         "legendgroup": "Kennen",
         "marker": {
          "color": "#FECB52",
          "size": 8,
          "symbol": "circle"
         },
         "mode": "markers",
         "name": "Kennen",
         "showlegend": true,
         "type": "scattergl",
         "x": {
          "bdata": "yVy5wcEFxMFApoZBYB01wtGtMcIilznCDPqiP+EBQcIuw7rAqL0Ywf9UQkJnRdY/3OZGwo0pYkGUdtJBv21MwumAE8IJTWXBYbUFwcALzEA=",
          "dtype": "f4"
         },
         "xaxis": "x",
         "y": {
          "bdata": "IQJcQdjLSkE3thTAVQXNQSSSSEGdEn9BTEJMwF9MSUHjCP3BjTISwiwsZEHX0wDB7rRMQSF/tsHfMzPBtA3CPwko1sCATydCmL2uQNCoL8E=",
          "dtype": "f4"
         },
         "yaxis": "y"
        },
        {
         "customdata": [
          [
           "Garen",
           "14.12"
          ],
          [
           "Garen",
           "14.13"
          ],
          [
           "Garen",
           "14.14"
          ],
          [
           "Garen",
           "14.15"
          ],
          [
           "Garen",
           "14.16"
          ],
          [
           "Garen",
           "14.17"
          ],
          [
           "Garen",
           "14.18"
          ],
          [
           "Garen",
           "14.19"
          ],
          [
           "Garen",
           "14.20"
          ],
          [
           "Garen",
           "14.21"
          ],
          [
           "Garen",
           "14.22"
          ],
          [
           "Garen",
           "14.23"
          ],
          [
           "Garen",
           "14.24"
          ],
          [
           "Garen",
           "15.01"
          ],
          [
           "Garen",
           "15.02"
          ],
          [
           "Garen",
           "15.03"
          ],
          [
           "Garen",
           "15.04"
          ],
          [
           "Garen",
           "15.05"
          ],
          [
           "Garen",
           "15.06"
          ],
          [
           "Garen",
           "15.07"
          ]
         ],
         "hovertemplate": "Champion=%{customdata[0]}<br>t-SNE Component 1=%{x}<br>t-SNE Component 2=%{y}<br>Patch=%{customdata[1]}<extra></extra>",
         "legendgroup": "Garen",
         "marker": {
          "color": "#636efa",
          "size": 8,
          "symbol": "circle"
         },
         "mode": "markers",
         "name": "Garen",
         "showlegend": true,
         "type": "scattergl",
         "x": {
          "bdata": "VKEMQUFEUkI66nRB2KUHwI6Q0cHNtgzBCWGzwbOEKULpvxtCHYOIQeuISkJyCDw/JiZyQYMOScLSbjjCjtJAwtjbQMFh8B/CerSMQTfThkA=",
          "dtype": "f4"
         },
         "xaxis": "x",
         "y": {
          "bdata": "ksXbwIjhH8EZ3KjBL2YnwYF9CUGh0uTAen1/weNujMHjSMbAmSAIwflsUUE5o0fCh/4CwcPKcUFvIu3AnO6RQEuovT9o4rtB8FQrwY+AI8E=",
          "dtype": "f4"
         },
         "yaxis": "y"
        },
        {
         "customdata": [
          [
           "Sett",
           "14.12"
          ],
          [
           "Sett",
           "14.13"
          ],
          [
           "Sett",
           "14.14"
          ],
          [
           "Sett",
           "14.15"
          ],
          [
           "Sett",
           "14.16"
          ],
          [
           "Sett",
           "14.17"
          ],
          [
           "Sett",
           "14.18"
          ],
          [
           "Sett",
           "14.19"
          ],
          [
           "Sett",
           "14.20"
          ],
          [
           "Sett",
           "14.21"
          ],
          [
           "Sett",
           "14.22"
          ],
          [
           "Sett",
           "14.23"
          ],
          [
           "Sett",
           "14.24"
          ],
          [
           "Sett",
           "15.01"
          ],
          [
           "Sett",
           "15.02"
          ],
          [
           "Sett",
           "15.03"
          ],
          [
           "Sett",
           "15.04"
          ],
          [
           "Sett",
           "15.05"
          ],
          [
           "Sett",
           "15.06"
          ],
          [
           "Sett",
           "15.07"
          ]
         ],
         "hovertemplate": "Champion=%{customdata[0]}<br>t-SNE Component 1=%{x}<br>t-SNE Component 2=%{y}<br>Patch=%{customdata[1]}<extra></extra>",
         "legendgroup": "Sett",
         "marker": {
          "color": "#EF553B",
          "size": 8,
          "symbol": "circle"
         },
         "mode": "markers",
         "name": "Sett",
         "showlegend": true,
         "type": "scattergl",
         "x": {
          "bdata": "+8GmQdNby8EykuXB4eTtP5H2BEGr864/OnNZwUjRBEJxnexBP9sTQvbXpkCsKf4+DAE6QSv9H0KOFDbBWi6cwcoTkcErQmvBL4k5wbdykr8=",
          "dtype": "f4"
         },
         "xaxis": "x",
         "y": {
          "bdata": "C42jwatxbsFRupBAbKvEwCwp/8A7DYBBPPVqwX+8CcEPQKvBkZzYv1rsbMEYWwVAFht1wFh7FML8GG1BrtSvwclsF8EN50DAg3OEwI7BbcE=",
          "dtype": "f4"
         },
         "yaxis": "y"
        },
        {
         "customdata": [
          [
           "Lillia",
           "14.12"
          ],
          [
           "Lillia",
           "14.13"
          ],
          [
           "Lillia",
           "14.14"
          ],
          [
           "Lillia",
           "14.15"
          ],
          [
           "Lillia",
           "14.16"
          ],
          [
           "Lillia",
           "14.17"
          ],
          [
           "Lillia",
           "14.18"
          ],
          [
           "Lillia",
           "14.19"
          ],
          [
           "Lillia",
           "14.20"
          ],
          [
           "Lillia",
           "14.21"
          ],
          [
           "Lillia",
           "14.22"
          ],
          [
           "Lillia",
           "14.23"
          ],
          [
           "Lillia",
           "14.24"
          ],
          [
           "Lillia",
           "15.01"
          ],
          [
           "Lillia",
           "15.02"
          ],
          [
           "Lillia",
           "15.03"
          ],
          [
           "Lillia",
           "15.04"
          ],
          [
           "Lillia",
           "15.05"
          ],
          [
           "Lillia",
           "15.06"
          ],
          [
           "Lillia",
           "15.07"
          ]
         ],
         "hovertemplate": "Champion=%{customdata[0]}<br>t-SNE Component 1=%{x}<br>t-SNE Component 2=%{y}<br>Patch=%{customdata[1]}<extra></extra>",
         "legendgroup": "Lillia",
         "marker": {
          "color": "#00cc96",
          "size": 8,
          "symbol": "circle"
         },
         "mode": "markers",
         "name": "Lillia",
         "showlegend": true,
         "type": "scattergl",
         "x": {
          "bdata": "jvT1QcS79EGsacLAkKGZv4loY8EQ/tvBYPkBwiB5EcGqGGNAVQUZwAIST0BWoNRBRPrtQTqRlkHH+1pBZYG/QIJ8BEJhub9ABKbCQSV6hsE=",
          "dtype": "f4"
         },
         "xaxis": "x",
         "y": {
          "bdata": "KnsRQhzaD0JG67xB9sQxQqiet0HHvq9BKhNHQVRD5UG+UhpBkClrQTTZRMKbBC/CAQ84wpv4I76IaA/BIWjlwWRDDsKNq+XB2Bq6QW58OD8=",
          "dtype": "f4"
         },
         "yaxis": "y"
        },
        {
         "customdata": [
          [
           "Gwen",
           "14.12"
          ],
          [
           "Gwen",
           "14.13"
          ],
          [
           "Gwen",
           "14.14"
          ],
          [
           "Gwen",
           "14.15"
          ],
          [
           "Gwen",
           "14.16"
          ],
          [
           "Gwen",
           "14.17"
          ],
          [
           "Gwen",
           "14.18"
          ],
          [
           "Gwen",
           "14.19"
          ],
          [
           "Gwen",
           "14.20"
          ],
          [
           "Gwen",
           "14.21"
          ],
          [
           "Gwen",
           "14.22"
          ],
          [
           "Gwen",
           "14.23"
          ],
          [
           "Gwen",
           "14.24"
          ],
          [
           "Gwen",
           "15.01"
          ],
          [
           "Gwen",
           "15.02"
          ],
          [
           "Gwen",
           "15.03"
          ],
          [
           "Gwen",
           "15.04"
          ],
          [
           "Gwen",
           "15.05"
          ],
          [
           "Gwen",
           "15.06"
          ],
          [
           "Gwen",
           "15.07"
          ]
         ],
         "hovertemplate": "Champion=%{customdata[0]}<br>t-SNE Component 1=%{x}<br>t-SNE Component 2=%{y}<br>Patch=%{customdata[1]}<extra></extra>",
         "legendgroup": "Gwen",
         "marker": {
          "color": "#ab63fa",
          "size": 8,
          "symbol": "circle"
         },
         "mode": "markers",
         "name": "Gwen",
         "showlegend": true,
         "type": "scattergl",
         "x": {
          "bdata": "safrwV39GcIwfBbCdtuIwVlD58FBSeHBxpsewhBb9cBR73nB9tseQi8VUkKKvOpBp2i0wMY4xD4SuKDBb+NLwEYvYUF4+DNAOV4cwtTsNr8=",
          "dtype": "f4"
         },
         "xaxis": "x",
         "y": {
          "bdata": "/F6LwTl+hMGKdiJCD5rGwRSct75vVHbBvrsfQklHU0IXmbrB/Ct8P2UhJMGRl8k/4QgPwRSRN8F4tSVC/ZcBwedYPEIClEjBlKEZQsEBSsE=",
          "dtype": "f4"
         },
         "yaxis": "y"
        },
        {
         "customdata": [
          [
           "Renata Glasc",
           "14.12"
          ],
          [
           "Renata Glasc",
           "14.13"
          ],
          [
           "Renata Glasc",
           "14.14"
          ],
          [
           "Renata Glasc",
           "14.15"
          ],
          [
           "Renata Glasc",
           "14.16"
          ],
          [
           "Renata Glasc",
           "14.17"
          ],
          [
           "Renata Glasc",
           "14.18"
          ],
          [
           "Renata Glasc",
           "14.19"
          ],
          [
           "Renata Glasc",
           "14.20"
          ],
          [
           "Renata Glasc",
           "14.21"
          ],
          [
           "Renata Glasc",
           "14.22"
          ],
          [
           "Renata Glasc",
           "14.23"
          ],
          [
           "Renata Glasc",
           "14.24"
          ],
          [
           "Renata Glasc",
           "15.01"
          ],
          [
           "Renata Glasc",
           "15.02"
          ],
          [
           "Renata Glasc",
           "15.03"
          ],
          [
           "Renata Glasc",
           "15.04"
          ],
          [
           "Renata Glasc",
           "15.05"
          ],
          [
           "Renata Glasc",
           "15.06"
          ],
          [
           "Renata Glasc",
           "15.07"
          ]
         ],
         "hovertemplate": "Champion=%{customdata[0]}<br>t-SNE Component 1=%{x}<br>t-SNE Component 2=%{y}<br>Patch=%{customdata[1]}<extra></extra>",
         "legendgroup": "Renata Glasc",
         "marker": {
          "color": "#FFA15A",
          "size": 8,
          "symbol": "circle"
         },
         "mode": "markers",
         "name": "Renata Glasc",
         "showlegend": true,
         "type": "scattergl",
         "x": {
          "bdata": "65efQIPkBME4birASoJpQYqQZ0Erw+tBDsQVwdXdQEE2mVtBjmYoQbZwg8Hbt5k/bySWQYlSCsFwFQXB+tWYQam6hkAMDllCTsL3QUNYNUE=",
          "dtype": "f4"
         },
         "xaxis": "x",
         "y": {
          "bdata": "O4J+QAsrKkKSNI5B+bt0QQ6GEcK8avLBajIFwX5Q3cEc9w3CwXD1wUKlCsDBe45BnEm8QdotFMLNumbB9buCQTneGMHb2NTBGBCOQXKei0A=",
          "dtype": "f4"
         },
         "yaxis": "y"
        },
        {
         "customdata": [
          [
           "Leona",
           "14.12"
          ],
          [
           "Leona",
           "14.13"
          ],
          [
           "Leona",
           "14.14"
          ],
          [
           "Leona",
           "14.15"
          ],
          [
           "Leona",
           "14.16"
          ],
          [
           "Leona",
           "14.17"
          ],
          [
           "Leona",
           "14.18"
          ],
          [
           "Leona",
           "14.19"
          ],
          [
           "Leona",
           "14.20"
          ],
          [
           "Leona",
           "14.21"
          ],
          [
           "Leona",
           "14.22"
          ],
          [
           "Leona",
           "14.23"
          ],
          [
           "Leona",
           "14.24"
          ],
          [
           "Leona",
           "15.01"
          ],
          [
           "Leona",
           "15.02"
          ],
          [
           "Leona",
           "15.03"
          ],
          [
           "Leona",
           "15.04"
          ],
          [
           "Leona",
           "15.05"
          ],
          [
           "Leona",
           "15.06"
          ],
          [
           "Leona",
           "15.07"
          ]
         ],
         "hovertemplate": "Champion=%{customdata[0]}<br>t-SNE Component 1=%{x}<br>t-SNE Component 2=%{y}<br>Patch=%{customdata[1]}<extra></extra>",
         "legendgroup": "Leona",
         "marker": {
          "color": "#19d3f3",
          "size": 8,
          "symbol": "circle"
         },
         "mode": "markers",
         "name": "Leona",
         "showlegend": true,
         "type": "scattergl",
         "x": {
          "bdata": "hamFwcMagMHRUXzBbNHfwZiOgcFWCgC+aELXQOeHqkAd641BBY/RwTMRCUFETS6/LzICQpfeR0FQQrZBNJuNQaa6ycBxy1TBS57bwSE9scA=",
          "dtype": "f4"
         },
         "xaxis": "x",
         "y": {
          "bdata": "+qEhwoEiIMJiyB/CkwDPwU4KIMKLqVxBPeE/QQ0bXEHV93ZBxYKzwf/Yv7pB8j5B9RbewQHI78EeVubBUvnxwSU3CkJf4uTA/SUpwh9SRUE=",
          "dtype": "f4"
         },
         "yaxis": "y"
        },
        {
         "customdata": [
          [
           "Aurora",
           "14.12"
          ],
          [
           "Aurora",
           "14.13"
          ],
          [
           "Aurora",
           "14.14"
          ],
          [
           "Aurora",
           "14.15"
          ],
          [
           "Aurora",
           "14.16"
          ],
          [
           "Aurora",
           "14.17"
          ],
          [
           "Aurora",
           "14.18"
          ],
          [
           "Aurora",
           "14.19"
          ],
          [
           "Aurora",
           "14.20"
          ],
          [
           "Aurora",
           "14.21"
          ],
          [
           "Aurora",
           "14.22"
          ],
          [
           "Aurora",
           "14.23"
          ],
          [
           "Aurora",
           "14.24"
          ],
          [
           "Aurora",
           "15.01"
          ],
          [
           "Aurora",
           "15.02"
          ],
          [
           "Aurora",
           "15.03"
          ],
          [
           "Aurora",
           "15.04"
          ],
          [
           "Aurora",
           "15.05"
          ],
          [
           "Aurora",
           "15.06"
          ],
          [
           "Aurora",
           "15.07"
          ]
         ],
         "hovertemplate": "Champion=%{customdata[0]}<br>t-SNE Component 1=%{x}<br>t-SNE Component 2=%{y}<br>Patch=%{customdata[1]}<extra></extra>",
         "legendgroup": "Aurora",
         "marker": {
          "color": "#FF6692",
          "size": 8,
          "symbol": "circle"
         },
         "mode": "markers",
         "name": "Aurora",
         "showlegend": true,
         "type": "scattergl",
         "x": {
          "bdata": "lIY9wTuQH8IyoiHCWYLUwZkjMcJ7jEnCy262QT4uGsKIBCVBwficQUDzwsGEjuHBhKTkwaI8GEHKUUhCpffNwQrXiEFiYNe/mEsVQkPlI8A=",
          "dtype": "f4"
         },
         "xaxis": "x",
         "y": {
          "bdata": "F+MnQV2xYMEKZmnBAZ9mwE9eLcGL3VDB9WsywnOKXcEB3tzBKPnHP4KjlMCB/LjBKacfQeaeTUG2N4DA/G6uwLApE0LyaRzBybqYwMXIhcA=",
          "dtype": "f4"
         },
         "yaxis": "y"
        },
        {
         "customdata": [
          [
           "Nilah",
           "14.12"
          ],
          [
           "Nilah",
           "14.13"
          ],
          [
           "Nilah",
           "14.14"
          ],
          [
           "Nilah",
           "14.15"
          ],
          [
           "Nilah",
           "14.16"
          ],
          [
           "Nilah",
           "14.17"
          ],
          [
           "Nilah",
           "14.18"
          ],
          [
           "Nilah",
           "14.19"
          ],
          [
           "Nilah",
           "14.20"
          ],
          [
           "Nilah",
           "14.21"
          ],
          [
           "Nilah",
           "14.22"
          ],
          [
           "Nilah",
           "14.23"
          ],
          [
           "Nilah",
           "14.24"
          ],
          [
           "Nilah",
           "15.01"
          ],
          [
           "Nilah",
           "15.02"
          ],
          [
           "Nilah",
           "15.03"
          ],
          [
           "Nilah",
           "15.04"
          ],
          [
           "Nilah",
           "15.05"
          ],
          [
           "Nilah",
           "15.06"
          ],
          [
           "Nilah",
           "15.07"
          ]
         ],
         "hovertemplate": "Champion=%{customdata[0]}<br>t-SNE Component 1=%{x}<br>t-SNE Component 2=%{y}<br>Patch=%{customdata[1]}<extra></extra>",
         "legendgroup": "Nilah",
         "marker": {
          "color": "#B6E880",
          "size": 8,
          "symbol": "circle"
         },
         "mode": "markers",
         "name": "Nilah",
         "showlegend": true,
         "type": "scattergl",
         "x": {
          "bdata": "e0oZwfhoAUADsf7BH/CkwQG2VkK2BUBCGZ+EwctEAcF3zPbAqJgFQimtIUI/qJtAyo1/wOMrNMGDLDDAvxxDwXgTR8GvDrTBbIfmwCbzHsE=",
          "dtype": "f4"
         },
         "xaxis": "x",
         "y": {
          "bdata": "bFMVwa0MVsHXQJLA2htHQU8/ssFMfqDBm0H+Qeb6XUGcZnXBMiWRQfNyZcFDfi9BoJtCQbIBE0I6NDZBG3AWwYBEF8GID71BFfmtvwnEN0A=",
          "dtype": "f4"
         },
         "yaxis": "y"
        },
        {
         "customdata": [
          [
           "K'Sante",
           "14.12"
          ],
          [
           "K'Sante",
           "14.13"
          ],
          [
           "K'Sante",
           "14.14"
          ],
          [
           "K'Sante",
           "14.15"
          ],
          [
           "K'Sante",
           "14.16"
          ],
          [
           "K'Sante",
           "14.17"
          ],
          [
           "K'Sante",
           "14.18"
          ],
          [
           "K'Sante",
           "14.19"
          ],
          [
           "K'Sante",
           "14.20"
          ],
          [
           "K'Sante",
           "14.21"
          ],
          [
           "K'Sante",
           "14.22"
          ],
          [
           "K'Sante",
           "14.23"
          ],
          [
           "K'Sante",
           "14.24"
          ],
          [
           "K'Sante",
           "15.01"
          ],
          [
           "K'Sante",
           "15.02"
          ],
          [
           "K'Sante",
           "15.03"
          ],
          [
           "K'Sante",
           "15.04"
          ],
          [
           "K'Sante",
           "15.05"
          ],
          [
           "K'Sante",
           "15.06"
          ],
          [
           "K'Sante",
           "15.07"
          ]
         ],
         "hovertemplate": "Champion=%{customdata[0]}<br>t-SNE Component 1=%{x}<br>t-SNE Component 2=%{y}<br>Patch=%{customdata[1]}<extra></extra>",
         "legendgroup": "K'Sante",
         "marker": {
          "color": "#FF97FF",
          "size": 8,
          "symbol": "circle"
         },
         "mode": "markers",
         "name": "K'Sante",
         "showlegend": true,
         "type": "scattergl",
         "x": {
          "bdata": "kbNuwa9ETEJ7EQRCsZ05Qq0TgkDDXAFCcFWowRsU+0H2JQrCR2i3wUdtocF+k/LBobQ8wjzdY78FhBFC6AGvwPyAGkLE0zpCEobsQXdXgb8=",
          "dtype": "f4"
         },
         "xaxis": "x",
         "y": {
          "bdata": "KvIpQd+W38ALE9XBGjkowFjvgEGo3k/AqFmuwI4ApkGp2JXBWkW4wdkghsE8NLpAS9RIwUWVCcGeA9DALUkPQeuti8A/yCPAhNhvwcSqp8A=",
          "dtype": "f4"
         },
         "yaxis": "y"
        },
        {
         "customdata": [
          [
           "Fiddlesticks",
           "14.12"
          ],
          [
           "Fiddlesticks",
           "14.13"
          ],
          [
           "Fiddlesticks",
           "14.14"
          ],
          [
           "Fiddlesticks",
           "14.15"
          ],
          [
           "Fiddlesticks",
           "14.16"
          ],
          [
           "Fiddlesticks",
           "14.17"
          ],
          [
           "Fiddlesticks",
           "14.18"
          ],
          [
           "Fiddlesticks",
           "14.19"
          ],
          [
           "Fiddlesticks",
           "14.20"
          ],
          [
           "Fiddlesticks",
           "14.21"
          ],
          [
           "Fiddlesticks",
           "14.22"
          ],
          [
           "Fiddlesticks",
           "14.23"
          ],
          [
           "Fiddlesticks",
           "14.24"
          ],
          [
           "Fiddlesticks",
           "15.01"
          ],
          [
           "Fiddlesticks",
           "15.02"
          ],
          [
           "Fiddlesticks",
           "15.03"
          ],
          [
           "Fiddlesticks",
           "15.04"
          ],
          [
           "Fiddlesticks",
           "15.05"
          ],
          [
           "Fiddlesticks",
           "15.06"
          ],
          [
           "Fiddlesticks",
           "15.07"
          ]
         ],
         "hovertemplate": "Champion=%{customdata[0]}<br>t-SNE Component 1=%{x}<br>t-SNE Component 2=%{y}<br>Patch=%{customdata[1]}<extra></extra>",
         "legendgroup": "Fiddlesticks",
         "marker": {
          "color": "#FECB52",
          "size": 8,
          "symbol": "circle"
         },
         "mode": "markers",
         "name": "Fiddlesticks",
         "showlegend": true,
         "type": "scattergl",
         "x": {
          "bdata": "j2YrwekOrsGJjwk/0S/awG/agEF3Kg9CReogQi8XPEL3twNBN0AMwr6DtUEafSbBouPawfuRPsLGB0PCVraYQE++g0ExAw3CYooDwvzYJsE=",
          "dtype": "f4"
         },
         "xaxis": "x",
         "y": {
          "bdata": "vNqKwZcPHMF3YAhC34UpQk1XbkGxh4fBJiI6QeyqzUDhlwLBorERQQNio8AvYn7BtXRUwd1a3kFc+slBpO1NQvhTvkGzqfZBVRP6Qa8ugsE=",
          "dtype": "f4"
         },
         "yaxis": "y"
        },
        {
         "customdata": [
          [
           "Malzahar",
           "14.12"
          ],
          [
           "Malzahar",
           "14.13"
          ],
          [
           "Malzahar",
           "14.14"
          ],
          [
           "Malzahar",
           "14.15"
          ],
          [
           "Malzahar",
           "14.16"
          ],
          [
           "Malzahar",
           "14.17"
          ],
          [
           "Malzahar",
           "14.18"
          ],
          [
           "Malzahar",
           "14.19"
          ],
          [
           "Malzahar",
           "14.20"
          ],
          [
           "Malzahar",
           "14.21"
          ],
          [
           "Malzahar",
           "14.22"
          ],
          [
           "Malzahar",
           "14.23"
          ],
          [
           "Malzahar",
           "14.24"
          ],
          [
           "Malzahar",
           "15.01"
          ],
          [
           "Malzahar",
           "15.02"
          ],
          [
           "Malzahar",
           "15.03"
          ],
          [
           "Malzahar",
           "15.04"
          ],
          [
           "Malzahar",
           "15.05"
          ],
          [
           "Malzahar",
           "15.06"
          ],
          [
           "Malzahar",
           "15.07"
          ]
         ],
         "hovertemplate": "Champion=%{customdata[0]}<br>t-SNE Component 1=%{x}<br>t-SNE Component 2=%{y}<br>Patch=%{customdata[1]}<extra></extra>",
         "legendgroup": "Malzahar",
         "marker": {
          "color": "#636efa",
          "size": 8,
          "symbol": "circle"
         },
         "mode": "markers",
         "name": "Malzahar",
         "showlegend": true,
         "type": "scattergl",
         "x": {
          "bdata": "Sc6wQaKcvkF310JCx+EOQid47kEG5GVBR8NvQGUo2sD8EnDB9kD7QWlI+kHm88jAib4tQVa93UEbyc/BgdwOwv+NTcECTQ1BDcXjQN7E4cE=",
          "dtype": "f4"
         },
         "xaxis": "x",
         "y": {
          "bdata": "qV+cQQfY7UHKPWnB/kU3wfYhtsGmCB3CpQKUQTWe0MEBRjQ+DxccwfLMHMHzwdvBFHdzwXo0ccHZAA/CQvPJQTki2kCWWZTBVg4lwoXS8UA=",
          "dtype": "f4"
         },
         "yaxis": "y"
        },
        {
         "customdata": [
          [
           "Smolder",
           "14.12"
          ],
          [
           "Smolder",
           "14.13"
          ],
          [
           "Smolder",
           "14.14"
          ],
          [
           "Smolder",
           "14.15"
          ],
          [
           "Smolder",
           "14.16"
          ],
          [
           "Smolder",
           "14.17"
          ],
          [
           "Smolder",
           "14.18"
          ],
          [
           "Smolder",
           "14.19"
          ],
          [
           "Smolder",
           "14.20"
          ],
          [
           "Smolder",
           "14.21"
          ],
          [
           "Smolder",
           "14.22"
          ],
          [
           "Smolder",
           "14.23"
          ],
          [
           "Smolder",
           "14.24"
          ],
          [
           "Smolder",
           "15.01"
          ],
          [
           "Smolder",
           "15.02"
          ],
          [
           "Smolder",
           "15.03"
          ],
          [
           "Smolder",
           "15.04"
          ],
          [
           "Smolder",
           "15.05"
          ],
          [
           "Smolder",
           "15.06"
          ],
          [
           "Smolder",
           "15.07"
          ]
         ],
         "hovertemplate": "Champion=%{customdata[0]}<br>t-SNE Component 1=%{x}<br>t-SNE Component 2=%{y}<br>Patch=%{customdata[1]}<extra></extra>",
         "legendgroup": "Smolder",
         "marker": {
          "color": "#EF553B",
          "size": 8,
          "symbol": "circle"
         },
         "mode": "markers",
         "name": "Smolder",
         "showlegend": true,
         "type": "scattergl",
         "x": {
          "bdata": "WwBMwelsCcKE9EHCh6xQwme7UcJ+OnRB1ydGQnD8YEIO7UxCDaMIQq/YTULxbxVCB4VYQvo5G0Iy9AVCJAQAwJBeCUG1NUFCPwIMwteOEEE=",
          "dtype": "f4"
         },
         "xaxis": "x",
         "y": {
          "bdata": "9J6JQQdskEGw3+FBqBnfQPrv10AISw5CIcK6wZ5n7j+y2r5Amfhnwe1450CProLA1FsmQaF6XkCcrjVBLKsvwY1x6UFTsK1AI6eEQRE9RsA=",
          "dtype": "f4"
         },
         "yaxis": "y"
        },
        {
         "customdata": [
          [
           "Milio",
           "14.12"
          ],
          [
           "Milio",
           "14.13"
          ],
          [
           "Milio",
           "14.14"
          ],
          [
           "Milio",
           "14.15"
          ],
          [
           "Milio",
           "14.16"
          ],
          [
           "Milio",
           "14.17"
          ],
          [
           "Milio",
           "14.18"
          ],
          [
           "Milio",
           "14.19"
          ],
          [
           "Milio",
           "14.20"
          ],
          [
           "Milio",
           "14.21"
          ],
          [
           "Milio",
           "14.22"
          ],
          [
           "Milio",
           "14.23"
          ],
          [
           "Milio",
           "14.24"
          ],
          [
           "Milio",
           "15.01"
          ],
          [
           "Milio",
           "15.02"
          ],
          [
           "Milio",
           "15.03"
          ],
          [
           "Milio",
           "15.04"
          ],
          [
           "Milio",
           "15.05"
          ],
          [
           "Milio",
           "15.06"
          ],
          [
           "Milio",
           "15.07"
          ]
         ],
         "hovertemplate": "Champion=%{customdata[0]}<br>t-SNE Component 1=%{x}<br>t-SNE Component 2=%{y}<br>Patch=%{customdata[1]}<extra></extra>",
         "legendgroup": "Milio",
         "marker": {
          "color": "#00cc96",
          "size": 8,
          "symbol": "circle"
         },
         "mode": "markers",
         "name": "Milio",
         "showlegend": true,
         "type": "scattergl",
         "x": {
          "bdata": "KSd0wS0YLUGxA8XAle/3QX44jcDNevhAKKZzwORiakEgOmPAThKKwUq0n78hd9fBroqrv7TK70Cvvr7B6R7SwPWpuUGD/IfAR+prQPExrkA=",
          "dtype": "f4"
         },
         "xaxis": "x",
         "y": {
          "bdata": "hrsswSHvvcHDYgdCujFHQflbNMLGU+hBX4KpQTSL/kEBRppBRn/fQBtXPUDhqL/BaBSaQZZ7MkJ+Y45BkXH2QN63EkIpjuhAU+biQMsg5UA=",
          "dtype": "f4"
         },
         "yaxis": "y"
        },
        {
         "customdata": [
          [
           "Talon",
           "14.12"
          ],
          [
           "Talon",
           "14.13"
          ],
          [
           "Talon",
           "14.14"
          ],
          [
           "Talon",
           "14.15"
          ],
          [
           "Talon",
           "14.16"
          ],
          [
           "Talon",
           "14.17"
          ],
          [
           "Talon",
           "14.18"
          ],
          [
           "Talon",
           "14.19"
          ],
          [
           "Talon",
           "14.20"
          ],
          [
           "Talon",
           "14.21"
          ],
          [
           "Talon",
           "14.22"
          ],
          [
           "Talon",
           "14.23"
          ],
          [
           "Talon",
           "14.24"
          ],
          [
           "Talon",
           "15.01"
          ],
          [
           "Talon",
           "15.02"
          ],
          [
           "Talon",
           "15.03"
          ],
          [
           "Talon",
           "15.04"
          ],
          [
           "Talon",
           "15.05"
          ],
          [
           "Talon",
           "15.06"
          ],
          [
           "Talon",
           "15.07"
          ]
         ],
         "hovertemplate": "Champion=%{customdata[0]}<br>t-SNE Component 1=%{x}<br>t-SNE Component 2=%{y}<br>Patch=%{customdata[1]}<extra></extra>",
         "legendgroup": "Talon",
         "marker": {
          "color": "#ab63fa",
          "size": 8,
          "symbol": "circle"
         },
         "mode": "markers",
         "name": "Talon",
         "showlegend": true,
         "type": "scattergl",
         "x": {
          "bdata": "znMfQgcCPUFJ+rvBaSQGQoa/UsF/aTrC8OQlP+gAbsHqmyZChVtfQR1nUsE1DwHCs7BZwdMMvMFTA4zB7hMwwcaPBkLmsVnB3r5RwaN5i8E=",
          "dtype": "f4"
         },
         "xaxis": "x",
         "y": {
          "bdata": "rbvfQGqtP0FuhC5Cn8w1QewZXEATFonBPzAAwupC6cCzzVrBXD9QwbYngUAkOlxBP1YOQcrbLELDeuRBEunhQJ2oUkHRuEBBfN0VQaAAA0E=",
          "dtype": "f4"
         },
         "yaxis": "y"
        },
        {
         "customdata": [
          [
           "Hwei",
           "14.12"
          ],
          [
           "Hwei",
           "14.13"
          ],
          [
           "Hwei",
           "14.14"
          ],
          [
           "Hwei",
           "14.15"
          ],
          [
           "Hwei",
           "14.16"
          ],
          [
           "Hwei",
           "14.17"
          ],
          [
           "Hwei",
           "14.18"
          ],
          [
           "Hwei",
           "14.19"
          ],
          [
           "Hwei",
           "14.20"
          ],
          [
           "Hwei",
           "14.21"
          ],
          [
           "Hwei",
           "14.22"
          ],
          [
           "Hwei",
           "14.23"
          ],
          [
           "Hwei",
           "14.24"
          ],
          [
           "Hwei",
           "15.01"
          ],
          [
           "Hwei",
           "15.02"
          ],
          [
           "Hwei",
           "15.03"
          ],
          [
           "Hwei",
           "15.04"
          ],
          [
           "Hwei",
           "15.05"
          ],
          [
           "Hwei",
           "15.06"
          ],
          [
           "Hwei",
           "15.07"
          ]
         ],
         "hovertemplate": "Champion=%{customdata[0]}<br>t-SNE Component 1=%{x}<br>t-SNE Component 2=%{y}<br>Patch=%{customdata[1]}<extra></extra>",
         "legendgroup": "Hwei",
         "marker": {
          "color": "#FFA15A",
          "size": 8,
          "symbol": "circle"
         },
         "mode": "markers",
         "name": "Hwei",
         "showlegend": true,
         "type": "scattergl",
         "x": {
          "bdata": "EtsoQs+ItUGDDVVB+2OEwR9khsGX2SfCgmNgQc9RFcKlVivC61Avwiu4P8IxaJU/WmeKP+YRGMKtbyDBybTcwFfsWUIVezdCHRA2QmSAy8A=",
          "dtype": "f4"
         },
         "xaxis": "x",
         "y": {
          "bdata": "3yjGQCKZ7kEDPyPAeHALQrsqDUJQYE3AFSkrwA/xAD6fxS1BfWhHQYyghMFv3vbA9p6tQZCM0kGxER4/0G8BQIVcxsFys5NB69edQQCUq0A=",
          "dtype": "f4"
         },
         "yaxis": "y"
        },
        {
         "customdata": [
          [
           "Riven",
           "14.12"
          ],
          [
           "Riven",
           "14.13"
          ],
          [
           "Riven",
           "14.14"
          ],
          [
           "Riven",
           "14.15"
          ],
          [
           "Riven",
           "14.16"
          ],
          [
           "Riven",
           "14.17"
          ],
          [
           "Riven",
           "14.18"
          ],
          [
           "Riven",
           "14.19"
          ],
          [
           "Riven",
           "14.20"
          ],
          [
           "Riven",
           "14.21"
          ],
          [
           "Riven",
           "14.22"
          ],
          [
           "Riven",
           "14.23"
          ],
          [
           "Riven",
           "14.24"
          ],
          [
           "Riven",
           "15.01"
          ],
          [
           "Riven",
           "15.02"
          ],
          [
           "Riven",
           "15.03"
          ],
          [
           "Riven",
           "15.04"
          ],
          [
           "Riven",
           "15.05"
          ],
          [
           "Riven",
           "15.06"
          ],
          [
           "Riven",
           "15.07"
          ]
         ],
         "hovertemplate": "Champion=%{customdata[0]}<br>t-SNE Component 1=%{x}<br>t-SNE Component 2=%{y}<br>Patch=%{customdata[1]}<extra></extra>",
         "legendgroup": "Riven",
         "marker": {
          "color": "#19d3f3",
          "size": 8,
          "symbol": "circle"
         },
         "mode": "markers",
         "name": "Riven",
         "showlegend": true,
         "type": "scattergl",
         "x": {
          "bdata": "yGA5wpjwTMLbiJxB2SDIwYxaT8L081DCGJzCQX0yEkJj3aFBFXxGwqRZL8L9YD3CJuQ2wh9PJsKKhA3CjkDjwWz8N8Lzaz7CUcoXwn7xjsA=",
          "dtype": "f4"
         },
         "xaxis": "x",
         "y": {
          "bdata": "H5dRwZCFV8H3zArCWZvwP/Z+VsElkFPBhfIHwRWmCMLvwenBP/eTwbR2hsFOKILBMwKHwcGyu8EfJYTB5Y8kwUq9ccE3EXPBNLSNwT0MHkA=",
          "dtype": "f4"
         },
         "yaxis": "y"
        },
        {
         "customdata": [
          [
           "Naafiri",
           "14.12"
          ],
          [
           "Naafiri",
           "14.13"
          ],
          [
           "Naafiri",
           "14.14"
          ],
          [
           "Naafiri",
           "14.15"
          ],
          [
           "Naafiri",
           "14.16"
          ],
          [
           "Naafiri",
           "14.17"
          ],
          [
           "Naafiri",
           "14.18"
          ],
          [
           "Naafiri",
           "14.19"
          ],
          [
           "Naafiri",
           "14.20"
          ],
          [
           "Naafiri",
           "14.21"
          ],
          [
           "Naafiri",
           "14.22"
          ],
          [
           "Naafiri",
           "14.23"
          ],
          [
           "Naafiri",
           "14.24"
          ],
          [
           "Naafiri",
           "15.01"
          ],
          [
           "Naafiri",
           "15.02"
          ],
          [
           "Naafiri",
           "15.03"
          ],
          [
           "Naafiri",
           "15.04"
          ],
          [
           "Naafiri",
           "15.05"
          ],
          [
           "Naafiri",
           "15.06"
          ],
          [
           "Naafiri",
           "15.07"
          ]
         ],
         "hovertemplate": "Champion=%{customdata[0]}<br>t-SNE Component 1=%{x}<br>t-SNE Component 2=%{y}<br>Patch=%{customdata[1]}<extra></extra>",
         "legendgroup": "Naafiri",
         "marker": {
          "color": "#FF6692",
          "size": 8,
          "symbol": "circle"
         },
         "mode": "markers",
         "name": "Naafiri",
         "showlegend": true,
         "type": "scattergl",
         "x": {
          "bdata": "nX0DwkxdDUEg+B5BnZAkQSbgx0Eqr1NBZY+gQa5BwL6rVdHBvAoSwvKW1cEjlClBthiTQd6OjEGu+1RBt34JQT0JTsJFszbCO6YLQKDQRME=",
          "dtype": "f4"
         },
         "xaxis": "x",
         "y": {
          "bdata": "O1izwQwxS8KhX0PCX2dEwtVbG8Jb2DnCutENwi2MK8K1oSjCT8WAwVA8v79bvn8/LeGOQFYiKsHYaTnC9i5Lwv3KksFIsebAhWNJQvipLEE=",
          "dtype": "f4"
         },
         "yaxis": "y"
        },
        {
         "customdata": [
          [
           "Kog'Maw",
           "14.12"
          ],
          [
           "Kog'Maw",
           "14.13"
          ],
          [
           "Kog'Maw",
           "14.14"
          ],
          [
           "Kog'Maw",
           "14.15"
          ],
          [
           "Kog'Maw",
           "14.16"
          ],
          [
           "Kog'Maw",
           "14.17"
          ],
          [
           "Kog'Maw",
           "14.18"
          ],
          [
           "Kog'Maw",
           "14.19"
          ],
          [
           "Kog'Maw",
           "14.20"
          ],
          [
           "Kog'Maw",
           "14.21"
          ],
          [
           "Kog'Maw",
           "14.22"
          ],
          [
           "Kog'Maw",
           "14.23"
          ],
          [
           "Kog'Maw",
           "14.24"
          ],
          [
           "Kog'Maw",
           "15.01"
          ],
          [
           "Kog'Maw",
           "15.02"
          ],
          [
           "Kog'Maw",
           "15.03"
          ],
          [
           "Kog'Maw",
           "15.04"
          ],
          [
           "Kog'Maw",
           "15.05"
          ],
          [
           "Kog'Maw",
           "15.06"
          ],
          [
           "Kog'Maw",
           "15.07"
          ]
         ],
         "hovertemplate": "Champion=%{customdata[0]}<br>t-SNE Component 1=%{x}<br>t-SNE Component 2=%{y}<br>Patch=%{customdata[1]}<extra></extra>",
         "legendgroup": "Kog'Maw",
         "marker": {
          "color": "#B6E880",
          "size": 8,
          "symbol": "circle"
         },
         "mode": "markers",
         "name": "Kog'Maw",
         "showlegend": true,
         "type": "scattergl",
         "x": {
          "bdata": "OFkOQlUhDkLpiJpALNsrweTd/T/ia7tBdl+HPwt4TcED7IrBC5JVwgT0VsJ8OupB4kkfQgYxjMGgjDdChZhiwcMIDsHCfBvClIiAQOd4l0A=",
          "dtype": "f4"
         },
         "xaxis": "x",
         "y": {
          "bdata": "uiCGP83dpT/sRzRBE9ALQY3RPUGHZUjB3Sutwc9GbEE0lIZBnt8tQVUuNkGDAWVBSlvkQI43IMEgJk5BsOPGQZ8EFMFooyhBQjwDQoQc7EA=",
          "dtype": "f4"
         },
         "yaxis": "y"
        },
        {
         "customdata": [
          [
           "Shen",
           "14.12"
          ],
          [
           "Shen",
           "14.13"
          ],
          [
           "Shen",
           "14.14"
          ],
          [
           "Shen",
           "14.15"
          ],
          [
           "Shen",
           "14.16"
          ],
          [
           "Shen",
           "14.17"
          ],
          [
           "Shen",
           "14.18"
          ],
          [
           "Shen",
           "14.19"
          ],
          [
           "Shen",
           "14.20"
          ],
          [
           "Shen",
           "14.21"
          ],
          [
           "Shen",
           "14.22"
          ],
          [
           "Shen",
           "14.23"
          ],
          [
           "Shen",
           "14.24"
          ],
          [
           "Shen",
           "15.01"
          ],
          [
           "Shen",
           "15.02"
          ],
          [
           "Shen",
           "15.03"
          ],
          [
           "Shen",
           "15.04"
          ],
          [
           "Shen",
           "15.05"
          ],
          [
           "Shen",
           "15.06"
          ],
          [
           "Shen",
           "15.07"
          ]
         ],
         "hovertemplate": "Champion=%{customdata[0]}<br>t-SNE Component 1=%{x}<br>t-SNE Component 2=%{y}<br>Patch=%{customdata[1]}<extra></extra>",
         "legendgroup": "Shen",
         "marker": {
          "color": "#FF97FF",
          "size": 8,
          "symbol": "circle"
         },
         "mode": "markers",
         "name": "Shen",
         "showlegend": true,
         "type": "scattergl",
         "x": {
          "bdata": "CcFawW4xWcFhx1fCDaXZwelkGsGRGRFAzKsYwnuwLsIC2/rBRInzwb4iBcG7HwfCf6r2wdA5EkLmaN7BJ4eAwaTIR0GZvx9BrsoIQqN/GcE=",
          "dtype": "f4"
         },
         "xaxis": "x",
         "y": {
          "bdata": "ge/EwWTu18G+2CNAGxEBwpcTvUGWB1lBfIEDQjxs0kGhzm1AKvaiwVPTZUC7NvfBX1HKQM2HRcHLy+dAGeSswK8W+8EzjIHBV2GRwGMinz8=",
          "dtype": "f4"
         },
         "yaxis": "y"
        },
        {
         "customdata": [
          [
           "Lux",
           "14.12"
          ],
          [
           "Lux",
           "14.13"
          ],
          [
           "Lux",
           "14.14"
          ],
          [
           "Lux",
           "14.15"
          ],
          [
           "Lux",
           "14.16"
          ],
          [
           "Lux",
           "14.17"
          ],
          [
           "Lux",
           "14.18"
          ],
          [
           "Lux",
           "14.19"
          ],
          [
           "Lux",
           "14.20"
          ],
          [
           "Lux",
           "14.21"
          ],
          [
           "Lux",
           "14.22"
          ],
          [
           "Lux",
           "14.23"
          ],
          [
           "Lux",
           "14.24"
          ],
          [
           "Lux",
           "15.01"
          ],
          [
           "Lux",
           "15.02"
          ],
          [
           "Lux",
           "15.03"
          ],
          [
           "Lux",
           "15.04"
          ],
          [
           "Lux",
           "15.05"
          ],
          [
           "Lux",
           "15.06"
          ],
          [
           "Lux",
           "15.07"
          ]
         ],
         "hovertemplate": "Champion=%{customdata[0]}<br>t-SNE Component 1=%{x}<br>t-SNE Component 2=%{y}<br>Patch=%{customdata[1]}<extra></extra>",
         "legendgroup": "Lux",
         "marker": {
          "color": "#FECB52",
          "size": 8,
          "symbol": "circle"
         },
         "mode": "markers",
         "name": "Lux",
         "showlegend": true,
         "type": "scattergl",
         "x": {
          "bdata": "UeWpwESoyMERvpRBE/p5QHS3sb9KWnvBEoOgwXztFcIPExrCuVJvwdif4MG6iJXBE8JnQe/YJsHGKi3BVI6QQUq9mEG3ePpB1+JhQfiXicA=",
          "dtype": "f4"
         },
         "xaxis": "x",
         "y": {
          "bdata": "yuCRQeZfXUFXqWTANon3QWtUo0E2GWHBYRm+QadqaEENu0JBT60awcI0zEFGa79BJpoPP7h3mkHHdYZBL7+fQO0/9cAxQcvB0QUDQbAkFkE=",
          "dtype": "f4"
         },
         "yaxis": "y"
        },
        {
         "customdata": [
          [
           "UNKNOWN",
           "14.12"
          ],
          [
           "UNKNOWN",
           "14.13"
          ],
          [
           "UNKNOWN",
           "14.14"
          ],
          [
           "UNKNOWN",
           "14.15"
          ],
          [
           "UNKNOWN",
           "14.16"
          ],
          [
           "UNKNOWN",
           "14.17"
          ],
          [
           "UNKNOWN",
           "14.18"
          ],
          [
           "UNKNOWN",
           "14.19"
          ],
          [
           "UNKNOWN",
           "14.20"
          ],
          [
           "UNKNOWN",
           "14.21"
          ],
          [
           "UNKNOWN",
           "14.22"
          ],
          [
           "UNKNOWN",
           "14.23"
          ],
          [
           "UNKNOWN",
           "14.24"
          ],
          [
           "UNKNOWN",
           "15.01"
          ],
          [
           "UNKNOWN",
           "15.02"
          ],
          [
           "UNKNOWN",
           "15.03"
          ],
          [
           "UNKNOWN",
           "15.04"
          ],
          [
           "UNKNOWN",
           "15.05"
          ],
          [
           "UNKNOWN",
           "15.06"
          ],
          [
           "UNKNOWN",
           "15.07"
          ]
         ],
         "hovertemplate": "Champion=%{customdata[0]}<br>t-SNE Component 1=%{x}<br>t-SNE Component 2=%{y}<br>Patch=%{customdata[1]}<extra></extra>",
         "legendgroup": "UNKNOWN",
         "marker": {
          "color": "#636efa",
          "size": 8,
          "symbol": "circle"
         },
         "mode": "markers",
         "name": "UNKNOWN",
         "showlegend": true,
         "type": "scattergl",
         "x": {
          "bdata": "0JKxwPsnu8BPBsDAzDvFwJOHzsC1b9rAc537wKJw/8CTZv7AH5TAwCCA6MC3qxfBgsIgwfm5IsF7KiLBumwlwW0vKsFSAy7BPX4pwa2hWsA=",
          "dtype": "f4"
         },
         "xaxis": "x",
         "y": {
          "bdata": "5JYtQUtXMEGWkjFBLfM1QTcNNEHOy0BBNNtLQYrlNEHDWDVB8tJKQfYaUkHLKkpBmsVEQUtlQEFCTDVB/HIpQX6aKkE3zyhBLFIwQSLDrb0=",
          "dtype": "f4"
         },
         "yaxis": "y"
        }
       ],
       "layout": {
        "height": 800,
        "legend": {
         "title": {
          "text": "Champion"
         },
         "tracegroupgap": 0,
         "x": 1.02,
         "xanchor": "left",
         "y": 0.99,
         "yanchor": "top"
        },
        "showlegend": true,
        "template": {
         "data": {
          "bar": [
           {
            "error_x": {
             "color": "#2a3f5f"
            },
            "error_y": {
             "color": "#2a3f5f"
            },
            "marker": {
             "line": {
              "color": "#E5ECF6",
              "width": 0.5
             },
             "pattern": {
              "fillmode": "overlay",
              "size": 10,
              "solidity": 0.2
             }
            },
            "type": "bar"
           }
          ],
          "barpolar": [
           {
            "marker": {
             "line": {
              "color": "#E5ECF6",
              "width": 0.5
             },
             "pattern": {
              "fillmode": "overlay",
              "size": 10,
              "solidity": 0.2
             }
            },
            "type": "barpolar"
           }
          ],
          "carpet": [
           {
            "aaxis": {
             "endlinecolor": "#2a3f5f",
             "gridcolor": "white",
             "linecolor": "white",
             "minorgridcolor": "white",
             "startlinecolor": "#2a3f5f"
            },
            "baxis": {
             "endlinecolor": "#2a3f5f",
             "gridcolor": "white",
             "linecolor": "white",
             "minorgridcolor": "white",
             "startlinecolor": "#2a3f5f"
            },
            "type": "carpet"
           }
          ],
          "choropleth": [
           {
            "colorbar": {
             "outlinewidth": 0,
             "ticks": ""
            },
            "type": "choropleth"
           }
          ],
          "contour": [
           {
            "colorbar": {
             "outlinewidth": 0,
             "ticks": ""
            },
            "colorscale": [
             [
              0,
              "#0d0887"
             ],
             [
              0.1111111111111111,
              "#46039f"
             ],
             [
              0.2222222222222222,
              "#7201a8"
             ],
             [
              0.3333333333333333,
              "#9c179e"
             ],
             [
              0.4444444444444444,
              "#bd3786"
             ],
             [
              0.5555555555555556,
              "#d8576b"
             ],
             [
              0.6666666666666666,
              "#ed7953"
             ],
             [
              0.7777777777777778,
              "#fb9f3a"
             ],
             [
              0.8888888888888888,
              "#fdca26"
             ],
             [
              1,
              "#f0f921"
             ]
            ],
            "type": "contour"
           }
          ],
          "contourcarpet": [
           {
            "colorbar": {
             "outlinewidth": 0,
             "ticks": ""
            },
            "type": "contourcarpet"
           }
          ],
          "heatmap": [
           {
            "colorbar": {
             "outlinewidth": 0,
             "ticks": ""
            },
            "colorscale": [
             [
              0,
              "#0d0887"
             ],
             [
              0.1111111111111111,
              "#46039f"
             ],
             [
              0.2222222222222222,
              "#7201a8"
             ],
             [
              0.3333333333333333,
              "#9c179e"
             ],
             [
              0.4444444444444444,
              "#bd3786"
             ],
             [
              0.5555555555555556,
              "#d8576b"
             ],
             [
              0.6666666666666666,
              "#ed7953"
             ],
             [
              0.7777777777777778,
              "#fb9f3a"
             ],
             [
              0.8888888888888888,
              "#fdca26"
             ],
             [
              1,
              "#f0f921"
             ]
            ],
            "type": "heatmap"
           }
          ],
          "histogram": [
           {
            "marker": {
             "pattern": {
              "fillmode": "overlay",
              "size": 10,
              "solidity": 0.2
             }
            },
            "type": "histogram"
           }
          ],
          "histogram2d": [
           {
            "colorbar": {
             "outlinewidth": 0,
             "ticks": ""
            },
            "colorscale": [
             [
              0,
              "#0d0887"
             ],
             [
              0.1111111111111111,
              "#46039f"
             ],
             [
              0.2222222222222222,
              "#7201a8"
             ],
             [
              0.3333333333333333,
              "#9c179e"
             ],
             [
              0.4444444444444444,
              "#bd3786"
             ],
             [
              0.5555555555555556,
              "#d8576b"
             ],
             [
              0.6666666666666666,
              "#ed7953"
             ],
             [
              0.7777777777777778,
              "#fb9f3a"
             ],
             [
              0.8888888888888888,
              "#fdca26"
             ],
             [
              1,
              "#f0f921"
             ]
            ],
            "type": "histogram2d"
           }
          ],
          "histogram2dcontour": [
           {
            "colorbar": {
             "outlinewidth": 0,
             "ticks": ""
            },
            "colorscale": [
             [
              0,
              "#0d0887"
             ],
             [
              0.1111111111111111,
              "#46039f"
             ],
             [
              0.2222222222222222,
              "#7201a8"
             ],
             [
              0.3333333333333333,
              "#9c179e"
             ],
             [
              0.4444444444444444,
              "#bd3786"
             ],
             [
              0.5555555555555556,
              "#d8576b"
             ],
             [
              0.6666666666666666,
              "#ed7953"
             ],
             [
              0.7777777777777778,
              "#fb9f3a"
             ],
             [
              0.8888888888888888,
              "#fdca26"
             ],
             [
              1,
              "#f0f921"
             ]
            ],
            "type": "histogram2dcontour"
           }
          ],
          "mesh3d": [
           {
            "colorbar": {
             "outlinewidth": 0,
             "ticks": ""
            },
            "type": "mesh3d"
           }
          ],
          "parcoords": [
           {
            "line": {
             "colorbar": {
              "outlinewidth": 0,
              "ticks": ""
             }
            },
            "type": "parcoords"
           }
          ],
          "pie": [
           {
            "automargin": true,
            "type": "pie"
           }
          ],
          "scatter": [
           {
            "fillpattern": {
             "fillmode": "overlay",
             "size": 10,
             "solidity": 0.2
            },
            "type": "scatter"
           }
          ],
          "scatter3d": [
           {
            "line": {
             "colorbar": {
              "outlinewidth": 0,
              "ticks": ""
             }
            },
            "marker": {
             "colorbar": {
              "outlinewidth": 0,
              "ticks": ""
             }
            },
            "type": "scatter3d"
           }
          ],
          "scattercarpet": [
           {
            "marker": {
             "colorbar": {
              "outlinewidth": 0,
              "ticks": ""
             }
            },
            "type": "scattercarpet"
           }
          ],
          "scattergeo": [
           {
            "marker": {
             "colorbar": {
              "outlinewidth": 0,
              "ticks": ""
             }
            },
            "type": "scattergeo"
           }
          ],
          "scattergl": [
           {
            "marker": {
             "colorbar": {
              "outlinewidth": 0,
              "ticks": ""
             }
            },
            "type": "scattergl"
           }
          ],
          "scattermap": [
           {
            "marker": {
             "colorbar": {
              "outlinewidth": 0,
              "ticks": ""
             }
            },
            "type": "scattermap"
           }
          ],
          "scattermapbox": [
           {
            "marker": {
             "colorbar": {
              "outlinewidth": 0,
              "ticks": ""
             }
            },
            "type": "scattermapbox"
           }
          ],
          "scatterpolar": [
           {
            "marker": {
             "colorbar": {
              "outlinewidth": 0,
              "ticks": ""
             }
            },
            "type": "scatterpolar"
           }
          ],
          "scatterpolargl": [
           {
            "marker": {
             "colorbar": {
              "outlinewidth": 0,
              "ticks": ""
             }
            },
            "type": "scatterpolargl"
           }
          ],
          "scatterternary": [
           {
            "marker": {
             "colorbar": {
              "outlinewidth": 0,
              "ticks": ""
             }
            },
            "type": "scatterternary"
           }
          ],
          "surface": [
           {
            "colorbar": {
             "outlinewidth": 0,
             "ticks": ""
            },
            "colorscale": [
             [
              0,
              "#0d0887"
             ],
             [
              0.1111111111111111,
              "#46039f"
             ],
             [
              0.2222222222222222,
              "#7201a8"
             ],
             [
              0.3333333333333333,
              "#9c179e"
             ],
             [
              0.4444444444444444,
              "#bd3786"
             ],
             [
              0.5555555555555556,
              "#d8576b"
             ],
             [
              0.6666666666666666,
              "#ed7953"
             ],
             [
              0.7777777777777778,
              "#fb9f3a"
             ],
             [
              0.8888888888888888,
              "#fdca26"
             ],
             [
              1,
              "#f0f921"
             ]
            ],
            "type": "surface"
           }
          ],
          "table": [
           {
            "cells": {
             "fill": {
              "color": "#EBF0F8"
             },
             "line": {
              "color": "white"
             }
            },
            "header": {
             "fill": {
              "color": "#C8D4E3"
             },
             "line": {
              "color": "white"
             }
            },
            "type": "table"
           }
          ]
         },
         "layout": {
          "annotationdefaults": {
           "arrowcolor": "#2a3f5f",
           "arrowhead": 0,
           "arrowwidth": 1
          },
          "autotypenumbers": "strict",
          "coloraxis": {
           "colorbar": {
            "outlinewidth": 0,
            "ticks": ""
           }
          },
          "colorscale": {
           "diverging": [
            [
             0,
             "#8e0152"
            ],
            [
             0.1,
             "#c51b7d"
            ],
            [
             0.2,
             "#de77ae"
            ],
            [
             0.3,
             "#f1b6da"
            ],
            [
             0.4,
             "#fde0ef"
            ],
            [
             0.5,
             "#f7f7f7"
            ],
            [
             0.6,
             "#e6f5d0"
            ],
            [
             0.7,
             "#b8e186"
            ],
            [
             0.8,
             "#7fbc41"
            ],
            [
             0.9,
             "#4d9221"
            ],
            [
             1,
             "#276419"
            ]
           ],
           "sequential": [
            [
             0,
             "#0d0887"
            ],
            [
             0.1111111111111111,
             "#46039f"
            ],
            [
             0.2222222222222222,
             "#7201a8"
            ],
            [
             0.3333333333333333,
             "#9c179e"
            ],
            [
             0.4444444444444444,
             "#bd3786"
            ],
            [
             0.5555555555555556,
             "#d8576b"
            ],
            [
             0.6666666666666666,
             "#ed7953"
            ],
            [
             0.7777777777777778,
             "#fb9f3a"
            ],
            [
             0.8888888888888888,
             "#fdca26"
            ],
            [
             1,
             "#f0f921"
            ]
           ],
           "sequentialminus": [
            [
             0,
             "#0d0887"
            ],
            [
             0.1111111111111111,
             "#46039f"
            ],
            [
             0.2222222222222222,
             "#7201a8"
            ],
            [
             0.3333333333333333,
             "#9c179e"
            ],
            [
             0.4444444444444444,
             "#bd3786"
            ],
            [
             0.5555555555555556,
             "#d8576b"
            ],
            [
             0.6666666666666666,
             "#ed7953"
            ],
            [
             0.7777777777777778,
             "#fb9f3a"
            ],
            [
             0.8888888888888888,
             "#fdca26"
            ],
            [
             1,
             "#f0f921"
            ]
           ]
          },
          "colorway": [
           "#636efa",
           "#EF553B",
           "#00cc96",
           "#ab63fa",
           "#FFA15A",
           "#19d3f3",
           "#FF6692",
           "#B6E880",
           "#FF97FF",
           "#FECB52"
          ],
          "font": {
           "color": "#2a3f5f"
          },
          "geo": {
           "bgcolor": "white",
           "lakecolor": "white",
           "landcolor": "#E5ECF6",
           "showlakes": true,
           "showland": true,
           "subunitcolor": "white"
          },
          "hoverlabel": {
           "align": "left"
          },
          "hovermode": "closest",
          "mapbox": {
           "style": "light"
          },
          "paper_bgcolor": "white",
          "plot_bgcolor": "#E5ECF6",
          "polar": {
           "angularaxis": {
            "gridcolor": "white",
            "linecolor": "white",
            "ticks": ""
           },
           "bgcolor": "#E5ECF6",
           "radialaxis": {
            "gridcolor": "white",
            "linecolor": "white",
            "ticks": ""
           }
          },
          "scene": {
           "xaxis": {
            "backgroundcolor": "#E5ECF6",
            "gridcolor": "white",
            "gridwidth": 2,
            "linecolor": "white",
            "showbackground": true,
            "ticks": "",
            "zerolinecolor": "white"
           },
           "yaxis": {
            "backgroundcolor": "#E5ECF6",
            "gridcolor": "white",
            "gridwidth": 2,
            "linecolor": "white",
            "showbackground": true,
            "ticks": "",
            "zerolinecolor": "white"
           },
           "zaxis": {
            "backgroundcolor": "#E5ECF6",
            "gridcolor": "white",
            "gridwidth": 2,
            "linecolor": "white",
            "showbackground": true,
            "ticks": "",
            "zerolinecolor": "white"
           }
          },
          "shapedefaults": {
           "line": {
            "color": "#2a3f5f"
           }
          },
          "ternary": {
           "aaxis": {
            "gridcolor": "white",
            "linecolor": "white",
            "ticks": ""
           },
           "baxis": {
            "gridcolor": "white",
            "linecolor": "white",
            "ticks": ""
           },
           "bgcolor": "#E5ECF6",
           "caxis": {
            "gridcolor": "white",
            "linecolor": "white",
            "ticks": ""
           }
          },
          "title": {
           "x": 0.05
          },
          "xaxis": {
           "automargin": true,
           "gridcolor": "white",
           "linecolor": "white",
           "ticks": "",
           "title": {
            "standoff": 15
           },
           "zerolinecolor": "white",
           "zerolinewidth": 2
          },
          "yaxis": {
           "automargin": true,
           "gridcolor": "white",
           "linecolor": "white",
           "ticks": "",
           "title": {
            "standoff": 15
           },
           "zerolinecolor": "white",
           "zerolinewidth": 2
          }
         }
        },
        "title": {
         "text": "Champion-Patch Embedding Visualization (t-SNE)"
        },
        "width": 1200,
        "xaxis": {
         "anchor": "y",
         "domain": [
          0,
          1
         ],
         "title": {
          "text": "t-SNE Component 1"
         }
        },
        "yaxis": {
         "anchor": "x",
         "domain": [
          0,
          1
         ],
         "title": {
          "text": "t-SNE Component 2"
         }
        }
       }
      }
     },
     "metadata": {},
     "output_type": "display_data"
    },
    {
     "name": "stdout",
     "output_type": "stream",
     "text": [
      "\n",
      "Analyzing patch-to-patch distances for champions:\n",
      "Annie: Max distance between patches = 0.4271\n",
      "Kayle: Max distance between patches = 0.4528\n",
      "Xerath: Max distance between patches = 0.3076\n",
      "Shyvana: Max distance between patches = 0.4151\n",
      "Ahri: Max distance between patches = 0.3555\n",
      "Graves: Max distance between patches = 0.3945\n",
      "Fizz: Max distance between patches = 0.2599\n",
      "Volibear: Max distance between patches = 0.3726\n",
      "Rengar: Max distance between patches = 0.3920\n",
      "Master Yi: Max distance between patches = 0.4143\n",
      "Varus: Max distance between patches = 0.4517\n",
      "Nautilus: Max distance between patches = 0.3113\n",
      "Viktor: Max distance between patches = 0.3580\n",
      "Sejuani: Max distance between patches = 0.3893\n",
      "Fiora: Max distance between patches = 0.3434\n",
      "Ziggs: Max distance between patches = 0.4617\n",
      "Lulu: Max distance between patches = 0.3118\n",
      "Draven: Max distance between patches = 0.3110\n",
      "Alistar: Max distance between patches = 0.3551\n",
      "Hecarim: Max distance between patches = 0.2933\n",
      "Kha'Zix: Max distance between patches = 0.3600\n",
      "Darius: Max distance between patches = 0.4478\n",
      "Jayce: Max distance between patches = 0.3641\n",
      "Lissandra: Max distance between patches = 0.3699\n",
      "Ryze: Max distance between patches = 0.4263\n",
      "Diana: Max distance between patches = 0.3888\n",
      "Quinn: Max distance between patches = 0.4736\n",
      "Syndra: Max distance between patches = 0.2741\n",
      "Aurelion Sol: Max distance between patches = 0.4305\n",
      "Sion: Max distance between patches = 0.3822\n",
      "Kayn: Max distance between patches = 0.2945\n",
      "Zoe: Max distance between patches = 0.4075\n",
      "Zyra: Max distance between patches = 0.3182\n",
      "Kai'Sa: Max distance between patches = 0.3512\n",
      "Seraphine: Max distance between patches = 0.4515\n",
      "Sivir: Max distance between patches = 0.3619\n",
      "Gnar: Max distance between patches = 0.3508\n",
      "Zac: Max distance between patches = 0.4029\n",
      "Yasuo: Max distance between patches = 0.2919\n",
      "Soraka: Max distance between patches = 0.3242\n",
      "Vel'Koz: Max distance between patches = 0.3931\n",
      "Taliyah: Max distance between patches = 0.3725\n",
      "Camille: Max distance between patches = 0.3601\n",
      "Akshan: Max distance between patches = 0.3844\n",
      "Teemo: Max distance between patches = 0.4942\n",
      "Tristana: Max distance between patches = 0.6502\n",
      "Warwick: Max distance between patches = 0.3435\n",
      "Olaf: Max distance between patches = 0.3596\n",
      "Nunu & Willump: Max distance between patches = 0.3262\n",
      "Bel'Veth: Max distance between patches = 0.3827\n",
      "Braum: Max distance between patches = 0.3674\n",
      "Jhin: Max distance between patches = 0.3338\n",
      "Kindred: Max distance between patches = 0.4290\n",
      "Miss Fortune: Max distance between patches = 0.3754\n",
      "Ashe: Max distance between patches = 0.3935\n",
      "Zeri: Max distance between patches = 0.5075\n",
      "Jinx: Max distance between patches = 0.2962\n",
      "Tahm Kench: Max distance between patches = 0.4838\n",
      "Tryndamere: Max distance between patches = 0.4243\n",
      "Briar: Max distance between patches = 0.5207\n",
      "Viego: Max distance between patches = 0.3562\n",
      "Senna: Max distance between patches = 0.5867\n",
      "Lucian: Max distance between patches = 0.4133\n",
      "Zed: Max distance between patches = 0.3208\n",
      "Jax: Max distance between patches = 0.3704\n",
      "Kled: Max distance between patches = 0.5127\n",
      "Ekko: Max distance between patches = 0.2950\n",
      "Qiyana: Max distance between patches = 0.4044\n",
      "Morgana: Max distance between patches = 0.4923\n",
      "Vi: Max distance between patches = 0.3717\n",
      "Zilean: Max distance between patches = 0.4143\n",
      "Aatrox: Max distance between patches = 0.3326\n",
      "Nami: Max distance between patches = 0.2428\n",
      "Azir: Max distance between patches = 0.3441\n",
      "Singed: Max distance between patches = 0.5267\n",
      "Evelynn: Max distance between patches = 0.3884\n",
      "Twitch: Max distance between patches = 0.4973\n",
      "Galio: Max distance between patches = 0.3419\n",
      "Karthus: Max distance between patches = 0.3696\n",
      "Cho'Gath: Max distance between patches = 0.4751\n",
      "Amumu: Max distance between patches = 0.3545\n",
      "Rammus: Max distance between patches = 0.4858\n",
      "Anivia: Max distance between patches = 0.3894\n",
      "Shaco: Max distance between patches = 0.4655\n",
      "Yuumi: Max distance between patches = 0.4213\n",
      "Dr. Mundo: Max distance between patches = 0.4095\n",
      "Samira: Max distance between patches = 0.3224\n",
      "Sona: Max distance between patches = 0.3294\n",
      "Kassadin: Max distance between patches = 0.3836\n",
      "Irelia: Max distance between patches = 0.3720\n",
      "Twisted Fate: Max distance between patches = 0.3537\n",
      "Janna: Max distance between patches = 0.2707\n",
      "Gangplank: Max distance between patches = 0.3553\n",
      "Thresh: Max distance between patches = 0.2729\n",
      "Corki: Max distance between patches = 0.5876\n",
      "Illaoi: Max distance between patches = 0.3448\n",
      "Rek'Sai: Max distance between patches = 0.4787\n",
      "Ivern: Max distance between patches = 0.4083\n",
      "Kalista: Max distance between patches = 0.3092\n",
      "Karma: Max distance between patches = 0.3578\n",
      "Bard: Max distance between patches = 0.3672\n",
      "Taric: Max distance between patches = 0.3902\n",
      "Veigar: Max distance between patches = 0.4687\n",
      "Trundle: Max distance between patches = 0.4125\n",
      "Rakan: Max distance between patches = 0.3342\n",
      "Xayah: Max distance between patches = 0.3616\n",
      "Xin Zhao: Max distance between patches = 0.3759\n",
      "Swain: Max distance between patches = 0.6513\n",
      "Caitlyn: Max distance between patches = 0.3545\n",
      "Ornn: Max distance between patches = 0.3546\n",
      "Sylas: Max distance between patches = 0.4010\n",
      "Neeko: Max distance between patches = 0.4404\n",
      "Aphelios: Max distance between patches = 0.3963\n",
      "Rell: Max distance between patches = 0.3867\n",
      "Blitzcrank: Max distance between patches = 0.3168\n",
      "Malphite: Max distance between patches = 0.3275\n",
      "Katarina: Max distance between patches = 0.3450\n",
      "Pyke: Max distance between patches = 0.4379\n",
      "Nocturne: Max distance between patches = 0.3355\n",
      "Maokai: Max distance between patches = 0.4783\n",
      "Renekton: Max distance between patches = 0.2869\n",
      "Jarvan IV: Max distance between patches = 0.3251\n",
      "Urgot: Max distance between patches = 0.3886\n",
      "Elise: Max distance between patches = 0.4673\n",
      "Orianna: Max distance between patches = 0.2835\n",
      "Wukong: Max distance between patches = 0.4052\n",
      "Brand: Max distance between patches = 0.4925\n",
      "Lee Sin: Max distance between patches = 0.3179\n",
      "Vayne: Max distance between patches = 0.4618\n",
      "Rumble: Max distance between patches = 0.3755\n",
      "Cassiopeia: Max distance between patches = 0.3879\n",
      "LeBlanc: Max distance between patches = 0.4338\n",
      "Vex: Max distance between patches = 0.3451\n",
      "Skarner: Max distance between patches = 0.7076\n",
      "Heimerdinger: Max distance between patches = 0.4752\n",
      "Nasus: Max distance between patches = 0.4812\n",
      "Nidalee: Max distance between patches = 0.4344\n",
      "Udyr: Max distance between patches = 0.3772\n",
      "Yone: Max distance between patches = 0.3830\n",
      "Poppy: Max distance between patches = 0.3833\n",
      "Gragas: Max distance between patches = 0.3656\n",
      "Ambessa: Max distance between patches = 0.3974\n",
      "Vladimir: Max distance between patches = 0.3154\n",
      "Pantheon: Max distance between patches = 0.3869\n",
      "Mel: Max distance between patches = 0.4188\n",
      "Ezreal: Max distance between patches = 0.3729\n",
      "Mordekaiser: Max distance between patches = 0.3702\n",
      "Yorick: Max distance between patches = 0.4595\n",
      "Akali: Max distance between patches = 0.3273\n",
      "Kennen: Max distance between patches = 0.3812\n",
      "Garen: Max distance between patches = 0.4164\n",
      "Sett: Max distance between patches = 0.3181\n",
      "Lillia: Max distance between patches = 0.3629\n",
      "Gwen: Max distance between patches = 0.3867\n",
      "Renata Glasc: Max distance between patches = 0.4275\n",
      "Leona: Max distance between patches = 0.3737\n",
      "Aurora: Max distance between patches = 0.4577\n",
      "Nilah: Max distance between patches = 0.4009\n",
      "K'Sante: Max distance between patches = 0.3418\n",
      "Fiddlesticks: Max distance between patches = 0.5395\n",
      "Malzahar: Max distance between patches = 0.3732\n",
      "Smolder: Max distance between patches = 0.5381\n",
      "Milio: Max distance between patches = 0.2977\n",
      "Talon: Max distance between patches = 0.3728\n",
      "Hwei: Max distance between patches = 0.3467\n",
      "Riven: Max distance between patches = 0.3536\n",
      "Naafiri: Max distance between patches = 0.5475\n",
      "Kog'Maw: Max distance between patches = 0.4310\n",
      "Shen: Max distance between patches = 0.4376\n",
      "Lux: Max distance between patches = 0.3627\n",
      "UNKNOWN: Max distance between patches = 0.1403\n"
     ]
    }
   ],
   "source": [
    "# Prepare data for visualization\n",
    "champion_patch_data = []\n",
    "for champ_idx in range(num_champions):\n",
    "    champ_id = champion_id_encoder.classes_[champ_idx]\n",
    "    try:\n",
    "        champ_id = int(champ_id)\n",
    "        champ_name = id_to_name.get(champ_id, f\"Unknown ID {champ_id}\")\n",
    "    except ValueError:\n",
    "        champ_name = str(champ_id)\n",
    "\n",
    "    for patch_idx in range(num_patches):\n",
    "        embed_idx = champ_idx * num_patches + patch_idx\n",
    "        patch_value = patch_values[patch_idx]\n",
    "        embedding = embeddings[embed_idx]\n",
    "\n",
    "        champion_patch_data.append(\n",
    "            {\n",
    "                \"embedding\": embedding,\n",
    "                \"champion\": champ_name,\n",
    "                \"patch\": patch_value,\n",
    "                \"label\": f\"{champ_name} ({patch_value})\",\n",
    "            }\n",
    "        )\n",
    "\n",
    "# Convert embeddings to 2D using t-SNE\n",
    "all_embeddings = np.stack([data[\"embedding\"] for data in champion_patch_data])\n",
    "tsne = TSNE(n_components=2, random_state=42)\n",
    "embeddings_2d = tsne.fit_transform(all_embeddings)\n",
    "\n",
    "# Create DataFrame for plotting\n",
    "df = pd.DataFrame(\n",
    "    {\n",
    "        \"x\": embeddings_2d[:, 0],\n",
    "        \"y\": embeddings_2d[:, 1],\n",
    "        \"Champion\": [data[\"champion\"] for data in champion_patch_data],\n",
    "        \"Patch\": [data[\"patch\"] for data in champion_patch_data],\n",
    "        \"Label\": [data[\"label\"] for data in champion_patch_data],\n",
    "    }\n",
    ")\n",
    "\n",
    "# Create interactive plot with Plotly\n",
    "fig = px.scatter(\n",
    "    df,\n",
    "    x=\"x\",\n",
    "    y=\"y\",\n",
    "    color=\"Champion\",\n",
    "    hover_data=[\"Champion\", \"Patch\"],\n",
    "    title=\"Champion-Patch Embedding Visualization (t-SNE)\",\n",
    "    labels={\"x\": \"t-SNE Component 1\", \"y\": \"t-SNE Component 2\"},\n",
    ")\n",
    "\n",
    "# Update traces for better visualization\n",
    "fig.update_traces(marker=dict(size=8), selector=dict(mode=\"markers\"))\n",
    "\n",
    "# Update layout\n",
    "fig.update_layout(\n",
    "    showlegend=True,\n",
    "    legend=dict(yanchor=\"top\", y=0.99, xanchor=\"left\", x=1.02),\n",
    "    width=1200,\n",
    "    height=800,\n",
    ")\n",
    "\n",
    "# Show plot\n",
    "fig.show()\n",
    "\n",
    "# Optional: Calculate and display patch-to-patch distances for each champion\n",
    "print(\"\\nAnalyzing patch-to-patch distances for champions:\")\n",
    "for champ_idx in range(num_champions):\n",
    "    champ_id = champion_id_encoder.classes_[champ_idx]\n",
    "    try:\n",
    "        champ_id = int(champ_id)\n",
    "        champ_name = id_to_name.get(champ_id, f\"Unknown ID {champ_id}\")\n",
    "    except ValueError:\n",
    "        champ_name = str(champ_id)\n",
    "\n",
    "    patch_embeds = embeddings[champ_idx * num_patches : (champ_idx + 1) * num_patches]\n",
    "    max_dist = np.max(np.linalg.norm(patch_embeds[:, None] - patch_embeds, axis=2))\n",
    "    print(f\"{champ_name}: Max distance between patches = {max_dist:.4f}\")"
   ]
  },
  {
   "cell_type": "markdown",
   "metadata": {},
   "source": [
    "# Champions 3D visualization"
   ]
  },
  {
   "cell_type": "code",
   "execution_count": 3,
   "metadata": {},
   "outputs": [],
   "source": [
    "# Perform t-SNE dimensionality reduction to 3D\n",
    "from sklearn.manifold import TSNE\n",
    "import plotly.express as px\n",
    "import pandas as pd\n",
    "\n",
    "# Create t-SNE embeddings\n",
    "tsne = TSNE(n_components=3, random_state=42, perplexity=30)\n",
    "embeddings_3d = tsne.fit_transform(\n",
    "    embeddings\n",
    ")  # shape: (num_champions * num_patches, 3)"
   ]
  },
  {
   "cell_type": "code",
   "execution_count": 4,
   "metadata": {},
   "outputs": [
    {
     "data": {
      "application/vnd.plotly.v1+json": {
       "config": {
        "plotlyServerURL": "https://plot.ly"
       },
       "data": [
        {
         "customdata": [
          [
           "Annie",
           0
          ],
          [
           "Annie",
           1
          ],
          [
           "Annie",
           2
          ],
          [
           "Annie",
           3
          ],
          [
           "Annie",
           4
          ],
          [
           "Annie",
           5
          ],
          [
           "Annie",
           6
          ],
          [
           "Annie",
           7
          ],
          [
           "Annie",
           8
          ],
          [
           "Annie",
           9
          ],
          [
           "Annie",
           10
          ],
          [
           "Annie",
           11
          ],
          [
           "Annie",
           12
          ],
          [
           "Annie",
           13
          ],
          [
           "Annie",
           14
          ],
          [
           "Annie",
           15
          ],
          [
           "Annie",
           16
          ],
          [
           "Annie",
           17
          ],
          [
           "Annie",
           18
          ],
          [
           "Annie",
           18
          ]
         ],
         "hovertemplate": "champion=%{customdata[0]}<br>x=%{x}<br>y=%{y}<br>z=%{z}<br>patch=%{customdata[1]}<extra></extra>",
         "legendgroup": "Annie",
         "marker": {
          "color": "#636efa",
          "size": 5,
          "symbol": "circle"
         },
         "mode": "markers",
         "name": "Annie",
         "scene": "scene",
         "showlegend": true,
         "type": "scatter3d",
         "visible": "legendonly",
         "x": {
          "bdata": "5nOHQWla90GivCNCgOSEQVeNzjzmIvpBYhidQUYMLkFPtI1AX74TQva3KUKMujJCMyKJv3lvmMECvd7AXMcCwm7LgsHvDYDBP0SSweVIskE=",
          "dtype": "f4"
         },
         "y": {
          "bdata": "x+LcwF6MJUEtTpFAXKl1wUXzAcKzqOq/C3vXQHsoicHKvL3AJUNmwDT3scB6M/PAjVb3v0H/1cHy5dXBiE56wWjc1cBPiuJA4pTQwV6g2sA=",
          "dtype": "f4"
         },
         "z": {
          "bdata": "v+yfQA8KIMGQviPBhkPUwWnaj8EM95++tjsfwQUlDULPZCVCu1u3QOl2rEBPS5BAT/SnwTy+h8AdxkdBh3F6QaFDEELbrp1BACCSQTLyhEE=",
          "dtype": "f4"
         }
        },
        {
         "customdata": [
          [
           "Kayle",
           0
          ],
          [
           "Kayle",
           1
          ],
          [
           "Kayle",
           2
          ],
          [
           "Kayle",
           3
          ],
          [
           "Kayle",
           4
          ],
          [
           "Kayle",
           5
          ],
          [
           "Kayle",
           6
          ],
          [
           "Kayle",
           7
          ],
          [
           "Kayle",
           8
          ],
          [
           "Kayle",
           9
          ],
          [
           "Kayle",
           10
          ],
          [
           "Kayle",
           11
          ],
          [
           "Kayle",
           12
          ],
          [
           "Kayle",
           13
          ],
          [
           "Kayle",
           14
          ],
          [
           "Kayle",
           15
          ],
          [
           "Kayle",
           16
          ],
          [
           "Kayle",
           17
          ],
          [
           "Kayle",
           18
          ],
          [
           "Kayle",
           18
          ]
         ],
         "hovertemplate": "champion=%{customdata[0]}<br>x=%{x}<br>y=%{y}<br>z=%{z}<br>patch=%{customdata[1]}<extra></extra>",
         "legendgroup": "Kayle",
         "marker": {
          "color": "#EF553B",
          "size": 5,
          "symbol": "circle"
         },
         "mode": "markers",
         "name": "Kayle",
         "scene": "scene",
         "showlegend": true,
         "type": "scatter3d",
         "visible": "legendonly",
         "x": {
          "bdata": "nOk0wsxT18GUmQTCck6zwKud4EErqwJCg3X4QTQqxkGRl89BrfhuQaCqm0HXZRLBpNE0QZ2E4sHIccXBxngNwjjkDcLlJLrBi04AwjtDf8E=",
          "dtype": "f4"
         },
         "y": {
          "bdata": "Y+2WP4rHqsEANbXBdjh4QcN2vMFc0YfBXfoAQbhXq8GNbJ3BPqUBwlu3AsIyowrCV5KHwUm9jMFZ/97BwpRywTdKbsFKAyPBZkXcwZ9DrcE=",
          "dtype": "f4"
         },
         "z": {
          "bdata": "yVcLwfS/DUEMDnY/Nfl/P4b5HkDahs1B0UWjweuu+79ln2xASz94QR0DakG98pFBEjmpQOWIDkEu5dLApIO2wRYdp8HCSRFA5QSPQfoZYME=",
          "dtype": "f4"
         }
        },
        {
         "customdata": [
          [
           "Xerath",
           0
          ],
          [
           "Xerath",
           1
          ],
          [
           "Xerath",
           2
          ],
          [
           "Xerath",
           3
          ],
          [
           "Xerath",
           4
          ],
          [
           "Xerath",
           5
          ],
          [
           "Xerath",
           6
          ],
          [
           "Xerath",
           7
          ],
          [
           "Xerath",
           8
          ],
          [
           "Xerath",
           9
          ],
          [
           "Xerath",
           10
          ],
          [
           "Xerath",
           11
          ],
          [
           "Xerath",
           12
          ],
          [
           "Xerath",
           13
          ],
          [
           "Xerath",
           14
          ],
          [
           "Xerath",
           15
          ],
          [
           "Xerath",
           16
          ],
          [
           "Xerath",
           17
          ],
          [
           "Xerath",
           18
          ],
          [
           "Xerath",
           18
          ]
         ],
         "hovertemplate": "champion=%{customdata[0]}<br>x=%{x}<br>y=%{y}<br>z=%{z}<br>patch=%{customdata[1]}<extra></extra>",
         "legendgroup": "Xerath",
         "marker": {
          "color": "#00cc96",
          "size": 5,
          "symbol": "circle"
         },
         "mode": "markers",
         "name": "Xerath",
         "scene": "scene",
         "showlegend": true,
         "type": "scatter3d",
         "visible": "legendonly",
         "x": {
          "bdata": "zebkQSgUHEJx+KTBXTWgwUF4qkGfMJ3B73wmwcvWC8IYpRFBSs/JQFTktUF12QTAL57KQYLYn0HJukTAqJYuP2Uox0HaZtdB4N31QYkqXD8=",
          "dtype": "f4"
         },
         "y": {
          "bdata": "M+kqQfUCVUE38IlBlwWXQVw1o0DKa6RBspOTQSvx78F24XrBwT/6QY7Qj0CIkpu/2tKbQS0Xv0EtV6/BNJKMPkEXl8B4lQtBSoMTwPShRMA=",
          "dtype": "f4"
         },
         "z": {
          "bdata": "d9jAQWjRVUHHWoTB9JQywRCQgsFad8/BlFOFQfwMV0FQ64jAet8Fwpm4ksF11w/CR1z/wYBcKkBloO/A6kFYQSKDOcHjTLtBQfd+QfOz0kA=",
          "dtype": "f4"
         }
        },
        {
         "customdata": [
          [
           "Shyvana",
           0
          ],
          [
           "Shyvana",
           1
          ],
          [
           "Shyvana",
           2
          ],
          [
           "Shyvana",
           3
          ],
          [
           "Shyvana",
           4
          ],
          [
           "Shyvana",
           5
          ],
          [
           "Shyvana",
           6
          ],
          [
           "Shyvana",
           7
          ],
          [
           "Shyvana",
           8
          ],
          [
           "Shyvana",
           9
          ],
          [
           "Shyvana",
           10
          ],
          [
           "Shyvana",
           11
          ],
          [
           "Shyvana",
           12
          ],
          [
           "Shyvana",
           13
          ],
          [
           "Shyvana",
           14
          ],
          [
           "Shyvana",
           15
          ],
          [
           "Shyvana",
           16
          ],
          [
           "Shyvana",
           17
          ],
          [
           "Shyvana",
           18
          ],
          [
           "Shyvana",
           18
          ]
         ],
         "hovertemplate": "champion=%{customdata[0]}<br>x=%{x}<br>y=%{y}<br>z=%{z}<br>patch=%{customdata[1]}<extra></extra>",
         "legendgroup": "Shyvana",
         "marker": {
          "color": "#ab63fa",
          "size": 5,
          "symbol": "circle"
         },
         "mode": "markers",
         "name": "Shyvana",
         "scene": "scene",
         "showlegend": true,
         "type": "scatter3d",
         "visible": "legendonly",
         "x": {
          "bdata": "Ak3KQS0Gjr/hUxNBbV+awJUnxEGDrYtBnRvdwRqXD8C+RL5AZY7TwWvpy8HoJ6JBO1/UQDyi4kEtCStCJ+KOQT5zFUJJ39dBO2etQV6x98A=",
          "dtype": "f4"
         },
         "y": {
          "bdata": "X97kwW00BcJ0syhBo1LWwUWY4MFHVf/BLYDhwai+7EFlX9/BjjUFwngZ10Bm7DfBzIrUwWYhL0Ex3CLADtFTwWd2nMFGE3xBaacXQSrysME=",
          "dtype": "f4"
         },
         "z": {
          "bdata": "ehY3QdO7sUEL9olByfVFvycLgkEcK61ATGCRwQFiEEI0+NO/pVH8wCkSAkFuwYJAcIdaQdgUAUFjfcpAtca8QRxS9j9XEBpBf9oYQWt0+MA=",
          "dtype": "f4"
         }
        },
        {
         "customdata": [
          [
           "Ahri",
           0
          ],
          [
           "Ahri",
           1
          ],
          [
           "Ahri",
           2
          ],
          [
           "Ahri",
           3
          ],
          [
           "Ahri",
           4
          ],
          [
           "Ahri",
           5
          ],
          [
           "Ahri",
           6
          ],
          [
           "Ahri",
           7
          ],
          [
           "Ahri",
           8
          ],
          [
           "Ahri",
           9
          ],
          [
           "Ahri",
           10
          ],
          [
           "Ahri",
           11
          ],
          [
           "Ahri",
           12
          ],
          [
           "Ahri",
           13
          ],
          [
           "Ahri",
           14
          ],
          [
           "Ahri",
           15
          ],
          [
           "Ahri",
           16
          ],
          [
           "Ahri",
           17
          ],
          [
           "Ahri",
           18
          ],
          [
           "Ahri",
           18
          ]
         ],
         "hovertemplate": "champion=%{customdata[0]}<br>x=%{x}<br>y=%{y}<br>z=%{z}<br>patch=%{customdata[1]}<extra></extra>",
         "legendgroup": "Ahri",
         "marker": {
          "color": "#FFA15A",
          "size": 5,
          "symbol": "circle"
         },
         "mode": "markers",
         "name": "Ahri",
         "scene": "scene",
         "showlegend": true,
         "type": "scatter3d",
         "visible": "legendonly",
         "x": {
          "bdata": "pLCWQVtP50HjkB1BRZckQicslUH9nTRCS/y2wVOGAcG+UZPAMnRGv1r9GsEVj5fByRz3wRyTA8Ap5hxB7S7MwF844UCthQPCoGQ0wbZls8A=",
          "dtype": "f4"
         },
         "y": {
          "bdata": "xgjuwMz9DcGol73BG/7gv900ND/o4DY/D4IUwMU5ycEeW8TBLH+MwSfmuMHv2sHB9+zEwW3Ze8FAk8VBfhaHwXGpN8Ener3Bq1h0wfumRT8=",
          "dtype": "f4"
         },
         "z": {
          "bdata": "iCKPwf3Rf8Gn2La/CJsOwTASskFI8h0/bEUMQZP5jUEq+JJBiem0QVWRh0HP7VXBOWMAwWpIkEHW55m/FcVjwVdG50E9eC3BksSMQWGN0UA=",
          "dtype": "f4"
         }
        },
        {
         "customdata": [
          [
           "Graves",
           0
          ],
          [
           "Graves",
           1
          ],
          [
           "Graves",
           2
          ],
          [
           "Graves",
           3
          ],
          [
           "Graves",
           4
          ],
          [
           "Graves",
           5
          ],
          [
           "Graves",
           6
          ],
          [
           "Graves",
           7
          ],
          [
           "Graves",
           8
          ],
          [
           "Graves",
           9
          ],
          [
           "Graves",
           10
          ],
          [
           "Graves",
           11
          ],
          [
           "Graves",
           12
          ],
          [
           "Graves",
           13
          ],
          [
           "Graves",
           14
          ],
          [
           "Graves",
           15
          ],
          [
           "Graves",
           16
          ],
          [
           "Graves",
           17
          ],
          [
           "Graves",
           18
          ],
          [
           "Graves",
           18
          ]
         ],
         "hovertemplate": "champion=%{customdata[0]}<br>x=%{x}<br>y=%{y}<br>z=%{z}<br>patch=%{customdata[1]}<extra></extra>",
         "legendgroup": "Graves",
         "marker": {
          "color": "#19d3f3",
          "size": 5,
          "symbol": "circle"
         },
         "mode": "markers",
         "name": "Graves",
         "scene": "scene",
         "showlegend": true,
         "type": "scatter3d",
         "visible": "legendonly",
         "x": {
          "bdata": "Ek6GwT1Cl8AJ23fBFbp3QWqQCcK/NZ9Be9H/QYyPGcH+ZyrBt7kYwcp1AsFKq7zA22gQwQKtu0EU/gfCRzXpQFtXfUAQbTnBFAC/QbqyIL8=",
          "dtype": "f4"
         },
         "y": {
          "bdata": "5d3sviatOkLG89lB4lgMQvTn4EGrDe5BQZopwVhKB0I+BA5Cd179QegiFkKhZBZCN3gQQrpUnUEnZ8LB/9fhQe5z5UE3YUpAD+LuQDon60A=",
          "dtype": "f4"
         },
         "z": {
          "bdata": "fpgmwJ6vZEH3NzjBykI9wRpnVsESUZvBmV1ywTqxdMGms1DBWgFkwT22Gb4nES7BpxB5wYgV5UDSYInAmgTYwMK5KcEb9DJB3gHEQcc00L8=",
          "dtype": "f4"
         }
        },
        {
         "customdata": [
          [
           "Fizz",
           0
          ],
          [
           "Fizz",
           1
          ],
          [
           "Fizz",
           2
          ],
          [
           "Fizz",
           3
          ],
          [
           "Fizz",
           4
          ],
          [
           "Fizz",
           5
          ],
          [
           "Fizz",
           6
          ],
          [
           "Fizz",
           7
          ],
          [
           "Fizz",
           8
          ],
          [
           "Fizz",
           9
          ],
          [
           "Fizz",
           10
          ],
          [
           "Fizz",
           11
          ],
          [
           "Fizz",
           12
          ],
          [
           "Fizz",
           13
          ],
          [
           "Fizz",
           14
          ],
          [
           "Fizz",
           15
          ],
          [
           "Fizz",
           16
          ],
          [
           "Fizz",
           17
          ],
          [
           "Fizz",
           18
          ],
          [
           "Fizz",
           18
          ]
         ],
         "hovertemplate": "champion=%{customdata[0]}<br>x=%{x}<br>y=%{y}<br>z=%{z}<br>patch=%{customdata[1]}<extra></extra>",
         "legendgroup": "Fizz",
         "marker": {
          "color": "#FF6692",
          "size": 5,
          "symbol": "circle"
         },
         "mode": "markers",
         "name": "Fizz",
         "scene": "scene",
         "showlegend": true,
         "type": "scatter3d",
         "visible": "legendonly",
         "x": {
          "bdata": "I1UMQqyGtEHRSxC/+rKJQJGFrMHub8rB4Lu1wBY08r8VMAVB3bFRQMwLC8F4DNrAS8BovzmgTUGri+hAhJeEwMdMicGRKOVBH4o6QdJyLcE=",
          "dtype": "f4"
         },
         "y": {
          "bdata": "+jwlQWVMysB/HHrBjcelvx2B7L+h1a3A3S7UwXtwUEHzlBPBjTlsQSdxE8EtHojB0kmFwPyMXMGk5PrBGhf1wX+As8AvkCfAnjtywV5+FcE=",
          "dtype": "f4"
         },
         "z": {
          "bdata": "Rn2swCq8KcGVsydAQXYSwHiR+EGFWF1A5jqGwT/HiUD0xcTAm3uXwaX1oEAEisVBPCqdQebijMGRLLNBQZmIQZOXpcAKx5lBNWIAQvIzHkA=",
          "dtype": "f4"
         }
        },
        {
         "customdata": [
          [
           "Volibear",
           0
          ],
          [
           "Volibear",
           1
          ],
          [
           "Volibear",
           2
          ],
          [
           "Volibear",
           3
          ],
          [
           "Volibear",
           4
          ],
          [
           "Volibear",
           5
          ],
          [
           "Volibear",
           6
          ],
          [
           "Volibear",
           7
          ],
          [
           "Volibear",
           8
          ],
          [
           "Volibear",
           9
          ],
          [
           "Volibear",
           10
          ],
          [
           "Volibear",
           11
          ],
          [
           "Volibear",
           12
          ],
          [
           "Volibear",
           13
          ],
          [
           "Volibear",
           14
          ],
          [
           "Volibear",
           15
          ],
          [
           "Volibear",
           16
          ],
          [
           "Volibear",
           17
          ],
          [
           "Volibear",
           18
          ],
          [
           "Volibear",
           18
          ]
         ],
         "hovertemplate": "champion=%{customdata[0]}<br>x=%{x}<br>y=%{y}<br>z=%{z}<br>patch=%{customdata[1]}<extra></extra>",
         "legendgroup": "Volibear",
         "marker": {
          "color": "#B6E880",
          "size": 5,
          "symbol": "circle"
         },
         "mode": "markers",
         "name": "Volibear",
         "scene": "scene",
         "showlegend": true,
         "type": "scatter3d",
         "visible": "legendonly",
         "x": {
          "bdata": "5da7wYCDlsHHmGvBB1eRwUT0zcArD0HBGrlbwKIuCsEtN4HBkuXGwCjijkG/QytAh2klwXv/kkEio4XAGwkUP9e0f0HR8JFBilXXQTHmNUE=",
          "dtype": "f4"
         },
         "y": {
          "bdata": "rYruQbn+AkGDKQrCEhSjvbG6X0Ga4glCI70oQuY71UGEPgBCOJlKwRlUo0DObCtBajq0wWFKO0EMpg+/TvJTQCMevkGHJ0dBrU9+QIfJCkE=",
          "dtype": "f4"
         },
         "z": {
          "bdata": "uwbiQOmCTkCPS2pBvj9hQBJU7sFUzDbBnQ9HwZ/PoMEDVPnAIJXRQQJ75MCRVBHBn4IWwEiK2sAgWXXAlb28QcVTlEHrhLFACd+/QQOOo8A=",
          "dtype": "f4"
         }
        },
        {
         "customdata": [
          [
           "Rengar",
           0
          ],
          [
           "Rengar",
           1
          ],
          [
           "Rengar",
           2
          ],
          [
           "Rengar",
           3
          ],
          [
           "Rengar",
           4
          ],
          [
           "Rengar",
           5
          ],
          [
           "Rengar",
           6
          ],
          [
           "Rengar",
           7
          ],
          [
           "Rengar",
           8
          ],
          [
           "Rengar",
           9
          ],
          [
           "Rengar",
           10
          ],
          [
           "Rengar",
           11
          ],
          [
           "Rengar",
           12
          ],
          [
           "Rengar",
           13
          ],
          [
           "Rengar",
           14
          ],
          [
           "Rengar",
           15
          ],
          [
           "Rengar",
           16
          ],
          [
           "Rengar",
           17
          ],
          [
           "Rengar",
           18
          ],
          [
           "Rengar",
           18
          ]
         ],
         "hovertemplate": "champion=%{customdata[0]}<br>x=%{x}<br>y=%{y}<br>z=%{z}<br>patch=%{customdata[1]}<extra></extra>",
         "legendgroup": "Rengar",
         "marker": {
          "color": "#FF97FF",
          "size": 5,
          "symbol": "circle"
         },
         "mode": "markers",
         "name": "Rengar",
         "scene": "scene",
         "showlegend": true,
         "type": "scatter3d",
         "visible": "legendonly",
         "x": {
          "bdata": "asySwblYBcKXFrrBJIqYwYXiqsEeywTBPdLQwfbzzkG6ls7BBVn+QUh1vsDhGChAoUczweg3W0DedaHBQT8AQjF29cGlwNlAw248wuPjCcE=",
          "dtype": "f4"
         },
         "y": {
          "bdata": "w3r3QVZcv0G7w/FBIrwWQippFkL/Qi9CzvNfQE22a8GD6DrB+RhbwQIjKcLTPD7CGqYswVfJO8JnNZtBQ1rUQSCgY0Ejo1PBY/QCQeFypz4=",
          "dtype": "f4"
         },
         "z": {
          "bdata": "C37JwOY3ZkEYeOTAVsY1PzvDPcBuxMxACdP2wdGky0HCSrjAWr7lwUUGsEF6glvAUp4KvFYBnsD3CprAa5BxQOWGHkHzYqDBpCSMwKxbFcA=",
          "dtype": "f4"
         }
        },
        {
         "customdata": [
          [
           "Master Yi",
           0
          ],
          [
           "Master Yi",
           1
          ],
          [
           "Master Yi",
           2
          ],
          [
           "Master Yi",
           3
          ],
          [
           "Master Yi",
           4
          ],
          [
           "Master Yi",
           5
          ],
          [
           "Master Yi",
           6
          ],
          [
           "Master Yi",
           7
          ],
          [
           "Master Yi",
           8
          ],
          [
           "Master Yi",
           9
          ],
          [
           "Master Yi",
           10
          ],
          [
           "Master Yi",
           11
          ],
          [
           "Master Yi",
           12
          ],
          [
           "Master Yi",
           13
          ],
          [
           "Master Yi",
           14
          ],
          [
           "Master Yi",
           15
          ],
          [
           "Master Yi",
           16
          ],
          [
           "Master Yi",
           17
          ],
          [
           "Master Yi",
           18
          ],
          [
           "Master Yi",
           18
          ]
         ],
         "hovertemplate": "champion=%{customdata[0]}<br>x=%{x}<br>y=%{y}<br>z=%{z}<br>patch=%{customdata[1]}<extra></extra>",
         "legendgroup": "Master Yi",
         "marker": {
          "color": "#FECB52",
          "size": 5,
          "symbol": "circle"
         },
         "mode": "markers",
         "name": "Master Yi",
         "scene": "scene",
         "showlegend": true,
         "type": "scatter3d",
         "visible": "legendonly",
         "x": {
          "bdata": "pC6NQJelyMHyZJy+Ovv5wSSAe0GfDUbBbw2UwZ34tcF8JMTBWFNzQODMxEFUe9LAycAZv2c27z/CLzJBEAbpQZrcXcFscspBZM0aQjAh1L8=",
          "dtype": "f4"
         },
         "y": {
          "bdata": "CsQjQprsOMH3XwI/noWeQfMBAkL8qN5B/qnQQA/VEkLqihdCTgmgQW3pSkHXPi1BMdgmwnsyjMF+BwdCZ1YHQY905kFGlGlBwFQ+wZQLk0A=",
          "dtype": "f4"
         },
         "z": {
          "bdata": "+4Y9wWThXkGGLMdAIb7CQe2txkG092zB17SlwfgOOj839oK/XEuWQTu8lkBNwLPBO/xZQajgE8LxLY5Au/z0wJxtbEHQLJ1BJL4QQSqUJcA=",
          "dtype": "f4"
         }
        },
        {
         "customdata": [
          [
           "Varus",
           0
          ],
          [
           "Varus",
           1
          ],
          [
           "Varus",
           2
          ],
          [
           "Varus",
           3
          ],
          [
           "Varus",
           4
          ],
          [
           "Varus",
           5
          ],
          [
           "Varus",
           6
          ],
          [
           "Varus",
           7
          ],
          [
           "Varus",
           8
          ],
          [
           "Varus",
           9
          ],
          [
           "Varus",
           10
          ],
          [
           "Varus",
           11
          ],
          [
           "Varus",
           12
          ],
          [
           "Varus",
           13
          ],
          [
           "Varus",
           14
          ],
          [
           "Varus",
           15
          ],
          [
           "Varus",
           16
          ],
          [
           "Varus",
           17
          ],
          [
           "Varus",
           18
          ],
          [
           "Varus",
           18
          ]
         ],
         "hovertemplate": "champion=%{customdata[0]}<br>x=%{x}<br>y=%{y}<br>z=%{z}<br>patch=%{customdata[1]}<extra></extra>",
         "legendgroup": "Varus",
         "marker": {
          "color": "#636efa",
          "size": 5,
          "symbol": "circle"
         },
         "mode": "markers",
         "name": "Varus",
         "scene": "scene",
         "showlegend": true,
         "type": "scatter3d",
         "visible": "legendonly",
         "x": {
          "bdata": "ctBJwZWDoD6d37JBfYmaQT3r7UE0ZVVBbeXtQdvDyEHb1b7BBBISwGmRNsJEmghA0+GswQhm/sECtNjBmxT3wQx2DcJzfDG/v5wHwlh0L8E=",
          "dtype": "f4"
         },
         "y": {
          "bdata": "HbPvwQphHMLue3fBx0y4wHPzaMFoTyTB+m+AwYtZRb+/EKzAd5m8QQ3VRkEQdSpAUw9HQSKLn0DN9yfAgW4XP6fcz8BDJa7AcClrwB1MD0A=",
          "dtype": "f4"
         },
         "z": {
          "bdata": "e0WRQRzM40HZk4fBwqE2QdBcKkD61do/E3HHvisJhkFOSdNBcRPOwAIvskDCKbzBWBB0wfOnzcFFPc/BS33nwSpY28F6yfjBgwjRwRcE7EA=",
          "dtype": "f4"
         }
        },
        {
         "customdata": [
          [
           "Nautilus",
           0
          ],
          [
           "Nautilus",
           1
          ],
          [
           "Nautilus",
           2
          ],
          [
           "Nautilus",
           3
          ],
          [
           "Nautilus",
           4
          ],
          [
           "Nautilus",
           5
          ],
          [
           "Nautilus",
           6
          ],
          [
           "Nautilus",
           7
          ],
          [
           "Nautilus",
           8
          ],
          [
           "Nautilus",
           9
          ],
          [
           "Nautilus",
           10
          ],
          [
           "Nautilus",
           11
          ],
          [
           "Nautilus",
           12
          ],
          [
           "Nautilus",
           13
          ],
          [
           "Nautilus",
           14
          ],
          [
           "Nautilus",
           15
          ],
          [
           "Nautilus",
           16
          ],
          [
           "Nautilus",
           17
          ],
          [
           "Nautilus",
           18
          ],
          [
           "Nautilus",
           18
          ]
         ],
         "hovertemplate": "champion=%{customdata[0]}<br>x=%{x}<br>y=%{y}<br>z=%{z}<br>patch=%{customdata[1]}<extra></extra>",
         "legendgroup": "Nautilus",
         "marker": {
          "color": "#EF553B",
          "size": 5,
          "symbol": "circle"
         },
         "mode": "markers",
         "name": "Nautilus",
         "scene": "scene",
         "showlegend": true,
         "type": "scatter3d",
         "visible": "legendonly",
         "x": {
          "bdata": "nGOYQYqLqkEMJ4xBpjmxQbPjj0FRz4lBlq6ZQbEcE8HwCvfADp6DwZ2hwMDJ0UrBMCelQcE5pEG9wFJBepWdQSiT9sHEHE5ByvEUQohOEEE=",
          "dtype": "f4"
         },
         "y": {
          "bdata": "jhu3wRLMrMHYD5nBw0nbQEzVp8EMwTxB3M5AQVuky8FOILlAdNnNwXKqtMFhru/BG7ARQTRBucH5uwHCXdVjQcp5isHeHA7BPjbnQaKnRME=",
          "dtype": "f4"
         },
         "z": {
          "bdata": "zn+wQSN6vkFBW6ZBBN31Qbteu0Fe8/xBoiL2QTVo5cEqaNZAGhTjwIZagEHVjDs/ryHzQTA3q8C1b5PBKinqQXpUlsGt5ZJBhWiHQHx/O0E=",
          "dtype": "f4"
         }
        },
        {
         "customdata": [
          [
           "Viktor",
           0
          ],
          [
           "Viktor",
           1
          ],
          [
           "Viktor",
           2
          ],
          [
           "Viktor",
           3
          ],
          [
           "Viktor",
           4
          ],
          [
           "Viktor",
           5
          ],
          [
           "Viktor",
           6
          ],
          [
           "Viktor",
           7
          ],
          [
           "Viktor",
           8
          ],
          [
           "Viktor",
           9
          ],
          [
           "Viktor",
           10
          ],
          [
           "Viktor",
           11
          ],
          [
           "Viktor",
           12
          ],
          [
           "Viktor",
           13
          ],
          [
           "Viktor",
           14
          ],
          [
           "Viktor",
           15
          ],
          [
           "Viktor",
           16
          ],
          [
           "Viktor",
           17
          ],
          [
           "Viktor",
           18
          ],
          [
           "Viktor",
           18
          ]
         ],
         "hovertemplate": "champion=%{customdata[0]}<br>x=%{x}<br>y=%{y}<br>z=%{z}<br>patch=%{customdata[1]}<extra></extra>",
         "legendgroup": "Viktor",
         "marker": {
          "color": "#00cc96",
          "size": 5,
          "symbol": "circle"
         },
         "mode": "markers",
         "name": "Viktor",
         "scene": "scene",
         "showlegend": true,
         "type": "scatter3d",
         "visible": "legendonly",
         "x": {
          "bdata": "0wCswc8eLUHCIgdCgWsoQS+QZMFoqs7AIjjoQfdXekFFbtpATZF8wPoBmUFqLTJB/l/Rwa2tu8FkmoBBXH+lwGAkokEh+kjBUbVwQZlKSME=",
          "dtype": "f4"
         },
         "y": {
          "bdata": "kZ3RQRtaKEL3DBtBDXCpvBwb+T8qqQFBcOrrQaoxdcG8ye1B91GeQSBRNMEhEFk/Zfu+wIf2/cBZ5Pc/cwqbQd6BmkDNV7U99GvtwGdhXb8=",
          "dtype": "f4"
         },
         "z": {
          "bdata": "/7V7wR6rckGk5MA/VtKQQe57AcLyQ9ZBaEBCQeVYkMFB+xxBKDNSQQfC6ED1Lca//D7PQaZl5kHZTELBlXTqwGBIckEgeAJCy056wX9wx8A=",
          "dtype": "f4"
         }
        },
        {
         "customdata": [
          [
           "Sejuani",
           0
          ],
          [
           "Sejuani",
           1
          ],
          [
           "Sejuani",
           2
          ],
          [
           "Sejuani",
           3
          ],
          [
           "Sejuani",
           4
          ],
          [
           "Sejuani",
           5
          ],
          [
           "Sejuani",
           6
          ],
          [
           "Sejuani",
           7
          ],
          [
           "Sejuani",
           8
          ],
          [
           "Sejuani",
           9
          ],
          [
           "Sejuani",
           10
          ],
          [
           "Sejuani",
           11
          ],
          [
           "Sejuani",
           12
          ],
          [
           "Sejuani",
           13
          ],
          [
           "Sejuani",
           14
          ],
          [
           "Sejuani",
           15
          ],
          [
           "Sejuani",
           16
          ],
          [
           "Sejuani",
           17
          ],
          [
           "Sejuani",
           18
          ],
          [
           "Sejuani",
           18
          ]
         ],
         "hovertemplate": "champion=%{customdata[0]}<br>x=%{x}<br>y=%{y}<br>z=%{z}<br>patch=%{customdata[1]}<extra></extra>",
         "legendgroup": "Sejuani",
         "marker": {
          "color": "#ab63fa",
          "size": 5,
          "symbol": "circle"
         },
         "mode": "markers",
         "name": "Sejuani",
         "scene": "scene",
         "showlegend": true,
         "type": "scatter3d",
         "visible": "legendonly",
         "x": {
          "bdata": "kbiLQTHhk8CYRp9BBmruQX0bekGnAYnApSV0v26f3sCola3BI/P+wRujJcKmB0dABRC3v1euIMLt1qXBgb5VPxZO7sGzlw9CQ/7hwdvPXME=",
          "dtype": "f4"
         },
         "y": {
          "bdata": "BSwmQiIWGUIrrT7BAoUFwUdtKkIJCwfC+CQgQcgJcMGu7gpBmqq8Qfyi80DIHf1B9voUQjmmF0FgkgtC5pQaQo1N40FAHClBgedCwNo8NMA=",
          "dtype": "f4"
         },
         "z": {
          "bdata": "xb4FwQGXoD/0SnnB/gWKQYZjjUD/lEpA0S8tQnmW/cGgEhTCh28fwRQXe8GrL6HBY6aPwSW/kME2mDdBnMqNwRzmmz7kp3NA8JHZwKFZy0A=",
          "dtype": "f4"
         }
        },
        {
         "customdata": [
          [
           "Fiora",
           0
          ],
          [
           "Fiora",
           1
          ],
          [
           "Fiora",
           2
          ],
          [
           "Fiora",
           3
          ],
          [
           "Fiora",
           4
          ],
          [
           "Fiora",
           5
          ],
          [
           "Fiora",
           6
          ],
          [
           "Fiora",
           7
          ],
          [
           "Fiora",
           8
          ],
          [
           "Fiora",
           9
          ],
          [
           "Fiora",
           10
          ],
          [
           "Fiora",
           11
          ],
          [
           "Fiora",
           12
          ],
          [
           "Fiora",
           13
          ],
          [
           "Fiora",
           14
          ],
          [
           "Fiora",
           15
          ],
          [
           "Fiora",
           16
          ],
          [
           "Fiora",
           17
          ],
          [
           "Fiora",
           18
          ],
          [
           "Fiora",
           18
          ]
         ],
         "hovertemplate": "champion=%{customdata[0]}<br>x=%{x}<br>y=%{y}<br>z=%{z}<br>patch=%{customdata[1]}<extra></extra>",
         "legendgroup": "Fiora",
         "marker": {
          "color": "#FFA15A",
          "size": 5,
          "symbol": "circle"
         },
         "mode": "markers",
         "name": "Fiora",
         "scene": "scene",
         "showlegend": true,
         "type": "scatter3d",
         "visible": "legendonly",
         "x": {
          "bdata": "JAXowMamisE4tjnBf2u7QHvlqMEgsPfBkZEUwarNnUGCi33BzX5FweuS3r8BwH3BuJIpwfp24L8eDK3A02KnQYkDCsLPhrS88h2XwWbjAcA=",
          "dtype": "f4"
         },
         "y": {
          "bdata": "KgGZwXhsBcFCobTALriGQDRPf8HIjie/xL6JQffmh8G/ECHBaaSJwSYITEGL6p/AiJRcwEQBAsEl8qZA3qicwRiXBsEqLnfBMaGQweCzC8E=",
          "dtype": "f4"
         },
         "z": {
          "bdata": "cvjTwZFYe8GXg+bBJ56owBRRO0EaI4LAS1jYP56emkAMMc5B+OW6QU00Y8F1B8dBhNAKwmesVMHXIp3BeOepQN0La0GH3QRBflaWwYfZOUA=",
          "dtype": "f4"
         }
        },
        {
         "customdata": [
          [
           "Ziggs",
           0
          ],
          [
           "Ziggs",
           1
          ],
          [
           "Ziggs",
           2
          ],
          [
           "Ziggs",
           3
          ],
          [
           "Ziggs",
           4
          ],
          [
           "Ziggs",
           5
          ],
          [
           "Ziggs",
           6
          ],
          [
           "Ziggs",
           7
          ],
          [
           "Ziggs",
           8
          ],
          [
           "Ziggs",
           9
          ],
          [
           "Ziggs",
           10
          ],
          [
           "Ziggs",
           11
          ],
          [
           "Ziggs",
           12
          ],
          [
           "Ziggs",
           13
          ],
          [
           "Ziggs",
           14
          ],
          [
           "Ziggs",
           15
          ],
          [
           "Ziggs",
           16
          ],
          [
           "Ziggs",
           17
          ],
          [
           "Ziggs",
           18
          ],
          [
           "Ziggs",
           18
          ]
         ],
         "hovertemplate": "champion=%{customdata[0]}<br>x=%{x}<br>y=%{y}<br>z=%{z}<br>patch=%{customdata[1]}<extra></extra>",
         "legendgroup": "Ziggs",
         "marker": {
          "color": "#19d3f3",
          "size": 5,
          "symbol": "circle"
         },
         "mode": "markers",
         "name": "Ziggs",
         "scene": "scene",
         "showlegend": true,
         "type": "scatter3d",
         "visible": "legendonly",
         "x": {
          "bdata": "MjTcQfUPS8C4PpLB1Ds7QYC4Y0EpzCrBc8tKwEGhnkCoZxtC502wQDyFy0GJbUy/aXLQv8WR9UEEfYXBDk97wX693EDhwtNByjzcQfsmnMA=",
          "dtype": "f4"
         },
         "y": {
          "bdata": "dA0awSjH8UF/8MPBw3YvP10JzUD7MAXCOLPIQX7UXcH2gb5Bu3VpwdeeokHCOp5BesMpQU9DMUGFuFvBRFQjP4WQ0kGqcJRBFQ2eQQYfQME=",
          "dtype": "f4"
         },
         "z": {
          "bdata": "68DgwXEoYcE7uABCCo31QfotCcF/gIhAS6QGwVqgA0K5jqRA71HjQQo3rcHq6wJCY6WxQQvbVsEKxgdCmOdkQbkEx8ErLAvC7vADwr3p1T8=",
          "dtype": "f4"
         }
        },
        {
         "customdata": [
          [
           "Lulu",
           0
          ],
          [
           "Lulu",
           1
          ],
          [
           "Lulu",
           2
          ],
          [
           "Lulu",
           3
          ],
          [
           "Lulu",
           4
          ],
          [
           "Lulu",
           5
          ],
          [
           "Lulu",
           6
          ],
          [
           "Lulu",
           7
          ],
          [
           "Lulu",
           8
          ],
          [
           "Lulu",
           9
          ],
          [
           "Lulu",
           10
          ],
          [
           "Lulu",
           11
          ],
          [
           "Lulu",
           12
          ],
          [
           "Lulu",
           13
          ],
          [
           "Lulu",
           14
          ],
          [
           "Lulu",
           15
          ],
          [
           "Lulu",
           16
          ],
          [
           "Lulu",
           17
          ],
          [
           "Lulu",
           18
          ],
          [
           "Lulu",
           18
          ]
         ],
         "hovertemplate": "champion=%{customdata[0]}<br>x=%{x}<br>y=%{y}<br>z=%{z}<br>patch=%{customdata[1]}<extra></extra>",
         "legendgroup": "Lulu",
         "marker": {
          "color": "#FF6692",
          "size": 5,
          "symbol": "circle"
         },
         "mode": "markers",
         "name": "Lulu",
         "scene": "scene",
         "showlegend": true,
         "type": "scatter3d",
         "visible": "legendonly",
         "x": {
          "bdata": "ksvBwWTfycHGlp9Ba53KP/Dzj0FLv1dAGLoPwtQBvD574r7B7gc+wSIfxUA6VVvB30KgP/iWJUE4xbjBHLv/vziwBkHIza5AwmipQfl3hcE=",
          "dtype": "f4"
         },
         "y": {
          "bdata": "b4aLQRI3YEHcRohBYYkbwmDssUFukL/BzuOuvxiCJMIfN5DASVKcwbgpqMHziL7BYicVwkz/20H8ydFBjLuewELWusFvrrDBayCTQdPKQEA=",
          "dtype": "f4"
         },
         "z": {
          "bdata": "avc/QOd+VkCtwZrAMBFivwiv/UHWBftBuhMOQJQS+j+U8ubAh2TGQTB2DUJF4WNBkUDTv1h9gcCCiwjBaJo/wr9nEkLrMvxBd43IQXw5lEA=",
          "dtype": "f4"
         }
        },
        {
         "customdata": [
          [
           "Draven",
           0
          ],
          [
           "Draven",
           1
          ],
          [
           "Draven",
           2
          ],
          [
           "Draven",
           3
          ],
          [
           "Draven",
           4
          ],
          [
           "Draven",
           5
          ],
          [
           "Draven",
           6
          ],
          [
           "Draven",
           7
          ],
          [
           "Draven",
           8
          ],
          [
           "Draven",
           9
          ],
          [
           "Draven",
           10
          ],
          [
           "Draven",
           11
          ],
          [
           "Draven",
           12
          ],
          [
           "Draven",
           13
          ],
          [
           "Draven",
           14
          ],
          [
           "Draven",
           15
          ],
          [
           "Draven",
           16
          ],
          [
           "Draven",
           17
          ],
          [
           "Draven",
           18
          ],
          [
           "Draven",
           18
          ]
         ],
         "hovertemplate": "champion=%{customdata[0]}<br>x=%{x}<br>y=%{y}<br>z=%{z}<br>patch=%{customdata[1]}<extra></extra>",
         "legendgroup": "Draven",
         "marker": {
          "color": "#B6E880",
          "size": 5,
          "symbol": "circle"
         },
         "mode": "markers",
         "name": "Draven",
         "scene": "scene",
         "showlegend": true,
         "type": "scatter3d",
         "visible": "legendonly",
         "x": {
          "bdata": "YW8MwbIejMBH2cTAFTbAwTiSsL+Q2ezAXZnawETu4EA4pBnBAyAfwvt4HMIDdwDCCj4TwgjLp76fSA/CiHKqwe4H58H3uTTBC3oSwd8wFsE=",
          "dtype": "f4"
         },
         "y": {
          "bdata": "HvuiQawAq0EHH71B+2eaQAUWmkE6bMJBFmmDwZUtT0FP7//BrINgwdJCjsGZH3FAnDIowRi9CsKot2jBqlGUwRzlvME5yMHBkjJxwcAe6UA=",
          "dtype": "f4"
         },
         "z": {
          "bdata": "BKaZP8S9tr+nv5u/SACYwfd567+9QIg+I9CtQSGm+D8m+d5B+QgFwMAensDwg3tBa79SwJ8llcF5EoHAntNCwedHgMAawmrBbOedwRFbXMA=",
          "dtype": "f4"
         }
        },
        {
         "customdata": [
          [
           "Alistar",
           0
          ],
          [
           "Alistar",
           1
          ],
          [
           "Alistar",
           2
          ],
          [
           "Alistar",
           3
          ],
          [
           "Alistar",
           4
          ],
          [
           "Alistar",
           5
          ],
          [
           "Alistar",
           6
          ],
          [
           "Alistar",
           7
          ],
          [
           "Alistar",
           8
          ],
          [
           "Alistar",
           9
          ],
          [
           "Alistar",
           10
          ],
          [
           "Alistar",
           11
          ],
          [
           "Alistar",
           12
          ],
          [
           "Alistar",
           13
          ],
          [
           "Alistar",
           14
          ],
          [
           "Alistar",
           15
          ],
          [
           "Alistar",
           16
          ],
          [
           "Alistar",
           17
          ],
          [
           "Alistar",
           18
          ],
          [
           "Alistar",
           18
          ]
         ],
         "hovertemplate": "champion=%{customdata[0]}<br>x=%{x}<br>y=%{y}<br>z=%{z}<br>patch=%{customdata[1]}<extra></extra>",
         "legendgroup": "Alistar",
         "marker": {
          "color": "#FF97FF",
          "size": 5,
          "symbol": "circle"
         },
         "mode": "markers",
         "name": "Alistar",
         "scene": "scene",
         "showlegend": true,
         "type": "scatter3d",
         "visible": "legendonly",
         "x": {
          "bdata": "JYmfwNHxAcGYAZRBcUoIQg6x+EEEQ+9B6IuqQb+CNUF/VrtBFnToQXFj9MD6N6u+vkW+QcDsMUGByvdBQG3ZQF5o18ClVUvAD3ItwSdoWEE=",
          "dtype": "f4"
         },
         "y": {
          "bdata": "KAEhwbs1fj8uUzLCKhS8QFOgkcBo3u0/3P4twgQ/6kA6psrBvKPSwcm9KcClWq/Bc5UCwQ6NmEBJu7FAdpLbQFCQnT3NKyRCjhqnwf8zGkE=",
          "dtype": "f4"
         },
         "z": {
          "bdata": "fHoywpzdNcJwr+xAC726wY8qAcEO7zFBHzMXQeLJSEEbaaNBGdqVQfPo0EFgN9NBwk2IwTsvW8GhyxlBKut4wQnT7MBcQrXBHd0mwiV/X0E=",
          "dtype": "f4"
         }
        },
        {
         "customdata": [
          [
           "Hecarim",
           0
          ],
          [
           "Hecarim",
           1
          ],
          [
           "Hecarim",
           2
          ],
          [
           "Hecarim",
           3
          ],
          [
           "Hecarim",
           4
          ],
          [
           "Hecarim",
           5
          ],
          [
           "Hecarim",
           6
          ],
          [
           "Hecarim",
           7
          ],
          [
           "Hecarim",
           8
          ],
          [
           "Hecarim",
           9
          ],
          [
           "Hecarim",
           10
          ],
          [
           "Hecarim",
           11
          ],
          [
           "Hecarim",
           12
          ],
          [
           "Hecarim",
           13
          ],
          [
           "Hecarim",
           14
          ],
          [
           "Hecarim",
           15
          ],
          [
           "Hecarim",
           16
          ],
          [
           "Hecarim",
           17
          ],
          [
           "Hecarim",
           18
          ],
          [
           "Hecarim",
           18
          ]
         ],
         "hovertemplate": "champion=%{customdata[0]}<br>x=%{x}<br>y=%{y}<br>z=%{z}<br>patch=%{customdata[1]}<extra></extra>",
         "legendgroup": "Hecarim",
         "marker": {
          "color": "#FECB52",
          "size": 5,
          "symbol": "circle"
         },
         "mode": "markers",
         "name": "Hecarim",
         "scene": "scene",
         "showlegend": true,
         "type": "scatter3d",
         "visible": "legendonly",
         "x": {
          "bdata": "B8STP6fTwMABDwLCatJ4wbtPjEHZVqJBryIEwoq2zkGqHAdAxOrnv3hLOMDtl8NBxlauQX+4oUHIdS/BmlcNwRQiS8B0e51BkD++PxoWuj8=",
          "dtype": "f4"
         },
         "y": {
          "bdata": "qDCkQCVJJUKg5X5BhW8eQn4OvEFPIQlCYCG7wEqKtcEHpeO+y+vgQAGlx0BZoFc/ItYQQjfSqEGDdxlCHch0QbRk7kHxyZbAOd1vQcGPl0A=",
          "dtype": "f4"
         },
         "z": {
          "bdata": "wTBSwe7olkCTVI5B3LrrwEhbYEG/r1RBED8iwMKm8UDuwdTAbdNHQL/DKEJ6B6FAdDs9QchmX0Gz/YXBmuPkwSFcAsCQ4JTBaQaFwQI8/MA=",
          "dtype": "f4"
         }
        },
        {
         "customdata": [
          [
           "Kha'Zix",
           0
          ],
          [
           "Kha'Zix",
           1
          ],
          [
           "Kha'Zix",
           2
          ],
          [
           "Kha'Zix",
           3
          ],
          [
           "Kha'Zix",
           4
          ],
          [
           "Kha'Zix",
           5
          ],
          [
           "Kha'Zix",
           6
          ],
          [
           "Kha'Zix",
           7
          ],
          [
           "Kha'Zix",
           8
          ],
          [
           "Kha'Zix",
           9
          ],
          [
           "Kha'Zix",
           10
          ],
          [
           "Kha'Zix",
           11
          ],
          [
           "Kha'Zix",
           12
          ],
          [
           "Kha'Zix",
           13
          ],
          [
           "Kha'Zix",
           14
          ],
          [
           "Kha'Zix",
           15
          ],
          [
           "Kha'Zix",
           16
          ],
          [
           "Kha'Zix",
           17
          ],
          [
           "Kha'Zix",
           18
          ],
          [
           "Kha'Zix",
           18
          ]
         ],
         "hovertemplate": "champion=%{customdata[0]}<br>x=%{x}<br>y=%{y}<br>z=%{z}<br>patch=%{customdata[1]}<extra></extra>",
         "legendgroup": "Kha'Zix",
         "marker": {
          "color": "#636efa",
          "size": 5,
          "symbol": "circle"
         },
         "mode": "markers",
         "name": "Kha'Zix",
         "scene": "scene",
         "showlegend": true,
         "type": "scatter3d",
         "visible": "legendonly",
         "x": {
          "bdata": "hOC0QXHjqkGXnKhB07NmQITXO78lnoc+dPbZQYvSJUG1o7pBm72fwfwhckGef3FBmH+9QdqlzUHDxBhCfcztQIzMuUGj+olBorRFQXBKXEE=",
          "dtype": "f4"
         },
         "y": {
          "bdata": "52nFQUmW/UH46OFBETZGQq8xPELaoEJCLBiyQSL568D7uQZC8DFRQVnzDkJWo4rAhk7+QZU5XsHKx2FA1YpwQIbZCcLvOYfBl1D8wKwjNUA=",
          "dtype": "f4"
         },
         "z": {
          "bdata": "abTQQIY7EkDnir7Ba2ByPxZzzD9uGko/vwjnQeP+v0HKI47A/o9gQbogo0HF9HRBAlZiwAqg9sCUAK1AfkDdQZ8P+r8t51nAO+APwtCwo0A=",
          "dtype": "f4"
         }
        },
        {
         "customdata": [
          [
           "Darius",
           0
          ],
          [
           "Darius",
           1
          ],
          [
           "Darius",
           2
          ],
          [
           "Darius",
           3
          ],
          [
           "Darius",
           4
          ],
          [
           "Darius",
           5
          ],
          [
           "Darius",
           6
          ],
          [
           "Darius",
           7
          ],
          [
           "Darius",
           8
          ],
          [
           "Darius",
           9
          ],
          [
           "Darius",
           10
          ],
          [
           "Darius",
           11
          ],
          [
           "Darius",
           12
          ],
          [
           "Darius",
           13
          ],
          [
           "Darius",
           14
          ],
          [
           "Darius",
           15
          ],
          [
           "Darius",
           16
          ],
          [
           "Darius",
           17
          ],
          [
           "Darius",
           18
          ],
          [
           "Darius",
           18
          ]
         ],
         "hovertemplate": "champion=%{customdata[0]}<br>x=%{x}<br>y=%{y}<br>z=%{z}<br>patch=%{customdata[1]}<extra></extra>",
         "legendgroup": "Darius",
         "marker": {
          "color": "#EF553B",
          "size": 5,
          "symbol": "circle"
         },
         "mode": "markers",
         "name": "Darius",
         "scene": "scene",
         "showlegend": true,
         "type": "scatter3d",
         "visible": "legendonly",
         "x": {
          "bdata": "0R/swQ4tXEHclZVBLleNQVHR3sFErixARzGnQWoxrkFJsy1BFaGAQRYHKUErqdxB5+V8QQsbK8H8njxBJh38wY7UscCLXdTAj4mPQcAtSUE=",
          "dtype": "f4"
         },
         "y": {
          "bdata": "y83mQLoFBsKEggnCpsr7wZxx38CEOaNBx7UWwtzdG8J+oK1ATuaZQWTk5kFmTgrBeTXlQffu/sAP3Qc9s/CIQVk+MEKuGTFCrVaRwWR1gUE=",
          "dtype": "f4"
         },
         "z": {
          "bdata": "uqlRvw2lRUEs/jNBTRlBQYqrnkHkZxxBDiCtQa7pmkFiJ8hB3C49wU3XFcA43wbASpaPQAP0kUEikYjA2yFxQZIC/z6Gdy/A668UQS+nG0E=",
          "dtype": "f4"
         }
        },
        {
         "customdata": [
          [
           "Jayce",
           0
          ],
          [
           "Jayce",
           1
          ],
          [
           "Jayce",
           2
          ],
          [
           "Jayce",
           3
          ],
          [
           "Jayce",
           4
          ],
          [
           "Jayce",
           5
          ],
          [
           "Jayce",
           6
          ],
          [
           "Jayce",
           7
          ],
          [
           "Jayce",
           8
          ],
          [
           "Jayce",
           9
          ],
          [
           "Jayce",
           10
          ],
          [
           "Jayce",
           11
          ],
          [
           "Jayce",
           12
          ],
          [
           "Jayce",
           13
          ],
          [
           "Jayce",
           14
          ],
          [
           "Jayce",
           15
          ],
          [
           "Jayce",
           16
          ],
          [
           "Jayce",
           17
          ],
          [
           "Jayce",
           18
          ],
          [
           "Jayce",
           18
          ]
         ],
         "hovertemplate": "champion=%{customdata[0]}<br>x=%{x}<br>y=%{y}<br>z=%{z}<br>patch=%{customdata[1]}<extra></extra>",
         "legendgroup": "Jayce",
         "marker": {
          "color": "#00cc96",
          "size": 5,
          "symbol": "circle"
         },
         "mode": "markers",
         "name": "Jayce",
         "scene": "scene",
         "showlegend": true,
         "type": "scatter3d",
         "visible": "legendonly",
         "x": {
          "bdata": "JqDwQXFuE8KmYJHBAy8GwqIULkKhRp9BEfwDwu7lZME8u13BBQwKwYD23cHgT71BRSCUQQSd8UGMOvI/OfOLPUZTAsEU087AitTEwT8d88A=",
          "dtype": "f4"
         },
         "y": {
          "bdata": "7o5jQfEMm0GOWxHCkKhDwQvftj8nRa3A1j/ewDLmJEHey4rBg7+LwZ+8jsFg8VzBmjaqQThPCD/sSxHCvDcjwgry+8FMaPrBvxQtwQpxYEA=",
          "dtype": "f4"
         },
         "z": {
          "bdata": "R9eRwWGiqcHRxpRB+5EEwb3cn0FPbilCla3qQDpsr0GosgpBm3qTQAl6ikFLI9NBKRvNQD9VxMALKCZBmL5lwUi75cCLOYVBbIGRQfX0jUA=",
          "dtype": "f4"
         }
        },
        {
         "customdata": [
          [
           "Lissandra",
           0
          ],
          [
           "Lissandra",
           1
          ],
          [
           "Lissandra",
           2
          ],
          [
           "Lissandra",
           3
          ],
          [
           "Lissandra",
           4
          ],
          [
           "Lissandra",
           5
          ],
          [
           "Lissandra",
           6
          ],
          [
           "Lissandra",
           7
          ],
          [
           "Lissandra",
           8
          ],
          [
           "Lissandra",
           9
          ],
          [
           "Lissandra",
           10
          ],
          [
           "Lissandra",
           11
          ],
          [
           "Lissandra",
           12
          ],
          [
           "Lissandra",
           13
          ],
          [
           "Lissandra",
           14
          ],
          [
           "Lissandra",
           15
          ],
          [
           "Lissandra",
           16
          ],
          [
           "Lissandra",
           17
          ],
          [
           "Lissandra",
           18
          ],
          [
           "Lissandra",
           18
          ]
         ],
         "hovertemplate": "champion=%{customdata[0]}<br>x=%{x}<br>y=%{y}<br>z=%{z}<br>patch=%{customdata[1]}<extra></extra>",
         "legendgroup": "Lissandra",
         "marker": {
          "color": "#ab63fa",
          "size": 5,
          "symbol": "circle"
         },
         "mode": "markers",
         "name": "Lissandra",
         "scene": "scene",
         "showlegend": true,
         "type": "scatter3d",
         "visible": "legendonly",
         "x": {
          "bdata": "4zRHQIhDVkHQb9zBgL8GQXgWBELEDQXChEt2waG52cEHkgTBwALLQG/oW0GPEg7CDD5LQbFtssCF1LNBiZ2AQVkjrME9Ai5ChI38QIQ9/8A=",
          "dtype": "f4"
         },
         "y": {
          "bdata": "NyiCwIP0RMEOClZA32qvQckvM0Fqefa/iH2uwbxty0EJIvW/smP+wOxMsEHbMxRAyfRQwY1JPcECY3bA/lfCQdaUicCKSunA7F9VwLzck8A=",
          "dtype": "f4"
         },
         "z": {
          "bdata": "+8SBQMqEyEAiGB/Co9O0wZd8kD7lw+XB5LkQQbRuc0EiZifC7t5swQA9AEKry9HBE/ALQpnoh8Evoik/2Pn5wS/hzUFe3v5AEUOBPxwSSME=",
          "dtype": "f4"
         }
        },
        {
         "customdata": [
          [
           "Ryze",
           0
          ],
          [
           "Ryze",
           1
          ],
          [
           "Ryze",
           2
          ],
          [
           "Ryze",
           3
          ],
          [
           "Ryze",
           4
          ],
          [
           "Ryze",
           5
          ],
          [
           "Ryze",
           6
          ],
          [
           "Ryze",
           7
          ],
          [
           "Ryze",
           8
          ],
          [
           "Ryze",
           9
          ],
          [
           "Ryze",
           10
          ],
          [
           "Ryze",
           11
          ],
          [
           "Ryze",
           12
          ],
          [
           "Ryze",
           13
          ],
          [
           "Ryze",
           14
          ],
          [
           "Ryze",
           15
          ],
          [
           "Ryze",
           16
          ],
          [
           "Ryze",
           17
          ],
          [
           "Ryze",
           18
          ],
          [
           "Ryze",
           18
          ]
         ],
         "hovertemplate": "champion=%{customdata[0]}<br>x=%{x}<br>y=%{y}<br>z=%{z}<br>patch=%{customdata[1]}<extra></extra>",
         "legendgroup": "Ryze",
         "marker": {
          "color": "#FFA15A",
          "size": 5,
          "symbol": "circle"
         },
         "mode": "markers",
         "name": "Ryze",
         "scene": "scene",
         "showlegend": true,
         "type": "scatter3d",
         "visible": "legendonly",
         "x": {
          "bdata": "GJocQvm/kUGFzyRCKg6pQbY280B5lLFBUAKCQc9y8b8vPrRB3HsgQXk48kG9TGNBDaspwTP/CUEmGFq/ejFPwQaXAsJGMsDAFB4kwj39MEE=",
          "dtype": "f4"
         },
         "y": {
          "bdata": "iA0SQciCpkEJshdBs0r1vmP//sE898A/tRoHweTPosFqJBfBJArPwW9E3UEh5EHBKcCGwASau0AAWsTBkQyEwbXyxsGv63PBFZ4qv8hgtcA=",
          "dtype": "f4"
         },
         "z": {
          "bdata": "y0MYQOQoscEe+5xAZuDnweTx4UBcLvbBwQMUwdiINkE9hGdBjIEgwe9TQr+GeuRB5uOvQUSUlUE7pidBkcZhQZS/wsCG5gdBh9cbwYVYTkE=",
          "dtype": "f4"
         }
        },
        {
         "customdata": [
          [
           "Diana",
           0
          ],
          [
           "Diana",
           1
          ],
          [
           "Diana",
           2
          ],
          [
           "Diana",
           3
          ],
          [
           "Diana",
           4
          ],
          [
           "Diana",
           5
          ],
          [
           "Diana",
           6
          ],
          [
           "Diana",
           7
          ],
          [
           "Diana",
           8
          ],
          [
           "Diana",
           9
          ],
          [
           "Diana",
           10
          ],
          [
           "Diana",
           11
          ],
          [
           "Diana",
           12
          ],
          [
           "Diana",
           13
          ],
          [
           "Diana",
           14
          ],
          [
           "Diana",
           15
          ],
          [
           "Diana",
           16
          ],
          [
           "Diana",
           17
          ],
          [
           "Diana",
           18
          ],
          [
           "Diana",
           18
          ]
         ],
         "hovertemplate": "champion=%{customdata[0]}<br>x=%{x}<br>y=%{y}<br>z=%{z}<br>patch=%{customdata[1]}<extra></extra>",
         "legendgroup": "Diana",
         "marker": {
          "color": "#19d3f3",
          "size": 5,
          "symbol": "circle"
         },
         "mode": "markers",
         "name": "Diana",
         "scene": "scene",
         "showlegend": true,
         "type": "scatter3d",
         "visible": "legendonly",
         "x": {
          "bdata": "a/19wO78ncErwTdBXlK2QZJT0cG3Cfu+jkOKwQZLTj9q95XBRFyywTXC1sBcr2HB4Y65wUURA8HtuSdBQ/93wZdcw7/LqZ/BFRTBwT7vMUE=",
          "dtype": "f4"
         },
         "y": {
          "bdata": "lz3pwZFNc8BUSotBeVwpQdZv6sFUWR/CfP4OwswoAsJsrAvCc+ndQB6RlMEyXMpBrVmUQKG4/0EFjfZBISUIQmsvyMGd0wXCCnGkwfB1OEE=",
          "dtype": "f4"
         },
         "z": {
          "bdata": "AjS/PwaRosBC7DjAvJ1FQJrankEkj0dBw78PQSois78XBrRAkRx9QWMstEGvOIbAMBZBQVeekcHmoPDA4ssMv+6K/8A0188/nqhvQZpx3j4=",
          "dtype": "f4"
         }
        },
        {
         "customdata": [
          [
           "Quinn",
           0
          ],
          [
           "Quinn",
           1
          ],
          [
           "Quinn",
           2
          ],
          [
           "Quinn",
           3
          ],
          [
           "Quinn",
           4
          ],
          [
           "Quinn",
           5
          ],
          [
           "Quinn",
           6
          ],
          [
           "Quinn",
           7
          ],
          [
           "Quinn",
           8
          ],
          [
           "Quinn",
           9
          ],
          [
           "Quinn",
           10
          ],
          [
           "Quinn",
           11
          ],
          [
           "Quinn",
           12
          ],
          [
           "Quinn",
           13
          ],
          [
           "Quinn",
           14
          ],
          [
           "Quinn",
           15
          ],
          [
           "Quinn",
           16
          ],
          [
           "Quinn",
           17
          ],
          [
           "Quinn",
           18
          ],
          [
           "Quinn",
           18
          ]
         ],
         "hovertemplate": "champion=%{customdata[0]}<br>x=%{x}<br>y=%{y}<br>z=%{z}<br>patch=%{customdata[1]}<extra></extra>",
         "legendgroup": "Quinn",
         "marker": {
          "color": "#FF6692",
          "size": 5,
          "symbol": "circle"
         },
         "mode": "markers",
         "name": "Quinn",
         "scene": "scene",
         "showlegend": true,
         "type": "scatter3d",
         "visible": "legendonly",
         "x": {
          "bdata": "YsKvQMJB9UGO4ZxBdrDtwfJlfMHKbM/Bp4T1wZarBkH6jhvBrimpwe8Ey8H9EwjBicSTQTJmlUFBXQnCyCISwrg8vcHE6ZBAWL/8wZaNLsE=",
          "dtype": "f4"
         },
         "y": {
          "bdata": "nMhUwCZEgEGgYaJBouOqQYpfc8GeSlTBULejweJyD767AwO/JfaOwWjRw8EHaSXCrK6TwfpgrMHEZh/B79fOwDnghsGqZGbAAxt7wWJEm8A=",
          "dtype": "f4"
         },
         "z": {
          "bdata": "4QbrwVtspcF4qx3BZCyawUiyI0KdXp5BWBE0QdZRH0J7vl1Aih6LQWwU/EDWrkJBXxYBQs5WesEd/MRA0hRsQWlqyUAGSATCH4S1QXf2osA=",
          "dtype": "f4"
         }
        },
        {
         "customdata": [
          [
           "Syndra",
           0
          ],
          [
           "Syndra",
           1
          ],
          [
           "Syndra",
           2
          ],
          [
           "Syndra",
           3
          ],
          [
           "Syndra",
           4
          ],
          [
           "Syndra",
           5
          ],
          [
           "Syndra",
           6
          ],
          [
           "Syndra",
           7
          ],
          [
           "Syndra",
           8
          ],
          [
           "Syndra",
           9
          ],
          [
           "Syndra",
           10
          ],
          [
           "Syndra",
           11
          ],
          [
           "Syndra",
           12
          ],
          [
           "Syndra",
           13
          ],
          [
           "Syndra",
           14
          ],
          [
           "Syndra",
           15
          ],
          [
           "Syndra",
           16
          ],
          [
           "Syndra",
           17
          ],
          [
           "Syndra",
           18
          ],
          [
           "Syndra",
           18
          ]
         ],
         "hovertemplate": "champion=%{customdata[0]}<br>x=%{x}<br>y=%{y}<br>z=%{z}<br>patch=%{customdata[1]}<extra></extra>",
         "legendgroup": "Syndra",
         "marker": {
          "color": "#B6E880",
          "size": 5,
          "symbol": "circle"
         },
         "mode": "markers",
         "name": "Syndra",
         "scene": "scene",
         "showlegend": true,
         "type": "scatter3d",
         "visible": "legendonly",
         "x": {
          "bdata": "Yy2DQUqlnkFhwXVBSG7uQN2us0GDlYtAXRcXwsssz8FXgxXBmB2+wRD4okArcxnArhc/wdIfpMHXmPvBjqplQfRwh8HtB5LBL52BwVZppT8=",
          "dtype": "f4"
         },
         "y": {
          "bdata": "YDDCQJQkqECEVQxBVv4WQcxl60EK/HHBRuB7wRfezUBGUZK+cNRFQTUzO0H7yVbBHeDCvu6qREDD/rhAVm0ZQZVouUFmSw5BgFEcwfhB+MA=",
          "dtype": "f4"
         },
         "z": {
          "bdata": "rK3rwbQw1cHwG5lBFuOBQS+ulkFjsw7Br61yQdVEksHAG/JA9+GsQRaUjsASk93BjJDCQYS2I0EX0CNBunq/P+XXsUGKcaPBDYANQQqhwr8=",
          "dtype": "f4"
         }
        },
        {
         "customdata": [
          [
           "Aurelion Sol",
           0
          ],
          [
           "Aurelion Sol",
           1
          ],
          [
           "Aurelion Sol",
           2
          ],
          [
           "Aurelion Sol",
           3
          ],
          [
           "Aurelion Sol",
           4
          ],
          [
           "Aurelion Sol",
           5
          ],
          [
           "Aurelion Sol",
           6
          ],
          [
           "Aurelion Sol",
           7
          ],
          [
           "Aurelion Sol",
           8
          ],
          [
           "Aurelion Sol",
           9
          ],
          [
           "Aurelion Sol",
           10
          ],
          [
           "Aurelion Sol",
           11
          ],
          [
           "Aurelion Sol",
           12
          ],
          [
           "Aurelion Sol",
           13
          ],
          [
           "Aurelion Sol",
           14
          ],
          [
           "Aurelion Sol",
           15
          ],
          [
           "Aurelion Sol",
           16
          ],
          [
           "Aurelion Sol",
           17
          ],
          [
           "Aurelion Sol",
           18
          ],
          [
           "Aurelion Sol",
           18
          ]
         ],
         "hovertemplate": "champion=%{customdata[0]}<br>x=%{x}<br>y=%{y}<br>z=%{z}<br>patch=%{customdata[1]}<extra></extra>",
         "legendgroup": "Aurelion Sol",
         "marker": {
          "color": "#FF97FF",
          "size": 5,
          "symbol": "circle"
         },
         "mode": "markers",
         "name": "Aurelion Sol",
         "scene": "scene",
         "showlegend": true,
         "type": "scatter3d",
         "visible": "legendonly",
         "x": {
          "bdata": "8xxpQUR7x0G5fknBzVq7v4Z4LkKe7x7CCHlpv/3dZkGfZRzCCGCbQA/YvcBJWr1BGd1nQWtgXUDhWRBA5yjYP0azJEGsVyFBVdFlwZytx0A=",
          "dtype": "f4"
         },
         "y": {
          "bdata": "2pneQBmb7kGUCATC8oqpwYg2w0BbbY/Bm0EawRhEZcH3ocpA66fiweZUwUFr/GLBDSf1wVH8z8EsY8vB3z+swbANwsCbqB3BteDnQaezCsE=",
          "dtype": "f4"
         },
         "z": {
          "bdata": "oZmKQRS3pUGHZqdBfk5zQQdMasBG/mhByQY8QWy02UHeczJBpqYHwtCLdEGODTNB/AydwblsGMK6BCDCZewxwZZe5sGrfrVB7urxwTYCP0E=",
          "dtype": "f4"
         }
        },
        {
         "customdata": [
          [
           "Sion",
           0
          ],
          [
           "Sion",
           1
          ],
          [
           "Sion",
           2
          ],
          [
           "Sion",
           3
          ],
          [
           "Sion",
           4
          ],
          [
           "Sion",
           5
          ],
          [
           "Sion",
           6
          ],
          [
           "Sion",
           7
          ],
          [
           "Sion",
           8
          ],
          [
           "Sion",
           9
          ],
          [
           "Sion",
           10
          ],
          [
           "Sion",
           11
          ],
          [
           "Sion",
           12
          ],
          [
           "Sion",
           13
          ],
          [
           "Sion",
           14
          ],
          [
           "Sion",
           15
          ],
          [
           "Sion",
           16
          ],
          [
           "Sion",
           17
          ],
          [
           "Sion",
           18
          ],
          [
           "Sion",
           18
          ]
         ],
         "hovertemplate": "champion=%{customdata[0]}<br>x=%{x}<br>y=%{y}<br>z=%{z}<br>patch=%{customdata[1]}<extra></extra>",
         "legendgroup": "Sion",
         "marker": {
          "color": "#FECB52",
          "size": 5,
          "symbol": "circle"
         },
         "mode": "markers",
         "name": "Sion",
         "scene": "scene",
         "showlegend": true,
         "type": "scatter3d",
         "visible": "legendonly",
         "x": {
          "bdata": "hLTRQPLX70AdUR9C3cojQhn21r/EKKZBlfcSwfGNE785/E1AGmMXQNodY8GXaITBAcHNv17IRsEZmxvBpxv6QOTEs8F8tj4/WjzZwPIuSME=",
          "dtype": "f4"
         },
         "y": {
          "bdata": "b0bBwQxP+UHihpxBI9BIwP9+DkEYlJjBAoi2wcMpMcGOaDFCZQpSQbBWuMGtuj5Bx5oYwQu190A/l/xA+wBFwhOKrMHMD6DBDXuKwZlJUsE=",
          "dtype": "f4"
         },
         "z": {
          "bdata": "JtTEQdt3xz5tL2FALyJRvxnhj0HboN/BG4UEQq+UEMJCcTXBoi4uwqTDscFqMyfB2wzqQTWXAkLG3QNCq2/fP0gKrUHjJ9NBOXFqQTk8s0E=",
          "dtype": "f4"
         }
        },
        {
         "customdata": [
          [
           "Kayn",
           0
          ],
          [
           "Kayn",
           1
          ],
          [
           "Kayn",
           2
          ],
          [
           "Kayn",
           3
          ],
          [
           "Kayn",
           4
          ],
          [
           "Kayn",
           5
          ],
          [
           "Kayn",
           6
          ],
          [
           "Kayn",
           7
          ],
          [
           "Kayn",
           8
          ],
          [
           "Kayn",
           9
          ],
          [
           "Kayn",
           10
          ],
          [
           "Kayn",
           11
          ],
          [
           "Kayn",
           12
          ],
          [
           "Kayn",
           13
          ],
          [
           "Kayn",
           14
          ],
          [
           "Kayn",
           15
          ],
          [
           "Kayn",
           16
          ],
          [
           "Kayn",
           17
          ],
          [
           "Kayn",
           18
          ],
          [
           "Kayn",
           18
          ]
         ],
         "hovertemplate": "champion=%{customdata[0]}<br>x=%{x}<br>y=%{y}<br>z=%{z}<br>patch=%{customdata[1]}<extra></extra>",
         "legendgroup": "Kayn",
         "marker": {
          "color": "#636efa",
          "size": 5,
          "symbol": "circle"
         },
         "mode": "markers",
         "name": "Kayn",
         "scene": "scene",
         "showlegend": true,
         "type": "scatter3d",
         "visible": "legendonly",
         "x": {
          "bdata": "iSGtwZuJgME70rxAddivQY/i+0Hq+7ZB+2cuwQC3FELirNs/B420wE87fr2rMtpAkWD6wCE1/ME3bp7AtI+QQSSPLcHN/I3BXwKdwZUrOME=",
          "dtype": "f4"
         },
         "y": {
          "bdata": "4vvUwBuHCr9C/aNB4gUbQZS4cMFSUw5CObrEQbO8okABMZ/Byj4LPi6cGEEpYaRBUuGHQeY7FsGJz9BA8kHHwOh7JkLH58VBi/LFQTlJd8A=",
          "dtype": "f4"
         },
         "z": {
          "bdata": "+i9+vr2PLUH8fN3BDJiHQfrRfsBkqL/Agzw3wZJxD7+30IRAq3BJwdg4EkIpC9y/bKoWQvXtYUETCDDBdqjnQYf9wkBUtAXCILAIwlq1E0E=",
          "dtype": "f4"
         }
        },
        {
         "customdata": [
          [
           "Zoe",
           0
          ],
          [
           "Zoe",
           1
          ],
          [
           "Zoe",
           2
          ],
          [
           "Zoe",
           3
          ],
          [
           "Zoe",
           4
          ],
          [
           "Zoe",
           5
          ],
          [
           "Zoe",
           6
          ],
          [
           "Zoe",
           7
          ],
          [
           "Zoe",
           8
          ],
          [
           "Zoe",
           9
          ],
          [
           "Zoe",
           10
          ],
          [
           "Zoe",
           11
          ],
          [
           "Zoe",
           12
          ],
          [
           "Zoe",
           13
          ],
          [
           "Zoe",
           14
          ],
          [
           "Zoe",
           15
          ],
          [
           "Zoe",
           16
          ],
          [
           "Zoe",
           17
          ],
          [
           "Zoe",
           18
          ],
          [
           "Zoe",
           18
          ]
         ],
         "hovertemplate": "champion=%{customdata[0]}<br>x=%{x}<br>y=%{y}<br>z=%{z}<br>patch=%{customdata[1]}<extra></extra>",
         "legendgroup": "Zoe",
         "marker": {
          "color": "#EF553B",
          "size": 5,
          "symbol": "circle"
         },
         "mode": "markers",
         "name": "Zoe",
         "scene": "scene",
         "showlegend": true,
         "type": "scatter3d",
         "visible": "legendonly",
         "x": {
          "bdata": "iM2oQH5cAULEobu+wkpvQb1AD8FU4Bk/nuuNwarFOEH2H4zBkKHUQY1RgsFLT1/BTkRWweLvokAbLFXBOQvpv5xkvUH4fhrBNJ2uwVfn0j8=",
          "dtype": "f4"
         },
         "y": {
          "bdata": "zWuowVmuPUF2PvTAkwCRwX2DCcJjMYvApq4pwhXvssFKaF3B65BAQUrEq8G5Bx7Cd9h2wS1H0MGebBbC4x7owUtAqkCPXBpALF5CwTp4rMA=",
          "dtype": "f4"
         },
         "z": {
          "bdata": "nndIQQemt0ER4rtB3NqdwV/kGMEr9yjCDgrnQDaQ0cELQQPCoYbMweLJ+cFnErHAFBXcwTaW80E2mYRAOKW2QejfQ0G/ol7Bj8YhwqkR6MA=",
          "dtype": "f4"
         }
        },
        {
         "customdata": [
          [
           "Zyra",
           0
          ],
          [
           "Zyra",
           1
          ],
          [
           "Zyra",
           2
          ],
          [
           "Zyra",
           3
          ],
          [
           "Zyra",
           4
          ],
          [
           "Zyra",
           5
          ],
          [
           "Zyra",
           6
          ],
          [
           "Zyra",
           7
          ],
          [
           "Zyra",
           8
          ],
          [
           "Zyra",
           9
          ],
          [
           "Zyra",
           10
          ],
          [
           "Zyra",
           11
          ],
          [
           "Zyra",
           12
          ],
          [
           "Zyra",
           13
          ],
          [
           "Zyra",
           14
          ],
          [
           "Zyra",
           15
          ],
          [
           "Zyra",
           16
          ],
          [
           "Zyra",
           17
          ],
          [
           "Zyra",
           18
          ],
          [
           "Zyra",
           18
          ]
         ],
         "hovertemplate": "champion=%{customdata[0]}<br>x=%{x}<br>y=%{y}<br>z=%{z}<br>patch=%{customdata[1]}<extra></extra>",
         "legendgroup": "Zyra",
         "marker": {
          "color": "#00cc96",
          "size": 5,
          "symbol": "circle"
         },
         "mode": "markers",
         "name": "Zyra",
         "scene": "scene",
         "showlegend": true,
         "type": "scatter3d",
         "visible": "legendonly",
         "x": {
          "bdata": "fdfHQKhSfEHYx1xBWxucQeTVR76wvUFBTbIOQWCmHcDpc1hB3a0EQvtX6cB8qKs/CMiivhQCsL+wsb5A9crqQV/BRUC7E20/xFQOQQQGiEE=",
          "dtype": "f4"
         },
         "y": {
          "bdata": "GEKRwf7CTj+akq7BQmwWQBvduMFCbbnBo7BLwbhN4kHhJgRCuRCpwCXVvkEQLQJCnlcfQhQJnkHev04/h765QVgNRcFlCp1AaiXLQGW1GUE=",
          "dtype": "f4"
         },
         "z": {
          "bdata": "z/2FQZQqDkG6jRXCrpeqP9JbjcGSIsZBjPscwtNFkUBeXOrBoQIHQX464UH1OLE/yRIuwU8FIMLn2rNBifH8QK+M9MEH9xDCzWIbwsi0kEA=",
          "dtype": "f4"
         }
        },
        {
         "customdata": [
          [
           "Kai'Sa",
           0
          ],
          [
           "Kai'Sa",
           1
          ],
          [
           "Kai'Sa",
           2
          ],
          [
           "Kai'Sa",
           3
          ],
          [
           "Kai'Sa",
           4
          ],
          [
           "Kai'Sa",
           5
          ],
          [
           "Kai'Sa",
           6
          ],
          [
           "Kai'Sa",
           7
          ],
          [
           "Kai'Sa",
           8
          ],
          [
           "Kai'Sa",
           9
          ],
          [
           "Kai'Sa",
           10
          ],
          [
           "Kai'Sa",
           11
          ],
          [
           "Kai'Sa",
           12
          ],
          [
           "Kai'Sa",
           13
          ],
          [
           "Kai'Sa",
           14
          ],
          [
           "Kai'Sa",
           15
          ],
          [
           "Kai'Sa",
           16
          ],
          [
           "Kai'Sa",
           17
          ],
          [
           "Kai'Sa",
           18
          ],
          [
           "Kai'Sa",
           18
          ]
         ],
         "hovertemplate": "champion=%{customdata[0]}<br>x=%{x}<br>y=%{y}<br>z=%{z}<br>patch=%{customdata[1]}<extra></extra>",
         "legendgroup": "Kai'Sa",
         "marker": {
          "color": "#ab63fa",
          "size": 5,
          "symbol": "circle"
         },
         "mode": "markers",
         "name": "Kai'Sa",
         "scene": "scene",
         "showlegend": true,
         "type": "scatter3d",
         "visible": "legendonly",
         "x": {
          "bdata": "bh8ZwopVEMLHEw7CdgIQwjhFnMHUb4rBDDARwr62R8Dx2cHAOtn5QcWADUJLxqVBuiwnQRnupEEUtQxCE4MAQnyPBULJmNdBzL3WQSoRWsA=",
          "dtype": "f4"
         },
         "y": {
          "bdata": "0DwNQWtsu0DAooxALdQTQeU8GsAxcLO8PTrlQBTG7kF+FuRBW+0iQTzoWMEZ7oFBv699QA+RyMEBZaXAqCh4wK/o5j+n9YXAIHGAQRIcPMA=",
          "dtype": "f4"
         },
         "z": {
          "bdata": "UAaJQYU+qUGZEaBBX3hqQfe6G0KUwjtC14y+QQW9dUEiTZpB2Bt6wcxFEkFOlJw/rrTqwH6nbkDo4TLBetbJwQXZvcEgDU3Bv14GwVZog0E=",
          "dtype": "f4"
         }
        },
        {
         "customdata": [
          [
           "Seraphine",
           0
          ],
          [
           "Seraphine",
           1
          ],
          [
           "Seraphine",
           2
          ],
          [
           "Seraphine",
           3
          ],
          [
           "Seraphine",
           4
          ],
          [
           "Seraphine",
           5
          ],
          [
           "Seraphine",
           6
          ],
          [
           "Seraphine",
           7
          ],
          [
           "Seraphine",
           8
          ],
          [
           "Seraphine",
           9
          ],
          [
           "Seraphine",
           10
          ],
          [
           "Seraphine",
           11
          ],
          [
           "Seraphine",
           12
          ],
          [
           "Seraphine",
           13
          ],
          [
           "Seraphine",
           14
          ],
          [
           "Seraphine",
           15
          ],
          [
           "Seraphine",
           16
          ],
          [
           "Seraphine",
           17
          ],
          [
           "Seraphine",
           18
          ],
          [
           "Seraphine",
           18
          ]
         ],
         "hovertemplate": "champion=%{customdata[0]}<br>x=%{x}<br>y=%{y}<br>z=%{z}<br>patch=%{customdata[1]}<extra></extra>",
         "legendgroup": "Seraphine",
         "marker": {
          "color": "#FFA15A",
          "size": 5,
          "symbol": "circle"
         },
         "mode": "markers",
         "name": "Seraphine",
         "scene": "scene",
         "showlegend": true,
         "type": "scatter3d",
         "visible": "legendonly",
         "x": {
          "bdata": "cawLwa7DgsF73DXBmkOEweyf0sGICn5A/S8aQbbREMITXzbB9RuawLVLqEBX6s7Bt20qQojx9b+3xZxAs6NwQPLt+EGajmJBjbajQZaPJ0A=",
          "dtype": "f4"
         },
         "y": {
          "bdata": "DwlZQAxk6kAPReTAqdAYwM3KxEBgQglB69ubQZpEEUHP5YJBYq+9QThvGsHOtMpBJTgRQePKGMDuLqtBdwjBQctkxUFFxQtA2XzLQJDzXME=",
          "dtype": "f4"
         },
         "z": {
          "bdata": "8dAXwiDvAMKtpyvC1A4kwnATccFr07hBSyINQlXH10EbmOpB8U7gQawTb0H57eBA+iy3wGzzHULHkMxBW4jwQR8eg8HOugDCUf67wXQIAz8=",
          "dtype": "f4"
         }
        },
        {
         "customdata": [
          [
           "Sivir",
           0
          ],
          [
           "Sivir",
           1
          ],
          [
           "Sivir",
           2
          ],
          [
           "Sivir",
           3
          ],
          [
           "Sivir",
           4
          ],
          [
           "Sivir",
           5
          ],
          [
           "Sivir",
           6
          ],
          [
           "Sivir",
           7
          ],
          [
           "Sivir",
           8
          ],
          [
           "Sivir",
           9
          ],
          [
           "Sivir",
           10
          ],
          [
           "Sivir",
           11
          ],
          [
           "Sivir",
           12
          ],
          [
           "Sivir",
           13
          ],
          [
           "Sivir",
           14
          ],
          [
           "Sivir",
           15
          ],
          [
           "Sivir",
           16
          ],
          [
           "Sivir",
           17
          ],
          [
           "Sivir",
           18
          ],
          [
           "Sivir",
           18
          ]
         ],
         "hovertemplate": "champion=%{customdata[0]}<br>x=%{x}<br>y=%{y}<br>z=%{z}<br>patch=%{customdata[1]}<extra></extra>",
         "legendgroup": "Sivir",
         "marker": {
          "color": "#19d3f3",
          "size": 5,
          "symbol": "circle"
         },
         "mode": "markers",
         "name": "Sivir",
         "scene": "scene",
         "showlegend": true,
         "type": "scatter3d",
         "visible": "legendonly",
         "x": {
          "bdata": "mH8PP6uY4EH0JNRBMLQeQmHVyEG+yYpBqUrSQfwn7EELaHRBQEAAQTyAPcFRdNDAuqMFQlUgg0HJtfJA6rVdQbziLsKiqUPBOVzswLjNh8A=",
          "dtype": "f4"
         },
         "y": {
          "bdata": "boFSvfT9B8EbNbTBweCAQCsbEcHcobvBjr6AQLsvesEH50VAK8zHv4/qy0FfVhNCXDe0QHV+O0FvWqjBdb+ePy5QakEk3wlCJktmQVR6GMA=",
          "dtype": "f4"
         },
         "z": {
          "bdata": "6j6YwcELw8HC9LfBB/iKwS6HBMJ9wYJB2yjbwWLltMG/RSTBlTRAQeSBrUGg8aNBDL/Uv8aA4MHgHNxA08ZoQS8Zqr6QpnRB/FZNwWpiOME=",
          "dtype": "f4"
         }
        },
        {
         "customdata": [
          [
           "Gnar",
           0
          ],
          [
           "Gnar",
           1
          ],
          [
           "Gnar",
           2
          ],
          [
           "Gnar",
           3
          ],
          [
           "Gnar",
           4
          ],
          [
           "Gnar",
           5
          ],
          [
           "Gnar",
           6
          ],
          [
           "Gnar",
           7
          ],
          [
           "Gnar",
           8
          ],
          [
           "Gnar",
           9
          ],
          [
           "Gnar",
           10
          ],
          [
           "Gnar",
           11
          ],
          [
           "Gnar",
           12
          ],
          [
           "Gnar",
           13
          ],
          [
           "Gnar",
           14
          ],
          [
           "Gnar",
           15
          ],
          [
           "Gnar",
           16
          ],
          [
           "Gnar",
           17
          ],
          [
           "Gnar",
           18
          ],
          [
           "Gnar",
           18
          ]
         ],
         "hovertemplate": "champion=%{customdata[0]}<br>x=%{x}<br>y=%{y}<br>z=%{z}<br>patch=%{customdata[1]}<extra></extra>",
         "legendgroup": "Gnar",
         "marker": {
          "color": "#FF6692",
          "size": 5,
          "symbol": "circle"
         },
         "mode": "markers",
         "name": "Gnar",
         "scene": "scene",
         "showlegend": true,
         "type": "scatter3d",
         "visible": "legendonly",
         "x": {
          "bdata": "ZzLnQHboHcDe+J/AKMy+QSg4nECmQiRBUMJyweXAB8L5xY1AYTtnQcgti0BEir9Af0RBwXMwvsGo+L3BjxnDP1oi88CLZxxCQ84HQbBDH0E=",
          "dtype": "f4"
         },
         "y": {
          "bdata": "Cu4Swed9MEFfp4zBxQSuPjjYJMEaBofBnoVPwZ4l9L+PXpjBNhaMwQ8Waj5kFWnBwezWQWL2C8K99nnBEpiHwZA+sUHDzG/BB4hLQZCcZsE=",
          "dtype": "f4"
         },
         "z": {
          "bdata": "k1YFQREq6kA8yEZBX4g5wMwm6kCRbylBPmfDwTnnZ8H78z9BGEBsQTXP8kH/7uZAnGRbQWNu/8C7ykI/Q7wuQU7GT0G3iRvAKQzMwa+sREE=",
          "dtype": "f4"
         }
        },
        {
         "customdata": [
          [
           "Zac",
           0
          ],
          [
           "Zac",
           1
          ],
          [
           "Zac",
           2
          ],
          [
           "Zac",
           3
          ],
          [
           "Zac",
           4
          ],
          [
           "Zac",
           5
          ],
          [
           "Zac",
           6
          ],
          [
           "Zac",
           7
          ],
          [
           "Zac",
           8
          ],
          [
           "Zac",
           9
          ],
          [
           "Zac",
           10
          ],
          [
           "Zac",
           11
          ],
          [
           "Zac",
           12
          ],
          [
           "Zac",
           13
          ],
          [
           "Zac",
           14
          ],
          [
           "Zac",
           15
          ],
          [
           "Zac",
           16
          ],
          [
           "Zac",
           17
          ],
          [
           "Zac",
           18
          ],
          [
           "Zac",
           18
          ]
         ],
         "hovertemplate": "champion=%{customdata[0]}<br>x=%{x}<br>y=%{y}<br>z=%{z}<br>patch=%{customdata[1]}<extra></extra>",
         "legendgroup": "Zac",
         "marker": {
          "color": "#B6E880",
          "size": 5,
          "symbol": "circle"
         },
         "mode": "markers",
         "name": "Zac",
         "scene": "scene",
         "showlegend": true,
         "type": "scatter3d",
         "visible": "legendonly",
         "x": {
          "bdata": "pZimviPG38H3LAzC9uzJQcL5jUCVfzjCuG8AwSVmE8LXLonAQevOwNenOMKY99nBsyAIwAxgK8FHDcHAu4LPQXhUEcL0o/XB5gUQwsfr4UA=",
          "dtype": "f4"
         },
         "y": {
          "bdata": "hrmFwZyhdMAd0SnBz2IXQkq/g8Ey0xxBaAtzwRtjUEHxTuVBsK7UQe4t50B2zSpBtEI8QYIps0Fw46PAIcssQY/+hMFZ/F3B74l5QaKyj0A=",
          "dtype": "f4"
         },
         "z": {
          "bdata": "aCvUQfMcUUHIbV5A3FJZwaS3L0Kdx7VAaiTowRqybb0rJ7HBvrzXwWuktECZPMfB80cCQsZT5cCB19dBw8qLwRiMmUFH+TlB5IeWQUR/psE=",
          "dtype": "f4"
         }
        },
        {
         "customdata": [
          [
           "Yasuo",
           0
          ],
          [
           "Yasuo",
           1
          ],
          [
           "Yasuo",
           2
          ],
          [
           "Yasuo",
           3
          ],
          [
           "Yasuo",
           4
          ],
          [
           "Yasuo",
           5
          ],
          [
           "Yasuo",
           6
          ],
          [
           "Yasuo",
           7
          ],
          [
           "Yasuo",
           8
          ],
          [
           "Yasuo",
           9
          ],
          [
           "Yasuo",
           10
          ],
          [
           "Yasuo",
           11
          ],
          [
           "Yasuo",
           12
          ],
          [
           "Yasuo",
           13
          ],
          [
           "Yasuo",
           14
          ],
          [
           "Yasuo",
           15
          ],
          [
           "Yasuo",
           16
          ],
          [
           "Yasuo",
           17
          ],
          [
           "Yasuo",
           18
          ],
          [
           "Yasuo",
           18
          ]
         ],
         "hovertemplate": "champion=%{customdata[0]}<br>x=%{x}<br>y=%{y}<br>z=%{z}<br>patch=%{customdata[1]}<extra></extra>",
         "legendgroup": "Yasuo",
         "marker": {
          "color": "#FF97FF",
          "size": 5,
          "symbol": "circle"
         },
         "mode": "markers",
         "name": "Yasuo",
         "scene": "scene",
         "showlegend": true,
         "type": "scatter3d",
         "visible": "legendonly",
         "x": {
          "bdata": "wLbFwEy1sMARDaZAz+4dwRuAgcGxl5G/m5BWwW716kBipANCTfD3QeQmfcE4R9k97ApAwQaHeMEVBQTBAAKiwXcLmMHFaszBbivPwdLKv74=",
          "dtype": "f4"
         },
         "y": {
          "bdata": "7flJQIX2zkDVwMLBxKKhwcyvCsJOBQ7BLI6fwcP1c8FaUIzAMxp8wE9RAsIG5kLCbNn7wdFEi7+kHq1BlHyhwTZOkcFyvaDBNnuAwBuX28A=",
          "dtype": "f4"
         },
         "z": {
          "bdata": "0E3AQcGhpUGgl9XBb0+Qwb6KccGFLw7CPdtrwStsC8LDkLhAnGO8QAh6HsElU4TArg2cQDLYPkLXf7FBlnFGwY8PQEB0lW1AM6ZKwbxHccA=",
          "dtype": "f4"
         }
        },
        {
         "customdata": [
          [
           "Soraka",
           0
          ],
          [
           "Soraka",
           1
          ],
          [
           "Soraka",
           2
          ],
          [
           "Soraka",
           3
          ],
          [
           "Soraka",
           4
          ],
          [
           "Soraka",
           5
          ],
          [
           "Soraka",
           6
          ],
          [
           "Soraka",
           7
          ],
          [
           "Soraka",
           8
          ],
          [
           "Soraka",
           9
          ],
          [
           "Soraka",
           10
          ],
          [
           "Soraka",
           11
          ],
          [
           "Soraka",
           12
          ],
          [
           "Soraka",
           13
          ],
          [
           "Soraka",
           14
          ],
          [
           "Soraka",
           15
          ],
          [
           "Soraka",
           16
          ],
          [
           "Soraka",
           17
          ],
          [
           "Soraka",
           18
          ],
          [
           "Soraka",
           18
          ]
         ],
         "hovertemplate": "champion=%{customdata[0]}<br>x=%{x}<br>y=%{y}<br>z=%{z}<br>patch=%{customdata[1]}<extra></extra>",
         "legendgroup": "Soraka",
         "marker": {
          "color": "#FECB52",
          "size": 5,
          "symbol": "circle"
         },
         "mode": "markers",
         "name": "Soraka",
         "scene": "scene",
         "showlegend": true,
         "type": "scatter3d",
         "visible": "legendonly",
         "x": {
          "bdata": "eO3PQUXHR0GUCdm++izMQf/fIUHlfgrA59+UwRoXHUGOJCxBF4wQQrdP2cDKjJVB4dsEQuorysBVbuFBmj7QPy9ip0HSrPtB0+6fwBgPCUE=",
          "dtype": "f4"
         },
         "y": {
          "bdata": "VszHQNLTscFX/YxB9rpUQR52oD7kurzBXBVEQbK3bb/Xc8HAhJ2bQInjjUAu9rdBauLEwAOTEsBc97BBPM+fwM02hcEW66TAUOyTQIx0UcA=",
          "dtype": "f4"
         },
         "z": {
          "bdata": "SNHFQc9B4UFg3I9BeQ/vQSout0EPnD6/S/ViwZZlxEEw8i/AVNHPQa/CF8JghZ3BwnCmwAFo9cHV8aC/edFiwaotucB2Ujs/eOoMwo8UaUA=",
          "dtype": "f4"
         }
        },
        {
         "customdata": [
          [
           "Vel'Koz",
           0
          ],
          [
           "Vel'Koz",
           1
          ],
          [
           "Vel'Koz",
           2
          ],
          [
           "Vel'Koz",
           3
          ],
          [
           "Vel'Koz",
           4
          ],
          [
           "Vel'Koz",
           5
          ],
          [
           "Vel'Koz",
           6
          ],
          [
           "Vel'Koz",
           7
          ],
          [
           "Vel'Koz",
           8
          ],
          [
           "Vel'Koz",
           9
          ],
          [
           "Vel'Koz",
           10
          ],
          [
           "Vel'Koz",
           11
          ],
          [
           "Vel'Koz",
           12
          ],
          [
           "Vel'Koz",
           13
          ],
          [
           "Vel'Koz",
           14
          ],
          [
           "Vel'Koz",
           15
          ],
          [
           "Vel'Koz",
           16
          ],
          [
           "Vel'Koz",
           17
          ],
          [
           "Vel'Koz",
           18
          ],
          [
           "Vel'Koz",
           18
          ]
         ],
         "hovertemplate": "champion=%{customdata[0]}<br>x=%{x}<br>y=%{y}<br>z=%{z}<br>patch=%{customdata[1]}<extra></extra>",
         "legendgroup": "Vel'Koz",
         "marker": {
          "color": "#636efa",
          "size": 5,
          "symbol": "circle"
         },
         "mode": "markers",
         "name": "Vel'Koz",
         "scene": "scene",
         "showlegend": true,
         "type": "scatter3d",
         "visible": "legendonly",
         "x": {
          "bdata": "Fzi9QT2jE0J/bg1Cqwi9wahtX8BH3QZBvkkZQv3810HdS6HA+NWQwRI/vcGA+MfBzSzLwQVau8GFBdPBeXLowCT+/z9JUYXB9AvVwRuRI8E=",
          "dtype": "f4"
         },
         "y": {
          "bdata": "3ACeQT0XoUFHm3hB/hVTwaAwm0F++QrBv9idQf4VsUGdT63BS3OmQbYjjEGmCvy/p+OJQMor8kCDh4lAZhjbQC+7iME0XDRBqsCLQTM7lEA=",
          "dtype": "f4"
         },
         "z": {
          "bdata": "/tfuwVi/YsEkR2TBPqgUwpVXbsGW4tfBpfs3wSA96sH7pKTBkpMIwm+2ZcHo+RfC81AcwqoOxkHFgfRBQa9bwYUnysG6spjBIiJJwSeLzcA=",
          "dtype": "f4"
         }
        },
        {
         "customdata": [
          [
           "Taliyah",
           0
          ],
          [
           "Taliyah",
           1
          ],
          [
           "Taliyah",
           2
          ],
          [
           "Taliyah",
           3
          ],
          [
           "Taliyah",
           4
          ],
          [
           "Taliyah",
           5
          ],
          [
           "Taliyah",
           6
          ],
          [
           "Taliyah",
           7
          ],
          [
           "Taliyah",
           8
          ],
          [
           "Taliyah",
           9
          ],
          [
           "Taliyah",
           10
          ],
          [
           "Taliyah",
           11
          ],
          [
           "Taliyah",
           12
          ],
          [
           "Taliyah",
           13
          ],
          [
           "Taliyah",
           14
          ],
          [
           "Taliyah",
           15
          ],
          [
           "Taliyah",
           16
          ],
          [
           "Taliyah",
           17
          ],
          [
           "Taliyah",
           18
          ],
          [
           "Taliyah",
           18
          ]
         ],
         "hovertemplate": "champion=%{customdata[0]}<br>x=%{x}<br>y=%{y}<br>z=%{z}<br>patch=%{customdata[1]}<extra></extra>",
         "legendgroup": "Taliyah",
         "marker": {
          "color": "#EF553B",
          "size": 5,
          "symbol": "circle"
         },
         "mode": "markers",
         "name": "Taliyah",
         "scene": "scene",
         "showlegend": true,
         "type": "scatter3d",
         "visible": "legendonly",
         "x": {
          "bdata": "UDRjQYsIvEGjhtlAeSiWwEXDPUHL3c/BOq8LwRTbesHSTATBL3QrQPSzdUBAfPLBbrWYPwxvAcIypqfBcAbAwFaOAsHXOUhBOWCewbE9bsA=",
          "dtype": "f4"
         },
         "y": {
          "bdata": "/X3TQMft4sHisgHCqCIkwpuJEEKLVmzB0vkbwV/VZ0BwJw5BMXIEQTw2kUCfUn1B+RpnQQaP8b8E6aTBig4PQuzIqUEMF/tAxn/nQdBSv8A=",
          "dtype": "f4"
         },
         "z": {
          "bdata": "pz+rwDRMXUCKV1ZBgSB7wFSAT0FJpdLA4ugsQmgV8cG+8kfBAyUQwnT2I8J7D+RAWZD1QXtBdkBZzYlAi8fvwKARCsJ3OhHC0im6QZ5RmsA=",
          "dtype": "f4"
         }
        },
        {
         "customdata": [
          [
           "Camille",
           0
          ],
          [
           "Camille",
           1
          ],
          [
           "Camille",
           2
          ],
          [
           "Camille",
           3
          ],
          [
           "Camille",
           4
          ],
          [
           "Camille",
           5
          ],
          [
           "Camille",
           6
          ],
          [
           "Camille",
           7
          ],
          [
           "Camille",
           8
          ],
          [
           "Camille",
           9
          ],
          [
           "Camille",
           10
          ],
          [
           "Camille",
           11
          ],
          [
           "Camille",
           12
          ],
          [
           "Camille",
           13
          ],
          [
           "Camille",
           14
          ],
          [
           "Camille",
           15
          ],
          [
           "Camille",
           16
          ],
          [
           "Camille",
           17
          ],
          [
           "Camille",
           18
          ],
          [
           "Camille",
           18
          ]
         ],
         "hovertemplate": "champion=%{customdata[0]}<br>x=%{x}<br>y=%{y}<br>z=%{z}<br>patch=%{customdata[1]}<extra></extra>",
         "legendgroup": "Camille",
         "marker": {
          "color": "#00cc96",
          "size": 5,
          "symbol": "circle"
         },
         "mode": "markers",
         "name": "Camille",
         "scene": "scene",
         "showlegend": true,
         "type": "scatter3d",
         "visible": "legendonly",
         "x": {
          "bdata": "+qOJwHKGrME/jgXBe4Kqwbw+EcIa0a/BPoDcwY/lr7/TyQTC/5FJwXf16kCCD4dBQySJwEos9sC2bBPC1f98QBx12MFY6k/BzixhQRGENEE=",
          "dtype": "f4"
         },
         "y": {
          "bdata": "ZqSDQW6E5sArVz5Bq/Asv1eGWD7kLybBNgciQYcbzD/l6iTBq+MXwdIAcsEmTfbBs5y0wONRiMET7apAp6quwRoPQEGly4nBzLy+wYATIEE=",
          "dtype": "f4"
         },
         "z": {
          "bdata": "aaINQU9WpcGa16JBr5WlwcilesEESpvBwdpdwE0WwcHzKKxBYv3yQYc/FcKukmBBm9U3wq0+3EE2q9XB9MQfwYTkNEA/3wBCY93nQXYzKcA=",
          "dtype": "f4"
         }
        },
        {
         "customdata": [
          [
           "Akshan",
           0
          ],
          [
           "Akshan",
           1
          ],
          [
           "Akshan",
           2
          ],
          [
           "Akshan",
           3
          ],
          [
           "Akshan",
           4
          ],
          [
           "Akshan",
           5
          ],
          [
           "Akshan",
           6
          ],
          [
           "Akshan",
           7
          ],
          [
           "Akshan",
           8
          ],
          [
           "Akshan",
           9
          ],
          [
           "Akshan",
           10
          ],
          [
           "Akshan",
           11
          ],
          [
           "Akshan",
           12
          ],
          [
           "Akshan",
           13
          ],
          [
           "Akshan",
           14
          ],
          [
           "Akshan",
           15
          ],
          [
           "Akshan",
           16
          ],
          [
           "Akshan",
           17
          ],
          [
           "Akshan",
           18
          ],
          [
           "Akshan",
           18
          ]
         ],
         "hovertemplate": "champion=%{customdata[0]}<br>x=%{x}<br>y=%{y}<br>z=%{z}<br>patch=%{customdata[1]}<extra></extra>",
         "legendgroup": "Akshan",
         "marker": {
          "color": "#ab63fa",
          "size": 5,
          "symbol": "circle"
         },
         "mode": "markers",
         "name": "Akshan",
         "scene": "scene",
         "showlegend": true,
         "type": "scatter3d",
         "visible": "legendonly",
         "x": {
          "bdata": "+K2SwdmaMMJDUTfC4UrsQBfHDkJfpGLB8XAGQjBMFUI2x9/BwF6CwX7pasEP01/AimqFQTxSgkEiMmO+cH7bwHdEjUHNpg3BvKX5wYaM98A=",
          "dtype": "f4"
         },
         "y": {
          "bdata": "e/EKwijjE8D080bBR7CoQBrbPkHkU0U/cPTdwM1DNkE9YT/Bs88QwkTJSsHRmB7CojW4wfi448GJeYm/NUUfwWNyRsBmOyXBL38Jwa2+0cA=",
          "dtype": "f4"
         },
         "z": {
          "bdata": "RpZNQVECB8FaE91AHly+wCNwIcG1Vp7ByeelQckJlr/UqBHBOOIqwey6m0EGL5tBiO9WQYAr4EDsgHxBawDKQVtpxEFDMwBCmPebwWqQd0A=",
          "dtype": "f4"
         }
        },
        {
         "customdata": [
          [
           "Teemo",
           0
          ],
          [
           "Teemo",
           1
          ],
          [
           "Teemo",
           2
          ],
          [
           "Teemo",
           3
          ],
          [
           "Teemo",
           4
          ],
          [
           "Teemo",
           5
          ],
          [
           "Teemo",
           6
          ],
          [
           "Teemo",
           7
          ],
          [
           "Teemo",
           8
          ],
          [
           "Teemo",
           9
          ],
          [
           "Teemo",
           10
          ],
          [
           "Teemo",
           11
          ],
          [
           "Teemo",
           12
          ],
          [
           "Teemo",
           13
          ],
          [
           "Teemo",
           14
          ],
          [
           "Teemo",
           15
          ],
          [
           "Teemo",
           16
          ],
          [
           "Teemo",
           17
          ],
          [
           "Teemo",
           18
          ],
          [
           "Teemo",
           18
          ]
         ],
         "hovertemplate": "champion=%{customdata[0]}<br>x=%{x}<br>y=%{y}<br>z=%{z}<br>patch=%{customdata[1]}<extra></extra>",
         "legendgroup": "Teemo",
         "marker": {
          "color": "#FFA15A",
          "size": 5,
          "symbol": "circle"
         },
         "mode": "markers",
         "name": "Teemo",
         "scene": "scene",
         "showlegend": true,
         "type": "scatter3d",
         "visible": "legendonly",
         "x": {
          "bdata": "md+1QS+k9UEO7gxCNpnoQWrmGEHpSfBBP2FmQTPqGEJ2nAFC6YoywaTDUsEdf5nAm6AQQoDy5D4g2PLAr6wsQaLxjD9dkZ1Av9DqwfB7LUA=",
          "dtype": "f4"
         },
         "y": {
          "bdata": "pfyWwBX2gcASNPJAw08RwaND0L/EeRVBEB7Yv6W8mECoSKJAO+4nQl4IIUIyDp09rpzGwSXY+L/WmfPA9fcAwnyhQEHXDA1B0V61P7Yhf78=",
          "dtype": "f4"
         },
         "z": {
          "bdata": "eiHIQeb+4kGBERTBFK8GQs6f4kEMettBTc/vQf4AykGHBs5BEyQhQJGIi0AgbPbBkRkEwawt5MGlQszB6qe9QBz65sEQL/bBxNT1wb2GLsE=",
          "dtype": "f4"
         }
        },
        {
         "customdata": [
          [
           "Tristana",
           0
          ],
          [
           "Tristana",
           1
          ],
          [
           "Tristana",
           2
          ],
          [
           "Tristana",
           3
          ],
          [
           "Tristana",
           4
          ],
          [
           "Tristana",
           5
          ],
          [
           "Tristana",
           6
          ],
          [
           "Tristana",
           7
          ],
          [
           "Tristana",
           8
          ],
          [
           "Tristana",
           9
          ],
          [
           "Tristana",
           10
          ],
          [
           "Tristana",
           11
          ],
          [
           "Tristana",
           12
          ],
          [
           "Tristana",
           13
          ],
          [
           "Tristana",
           14
          ],
          [
           "Tristana",
           15
          ],
          [
           "Tristana",
           16
          ],
          [
           "Tristana",
           17
          ],
          [
           "Tristana",
           18
          ],
          [
           "Tristana",
           18
          ]
         ],
         "hovertemplate": "champion=%{customdata[0]}<br>x=%{x}<br>y=%{y}<br>z=%{z}<br>patch=%{customdata[1]}<extra></extra>",
         "legendgroup": "Tristana",
         "marker": {
          "color": "#19d3f3",
          "size": 5,
          "symbol": "circle"
         },
         "mode": "markers",
         "name": "Tristana",
         "scene": "scene",
         "showlegend": true,
         "type": "scatter3d",
         "visible": "legendonly",
         "x": {
          "bdata": "aA2kwYd1tMEih/1BtUUbQj4YEULyCxNCgioUQigYA0JnrhVCVioEQGQWkkH91VA+3ZKWwVjMoMBa3QbBppjWwZVd5MFmnO7BEkSwwciaH0A=",
          "dtype": "f4"
         },
         "y": {
          "bdata": "LxXBwaplvsGsJF/A5cgTwc7qLMEIYCbBjQotwQcpCsFWMpZA+yPWwSEL18A5IBzBhzUpQbUJy0EFuMjBQVxjQdCp0ED7CjFBhoEzQYknLEA=",
          "dtype": "f4"
         },
         "z": {
          "bdata": "bOjhQRhA2EHstKTBSEu4wW2M5cH89rrBHdWqwSKiqcH4aZ3Abw3cQMHKJELdXiNCWXPywYwiIMEtqJRARyfrQaO66EGvYPJB+zn8QfCf60E=",
          "dtype": "f4"
         }
        },
        {
         "customdata": [
          [
           "Warwick",
           0
          ],
          [
           "Warwick",
           1
          ],
          [
           "Warwick",
           2
          ],
          [
           "Warwick",
           3
          ],
          [
           "Warwick",
           4
          ],
          [
           "Warwick",
           5
          ],
          [
           "Warwick",
           6
          ],
          [
           "Warwick",
           7
          ],
          [
           "Warwick",
           8
          ],
          [
           "Warwick",
           9
          ],
          [
           "Warwick",
           10
          ],
          [
           "Warwick",
           11
          ],
          [
           "Warwick",
           12
          ],
          [
           "Warwick",
           13
          ],
          [
           "Warwick",
           14
          ],
          [
           "Warwick",
           15
          ],
          [
           "Warwick",
           16
          ],
          [
           "Warwick",
           17
          ],
          [
           "Warwick",
           18
          ],
          [
           "Warwick",
           18
          ]
         ],
         "hovertemplate": "champion=%{customdata[0]}<br>x=%{x}<br>y=%{y}<br>z=%{z}<br>patch=%{customdata[1]}<extra></extra>",
         "legendgroup": "Warwick",
         "marker": {
          "color": "#FF6692",
          "size": 5,
          "symbol": "circle"
         },
         "mode": "markers",
         "name": "Warwick",
         "scene": "scene",
         "showlegend": true,
         "type": "scatter3d",
         "visible": "legendonly",
         "x": {
          "bdata": "jhkdwoCUj8CcGYzAPfhrwLJ/q8HSHMrBErbkwCBr2UFMLLvB1YqdQdZezEGMh06/c6FLwSEfscHJJoJADRhtwQRcfEAIj5HB1pywwcYbv8A=",
          "dtype": "f4"
         },
         "y": {
          "bdata": "B6b/QJAtTkHmwSZBE8WXQTEUEEJwDQ1CiiXGQbg+oUDf2A9B/lZ7QdnRaUFkUdVBhJmevXFhpcGVe8DBRiYHQuMDtkFk8K/BU0gjwbPkKUE=",
          "dtype": "f4"
         },
         "z": {
          "bdata": "4sOewWr6JkJKeyBCgYi1wfI4PsFcFD7A+2a+wXUYMsGnlgnBd59dQT9UhkFZOr3BOUaCQGMFL8BjrMXAyXCzQYCH2sHBMqTAlCKKQSQtw0A=",
          "dtype": "f4"
         }
        },
        {
         "customdata": [
          [
           "Olaf",
           0
          ],
          [
           "Olaf",
           1
          ],
          [
           "Olaf",
           2
          ],
          [
           "Olaf",
           3
          ],
          [
           "Olaf",
           4
          ],
          [
           "Olaf",
           5
          ],
          [
           "Olaf",
           6
          ],
          [
           "Olaf",
           7
          ],
          [
           "Olaf",
           8
          ],
          [
           "Olaf",
           9
          ],
          [
           "Olaf",
           10
          ],
          [
           "Olaf",
           11
          ],
          [
           "Olaf",
           12
          ],
          [
           "Olaf",
           13
          ],
          [
           "Olaf",
           14
          ],
          [
           "Olaf",
           15
          ],
          [
           "Olaf",
           16
          ],
          [
           "Olaf",
           17
          ],
          [
           "Olaf",
           18
          ],
          [
           "Olaf",
           18
          ]
         ],
         "hovertemplate": "champion=%{customdata[0]}<br>x=%{x}<br>y=%{y}<br>z=%{z}<br>patch=%{customdata[1]}<extra></extra>",
         "legendgroup": "Olaf",
         "marker": {
          "color": "#B6E880",
          "size": 5,
          "symbol": "circle"
         },
         "mode": "markers",
         "name": "Olaf",
         "scene": "scene",
         "showlegend": true,
         "type": "scatter3d",
         "visible": "legendonly",
         "x": {
          "bdata": "1ZQcwkxtI8IVukvB4oTFwflsl8CFWs3BGcLlQcC1VsHkSdTBOTZaQKRnwj62AazBRU0XwbpOIMEK+qXBHmQXwg8OZkH95FrBEl8KQphvvr8=",
          "dtype": "f4"
         },
         "y": {
          "bdata": "7yELwZCMOME7tZ7BXv8AQkfOI8Gzxd3BoGkRQeTeOUHh6VfB6ULmwIcM9MDxXitBvc8JQn3iIEIuAivAUP2sQNCRAMKcMhdBAiAlQBoYCME=",
          "dtype": "f4"
         },
         "z": {
          "bdata": "l84gwfwhGcGj/xPBLvS9QM8hmkHWeWM/QshaQeMuEELZwrtAU9cTwQ26C8FHzL5BJyzEwbffUsCw1WXBXObOQFiJwEH8FAVC5vaaQBV2l74=",
          "dtype": "f4"
         }
        },
        {
         "customdata": [
          [
           "Nunu & Willump",
           0
          ],
          [
           "Nunu & Willump",
           1
          ],
          [
           "Nunu & Willump",
           2
          ],
          [
           "Nunu & Willump",
           3
          ],
          [
           "Nunu & Willump",
           4
          ],
          [
           "Nunu & Willump",
           5
          ],
          [
           "Nunu & Willump",
           6
          ],
          [
           "Nunu & Willump",
           7
          ],
          [
           "Nunu & Willump",
           8
          ],
          [
           "Nunu & Willump",
           9
          ],
          [
           "Nunu & Willump",
           10
          ],
          [
           "Nunu & Willump",
           11
          ],
          [
           "Nunu & Willump",
           12
          ],
          [
           "Nunu & Willump",
           13
          ],
          [
           "Nunu & Willump",
           14
          ],
          [
           "Nunu & Willump",
           15
          ],
          [
           "Nunu & Willump",
           16
          ],
          [
           "Nunu & Willump",
           17
          ],
          [
           "Nunu & Willump",
           18
          ],
          [
           "Nunu & Willump",
           18
          ]
         ],
         "hovertemplate": "champion=%{customdata[0]}<br>x=%{x}<br>y=%{y}<br>z=%{z}<br>patch=%{customdata[1]}<extra></extra>",
         "legendgroup": "Nunu & Willump",
         "marker": {
          "color": "#FF97FF",
          "size": 5,
          "symbol": "circle"
         },
         "mode": "markers",
         "name": "Nunu & Willump",
         "scene": "scene",
         "showlegend": true,
         "type": "scatter3d",
         "visible": "legendonly",
         "x": {
          "bdata": "fGa+wdQuFEGgO2JBUIoFQg48TkFR3tjBReW5QbLmxsE6tKhAN+wwv1fBJkE3zVRBAsIqQUmfrsEOZn1A+o0QQe7rbEHmJRpBRscFQWLzf0A=",
          "dtype": "f4"
         },
         "y": {
          "bdata": "cwl5QaHP+UFAG15BP1OmQTMeKEJ+UgLCZeEbQj/NkUH7yAFCWRT4QehXlL+POyW/tXn6QV4WVEHR9AdCFzztQaiKlkCfih++Nl80wL+SVUE=",
          "dtype": "f4"
         },
         "z": {
          "bdata": "ZpxNQWjjbMHCpZdBBgbDwIvdOMH+D26/WXxLwUXZdkHLp+BBqmYIQk5IMUIh1Q9CZ+TYQc/vN0EPd+RBlvbVQQFNvkEnbihCxk4rQqrypkA=",
          "dtype": "f4"
         }
        },
        {
         "customdata": [
          [
           "Bel'Veth",
           0
          ],
          [
           "Bel'Veth",
           1
          ],
          [
           "Bel'Veth",
           2
          ],
          [
           "Bel'Veth",
           3
          ],
          [
           "Bel'Veth",
           4
          ],
          [
           "Bel'Veth",
           5
          ],
          [
           "Bel'Veth",
           6
          ],
          [
           "Bel'Veth",
           7
          ],
          [
           "Bel'Veth",
           8
          ],
          [
           "Bel'Veth",
           9
          ],
          [
           "Bel'Veth",
           10
          ],
          [
           "Bel'Veth",
           11
          ],
          [
           "Bel'Veth",
           12
          ],
          [
           "Bel'Veth",
           13
          ],
          [
           "Bel'Veth",
           14
          ],
          [
           "Bel'Veth",
           15
          ],
          [
           "Bel'Veth",
           16
          ],
          [
           "Bel'Veth",
           17
          ],
          [
           "Bel'Veth",
           18
          ],
          [
           "Bel'Veth",
           18
          ]
         ],
         "hovertemplate": "champion=%{customdata[0]}<br>x=%{x}<br>y=%{y}<br>z=%{z}<br>patch=%{customdata[1]}<extra></extra>",
         "legendgroup": "Bel'Veth",
         "marker": {
          "color": "#FECB52",
          "size": 5,
          "symbol": "circle"
         },
         "mode": "markers",
         "name": "Bel'Veth",
         "scene": "scene",
         "showlegend": true,
         "type": "scatter3d",
         "visible": "legendonly",
         "x": {
          "bdata": "hYq3waLDusFNGDtAwekSwjyDFcILDapBoh2tQcsrG8Et/anBw6KdwaPl3MHunqjAmlekwBpIAMHz0b9BaPOiwXLxNsK+6XZB8b6pwUqM/sA=",
          "dtype": "f4"
         },
         "y": {
          "bdata": "YxkbwOO3C0L4zBHBSTS+QZhNmUB1/xxCt1bAQV6tpUHExMlBC2vOQYOSokGlX6NBStmuQewMK8E5u2FBZIN3vgApvb/nkePANUL7wVwdkMA=",
          "dtype": "f4"
         },
         "z": {
          "bdata": "ukO/QC/Z/b9zrurBP1bGwL7T6cGlNSLBsVKUQe3hZsGQHc9AU1yTQPYHoUCZuCHBFtYSwsiC+MDHagdBt+CnPzTI3EB0hCNBFGQ5QQc9hsA=",
          "dtype": "f4"
         }
        },
        {
         "customdata": [
          [
           "Braum",
           0
          ],
          [
           "Braum",
           1
          ],
          [
           "Braum",
           2
          ],
          [
           "Braum",
           3
          ],
          [
           "Braum",
           4
          ],
          [
           "Braum",
           5
          ],
          [
           "Braum",
           6
          ],
          [
           "Braum",
           7
          ],
          [
           "Braum",
           8
          ],
          [
           "Braum",
           9
          ],
          [
           "Braum",
           10
          ],
          [
           "Braum",
           11
          ],
          [
           "Braum",
           12
          ],
          [
           "Braum",
           13
          ],
          [
           "Braum",
           14
          ],
          [
           "Braum",
           15
          ],
          [
           "Braum",
           16
          ],
          [
           "Braum",
           17
          ],
          [
           "Braum",
           18
          ],
          [
           "Braum",
           18
          ]
         ],
         "hovertemplate": "champion=%{customdata[0]}<br>x=%{x}<br>y=%{y}<br>z=%{z}<br>patch=%{customdata[1]}<extra></extra>",
         "legendgroup": "Braum",
         "marker": {
          "color": "#636efa",
          "size": 5,
          "symbol": "circle"
         },
         "mode": "markers",
         "name": "Braum",
         "scene": "scene",
         "showlegend": true,
         "type": "scatter3d",
         "visible": "legendonly",
         "x": {
          "bdata": "WKCkv/wY4sBniQXCeAM8wVREPEFN2V9B8SKiQEPjQ8FkDrU//c2QQY32cL/zmTvA9aw3vzJFbkGFoh7BnC7OwOX9v8BsIYzB2/2jwNhr6sA=",
          "dtype": "f4"
         },
         "y": {
          "bdata": "vQuVwfY75cGLNwVB+MALQtrUrkDcvUtBbN2SweSyhUGVCodBZAgnQYmHAcJiR9fBJ7rpwZpgL8KNbmdA02T6wMnItMCvHsLACZcZQTcRYsE=",
          "dtype": "f4"
         },
         "z": {
          "bdata": "qxOYQfYR2cDCpJfAokGIQHdNH0IxmghCDbuzQXZN28Dt0A1BfdRjwV8JkcAEaiTA4ctCwDGZykCJE9bBRskcwndgIMLFxQ7CUgQMwqYyzkA=",
          "dtype": "f4"
         }
        },
        {
         "customdata": [
          [
           "Jhin",
           0
          ],
          [
           "Jhin",
           1
          ],
          [
           "Jhin",
           2
          ],
          [
           "Jhin",
           3
          ],
          [
           "Jhin",
           4
          ],
          [
           "Jhin",
           5
          ],
          [
           "Jhin",
           6
          ],
          [
           "Jhin",
           7
          ],
          [
           "Jhin",
           8
          ],
          [
           "Jhin",
           9
          ],
          [
           "Jhin",
           10
          ],
          [
           "Jhin",
           11
          ],
          [
           "Jhin",
           12
          ],
          [
           "Jhin",
           13
          ],
          [
           "Jhin",
           14
          ],
          [
           "Jhin",
           15
          ],
          [
           "Jhin",
           16
          ],
          [
           "Jhin",
           17
          ],
          [
           "Jhin",
           18
          ],
          [
           "Jhin",
           18
          ]
         ],
         "hovertemplate": "champion=%{customdata[0]}<br>x=%{x}<br>y=%{y}<br>z=%{z}<br>patch=%{customdata[1]}<extra></extra>",
         "legendgroup": "Jhin",
         "marker": {
          "color": "#EF553B",
          "size": 5,
          "symbol": "circle"
         },
         "mode": "markers",
         "name": "Jhin",
         "scene": "scene",
         "showlegend": true,
         "type": "scatter3d",
         "visible": "legendonly",
         "x": {
          "bdata": "jpuHQTrIT8EWK5ZBKD3ZwBAUu8B81p7BMJqNwYfVrMGv4q5BnTqVQbXaVkE2lTNBglfDQSd0e0Gz2YdBER+bQfv8q0E5WpVBx4iMQbvhscA=",
          "dtype": "f4"
         },
         "y": {
          "bdata": "NgTzwWylO79hzYLBst/9wSVfxEGBP0ZBT58XQTDN/kA9nUbB7Y3EwTxQp8GSrrW+ZWx6weOSysHwmpfAc9TdwY94zsHlj+jBJ0XRwcoKXME=",
          "dtype": "f4"
         },
         "z": {
          "bdata": "ry30wLcxoMHe2YlBWhnQwUKXrkGY0cPBrcHRwRQHDEJ71FJBsBeTQUDulcFKwXXBP9REwSOiksHBMafBUoyCwR0OiMGIDZjBCNN7wRv3YkA=",
          "dtype": "f4"
         }
        },
        {
         "customdata": [
          [
           "Kindred",
           0
          ],
          [
           "Kindred",
           1
          ],
          [
           "Kindred",
           2
          ],
          [
           "Kindred",
           3
          ],
          [
           "Kindred",
           4
          ],
          [
           "Kindred",
           5
          ],
          [
           "Kindred",
           6
          ],
          [
           "Kindred",
           7
          ],
          [
           "Kindred",
           8
          ],
          [
           "Kindred",
           9
          ],
          [
           "Kindred",
           10
          ],
          [
           "Kindred",
           11
          ],
          [
           "Kindred",
           12
          ],
          [
           "Kindred",
           13
          ],
          [
           "Kindred",
           14
          ],
          [
           "Kindred",
           15
          ],
          [
           "Kindred",
           16
          ],
          [
           "Kindred",
           17
          ],
          [
           "Kindred",
           18
          ],
          [
           "Kindred",
           18
          ]
         ],
         "hovertemplate": "champion=%{customdata[0]}<br>x=%{x}<br>y=%{y}<br>z=%{z}<br>patch=%{customdata[1]}<extra></extra>",
         "legendgroup": "Kindred",
         "marker": {
          "color": "#00cc96",
          "size": 5,
          "symbol": "circle"
         },
         "mode": "markers",
         "name": "Kindred",
         "scene": "scene",
         "showlegend": true,
         "type": "scatter3d",
         "visible": "legendonly",
         "x": {
          "bdata": "Zb+3wTQIccFCBjtBldXNwWOg+kFbVMzBaW8JwgHRscG6cjnBwfaSQYxD2kE5ahO/30ifQQeXasER/HvB0qvbwU9CJcERzB5B1yC9QN9OMcE=",
          "dtype": "f4"
         },
         "y": {
          "bdata": "uAzPQfmYFULzdi9ChBz4wVqUzcElHYhAPxfBQbyb1MFSBljBHO8hwuZ8r0Gs1HhBDZvWQbJFO0GyKhhCibtwQeltcEGZ8ilC5/kLQkmXlMA=",
          "dtype": "f4"
         },
         "z": {
          "bdata": "X+PXQHiXckAKTuzA+ua9QAFXVsGKrqfASOiEwH10FUDyi2PBBXRswEyRd8CsZhDCwVVqQa2Rs8A2bx/BilajQQccD8LbPsLA13DLQe9dIsE=",
          "dtype": "f4"
         }
        },
        {
         "customdata": [
          [
           "Miss Fortune",
           0
          ],
          [
           "Miss Fortune",
           1
          ],
          [
           "Miss Fortune",
           2
          ],
          [
           "Miss Fortune",
           3
          ],
          [
           "Miss Fortune",
           4
          ],
          [
           "Miss Fortune",
           5
          ],
          [
           "Miss Fortune",
           6
          ],
          [
           "Miss Fortune",
           7
          ],
          [
           "Miss Fortune",
           8
          ],
          [
           "Miss Fortune",
           9
          ],
          [
           "Miss Fortune",
           10
          ],
          [
           "Miss Fortune",
           11
          ],
          [
           "Miss Fortune",
           12
          ],
          [
           "Miss Fortune",
           13
          ],
          [
           "Miss Fortune",
           14
          ],
          [
           "Miss Fortune",
           15
          ],
          [
           "Miss Fortune",
           16
          ],
          [
           "Miss Fortune",
           17
          ],
          [
           "Miss Fortune",
           18
          ],
          [
           "Miss Fortune",
           18
          ]
         ],
         "hovertemplate": "champion=%{customdata[0]}<br>x=%{x}<br>y=%{y}<br>z=%{z}<br>patch=%{customdata[1]}<extra></extra>",
         "legendgroup": "Miss Fortune",
         "marker": {
          "color": "#ab63fa",
          "size": 5,
          "symbol": "circle"
         },
         "mode": "markers",
         "name": "Miss Fortune",
         "scene": "scene",
         "showlegend": true,
         "type": "scatter3d",
         "visible": "legendonly",
         "x": {
          "bdata": "qWbWQPYZFD0UnwXAOuQewvetgD7QfmzA8lqOwcQeMcANpZHAFVLTQVdi5EGP+SxCFxikwOXABsGrL4nBOPxcQTZRC0C8syc+XY0JwGw7MD4=",
          "dtype": "f4"
         },
         "y": {
          "bdata": "uSIIQX0WEUI0ALA/W6KyQaTAw0FxLntAGE0wwdkiQ0BL4irBOANSwS8DI8H9a0ZBE/UBwpNCB8JHNlNB+n5XQfkmlcGebTHB1T5vwdPjOUA=",
          "dtype": "f4"
         },
         "z": {
          "bdata": "u/oWweLMoEEgEwhCpkrlQHhsc0Eg3wpC3bwtQesK5sBl3ma+2DHBwXUEBsJYGMTA02zZwWlRxMEkNsXB5pvawLXQlsE2C6XBB2ajwZ6uY8A=",
          "dtype": "f4"
         }
        },
        {
         "customdata": [
          [
           "Ashe",
           0
          ],
          [
           "Ashe",
           1
          ],
          [
           "Ashe",
           2
          ],
          [
           "Ashe",
           3
          ],
          [
           "Ashe",
           4
          ],
          [
           "Ashe",
           5
          ],
          [
           "Ashe",
           6
          ],
          [
           "Ashe",
           7
          ],
          [
           "Ashe",
           8
          ],
          [
           "Ashe",
           9
          ],
          [
           "Ashe",
           10
          ],
          [
           "Ashe",
           11
          ],
          [
           "Ashe",
           12
          ],
          [
           "Ashe",
           13
          ],
          [
           "Ashe",
           14
          ],
          [
           "Ashe",
           15
          ],
          [
           "Ashe",
           16
          ],
          [
           "Ashe",
           17
          ],
          [
           "Ashe",
           18
          ],
          [
           "Ashe",
           18
          ]
         ],
         "hovertemplate": "champion=%{customdata[0]}<br>x=%{x}<br>y=%{y}<br>z=%{z}<br>patch=%{customdata[1]}<extra></extra>",
         "legendgroup": "Ashe",
         "marker": {
          "color": "#FFA15A",
          "size": 5,
          "symbol": "circle"
         },
         "mode": "markers",
         "name": "Ashe",
         "scene": "scene",
         "showlegend": true,
         "type": "scatter3d",
         "visible": "legendonly",
         "x": {
          "bdata": "1hb8wTDl08F5JtfBgsKWwY3/x8EVdZDB/4J7QRvTisFwWAXByL+7wU2wccA5K9NAILcVwZIw/EGxxAtC7hfkQbXTkcFeehPARvfmwYJRc8E=",
          "dtype": "f4"
         },
         "y": {
          "bdata": "l8Q3QWmyHUEqdzBBP7WxQa3SSUGNx9fBorhgQfIsl0Ec3JxBvzJJQTT3qcHAcHfB3OdRQPFiS8Gv567Bqu+wwZMRbUAKAUbAhqn7QQeHnMA=",
          "dtype": "f4"
         },
         "z": {
          "bdata": "HWFawfVwCkIQh8FBEsBVQQyTMMFYHfO/W5JHwctCkEHA7rhB5PFQwaoAZME3+RrBE+8Awvs71MHAYHNB7Gy0wYi6isGOc8XBtcGTQJyuvEA=",
          "dtype": "f4"
         }
        },
        {
         "customdata": [
          [
           "Zeri",
           0
          ],
          [
           "Zeri",
           1
          ],
          [
           "Zeri",
           2
          ],
          [
           "Zeri",
           3
          ],
          [
           "Zeri",
           4
          ],
          [
           "Zeri",
           5
          ],
          [
           "Zeri",
           6
          ],
          [
           "Zeri",
           7
          ],
          [
           "Zeri",
           8
          ],
          [
           "Zeri",
           9
          ],
          [
           "Zeri",
           10
          ],
          [
           "Zeri",
           11
          ],
          [
           "Zeri",
           12
          ],
          [
           "Zeri",
           13
          ],
          [
           "Zeri",
           14
          ],
          [
           "Zeri",
           15
          ],
          [
           "Zeri",
           16
          ],
          [
           "Zeri",
           17
          ],
          [
           "Zeri",
           18
          ],
          [
           "Zeri",
           18
          ]
         ],
         "hovertemplate": "champion=%{customdata[0]}<br>x=%{x}<br>y=%{y}<br>z=%{z}<br>patch=%{customdata[1]}<extra></extra>",
         "legendgroup": "Zeri",
         "marker": {
          "color": "#19d3f3",
          "size": 5,
          "symbol": "circle"
         },
         "mode": "markers",
         "name": "Zeri",
         "scene": "scene",
         "showlegend": true,
         "type": "scatter3d",
         "visible": "legendonly",
         "x": {
          "bdata": "gGR5wat8bcExKlrBD6AxwQbyHsCYix3BzXr2Qej1+UFATRdCcEz3QYs/M8HFC+hBdXZFwYzee0AKS7a/J8TkQJB6acGoEvTAIz42QJFq08E=",
          "dtype": "f4"
         },
         "y": {
          "bdata": "ksIxwcJl0EEFY8ZBe+UQQeJE30EBBxTC9+GcwdlDUcGCuSjB7WWLQVVevsGrb5hBGLfwwVTIm8G7p4m+7HiHQXpgukG4yxFCsmiLQeaCIcE=",
          "dtype": "f4"
         },
         "z": {
          "bdata": "UnAYwOgmAkIinvZBmhiEQau4tkFRWIxB5qaewS5TQcEWP2DBdSwawex0bUFB3Ia/GN1/QTeNhsEL+rO+yvDFQNBlqUEVQJNBHN11P2iSP8A=",
          "dtype": "f4"
         }
        },
        {
         "customdata": [
          [
           "Jinx",
           0
          ],
          [
           "Jinx",
           1
          ],
          [
           "Jinx",
           2
          ],
          [
           "Jinx",
           3
          ],
          [
           "Jinx",
           4
          ],
          [
           "Jinx",
           5
          ],
          [
           "Jinx",
           6
          ],
          [
           "Jinx",
           7
          ],
          [
           "Jinx",
           8
          ],
          [
           "Jinx",
           9
          ],
          [
           "Jinx",
           10
          ],
          [
           "Jinx",
           11
          ],
          [
           "Jinx",
           12
          ],
          [
           "Jinx",
           13
          ],
          [
           "Jinx",
           14
          ],
          [
           "Jinx",
           15
          ],
          [
           "Jinx",
           16
          ],
          [
           "Jinx",
           17
          ],
          [
           "Jinx",
           18
          ],
          [
           "Jinx",
           18
          ]
         ],
         "hovertemplate": "champion=%{customdata[0]}<br>x=%{x}<br>y=%{y}<br>z=%{z}<br>patch=%{customdata[1]}<extra></extra>",
         "legendgroup": "Jinx",
         "marker": {
          "color": "#FF6692",
          "size": 5,
          "symbol": "circle"
         },
         "mode": "markers",
         "name": "Jinx",
         "scene": "scene",
         "showlegend": true,
         "type": "scatter3d",
         "visible": "legendonly",
         "x": {
          "bdata": "TKTwwOscd8FFVq3AmD6yQDzvJMIn959AxeCMwcAKMkAdplTBPF2CwQeJCEJZnGy/OrasQJGVSD8WiZXBeCRZvtqc/8AVv2LBCCw3v8YQTkE=",
          "dtype": "f4"
         },
         "y": {
          "bdata": "tkLGQQi63UEK88pBOUeQwZziokGDYzjB4PqNwUbs+sByi5VBycygwY6LiMH3WQbAXqnBwSomHEBRrdtBxfuOwQ0LzkHdQ11BgzDEQbupOsA=",
          "dtype": "f4"
         },
         "z": {
          "bdata": "x9+kQQTUjEHR1TxBmJUrQOA73UCcJA3AqkzTwI1p2MEuETbBNFJGQOjEmsEhg5LB9c1bQYgPHUIZMntBUUOlwDGyjkFBN7zBtAZWQegoM0E=",
          "dtype": "f4"
         }
        },
        {
         "customdata": [
          [
           "Tahm Kench",
           0
          ],
          [
           "Tahm Kench",
           1
          ],
          [
           "Tahm Kench",
           2
          ],
          [
           "Tahm Kench",
           3
          ],
          [
           "Tahm Kench",
           4
          ],
          [
           "Tahm Kench",
           5
          ],
          [
           "Tahm Kench",
           6
          ],
          [
           "Tahm Kench",
           7
          ],
          [
           "Tahm Kench",
           8
          ],
          [
           "Tahm Kench",
           9
          ],
          [
           "Tahm Kench",
           10
          ],
          [
           "Tahm Kench",
           11
          ],
          [
           "Tahm Kench",
           12
          ],
          [
           "Tahm Kench",
           13
          ],
          [
           "Tahm Kench",
           14
          ],
          [
           "Tahm Kench",
           15
          ],
          [
           "Tahm Kench",
           16
          ],
          [
           "Tahm Kench",
           17
          ],
          [
           "Tahm Kench",
           18
          ],
          [
           "Tahm Kench",
           18
          ]
         ],
         "hovertemplate": "champion=%{customdata[0]}<br>x=%{x}<br>y=%{y}<br>z=%{z}<br>patch=%{customdata[1]}<extra></extra>",
         "legendgroup": "Tahm Kench",
         "marker": {
          "color": "#B6E880",
          "size": 5,
          "symbol": "circle"
         },
         "mode": "markers",
         "name": "Tahm Kench",
         "scene": "scene",
         "showlegend": true,
         "type": "scatter3d",
         "visible": "legendonly",
         "x": {
          "bdata": "7mBTQY0TTEGBi4nAstSJQU+1tsDWPJLBsaO/QJSYrsAx/OjBlHn3wXwDCMIH27BA2xLvQDVUFkHI1hFCxzWvQSMUuUGHrNhBFVrrQQSZZ0E=",
          "dtype": "f4"
         },
         "y": {
          "bdata": "/JmEQWVTgkHMWmrB7W5YQXPU6MC0SJRAgRiQwMGzqkGLvI5BLIzQQPUr2UBgF4BBqgzEwKLoqUCnCTbAO1aOP3wRG0DxEztBZijEwH00gEE=",
          "dtype": "f4"
         },
         "z": {
          "bdata": "TmUZwpEQI8LRMDPC2eRPQYOezkEjLQRCtcEywh5pusE1AjrBwTZ9weWJXMHcMO3BvYwiwpC/DMI9ZR9BslOOQQsgnkGRzudBwfbJQXgPBUE=",
          "dtype": "f4"
         }
        },
        {
         "customdata": [
          [
           "Tryndamere",
           0
          ],
          [
           "Tryndamere",
           1
          ],
          [
           "Tryndamere",
           2
          ],
          [
           "Tryndamere",
           3
          ],
          [
           "Tryndamere",
           4
          ],
          [
           "Tryndamere",
           5
          ],
          [
           "Tryndamere",
           6
          ],
          [
           "Tryndamere",
           7
          ],
          [
           "Tryndamere",
           8
          ],
          [
           "Tryndamere",
           9
          ],
          [
           "Tryndamere",
           10
          ],
          [
           "Tryndamere",
           11
          ],
          [
           "Tryndamere",
           12
          ],
          [
           "Tryndamere",
           13
          ],
          [
           "Tryndamere",
           14
          ],
          [
           "Tryndamere",
           15
          ],
          [
           "Tryndamere",
           16
          ],
          [
           "Tryndamere",
           17
          ],
          [
           "Tryndamere",
           18
          ],
          [
           "Tryndamere",
           18
          ]
         ],
         "hovertemplate": "champion=%{customdata[0]}<br>x=%{x}<br>y=%{y}<br>z=%{z}<br>patch=%{customdata[1]}<extra></extra>",
         "legendgroup": "Tryndamere",
         "marker": {
          "color": "#FF97FF",
          "size": 5,
          "symbol": "circle"
         },
         "mode": "markers",
         "name": "Tryndamere",
         "scene": "scene",
         "showlegend": true,
         "type": "scatter3d",
         "visible": "legendonly",
         "x": {
          "bdata": "RCHywa3wqMGzqdDB9TTgwQfA6MGfHa/BuIymQbPxGUK2U4nAXRhbQXsT98FXjrnBiGqrwYYDKcGIUsLBydH0wHhgPMFB0O1B1BrqvVBUFkE=",
          "dtype": "f4"
         },
         "y": {
          "bdata": "wCUUwZKqF8LJ1gXCrEwJwprwD8FrXYDBxMbvQTgk7sDK3fnB1BnRwao3tMFoe8vBAWSCwIkU6MBSdvTB2bUHwqFtCsGpsnTBbZXJwOFhH0E=",
          "dtype": "f4"
         },
         "z": {
          "bdata": "HEPWwCj4P0FM641BPdaUQf1YBcEfy/rBNJohwTUc+cCogchBLW+UQdW6d0Fl0bpBDXwRQgf0LUJ2VCg/B9/mv2cvC0J5D8RBb5iJQYXPmEA=",
          "dtype": "f4"
         }
        },
        {
         "customdata": [
          [
           "Briar",
           0
          ],
          [
           "Briar",
           1
          ],
          [
           "Briar",
           2
          ],
          [
           "Briar",
           3
          ],
          [
           "Briar",
           4
          ],
          [
           "Briar",
           5
          ],
          [
           "Briar",
           6
          ],
          [
           "Briar",
           7
          ],
          [
           "Briar",
           8
          ],
          [
           "Briar",
           9
          ],
          [
           "Briar",
           10
          ],
          [
           "Briar",
           11
          ],
          [
           "Briar",
           12
          ],
          [
           "Briar",
           13
          ],
          [
           "Briar",
           14
          ],
          [
           "Briar",
           15
          ],
          [
           "Briar",
           16
          ],
          [
           "Briar",
           17
          ],
          [
           "Briar",
           18
          ],
          [
           "Briar",
           18
          ]
         ],
         "hovertemplate": "champion=%{customdata[0]}<br>x=%{x}<br>y=%{y}<br>z=%{z}<br>patch=%{customdata[1]}<extra></extra>",
         "legendgroup": "Briar",
         "marker": {
          "color": "#FECB52",
          "size": 5,
          "symbol": "circle"
         },
         "mode": "markers",
         "name": "Briar",
         "scene": "scene",
         "showlegend": true,
         "type": "scatter3d",
         "visible": "legendonly",
         "x": {
          "bdata": "XTd1QQzuCEKTii1BIsqEQSiIosGQlJM/MO8SQfwINr+Zs1O/IG21wbO+xcGjkY9BYKugwRFXRkHCYGZBhjpgv2ImgkFvXpFBnVIPwKQn9sA=",
          "dtype": "f4"
         },
         "y": {
          "bdata": "+JnMwZsMI8EnKOzBdDtowTX1HEDu0W3BDOHkwRDRYsERYSVBXYniwQWjhUB6WuW/ZdXnQR0pO0L8Yw9CSWE0QrvJjr1aXB1CC/S9QWVK00A=",
          "dtype": "f4"
         },
         "z": {
          "bdata": "Al1mQA/iD8HL/pg8qT4KwlWF48BGCk/BnNbTv3KYDkLuaRxClFSbQI3LPUCHbarBRKmrwQ0LzMCbXrBBa0ovwHDTDkIFNo7BL4F/wWJxDsE=",
          "dtype": "f4"
         }
        },
        {
         "customdata": [
          [
           "Viego",
           0
          ],
          [
           "Viego",
           1
          ],
          [
           "Viego",
           2
          ],
          [
           "Viego",
           3
          ],
          [
           "Viego",
           4
          ],
          [
           "Viego",
           5
          ],
          [
           "Viego",
           6
          ],
          [
           "Viego",
           7
          ],
          [
           "Viego",
           8
          ],
          [
           "Viego",
           9
          ],
          [
           "Viego",
           10
          ],
          [
           "Viego",
           11
          ],
          [
           "Viego",
           12
          ],
          [
           "Viego",
           13
          ],
          [
           "Viego",
           14
          ],
          [
           "Viego",
           15
          ],
          [
           "Viego",
           16
          ],
          [
           "Viego",
           17
          ],
          [
           "Viego",
           18
          ],
          [
           "Viego",
           18
          ]
         ],
         "hovertemplate": "champion=%{customdata[0]}<br>x=%{x}<br>y=%{y}<br>z=%{z}<br>patch=%{customdata[1]}<extra></extra>",
         "legendgroup": "Viego",
         "marker": {
          "color": "#636efa",
          "size": 5,
          "symbol": "circle"
         },
         "mode": "markers",
         "name": "Viego",
         "scene": "scene",
         "showlegend": true,
         "type": "scatter3d",
         "visible": "legendonly",
         "x": {
          "bdata": "wkIqwZmcX0GgCQRB/ka5wX21vEFpALXBa0DwwYKTjsF6LpDB3FzswEgahsGpcYdA66WJwfP3SMEQJl7BBOiEQUi2ykEmGIFBgvwRQpZo4cA=",
          "dtype": "f4"
         },
         "y": {
          "bdata": "5KevwVboLUIQeQtCcocmwcUis7+pWFBBAJlYwUHGk0FV9YJB/zKOwbbmGUH/VDZBFWBIwffxLUJpRVBBFR8hwWUHU8DR9UPBoaRYwa18o8E=",
          "dtype": "f4"
         },
         "z": {
          "bdata": "N/4EwcbgLcF7r4PB/meFwXBtsMEiarm/PnMoQHal/7/tURzAYjABwQ0gDsDEV03BLDuTwURZDUHYvNg+8L8xwTK1scGsA8jA3jHbv8EqG8E=",
          "dtype": "f4"
         }
        },
        {
         "customdata": [
          [
           "Senna",
           0
          ],
          [
           "Senna",
           1
          ],
          [
           "Senna",
           2
          ],
          [
           "Senna",
           3
          ],
          [
           "Senna",
           4
          ],
          [
           "Senna",
           5
          ],
          [
           "Senna",
           6
          ],
          [
           "Senna",
           7
          ],
          [
           "Senna",
           8
          ],
          [
           "Senna",
           9
          ],
          [
           "Senna",
           10
          ],
          [
           "Senna",
           11
          ],
          [
           "Senna",
           12
          ],
          [
           "Senna",
           13
          ],
          [
           "Senna",
           14
          ],
          [
           "Senna",
           15
          ],
          [
           "Senna",
           16
          ],
          [
           "Senna",
           17
          ],
          [
           "Senna",
           18
          ],
          [
           "Senna",
           18
          ]
         ],
         "hovertemplate": "champion=%{customdata[0]}<br>x=%{x}<br>y=%{y}<br>z=%{z}<br>patch=%{customdata[1]}<extra></extra>",
         "legendgroup": "Senna",
         "marker": {
          "color": "#EF553B",
          "size": 5,
          "symbol": "circle"
         },
         "mode": "markers",
         "name": "Senna",
         "scene": "scene",
         "showlegend": true,
         "type": "scatter3d",
         "visible": "legendonly",
         "x": {
          "bdata": "jKl8QT6kk0ERh65BsvSpQJ6sS0Cw+mlAt0ahwP5X5MBfb/Q/dkJtwQaE/EFb2n9BMW+1QbHbtcF2WwLCE7mHwQKCz0FJKRFC3D0LQtrSA8E=",
          "dtype": "f4"
         },
         "y": {
          "bdata": "6ferQZUzkkGOJX9BdocWwKRdn8FvJ7TBBrbDQNWm9UAvnZBAJJKNQcNtgcHThhlBYbY4wdM0ukGve+5BkWUdQnm/SMEnlolBPTKMQfiikD8=",
          "dtype": "f4"
         },
         "z": {
          "bdata": "oGH6QSY5DkJKrRRCDbLNQZDMBMJaie3Br9cgwmkkHMJwSyvCpVWbwRC6usBm1clBPDQKwvuU1cFaWZhAxOIiQabp48GgK+FA7LALQcSaNUE=",
          "dtype": "f4"
         }
        },
        {
         "customdata": [
          [
           "Lucian",
           0
          ],
          [
           "Lucian",
           1
          ],
          [
           "Lucian",
           2
          ],
          [
           "Lucian",
           3
          ],
          [
           "Lucian",
           4
          ],
          [
           "Lucian",
           5
          ],
          [
           "Lucian",
           6
          ],
          [
           "Lucian",
           7
          ],
          [
           "Lucian",
           8
          ],
          [
           "Lucian",
           9
          ],
          [
           "Lucian",
           10
          ],
          [
           "Lucian",
           11
          ],
          [
           "Lucian",
           12
          ],
          [
           "Lucian",
           13
          ],
          [
           "Lucian",
           14
          ],
          [
           "Lucian",
           15
          ],
          [
           "Lucian",
           16
          ],
          [
           "Lucian",
           17
          ],
          [
           "Lucian",
           18
          ],
          [
           "Lucian",
           18
          ]
         ],
         "hovertemplate": "champion=%{customdata[0]}<br>x=%{x}<br>y=%{y}<br>z=%{z}<br>patch=%{customdata[1]}<extra></extra>",
         "legendgroup": "Lucian",
         "marker": {
          "color": "#00cc96",
          "size": 5,
          "symbol": "circle"
         },
         "mode": "markers",
         "name": "Lucian",
         "scene": "scene",
         "showlegend": true,
         "type": "scatter3d",
         "visible": "legendonly",
         "x": {
          "bdata": "6CLFwZE9lMGQ1gvCOilmwefABEGFS4fALo8KwcrzpkE1Fr5Aiqn9QYfliUHco2xB4iEBQa+4ckHoZmy/2KgAQoKszEH4m+BB+2P8wGm1or8=",
          "dtype": "f4"
         },
         "y": {
          "bdata": "nULWQPii0cF7/djBbmu1QcPlmEEfD+lBaYrfQZe6v0EO4YxBlzGuQN2ZpD+5OfdBLcCIQUPZe0GC/MVB0IUzwZ6W1EAporjA+JubQWxhFUA=",
          "dtype": "f4"
         },
         "z": {
          "bdata": "TC5+QSkM5UHjcdbA0zfmQURTCcF4SUJBlrbuQHIHoEBOL5bB25HSwJiMcUEvJhRBxoWQQTz9zj/whwJBxQM6QYgn5ECeFZtBT2vhQZz/bT8=",
          "dtype": "f4"
         }
        },
        {
         "customdata": [
          [
           "Zed",
           0
          ],
          [
           "Zed",
           1
          ],
          [
           "Zed",
           2
          ],
          [
           "Zed",
           3
          ],
          [
           "Zed",
           4
          ],
          [
           "Zed",
           5
          ],
          [
           "Zed",
           6
          ],
          [
           "Zed",
           7
          ],
          [
           "Zed",
           8
          ],
          [
           "Zed",
           9
          ],
          [
           "Zed",
           10
          ],
          [
           "Zed",
           11
          ],
          [
           "Zed",
           12
          ],
          [
           "Zed",
           13
          ],
          [
           "Zed",
           14
          ],
          [
           "Zed",
           15
          ],
          [
           "Zed",
           16
          ],
          [
           "Zed",
           17
          ],
          [
           "Zed",
           18
          ],
          [
           "Zed",
           18
          ]
         ],
         "hovertemplate": "champion=%{customdata[0]}<br>x=%{x}<br>y=%{y}<br>z=%{z}<br>patch=%{customdata[1]}<extra></extra>",
         "legendgroup": "Zed",
         "marker": {
          "color": "#ab63fa",
          "size": 5,
          "symbol": "circle"
         },
         "mode": "markers",
         "name": "Zed",
         "scene": "scene",
         "showlegend": true,
         "type": "scatter3d",
         "visible": "legendonly",
         "x": {
          "bdata": "fVXdQBmJp0FARATBWsJ3wcumNsLi+uK/AYjCwYqnsUHSOxDAkCLqP+HHB8EXNv4/BBgNwZupLUGVjczAoJrcwAYfD7+oUtZAqvCgwJVhecA=",
          "dtype": "f4"
         },
         "y": {
          "bdata": "e00BwZ/1+8AwBOPB9eWmwS1DXkAxxojBQDnlQeTFwT++zXfBKKgwQv2nHkKXTMpBfPXDQYBWmb9kLM5BhRGnwToDCMFnk7rBD92+wY3urEE=",
          "dtype": "f4"
         },
         "z": {
          "bdata": "QgNpQF9AIcHHnY3BvWsTv0eyi0DJVybBFRLPQfYsaEC1bdHBCxcawfZIwr9FWIfBkdd2wXl9yMFoManBQquZwU9+AcJlJk7Bb4hswZTDk8E=",
          "dtype": "f4"
         }
        },
        {
         "customdata": [
          [
           "Jax",
           0
          ],
          [
           "Jax",
           1
          ],
          [
           "Jax",
           2
          ],
          [
           "Jax",
           3
          ],
          [
           "Jax",
           4
          ],
          [
           "Jax",
           5
          ],
          [
           "Jax",
           6
          ],
          [
           "Jax",
           7
          ],
          [
           "Jax",
           8
          ],
          [
           "Jax",
           9
          ],
          [
           "Jax",
           10
          ],
          [
           "Jax",
           11
          ],
          [
           "Jax",
           12
          ],
          [
           "Jax",
           13
          ],
          [
           "Jax",
           14
          ],
          [
           "Jax",
           15
          ],
          [
           "Jax",
           16
          ],
          [
           "Jax",
           17
          ],
          [
           "Jax",
           18
          ],
          [
           "Jax",
           18
          ]
         ],
         "hovertemplate": "champion=%{customdata[0]}<br>x=%{x}<br>y=%{y}<br>z=%{z}<br>patch=%{customdata[1]}<extra></extra>",
         "legendgroup": "Jax",
         "marker": {
          "color": "#FFA15A",
          "size": 5,
          "symbol": "circle"
         },
         "mode": "markers",
         "name": "Jax",
         "scene": "scene",
         "showlegend": true,
         "type": "scatter3d",
         "visible": "legendonly",
         "x": {
          "bdata": "AK7GwQWq48HJcArC84P3wZiBDMBLlVXBh6b5PyyRzMEmhFTBmNixQLnPCkFJOXNBXOCxQZdz9sGiqB9CSY8YQc/85UES4plBw/Yav/J1HUE=",
          "dtype": "f4"
         },
         "y": {
          "bdata": "ANt5waS2hcGxbBHB3y+iwWNfE0KQHwnCiaLqwTkzBUD9JvfBv0VxQexfFUGNMhJCkf9JQRw0K0G4dbTBHMDKQeTlZUFQrODA/wmwQUq5tkA=",
          "dtype": "f4"
         },
         "z": {
          "bdata": "jVfTwY7k0MFSI0jBbfbSwdWWX8HOc4c+dywDwvzlFcGRQDBBm3uOQfe75UHST+4+hegaQaOQBMFlSbU/xN+PwXgRhcF4ULPAkK09wbnLoUA=",
          "dtype": "f4"
         }
        },
        {
         "customdata": [
          [
           "Kled",
           0
          ],
          [
           "Kled",
           1
          ],
          [
           "Kled",
           2
          ],
          [
           "Kled",
           3
          ],
          [
           "Kled",
           4
          ],
          [
           "Kled",
           5
          ],
          [
           "Kled",
           6
          ],
          [
           "Kled",
           7
          ],
          [
           "Kled",
           8
          ],
          [
           "Kled",
           9
          ],
          [
           "Kled",
           10
          ],
          [
           "Kled",
           11
          ],
          [
           "Kled",
           12
          ],
          [
           "Kled",
           13
          ],
          [
           "Kled",
           14
          ],
          [
           "Kled",
           15
          ],
          [
           "Kled",
           16
          ],
          [
           "Kled",
           17
          ],
          [
           "Kled",
           18
          ],
          [
           "Kled",
           18
          ]
         ],
         "hovertemplate": "champion=%{customdata[0]}<br>x=%{x}<br>y=%{y}<br>z=%{z}<br>patch=%{customdata[1]}<extra></extra>",
         "legendgroup": "Kled",
         "marker": {
          "color": "#19d3f3",
          "size": 5,
          "symbol": "circle"
         },
         "mode": "markers",
         "name": "Kled",
         "scene": "scene",
         "showlegend": true,
         "type": "scatter3d",
         "visible": "legendonly",
         "x": {
          "bdata": "3lDKwRB6JcJiFxnCBBEnwp7aF8KYmg3C8kUdQaCPx8DubzFBWLNmQCWVJ0GzqQ3BWnyewSx3BsJdQgHCIHigQWtkxUACNdHB0nsoQlNSOUE=",
          "dtype": "f4"
         },
         "y": {
          "bdata": "2tO6P760T8Ai1hNBVh6BwObZnsADfRFBGNzUQEcWtEFJex5BkbAhQWI7GEIvQwhBFmd1wUx4msH5S43BfnfdQV5nGj+lzHHB9iyMwSMfjsA=",
          "dtype": "f4"
         },
         "z": {
          "bdata": "VY6Gwa8TO8C0WLTBn9zDwMd1u8As6TpB5jHYwa3D7ECvPfHBqsTDwbmNjcFI/NHBXCLkQVQQ1kEVgrJBre4WwdHWFsKo45BBErKQvoMhbkE=",
          "dtype": "f4"
         }
        },
        {
         "customdata": [
          [
           "Ekko",
           0
          ],
          [
           "Ekko",
           1
          ],
          [
           "Ekko",
           2
          ],
          [
           "Ekko",
           3
          ],
          [
           "Ekko",
           4
          ],
          [
           "Ekko",
           5
          ],
          [
           "Ekko",
           6
          ],
          [
           "Ekko",
           7
          ],
          [
           "Ekko",
           8
          ],
          [
           "Ekko",
           9
          ],
          [
           "Ekko",
           10
          ],
          [
           "Ekko",
           11
          ],
          [
           "Ekko",
           12
          ],
          [
           "Ekko",
           13
          ],
          [
           "Ekko",
           14
          ],
          [
           "Ekko",
           15
          ],
          [
           "Ekko",
           16
          ],
          [
           "Ekko",
           17
          ],
          [
           "Ekko",
           18
          ],
          [
           "Ekko",
           18
          ]
         ],
         "hovertemplate": "champion=%{customdata[0]}<br>x=%{x}<br>y=%{y}<br>z=%{z}<br>patch=%{customdata[1]}<extra></extra>",
         "legendgroup": "Ekko",
         "marker": {
          "color": "#FF6692",
          "size": 5,
          "symbol": "circle"
         },
         "mode": "markers",
         "name": "Ekko",
         "scene": "scene",
         "showlegend": true,
         "type": "scatter3d",
         "visible": "legendonly",
         "x": {
          "bdata": "QQoHwo0ghEAI99vAFKYKwTjkVUBKNarBW7gvQXBFbT9L1dLAgwprwfeZ18H62avBMmarwexmiUENfUfBflRBwUgSf0BVmLrBBci0QO+clcE=",
          "dtype": "f4"
         },
         "y": {
          "bdata": "/UHOQWWe4cFroEHBAIQFQuFmIEKeB6pAXU0Vwup+zUEqAA5C/F28QBrDjkHh7+hB3DzaQQv+EkI0jMRB2+uiQV9p0EF3ROVBrIryQY4hrUE=",
          "dtype": "f4"
         },
         "z": {
          "bdata": "802WP6ROfUEyxyVC+SuEwBKxx0Ao8MdBohqevqR9ET/wDG7BwftYQQmbh0AwwH1BPHaCQVT8977rS0tBssLNQDQQB0FxNrdBW/2ZQQa9DEE=",
          "dtype": "f4"
         }
        },
        {
         "customdata": [
          [
           "Qiyana",
           0
          ],
          [
           "Qiyana",
           1
          ],
          [
           "Qiyana",
           2
          ],
          [
           "Qiyana",
           3
          ],
          [
           "Qiyana",
           4
          ],
          [
           "Qiyana",
           5
          ],
          [
           "Qiyana",
           6
          ],
          [
           "Qiyana",
           7
          ],
          [
           "Qiyana",
           8
          ],
          [
           "Qiyana",
           9
          ],
          [
           "Qiyana",
           10
          ],
          [
           "Qiyana",
           11
          ],
          [
           "Qiyana",
           12
          ],
          [
           "Qiyana",
           13
          ],
          [
           "Qiyana",
           14
          ],
          [
           "Qiyana",
           15
          ],
          [
           "Qiyana",
           16
          ],
          [
           "Qiyana",
           17
          ],
          [
           "Qiyana",
           18
          ],
          [
           "Qiyana",
           18
          ]
         ],
         "hovertemplate": "champion=%{customdata[0]}<br>x=%{x}<br>y=%{y}<br>z=%{z}<br>patch=%{customdata[1]}<extra></extra>",
         "legendgroup": "Qiyana",
         "marker": {
          "color": "#B6E880",
          "size": 5,
          "symbol": "circle"
         },
         "mode": "markers",
         "name": "Qiyana",
         "scene": "scene",
         "showlegend": true,
         "type": "scatter3d",
         "visible": "legendonly",
         "x": {
          "bdata": "5vlyQXQxu8EeE6lB7JWLQGYn0EAfRP7BixscQetIBUI9T9JBmsdEwf206MFhxu3BaRrGwUMWlcFlDe7BiSRgwEhUu0EMuH/B0uPwwciavcE=",
          "dtype": "f4"
         },
         "y": {
          "bdata": "u6/fwSjhRMFs6w9BlA7hQU3LscDvI+/BI1AnwuBlpUAL3s9BhrGZQHvqysD56s0/28Wcwab54sDIyVfBtf4OQpC+y0HYDLZBR2QtQfTH7sA=",
          "dtype": "f4"
         },
         "z": {
          "bdata": "GD0OQZ7+3sFIxppBjCw3Qb8hKEL17PVATJrpwEhXAcFu2JXBqmbhwfUCj8Hy9q/BoXfTvwvsBsIIJsvBOx0OwWwGR0DMJwTCTBaQwfDKjcA=",
          "dtype": "f4"
         }
        },
        {
         "customdata": [
          [
           "Morgana",
           0
          ],
          [
           "Morgana",
           1
          ],
          [
           "Morgana",
           2
          ],
          [
           "Morgana",
           3
          ],
          [
           "Morgana",
           4
          ],
          [
           "Morgana",
           5
          ],
          [
           "Morgana",
           6
          ],
          [
           "Morgana",
           7
          ],
          [
           "Morgana",
           8
          ],
          [
           "Morgana",
           9
          ],
          [
           "Morgana",
           10
          ],
          [
           "Morgana",
           11
          ],
          [
           "Morgana",
           12
          ],
          [
           "Morgana",
           13
          ],
          [
           "Morgana",
           14
          ],
          [
           "Morgana",
           15
          ],
          [
           "Morgana",
           16
          ],
          [
           "Morgana",
           17
          ],
          [
           "Morgana",
           18
          ],
          [
           "Morgana",
           18
          ]
         ],
         "hovertemplate": "champion=%{customdata[0]}<br>x=%{x}<br>y=%{y}<br>z=%{z}<br>patch=%{customdata[1]}<extra></extra>",
         "legendgroup": "Morgana",
         "marker": {
          "color": "#FF97FF",
          "size": 5,
          "symbol": "circle"
         },
         "mode": "markers",
         "name": "Morgana",
         "scene": "scene",
         "showlegend": true,
         "type": "scatter3d",
         "visible": "legendonly",
         "x": {
          "bdata": "RqRGQdl3bUHzpIRBLKqNQR1PkEH6jAtCbU4DwZ7ZbcER90lBpLcNwswrF8JdbBnCsTGuwdT9HUBn5xNA60mWQWuyUkF73TFAxYX1v9qGOcE=",
          "dtype": "f4"
         },
         "y": {
          "bdata": "wo2TQTqloEGNFodBfwr0QY3oeEEa1Ge+gYgfwtMbo0FX0O0/OTWBwJHfPMD/7jG/oa3nQUMOI0EnQhVC+UK2QJZ6CMKdiEBBA7yPwCfSyUE=",
          "dtype": "f4"
         },
         "z": {
          "bdata": "r3QPQn0nHEJ7JhVCvt7MQXuXFkLfwG7BAPDjQPaRCL90KAzCNMifQcOqs0FY4KBBKybUQSLGF8LTrGk/iWxHQcdz47/66grCtl4iQvYug0E=",
          "dtype": "f4"
         }
        },
        {
         "customdata": [
          [
           "Vi",
           0
          ],
          [
           "Vi",
           1
          ],
          [
           "Vi",
           2
          ],
          [
           "Vi",
           3
          ],
          [
           "Vi",
           4
          ],
          [
           "Vi",
           5
          ],
          [
           "Vi",
           6
          ],
          [
           "Vi",
           7
          ],
          [
           "Vi",
           8
          ],
          [
           "Vi",
           9
          ],
          [
           "Vi",
           10
          ],
          [
           "Vi",
           11
          ],
          [
           "Vi",
           12
          ],
          [
           "Vi",
           13
          ],
          [
           "Vi",
           14
          ],
          [
           "Vi",
           15
          ],
          [
           "Vi",
           16
          ],
          [
           "Vi",
           17
          ],
          [
           "Vi",
           18
          ],
          [
           "Vi",
           18
          ]
         ],
         "hovertemplate": "champion=%{customdata[0]}<br>x=%{x}<br>y=%{y}<br>z=%{z}<br>patch=%{customdata[1]}<extra></extra>",
         "legendgroup": "Vi",
         "marker": {
          "color": "#FECB52",
          "size": 5,
          "symbol": "circle"
         },
         "mode": "markers",
         "name": "Vi",
         "scene": "scene",
         "showlegend": true,
         "type": "scatter3d",
         "visible": "legendonly",
         "x": {
          "bdata": "DmQAQvN+/EGQEoxBfEnpQdJhOEHNwHpBqgnFv+lIN0GSNJlBZXdpQahV9UGII79BhqC1QOdQtUFA1wzBjNf0QZjRuEHxsBZCl6hcQe05mcA=",
          "dtype": "f4"
         },
         "y": {
          "bdata": "3udBwTKRDcHW6kLBdIdfv06cm8FgL4PBmiyqwXWSIsL5DAzCDxHhwMU9N0ETN2VB6THZQUJd+sDloatBdOUZQeRcb0GeYClBzTvkQeBuwsA=",
          "dtype": "f4"
         },
         "z": {
          "bdata": "BCMIwWq308Da1im/W3qwv9RtJML1VGK/0QF7wfwwcsDnySFAC1QCwuQmEkFyuMK/cUyuP575w0HN/RVC+V5uQUH4pEFuBkRBXy64wUYUFcE=",
          "dtype": "f4"
         }
        },
        {
         "customdata": [
          [
           "Zilean",
           0
          ],
          [
           "Zilean",
           1
          ],
          [
           "Zilean",
           2
          ],
          [
           "Zilean",
           3
          ],
          [
           "Zilean",
           4
          ],
          [
           "Zilean",
           5
          ],
          [
           "Zilean",
           6
          ],
          [
           "Zilean",
           7
          ],
          [
           "Zilean",
           8
          ],
          [
           "Zilean",
           9
          ],
          [
           "Zilean",
           10
          ],
          [
           "Zilean",
           11
          ],
          [
           "Zilean",
           12
          ],
          [
           "Zilean",
           13
          ],
          [
           "Zilean",
           14
          ],
          [
           "Zilean",
           15
          ],
          [
           "Zilean",
           16
          ],
          [
           "Zilean",
           17
          ],
          [
           "Zilean",
           18
          ],
          [
           "Zilean",
           18
          ]
         ],
         "hovertemplate": "champion=%{customdata[0]}<br>x=%{x}<br>y=%{y}<br>z=%{z}<br>patch=%{customdata[1]}<extra></extra>",
         "legendgroup": "Zilean",
         "marker": {
          "color": "#636efa",
          "size": 5,
          "symbol": "circle"
         },
         "mode": "markers",
         "name": "Zilean",
         "scene": "scene",
         "showlegend": true,
         "type": "scatter3d",
         "visible": "legendonly",
         "x": {
          "bdata": "pVVuQajnVkH196zBYk6kP8UmEcK0tAFBA+ISQjPMyMHBMQHCUo3HwVzD4sEzBu/Bg0HWQYG9CUCnwLNAA5pnu3Kn/cHvYAbCGsnBwfzM+kA=",
          "dtype": "f4"
         },
         "y": {
          "bdata": "winhQXrAzkCOF/XAdXCmQXxaQ0GXBZVBv0GUQbbrzMBVl9I/6w77wFGID79QLGDBDc/ZQTYkqsDTrqRBBP0kwty8jEB+f1vBG668QXsn0UE=",
          "dtype": "f4"
         },
         "z": {
          "bdata": "ffvvQNHqCEKulcdAsQAlwjeC0sH9oAxBqp+WwWZEGsIpALTBeyACQjDyy8Gi4AJCqkGmQMG2NEKb5lBBDqUWwVGZnsF+OadB4araPa1hHUE=",
          "dtype": "f4"
         }
        },
        {
         "customdata": [
          [
           "Aatrox",
           0
          ],
          [
           "Aatrox",
           1
          ],
          [
           "Aatrox",
           2
          ],
          [
           "Aatrox",
           3
          ],
          [
           "Aatrox",
           4
          ],
          [
           "Aatrox",
           5
          ],
          [
           "Aatrox",
           6
          ],
          [
           "Aatrox",
           7
          ],
          [
           "Aatrox",
           8
          ],
          [
           "Aatrox",
           9
          ],
          [
           "Aatrox",
           10
          ],
          [
           "Aatrox",
           11
          ],
          [
           "Aatrox",
           12
          ],
          [
           "Aatrox",
           13
          ],
          [
           "Aatrox",
           14
          ],
          [
           "Aatrox",
           15
          ],
          [
           "Aatrox",
           16
          ],
          [
           "Aatrox",
           17
          ],
          [
           "Aatrox",
           18
          ],
          [
           "Aatrox",
           18
          ]
         ],
         "hovertemplate": "champion=%{customdata[0]}<br>x=%{x}<br>y=%{y}<br>z=%{z}<br>patch=%{customdata[1]}<extra></extra>",
         "legendgroup": "Aatrox",
         "marker": {
          "color": "#EF553B",
          "size": 5,
          "symbol": "circle"
         },
         "mode": "markers",
         "name": "Aatrox",
         "scene": "scene",
         "showlegend": true,
         "type": "scatter3d",
         "visible": "legendonly",
         "x": {
          "bdata": "BJulv/x6uUG6mCBBxTK/QU9hokEX8RvBkhyOwe61u8HfXC7C7PmeP0GW/ECQOSNBVPIswcElN0H5SD5B3Kn6QCHUY8FHTInBlJQRQaLbNUA=",
          "dtype": "f4"
         },
         "y": {
          "bdata": "LN+jQejicz4dsffArhXiQZuFIMDYIXRBEbMgweozPkFAEsDAvuBJQSaMzL60C4NATuS6QemBWkBNUUVA09QCQvsQZMD8IkhBq6MWv8EKx78=",
          "dtype": "f4"
         },
         "z": {
          "bdata": "RQ+bwekMF8KDhmhBvRBrwZ/vXsH/2c2+k8mawVMZMEHmSKm/knxowZvjncFo/IPBH3gQwe0YlcF+36bBMsWBwR3XjEEzdRNBWVqDQRMRTUA=",
          "dtype": "f4"
         }
        },
        {
         "customdata": [
          [
           "Nami",
           0
          ],
          [
           "Nami",
           1
          ],
          [
           "Nami",
           2
          ],
          [
           "Nami",
           3
          ],
          [
           "Nami",
           4
          ],
          [
           "Nami",
           5
          ],
          [
           "Nami",
           6
          ],
          [
           "Nami",
           7
          ],
          [
           "Nami",
           8
          ],
          [
           "Nami",
           9
          ],
          [
           "Nami",
           10
          ],
          [
           "Nami",
           11
          ],
          [
           "Nami",
           12
          ],
          [
           "Nami",
           13
          ],
          [
           "Nami",
           14
          ],
          [
           "Nami",
           15
          ],
          [
           "Nami",
           16
          ],
          [
           "Nami",
           17
          ],
          [
           "Nami",
           18
          ],
          [
           "Nami",
           18
          ]
         ],
         "hovertemplate": "champion=%{customdata[0]}<br>x=%{x}<br>y=%{y}<br>z=%{z}<br>patch=%{customdata[1]}<extra></extra>",
         "legendgroup": "Nami",
         "marker": {
          "color": "#00cc96",
          "size": 5,
          "symbol": "circle"
         },
         "mode": "markers",
         "name": "Nami",
         "scene": "scene",
         "showlegend": true,
         "type": "scatter3d",
         "visible": "legendonly",
         "x": {
          "bdata": "axKpQcs+XMDEDBDBZoGnQWDijD9byAzBZzPqQG1Uq0HrJLVBBLbkQUeHFEFRc7NAiFAOQdY5xkAxL0hBRQvMQWqMykDpv6ZAkQ+kQIQ8WMA=",
          "dtype": "f4"
         },
         "y": {
          "bdata": "QEr2QaGuvj6EOo7AFsywwUE4CcHnvcg/QVqWwFevusCd4wHBuTX8QElbmEHO3S9AVc4JQu/eXMEq5tDA8BuVQehVJMG+65LBvinGQafVicA=",
          "dtype": "f4"
         },
         "z": {
          "bdata": "A8CXQBFrhMFEO/jBq7jpQLAhxkF3VgzCPIJdwOXFokH1RplBmOiiQaOqr0GJrSK/o4BcQSdTBsKjb+W/hW2vP9ygnsHg7XfB0eLwwfbuD8A=",
          "dtype": "f4"
         }
        },
        {
         "customdata": [
          [
           "Azir",
           0
          ],
          [
           "Azir",
           1
          ],
          [
           "Azir",
           2
          ],
          [
           "Azir",
           3
          ],
          [
           "Azir",
           4
          ],
          [
           "Azir",
           5
          ],
          [
           "Azir",
           6
          ],
          [
           "Azir",
           7
          ],
          [
           "Azir",
           8
          ],
          [
           "Azir",
           9
          ],
          [
           "Azir",
           10
          ],
          [
           "Azir",
           11
          ],
          [
           "Azir",
           12
          ],
          [
           "Azir",
           13
          ],
          [
           "Azir",
           14
          ],
          [
           "Azir",
           15
          ],
          [
           "Azir",
           16
          ],
          [
           "Azir",
           17
          ],
          [
           "Azir",
           18
          ],
          [
           "Azir",
           18
          ]
         ],
         "hovertemplate": "champion=%{customdata[0]}<br>x=%{x}<br>y=%{y}<br>z=%{z}<br>patch=%{customdata[1]}<extra></extra>",
         "legendgroup": "Azir",
         "marker": {
          "color": "#ab63fa",
          "size": 5,
          "symbol": "circle"
         },
         "mode": "markers",
         "name": "Azir",
         "scene": "scene",
         "showlegend": true,
         "type": "scatter3d",
         "visible": "legendonly",
         "x": {
          "bdata": "4YtYQSCCAUL+4xnBJW5NQUQamMGnQrFBeFE9QaXwCEIVIx5CiSkqwRoqgEB/ogTCgQ8GwsiNwUCR1TTBNMOZwPQtwcE/jB5Cy6GbQEF7MME=",
          "dtype": "f4"
         },
         "y": {
          "bdata": "pYOkwYa4WEEMu1TByDfawV2MicHyPPPBTuF1wcq0tsBEVwZABxyTwWG1McEePR7BkzLhwZ9qGcC4yLDBbGApPycMnMA5X4TBacsFwsi4JME=",
          "dtype": "f4"
         },
         "z": {
          "bdata": "+sjfwWgQtcHNq+dAOuxJQTDxgMAgFCTBr/23wckPWMEnmmPBckEGwo1IrcGx45vBFJBLQVqZk8EZkWnBEcS7wReGzMEf3krB1v9RQE6uhcE=",
          "dtype": "f4"
         }
        },
        {
         "customdata": [
          [
           "Singed",
           0
          ],
          [
           "Singed",
           1
          ],
          [
           "Singed",
           2
          ],
          [
           "Singed",
           3
          ],
          [
           "Singed",
           4
          ],
          [
           "Singed",
           5
          ],
          [
           "Singed",
           6
          ],
          [
           "Singed",
           7
          ],
          [
           "Singed",
           8
          ],
          [
           "Singed",
           9
          ],
          [
           "Singed",
           10
          ],
          [
           "Singed",
           11
          ],
          [
           "Singed",
           12
          ],
          [
           "Singed",
           13
          ],
          [
           "Singed",
           14
          ],
          [
           "Singed",
           15
          ],
          [
           "Singed",
           16
          ],
          [
           "Singed",
           17
          ],
          [
           "Singed",
           18
          ],
          [
           "Singed",
           18
          ]
         ],
         "hovertemplate": "champion=%{customdata[0]}<br>x=%{x}<br>y=%{y}<br>z=%{z}<br>patch=%{customdata[1]}<extra></extra>",
         "legendgroup": "Singed",
         "marker": {
          "color": "#FFA15A",
          "size": 5,
          "symbol": "circle"
         },
         "mode": "markers",
         "name": "Singed",
         "scene": "scene",
         "showlegend": true,
         "type": "scatter3d",
         "visible": "legendonly",
         "x": {
          "bdata": "Ll5mQQ/pE0KJngpCLLvuQTExokGx+mNBqSrnQTOVAsLgNilBG8FQQbsy5UGTVCNCKB/LQe1jCMLxbAXCEK/JwYvmmMFzfgZBSYx8wC0dRMA=",
          "dtype": "f4"
         },
         "y": {
          "bdata": "C4uVwQxxKMGE7GBBSVuSwVA1skGYEZPBwQagwTyzTMCAMXVAAUTMwAARqMGMjhnAhCOBwJeOE8D90sHBi/OwwMX3eMAlhg9BcIDhwSSdG8A=",
          "dtype": "f4"
         },
         "z": {
          "bdata": "kIqEQI/eKsElF8HBpWPSQXFxdcH2IwlBEvDiQepB1EF6awfCMYAGQoaQ+kExlmfBhvq8wI9zwEGmjaXBwJGtQbB89sG45KrBgtuVwcpbXcE=",
          "dtype": "f4"
         }
        },
        {
         "customdata": [
          [
           "Evelynn",
           0
          ],
          [
           "Evelynn",
           1
          ],
          [
           "Evelynn",
           2
          ],
          [
           "Evelynn",
           3
          ],
          [
           "Evelynn",
           4
          ],
          [
           "Evelynn",
           5
          ],
          [
           "Evelynn",
           6
          ],
          [
           "Evelynn",
           7
          ],
          [
           "Evelynn",
           8
          ],
          [
           "Evelynn",
           9
          ],
          [
           "Evelynn",
           10
          ],
          [
           "Evelynn",
           11
          ],
          [
           "Evelynn",
           12
          ],
          [
           "Evelynn",
           13
          ],
          [
           "Evelynn",
           14
          ],
          [
           "Evelynn",
           15
          ],
          [
           "Evelynn",
           16
          ],
          [
           "Evelynn",
           17
          ],
          [
           "Evelynn",
           18
          ],
          [
           "Evelynn",
           18
          ]
         ],
         "hovertemplate": "champion=%{customdata[0]}<br>x=%{x}<br>y=%{y}<br>z=%{z}<br>patch=%{customdata[1]}<extra></extra>",
         "legendgroup": "Evelynn",
         "marker": {
          "color": "#19d3f3",
          "size": 5,
          "symbol": "circle"
         },
         "mode": "markers",
         "name": "Evelynn",
         "scene": "scene",
         "showlegend": true,
         "type": "scatter3d",
         "visible": "legendonly",
         "x": {
          "bdata": "7DGXQdYTi0EZd5dBxyXlwT3Wu8HU871Aq7pNQQfRvEBGjAbB5Bj3wVs26sFNyB1Cix6xQSK9oEHQ4UpBaHuIQPdpNEFNWaFByzhiwSniWcE=",
          "dtype": "f4"
         },
         "y": {
          "bdata": "FTNQwRV38cHq/IjAC3mdQeaLD8GUZ51Bs9naQU4jlkFdUx5CfX51QUHniEGjuqDBY2w4wAAhCcITORLCRAivQQmgDUL/aBFCd8EMQloi20A=",
          "dtype": "f4"
         },
         "z": {
          "bdata": "rxULwcfJqz4e7XxB8VS7wawX9MBPvRTCXW71wU/qB8JAh9NAD+qWwagQmkENDVdBRN7tQHpCUb++5BbA9R4Rwjqs0EBy4oXB1bh3QaYHIsE=",
          "dtype": "f4"
         }
        },
        {
         "customdata": [
          [
           "Twitch",
           0
          ],
          [
           "Twitch",
           1
          ],
          [
           "Twitch",
           2
          ],
          [
           "Twitch",
           3
          ],
          [
           "Twitch",
           4
          ],
          [
           "Twitch",
           5
          ],
          [
           "Twitch",
           6
          ],
          [
           "Twitch",
           7
          ],
          [
           "Twitch",
           8
          ],
          [
           "Twitch",
           9
          ],
          [
           "Twitch",
           10
          ],
          [
           "Twitch",
           11
          ],
          [
           "Twitch",
           12
          ],
          [
           "Twitch",
           13
          ],
          [
           "Twitch",
           14
          ],
          [
           "Twitch",
           15
          ],
          [
           "Twitch",
           16
          ],
          [
           "Twitch",
           17
          ],
          [
           "Twitch",
           18
          ],
          [
           "Twitch",
           18
          ]
         ],
         "hovertemplate": "champion=%{customdata[0]}<br>x=%{x}<br>y=%{y}<br>z=%{z}<br>patch=%{customdata[1]}<extra></extra>",
         "legendgroup": "Twitch",
         "marker": {
          "color": "#FF6692",
          "size": 5,
          "symbol": "circle"
         },
         "mode": "markers",
         "name": "Twitch",
         "scene": "scene",
         "showlegend": true,
         "type": "scatter3d",
         "visible": "legendonly",
         "x": {
          "bdata": "JqWkwaEUy8Fm1lTAp8TXwTPBxkEA6vPBgxd7QccKE0L6HhhBDfafQS5zBkKlULxBsDXbQXkaQ8DKqh6/iUGkwc6HpEC7XBlBu0pYwQpRHEE=",
          "dtype": "f4"
         },
         "y": {
          "bdata": "0E+uQLfyjcA0U5pBL1JNwefYXsGytA/BnjkywMW0fMCOfKLA5jnbwGWS48BuuCzBtVidQXQCrUEFCaZBPPNEQXkFy8HnaCjB/NxTwbTDo78=",
          "dtype": "f4"
         },
         "z": {
          "bdata": "KcrjwX6MlMHACOpBaDm7QZO9JsFTwNlBy/0qwhAxysEKcAdCxIEjwtcFssEdDuXBFBhmQD063EH0OuNBZtb+QV9dTsHRkT1Au8plwGtwlEA=",
          "dtype": "f4"
         }
        },
        {
         "customdata": [
          [
           "Galio",
           0
          ],
          [
           "Galio",
           1
          ],
          [
           "Galio",
           2
          ],
          [
           "Galio",
           3
          ],
          [
           "Galio",
           4
          ],
          [
           "Galio",
           5
          ],
          [
           "Galio",
           6
          ],
          [
           "Galio",
           7
          ],
          [
           "Galio",
           8
          ],
          [
           "Galio",
           9
          ],
          [
           "Galio",
           10
          ],
          [
           "Galio",
           11
          ],
          [
           "Galio",
           12
          ],
          [
           "Galio",
           13
          ],
          [
           "Galio",
           14
          ],
          [
           "Galio",
           15
          ],
          [
           "Galio",
           16
          ],
          [
           "Galio",
           17
          ],
          [
           "Galio",
           18
          ],
          [
           "Galio",
           18
          ]
         ],
         "hovertemplate": "champion=%{customdata[0]}<br>x=%{x}<br>y=%{y}<br>z=%{z}<br>patch=%{customdata[1]}<extra></extra>",
         "legendgroup": "Galio",
         "marker": {
          "color": "#B6E880",
          "size": 5,
          "symbol": "circle"
         },
         "mode": "markers",
         "name": "Galio",
         "scene": "scene",
         "showlegend": true,
         "type": "scatter3d",
         "visible": "legendonly",
         "x": {
          "bdata": "DDZ4wb47msA8anDB045vwQVH1MHoRhrCzbIAwgkGGcLILiLCzOuvQR3PyUCQEPpBvKeEQeRxpcFyFoBAg8VcQc/BZkEdiI2/UEWSwZivsUA=",
          "dtype": "f4"
         },
         "y": {
          "bdata": "/R0lwkJPk8EudYnBdVOewYfXA8L3e/5ABdyEQQurnECgUQVAtIetQDb0a8EtU0lAGxR1QSzZikE1MlTApzYBwX1+qcHEjRbCcqRqwQ7B0sA=",
          "dtype": "f4"
         },
         "z": {
          "bdata": "OGwuQeKunr9zsV1BhHufQWCYTcGzJdPAhglBQbsl+8BX6RnBCKynwYoVzMGIiw1Bms9awFoIXsGrrkXBLhlfwUZArcG2oJBBb6piwSALsMA=",
          "dtype": "f4"
         }
        },
        {
         "customdata": [
          [
           "Karthus",
           0
          ],
          [
           "Karthus",
           1
          ],
          [
           "Karthus",
           2
          ],
          [
           "Karthus",
           3
          ],
          [
           "Karthus",
           4
          ],
          [
           "Karthus",
           5
          ],
          [
           "Karthus",
           6
          ],
          [
           "Karthus",
           7
          ],
          [
           "Karthus",
           8
          ],
          [
           "Karthus",
           9
          ],
          [
           "Karthus",
           10
          ],
          [
           "Karthus",
           11
          ],
          [
           "Karthus",
           12
          ],
          [
           "Karthus",
           13
          ],
          [
           "Karthus",
           14
          ],
          [
           "Karthus",
           15
          ],
          [
           "Karthus",
           16
          ],
          [
           "Karthus",
           17
          ],
          [
           "Karthus",
           18
          ],
          [
           "Karthus",
           18
          ]
         ],
         "hovertemplate": "champion=%{customdata[0]}<br>x=%{x}<br>y=%{y}<br>z=%{z}<br>patch=%{customdata[1]}<extra></extra>",
         "legendgroup": "Karthus",
         "marker": {
          "color": "#FF97FF",
          "size": 5,
          "symbol": "circle"
         },
         "mode": "markers",
         "name": "Karthus",
         "scene": "scene",
         "showlegend": true,
         "type": "scatter3d",
         "visible": "legendonly",
         "x": {
          "bdata": "0TrEQWJ15UFO6KpBSOoqQq02w0EP4ZrBP198QY+dDEG9O4fBt+vOwdMblMHjuSnBwfqEQMVW5UFKoOZBSothwXOjFUKxaXc/iYepQRHAUEE=",
          "dtype": "f4"
         },
         "y": {
          "bdata": "ctmvQRwvlkFnJG7BADQ8QE29fcETAZo/FWi4QUpkGsHE8kVBc+sNwKKhD0EkronANoaPwIGtUsA537W/zLiOQIJ910ECqTdC//3gQYSrMsA=",
          "dtype": "f4"
         },
         "z": {
          "bdata": "C29+vwbsFcGyMo9BvemoQTTpWEFyWDpChs6FwZsVVT9sROHBiLU/wfgCvcH5jmnB4ZBgQRcUnMGsBqDBzXtZweuKiEAfsIFAvaOrwduwiUA=",
          "dtype": "f4"
         }
        },
        {
         "customdata": [
          [
           "Cho'Gath",
           0
          ],
          [
           "Cho'Gath",
           1
          ],
          [
           "Cho'Gath",
           2
          ],
          [
           "Cho'Gath",
           3
          ],
          [
           "Cho'Gath",
           4
          ],
          [
           "Cho'Gath",
           5
          ],
          [
           "Cho'Gath",
           6
          ],
          [
           "Cho'Gath",
           7
          ],
          [
           "Cho'Gath",
           8
          ],
          [
           "Cho'Gath",
           9
          ],
          [
           "Cho'Gath",
           10
          ],
          [
           "Cho'Gath",
           11
          ],
          [
           "Cho'Gath",
           12
          ],
          [
           "Cho'Gath",
           13
          ],
          [
           "Cho'Gath",
           14
          ],
          [
           "Cho'Gath",
           15
          ],
          [
           "Cho'Gath",
           16
          ],
          [
           "Cho'Gath",
           17
          ],
          [
           "Cho'Gath",
           18
          ],
          [
           "Cho'Gath",
           18
          ]
         ],
         "hovertemplate": "champion=%{customdata[0]}<br>x=%{x}<br>y=%{y}<br>z=%{z}<br>patch=%{customdata[1]}<extra></extra>",
         "legendgroup": "Cho'Gath",
         "marker": {
          "color": "#FECB52",
          "size": 5,
          "symbol": "circle"
         },
         "mode": "markers",
         "name": "Cho'Gath",
         "scene": "scene",
         "showlegend": true,
         "type": "scatter3d",
         "visible": "legendonly",
         "x": {
          "bdata": "KaERQgvEGEJdeSpCZOigQWUFLEEEDuC/7kO4QVQ39sHLYKlBoOXowcMbicHKgK7BYvrjQIYXOEHHWQE+mNiEwZcPzcFUgknA88x7QdCckz8=",
          "dtype": "f4"
         },
         "y": {
          "bdata": "KKZewPLMgEGTvcjAAs/SwUUvlUFsFJZAC9jcQUvCrkBU/MbBPtt1vvmfX0B6iXNBJbCUwX49tsDZachA8VIaP7IZlcHp5zFCvQbdwddvEcA=",
          "dtype": "f4"
         },
         "z": {
          "bdata": "pXMowdqoo8CE91TBbQGkvvpOacHbRIVBeS9PQdUzCkJan/pBiqeaQXgy2EHY/g5BajKZQZQ/qUF2COVBvHXnQd0q50HG021Bj32+QaDyIEE=",
          "dtype": "f4"
         }
        },
        {
         "customdata": [
          [
           "Amumu",
           0
          ],
          [
           "Amumu",
           1
          ],
          [
           "Amumu",
           2
          ],
          [
           "Amumu",
           3
          ],
          [
           "Amumu",
           4
          ],
          [
           "Amumu",
           5
          ],
          [
           "Amumu",
           6
          ],
          [
           "Amumu",
           7
          ],
          [
           "Amumu",
           8
          ],
          [
           "Amumu",
           9
          ],
          [
           "Amumu",
           10
          ],
          [
           "Amumu",
           11
          ],
          [
           "Amumu",
           12
          ],
          [
           "Amumu",
           13
          ],
          [
           "Amumu",
           14
          ],
          [
           "Amumu",
           15
          ],
          [
           "Amumu",
           16
          ],
          [
           "Amumu",
           17
          ],
          [
           "Amumu",
           18
          ],
          [
           "Amumu",
           18
          ]
         ],
         "hovertemplate": "champion=%{customdata[0]}<br>x=%{x}<br>y=%{y}<br>z=%{z}<br>patch=%{customdata[1]}<extra></extra>",
         "legendgroup": "Amumu",
         "marker": {
          "color": "#636efa",
          "size": 5,
          "symbol": "circle"
         },
         "mode": "markers",
         "name": "Amumu",
         "scene": "scene",
         "showlegend": true,
         "type": "scatter3d",
         "visible": "legendonly",
         "x": {
          "bdata": "P+HRPSqtJcHtNEjAJTI/v27KTkEQGZNBatTPwWXCA8ChSW9BPdExwAjx4EG5GBJCaSf4QGS2dr5W1uBBJoDRPzC4pkFbvhzBjo3jQZsoZEA=",
          "dtype": "f4"
         },
         "y": {
          "bdata": "K+VwwSok2kDmSSdCWAcqQlPvAELhN+5BB14TQkxRmEGcVDdBNYh2wbKHqkB4oCLAtmTiwVIOEkKVN8FBYwIwQkReA0Jaht1AHqxmwffP6ME=",
          "dtype": "f4"
         },
         "z": {
          "bdata": "NxnJQYWxO8K7QxlBeMX3QDBA0kGkYlhBYecPP18fA8LAPJlBMHsswg7Z7ME0AQDBxV07QRpBtr8i83zAbWSdQNHYhUF6avnBXsCBQSK1iEA=",
          "dtype": "f4"
         }
        },
        {
         "customdata": [
          [
           "Rammus",
           0
          ],
          [
           "Rammus",
           1
          ],
          [
           "Rammus",
           2
          ],
          [
           "Rammus",
           3
          ],
          [
           "Rammus",
           4
          ],
          [
           "Rammus",
           5
          ],
          [
           "Rammus",
           6
          ],
          [
           "Rammus",
           7
          ],
          [
           "Rammus",
           8
          ],
          [
           "Rammus",
           9
          ],
          [
           "Rammus",
           10
          ],
          [
           "Rammus",
           11
          ],
          [
           "Rammus",
           12
          ],
          [
           "Rammus",
           13
          ],
          [
           "Rammus",
           14
          ],
          [
           "Rammus",
           15
          ],
          [
           "Rammus",
           16
          ],
          [
           "Rammus",
           17
          ],
          [
           "Rammus",
           18
          ],
          [
           "Rammus",
           18
          ]
         ],
         "hovertemplate": "champion=%{customdata[0]}<br>x=%{x}<br>y=%{y}<br>z=%{z}<br>patch=%{customdata[1]}<extra></extra>",
         "legendgroup": "Rammus",
         "marker": {
          "color": "#EF553B",
          "size": 5,
          "symbol": "circle"
         },
         "mode": "markers",
         "name": "Rammus",
         "scene": "scene",
         "showlegend": true,
         "type": "scatter3d",
         "visible": "legendonly",
         "x": {
          "bdata": "NIXqv61SJULXcYpAB2B3QVnHi0HfDvPBxVd2QAJcLMFe10JBQkBMQS6n7EA1/4pBjzSbwSrq08CBBoFBdjrkwRsui0F0vRrA01hlQPW3D8E=",
          "dtype": "f4"
         },
         "y": {
          "bdata": "cbUzQtBdmUAzxkBCl5qQPq/T5EG4sUHBIi2NwezqhEHFJ/LAp1Ulwbgoc8HYoHLAVK2uwCOkJEJFBvtBSFLdQfjqCEJjoidCQaAUQtm9XEA=",
          "dtype": "f4"
         },
         "z": {
          "bdata": "VUfcP64ItkERF5RAAUSKwd+C5cDjTN7BxPXHweMqIMI/9/TA+m0nwcQysMHDtQpCrTI8QXUt/D93GrjB6SKiwVB+m8Hnx0U/iq0GwJTGFEA=",
          "dtype": "f4"
         }
        },
        {
         "customdata": [
          [
           "Anivia",
           0
          ],
          [
           "Anivia",
           1
          ],
          [
           "Anivia",
           2
          ],
          [
           "Anivia",
           3
          ],
          [
           "Anivia",
           4
          ],
          [
           "Anivia",
           5
          ],
          [
           "Anivia",
           6
          ],
          [
           "Anivia",
           7
          ],
          [
           "Anivia",
           8
          ],
          [
           "Anivia",
           9
          ],
          [
           "Anivia",
           10
          ],
          [
           "Anivia",
           11
          ],
          [
           "Anivia",
           12
          ],
          [
           "Anivia",
           13
          ],
          [
           "Anivia",
           14
          ],
          [
           "Anivia",
           15
          ],
          [
           "Anivia",
           16
          ],
          [
           "Anivia",
           17
          ],
          [
           "Anivia",
           18
          ],
          [
           "Anivia",
           18
          ]
         ],
         "hovertemplate": "champion=%{customdata[0]}<br>x=%{x}<br>y=%{y}<br>z=%{z}<br>patch=%{customdata[1]}<extra></extra>",
         "legendgroup": "Anivia",
         "marker": {
          "color": "#00cc96",
          "size": 5,
          "symbol": "circle"
         },
         "mode": "markers",
         "name": "Anivia",
         "scene": "scene",
         "showlegend": true,
         "type": "scatter3d",
         "visible": "legendonly",
         "x": {
          "bdata": "cxYQQqODCEK+dS1BxaFhwTuOBr+l2LnBUpSlwUFwUcEt4ULB2RhVQc3xWkC3IPbAnjDrwdruxz806ShCE5DdwBCs2b6+9cDBwo1twOWBtcA=",
          "dtype": "f4"
         },
         "y": {
          "bdata": "QUH/QPdWGkH/RMtAMMnNwYqy28E2N3pAmeBowWUo4cFGE99B+Z6xwffY2r3OXa6/F2PawaIpBEJzFafBPdEawVoJO77MQKhBMnXbwFWtLMA=",
          "dtype": "f4"
         },
         "z": {
          "bdata": "X5JIQdV4LkENcyW/02m1wQs1x0AaMlTB1Y4lwgKwqEGINZDAqz4TQslPw8F4gJPBGhoLwW5+vMGKXkhBzaDiwS0TK8L3cHDBnOurQCQJIcE=",
          "dtype": "f4"
         }
        },
        {
         "customdata": [
          [
           "Shaco",
           0
          ],
          [
           "Shaco",
           1
          ],
          [
           "Shaco",
           2
          ],
          [
           "Shaco",
           3
          ],
          [
           "Shaco",
           4
          ],
          [
           "Shaco",
           5
          ],
          [
           "Shaco",
           6
          ],
          [
           "Shaco",
           7
          ],
          [
           "Shaco",
           8
          ],
          [
           "Shaco",
           9
          ],
          [
           "Shaco",
           10
          ],
          [
           "Shaco",
           11
          ],
          [
           "Shaco",
           12
          ],
          [
           "Shaco",
           13
          ],
          [
           "Shaco",
           14
          ],
          [
           "Shaco",
           15
          ],
          [
           "Shaco",
           16
          ],
          [
           "Shaco",
           17
          ],
          [
           "Shaco",
           18
          ],
          [
           "Shaco",
           18
          ]
         ],
         "hovertemplate": "champion=%{customdata[0]}<br>x=%{x}<br>y=%{y}<br>z=%{z}<br>patch=%{customdata[1]}<extra></extra>",
         "legendgroup": "Shaco",
         "marker": {
          "color": "#ab63fa",
          "size": 5,
          "symbol": "circle"
         },
         "mode": "markers",
         "name": "Shaco",
         "scene": "scene",
         "showlegend": true,
         "type": "scatter3d",
         "visible": "legendonly",
         "x": {
          "bdata": "7u1iwQnX4EEBqdnAksULQtxvC0LWcI1BTUG5vw0zY0EX6hlCjjUQwimjTkEUqCpB8uS1QRWdNsAh72NBsqBRQYQ/AUGxomBBlssIwnh30kA=",
          "dtype": "f4"
         },
         "y": {
          "bdata": "cQGjwShnsEF3t8JAUQA4wfH58j/iHQBCEhQUQsQCGsEjFuxBJfuIwEBzfUEzZenAc0/3QZ6m7EHKQgdBQ6X6QF1FxkCm1H/BvFimwb4yR8E=",
          "dtype": "f4"
         },
         "z": {
          "bdata": "sSiqQLuI2UHeqApAyIYBwNmcnEE8eazByRrDQLiSpsFjf+k/CVSUwUp39kE62tVB23PLwWQYy0G0lSDCC9YlwkCuJMLq+MBBqKF+wYfhP0E=",
          "dtype": "f4"
         }
        },
        {
         "customdata": [
          [
           "Yuumi",
           0
          ],
          [
           "Yuumi",
           1
          ],
          [
           "Yuumi",
           2
          ],
          [
           "Yuumi",
           3
          ],
          [
           "Yuumi",
           4
          ],
          [
           "Yuumi",
           5
          ],
          [
           "Yuumi",
           6
          ],
          [
           "Yuumi",
           7
          ],
          [
           "Yuumi",
           8
          ],
          [
           "Yuumi",
           9
          ],
          [
           "Yuumi",
           10
          ],
          [
           "Yuumi",
           11
          ],
          [
           "Yuumi",
           12
          ],
          [
           "Yuumi",
           13
          ],
          [
           "Yuumi",
           14
          ],
          [
           "Yuumi",
           15
          ],
          [
           "Yuumi",
           16
          ],
          [
           "Yuumi",
           17
          ],
          [
           "Yuumi",
           18
          ],
          [
           "Yuumi",
           18
          ]
         ],
         "hovertemplate": "champion=%{customdata[0]}<br>x=%{x}<br>y=%{y}<br>z=%{z}<br>patch=%{customdata[1]}<extra></extra>",
         "legendgroup": "Yuumi",
         "marker": {
          "color": "#FFA15A",
          "size": 5,
          "symbol": "circle"
         },
         "mode": "markers",
         "name": "Yuumi",
         "scene": "scene",
         "showlegend": true,
         "type": "scatter3d",
         "visible": "legendonly",
         "x": {
          "bdata": "YZ36wJo77sEMnUBBT1iFQU/vHUEm64rBLFpmP0HQpEELgedAuXntQTzL/kHTAvVBcgEAQvgt6kE3849BBbatQVVQ5UFCppNBBYygQT7qG8E=",
          "dtype": "f4"
         },
         "y": {
          "bdata": "q7xjQb34PsGTSHdBjP52Qb2ivUHC9Po/WYsnwrnnIkG7TW5Bdiu3wW0BvsFAKa/BeZq+wc2sqcEeb2VBRjETwWxzjsFGmkZBNQldQWMB0T8=",
          "dtype": "f4"
         },
         "z": {
          "bdata": "2BQaQehTLMBdfJPB9y6LwUAI/sHr+rXBFPNHwcCnEEJH++tBqlNLQcM9K0EZJypByOgCQXNtfkDb6JvB0YOfwPx6AEFVjqHBfxywwaM2H0E=",
          "dtype": "f4"
         }
        },
        {
         "customdata": [
          [
           "Dr. Mundo",
           0
          ],
          [
           "Dr. Mundo",
           1
          ],
          [
           "Dr. Mundo",
           2
          ],
          [
           "Dr. Mundo",
           3
          ],
          [
           "Dr. Mundo",
           4
          ],
          [
           "Dr. Mundo",
           5
          ],
          [
           "Dr. Mundo",
           6
          ],
          [
           "Dr. Mundo",
           7
          ],
          [
           "Dr. Mundo",
           8
          ],
          [
           "Dr. Mundo",
           9
          ],
          [
           "Dr. Mundo",
           10
          ],
          [
           "Dr. Mundo",
           11
          ],
          [
           "Dr. Mundo",
           12
          ],
          [
           "Dr. Mundo",
           13
          ],
          [
           "Dr. Mundo",
           14
          ],
          [
           "Dr. Mundo",
           15
          ],
          [
           "Dr. Mundo",
           16
          ],
          [
           "Dr. Mundo",
           17
          ],
          [
           "Dr. Mundo",
           18
          ],
          [
           "Dr. Mundo",
           18
          ]
         ],
         "hovertemplate": "champion=%{customdata[0]}<br>x=%{x}<br>y=%{y}<br>z=%{z}<br>patch=%{customdata[1]}<extra></extra>",
         "legendgroup": "Dr. Mundo",
         "marker": {
          "color": "#19d3f3",
          "size": 5,
          "symbol": "circle"
         },
         "mode": "markers",
         "name": "Dr. Mundo",
         "scene": "scene",
         "showlegend": true,
         "type": "scatter3d",
         "visible": "legendonly",
         "x": {
          "bdata": "XZ6wwbywlUG6QplBFPeswbjMl0FkKLNBG6nLQSnhIsIVHWFASKj0v58K5z8gfQHB3F+NQIOOykF2LbVB7nmaQR7u10GXizhBn8/8wTrO+UA=",
          "dtype": "f4"
         },
         "y": {
          "bdata": "OcECwsADJMIXDx3CDtcSwnToHcKMbeXBU8MHwqsJWsHH9Y3BnrY0Qjx4GsL3EAxCBNgdwqwHv0Dz8KnBGEfXwYn0WUD95S9CC1hOQT24DUE=",
          "dtype": "f4"
         },
         "z": {
          "bdata": "olctv1UGIcEU+obBRK2tPe0yaMEtyRVBgB61QHgJHj+/AQzCEf5nwW3PyMHLP83BMVu7wXUtjT+bTClBoeBWQVPhWMFxRNdAUuOeQY7SDcA=",
          "dtype": "f4"
         }
        },
        {
         "customdata": [
          [
           "Samira",
           0
          ],
          [
           "Samira",
           1
          ],
          [
           "Samira",
           2
          ],
          [
           "Samira",
           3
          ],
          [
           "Samira",
           4
          ],
          [
           "Samira",
           5
          ],
          [
           "Samira",
           6
          ],
          [
           "Samira",
           7
          ],
          [
           "Samira",
           8
          ],
          [
           "Samira",
           9
          ],
          [
           "Samira",
           10
          ],
          [
           "Samira",
           11
          ],
          [
           "Samira",
           12
          ],
          [
           "Samira",
           13
          ],
          [
           "Samira",
           14
          ],
          [
           "Samira",
           15
          ],
          [
           "Samira",
           16
          ],
          [
           "Samira",
           17
          ],
          [
           "Samira",
           18
          ],
          [
           "Samira",
           18
          ]
         ],
         "hovertemplate": "champion=%{customdata[0]}<br>x=%{x}<br>y=%{y}<br>z=%{z}<br>patch=%{customdata[1]}<extra></extra>",
         "legendgroup": "Samira",
         "marker": {
          "color": "#FF6692",
          "size": 5,
          "symbol": "circle"
         },
         "mode": "markers",
         "name": "Samira",
         "scene": "scene",
         "showlegend": true,
         "type": "scatter3d",
         "visible": "legendonly",
         "x": {
          "bdata": "gOS7wQuFKcJuC7zBC62xQaWA/EE0To9AS07fwbxTb0BqaYPBya6dwaf7CMDreNdB0gFTQUIbCkG795NBDtydPyfKxUE235/AyIgSwXmd2j8=",
          "dtype": "f4"
         },
         "y": {
          "bdata": "40lFwWNGRkFJZ4/AjoD1wQQ/bMETREhBeKW7QCiziEGAJLxBQ/amQYS5sEHqklLB6K+EQSmacMEzke7B9odsQZ83L8EmJJtBrl+bQay4VEE=",
          "dtype": "f4"
         },
         "z": {
          "bdata": "q3p9wf9nT0H+QvRB9WV7wc71B8HzHsZBmmI8Qa6tQUHxv+JBFZLuQTE7p0HqrtNABLiJQSp5MMEcFWbBlhr4vTjbCcHcSr9Bg+c1QVE58UA=",
          "dtype": "f4"
         }
        },
        {
         "customdata": [
          [
           "Sona",
           0
          ],
          [
           "Sona",
           1
          ],
          [
           "Sona",
           2
          ],
          [
           "Sona",
           3
          ],
          [
           "Sona",
           4
          ],
          [
           "Sona",
           5
          ],
          [
           "Sona",
           6
          ],
          [
           "Sona",
           7
          ],
          [
           "Sona",
           8
          ],
          [
           "Sona",
           9
          ],
          [
           "Sona",
           10
          ],
          [
           "Sona",
           11
          ],
          [
           "Sona",
           12
          ],
          [
           "Sona",
           13
          ],
          [
           "Sona",
           14
          ],
          [
           "Sona",
           15
          ],
          [
           "Sona",
           16
          ],
          [
           "Sona",
           17
          ],
          [
           "Sona",
           18
          ],
          [
           "Sona",
           18
          ]
         ],
         "hovertemplate": "champion=%{customdata[0]}<br>x=%{x}<br>y=%{y}<br>z=%{z}<br>patch=%{customdata[1]}<extra></extra>",
         "legendgroup": "Sona",
         "marker": {
          "color": "#B6E880",
          "size": 5,
          "symbol": "circle"
         },
         "mode": "markers",
         "name": "Sona",
         "scene": "scene",
         "showlegend": true,
         "type": "scatter3d",
         "visible": "legendonly",
         "x": {
          "bdata": "o8lbQAGGH0Ec6jbB9dBYvk6YHEJ0QTtBIBm1Qbgq90AoTDBBc9MpwGM68EBJnhvBp+FaQSGdl0F7YwdBdUp2QSkmZsDAtqFBLfjtQXa8J8A=",
          "dtype": "f4"
         },
         "y": {
          "bdata": "BY+KQSOmjEGQzcVBla/vwerN0UC855zBvq4YQNiLtcGYkbTBIDAYQTz9NML+sgzCVljIQbz25kGP24zBRhyIQShPh8Fg63PBu4G1QQTDmcA=",
          "dtype": "f4"
         },
         "z": {
          "bdata": "n70ZwWOumcGnxxBAAMy3wIAjMkFOidpBBbQjwAGt0kFMcxBClN8IwiiCJUFOD5i9sKUPQYWM/L1oagfC1X2XwY1PlcEG51LAOUyjQAb61z4=",
          "dtype": "f4"
         }
        },
        {
         "customdata": [
          [
           "Kassadin",
           0
          ],
          [
           "Kassadin",
           1
          ],
          [
           "Kassadin",
           2
          ],
          [
           "Kassadin",
           3
          ],
          [
           "Kassadin",
           4
          ],
          [
           "Kassadin",
           5
          ],
          [
           "Kassadin",
           6
          ],
          [
           "Kassadin",
           7
          ],
          [
           "Kassadin",
           8
          ],
          [
           "Kassadin",
           9
          ],
          [
           "Kassadin",
           10
          ],
          [
           "Kassadin",
           11
          ],
          [
           "Kassadin",
           12
          ],
          [
           "Kassadin",
           13
          ],
          [
           "Kassadin",
           14
          ],
          [
           "Kassadin",
           15
          ],
          [
           "Kassadin",
           16
          ],
          [
           "Kassadin",
           17
          ],
          [
           "Kassadin",
           18
          ],
          [
           "Kassadin",
           18
          ]
         ],
         "hovertemplate": "champion=%{customdata[0]}<br>x=%{x}<br>y=%{y}<br>z=%{z}<br>patch=%{customdata[1]}<extra></extra>",
         "legendgroup": "Kassadin",
         "marker": {
          "color": "#FF97FF",
          "size": 5,
          "symbol": "circle"
         },
         "mode": "markers",
         "name": "Kassadin",
         "scene": "scene",
         "showlegend": true,
         "type": "scatter3d",
         "visible": "legendonly",
         "x": {
          "bdata": "PFQ/QjGKQkI6Ph9CYC17QNJol8Edn4nBXDJxQBMJKsHbTuPBcrIIQuiK8MHTi6nBhqM4QV6ps0FFQBRBu+AkPj9gcEDy80pBrQuoQQwudUA=",
          "dtype": "f4"
         },
         "y": {
          "bdata": "m+L5voDSHj+XnCPBfckCwqyRxUHTlhzAga3xwWu+g0HuzefBbUb4QOp1ekDH3Y1A0dAzQUntPUBRGbXB/iZNQJDL5cCP/WbBmMujPZwFzEA=",
          "dtype": "f4"
         },
         "z": {
          "bdata": "djMXwYEXAsGpd4pBfu2KQWqyt8C2DhpC5oJkQcKYbUGs6MG/9bZvwVfIvUBB6bpAcLrhQV3UOEHAY4tBWKboQCB2tkH3q/FBdRH9QPOvSEA=",
          "dtype": "f4"
         }
        },
        {
         "customdata": [
          [
           "Irelia",
           0
          ],
          [
           "Irelia",
           1
          ],
          [
           "Irelia",
           2
          ],
          [
           "Irelia",
           3
          ],
          [
           "Irelia",
           4
          ],
          [
           "Irelia",
           5
          ],
          [
           "Irelia",
           6
          ],
          [
           "Irelia",
           7
          ],
          [
           "Irelia",
           8
          ],
          [
           "Irelia",
           9
          ],
          [
           "Irelia",
           10
          ],
          [
           "Irelia",
           11
          ],
          [
           "Irelia",
           12
          ],
          [
           "Irelia",
           13
          ],
          [
           "Irelia",
           14
          ],
          [
           "Irelia",
           15
          ],
          [
           "Irelia",
           16
          ],
          [
           "Irelia",
           17
          ],
          [
           "Irelia",
           18
          ],
          [
           "Irelia",
           18
          ]
         ],
         "hovertemplate": "champion=%{customdata[0]}<br>x=%{x}<br>y=%{y}<br>z=%{z}<br>patch=%{customdata[1]}<extra></extra>",
         "legendgroup": "Irelia",
         "marker": {
          "color": "#FECB52",
          "size": 5,
          "symbol": "circle"
         },
         "mode": "markers",
         "name": "Irelia",
         "scene": "scene",
         "showlegend": true,
         "type": "scatter3d",
         "visible": "legendonly",
         "x": {
          "bdata": "FoVJQe7OB0JGwIzBGgyTQD8H0EE0vR/CQButQdUyI0IJZWZBTAqYQTSAP8IQ/jfC8QkUwsLoG8KkUQXC9egXwtsFLMKRudbA9qEWwlPK9z8=",
          "dtype": "f4"
         },
         "y": {
          "bdata": "E5WgQEGfx79PAcbAvubwwRqvA0HZUs3ACZEbQhsHhUGuAtFBLb2PwHzuncAAamfAR9abwWDTi8FYm3fBaHxtwbcuukCQUGxBPYtYwd6UKEE=",
          "dtype": "f4"
         },
         "z": {
          "bdata": "R5LFwLdBu8FacIbB8pusvwG2a79CJ9nAY8IvQW+gOkHHYknBnNrVwPARFMGGNQ/BSiwsP1cInr+6TdzARNPswPsmk8Gi0UJBKBaSwCqoPsE=",
          "dtype": "f4"
         }
        },
        {
         "customdata": [
          [
           "Twisted Fate",
           0
          ],
          [
           "Twisted Fate",
           1
          ],
          [
           "Twisted Fate",
           2
          ],
          [
           "Twisted Fate",
           3
          ],
          [
           "Twisted Fate",
           4
          ],
          [
           "Twisted Fate",
           5
          ],
          [
           "Twisted Fate",
           6
          ],
          [
           "Twisted Fate",
           7
          ],
          [
           "Twisted Fate",
           8
          ],
          [
           "Twisted Fate",
           9
          ],
          [
           "Twisted Fate",
           10
          ],
          [
           "Twisted Fate",
           11
          ],
          [
           "Twisted Fate",
           12
          ],
          [
           "Twisted Fate",
           13
          ],
          [
           "Twisted Fate",
           14
          ],
          [
           "Twisted Fate",
           15
          ],
          [
           "Twisted Fate",
           16
          ],
          [
           "Twisted Fate",
           17
          ],
          [
           "Twisted Fate",
           18
          ],
          [
           "Twisted Fate",
           18
          ]
         ],
         "hovertemplate": "champion=%{customdata[0]}<br>x=%{x}<br>y=%{y}<br>z=%{z}<br>patch=%{customdata[1]}<extra></extra>",
         "legendgroup": "Twisted Fate",
         "marker": {
          "color": "#636efa",
          "size": 5,
          "symbol": "circle"
         },
         "mode": "markers",
         "name": "Twisted Fate",
         "scene": "scene",
         "showlegend": true,
         "type": "scatter3d",
         "visible": "legendonly",
         "x": {
          "bdata": "xJeFvntXp8GKwCVAL80FQIrt6cHlkAfCL4I3woQA17/aS7LA55e9P+7OQUFAcClBxqaDQVaW/cAhYgpBVXLMwUS4lsFoD4pAgofAwYh63cE=",
          "dtype": "f4"
         },
         "y": {
          "bdata": "p/oBQj6TccH934ZBNBD6wSrSC8L5A5fBnY1SQO7vkUGYkR/Bmvv6wSTtGsJPrs3BI7r/QBOUSMEQ8/lB7JvoQJODgMG4D2hBcldQwdssPEE=",
          "dtype": "f4"
         },
         "z": {
          "bdata": "UwCxwemCmcF1NsvBZfkiQVp28MBXc4dBOg4jQUexdUAbzB/CqlRRQdvjiEHxwnVBlqOCwYHk2MFj8DpBallrQHn9AMIhgWXAxmqQwG7QG0E=",
          "dtype": "f4"
         }
        },
        {
         "customdata": [
          [
           "Janna",
           0
          ],
          [
           "Janna",
           1
          ],
          [
           "Janna",
           2
          ],
          [
           "Janna",
           3
          ],
          [
           "Janna",
           4
          ],
          [
           "Janna",
           5
          ],
          [
           "Janna",
           6
          ],
          [
           "Janna",
           7
          ],
          [
           "Janna",
           8
          ],
          [
           "Janna",
           9
          ],
          [
           "Janna",
           10
          ],
          [
           "Janna",
           11
          ],
          [
           "Janna",
           12
          ],
          [
           "Janna",
           13
          ],
          [
           "Janna",
           14
          ],
          [
           "Janna",
           15
          ],
          [
           "Janna",
           16
          ],
          [
           "Janna",
           17
          ],
          [
           "Janna",
           18
          ],
          [
           "Janna",
           18
          ]
         ],
         "hovertemplate": "champion=%{customdata[0]}<br>x=%{x}<br>y=%{y}<br>z=%{z}<br>patch=%{customdata[1]}<extra></extra>",
         "legendgroup": "Janna",
         "marker": {
          "color": "#EF553B",
          "size": 5,
          "symbol": "circle"
         },
         "mode": "markers",
         "name": "Janna",
         "scene": "scene",
         "showlegend": true,
         "type": "scatter3d",
         "visible": "legendonly",
         "x": {
          "bdata": "lHQJwfCN38E1t/K/AyvmQWWAj0GwgrXAM5aRwU/YlkGDKKxB87SKQZgvG8HGxd3AEWyCvUpRQMEE2SVBDyiVQRPIDkIDhL5BXIy2QGjhi0E=",
          "dtype": "f4"
         },
         "y": {
          "bdata": "2zQOwvyX574QDQXAFNoLwcjGrMHUAu0/MYcYwVj95sEyp7TBYPnGwSJy78HHt/7BcZKuwf5FPcE8cKdBb2uowUt4vUDA25dBIi2RwSk5w8E=",
          "dtype": "f4"
         },
         "z": {
          "bdata": "Iv2jQOYF3UArAxzB6V+NwA3E3MHLdBTC6FUewuUziECFf+8/F8niQO4DjsE+DERAJMMEwNSkkMFZof7BBUO9Pu4OVEFGzJlA/eC4wJFfo0A=",
          "dtype": "f4"
         }
        },
        {
         "customdata": [
          [
           "Gangplank",
           0
          ],
          [
           "Gangplank",
           1
          ],
          [
           "Gangplank",
           2
          ],
          [
           "Gangplank",
           3
          ],
          [
           "Gangplank",
           4
          ],
          [
           "Gangplank",
           5
          ],
          [
           "Gangplank",
           6
          ],
          [
           "Gangplank",
           7
          ],
          [
           "Gangplank",
           8
          ],
          [
           "Gangplank",
           9
          ],
          [
           "Gangplank",
           10
          ],
          [
           "Gangplank",
           11
          ],
          [
           "Gangplank",
           12
          ],
          [
           "Gangplank",
           13
          ],
          [
           "Gangplank",
           14
          ],
          [
           "Gangplank",
           15
          ],
          [
           "Gangplank",
           16
          ],
          [
           "Gangplank",
           17
          ],
          [
           "Gangplank",
           18
          ],
          [
           "Gangplank",
           18
          ]
         ],
         "hovertemplate": "champion=%{customdata[0]}<br>x=%{x}<br>y=%{y}<br>z=%{z}<br>patch=%{customdata[1]}<extra></extra>",
         "legendgroup": "Gangplank",
         "marker": {
          "color": "#00cc96",
          "size": 5,
          "symbol": "circle"
         },
         "mode": "markers",
         "name": "Gangplank",
         "scene": "scene",
         "showlegend": true,
         "type": "scatter3d",
         "visible": "legendonly",
         "x": {
          "bdata": "bsb3QP6KVEFybezAkgg6QarVOkEUTxhCXIGtQTF+ikHPz4DBIrp0wHFxRUFP2yrBWrxwQXVnakERvcJBUXg3QikES0FHuB1CkFroQUVO/0A=",
          "dtype": "f4"
         },
         "y": {
          "bdata": "/kVFQKHtKECoXd5A16GQQVXN6UGjwohBcVocv+5Lh0HI5VvBiX7EQOxuqEDWzRPAZDSSQMo58MCpdr9B1VllQDYxqsFPn8RAuEmCwBevE0A=",
          "dtype": "f4"
         },
         "z": {
          "bdata": "rRFgQdm3tz+XVMlBXGJAwbft9cGNp6BAHFtTwWc7scDIyRxC4yk9Qe0/tsHTxoVBI79ZQC4gtEFzrS/BhlqKQP5m3UD3AXc/zYBGQa0PRUA=",
          "dtype": "f4"
         }
        },
        {
         "customdata": [
          [
           "Thresh",
           0
          ],
          [
           "Thresh",
           1
          ],
          [
           "Thresh",
           2
          ],
          [
           "Thresh",
           3
          ],
          [
           "Thresh",
           4
          ],
          [
           "Thresh",
           5
          ],
          [
           "Thresh",
           6
          ],
          [
           "Thresh",
           7
          ],
          [
           "Thresh",
           8
          ],
          [
           "Thresh",
           9
          ],
          [
           "Thresh",
           10
          ],
          [
           "Thresh",
           11
          ],
          [
           "Thresh",
           12
          ],
          [
           "Thresh",
           13
          ],
          [
           "Thresh",
           14
          ],
          [
           "Thresh",
           15
          ],
          [
           "Thresh",
           16
          ],
          [
           "Thresh",
           17
          ],
          [
           "Thresh",
           18
          ],
          [
           "Thresh",
           18
          ]
         ],
         "hovertemplate": "champion=%{customdata[0]}<br>x=%{x}<br>y=%{y}<br>z=%{z}<br>patch=%{customdata[1]}<extra></extra>",
         "legendgroup": "Thresh",
         "marker": {
          "color": "#ab63fa",
          "size": 5,
          "symbol": "circle"
         },
         "mode": "markers",
         "name": "Thresh",
         "scene": "scene",
         "showlegend": true,
         "type": "scatter3d",
         "visible": "legendonly",
         "x": {
          "bdata": "JDqYP2cRzkCBoJRBvatKQZBc0EEzP89AkjSGQdcAt0H6zMBBhZLDQb7RxEH9zbNBfcHwPxOUwb7fPatBnsjFQK1vm0BBZQHAvChtwQjEmkE=",
          "dtype": "f4"
         },
         "y": {
          "bdata": "EdfgvoFYEMJxbJxBXB9rwbyUrcHjQd3BWTDrwaaPdMFD2xlBsw6mwYTTicHmzKTBnjuKwcLNCMDtBKTBRvpTwUoVR8HoBOXAQLnbwGO9S8E=",
          "dtype": "f4"
         },
         "z": {
          "bdata": "kYEhwi2zyEDlrwlBOCiSQRNBCMFsOYfBllCqwJj+nsDjH3lBMYkwP5zF+sCjBI9BIh+mPw3i0EEljUnA0Eo8wsweN8Ly1BPCb4UNwiyKyMA=",
          "dtype": "f4"
         }
        },
        {
         "customdata": [
          [
           "Corki",
           0
          ],
          [
           "Corki",
           1
          ],
          [
           "Corki",
           2
          ],
          [
           "Corki",
           3
          ],
          [
           "Corki",
           4
          ],
          [
           "Corki",
           5
          ],
          [
           "Corki",
           6
          ],
          [
           "Corki",
           7
          ],
          [
           "Corki",
           8
          ],
          [
           "Corki",
           9
          ],
          [
           "Corki",
           10
          ],
          [
           "Corki",
           11
          ],
          [
           "Corki",
           12
          ],
          [
           "Corki",
           13
          ],
          [
           "Corki",
           14
          ],
          [
           "Corki",
           15
          ],
          [
           "Corki",
           16
          ],
          [
           "Corki",
           17
          ],
          [
           "Corki",
           18
          ],
          [
           "Corki",
           18
          ]
         ],
         "hovertemplate": "champion=%{customdata[0]}<br>x=%{x}<br>y=%{y}<br>z=%{z}<br>patch=%{customdata[1]}<extra></extra>",
         "legendgroup": "Corki",
         "marker": {
          "color": "#FFA15A",
          "size": 5,
          "symbol": "circle"
         },
         "mode": "markers",
         "name": "Corki",
         "scene": "scene",
         "showlegend": true,
         "type": "scatter3d",
         "visible": "legendonly",
         "x": {
          "bdata": "FHDCwTxkpcFoHfZBrp5cQXEmDkK1ZB1CNa8mQsTNLUI/TXpBjrfFwW/GVsHLmOfB6mDYwevincGvZT/A3MxawflkNMGxctLBf5bVwaHCusE=",
          "dtype": "f4"
         },
         "y": {
          "bdata": "z8HkP56ggkA/cnhAicrMQK96nEE7Hrg+3yNXQP0ODcAB0I1Bi7ZXQbhQocHtMxTBo78VwUqel0FA7JzBpLOMQYNfkEHb4hjAJXpowCch1z8=",
          "dtype": "f4"
         },
         "z": {
          "bdata": "JARtQYm7ikHT0LLBHxf0wT6igsHK6kjBXYlIwaOaM8Gkfq3BJyTtQQKxt8G0fMJBn4W2QSphkEFIiq5AJhKyQW/6tUH2Xd1BxTIYQK6cp0A=",
          "dtype": "f4"
         }
        },
        {
         "customdata": [
          [
           "Illaoi",
           0
          ],
          [
           "Illaoi",
           1
          ],
          [
           "Illaoi",
           2
          ],
          [
           "Illaoi",
           3
          ],
          [
           "Illaoi",
           4
          ],
          [
           "Illaoi",
           5
          ],
          [
           "Illaoi",
           6
          ],
          [
           "Illaoi",
           7
          ],
          [
           "Illaoi",
           8
          ],
          [
           "Illaoi",
           9
          ],
          [
           "Illaoi",
           10
          ],
          [
           "Illaoi",
           11
          ],
          [
           "Illaoi",
           12
          ],
          [
           "Illaoi",
           13
          ],
          [
           "Illaoi",
           14
          ],
          [
           "Illaoi",
           15
          ],
          [
           "Illaoi",
           16
          ],
          [
           "Illaoi",
           17
          ],
          [
           "Illaoi",
           18
          ],
          [
           "Illaoi",
           18
          ]
         ],
         "hovertemplate": "champion=%{customdata[0]}<br>x=%{x}<br>y=%{y}<br>z=%{z}<br>patch=%{customdata[1]}<extra></extra>",
         "legendgroup": "Illaoi",
         "marker": {
          "color": "#19d3f3",
          "size": 5,
          "symbol": "circle"
         },
         "mode": "markers",
         "name": "Illaoi",
         "scene": "scene",
         "showlegend": true,
         "type": "scatter3d",
         "visible": "legendonly",
         "x": {
          "bdata": "QVzuQVlBgEDJfLLB4u7uQNDsh8GrGkzAVfqIwShJur8ojtbAZUizwQy5r0EQL+lBYUrIQfdMjkHuQGDAFITqQRh7nkGMUSpCLVd6QNqImT4=",
          "dtype": "f4"
         },
         "y": {
          "bdata": "ReEKQIOJ0sHPOwJAYB9SQdCx6sBrJ2/BndsewUF8+EBhY8PBkpY0wU6uPkGsiu+9lpH0QfW7zUCGcgHBDCw5QJET60DkWXm/1qWGwaDNcsA=",
          "dtype": "f4"
         },
         "z": {
          "bdata": "R3nGQWH9ukF/sKfBIoK8wK23r0FDAk1B4AbGwX7F5sGcyBDBy0ewwfXI5MD0crBBelA1wbdco78/oeRBE/xXQMw8i0C5OOW/VodMQaQj278=",
          "dtype": "f4"
         }
        },
        {
         "customdata": [
          [
           "Rek'Sai",
           0
          ],
          [
           "Rek'Sai",
           1
          ],
          [
           "Rek'Sai",
           2
          ],
          [
           "Rek'Sai",
           3
          ],
          [
           "Rek'Sai",
           4
          ],
          [
           "Rek'Sai",
           5
          ],
          [
           "Rek'Sai",
           6
          ],
          [
           "Rek'Sai",
           7
          ],
          [
           "Rek'Sai",
           8
          ],
          [
           "Rek'Sai",
           9
          ],
          [
           "Rek'Sai",
           10
          ],
          [
           "Rek'Sai",
           11
          ],
          [
           "Rek'Sai",
           12
          ],
          [
           "Rek'Sai",
           13
          ],
          [
           "Rek'Sai",
           14
          ],
          [
           "Rek'Sai",
           15
          ],
          [
           "Rek'Sai",
           16
          ],
          [
           "Rek'Sai",
           17
          ],
          [
           "Rek'Sai",
           18
          ],
          [
           "Rek'Sai",
           18
          ]
         ],
         "hovertemplate": "champion=%{customdata[0]}<br>x=%{x}<br>y=%{y}<br>z=%{z}<br>patch=%{customdata[1]}<extra></extra>",
         "legendgroup": "Rek'Sai",
         "marker": {
          "color": "#FF6692",
          "size": 5,
          "symbol": "circle"
         },
         "mode": "markers",
         "name": "Rek'Sai",
         "scene": "scene",
         "showlegend": true,
         "type": "scatter3d",
         "visible": "legendonly",
         "x": {
          "bdata": "pRd5QLdBrkHxiphBJ6nfQVBGusG0WDhADW+vQUmDyMETjovBETkqPtz3+cHu1tzBxDGEwSnB+MFtSQbCIOHIQb8hGEEuJMzB8l27wSwg80A=",
          "dtype": "f4"
         },
         "y": {
          "bdata": "sC0WQnAKEEJOqxhCwnZDwT/kxUHie1NB+SOjQbl4q0E7DApCBkslQmuBm0GcF8HBnaufQbu/SEDHmrbBzmprwfnGFUKCBL3Bbf6wwfA8bMA=",
          "dtype": "f4"
         },
         "z": {
          "bdata": "6PMewerffMFVgJvBevvPQbagm0Hj2wxCkxSJQb5vrEFifHvBeHPJwNhvkUFbBHnBASC9wPBGA8Lg1F3BOkFjwBGwasF/TXnBdlGNwYoQbEE=",
          "dtype": "f4"
         }
        },
        {
         "customdata": [
          [
           "Ivern",
           0
          ],
          [
           "Ivern",
           1
          ],
          [
           "Ivern",
           2
          ],
          [
           "Ivern",
           3
          ],
          [
           "Ivern",
           4
          ],
          [
           "Ivern",
           5
          ],
          [
           "Ivern",
           6
          ],
          [
           "Ivern",
           7
          ],
          [
           "Ivern",
           8
          ],
          [
           "Ivern",
           9
          ],
          [
           "Ivern",
           10
          ],
          [
           "Ivern",
           11
          ],
          [
           "Ivern",
           12
          ],
          [
           "Ivern",
           13
          ],
          [
           "Ivern",
           14
          ],
          [
           "Ivern",
           15
          ],
          [
           "Ivern",
           16
          ],
          [
           "Ivern",
           17
          ],
          [
           "Ivern",
           18
          ],
          [
           "Ivern",
           18
          ]
         ],
         "hovertemplate": "champion=%{customdata[0]}<br>x=%{x}<br>y=%{y}<br>z=%{z}<br>patch=%{customdata[1]}<extra></extra>",
         "legendgroup": "Ivern",
         "marker": {
          "color": "#B6E880",
          "size": 5,
          "symbol": "circle"
         },
         "mode": "markers",
         "name": "Ivern",
         "scene": "scene",
         "showlegend": true,
         "type": "scatter3d",
         "visible": "legendonly",
         "x": {
          "bdata": "4gICwVXlHMLi/NFBEV8RwSoo3MEcoHXA2EqVwVocFEKWxZLB/kyuQR/NosELZF691uIEPwuz9ME7Olq+2ZMKQggPHcDiSpI/bK46QcRabEE=",
          "dtype": "f4"
         },
         "y": {
          "bdata": "ItdowWcsZ0EHO6RBnKXLQQ+tz8F5kxfBTeOYwUCbesEQONbBSozkwYBW08Gm5S1CUilCQUuWT8CxahbBbptKQfk4dcHLHg7BP5hDwY3ulsA=",
          "dtype": "f4"
         },
         "z": {
          "bdata": "r2CVQSZsGUHc55RBA8XQwSW3isH4vDxBtYJJQbpFdT9Nk4LBQYjCQcjwQEH9EJRByAIGQh0RakFVYxRBpGKzQZKwCELV6+9Bt9wNQbolqUA=",
          "dtype": "f4"
         }
        },
        {
         "customdata": [
          [
           "Kalista",
           0
          ],
          [
           "Kalista",
           1
          ],
          [
           "Kalista",
           2
          ],
          [
           "Kalista",
           3
          ],
          [
           "Kalista",
           4
          ],
          [
           "Kalista",
           5
          ],
          [
           "Kalista",
           6
          ],
          [
           "Kalista",
           7
          ],
          [
           "Kalista",
           8
          ],
          [
           "Kalista",
           9
          ],
          [
           "Kalista",
           10
          ],
          [
           "Kalista",
           11
          ],
          [
           "Kalista",
           12
          ],
          [
           "Kalista",
           13
          ],
          [
           "Kalista",
           14
          ],
          [
           "Kalista",
           15
          ],
          [
           "Kalista",
           16
          ],
          [
           "Kalista",
           17
          ],
          [
           "Kalista",
           18
          ],
          [
           "Kalista",
           18
          ]
         ],
         "hovertemplate": "champion=%{customdata[0]}<br>x=%{x}<br>y=%{y}<br>z=%{z}<br>patch=%{customdata[1]}<extra></extra>",
         "legendgroup": "Kalista",
         "marker": {
          "color": "#FF97FF",
          "size": 5,
          "symbol": "circle"
         },
         "mode": "markers",
         "name": "Kalista",
         "scene": "scene",
         "showlegend": true,
         "type": "scatter3d",
         "visible": "legendonly",
         "x": {
          "bdata": "sgMNQrmnJMFSigrBxql6PzMvNEKq+dPAHa+pwRWEvECGJsjAbNwXQaHb30DZOlg8aypCvr+tk8H5GLnBr9n7wT8h7MGYVfNBqU0AQcgrisA=",
          "dtype": "f4"
         },
         "y": {
          "bdata": "YweEwSrMPME2ZJRB+3WDQWGJ4sCC1MlB8VOGwDzEAkFxSKo/ezEyQWVMkkGd6wfC5ZzJQfzIyEF1Kf/A3t3bQKO3iEAYu4XAwNVSwL0Qm78=",
          "dtype": "f4"
         },
         "z": {
          "bdata": "XEG9wfk6TkEkw6zBt0UawfTvREH69RlB4lUlQrkxZ0H8M6dBfZJ0wWCzjEBkdCzBmlxBwD+QSUGndDHBZquVQZ6NXkGYSgHC468HQh8ce0A=",
          "dtype": "f4"
         }
        },
        {
         "customdata": [
          [
           "Karma",
           0
          ],
          [
           "Karma",
           1
          ],
          [
           "Karma",
           2
          ],
          [
           "Karma",
           3
          ],
          [
           "Karma",
           4
          ],
          [
           "Karma",
           5
          ],
          [
           "Karma",
           6
          ],
          [
           "Karma",
           7
          ],
          [
           "Karma",
           8
          ],
          [
           "Karma",
           9
          ],
          [
           "Karma",
           10
          ],
          [
           "Karma",
           11
          ],
          [
           "Karma",
           12
          ],
          [
           "Karma",
           13
          ],
          [
           "Karma",
           14
          ],
          [
           "Karma",
           15
          ],
          [
           "Karma",
           16
          ],
          [
           "Karma",
           17
          ],
          [
           "Karma",
           18
          ],
          [
           "Karma",
           18
          ]
         ],
         "hovertemplate": "champion=%{customdata[0]}<br>x=%{x}<br>y=%{y}<br>z=%{z}<br>patch=%{customdata[1]}<extra></extra>",
         "legendgroup": "Karma",
         "marker": {
          "color": "#FECB52",
          "size": 5,
          "symbol": "circle"
         },
         "mode": "markers",
         "name": "Karma",
         "scene": "scene",
         "showlegend": true,
         "type": "scatter3d",
         "visible": "legendonly",
         "x": {
          "bdata": "uyA9wXbqVcEI/FnBwPuWwY/ylD/HlaLBidHZwOCd/UDybBpBJ/kbQc7ku0F+uXRBjTyVwXivscHzajnC+ZS6wadsfsF2BMbAsR7ZQU86J8A=",
          "dtype": "f4"
         },
         "y": {
          "bdata": "702ZwXqAA8GRF2JBTJWeQF5UxkHqjcjAtpIPwc3Pj8F5eJ3BJyfRwU33mUEpLLNBWasvQZdmXMAFKMRAl49Mv/LUTUGJo5ZBOgvvwF45xkE=",
          "dtype": "f4"
         },
         "z": {
          "bdata": "STVsQf0ZOcGZ4IdBd79VwU0mtsGw2cPB0j61vxvTqsAdJdTAQ71zwdAsrsFcaJM86dA5wTECn0FIrW/A85eqQQ32V8HISZzBxr+8QTZXIkE=",
          "dtype": "f4"
         }
        },
        {
         "customdata": [
          [
           "Bard",
           0
          ],
          [
           "Bard",
           1
          ],
          [
           "Bard",
           2
          ],
          [
           "Bard",
           3
          ],
          [
           "Bard",
           4
          ],
          [
           "Bard",
           5
          ],
          [
           "Bard",
           6
          ],
          [
           "Bard",
           7
          ],
          [
           "Bard",
           8
          ],
          [
           "Bard",
           9
          ],
          [
           "Bard",
           10
          ],
          [
           "Bard",
           11
          ],
          [
           "Bard",
           12
          ],
          [
           "Bard",
           13
          ],
          [
           "Bard",
           14
          ],
          [
           "Bard",
           15
          ],
          [
           "Bard",
           16
          ],
          [
           "Bard",
           17
          ],
          [
           "Bard",
           18
          ],
          [
           "Bard",
           18
          ]
         ],
         "hovertemplate": "champion=%{customdata[0]}<br>x=%{x}<br>y=%{y}<br>z=%{z}<br>patch=%{customdata[1]}<extra></extra>",
         "legendgroup": "Bard",
         "marker": {
          "color": "#636efa",
          "size": 5,
          "symbol": "circle"
         },
         "mode": "markers",
         "name": "Bard",
         "scene": "scene",
         "showlegend": true,
         "type": "scatter3d",
         "visible": "legendonly",
         "x": {
          "bdata": "laS9QCx3QUEQk9BAj+QJP5GPRMHPy9lBWUB0QRLPu0DsW8vAoUgnQOR01EHKIU9BG2+zwFNAzz+xAN1ASe8nQZ1r2sCo6zhAE2h8QCBDZsA=",
          "dtype": "f4"
         },
         "y": {
          "bdata": "1FG/weGDxEDTq7m/qJPJwT6fBEJQtL/BtJCuwWEskUFuXwbCrQ5KQVSo0sHKu9TBbLDYQTOyCUGnBpdB4zKKQUdT9r/yvSRAXXxaQE//c78=",
          "dtype": "f4"
         },
         "z": {
          "bdata": "xMH2P1MF/0HOiLxBym79QTmuuEG6EXZBKNKEQctn58Gnh4a9MJxQQQ2ugkHFLUtAa+e+wL3wJ8F+bQDCtHwFwkLqCcIMDADCdknzwb/bRj8=",
          "dtype": "f4"
         }
        },
        {
         "customdata": [
          [
           "Taric",
           0
          ],
          [
           "Taric",
           1
          ],
          [
           "Taric",
           2
          ],
          [
           "Taric",
           3
          ],
          [
           "Taric",
           4
          ],
          [
           "Taric",
           5
          ],
          [
           "Taric",
           6
          ],
          [
           "Taric",
           7
          ],
          [
           "Taric",
           8
          ],
          [
           "Taric",
           9
          ],
          [
           "Taric",
           10
          ],
          [
           "Taric",
           11
          ],
          [
           "Taric",
           12
          ],
          [
           "Taric",
           13
          ],
          [
           "Taric",
           14
          ],
          [
           "Taric",
           15
          ],
          [
           "Taric",
           16
          ],
          [
           "Taric",
           17
          ],
          [
           "Taric",
           18
          ],
          [
           "Taric",
           18
          ]
         ],
         "hovertemplate": "champion=%{customdata[0]}<br>x=%{x}<br>y=%{y}<br>z=%{z}<br>patch=%{customdata[1]}<extra></extra>",
         "legendgroup": "Taric",
         "marker": {
          "color": "#EF553B",
          "size": 5,
          "symbol": "circle"
         },
         "mode": "markers",
         "name": "Taric",
         "scene": "scene",
         "showlegend": true,
         "type": "scatter3d",
         "visible": "legendonly",
         "x": {
          "bdata": "MLogQSdZEcIi4dbBfUdfwJptMMEOux/BzWA/QO+HPMH/mV2/nx05Qb20HsLW7hjCXdgNwVh8vEHvJdVAMonywKY6DEKMsNpAI7WcP3iXy0A=",
          "dtype": "f4"
         },
         "y": {
          "bdata": "e56nwYs4f0FuEP7BDGu+wY7pscEHrdrBinOdQfDtA8I1TwjCQQovQYwGisC3174+vBcbwo6wRMEGztnB9Vclwl8me8GKxKlBBPcVQmUtK0E=",
          "dtype": "f4"
         },
         "z": {
          "bdata": "VwqtQTMam74DCypBW0LHwTr6xUHafQZB6ufQwJF26EEX5qjAjdUOQglemUG1q7lB1aTqPq8a2z/uJ8jBDkCiQDU/AkHEiQtCvn6DQRtYqr8=",
          "dtype": "f4"
         }
        },
        {
         "customdata": [
          [
           "Veigar",
           0
          ],
          [
           "Veigar",
           1
          ],
          [
           "Veigar",
           2
          ],
          [
           "Veigar",
           3
          ],
          [
           "Veigar",
           4
          ],
          [
           "Veigar",
           5
          ],
          [
           "Veigar",
           6
          ],
          [
           "Veigar",
           7
          ],
          [
           "Veigar",
           8
          ],
          [
           "Veigar",
           9
          ],
          [
           "Veigar",
           10
          ],
          [
           "Veigar",
           11
          ],
          [
           "Veigar",
           12
          ],
          [
           "Veigar",
           13
          ],
          [
           "Veigar",
           14
          ],
          [
           "Veigar",
           15
          ],
          [
           "Veigar",
           16
          ],
          [
           "Veigar",
           17
          ],
          [
           "Veigar",
           18
          ],
          [
           "Veigar",
           18
          ]
         ],
         "hovertemplate": "champion=%{customdata[0]}<br>x=%{x}<br>y=%{y}<br>z=%{z}<br>patch=%{customdata[1]}<extra></extra>",
         "legendgroup": "Veigar",
         "marker": {
          "color": "#00cc96",
          "size": 5,
          "symbol": "circle"
         },
         "mode": "markers",
         "name": "Veigar",
         "scene": "scene",
         "showlegend": true,
         "type": "scatter3d",
         "visible": "legendonly",
         "x": {
          "bdata": "jByOvz11ikH7NVhBrBMOQhcqH0Lh/ZLA3L60QdKop8EfZwBBkl1jwTBayUFpqMJA9bYav2I0psFhwLzBdFbAwRD5K0DlcPHB/4gAwaHy4j8=",
          "dtype": "f4"
         },
         "y": {
          "bdata": "DOSAPSjn+kC4AW9BNlNJQRmfOkFIWrxBo24dwEqAOUIzXI/BsWaRQcCk3kHwH7NB3B9cwaMVZ7+1lCrBly2xQVH8X8B+/QdBqYQLQQEYHUE=",
          "dtype": "f4"
         },
         "z": {
          "bdata": "o3kYQpUf/MHIfb9B2KxQwR2FgcHcpoNAYNHLQdtLiz8v3hBCkpBmwJ2ZSUFUI/ZB/wr6v/vQHkLgVutBNlaaQazyIcJ5jYvBqa86wpyx7j8=",
          "dtype": "f4"
         }
        },
        {
         "customdata": [
          [
           "Trundle",
           0
          ],
          [
           "Trundle",
           1
          ],
          [
           "Trundle",
           2
          ],
          [
           "Trundle",
           3
          ],
          [
           "Trundle",
           4
          ],
          [
           "Trundle",
           5
          ],
          [
           "Trundle",
           6
          ],
          [
           "Trundle",
           7
          ],
          [
           "Trundle",
           8
          ],
          [
           "Trundle",
           9
          ],
          [
           "Trundle",
           10
          ],
          [
           "Trundle",
           11
          ],
          [
           "Trundle",
           12
          ],
          [
           "Trundle",
           13
          ],
          [
           "Trundle",
           14
          ],
          [
           "Trundle",
           15
          ],
          [
           "Trundle",
           16
          ],
          [
           "Trundle",
           17
          ],
          [
           "Trundle",
           18
          ],
          [
           "Trundle",
           18
          ]
         ],
         "hovertemplate": "champion=%{customdata[0]}<br>x=%{x}<br>y=%{y}<br>z=%{z}<br>patch=%{customdata[1]}<extra></extra>",
         "legendgroup": "Trundle",
         "marker": {
          "color": "#ab63fa",
          "size": 5,
          "symbol": "circle"
         },
         "mode": "markers",
         "name": "Trundle",
         "scene": "scene",
         "showlegend": true,
         "type": "scatter3d",
         "visible": "legendonly",
         "x": {
          "bdata": "BZ1QwcTSgTvrBTFAOVQawvJUDMINzmhB86+Awdbr1T41ihfCgaOTwLEtIL6DiHnBdRCTwVraHkBgQLHBaf0EQSznt8Cf3LdBNvwqwClFRsA=",
          "dtype": "f4"
         },
         "y": {
          "bdata": "imukQOG5+MHh8E9ArlBuwd3B0kC2yBnCmQDgwF+dR0FM6HtBxCkLQi4kNkJIg+9BpdCQwYl39kF+/AxBNkQ2wl/HGMBx8VdBfvdKQtQsXMA=",
          "dtype": "f4"
         },
         "z": {
          "bdata": "5WQKwUumAcIfOiZCEIzfQF20w8EQb7fAXR4bwar2LMLT3a/BxIIQQJmbc8G+f4c+T0YKwrJjvb+4PLzB+uJJQT/MnkEFAHZBv92xP+0tH0E=",
          "dtype": "f4"
         }
        },
        {
         "customdata": [
          [
           "Rakan",
           0
          ],
          [
           "Rakan",
           1
          ],
          [
           "Rakan",
           2
          ],
          [
           "Rakan",
           3
          ],
          [
           "Rakan",
           4
          ],
          [
           "Rakan",
           5
          ],
          [
           "Rakan",
           6
          ],
          [
           "Rakan",
           7
          ],
          [
           "Rakan",
           8
          ],
          [
           "Rakan",
           9
          ],
          [
           "Rakan",
           10
          ],
          [
           "Rakan",
           11
          ],
          [
           "Rakan",
           12
          ],
          [
           "Rakan",
           13
          ],
          [
           "Rakan",
           14
          ],
          [
           "Rakan",
           15
          ],
          [
           "Rakan",
           16
          ],
          [
           "Rakan",
           17
          ],
          [
           "Rakan",
           18
          ],
          [
           "Rakan",
           18
          ]
         ],
         "hovertemplate": "champion=%{customdata[0]}<br>x=%{x}<br>y=%{y}<br>z=%{z}<br>patch=%{customdata[1]}<extra></extra>",
         "legendgroup": "Rakan",
         "marker": {
          "color": "#FFA15A",
          "size": 5,
          "symbol": "circle"
         },
         "mode": "markers",
         "name": "Rakan",
         "scene": "scene",
         "showlegend": true,
         "type": "scatter3d",
         "visible": "legendonly",
         "x": {
          "bdata": "lXyTQVLDOEEyOxJAdlwZwGNYaEH+qLI9baAqQRiZjkG/AwTB5nFCwNTn0EFJuAtC7c3dQDPRK0Dfef9BA0PqQFB8skHGFYnBFUq7wBMMgUA=",
          "dtype": "f4"
         },
         "y": {
          "bdata": "d6AoPia0lsFhU4zBp8OAQanXnsCoMbzBe5cKQbTJ+kHNbNXBmbqywSVMn8HOXX9BHY3mwbeHqUFTpsJBzz0IvzmZ8cF/IdNABTN6wYz3L8A=",
          "dtype": "f4"
         },
         "z": {
          "bdata": "o9BuwKf+XsFiNypCxBSEQTqvhcE7WR/CQ+W6Qa4odED/NBw/KByoQS77GMFWzarAxI4Iwkjr2UGQ3WQ+3QoJwZCL0EElFMnA3Fo6wpOfBME=",
          "dtype": "f4"
         }
        },
        {
         "customdata": [
          [
           "Xayah",
           0
          ],
          [
           "Xayah",
           1
          ],
          [
           "Xayah",
           2
          ],
          [
           "Xayah",
           3
          ],
          [
           "Xayah",
           4
          ],
          [
           "Xayah",
           5
          ],
          [
           "Xayah",
           6
          ],
          [
           "Xayah",
           7
          ],
          [
           "Xayah",
           8
          ],
          [
           "Xayah",
           9
          ],
          [
           "Xayah",
           10
          ],
          [
           "Xayah",
           11
          ],
          [
           "Xayah",
           12
          ],
          [
           "Xayah",
           13
          ],
          [
           "Xayah",
           14
          ],
          [
           "Xayah",
           15
          ],
          [
           "Xayah",
           16
          ],
          [
           "Xayah",
           17
          ],
          [
           "Xayah",
           18
          ],
          [
           "Xayah",
           18
          ]
         ],
         "hovertemplate": "champion=%{customdata[0]}<br>x=%{x}<br>y=%{y}<br>z=%{z}<br>patch=%{customdata[1]}<extra></extra>",
         "legendgroup": "Xayah",
         "marker": {
          "color": "#19d3f3",
          "size": 5,
          "symbol": "circle"
         },
         "mode": "markers",
         "name": "Xayah",
         "scene": "scene",
         "showlegend": true,
         "type": "scatter3d",
         "visible": "legendonly",
         "x": {
          "bdata": "+tu/QJ+rxkC6WOpBaYpdPg4AFMHtZ7o/otEUP53w0EFAI1jBQbXRwRuy9T/klNrAiJbhvvu5Y8GD5/7BpLTRwa6u1cGUVwTCGWB7Qc2RbkA=",
          "dtype": "f4"
         },
         "y": {
          "bdata": "CKe1QdmWm0EG1ynA5ySdwEtcVkHxzrVBarynQYeSc8HDapdBwSQOQXBP70EgQ+xBPRvXQRG4kEE7ND1B5UpFvZvTKkCxa0bAI2RTQTxz1kE=",
          "dtype": "f4"
         },
         "z": {
          "bdata": "pbTpwEKvRsGcygTCSR+lwdq8hsHl51bA4sMdwC956sEnZGbBGnSvQRuDST/hg6VA4JVSQDvBiMF2MfBBFAQLQt/0AkJ4cb4/An2qwI6RiEA=",
          "dtype": "f4"
         }
        },
        {
         "customdata": [
          [
           "Xin Zhao",
           0
          ],
          [
           "Xin Zhao",
           1
          ],
          [
           "Xin Zhao",
           2
          ],
          [
           "Xin Zhao",
           3
          ],
          [
           "Xin Zhao",
           4
          ],
          [
           "Xin Zhao",
           5
          ],
          [
           "Xin Zhao",
           6
          ],
          [
           "Xin Zhao",
           7
          ],
          [
           "Xin Zhao",
           8
          ],
          [
           "Xin Zhao",
           9
          ],
          [
           "Xin Zhao",
           10
          ],
          [
           "Xin Zhao",
           11
          ],
          [
           "Xin Zhao",
           12
          ],
          [
           "Xin Zhao",
           13
          ],
          [
           "Xin Zhao",
           14
          ],
          [
           "Xin Zhao",
           15
          ],
          [
           "Xin Zhao",
           16
          ],
          [
           "Xin Zhao",
           17
          ],
          [
           "Xin Zhao",
           18
          ],
          [
           "Xin Zhao",
           18
          ]
         ],
         "hovertemplate": "champion=%{customdata[0]}<br>x=%{x}<br>y=%{y}<br>z=%{z}<br>patch=%{customdata[1]}<extra></extra>",
         "legendgroup": "Xin Zhao",
         "marker": {
          "color": "#FF6692",
          "size": 5,
          "symbol": "circle"
         },
         "mode": "markers",
         "name": "Xin Zhao",
         "scene": "scene",
         "showlegend": true,
         "type": "scatter3d",
         "visible": "legendonly",
         "x": {
          "bdata": "Oge5QRWeecEc/O3BbcGqQQa/KEGj3yzAQwPzwfj85kHoZaNBps7hwcOOIz/PsTnBYP0nwmjihMHx/FNBMCMAQmfSFEF7xvFB9hG/wd5jDkE=",
          "dtype": "f4"
         },
         "y": {
          "bdata": "IxG3Qa+u3j8YJzRA03knQqJPFUIHS5BBSznqQARzT8Fs5+RB3xyAQcIH10HTd/DAYaksQfRICUI+pBNCuoh3QYTf6kGQOjDBx0O6QO6Vv0E=",
          "dtype": "f4"
         },
         "z": {
          "bdata": "7lkcPj0wE0LdQLI+d0lhwYuCPsHCSNfAW8nJwVibskCBY45BWGy/wKr9D8L7CkA/6PaewVSnrkCwiiHBZ5CewIvgjkFt4r9ARGcawtCjEEE=",
          "dtype": "f4"
         }
        },
        {
         "customdata": [
          [
           "Swain",
           0
          ],
          [
           "Swain",
           1
          ],
          [
           "Swain",
           2
          ],
          [
           "Swain",
           3
          ],
          [
           "Swain",
           4
          ],
          [
           "Swain",
           5
          ],
          [
           "Swain",
           6
          ],
          [
           "Swain",
           7
          ],
          [
           "Swain",
           8
          ],
          [
           "Swain",
           9
          ],
          [
           "Swain",
           10
          ],
          [
           "Swain",
           11
          ],
          [
           "Swain",
           12
          ],
          [
           "Swain",
           13
          ],
          [
           "Swain",
           14
          ],
          [
           "Swain",
           15
          ],
          [
           "Swain",
           16
          ],
          [
           "Swain",
           17
          ],
          [
           "Swain",
           18
          ],
          [
           "Swain",
           18
          ]
         ],
         "hovertemplate": "champion=%{customdata[0]}<br>x=%{x}<br>y=%{y}<br>z=%{z}<br>patch=%{customdata[1]}<extra></extra>",
         "legendgroup": "Swain",
         "marker": {
          "color": "#B6E880",
          "size": 5,
          "symbol": "circle"
         },
         "mode": "markers",
         "name": "Swain",
         "scene": "scene",
         "showlegend": true,
         "type": "scatter3d",
         "visible": "legendonly",
         "x": {
          "bdata": "mhncQXEDG8DipwnCV9Pjwcb1JMLfApDBFgwIwkpHCMK3saLBdfw1QgNUFD8e/DpAGeGxQf/W/EHU2ZZBse6/wfkhiEGS/k7BYQ+wv8mqKME=",
          "dtype": "f4"
         },
         "y": {
          "bdata": "/JEwQd1ep0GWuH1BM01xPvKhVUEiUazBk0InQdhsuUB2BrlBoBf3wE/ujcCAboDBhqb/QC36HkHRFTZBDPCQwNZKH8EoDINAGaELwKz2vcA=",
          "dtype": "f4"
         },
         "z": {
          "bdata": "STe1wf+2BMI1bmDBlBG+QaJUPUFQzAdCofEfwI0Qd8HzhMzB/2l4vmRLPUJL1UXAndHewVJN7UFPPPe++xgYwpmChUEkOxlCEWxBQgeOxEA=",
          "dtype": "f4"
         }
        },
        {
         "customdata": [
          [
           "Caitlyn",
           0
          ],
          [
           "Caitlyn",
           1
          ],
          [
           "Caitlyn",
           2
          ],
          [
           "Caitlyn",
           3
          ],
          [
           "Caitlyn",
           4
          ],
          [
           "Caitlyn",
           5
          ],
          [
           "Caitlyn",
           6
          ],
          [
           "Caitlyn",
           7
          ],
          [
           "Caitlyn",
           8
          ],
          [
           "Caitlyn",
           9
          ],
          [
           "Caitlyn",
           10
          ],
          [
           "Caitlyn",
           11
          ],
          [
           "Caitlyn",
           12
          ],
          [
           "Caitlyn",
           13
          ],
          [
           "Caitlyn",
           14
          ],
          [
           "Caitlyn",
           15
          ],
          [
           "Caitlyn",
           16
          ],
          [
           "Caitlyn",
           17
          ],
          [
           "Caitlyn",
           18
          ],
          [
           "Caitlyn",
           18
          ]
         ],
         "hovertemplate": "champion=%{customdata[0]}<br>x=%{x}<br>y=%{y}<br>z=%{z}<br>patch=%{customdata[1]}<extra></extra>",
         "legendgroup": "Caitlyn",
         "marker": {
          "color": "#FF97FF",
          "size": 5,
          "symbol": "circle"
         },
         "mode": "markers",
         "name": "Caitlyn",
         "scene": "scene",
         "showlegend": true,
         "type": "scatter3d",
         "visible": "legendonly",
         "x": {
          "bdata": "3wHFQQSgKcBnWrRBtQvPQdGs/76iv9BB2ZEhwRcFEEJGerXB+16PwRLhk8GJCZ5B7qmZwLoXskAOmnfAYezNwOKcHcEzaB5BxJECv9UkisA=",
          "dtype": "f4"
         },
         "y": {
          "bdata": "0/R3wRiHIsKOb4zBiJWPwR23LMEPLWXBgg4HwKYJrcAj73JATPGdQIlehUDU7yfBuNeTQQa880Dlfe9AWIIiQfZ0A0Gdn6tAkDSiwU2AB0E=",
          "dtype": "f4"
         },
         "z": {
          "bdata": "HXWOwUwcxEEn0YvB+COBwXqwvkBRIE3BUC7EQYKZ3MFIGCNCTd4SQl0QH0IYM3C/+sWnQHBb40Bdko5BqHGeQfjtUkEtvOBBg+GlQBA7KUE=",
          "dtype": "f4"
         }
        },
        {
         "customdata": [
          [
           "Ornn",
           0
          ],
          [
           "Ornn",
           1
          ],
          [
           "Ornn",
           2
          ],
          [
           "Ornn",
           3
          ],
          [
           "Ornn",
           4
          ],
          [
           "Ornn",
           5
          ],
          [
           "Ornn",
           6
          ],
          [
           "Ornn",
           7
          ],
          [
           "Ornn",
           8
          ],
          [
           "Ornn",
           9
          ],
          [
           "Ornn",
           10
          ],
          [
           "Ornn",
           11
          ],
          [
           "Ornn",
           12
          ],
          [
           "Ornn",
           13
          ],
          [
           "Ornn",
           14
          ],
          [
           "Ornn",
           15
          ],
          [
           "Ornn",
           16
          ],
          [
           "Ornn",
           17
          ],
          [
           "Ornn",
           18
          ],
          [
           "Ornn",
           18
          ]
         ],
         "hovertemplate": "champion=%{customdata[0]}<br>x=%{x}<br>y=%{y}<br>z=%{z}<br>patch=%{customdata[1]}<extra></extra>",
         "legendgroup": "Ornn",
         "marker": {
          "color": "#FECB52",
          "size": 5,
          "symbol": "circle"
         },
         "mode": "markers",
         "name": "Ornn",
         "scene": "scene",
         "showlegend": true,
         "type": "scatter3d",
         "visible": "legendonly",
         "x": {
          "bdata": "n4KsQdH6BULeToHBacSEwbR77cHo5rrBRwzTwX+RdcGMjjBBe5OIwGxXj8H9NyvCJg+QwR6mjcGBck/AaFZWwdPMGUCepBbCIYaWwQgEhsE=",
          "dtype": "f4"
         },
         "y": {
          "bdata": "+GgJwZrVosHiLnzBK7FBPzB3pMFEPIfBDOHBwcIsxsAn+RvAWVzqQNHgNsD2V8rAInFiwd9Xc8H7EjHBsy+cwQpCGD9+thvBZrxXwQnDk8E=",
          "dtype": "f4"
         },
         "z": {
          "bdata": "rrT7QUxoVsHkb40+4uaDwU1vlsHv0DVAlcwEP2jaxsEiDu7BkzK/wT+OxME9KjE/9FzKQPTElUAEnsLANS8MQLK8NEEevlZB+4aVP9SuuD8=",
          "dtype": "f4"
         }
        },
        {
         "customdata": [
          [
           "Sylas",
           0
          ],
          [
           "Sylas",
           1
          ],
          [
           "Sylas",
           2
          ],
          [
           "Sylas",
           3
          ],
          [
           "Sylas",
           4
          ],
          [
           "Sylas",
           5
          ],
          [
           "Sylas",
           6
          ],
          [
           "Sylas",
           7
          ],
          [
           "Sylas",
           8
          ],
          [
           "Sylas",
           9
          ],
          [
           "Sylas",
           10
          ],
          [
           "Sylas",
           11
          ],
          [
           "Sylas",
           12
          ],
          [
           "Sylas",
           13
          ],
          [
           "Sylas",
           14
          ],
          [
           "Sylas",
           15
          ],
          [
           "Sylas",
           16
          ],
          [
           "Sylas",
           17
          ],
          [
           "Sylas",
           18
          ],
          [
           "Sylas",
           18
          ]
         ],
         "hovertemplate": "champion=%{customdata[0]}<br>x=%{x}<br>y=%{y}<br>z=%{z}<br>patch=%{customdata[1]}<extra></extra>",
         "legendgroup": "Sylas",
         "marker": {
          "color": "#636efa",
          "size": 5,
          "symbol": "circle"
         },
         "mode": "markers",
         "name": "Sylas",
         "scene": "scene",
         "showlegend": true,
         "type": "scatter3d",
         "visible": "legendonly",
         "x": {
          "bdata": "hxbewJ88CMHa+yrCGt6gQcADLcK0jpvBttuNwXo1isHaZg/Clwd8wRurlEBpXdXA3A0XwdVX40EKTBhCL1sSQoJROkJd+u9BM38oQsMClUA=",
          "dtype": "f4"
         },
         "y": {
          "bdata": "LA0AwgL9CcLdordAznHxwesNJ0AhlyDCZV4lwgnnBMIrc8rBA56SwQv5BUHNGSXChl0yPwb4AsIGLyHBAxEtwfVUHsD0FPdACwejQA+eBkE=",
          "dtype": "f4"
         },
         "z": {
          "bdata": "9LnLQR8Ur0GyUFPBlkMMwUKpHMEJMSlBZ0UXQeL/l0B+q/6/8kfkwcX1OMAdOcDASwQnwmvvMEADEnZBV2ZQQTjfAsHcrprAqe2bv59N5j8=",
          "dtype": "f4"
         }
        },
        {
         "customdata": [
          [
           "Neeko",
           0
          ],
          [
           "Neeko",
           1
          ],
          [
           "Neeko",
           2
          ],
          [
           "Neeko",
           3
          ],
          [
           "Neeko",
           4
          ],
          [
           "Neeko",
           5
          ],
          [
           "Neeko",
           6
          ],
          [
           "Neeko",
           7
          ],
          [
           "Neeko",
           8
          ],
          [
           "Neeko",
           9
          ],
          [
           "Neeko",
           10
          ],
          [
           "Neeko",
           11
          ],
          [
           "Neeko",
           12
          ],
          [
           "Neeko",
           13
          ],
          [
           "Neeko",
           14
          ],
          [
           "Neeko",
           15
          ],
          [
           "Neeko",
           16
          ],
          [
           "Neeko",
           17
          ],
          [
           "Neeko",
           18
          ],
          [
           "Neeko",
           18
          ]
         ],
         "hovertemplate": "champion=%{customdata[0]}<br>x=%{x}<br>y=%{y}<br>z=%{z}<br>patch=%{customdata[1]}<extra></extra>",
         "legendgroup": "Neeko",
         "marker": {
          "color": "#EF553B",
          "size": 5,
          "symbol": "circle"
         },
         "mode": "markers",
         "name": "Neeko",
         "scene": "scene",
         "showlegend": true,
         "type": "scatter3d",
         "visible": "legendonly",
         "x": {
          "bdata": "LcA6wbtf1UG3CDRCPTtqwRPbi792QrrBUhMAQu1zAsKCSSZByTSKQPlLYMGj8yLC6dRawXy3lkAOkdNBKZwPwDJnuMHAyErBYrkNwiVTqME=",
          "dtype": "f4"
         },
         "y": {
          "bdata": "fKbiP6wzFMIvbUPBV5zHwFIWQsLhlMzBznHqwZQWVkHAz5bBqj6VQQR8DELcIEVB1RW4QTrH4cGJKLvBcw78wc+sA8LFNJNBNKw5QUc77MA=",
          "dtype": "f4"
         },
         "z": {
          "bdata": "LwQswh6VxcB1fObAu7InQoIpUkFCL6BBsuiJwY0QJEFfh/zB+OajwQll4UHKoJC/gPrcQBJRjcFla9lBSOmkQWEZm0GnZxJCSsK9QNkRT8A=",
          "dtype": "f4"
         }
        },
        {
         "customdata": [
          [
           "Aphelios",
           0
          ],
          [
           "Aphelios",
           1
          ],
          [
           "Aphelios",
           2
          ],
          [
           "Aphelios",
           3
          ],
          [
           "Aphelios",
           4
          ],
          [
           "Aphelios",
           5
          ],
          [
           "Aphelios",
           6
          ],
          [
           "Aphelios",
           7
          ],
          [
           "Aphelios",
           8
          ],
          [
           "Aphelios",
           9
          ],
          [
           "Aphelios",
           10
          ],
          [
           "Aphelios",
           11
          ],
          [
           "Aphelios",
           12
          ],
          [
           "Aphelios",
           13
          ],
          [
           "Aphelios",
           14
          ],
          [
           "Aphelios",
           15
          ],
          [
           "Aphelios",
           16
          ],
          [
           "Aphelios",
           17
          ],
          [
           "Aphelios",
           18
          ],
          [
           "Aphelios",
           18
          ]
         ],
         "hovertemplate": "champion=%{customdata[0]}<br>x=%{x}<br>y=%{y}<br>z=%{z}<br>patch=%{customdata[1]}<extra></extra>",
         "legendgroup": "Aphelios",
         "marker": {
          "color": "#00cc96",
          "size": 5,
          "symbol": "circle"
         },
         "mode": "markers",
         "name": "Aphelios",
         "scene": "scene",
         "showlegend": true,
         "type": "scatter3d",
         "visible": "legendonly",
         "x": {
          "bdata": "jX/yQeuN/kGNFUTAHzsPQc1Zd0G9hPZBsc0GQlWv/kE4YdLBtvqfwEPb/z990RdBJ2fgv7HYocEyC83BpTtYP9DqIMHn4wHAnR+kwZ1pP0E=",
          "dtype": "f4"
         },
         "y": {
          "bdata": "r+8DwRYLIcH81BlCKChYQah9O0Gw/q3Ae2X9v4KXGcG+HxNBSAjKQa5nOkBRJC1BujXqP2l5bMG0WbpBe4ugQH56MUHBPS9C5kM0QI5bV0E=",
          "dtype": "f4"
         },
         "z": {
          "bdata": "ENvXwUn55MEQj6HByPCqQbqq0MEQg+3B28n6wTTiysGI+YBB4VWZwSQ4isGztVLBzQMzwR6WTsH8vN7AdsB8wTFOQ0EJwYBBy90gQnu9o0A=",
          "dtype": "f4"
         }
        },
        {
         "customdata": [
          [
           "Rell",
           0
          ],
          [
           "Rell",
           1
          ],
          [
           "Rell",
           2
          ],
          [
           "Rell",
           3
          ],
          [
           "Rell",
           4
          ],
          [
           "Rell",
           5
          ],
          [
           "Rell",
           6
          ],
          [
           "Rell",
           7
          ],
          [
           "Rell",
           8
          ],
          [
           "Rell",
           9
          ],
          [
           "Rell",
           10
          ],
          [
           "Rell",
           11
          ],
          [
           "Rell",
           12
          ],
          [
           "Rell",
           13
          ],
          [
           "Rell",
           14
          ],
          [
           "Rell",
           15
          ],
          [
           "Rell",
           16
          ],
          [
           "Rell",
           17
          ],
          [
           "Rell",
           18
          ],
          [
           "Rell",
           18
          ]
         ],
         "hovertemplate": "champion=%{customdata[0]}<br>x=%{x}<br>y=%{y}<br>z=%{z}<br>patch=%{customdata[1]}<extra></extra>",
         "legendgroup": "Rell",
         "marker": {
          "color": "#ab63fa",
          "size": 5,
          "symbol": "circle"
         },
         "mode": "markers",
         "name": "Rell",
         "scene": "scene",
         "showlegend": true,
         "type": "scatter3d",
         "visible": "legendonly",
         "x": {
          "bdata": "54MFwcTsksEQKkNAjUVpQQbZjcCcx7dAB3EyvyevO8G5qylA1O6vwCVOtT+BSl9BxZoFwViducFF+hbBj9O7wRtFgsHgA+fAIpSYwM8wAsE=",
          "dtype": "f4"
         },
         "y": {
          "bdata": "xe29wRc2BMIuju7B2ncnwtublME8Y3NByyxrQTrVk8HgezDBKuUnwUwvrEAgh4FBi/+ZwAAQ/0BqaRZCEHUdwcsZi8CRbY6/1w/Bwee9ZEE=",
          "dtype": "f4"
         },
         "z": {
          "bdata": "154UQDXvmsB82L7BxAzjQN1I0MFZSEjBzvhYQYByPsFB7r7ABa9hQS3jMMELjhNCzxQJwlXT97/VtSTB3jJLQb7xqcHMWwNCfTAbQK8VwD8=",
          "dtype": "f4"
         }
        },
        {
         "customdata": [
          [
           "Blitzcrank",
           0
          ],
          [
           "Blitzcrank",
           1
          ],
          [
           "Blitzcrank",
           2
          ],
          [
           "Blitzcrank",
           3
          ],
          [
           "Blitzcrank",
           4
          ],
          [
           "Blitzcrank",
           5
          ],
          [
           "Blitzcrank",
           6
          ],
          [
           "Blitzcrank",
           7
          ],
          [
           "Blitzcrank",
           8
          ],
          [
           "Blitzcrank",
           9
          ],
          [
           "Blitzcrank",
           10
          ],
          [
           "Blitzcrank",
           11
          ],
          [
           "Blitzcrank",
           12
          ],
          [
           "Blitzcrank",
           13
          ],
          [
           "Blitzcrank",
           14
          ],
          [
           "Blitzcrank",
           15
          ],
          [
           "Blitzcrank",
           16
          ],
          [
           "Blitzcrank",
           17
          ],
          [
           "Blitzcrank",
           18
          ],
          [
           "Blitzcrank",
           18
          ]
         ],
         "hovertemplate": "champion=%{customdata[0]}<br>x=%{x}<br>y=%{y}<br>z=%{z}<br>patch=%{customdata[1]}<extra></extra>",
         "legendgroup": "Blitzcrank",
         "marker": {
          "color": "#FFA15A",
          "size": 5,
          "symbol": "circle"
         },
         "mode": "markers",
         "name": "Blitzcrank",
         "scene": "scene",
         "showlegend": true,
         "type": "scatter3d",
         "visible": "legendonly",
         "x": {
          "bdata": "fR1xQZXZKUC6S5NBobQpQow5N0GjVUlAKrS5QVtpbkFivrBBhxRcQfWxEkAxCj5B/VZxQVnxMMEIse/A/OWeQRZe5z+btepBOciWQQh3VcE=",
          "dtype": "f4"
         },
         "y": {
          "bdata": "FTqnQTllv8FAVqXBTg9mQI45okDIh0nBs6y6wSOlvkEYOXVBnv6wQThFmcB5XIo/oGOEwT7R5MGVAevB6zKvwSBdGUFgttXB+dWPwR0D+0A=",
          "dtype": "f4"
         },
         "z": {
          "bdata": "XUzjQd+PwsFnDoDAlSMqQUpH+UCbz1HBtmVkwHLkwkGfKzTBBN3MQSEsGcJrxSZBk2v0wNHn5sFQb8zB3v6WQetMr8GLiZpAoXf5wOELAUE=",
          "dtype": "f4"
         }
        },
        {
         "customdata": [
          [
           "Malphite",
           0
          ],
          [
           "Malphite",
           1
          ],
          [
           "Malphite",
           2
          ],
          [
           "Malphite",
           3
          ],
          [
           "Malphite",
           4
          ],
          [
           "Malphite",
           5
          ],
          [
           "Malphite",
           6
          ],
          [
           "Malphite",
           7
          ],
          [
           "Malphite",
           8
          ],
          [
           "Malphite",
           9
          ],
          [
           "Malphite",
           10
          ],
          [
           "Malphite",
           11
          ],
          [
           "Malphite",
           12
          ],
          [
           "Malphite",
           13
          ],
          [
           "Malphite",
           14
          ],
          [
           "Malphite",
           15
          ],
          [
           "Malphite",
           16
          ],
          [
           "Malphite",
           17
          ],
          [
           "Malphite",
           18
          ],
          [
           "Malphite",
           18
          ]
         ],
         "hovertemplate": "champion=%{customdata[0]}<br>x=%{x}<br>y=%{y}<br>z=%{z}<br>patch=%{customdata[1]}<extra></extra>",
         "legendgroup": "Malphite",
         "marker": {
          "color": "#19d3f3",
          "size": 5,
          "symbol": "circle"
         },
         "mode": "markers",
         "name": "Malphite",
         "scene": "scene",
         "showlegend": true,
         "type": "scatter3d",
         "visible": "legendonly",
         "x": {
          "bdata": "+maWwfmcFcG9DbBBugAqQt6aFkIBHQxC0i67QQcR3UGdWfZAAmflwfH25sGHnn7BoFCvQdibScEbpPjBVzprwcRoJcLTSe3BXA2UwFo7Z8A=",
          "dtype": "f4"
         },
         "y": {
          "bdata": "u0dmQIjWpMFvgM1Bl062wLN1uEEo28VBpvlxQc3kXEHGDn3BhNylQLHe4D1LXmNB2WiuQAZHhkFA1FhAtjKJQS0DcL+chZfANB7QQHOIzEA=",
          "dtype": "f4"
         },
         "z": {
          "bdata": "exDOQT8mBkK+p6LArpJ1wfiYZcGWPnjBLEVowS9KOMHLM55BKafAQZ7YrUG/tgZBznepwCqRPEGfFwtCNQE0QbsW+r+VSILBi6XkQViqAMA=",
          "dtype": "f4"
         }
        },
        {
         "customdata": [
          [
           "Katarina",
           0
          ],
          [
           "Katarina",
           1
          ],
          [
           "Katarina",
           2
          ],
          [
           "Katarina",
           3
          ],
          [
           "Katarina",
           4
          ],
          [
           "Katarina",
           5
          ],
          [
           "Katarina",
           6
          ],
          [
           "Katarina",
           7
          ],
          [
           "Katarina",
           8
          ],
          [
           "Katarina",
           9
          ],
          [
           "Katarina",
           10
          ],
          [
           "Katarina",
           11
          ],
          [
           "Katarina",
           12
          ],
          [
           "Katarina",
           13
          ],
          [
           "Katarina",
           14
          ],
          [
           "Katarina",
           15
          ],
          [
           "Katarina",
           16
          ],
          [
           "Katarina",
           17
          ],
          [
           "Katarina",
           18
          ],
          [
           "Katarina",
           18
          ]
         ],
         "hovertemplate": "champion=%{customdata[0]}<br>x=%{x}<br>y=%{y}<br>z=%{z}<br>patch=%{customdata[1]}<extra></extra>",
         "legendgroup": "Katarina",
         "marker": {
          "color": "#FF6692",
          "size": 5,
          "symbol": "circle"
         },
         "mode": "markers",
         "name": "Katarina",
         "scene": "scene",
         "showlegend": true,
         "type": "scatter3d",
         "visible": "legendonly",
         "x": {
          "bdata": "FlvnwMdL/MARTeHBj4fqwUyuksHXWTdBH30BwgyGqcHdIsjB9grMQPTSjsFMXnTADAf4wPBnEr+aaCHAf9COQUccp0FrxEy+OkjWwb33/cE=",
          "dtype": "f4"
         },
         "y": {
          "bdata": "LBgawtCRE8JAtgLCxDu5wTXEqcCdBXxBgC7/QK4qLEC4vIdA3dUCQjZkLcIWMvzBUv4jwhNE30EnB/JBDSUsweR4V8DT7wHCV+zUwAM4+kA=",
          "dtype": "f4"
         },
         "z": {
          "bdata": "pWc2wRrpQ8Gc3TVAtq0KQfGMhT7tj9q9znNlQE8QbEGRdm9BoZ/EwDZkmECV4ytByZLzwN7CrEEOyolBW74MQZRrL0LL44BBOUm0QLjlpz8=",
          "dtype": "f4"
         }
        },
        {
         "customdata": [
          [
           "Pyke",
           0
          ],
          [
           "Pyke",
           1
          ],
          [
           "Pyke",
           2
          ],
          [
           "Pyke",
           3
          ],
          [
           "Pyke",
           4
          ],
          [
           "Pyke",
           5
          ],
          [
           "Pyke",
           6
          ],
          [
           "Pyke",
           7
          ],
          [
           "Pyke",
           8
          ],
          [
           "Pyke",
           9
          ],
          [
           "Pyke",
           10
          ],
          [
           "Pyke",
           11
          ],
          [
           "Pyke",
           12
          ],
          [
           "Pyke",
           13
          ],
          [
           "Pyke",
           14
          ],
          [
           "Pyke",
           15
          ],
          [
           "Pyke",
           16
          ],
          [
           "Pyke",
           17
          ],
          [
           "Pyke",
           18
          ],
          [
           "Pyke",
           18
          ]
         ],
         "hovertemplate": "champion=%{customdata[0]}<br>x=%{x}<br>y=%{y}<br>z=%{z}<br>patch=%{customdata[1]}<extra></extra>",
         "legendgroup": "Pyke",
         "marker": {
          "color": "#B6E880",
          "size": 5,
          "symbol": "circle"
         },
         "mode": "markers",
         "name": "Pyke",
         "scene": "scene",
         "showlegend": true,
         "type": "scatter3d",
         "visible": "legendonly",
         "x": {
          "bdata": "lQJ8wVIkkcGmpJXBCW4iwTz8WcFdHG7BGdgdwZ1LO8EIRxtBVTOUQUjJxD9jsDfB/18XwQyAmEHVbe1ArZvOP749x0GaVi9BhlGbQUWmD8E=",
          "dtype": "f4"
         },
         "y": {
          "bdata": "r7EpwPWner8ckse+H9AHwZJj0b91X7HA1HgCwaZUMsFkuqjBPySOwU/3XcE6y6nA8SJMPXcO4EF0ekNA23OBwTaWl0FCG2DAw4jDwWCz0sA=",
          "dtype": "f4"
         },
         "z": {
          "bdata": "KuwSwsh2IsLymAzCnkcbwuoaH8I6jB/CD9MEwtFPGsLGHw1AIlDmQUKAxsHeLrDBdvfEwbV4zkH6cdJAiDHIwK4vjcHj77rBq13ywFZWQ8E=",
          "dtype": "f4"
         }
        },
        {
         "customdata": [
          [
           "Nocturne",
           0
          ],
          [
           "Nocturne",
           1
          ],
          [
           "Nocturne",
           2
          ],
          [
           "Nocturne",
           3
          ],
          [
           "Nocturne",
           4
          ],
          [
           "Nocturne",
           5
          ],
          [
           "Nocturne",
           6
          ],
          [
           "Nocturne",
           7
          ],
          [
           "Nocturne",
           8
          ],
          [
           "Nocturne",
           9
          ],
          [
           "Nocturne",
           10
          ],
          [
           "Nocturne",
           11
          ],
          [
           "Nocturne",
           12
          ],
          [
           "Nocturne",
           13
          ],
          [
           "Nocturne",
           14
          ],
          [
           "Nocturne",
           15
          ],
          [
           "Nocturne",
           16
          ],
          [
           "Nocturne",
           17
          ],
          [
           "Nocturne",
           18
          ],
          [
           "Nocturne",
           18
          ]
         ],
         "hovertemplate": "champion=%{customdata[0]}<br>x=%{x}<br>y=%{y}<br>z=%{z}<br>patch=%{customdata[1]}<extra></extra>",
         "legendgroup": "Nocturne",
         "marker": {
          "color": "#FF97FF",
          "size": 5,
          "symbol": "circle"
         },
         "mode": "markers",
         "name": "Nocturne",
         "scene": "scene",
         "showlegend": true,
         "type": "scatter3d",
         "visible": "legendonly",
         "x": {
          "bdata": "EeYHwa7uvb8l/73BenMPwMH+zsHlsQXCvQYAQZK//kEZPohBsIGaQJ6OKkHkpZjB50e3QC2wAEF01SZBncdqwABlNsK3lD/CR96dwOoutME=",
          "dtype": "f4"
         },
         "y": {
          "bdata": "TIoTQl8lP0EmYrtBS0JzQMWqmL2RarlB432qQQ243cFJ9ljBMa/hQXXgiUEOSJ9BZKzAQYdCFUL4OsBB5YdPQXtyUT/MWCLAqzReQVNW0r4=",
          "dtype": "f4"
         },
         "z": {
          "bdata": "dSkBwfCk7MHYRIFBmG8mQmHl2sC+gIFB+M20wO4necEMbypBpYHYQA7koj8DE2JBQHR9Qa3RFsEOXq9AZaPvwV950UCSOb5A4Ei7wTjjm0A=",
          "dtype": "f4"
         }
        },
        {
         "customdata": [
          [
           "Maokai",
           0
          ],
          [
           "Maokai",
           1
          ],
          [
           "Maokai",
           2
          ],
          [
           "Maokai",
           3
          ],
          [
           "Maokai",
           4
          ],
          [
           "Maokai",
           5
          ],
          [
           "Maokai",
           6
          ],
          [
           "Maokai",
           7
          ],
          [
           "Maokai",
           8
          ],
          [
           "Maokai",
           9
          ],
          [
           "Maokai",
           10
          ],
          [
           "Maokai",
           11
          ],
          [
           "Maokai",
           12
          ],
          [
           "Maokai",
           13
          ],
          [
           "Maokai",
           14
          ],
          [
           "Maokai",
           15
          ],
          [
           "Maokai",
           16
          ],
          [
           "Maokai",
           17
          ],
          [
           "Maokai",
           18
          ],
          [
           "Maokai",
           18
          ]
         ],
         "hovertemplate": "champion=%{customdata[0]}<br>x=%{x}<br>y=%{y}<br>z=%{z}<br>patch=%{customdata[1]}<extra></extra>",
         "legendgroup": "Maokai",
         "marker": {
          "color": "#FECB52",
          "size": 5,
          "symbol": "circle"
         },
         "mode": "markers",
         "name": "Maokai",
         "scene": "scene",
         "showlegend": true,
         "type": "scatter3d",
         "visible": "legendonly",
         "x": {
          "bdata": "1pKWwdkJdsEJei/CKgo6wDVI8kEBQkRAZ226QW6zBULV2ZS/8W+NQTrGCMI+H6zBSpf6wa89BMKdi4M+ByMtQc+y/UAxOZ5Bd7iNQIfUn0A=",
          "dtype": "f4"
         },
         "y": {
          "bdata": "fxAQQuMGCELgFWXAIv0IQuvw9cEzRdk/yS0+QZRXzr+PeojBAj2OwOgNQ0G9743BMku5vh6zzsEIOjpBHW2nweTyJEI/xW1BS8keQl+T0cE=",
          "dtype": "f4"
         },
         "z": {
          "bdata": "sIw7wd1wFsGpQApBN4GKQGNxUEG49BJCVh0OQi/DhUF2tAJCxahSvwt96MHwf+bBYF9LwRess8EulAbC1k89QXKhcz/G9d5AnRWPP8b1Gj8=",
          "dtype": "f4"
         }
        },
        {
         "customdata": [
          [
           "Renekton",
           0
          ],
          [
           "Renekton",
           1
          ],
          [
           "Renekton",
           2
          ],
          [
           "Renekton",
           3
          ],
          [
           "Renekton",
           4
          ],
          [
           "Renekton",
           5
          ],
          [
           "Renekton",
           6
          ],
          [
           "Renekton",
           7
          ],
          [
           "Renekton",
           8
          ],
          [
           "Renekton",
           9
          ],
          [
           "Renekton",
           10
          ],
          [
           "Renekton",
           11
          ],
          [
           "Renekton",
           12
          ],
          [
           "Renekton",
           13
          ],
          [
           "Renekton",
           14
          ],
          [
           "Renekton",
           15
          ],
          [
           "Renekton",
           16
          ],
          [
           "Renekton",
           17
          ],
          [
           "Renekton",
           18
          ],
          [
           "Renekton",
           18
          ]
         ],
         "hovertemplate": "champion=%{customdata[0]}<br>x=%{x}<br>y=%{y}<br>z=%{z}<br>patch=%{customdata[1]}<extra></extra>",
         "legendgroup": "Renekton",
         "marker": {
          "color": "#636efa",
          "size": 5,
          "symbol": "circle"
         },
         "mode": "markers",
         "name": "Renekton",
         "scene": "scene",
         "showlegend": true,
         "type": "scatter3d",
         "visible": "legendonly",
         "x": {
          "bdata": "bdXXwNe/NULArBg9JmBgwOMWXUHT1BXAtjzEwVM4MkI9XFRBXH7JwU8S5MCDcmdA9fUUwZllGsEjHZ9BhGcowSlSqUFCtn5BFaV/weYRMcE=",
          "dtype": "f4"
         },
         "y": {
          "bdata": "tHVTQZWNT0FhW+RAWDEXwQ8UDEEOQ6pB9fp3wWydJ0EcgslBdSJlwR2GlEFSF+Y/jRoCvyqa+0HSFLpBkEIMP+d6xUHM26NBhoyDQRxMEEE=",
          "dtype": "f4"
         },
         "z": {
          "bdata": "Xo+UQQsraECS9D1B1JClQQIWJMFYcWPBbLDtQXWJNkC0+rHA3yrhQS59kMCIFoxBj3BSQQ6U20ENZBLBR80AQuSWLcGs2h/B4pbSQHhb7UA=",
          "dtype": "f4"
         }
        },
        {
         "customdata": [
          [
           "Jarvan IV",
           0
          ],
          [
           "Jarvan IV",
           1
          ],
          [
           "Jarvan IV",
           2
          ],
          [
           "Jarvan IV",
           3
          ],
          [
           "Jarvan IV",
           4
          ],
          [
           "Jarvan IV",
           5
          ],
          [
           "Jarvan IV",
           6
          ],
          [
           "Jarvan IV",
           7
          ],
          [
           "Jarvan IV",
           8
          ],
          [
           "Jarvan IV",
           9
          ],
          [
           "Jarvan IV",
           10
          ],
          [
           "Jarvan IV",
           11
          ],
          [
           "Jarvan IV",
           12
          ],
          [
           "Jarvan IV",
           13
          ],
          [
           "Jarvan IV",
           14
          ],
          [
           "Jarvan IV",
           15
          ],
          [
           "Jarvan IV",
           16
          ],
          [
           "Jarvan IV",
           17
          ],
          [
           "Jarvan IV",
           18
          ],
          [
           "Jarvan IV",
           18
          ]
         ],
         "hovertemplate": "champion=%{customdata[0]}<br>x=%{x}<br>y=%{y}<br>z=%{z}<br>patch=%{customdata[1]}<extra></extra>",
         "legendgroup": "Jarvan IV",
         "marker": {
          "color": "#EF553B",
          "size": 5,
          "symbol": "circle"
         },
         "mode": "markers",
         "name": "Jarvan IV",
         "scene": "scene",
         "showlegend": true,
         "type": "scatter3d",
         "visible": "legendonly",
         "x": {
          "bdata": "xeoiQcp9EMJxLR1ChJNRQVydmkFfyrHBlS4OwQw3VUBXavrBzX1rvJefrsE6CKpBbAAoQTmc/EBE389AGG//QJkr2sG0VBpBp/MewZOosEA=",
          "dtype": "f4"
         },
         "y": {
          "bdata": "5L8BQsyVz0GHyIXAbPr6QVYBBkEU8+FBb4n8QY26A0LcnPlB8bsDQtP1z0GHYQhBlaoUQp1FCUJUjwxCPtLpQQEu6UHCsQlCh0WoQTat9kE=",
          "dtype": "f4"
         },
         "z": {
          "bdata": "c949vwpK+T8W4YZAdLr4v3iZyL+IrSS/cRRlwKVZGUG1HYM/gy/MwHsBhD9S3jbAhLO6vx1HSEDPUvg/5eOsQGWc574Q2De/CmIGwuhjBUE=",
          "dtype": "f4"
         }
        },
        {
         "customdata": [
          [
           "Urgot",
           0
          ],
          [
           "Urgot",
           1
          ],
          [
           "Urgot",
           2
          ],
          [
           "Urgot",
           3
          ],
          [
           "Urgot",
           4
          ],
          [
           "Urgot",
           5
          ],
          [
           "Urgot",
           6
          ],
          [
           "Urgot",
           7
          ],
          [
           "Urgot",
           8
          ],
          [
           "Urgot",
           9
          ],
          [
           "Urgot",
           10
          ],
          [
           "Urgot",
           11
          ],
          [
           "Urgot",
           12
          ],
          [
           "Urgot",
           13
          ],
          [
           "Urgot",
           14
          ],
          [
           "Urgot",
           15
          ],
          [
           "Urgot",
           16
          ],
          [
           "Urgot",
           17
          ],
          [
           "Urgot",
           18
          ],
          [
           "Urgot",
           18
          ]
         ],
         "hovertemplate": "champion=%{customdata[0]}<br>x=%{x}<br>y=%{y}<br>z=%{z}<br>patch=%{customdata[1]}<extra></extra>",
         "legendgroup": "Urgot",
         "marker": {
          "color": "#00cc96",
          "size": 5,
          "symbol": "circle"
         },
         "mode": "markers",
         "name": "Urgot",
         "scene": "scene",
         "showlegend": true,
         "type": "scatter3d",
         "visible": "legendonly",
         "x": {
          "bdata": "bRASQrinFkIsYYDBdgJiwR9rtcH5mP3B+RT5wUmeK0LGz5dBVZMrwaImBUIhM4vBlFx7wcNwmkD5R69A5F0SwggK0ECWX5vB5IYBwsBPl8E=",
          "dtype": "f4"
         },
         "y": {
          "bdata": "vbQNwasDuMEIHLK/2I33wE019MFnWdk/GchCQO2d4kChlhPCks+BQXXhkcGxVzXBA92rP1PF5sE3Z9fB/gdOQTLaqMATzXxA+oFmwW4J078=",
          "dtype": "f4"
         },
         "z": {
          "bdata": "B/qQwDqVAECPj51Bua1iQf8vQcGlFQnACGEJwWugYkFT3C1B0DUMwYgj48CoG8xBEmGaQeqM/MDQcZnABnlGQLIWAsKm0NS/EdKLQYCPk0A=",
          "dtype": "f4"
         }
        },
        {
         "customdata": [
          [
           "Elise",
           0
          ],
          [
           "Elise",
           1
          ],
          [
           "Elise",
           2
          ],
          [
           "Elise",
           3
          ],
          [
           "Elise",
           4
          ],
          [
           "Elise",
           5
          ],
          [
           "Elise",
           6
          ],
          [
           "Elise",
           7
          ],
          [
           "Elise",
           8
          ],
          [
           "Elise",
           9
          ],
          [
           "Elise",
           10
          ],
          [
           "Elise",
           11
          ],
          [
           "Elise",
           12
          ],
          [
           "Elise",
           13
          ],
          [
           "Elise",
           14
          ],
          [
           "Elise",
           15
          ],
          [
           "Elise",
           16
          ],
          [
           "Elise",
           17
          ],
          [
           "Elise",
           18
          ],
          [
           "Elise",
           18
          ]
         ],
         "hovertemplate": "champion=%{customdata[0]}<br>x=%{x}<br>y=%{y}<br>z=%{z}<br>patch=%{customdata[1]}<extra></extra>",
         "legendgroup": "Elise",
         "marker": {
          "color": "#ab63fa",
          "size": 5,
          "symbol": "circle"
         },
         "mode": "markers",
         "name": "Elise",
         "scene": "scene",
         "showlegend": true,
         "type": "scatter3d",
         "visible": "legendonly",
         "x": {
          "bdata": "reiywY+4G8EfIatBC7wQQfcmpMHebwpBvEPtQWLuHsGaBerBEHBzwehZRMEZoXPBT4RTQcYsxEEqo4xBYtwvQeo+xcHFKBpBydp/wCRptkA=",
          "dtype": "f4"
         },
         "y": {
          "bdata": "imNkQfokLkKrWj1BDjoAwe10XUGuG9RBCLFbQZKvJUJ0cFBBddtAQTqeLULXtypBKDKgv7mO/cGY7xbCaT1vwWJGd0FAQ6pBMSGdQSXVv0E=",
          "dtype": "f4"
         },
         "z": {
          "bdata": "fYGiQZ1yJME48ghCxisoQmpoWb+tVclBONd5wO1NJsEYEZXBM48WwmvoRME7QyDCGJnewNpIHcEbVE/ANXM7P06krUHm/otB0KIqwkW60kA=",
          "dtype": "f4"
         }
        },
        {
         "customdata": [
          [
           "Orianna",
           0
          ],
          [
           "Orianna",
           1
          ],
          [
           "Orianna",
           2
          ],
          [
           "Orianna",
           3
          ],
          [
           "Orianna",
           4
          ],
          [
           "Orianna",
           5
          ],
          [
           "Orianna",
           6
          ],
          [
           "Orianna",
           7
          ],
          [
           "Orianna",
           8
          ],
          [
           "Orianna",
           9
          ],
          [
           "Orianna",
           10
          ],
          [
           "Orianna",
           11
          ],
          [
           "Orianna",
           12
          ],
          [
           "Orianna",
           13
          ],
          [
           "Orianna",
           14
          ],
          [
           "Orianna",
           15
          ],
          [
           "Orianna",
           16
          ],
          [
           "Orianna",
           17
          ],
          [
           "Orianna",
           18
          ],
          [
           "Orianna",
           18
          ]
         ],
         "hovertemplate": "champion=%{customdata[0]}<br>x=%{x}<br>y=%{y}<br>z=%{z}<br>patch=%{customdata[1]}<extra></extra>",
         "legendgroup": "Orianna",
         "marker": {
          "color": "#FFA15A",
          "size": 5,
          "symbol": "circle"
         },
         "mode": "markers",
         "name": "Orianna",
         "scene": "scene",
         "showlegend": true,
         "type": "scatter3d",
         "visible": "legendonly",
         "x": {
          "bdata": "cGoGQtxE90HXaqhBM1+CwZ996MGXpZbBAKgdwFDCecHgMWNBCR4BQZcKhMF7+1HBOQqDQdn+88AboizBrWQlwezchcDMwW5A0dhHwVsLHsA=",
          "dtype": "f4"
         },
         "y": {
          "bdata": "dYeZPhSSxT68zu/BU0+7waPTaEBeBZjBp3I8whiqi8EzUMHBSyO3QTVtiMHfz3vBtrtGvyd9D8IBBrDBSbd4wX+b8D+y+DbBakGIQdyaDME=",
          "dtype": "f4"
         },
         "z": {
          "bdata": "COI1wbSMGcH+7bxA3UYAwpTE80BSw4fBEDUTQSVN0cG31aDAFNyOQVG+e8FTz8PB+g2xQWyV0MCyVC9Bgoj5v5HngD7KzopBgd8OQFvNhcA=",
          "dtype": "f4"
         }
        },
        {
         "customdata": [
          [
           "Wukong",
           0
          ],
          [
           "Wukong",
           1
          ],
          [
           "Wukong",
           2
          ],
          [
           "Wukong",
           3
          ],
          [
           "Wukong",
           4
          ],
          [
           "Wukong",
           5
          ],
          [
           "Wukong",
           6
          ],
          [
           "Wukong",
           7
          ],
          [
           "Wukong",
           8
          ],
          [
           "Wukong",
           9
          ],
          [
           "Wukong",
           10
          ],
          [
           "Wukong",
           11
          ],
          [
           "Wukong",
           12
          ],
          [
           "Wukong",
           13
          ],
          [
           "Wukong",
           14
          ],
          [
           "Wukong",
           15
          ],
          [
           "Wukong",
           16
          ],
          [
           "Wukong",
           17
          ],
          [
           "Wukong",
           18
          ],
          [
           "Wukong",
           18
          ]
         ],
         "hovertemplate": "champion=%{customdata[0]}<br>x=%{x}<br>y=%{y}<br>z=%{z}<br>patch=%{customdata[1]}<extra></extra>",
         "legendgroup": "Wukong",
         "marker": {
          "color": "#19d3f3",
          "size": 5,
          "symbol": "circle"
         },
         "mode": "markers",
         "name": "Wukong",
         "scene": "scene",
         "showlegend": true,
         "type": "scatter3d",
         "visible": "legendonly",
         "x": {
          "bdata": "RVEMQvTF/kHNTgNCkSrUQQarPcAtnBjB4aW/QXRk7UE0nx7BHaGLwQDyZ8FS+AXCR6ONwbwohcFHhzS/NfheQSbzY0ATSgPAJ/FYQd7Y88A=",
          "dtype": "f4"
         },
         "y": {
          "bdata": "cS78wBopx8FkwWfB5kjhwW2Sa8BMBXO/b/TmwRI688GTHQbCJfqvQLY4H0LGbz5B2VQZQrG/CkLxMhdCbh/LQORIVEHFoQxCc+e8QQCtAUE=",
          "dtype": "f4"
         },
         "z": {
          "bdata": "CE0wwFtInsAd06ZBVCCmvmzrokHUziRCRHGqv5F5NcDUsS1BaV0lQr15R8GfDqG/mq46weHdaz8HF/tAsNu0wUM2kEGEwyFBUfq0wd75PkE=",
          "dtype": "f4"
         }
        },
        {
         "customdata": [
          [
           "Brand",
           0
          ],
          [
           "Brand",
           1
          ],
          [
           "Brand",
           2
          ],
          [
           "Brand",
           3
          ],
          [
           "Brand",
           4
          ],
          [
           "Brand",
           5
          ],
          [
           "Brand",
           6
          ],
          [
           "Brand",
           7
          ],
          [
           "Brand",
           8
          ],
          [
           "Brand",
           9
          ],
          [
           "Brand",
           10
          ],
          [
           "Brand",
           11
          ],
          [
           "Brand",
           12
          ],
          [
           "Brand",
           13
          ],
          [
           "Brand",
           14
          ],
          [
           "Brand",
           15
          ],
          [
           "Brand",
           16
          ],
          [
           "Brand",
           17
          ],
          [
           "Brand",
           18
          ],
          [
           "Brand",
           18
          ]
         ],
         "hovertemplate": "champion=%{customdata[0]}<br>x=%{x}<br>y=%{y}<br>z=%{z}<br>patch=%{customdata[1]}<extra></extra>",
         "legendgroup": "Brand",
         "marker": {
          "color": "#FF6692",
          "size": 5,
          "symbol": "circle"
         },
         "mode": "markers",
         "name": "Brand",
         "scene": "scene",
         "showlegend": true,
         "type": "scatter3d",
         "visible": "legendonly",
         "x": {
          "bdata": "kSqPP2wPusH4VzDBZpOPwTGXisEgxfS/cMNaQEQWCsJOQhDC0YUhwS87MkG2I7vBC1EKweLDpsHNQSVBDvSUQb5apEEFAPRBDWPWQRYZL8E=",
          "dtype": "f4"
         },
         "y": {
          "bdata": "964VQtZzD0IsqghCOa8aQuuD7EHgPkzBryK0QYSPXUExsWlBraI5QZZcf8GOqizBezUcwthdEsFf2QzCdrsUwmxC9sHo5vTBnP0JwtT99sE=",
          "dtype": "f4"
         },
         "z": {
          "bdata": "QKdnQFKdmED+Bt4/1j5fQNYBCsFz6eZBNeXFwMvJPcHgcibBFVvfwGYZA8KUEifCNFcaQV7MI8E5kKvA5awMwU4tUcCIag+/NRJYwEQSQEE=",
          "dtype": "f4"
         }
        },
        {
         "customdata": [
          [
           "Lee Sin",
           0
          ],
          [
           "Lee Sin",
           1
          ],
          [
           "Lee Sin",
           2
          ],
          [
           "Lee Sin",
           3
          ],
          [
           "Lee Sin",
           4
          ],
          [
           "Lee Sin",
           5
          ],
          [
           "Lee Sin",
           6
          ],
          [
           "Lee Sin",
           7
          ],
          [
           "Lee Sin",
           8
          ],
          [
           "Lee Sin",
           9
          ],
          [
           "Lee Sin",
           10
          ],
          [
           "Lee Sin",
           11
          ],
          [
           "Lee Sin",
           12
          ],
          [
           "Lee Sin",
           13
          ],
          [
           "Lee Sin",
           14
          ],
          [
           "Lee Sin",
           15
          ],
          [
           "Lee Sin",
           16
          ],
          [
           "Lee Sin",
           17
          ],
          [
           "Lee Sin",
           18
          ],
          [
           "Lee Sin",
           18
          ]
         ],
         "hovertemplate": "champion=%{customdata[0]}<br>x=%{x}<br>y=%{y}<br>z=%{z}<br>patch=%{customdata[1]}<extra></extra>",
         "legendgroup": "Lee Sin",
         "marker": {
          "color": "#B6E880",
          "size": 5,
          "symbol": "circle"
         },
         "mode": "markers",
         "name": "Lee Sin",
         "scene": "scene",
         "showlegend": true,
         "type": "scatter3d",
         "visible": "legendonly",
         "x": {
          "bdata": "oYONwKIKPkESJ91BPojPwNk54UFeAstBilY2QQfy/UHeigJCSknKwfLYZUGMhBHCsrNPwOBFA8JvsfzBWiMLQnrDoMH3FJxAIp/rQfgezUA=",
          "dtype": "f4"
         },
         "y": {
          "bdata": "UEmXPwFBIkKP3TRBFJOvwJXbWUFVy1jBeQnHQWG+HsGKpYk/s+S5PvqR9EASctlA5MLkQUEWzEHFZ11BpZIYQIfCGMGy0UFBoKOxQZkCIkE=",
          "dtype": "f4"
         },
         "z": {
          "bdata": "dukhQV25xD+t1klARwsQwtguQECr0IhBAvuPwQjrJcHR6/i/ULyTwEd12UFDiBlBAowVQpW3HsEYVxK/LXtmwFjzDsBr0hJCakq/QbdWPUE=",
          "dtype": "f4"
         }
        },
        {
         "customdata": [
          [
           "Vayne",
           0
          ],
          [
           "Vayne",
           1
          ],
          [
           "Vayne",
           2
          ],
          [
           "Vayne",
           3
          ],
          [
           "Vayne",
           4
          ],
          [
           "Vayne",
           5
          ],
          [
           "Vayne",
           6
          ],
          [
           "Vayne",
           7
          ],
          [
           "Vayne",
           8
          ],
          [
           "Vayne",
           9
          ],
          [
           "Vayne",
           10
          ],
          [
           "Vayne",
           11
          ],
          [
           "Vayne",
           12
          ],
          [
           "Vayne",
           13
          ],
          [
           "Vayne",
           14
          ],
          [
           "Vayne",
           15
          ],
          [
           "Vayne",
           16
          ],
          [
           "Vayne",
           17
          ],
          [
           "Vayne",
           18
          ],
          [
           "Vayne",
           18
          ]
         ],
         "hovertemplate": "champion=%{customdata[0]}<br>x=%{x}<br>y=%{y}<br>z=%{z}<br>patch=%{customdata[1]}<extra></extra>",
         "legendgroup": "Vayne",
         "marker": {
          "color": "#FF97FF",
          "size": 5,
          "symbol": "circle"
         },
         "mode": "markers",
         "name": "Vayne",
         "scene": "scene",
         "showlegend": true,
         "type": "scatter3d",
         "visible": "legendonly",
         "x": {
          "bdata": "cffHwQGJ5MHDRtzB0rsmwvjADkJ3UBNCPhQHQsNnBUKUyN1BEJnwQVj2A0LJrgVCgdUiQFD67MGij9zBMR+4watfSb+lWUDBu3JgQQrvJME=",
          "dtype": "f4"
         },
         "y": {
          "bdata": "SoGtwYXFpsG43LLBIsuIwbfFF8DIcYnAcIRVPnnxu0GtEas+DhGCv59FvkFavL1B2bwZQZKtkcGtgoLBTDe9wRpjWUGA5WLBj8Y6QfwuTEE=",
          "dtype": "f4"
         },
         "z": {
          "bdata": "MAEPwS1rEMGBPMrA+Y+zwBlU2MEVsu/BrCADwpy4WEEtLxhCypIVQoNRk0FrBIVBxem6QTxoXkAVeWxAAgxfwTO+ksCIeE5B4LPCwXfGg0A=",
          "dtype": "f4"
         }
        },
        {
         "customdata": [
          [
           "Rumble",
           0
          ],
          [
           "Rumble",
           1
          ],
          [
           "Rumble",
           2
          ],
          [
           "Rumble",
           3
          ],
          [
           "Rumble",
           4
          ],
          [
           "Rumble",
           5
          ],
          [
           "Rumble",
           6
          ],
          [
           "Rumble",
           7
          ],
          [
           "Rumble",
           8
          ],
          [
           "Rumble",
           9
          ],
          [
           "Rumble",
           10
          ],
          [
           "Rumble",
           11
          ],
          [
           "Rumble",
           12
          ],
          [
           "Rumble",
           13
          ],
          [
           "Rumble",
           14
          ],
          [
           "Rumble",
           15
          ],
          [
           "Rumble",
           16
          ],
          [
           "Rumble",
           17
          ],
          [
           "Rumble",
           18
          ],
          [
           "Rumble",
           18
          ]
         ],
         "hovertemplate": "champion=%{customdata[0]}<br>x=%{x}<br>y=%{y}<br>z=%{z}<br>patch=%{customdata[1]}<extra></extra>",
         "legendgroup": "Rumble",
         "marker": {
          "color": "#FECB52",
          "size": 5,
          "symbol": "circle"
         },
         "mode": "markers",
         "name": "Rumble",
         "scene": "scene",
         "showlegend": true,
         "type": "scatter3d",
         "visible": "legendonly",
         "x": {
          "bdata": "3CrXwUsukcG3Lt/BBC0QwlvVZ0GybPvBysIYQlMPRMGYoLTBckkQwfRn40HIwaTA1febwfeckME45XzBuxXDwViGzsGg2fBBUzAnwRq600A=",
          "dtype": "f4"
         },
         "y": {
          "bdata": "E9zOwes0jUG0jGjBoS9AwewaGcJe6I7ANFT2wMV1XkHE1n/BTXALQsChyj2XiY7A2R8AQvsP2MExnA5CzOaNwVXbtr83C/fBGZMRwNx7EUE=",
          "dtype": "f4"
         },
         "z": {
          "bdata": "prAgQeMSaj+Kz/xBrMe2QVeYPsDTV2DB7+toQL04DkEnOwRCYvbdQfq31EEipHVBUzgiwSPJPEHRyNxBn5P9Qb8VE0J7mr3AGxEcQkUnlz8=",
          "dtype": "f4"
         }
        },
        {
         "customdata": [
          [
           "Cassiopeia",
           0
          ],
          [
           "Cassiopeia",
           1
          ],
          [
           "Cassiopeia",
           2
          ],
          [
           "Cassiopeia",
           3
          ],
          [
           "Cassiopeia",
           4
          ],
          [
           "Cassiopeia",
           5
          ],
          [
           "Cassiopeia",
           6
          ],
          [
           "Cassiopeia",
           7
          ],
          [
           "Cassiopeia",
           8
          ],
          [
           "Cassiopeia",
           9
          ],
          [
           "Cassiopeia",
           10
          ],
          [
           "Cassiopeia",
           11
          ],
          [
           "Cassiopeia",
           12
          ],
          [
           "Cassiopeia",
           13
          ],
          [
           "Cassiopeia",
           14
          ],
          [
           "Cassiopeia",
           15
          ],
          [
           "Cassiopeia",
           16
          ],
          [
           "Cassiopeia",
           17
          ],
          [
           "Cassiopeia",
           18
          ],
          [
           "Cassiopeia",
           18
          ]
         ],
         "hovertemplate": "champion=%{customdata[0]}<br>x=%{x}<br>y=%{y}<br>z=%{z}<br>patch=%{customdata[1]}<extra></extra>",
         "legendgroup": "Cassiopeia",
         "marker": {
          "color": "#636efa",
          "size": 5,
          "symbol": "circle"
         },
         "mode": "markers",
         "name": "Cassiopeia",
         "scene": "scene",
         "showlegend": true,
         "type": "scatter3d",
         "visible": "legendonly",
         "x": {
          "bdata": "/oQWwgpahMGGx1fAuG85QgUbfUFRtDjBQzihQdSgPUGVRszB9Tq8wYYEC8LLTybBQpJjQQIJyMGVOX1BNEW5QRMvz8BBRKbBhna3waENx0E=",
          "dtype": "f4"
         },
         "y": {
          "bdata": "BYewwY74HMLvgdRAY/Y5wYHKbMAk9o7BUsJ+wKYtdr8ZVX9BtB4AQZYJ/r/toCFBAc6RQU9gCMLX12nB6SHJwXvS9sGdu7DB07KiweMR8EA=",
          "dtype": "f4"
         },
         "z": {
          "bdata": "GAdiQf1NkMBVbgNB44INwRpxB8KJVbzBAIjZwaDp98HgBc3AhrkCQqN078F3OF3BhF7Iwf9qcEGReJZBRZOTweB2OsEHKc/ByWHjwT+RhUE=",
          "dtype": "f4"
         }
        },
        {
         "customdata": [
          [
           "LeBlanc",
           0
          ],
          [
           "LeBlanc",
           1
          ],
          [
           "LeBlanc",
           2
          ],
          [
           "LeBlanc",
           3
          ],
          [
           "LeBlanc",
           4
          ],
          [
           "LeBlanc",
           5
          ],
          [
           "LeBlanc",
           6
          ],
          [
           "LeBlanc",
           7
          ],
          [
           "LeBlanc",
           8
          ],
          [
           "LeBlanc",
           9
          ],
          [
           "LeBlanc",
           10
          ],
          [
           "LeBlanc",
           11
          ],
          [
           "LeBlanc",
           12
          ],
          [
           "LeBlanc",
           13
          ],
          [
           "LeBlanc",
           14
          ],
          [
           "LeBlanc",
           15
          ],
          [
           "LeBlanc",
           16
          ],
          [
           "LeBlanc",
           17
          ],
          [
           "LeBlanc",
           18
          ],
          [
           "LeBlanc",
           18
          ]
         ],
         "hovertemplate": "champion=%{customdata[0]}<br>x=%{x}<br>y=%{y}<br>z=%{z}<br>patch=%{customdata[1]}<extra></extra>",
         "legendgroup": "LeBlanc",
         "marker": {
          "color": "#EF553B",
          "size": 5,
          "symbol": "circle"
         },
         "mode": "markers",
         "name": "LeBlanc",
         "scene": "scene",
         "showlegend": true,
         "type": "scatter3d",
         "visible": "legendonly",
         "x": {
          "bdata": "bNSvQLOz1r/6U3g/jSkXwrJqicEZ6lNAJIYUwisHEcKbi39AoZpZP91XK0EHgClAkfZLQZxOs0EGlyFAwWeyQRZ5o0Hm3O9AZl6wQYXhJEE=",
          "dtype": "f4"
         },
         "y": {
          "bdata": "odQEwkDZBsGslwBByjq6QIpxDkGlGwjCP1NsQLOGx8HvUjXAaL0EwpqlrcH1DpI/E/2GQTzoPUBqcT3B20eRvp01vUB4Zp3A3X6jQEAdlT8=",
          "dtype": "f4"
         },
         "z": {
          "bdata": "hk/OQFP0ycG+Z4tBkk//Pdvnk0GEYf9A+QMHwJefTUFP93TBpInUQDsYocHTkBzCVawOwlP1zcGJriXCKOrOQVRYGUF/OHfB3P4qwdJ8oj8=",
          "dtype": "f4"
         }
        },
        {
         "customdata": [
          [
           "Vex",
           0
          ],
          [
           "Vex",
           1
          ],
          [
           "Vex",
           2
          ],
          [
           "Vex",
           3
          ],
          [
           "Vex",
           4
          ],
          [
           "Vex",
           5
          ],
          [
           "Vex",
           6
          ],
          [
           "Vex",
           7
          ],
          [
           "Vex",
           8
          ],
          [
           "Vex",
           9
          ],
          [
           "Vex",
           10
          ],
          [
           "Vex",
           11
          ],
          [
           "Vex",
           12
          ],
          [
           "Vex",
           13
          ],
          [
           "Vex",
           14
          ],
          [
           "Vex",
           15
          ],
          [
           "Vex",
           16
          ],
          [
           "Vex",
           17
          ],
          [
           "Vex",
           18
          ],
          [
           "Vex",
           18
          ]
         ],
         "hovertemplate": "champion=%{customdata[0]}<br>x=%{x}<br>y=%{y}<br>z=%{z}<br>patch=%{customdata[1]}<extra></extra>",
         "legendgroup": "Vex",
         "marker": {
          "color": "#00cc96",
          "size": 5,
          "symbol": "circle"
         },
         "mode": "markers",
         "name": "Vex",
         "scene": "scene",
         "showlegend": true,
         "type": "scatter3d",
         "visible": "legendonly",
         "x": {
          "bdata": "kAfHwUusikD8Nw5CDmsDQvEgRUEMCs9BCJywwfQwBcJKU1DBYhcnPgeR/0AXpLvAnZqeQVRhRUHFhotBaf5CQXEqsz+M9bHAZOnPwG1LSkE=",
          "dtype": "f4"
         },
         "y": {
          "bdata": "7QUSwVkVy8ErfA9BfR8Kv+xX0cDzRcXBo/ocwX9O0cF1eG3BDpYxwSVCZcHIj77B9j8mwLXSl8HqYOhBWPnzQSJzpUD3jgjBxE6QwVO10MA=",
          "dtype": "f4"
         },
         "z": {
          "bdata": "TammQajV80DJVm1BfpWxP00nmEAudSPBij60QbtkN0GORc7A2v9iQaluy0F4lQ7CcmCfPs3D5MF9he/BMPXjwQEYN8IQs57BTwgnQftFGUE=",
          "dtype": "f4"
         }
        },
        {
         "customdata": [
          [
           "Skarner",
           0
          ],
          [
           "Skarner",
           1
          ],
          [
           "Skarner",
           2
          ],
          [
           "Skarner",
           3
          ],
          [
           "Skarner",
           4
          ],
          [
           "Skarner",
           5
          ],
          [
           "Skarner",
           6
          ],
          [
           "Skarner",
           7
          ],
          [
           "Skarner",
           8
          ],
          [
           "Skarner",
           9
          ],
          [
           "Skarner",
           10
          ],
          [
           "Skarner",
           11
          ],
          [
           "Skarner",
           12
          ],
          [
           "Skarner",
           13
          ],
          [
           "Skarner",
           14
          ],
          [
           "Skarner",
           15
          ],
          [
           "Skarner",
           16
          ],
          [
           "Skarner",
           17
          ],
          [
           "Skarner",
           18
          ],
          [
           "Skarner",
           18
          ]
         ],
         "hovertemplate": "champion=%{customdata[0]}<br>x=%{x}<br>y=%{y}<br>z=%{z}<br>patch=%{customdata[1]}<extra></extra>",
         "legendgroup": "Skarner",
         "marker": {
          "color": "#ab63fa",
          "size": 5,
          "symbol": "circle"
         },
         "mode": "markers",
         "name": "Skarner",
         "scene": "scene",
         "showlegend": true,
         "type": "scatter3d",
         "visible": "legendonly",
         "x": {
          "bdata": "FUnYQXN/20EhPdtB1gCrQSJdp0FJxP7B73+dwUg+RsGbwtbBT9Fwwaw3GsJj/oHBvjBjweO708FHyaTB3QPxQTKKD0IR+cNBGnnIQeK9R8E=",
          "dtype": "f4"
         },
         "y": {
          "bdata": "4+mpwRpjCsJkVCTBPGR/P5CBMEIwmhFBSQFLQfVZp0FYOpFBoizXQYLPesCusyhCVf4bQqqyYUEoUE5BUbXiwOJVFcFWXB3CNBcXwq0LQUA=",
          "dtype": "f4"
         },
         "z": {
          "bdata": "tzTuQAYIw0A/If1B3vf8QWtbaMHDyqPB5N1TQJ9SAcJXMcHBVi33wUdlpMElJ7bAN7KEwPgimsFBCNhAAq6hQVdFyT8Xlv8/zTFaQEvQisA=",
          "dtype": "f4"
         }
        },
        {
         "customdata": [
          [
           "Heimerdinger",
           0
          ],
          [
           "Heimerdinger",
           1
          ],
          [
           "Heimerdinger",
           2
          ],
          [
           "Heimerdinger",
           3
          ],
          [
           "Heimerdinger",
           4
          ],
          [
           "Heimerdinger",
           5
          ],
          [
           "Heimerdinger",
           6
          ],
          [
           "Heimerdinger",
           7
          ],
          [
           "Heimerdinger",
           8
          ],
          [
           "Heimerdinger",
           9
          ],
          [
           "Heimerdinger",
           10
          ],
          [
           "Heimerdinger",
           11
          ],
          [
           "Heimerdinger",
           12
          ],
          [
           "Heimerdinger",
           13
          ],
          [
           "Heimerdinger",
           14
          ],
          [
           "Heimerdinger",
           15
          ],
          [
           "Heimerdinger",
           16
          ],
          [
           "Heimerdinger",
           17
          ],
          [
           "Heimerdinger",
           18
          ],
          [
           "Heimerdinger",
           18
          ]
         ],
         "hovertemplate": "champion=%{customdata[0]}<br>x=%{x}<br>y=%{y}<br>z=%{z}<br>patch=%{customdata[1]}<extra></extra>",
         "legendgroup": "Heimerdinger",
         "marker": {
          "color": "#FFA15A",
          "size": 5,
          "symbol": "circle"
         },
         "mode": "markers",
         "name": "Heimerdinger",
         "scene": "scene",
         "showlegend": true,
         "type": "scatter3d",
         "visible": "legendonly",
         "x": {
          "bdata": "RH0MQXQ6C0LlO7NBXFMWwlVEM0EtGhNBzwoOwoQUH8GaAzVB6E2rPOjyCUL3A9dBpcTtQDnOEMLKTY7BLunXQWnyk0FHHx/C1xIVP2ptSz8=",
          "dtype": "f4"
         },
         "y": {
          "bdata": "BffcwSkpNMC7kSdB126bwZrpIMLuMEnCg+aYwTUkHEC9wulBkrW7waYpM0Ad+4zBoa0pv4S0wMC7li3BzbUXwe72aj8HkJ/BLKOowSMWlsE=",
          "dtype": "f4"
         },
         "z": {
          "bdata": "v/fDQd7nnMGFTwrCA9G/QcHdlUGz//49L6LIQf8jJkLnPsvBf/h+QRKtJUGIL8NBfboqwmFM3kBoAP5BLTzwwUBMuMGuhrlB8Z6gQddbkkE=",
          "dtype": "f4"
         }
        },
        {
         "customdata": [
          [
           "Nasus",
           0
          ],
          [
           "Nasus",
           1
          ],
          [
           "Nasus",
           2
          ],
          [
           "Nasus",
           3
          ],
          [
           "Nasus",
           4
          ],
          [
           "Nasus",
           5
          ],
          [
           "Nasus",
           6
          ],
          [
           "Nasus",
           7
          ],
          [
           "Nasus",
           8
          ],
          [
           "Nasus",
           9
          ],
          [
           "Nasus",
           10
          ],
          [
           "Nasus",
           11
          ],
          [
           "Nasus",
           12
          ],
          [
           "Nasus",
           13
          ],
          [
           "Nasus",
           14
          ],
          [
           "Nasus",
           15
          ],
          [
           "Nasus",
           16
          ],
          [
           "Nasus",
           17
          ],
          [
           "Nasus",
           18
          ],
          [
           "Nasus",
           18
          ]
         ],
         "hovertemplate": "champion=%{customdata[0]}<br>x=%{x}<br>y=%{y}<br>z=%{z}<br>patch=%{customdata[1]}<extra></extra>",
         "legendgroup": "Nasus",
         "marker": {
          "color": "#19d3f3",
          "size": 5,
          "symbol": "circle"
         },
         "mode": "markers",
         "name": "Nasus",
         "scene": "scene",
         "showlegend": true,
         "type": "scatter3d",
         "visible": "legendonly",
         "x": {
          "bdata": "ExkDP2HpCsJiABnCGpIFws/3/8EckxpCKdWzQY351MFurdTB7V8cQRKF/UEAOMVBPPfDQajxCELziB9C2IeXwaDkh8GYQDzBYLlCwdyxb0A=",
          "dtype": "f4"
         },
         "y": {
          "bdata": "Z8RTwWjwL0HKRl3ATiC2wah6o0FRdmHBhXVVQPZcg8EUuNLBfpULwocu4cHZCfTB0RCOwdAI4sE2JL3BE3IlQrKDL0Jr1zRCjkwxQpLGgMA=",
          "dtype": "f4"
         },
         "z": {
          "bdata": "lDDlwcbeEEEdtGpBqY+Ywbm12sGUUiXBQA4BwR75HkFsQG1BhqVHwZeDj8AiVptB/z2+PmcMp8CrXuXAOGdaP9Cy7T/7506/mhWWP70+C0E=",
          "dtype": "f4"
         }
        },
        {
         "customdata": [
          [
           "Nidalee",
           0
          ],
          [
           "Nidalee",
           1
          ],
          [
           "Nidalee",
           2
          ],
          [
           "Nidalee",
           3
          ],
          [
           "Nidalee",
           4
          ],
          [
           "Nidalee",
           5
          ],
          [
           "Nidalee",
           6
          ],
          [
           "Nidalee",
           7
          ],
          [
           "Nidalee",
           8
          ],
          [
           "Nidalee",
           9
          ],
          [
           "Nidalee",
           10
          ],
          [
           "Nidalee",
           11
          ],
          [
           "Nidalee",
           12
          ],
          [
           "Nidalee",
           13
          ],
          [
           "Nidalee",
           14
          ],
          [
           "Nidalee",
           15
          ],
          [
           "Nidalee",
           16
          ],
          [
           "Nidalee",
           17
          ],
          [
           "Nidalee",
           18
          ],
          [
           "Nidalee",
           18
          ]
         ],
         "hovertemplate": "champion=%{customdata[0]}<br>x=%{x}<br>y=%{y}<br>z=%{z}<br>patch=%{customdata[1]}<extra></extra>",
         "legendgroup": "Nidalee",
         "marker": {
          "color": "#FF6692",
          "size": 5,
          "symbol": "circle"
         },
         "mode": "markers",
         "name": "Nidalee",
         "scene": "scene",
         "showlegend": true,
         "type": "scatter3d",
         "visible": "legendonly",
         "x": {
          "bdata": "o0OFwdpFgcGsM59BVy1NQYnhjUFK7yDCHvhuQRQXvMFiyAXCU/x3wS8YKcHGWz3BaeGUwaqAmMH5wETBIjS9wV5x5MFiherBB6O3QfKSVsE=",
          "dtype": "f4"
         },
         "y": {
          "bdata": "//MAQswq7kHpmjlAzq2oQTGniUHzh67B6vuMQfp4rr9n9AvBtlQVwgnJ/cGBhQTCUvRxQc9F1MEPJQvCfmTdwO1MD8JiefLBVOsZwqeL6cE=",
          "dtype": "f4"
         },
         "z": {
          "bdata": "rCi/QOf8ykAfK5LAOuJpQewJpkGzyNXAhkuuQWpNJMA+3iJA5rfdwFDtF8Hq0M3AwJK8wIz5WcHha25AWiD9wWsoXUCQSeNApw4gwL77/8A=",
          "dtype": "f4"
         }
        },
        {
         "customdata": [
          [
           "Udyr",
           0
          ],
          [
           "Udyr",
           1
          ],
          [
           "Udyr",
           2
          ],
          [
           "Udyr",
           3
          ],
          [
           "Udyr",
           4
          ],
          [
           "Udyr",
           5
          ],
          [
           "Udyr",
           6
          ],
          [
           "Udyr",
           7
          ],
          [
           "Udyr",
           8
          ],
          [
           "Udyr",
           9
          ],
          [
           "Udyr",
           10
          ],
          [
           "Udyr",
           11
          ],
          [
           "Udyr",
           12
          ],
          [
           "Udyr",
           13
          ],
          [
           "Udyr",
           14
          ],
          [
           "Udyr",
           15
          ],
          [
           "Udyr",
           16
          ],
          [
           "Udyr",
           17
          ],
          [
           "Udyr",
           18
          ],
          [
           "Udyr",
           18
          ]
         ],
         "hovertemplate": "champion=%{customdata[0]}<br>x=%{x}<br>y=%{y}<br>z=%{z}<br>patch=%{customdata[1]}<extra></extra>",
         "legendgroup": "Udyr",
         "marker": {
          "color": "#B6E880",
          "size": 5,
          "symbol": "circle"
         },
         "mode": "markers",
         "name": "Udyr",
         "scene": "scene",
         "showlegend": true,
         "type": "scatter3d",
         "visible": "legendonly",
         "x": {
          "bdata": "D/3FQa8fCcK7slNBrMKQQWKuw8EbkirAzL+Uwcyd6MHd7+/B4pPWwV7rCkIqtm5BT9DLwPA9bcGrkgdC7tgNQmwI5MFVF4NBq68QQmQqM8E=",
          "dtype": "f4"
         },
         "y": {
          "bdata": "jOGJQTrYw0HVbilCoSAdQqvr5UErQP5BD9EOQuCHIkE0nB9AclkpQLhpycH7ar3BaulzQaV3yUF7HJpAiwWWQcp520E9faY/2zNxQbD6o8A=",
          "dtype": "f4"
         },
         "z": {
          "bdata": "aUiOOws65sDXb4JAqCnbwFgATL+u29K/oZ8WQbk00cEjDsrBWKDIwRPH7T9cPU3Bk1AcQlYZUMHoI5xB39gov/qWfcHXO3DBmuWYPrw4NUE=",
          "dtype": "f4"
         }
        },
        {
         "customdata": [
          [
           "Yone",
           0
          ],
          [
           "Yone",
           1
          ],
          [
           "Yone",
           2
          ],
          [
           "Yone",
           3
          ],
          [
           "Yone",
           4
          ],
          [
           "Yone",
           5
          ],
          [
           "Yone",
           6
          ],
          [
           "Yone",
           7
          ],
          [
           "Yone",
           8
          ],
          [
           "Yone",
           9
          ],
          [
           "Yone",
           10
          ],
          [
           "Yone",
           11
          ],
          [
           "Yone",
           12
          ],
          [
           "Yone",
           13
          ],
          [
           "Yone",
           14
          ],
          [
           "Yone",
           15
          ],
          [
           "Yone",
           16
          ],
          [
           "Yone",
           17
          ],
          [
           "Yone",
           18
          ],
          [
           "Yone",
           18
          ]
         ],
         "hovertemplate": "champion=%{customdata[0]}<br>x=%{x}<br>y=%{y}<br>z=%{z}<br>patch=%{customdata[1]}<extra></extra>",
         "legendgroup": "Yone",
         "marker": {
          "color": "#FF97FF",
          "size": 5,
          "symbol": "circle"
         },
         "mode": "markers",
         "name": "Yone",
         "scene": "scene",
         "showlegend": true,
         "type": "scatter3d",
         "visible": "legendonly",
         "x": {
          "bdata": "viO6wO6bAsJjz8bBcxUIwv85x8GJNdTBRfS9wXs2L0Fj58BBeQXUQS6OE0Knf3dBSTR8wcYYNEEaOBfBO16JQd3GL0HF33pBNdtUQCHQeUA=",
          "dtype": "f4"
         },
         "y": {
          "bdata": "577VQJyZm8EG/wHCf6mGwTsvn8GgYkVA1Pa3wNbrmcCThQDBOhhhwOWpu0HhkGHBo7kRwhi9L8FFKzhARe9Bwb3noEHZRLfAp4k/QVTMST8=",
          "dtype": "f4"
         },
         "z": {
          "bdata": "IoaVQeQTGUFQfS/BFpgZQX4q9MFljNw/dDjXP3/rrMEuV+ZAnMaQQcB23cCAEFDBMmObwX+Wf8GnLzPB24xjwfM6qcErBFLBoh6fweCd5r0=",
          "dtype": "f4"
         }
        },
        {
         "customdata": [
          [
           "Poppy",
           0
          ],
          [
           "Poppy",
           1
          ],
          [
           "Poppy",
           2
          ],
          [
           "Poppy",
           3
          ],
          [
           "Poppy",
           4
          ],
          [
           "Poppy",
           5
          ],
          [
           "Poppy",
           6
          ],
          [
           "Poppy",
           7
          ],
          [
           "Poppy",
           8
          ],
          [
           "Poppy",
           9
          ],
          [
           "Poppy",
           10
          ],
          [
           "Poppy",
           11
          ],
          [
           "Poppy",
           12
          ],
          [
           "Poppy",
           13
          ],
          [
           "Poppy",
           14
          ],
          [
           "Poppy",
           15
          ],
          [
           "Poppy",
           16
          ],
          [
           "Poppy",
           17
          ],
          [
           "Poppy",
           18
          ],
          [
           "Poppy",
           18
          ]
         ],
         "hovertemplate": "champion=%{customdata[0]}<br>x=%{x}<br>y=%{y}<br>z=%{z}<br>patch=%{customdata[1]}<extra></extra>",
         "legendgroup": "Poppy",
         "marker": {
          "color": "#FECB52",
          "size": 5,
          "symbol": "circle"
         },
         "mode": "markers",
         "name": "Poppy",
         "scene": "scene",
         "showlegend": true,
         "type": "scatter3d",
         "visible": "legendonly",
         "x": {
          "bdata": "NaveQGFM6EHjeAXABCqlwCh8LsE18WDADbFtwTpXxsHfvu7B4oaIv/yP18A6WojBE0PTQH3M6cGUxCbAs/0nQTWSbEEiHRHB/eF6wUggBcE=",
          "dtype": "f4"
         },
         "y": {
          "bdata": "ekfowBbUVkHWmD1BIeMBwEWdYsELHjhAu81IP6wk/b8ypurAkQ0SwOUxF0CdDEE/bhoSQH59dsGI4LbAn5auP7CE8cFy1BFCHNsIQsFXlUA=",
          "dtype": "f4"
         },
         "z": {
          "bdata": "Mp8Xwmzn0MFUMCfC138jwuV2BsKmIf7B9I4YwoNJ3sGRo63BpSrRwXA8xcHGxO/B8vjnwd8hkMHMwUPBuc/PwSsJvkFV/d9AIuZQwavKwsE=",
          "dtype": "f4"
         }
        },
        {
         "customdata": [
          [
           "Gragas",
           0
          ],
          [
           "Gragas",
           1
          ],
          [
           "Gragas",
           2
          ],
          [
           "Gragas",
           3
          ],
          [
           "Gragas",
           4
          ],
          [
           "Gragas",
           5
          ],
          [
           "Gragas",
           6
          ],
          [
           "Gragas",
           7
          ],
          [
           "Gragas",
           8
          ],
          [
           "Gragas",
           9
          ],
          [
           "Gragas",
           10
          ],
          [
           "Gragas",
           11
          ],
          [
           "Gragas",
           12
          ],
          [
           "Gragas",
           13
          ],
          [
           "Gragas",
           14
          ],
          [
           "Gragas",
           15
          ],
          [
           "Gragas",
           16
          ],
          [
           "Gragas",
           17
          ],
          [
           "Gragas",
           18
          ],
          [
           "Gragas",
           18
          ]
         ],
         "hovertemplate": "champion=%{customdata[0]}<br>x=%{x}<br>y=%{y}<br>z=%{z}<br>patch=%{customdata[1]}<extra></extra>",
         "legendgroup": "Gragas",
         "marker": {
          "color": "#636efa",
          "size": 5,
          "symbol": "circle"
         },
         "mode": "markers",
         "name": "Gragas",
         "scene": "scene",
         "showlegend": true,
         "type": "scatter3d",
         "visible": "legendonly",
         "x": {
          "bdata": "oOaMwfsmwUGGQPhBIHNAwUXGDcEiXhzCQnMowbNRd8FSZWTBw9wIwmn96ED15RBBwXFewcOc+sFzS5dBwaxjQe4FVMEz6CFBW5HfwF9zZUE=",
          "dtype": "f4"
         },
         "y": {
          "bdata": "3DEAweFDrUGUOHdA8s2jQJ+JPcASgzFBHQUFQm03J0FjyLRA8iDVwf2lxMB3xvJBnjVZwPc960FEMcHBD4WBwdQOJMGVLVLBfcgWQlpoBEE=",
          "dtype": "f4"
         },
         "z": {
          "bdata": "E0gsQDbWIEESGNtBt5OtQfWnpb9FFYjBSPCZwSXgUkH1Tp5BZvAMQVEIUcGb5QDCmtyNP/aVPUDA3eDBzC/hwS9n30FjbvfBceWVwa86E8A=",
          "dtype": "f4"
         }
        },
        {
         "customdata": [
          [
           "Ambessa",
           0
          ],
          [
           "Ambessa",
           1
          ],
          [
           "Ambessa",
           2
          ],
          [
           "Ambessa",
           3
          ],
          [
           "Ambessa",
           4
          ],
          [
           "Ambessa",
           5
          ],
          [
           "Ambessa",
           6
          ],
          [
           "Ambessa",
           7
          ],
          [
           "Ambessa",
           8
          ],
          [
           "Ambessa",
           9
          ],
          [
           "Ambessa",
           10
          ],
          [
           "Ambessa",
           11
          ],
          [
           "Ambessa",
           12
          ],
          [
           "Ambessa",
           13
          ],
          [
           "Ambessa",
           14
          ],
          [
           "Ambessa",
           15
          ],
          [
           "Ambessa",
           16
          ],
          [
           "Ambessa",
           17
          ],
          [
           "Ambessa",
           18
          ],
          [
           "Ambessa",
           18
          ]
         ],
         "hovertemplate": "champion=%{customdata[0]}<br>x=%{x}<br>y=%{y}<br>z=%{z}<br>patch=%{customdata[1]}<extra></extra>",
         "legendgroup": "Ambessa",
         "marker": {
          "color": "#EF553B",
          "size": 5,
          "symbol": "circle"
         },
         "mode": "markers",
         "name": "Ambessa",
         "scene": "scene",
         "showlegend": true,
         "type": "scatter3d",
         "visible": "legendonly",
         "x": {
          "bdata": "71T+QOd5TUH8VyJBisJgQZcoEkHp6Tm/T9gIQUTAEEFyyEBBjYnXQfN9z0HirDjCdg/bQcws68Fmd1nAVxtYQe/5lkEiXV1BHFYFwKbX50E=",
          "dtype": "f4"
         },
         "y": {
          "bdata": "V0ZpQedBM0HBqTtBO0xfQascS0ETWPHBT5Z+QdsdOUFk3mNB7F3ywajABMLUJatAKBqxwQy0/cAubyNC+5WmQaVbAkJa3xtBBGT1wcX73UA=",
          "dtype": "f4"
         },
         "z": {
          "bdata": "O7dWQXraFEFtqOZAv648QQ5iH0EFzYpBqdxzQU0dQEFx5zxB2Ao8QRqvP0GhOgxBSHpuwHWtLcHN6MdAs0urwbDvU0FZbDtBRqJQQcDkLkE=",
          "dtype": "f4"
         }
        },
        {
         "customdata": [
          [
           "Vladimir",
           0
          ],
          [
           "Vladimir",
           1
          ],
          [
           "Vladimir",
           2
          ],
          [
           "Vladimir",
           3
          ],
          [
           "Vladimir",
           4
          ],
          [
           "Vladimir",
           5
          ],
          [
           "Vladimir",
           6
          ],
          [
           "Vladimir",
           7
          ],
          [
           "Vladimir",
           8
          ],
          [
           "Vladimir",
           9
          ],
          [
           "Vladimir",
           10
          ],
          [
           "Vladimir",
           11
          ],
          [
           "Vladimir",
           12
          ],
          [
           "Vladimir",
           13
          ],
          [
           "Vladimir",
           14
          ],
          [
           "Vladimir",
           15
          ],
          [
           "Vladimir",
           16
          ],
          [
           "Vladimir",
           17
          ],
          [
           "Vladimir",
           18
          ],
          [
           "Vladimir",
           18
          ]
         ],
         "hovertemplate": "champion=%{customdata[0]}<br>x=%{x}<br>y=%{y}<br>z=%{z}<br>patch=%{customdata[1]}<extra></extra>",
         "legendgroup": "Vladimir",
         "marker": {
          "color": "#00cc96",
          "size": 5,
          "symbol": "circle"
         },
         "mode": "markers",
         "name": "Vladimir",
         "scene": "scene",
         "showlegend": true,
         "type": "scatter3d",
         "visible": "legendonly",
         "x": {
          "bdata": "Bdm2wMWIE8KIPa9AvVHwPlZBocAgUNhB0sqdQdmt1kGowCpCpjtBwYx2g0HglhRBW8Wtvjsm2cFfjvq/dYznQBNiDUGCT+a/6S4DQZvMycA=",
          "dtype": "f4"
         },
         "y": {
          "bdata": "aWVPwVI/a8EoFV7Am1HsQG7sEUFIagRACkc3wXXWEcGRpoZBWHMZwRQud8B4Ge7BzP5vwaywfcHrpKxAWwwqwhdmxsCgOZBAryN4wKH1gcA=",
          "dtype": "f4"
         },
         "z": {
          "bdata": "N10NwNU5mMHQiLTBPhWvweWyj8FisIFAjI69QWVf70ElBERB3JECQnniIMHzQAnCDwz+wQbsUcHfxIrBt04tQEfdlcHRvqpBVRdNwdIzaME=",
          "dtype": "f4"
         }
        },
        {
         "customdata": [
          [
           "Pantheon",
           0
          ],
          [
           "Pantheon",
           1
          ],
          [
           "Pantheon",
           2
          ],
          [
           "Pantheon",
           3
          ],
          [
           "Pantheon",
           4
          ],
          [
           "Pantheon",
           5
          ],
          [
           "Pantheon",
           6
          ],
          [
           "Pantheon",
           7
          ],
          [
           "Pantheon",
           8
          ],
          [
           "Pantheon",
           9
          ],
          [
           "Pantheon",
           10
          ],
          [
           "Pantheon",
           11
          ],
          [
           "Pantheon",
           12
          ],
          [
           "Pantheon",
           13
          ],
          [
           "Pantheon",
           14
          ],
          [
           "Pantheon",
           15
          ],
          [
           "Pantheon",
           16
          ],
          [
           "Pantheon",
           17
          ],
          [
           "Pantheon",
           18
          ],
          [
           "Pantheon",
           18
          ]
         ],
         "hovertemplate": "champion=%{customdata[0]}<br>x=%{x}<br>y=%{y}<br>z=%{z}<br>patch=%{customdata[1]}<extra></extra>",
         "legendgroup": "Pantheon",
         "marker": {
          "color": "#ab63fa",
          "size": 5,
          "symbol": "circle"
         },
         "mode": "markers",
         "name": "Pantheon",
         "scene": "scene",
         "showlegend": true,
         "type": "scatter3d",
         "visible": "legendonly",
         "x": {
          "bdata": "AOLuQbWhMEHgw1e/rHdNwUXpPcE1tEVBEfvYwBka1EH3SJ5BUMG/QXZcj8GggRTBtqKVwcvqBMIvvg7BBMdqQfVBhEHv68lAb/iowXRVMkE=",
          "dtype": "f4"
         },
         "y": {
          "bdata": "97RtQfVPJcE0PYtB1+ZLwRf3ZsH/tgTBptnoQSYNAMKRDrXAlMzcQUlbkcEn99lBDLLxQSx25kFX2XhBy1xwwcgeRkFmRMRBKM4oQZEj5cA=",
          "dtype": "f4"
         },
         "z": {
          "bdata": "a8KQQeXJzMEQfglCHT8RwQSqpUGibKVBPeNZwQVbmEGqiPPB3VuOwc1VBUJIGmTBIvKtwS7WM8FusSDCR8wGwk3ZZcEkfmvBBFnMwARNQ8E=",
          "dtype": "f4"
         }
        },
        {
         "customdata": [
          [
           "Mel",
           0
          ],
          [
           "Mel",
           1
          ],
          [
           "Mel",
           2
          ],
          [
           "Mel",
           3
          ],
          [
           "Mel",
           4
          ],
          [
           "Mel",
           5
          ],
          [
           "Mel",
           6
          ],
          [
           "Mel",
           7
          ],
          [
           "Mel",
           8
          ],
          [
           "Mel",
           9
          ],
          [
           "Mel",
           10
          ],
          [
           "Mel",
           11
          ],
          [
           "Mel",
           12
          ],
          [
           "Mel",
           13
          ],
          [
           "Mel",
           14
          ],
          [
           "Mel",
           15
          ],
          [
           "Mel",
           16
          ],
          [
           "Mel",
           17
          ],
          [
           "Mel",
           18
          ],
          [
           "Mel",
           18
          ]
         ],
         "hovertemplate": "champion=%{customdata[0]}<br>x=%{x}<br>y=%{y}<br>z=%{z}<br>patch=%{customdata[1]}<extra></extra>",
         "legendgroup": "Mel",
         "marker": {
          "color": "#FFA15A",
          "size": 5,
          "symbol": "circle"
         },
         "mode": "markers",
         "name": "Mel",
         "scene": "scene",
         "showlegend": true,
         "type": "scatter3d",
         "visible": "legendonly",
         "x": {
          "bdata": "TAIBQSOBO0G3YYZB/lsdQfkiG0FyBbpAPFyAQCg+kUFGDdJAfLy4vxKcrEAAjz9BrUaIQY7JfcHCieLBP/u3QC0xLELN4axBh3sfQrPWrUA=",
          "dtype": "f4"
         },
         "y": {
          "bdata": "ZupdPclTdMBKcOa/YH78wF69usA6ZlHAqM+Gv1agjT/VrYPA7BekwIjSycAd1X2/S80aPvoQUT9pVBnBUp9+wLQ5usDejh3Buv1pQZ/rWr8=",
          "dtype": "f4"
         },
         "z": {
          "bdata": "INwIQfgv+UBET8lAOE4eQe4ZCEEHmSBBTr2RQX7BekAzPuhAnsU7QBybHUGl5QFBU7bFQEicNMHWR5jB5QcqwsTVaj50rbTBOtV9QZBwpEE=",
          "dtype": "f4"
         }
        },
        {
         "customdata": [
          [
           "Ezreal",
           0
          ],
          [
           "Ezreal",
           1
          ],
          [
           "Ezreal",
           2
          ],
          [
           "Ezreal",
           3
          ],
          [
           "Ezreal",
           4
          ],
          [
           "Ezreal",
           5
          ],
          [
           "Ezreal",
           6
          ],
          [
           "Ezreal",
           7
          ],
          [
           "Ezreal",
           8
          ],
          [
           "Ezreal",
           9
          ],
          [
           "Ezreal",
           10
          ],
          [
           "Ezreal",
           11
          ],
          [
           "Ezreal",
           12
          ],
          [
           "Ezreal",
           13
          ],
          [
           "Ezreal",
           14
          ],
          [
           "Ezreal",
           15
          ],
          [
           "Ezreal",
           16
          ],
          [
           "Ezreal",
           17
          ],
          [
           "Ezreal",
           18
          ],
          [
           "Ezreal",
           18
          ]
         ],
         "hovertemplate": "champion=%{customdata[0]}<br>x=%{x}<br>y=%{y}<br>z=%{z}<br>patch=%{customdata[1]}<extra></extra>",
         "legendgroup": "Ezreal",
         "marker": {
          "color": "#19d3f3",
          "size": 5,
          "symbol": "circle"
         },
         "mode": "markers",
         "name": "Ezreal",
         "scene": "scene",
         "showlegend": true,
         "type": "scatter3d",
         "visible": "legendonly",
         "x": {
          "bdata": "wqR+wUWlg8GR76TBJV75wWStgME2VztBjEvIQXGrf0FlmsBAhTU/QVfbi8GYI2BBPOkpwfIQtcF8h5FBz9MaQV7JqUFXpJtBm3WlQS2u68A=",
          "dtype": "f4"
         },
         "y": {
          "bdata": "wf7bwWJWz8Gmr2fBM2DewbRX28Er1RFBMMbTP5km6cAXAOfBUqWAwQWjb8Gei2HBZgFrwRvTV0GCTQLCC7YJwtqCw8FT1ObBfU5RwQ6eG8E=",
          "dtype": "f4"
         },
         "z": {
          "bdata": "84MzQFqUdkCMW9VBGDQXwEA5EMFVO4nBUZ0aQgwF8cHHFbpBVgOZwRBFmEEAm9nA3fOGwZ+25sEYr7LA3tsIwbFIWMF8g4i/6YS6wXtgQME=",
          "dtype": "f4"
         }
        },
        {
         "customdata": [
          [
           "Mordekaiser",
           0
          ],
          [
           "Mordekaiser",
           1
          ],
          [
           "Mordekaiser",
           2
          ],
          [
           "Mordekaiser",
           3
          ],
          [
           "Mordekaiser",
           4
          ],
          [
           "Mordekaiser",
           5
          ],
          [
           "Mordekaiser",
           6
          ],
          [
           "Mordekaiser",
           7
          ],
          [
           "Mordekaiser",
           8
          ],
          [
           "Mordekaiser",
           9
          ],
          [
           "Mordekaiser",
           10
          ],
          [
           "Mordekaiser",
           11
          ],
          [
           "Mordekaiser",
           12
          ],
          [
           "Mordekaiser",
           13
          ],
          [
           "Mordekaiser",
           14
          ],
          [
           "Mordekaiser",
           15
          ],
          [
           "Mordekaiser",
           16
          ],
          [
           "Mordekaiser",
           17
          ],
          [
           "Mordekaiser",
           18
          ],
          [
           "Mordekaiser",
           18
          ]
         ],
         "hovertemplate": "champion=%{customdata[0]}<br>x=%{x}<br>y=%{y}<br>z=%{z}<br>patch=%{customdata[1]}<extra></extra>",
         "legendgroup": "Mordekaiser",
         "marker": {
          "color": "#FF6692",
          "size": 5,
          "symbol": "circle"
         },
         "mode": "markers",
         "name": "Mordekaiser",
         "scene": "scene",
         "showlegend": true,
         "type": "scatter3d",
         "visible": "legendonly",
         "x": {
          "bdata": "i92AQIV6DsGVlxxCT04rQbho00E0AF3ABlXvQZTqxMFfDNXBwpyKwOr40sE0/gxCnqvfQbv5E0FAbcDBEQHkQZHxlUEpHQhBtAbOQakK6UA=",
          "dtype": "f4"
         },
         "y": {
          "bdata": "+CfAQSW1DkAlypfBPLgjQJe208D1kZxB9i+JQdU5i0Hp8otBtkZdQU0cpsBK8bFBhBW0wRJcUEH02Z7B2p2uQcvtM0GB9QzCvXqNP/ZYJ0E=",
          "dtype": "f4"
         },
         "z": {
          "bdata": "xV2bQKEW9EE2/zE/a14lQskxa8AW08nBS8N+wWZXFkFD9nvAibQuQs101cAGe5fAefi5wApYBcGr3LNBdsacQajIZUGLpi3BsHuEQVUvh0A=",
          "dtype": "f4"
         }
        },
        {
         "customdata": [
          [
           "Yorick",
           0
          ],
          [
           "Yorick",
           1
          ],
          [
           "Yorick",
           2
          ],
          [
           "Yorick",
           3
          ],
          [
           "Yorick",
           4
          ],
          [
           "Yorick",
           5
          ],
          [
           "Yorick",
           6
          ],
          [
           "Yorick",
           7
          ],
          [
           "Yorick",
           8
          ],
          [
           "Yorick",
           9
          ],
          [
           "Yorick",
           10
          ],
          [
           "Yorick",
           11
          ],
          [
           "Yorick",
           12
          ],
          [
           "Yorick",
           13
          ],
          [
           "Yorick",
           14
          ],
          [
           "Yorick",
           15
          ],
          [
           "Yorick",
           16
          ],
          [
           "Yorick",
           17
          ],
          [
           "Yorick",
           18
          ],
          [
           "Yorick",
           18
          ]
         ],
         "hovertemplate": "champion=%{customdata[0]}<br>x=%{x}<br>y=%{y}<br>z=%{z}<br>patch=%{customdata[1]}<extra></extra>",
         "legendgroup": "Yorick",
         "marker": {
          "color": "#B6E880",
          "size": 5,
          "symbol": "circle"
         },
         "mode": "markers",
         "name": "Yorick",
         "scene": "scene",
         "showlegend": true,
         "type": "scatter3d",
         "visible": "legendonly",
         "x": {
          "bdata": "YpEfwLlVg0H41xVCKVqwQbPDvECh6CTCHwHNQUHTT8HAd63AkrgNwdYMc8EUdATCVySpwP0LvUGGkJtBfYmIwfwIhEHAPxtCdmdbv7FKL8A=",
          "dtype": "f4"
         },
         "y": {
          "bdata": "URtnv00/nMEHxeFAf87BwZ8rBkHbnDLBPFoGwVcx08ECotpB1A1BwOep9cGxuThBQWIgQrpQCkLT3LZBlJsNQgP/A0IXMIi/dgTRQataAUE=",
          "dtype": "f4"
         },
         "z": {
          "bdata": "+Y7XQXZP6UHNCMLBXtLqQRlP+UHZa2XA1UOEwTYgCEEkMOfBbyAuQoZBT8Eqm5lBD/hYwPEvOEEj9rvA5JO7QY26NMECls6/LIYMwd2VXz8=",
          "dtype": "f4"
         }
        },
        {
         "customdata": [
          [
           "Akali",
           0
          ],
          [
           "Akali",
           1
          ],
          [
           "Akali",
           2
          ],
          [
           "Akali",
           3
          ],
          [
           "Akali",
           4
          ],
          [
           "Akali",
           5
          ],
          [
           "Akali",
           6
          ],
          [
           "Akali",
           7
          ],
          [
           "Akali",
           8
          ],
          [
           "Akali",
           9
          ],
          [
           "Akali",
           10
          ],
          [
           "Akali",
           11
          ],
          [
           "Akali",
           12
          ],
          [
           "Akali",
           13
          ],
          [
           "Akali",
           14
          ],
          [
           "Akali",
           15
          ],
          [
           "Akali",
           16
          ],
          [
           "Akali",
           17
          ],
          [
           "Akali",
           18
          ],
          [
           "Akali",
           18
          ]
         ],
         "hovertemplate": "champion=%{customdata[0]}<br>x=%{x}<br>y=%{y}<br>z=%{z}<br>patch=%{customdata[1]}<extra></extra>",
         "legendgroup": "Akali",
         "marker": {
          "color": "#FF97FF",
          "size": 5,
          "symbol": "circle"
         },
         "mode": "markers",
         "name": "Akali",
         "scene": "scene",
         "showlegend": true,
         "type": "scatter3d",
         "visible": "legendonly",
         "x": {
          "bdata": "dV0jQrjgL0K0MgJBuIKhQQY9wEGPxpZBFA4BwjaTCcIuXALA0IxwwPFGYMESrGPB8f+dwXJqFkFVLb1BKpw0QQEqzEAN+YG+OvnzQMEMkcE=",
          "dtype": "f4"
         },
         "y": {
          "bdata": "7aALQWM/EkFmLYxBHHq/P7dHwT+ywz4/HvtxwMfRAT32BUDCj7y7wSQ2Z8EOgZDBDPJRwaVzxMHI2SRBzibbwR68IkL8WApAG87AwT6COME=",
          "dtype": "f4"
         },
         "z": {
          "bdata": "RSDhQI1Wq0Dl3rjBaMVVQTtRLkFrUi5BVNj0QGs/wMHeiytBsBYdQa9DIMFDJYvBog0AwQia0MFuvFvBZ30OwQXXZcGak1JBt1jQQOES1cA=",
          "dtype": "f4"
         }
        },
        {
         "customdata": [
          [
           "Kennen",
           0
          ],
          [
           "Kennen",
           1
          ],
          [
           "Kennen",
           2
          ],
          [
           "Kennen",
           3
          ],
          [
           "Kennen",
           4
          ],
          [
           "Kennen",
           5
          ],
          [
           "Kennen",
           6
          ],
          [
           "Kennen",
           7
          ],
          [
           "Kennen",
           8
          ],
          [
           "Kennen",
           9
          ],
          [
           "Kennen",
           10
          ],
          [
           "Kennen",
           11
          ],
          [
           "Kennen",
           12
          ],
          [
           "Kennen",
           13
          ],
          [
           "Kennen",
           14
          ],
          [
           "Kennen",
           15
          ],
          [
           "Kennen",
           16
          ],
          [
           "Kennen",
           17
          ],
          [
           "Kennen",
           18
          ],
          [
           "Kennen",
           18
          ]
         ],
         "hovertemplate": "champion=%{customdata[0]}<br>x=%{x}<br>y=%{y}<br>z=%{z}<br>patch=%{customdata[1]}<extra></extra>",
         "legendgroup": "Kennen",
         "marker": {
          "color": "#FECB52",
          "size": 5,
          "symbol": "circle"
         },
         "mode": "markers",
         "name": "Kennen",
         "scene": "scene",
         "showlegend": true,
         "type": "scatter3d",
         "visible": "legendonly",
         "x": {
          "bdata": "83gIwgU5+8EQ9R5CZZwtwj6cd8ETl2rBaVoGPGDresEKqC5BOQCKvnbAlEHmHVXArqJYwYJYsUDA5KhBFe+ZwYSopsF2f8/B3zbVwKivxEA=",
          "dtype": "f4"
         },
         "y": {
          "bdata": "nJGhQR4Jo0F8qKtA2Zk1QU8+hMBGD6zABdjTwGa13sDRD67BtGcDwDZGuEE346tAWURfwYiynMBRcPw/4ZB5wbyjgsD3WfxBi/iDwKwGyMA=",
          "dtype": "f4"
         },
         "z": {
          "bdata": "4J2vwe7lysFoW8xA4f6Avy3v+kFLoBhCORMAQc7v/UHmlSe/vTBBwoaAgcH8lezBno0CQq5tqEHlkRfCT9oBQoYHh0GsxLBB6LoeQb2UZj8=",
          "dtype": "f4"
         }
        },
        {
         "customdata": [
          [
           "Garen",
           0
          ],
          [
           "Garen",
           1
          ],
          [
           "Garen",
           2
          ],
          [
           "Garen",
           3
          ],
          [
           "Garen",
           4
          ],
          [
           "Garen",
           5
          ],
          [
           "Garen",
           6
          ],
          [
           "Garen",
           7
          ],
          [
           "Garen",
           8
          ],
          [
           "Garen",
           9
          ],
          [
           "Garen",
           10
          ],
          [
           "Garen",
           11
          ],
          [
           "Garen",
           12
          ],
          [
           "Garen",
           13
          ],
          [
           "Garen",
           14
          ],
          [
           "Garen",
           15
          ],
          [
           "Garen",
           16
          ],
          [
           "Garen",
           17
          ],
          [
           "Garen",
           18
          ],
          [
           "Garen",
           18
          ]
         ],
         "hovertemplate": "champion=%{customdata[0]}<br>x=%{x}<br>y=%{y}<br>z=%{z}<br>patch=%{customdata[1]}<extra></extra>",
         "legendgroup": "Garen",
         "marker": {
          "color": "#636efa",
          "size": 5,
          "symbol": "circle"
         },
         "mode": "markers",
         "name": "Garen",
         "scene": "scene",
         "showlegend": true,
         "type": "scatter3d",
         "visible": "legendonly",
         "x": {
          "bdata": "WkLYQLhp5EFqsppAhia2QLUUy8HJuBC/2merwYz1GkJyLApCzOljQTmtMkKegwXBuC+gQQ5fhMEYINzB4iTowScshz4GhmbBUebNQbgCBkE=",
          "dtype": "f4"
         },
         "y": {
          "bdata": "pp6EQKMdGUE9dRXC99g9QJ2u3EBQO0XBwgKMwQczrsBYpJTAdzfewFWw1j/fDhDC2tLSwLmlXcH1LlvBeC8VwbRoisBIAi5BMXTWwPVVur8=",
          "dtype": "f4"
         },
         "z": {
          "bdata": "9Ou2wfmRmMFgf3JB/J02wU48XcCgon7BPq4MQWoLD8HFWyDAlvHTwMEjNkAs7jJBZD/lQdmbFEIFjDdB1/1tQdgrxEGtUsJBto8XQQM1hMA=",
          "dtype": "f4"
         }
        },
        {
         "customdata": [
          [
           "Sett",
           0
          ],
          [
           "Sett",
           1
          ],
          [
           "Sett",
           2
          ],
          [
           "Sett",
           3
          ],
          [
           "Sett",
           4
          ],
          [
           "Sett",
           5
          ],
          [
           "Sett",
           6
          ],
          [
           "Sett",
           7
          ],
          [
           "Sett",
           8
          ],
          [
           "Sett",
           9
          ],
          [
           "Sett",
           10
          ],
          [
           "Sett",
           11
          ],
          [
           "Sett",
           12
          ],
          [
           "Sett",
           13
          ],
          [
           "Sett",
           14
          ],
          [
           "Sett",
           15
          ],
          [
           "Sett",
           16
          ],
          [
           "Sett",
           17
          ],
          [
           "Sett",
           18
          ],
          [
           "Sett",
           18
          ]
         ],
         "hovertemplate": "champion=%{customdata[0]}<br>x=%{x}<br>y=%{y}<br>z=%{z}<br>patch=%{customdata[1]}<extra></extra>",
         "legendgroup": "Sett",
         "marker": {
          "color": "#EF553B",
          "size": 5,
          "symbol": "circle"
         },
         "mode": "markers",
         "name": "Sett",
         "scene": "scene",
         "showlegend": true,
         "type": "scatter3d",
         "visible": "legendonly",
         "x": {
          "bdata": "cUE0QV5cr8E/IanBQFaYPz1M3kCzd2DAk/yBwTLzFkIJu29BcwHWQQo3/0AIIDM/OocZQZv8I0JPSn/BUsZdwZaMTsG3UEbBkE0qwACUP8E=",
          "dtype": "f4"
         },
         "y": {
          "bdata": "6z2WwaAXb8Edsxy/dj0iQLWWnEBVMZVBnU7wv6D6gEBxAqrBr9PyQI8itMFjjvY+Lvs0QfaSucFIq+RAyFmjwRC7W8DXYTfB3bVuwRF6IsE=",
          "dtype": "f4"
         },
         "z": {
          "bdata": "HIr6QHPWp0AlkR/BPbQQwqwkzMEiOyBBJo7swZCCXEHUMiDBMOAIwShRe0AwaJtBnzW7wc3ru8DJGwVBHxiewaauvMGc8ShA+f73QP8pVME=",
          "dtype": "f4"
         }
        },
        {
         "customdata": [
          [
           "Lillia",
           0
          ],
          [
           "Lillia",
           1
          ],
          [
           "Lillia",
           2
          ],
          [
           "Lillia",
           3
          ],
          [
           "Lillia",
           4
          ],
          [
           "Lillia",
           5
          ],
          [
           "Lillia",
           6
          ],
          [
           "Lillia",
           7
          ],
          [
           "Lillia",
           8
          ],
          [
           "Lillia",
           9
          ],
          [
           "Lillia",
           10
          ],
          [
           "Lillia",
           11
          ],
          [
           "Lillia",
           12
          ],
          [
           "Lillia",
           13
          ],
          [
           "Lillia",
           14
          ],
          [
           "Lillia",
           15
          ],
          [
           "Lillia",
           16
          ],
          [
           "Lillia",
           17
          ],
          [
           "Lillia",
           18
          ],
          [
           "Lillia",
           18
          ]
         ],
         "hovertemplate": "champion=%{customdata[0]}<br>x=%{x}<br>y=%{y}<br>z=%{z}<br>patch=%{customdata[1]}<extra></extra>",
         "legendgroup": "Lillia",
         "marker": {
          "color": "#00cc96",
          "size": 5,
          "symbol": "circle"
         },
         "mode": "markers",
         "name": "Lillia",
         "scene": "scene",
         "showlegend": true,
         "type": "scatter3d",
         "visible": "legendonly",
         "x": {
          "bdata": "uvWUQQCPkUGnoJLBiCuawQU3psHHcwk+63kVwpy++D+ZIi7B5O7TwOTWaUFx6PdBuwzSQVIHj0ELrqRBrYNYwDjcTUH1bZi/Vb2aQVqlesE=",
          "dtype": "f4"
         },
         "y": {
          "bdata": "2sEZQh1HG0J36LRBakfwQVJpxEGTJYNAgrCQv9ktKEF0rvq/qZ8qQRcNJMLyU2jB/4MiwRrGosBPsijBrGQBwdqTqMG3RAfBVR/EQa8rg8A=",
          "dtype": "f4"
         },
         "z": {
          "bdata": "SDE2wVqWEsG3P5hA5MRWwBWkD8FZEwZAJItvQClCB0IoDTPByug9wUFDy74vUKtBDaLhQfLqWEEM5wNCIrUHQlFBHMLQswtCZPBzQXSnW78=",
          "dtype": "f4"
         }
        },
        {
         "customdata": [
          [
           "Gwen",
           0
          ],
          [
           "Gwen",
           1
          ],
          [
           "Gwen",
           2
          ],
          [
           "Gwen",
           3
          ],
          [
           "Gwen",
           4
          ],
          [
           "Gwen",
           5
          ],
          [
           "Gwen",
           6
          ],
          [
           "Gwen",
           7
          ],
          [
           "Gwen",
           8
          ],
          [
           "Gwen",
           9
          ],
          [
           "Gwen",
           10
          ],
          [
           "Gwen",
           11
          ],
          [
           "Gwen",
           12
          ],
          [
           "Gwen",
           13
          ],
          [
           "Gwen",
           14
          ],
          [
           "Gwen",
           15
          ],
          [
           "Gwen",
           16
          ],
          [
           "Gwen",
           17
          ],
          [
           "Gwen",
           18
          ],
          [
           "Gwen",
           18
          ]
         ],
         "hovertemplate": "champion=%{customdata[0]}<br>x=%{x}<br>y=%{y}<br>z=%{z}<br>patch=%{customdata[1]}<extra></extra>",
         "legendgroup": "Gwen",
         "marker": {
          "color": "#ab63fa",
          "size": 5,
          "symbol": "circle"
         },
         "mode": "markers",
         "name": "Gwen",
         "scene": "scene",
         "showlegend": true,
         "type": "scatter3d",
         "visible": "legendonly",
         "x": {
          "bdata": "GIABwY4H5sFNtTHC2Fo/wWYfEcKDFTPCUuQvwt/4tMCqC5TBvigkQoqR4kGozOxBPdCWv+OtVEBzGf7BuuCgwJo+FcAGi7VAckcvwkxIHkA=",
          "dtype": "f4"
         },
         "y": {
          "bdata": "MCCawXIh4cGjMYhAAJ5uweLwv8BcgyrBRZmmQOueBEK5d4bB+eZfQWm27UBwgV5B+Myev62QOsH5+Y1BLv/kwOGcOULqLXDBjXcWQWcPIcE=",
          "dtype": "f4"
         },
         "z": {
          "bdata": "Go8tQCW1ez94XIHBuCvxwS5Gj8DjzwFBAIiwwaP6wcE/Ds3BwpvIwKglm8Gko8NAh50JQpX/gD+srMRBiHOVQeewpUApb5RASkyqwZ7kScA=",
          "dtype": "f4"
         }
        },
        {
         "customdata": [
          [
           "Renata Glasc",
           0
          ],
          [
           "Renata Glasc",
           1
          ],
          [
           "Renata Glasc",
           2
          ],
          [
           "Renata Glasc",
           3
          ],
          [
           "Renata Glasc",
           4
          ],
          [
           "Renata Glasc",
           5
          ],
          [
           "Renata Glasc",
           6
          ],
          [
           "Renata Glasc",
           7
          ],
          [
           "Renata Glasc",
           8
          ],
          [
           "Renata Glasc",
           9
          ],
          [
           "Renata Glasc",
           10
          ],
          [
           "Renata Glasc",
           11
          ],
          [
           "Renata Glasc",
           12
          ],
          [
           "Renata Glasc",
           13
          ],
          [
           "Renata Glasc",
           14
          ],
          [
           "Renata Glasc",
           15
          ],
          [
           "Renata Glasc",
           16
          ],
          [
           "Renata Glasc",
           17
          ],
          [
           "Renata Glasc",
           18
          ],
          [
           "Renata Glasc",
           18
          ]
         ],
         "hovertemplate": "champion=%{customdata[0]}<br>x=%{x}<br>y=%{y}<br>z=%{z}<br>patch=%{customdata[1]}<extra></extra>",
         "legendgroup": "Renata Glasc",
         "marker": {
          "color": "#FFA15A",
          "size": 5,
          "symbol": "circle"
         },
         "mode": "markers",
         "name": "Renata Glasc",
         "scene": "scene",
         "showlegend": true,
         "type": "scatter3d",
         "visible": "legendonly",
         "x": {
          "bdata": "PXEpQdToLsGot0/BEFctQdpJUUHpbwJC74SEP5JOIUHiHMzAG1ZkwBBYdMB8YN8/xdAqQbrJvL/W3z5A33gZQcKTYsATRu5B+wqnQfFoK0E=",
          "dtype": "f4"
         },
         "y": {
          "bdata": "nKpsQPgNBUJ2Fc9B54jhQfaAGcLlULrBFkKAwTk8tsHIh7rBAueNwfPAo8FrWo9BFjqdQWgtzcDGwJPB1gyxQY/1R0Fr+k7BiniGQegpE0E=",
          "dtype": "f4"
         },
         "z": {
          "bdata": "nGH6QXCxz0GLiew/j1OEQS9+5UCzlIpBLMxtwaF480HOeLFB2rnRQXHsl78GYYFBG+1HQUg4RcL73pzA4R6rQfnUDcKtJAnC4f6tQQSm0j4=",
          "dtype": "f4"
         }
        },
        {
         "customdata": [
          [
           "Leona",
           0
          ],
          [
           "Leona",
           1
          ],
          [
           "Leona",
           2
          ],
          [
           "Leona",
           3
          ],
          [
           "Leona",
           4
          ],
          [
           "Leona",
           5
          ],
          [
           "Leona",
           6
          ],
          [
           "Leona",
           7
          ],
          [
           "Leona",
           8
          ],
          [
           "Leona",
           9
          ],
          [
           "Leona",
           10
          ],
          [
           "Leona",
           11
          ],
          [
           "Leona",
           12
          ],
          [
           "Leona",
           13
          ],
          [
           "Leona",
           14
          ],
          [
           "Leona",
           15
          ],
          [
           "Leona",
           16
          ],
          [
           "Leona",
           17
          ],
          [
           "Leona",
           18
          ],
          [
           "Leona",
           18
          ]
         ],
         "hovertemplate": "champion=%{customdata[0]}<br>x=%{x}<br>y=%{y}<br>z=%{z}<br>patch=%{customdata[1]}<extra></extra>",
         "legendgroup": "Leona",
         "marker": {
          "color": "#19d3f3",
          "size": 5,
          "symbol": "circle"
         },
         "mode": "markers",
         "name": "Leona",
         "scene": "scene",
         "showlegend": true,
         "type": "scatter3d",
         "visible": "legendonly",
         "x": {
          "bdata": "ccJDwTKDDsEs2PDAY3xdwdrgIMHhGSBAqzJMQEs+tEDVtiZB2pVTwcGABUFPdClApx+kQV4TVECx6sNBVnyLQW9EA8ErmYPAzVlrwbfMysA=",
          "dtype": "f4"
         },
         "y": {
          "bdata": "x9ZwwEREUcCxcIrAh10MwkWJc8BaYX1BZ/98Qb/lkEHu5Y1BGInFwSnuOcFkBkPB0+BCwdRXdMHS7JvB2eKWwTJxFELJefTAEbAYwmQpPkE=",
          "dtype": "f4"
         },
         "z": {
          "bdata": "i9Y2wo2yOsI2uTLCf4aowMwaMML4lydBkEPCQesVIcHyVXJB6sP/wIkRhUHnYqBBbxy0Pw3h4kHRVItBM86HQbhfTUFLppnBnv2bwcI/gT8=",
          "dtype": "f4"
         }
        },
        {
         "customdata": [
          [
           "Aurora",
           0
          ],
          [
           "Aurora",
           1
          ],
          [
           "Aurora",
           2
          ],
          [
           "Aurora",
           3
          ],
          [
           "Aurora",
           4
          ],
          [
           "Aurora",
           5
          ],
          [
           "Aurora",
           6
          ],
          [
           "Aurora",
           7
          ],
          [
           "Aurora",
           8
          ],
          [
           "Aurora",
           9
          ],
          [
           "Aurora",
           10
          ],
          [
           "Aurora",
           11
          ],
          [
           "Aurora",
           12
          ],
          [
           "Aurora",
           13
          ],
          [
           "Aurora",
           14
          ],
          [
           "Aurora",
           15
          ],
          [
           "Aurora",
           16
          ],
          [
           "Aurora",
           17
          ],
          [
           "Aurora",
           18
          ],
          [
           "Aurora",
           18
          ]
         ],
         "hovertemplate": "champion=%{customdata[0]}<br>x=%{x}<br>y=%{y}<br>z=%{z}<br>patch=%{customdata[1]}<extra></extra>",
         "legendgroup": "Aurora",
         "marker": {
          "color": "#FF6692",
          "size": 5,
          "symbol": "circle"
         },
         "mode": "markers",
         "name": "Aurora",
         "scene": "scene",
         "showlegend": true,
         "type": "scatter3d",
         "visible": "legendonly",
         "x": {
          "bdata": "mwlcwa8DBMIG3grCGG0hwo9ACcK0W/PBDnnUQW/AA8JNYmVAhd6DQWvw98GsPU7BsLvcwclI20CGyglC7NgPwgwUjEAAt+pAYXf4QZeaC8E=",
          "dtype": "f4"
         },
         "y": {
          "bdata": "cv0XQJ7/usE4h9TBfkVhwTaUoMFQ1L3BHnSZwSe9tcG8oqjBc31TQBpbZcEfxOfBGALNvqfYB0GBHyhB5FaGwRPH90FIvBlAH8OQQN3sZEA=",
          "dtype": "f4"
         },
         "z": {
          "bdata": "8Ylcvg3yOkDkTSFAIzINwRPBy0CFFZxBhc/qQUWj4r98UPVBFRfXQX3q5MD3m67ACKs4wDMJUcGo6wTBnnYJwXEFk8GtbRDBqUyeP34QXsA=",
          "dtype": "f4"
         }
        },
        {
         "customdata": [
          [
           "Nilah",
           0
          ],
          [
           "Nilah",
           1
          ],
          [
           "Nilah",
           2
          ],
          [
           "Nilah",
           3
          ],
          [
           "Nilah",
           4
          ],
          [
           "Nilah",
           5
          ],
          [
           "Nilah",
           6
          ],
          [
           "Nilah",
           7
          ],
          [
           "Nilah",
           8
          ],
          [
           "Nilah",
           9
          ],
          [
           "Nilah",
           10
          ],
          [
           "Nilah",
           11
          ],
          [
           "Nilah",
           12
          ],
          [
           "Nilah",
           13
          ],
          [
           "Nilah",
           14
          ],
          [
           "Nilah",
           15
          ],
          [
           "Nilah",
           16
          ],
          [
           "Nilah",
           17
          ],
          [
           "Nilah",
           18
          ],
          [
           "Nilah",
           18
          ]
         ],
         "hovertemplate": "champion=%{customdata[0]}<br>x=%{x}<br>y=%{y}<br>z=%{z}<br>patch=%{customdata[1]}<extra></extra>",
         "legendgroup": "Nilah",
         "marker": {
          "color": "#B6E880",
          "size": 5,
          "symbol": "circle"
         },
         "mode": "markers",
         "name": "Nilah",
         "scene": "scene",
         "showlegend": true,
         "type": "scatter3d",
         "visible": "legendonly",
         "x": {
          "bdata": "lTp3Pg754kDGgJfB77+pwRInCUJHv8ZBQsJvwW18lsHMXrxAD/GjQfN7/kEUapm/95AawZmlmcHjvi0/ZpDjQFRLBUHPDXfBiaUEwX0epcA=",
          "dtype": "f4"
         },
         "y": {
          "bdata": "7lhxwbLqasEf4dhAh3ehQeL+AcHyv4/AGTv2QS/ho0FKrpnBC6x/Qfid3T9p2VxBYkkjQFEgqEHOVyhBehtfQeFNP0GEjQtBYcLmwHpiD8E=",
          "dtype": "f4"
         },
         "z": {
          "bdata": "sAQrwXZRvD9jwd3B19zmQfJ34cE+WMPBxW1ZQSnrxUEiUxjA8mHXQYLfgMGvJLZBuJWNQXAlgr//d/VALkI0QobeOEJoSNTBGoJywcqyIUE=",
          "dtype": "f4"
         }
        },
        {
         "customdata": [
          [
           "K'Sante",
           0
          ],
          [
           "K'Sante",
           1
          ],
          [
           "K'Sante",
           2
          ],
          [
           "K'Sante",
           3
          ],
          [
           "K'Sante",
           4
          ],
          [
           "K'Sante",
           5
          ],
          [
           "K'Sante",
           6
          ],
          [
           "K'Sante",
           7
          ],
          [
           "K'Sante",
           8
          ],
          [
           "K'Sante",
           9
          ],
          [
           "K'Sante",
           10
          ],
          [
           "K'Sante",
           11
          ],
          [
           "K'Sante",
           12
          ],
          [
           "K'Sante",
           13
          ],
          [
           "K'Sante",
           14
          ],
          [
           "K'Sante",
           15
          ],
          [
           "K'Sante",
           16
          ],
          [
           "K'Sante",
           17
          ],
          [
           "K'Sante",
           18
          ],
          [
           "K'Sante",
           18
          ]
         ],
         "hovertemplate": "champion=%{customdata[0]}<br>x=%{x}<br>y=%{y}<br>z=%{z}<br>patch=%{customdata[1]}<extra></extra>",
         "legendgroup": "K'Sante",
         "marker": {
          "color": "#FF97FF",
          "size": 5,
          "symbol": "circle"
         },
         "mode": "markers",
         "name": "K'Sante",
         "scene": "scene",
         "showlegend": true,
         "type": "scatter3d",
         "visible": "legendonly",
         "x": {
          "bdata": "GYZ0wQhQBUIJY6tBV9seQkmh9D7OqYxBbFXXv4Ku/0EhhF7BneiXwd5q/sCyQunB+6HZwfgUNME3MABCg8fSwNEi/UFwtShCHOLHQcDSuMA=",
          "dtype": "f4"
         },
         "y": {
          "bdata": "7VnPP+AiJkEH0RHBip4OwJgeM0GZr6BAdidiQfKig0EJxK7BxOXTwfQhr8GI2DdAElegwRKx08BxoA1As4qCwQ7n8UBQ0AzAod77wFmFwcA=",
          "dtype": "f4"
         },
         "z": {
          "bdata": "B9xcwCOFcsE6XsA9am4rQIqTh8FCyeDB8o2PwQhpjUGoQJpBf+WWwT58r8AaBB/B0R9kQVT2ZUH4+7FAiILIwAzYa0DwLzxAuYu3QXetKcA=",
          "dtype": "f4"
         }
        },
        {
         "customdata": [
          [
           "Fiddlesticks",
           0
          ],
          [
           "Fiddlesticks",
           1
          ],
          [
           "Fiddlesticks",
           2
          ],
          [
           "Fiddlesticks",
           3
          ],
          [
           "Fiddlesticks",
           4
          ],
          [
           "Fiddlesticks",
           5
          ],
          [
           "Fiddlesticks",
           6
          ],
          [
           "Fiddlesticks",
           7
          ],
          [
           "Fiddlesticks",
           8
          ],
          [
           "Fiddlesticks",
           9
          ],
          [
           "Fiddlesticks",
           10
          ],
          [
           "Fiddlesticks",
           11
          ],
          [
           "Fiddlesticks",
           12
          ],
          [
           "Fiddlesticks",
           13
          ],
          [
           "Fiddlesticks",
           14
          ],
          [
           "Fiddlesticks",
           15
          ],
          [
           "Fiddlesticks",
           16
          ],
          [
           "Fiddlesticks",
           17
          ],
          [
           "Fiddlesticks",
           18
          ],
          [
           "Fiddlesticks",
           18
          ]
         ],
         "hovertemplate": "champion=%{customdata[0]}<br>x=%{x}<br>y=%{y}<br>z=%{z}<br>patch=%{customdata[1]}<extra></extra>",
         "legendgroup": "Fiddlesticks",
         "marker": {
          "color": "#FECB52",
          "size": 5,
          "symbol": "circle"
         },
         "mode": "markers",
         "name": "Fiddlesticks",
         "scene": "scene",
         "showlegend": true,
         "type": "scatter3d",
         "visible": "legendonly",
         "x": {
          "bdata": "uLPZwCw5j8FONgPBnzTewFmyUUGREQlCD8uYQRhQz0GSl61AY4EDwn7dW0CbsjvBBnGewcCsNcLQ0jTCOw6lwSL4N755elzB1m1xwQ8rJME=",
          "dtype": "f4"
         },
         "y": {
          "bdata": "Y8DFQIIUxsCBq7FBhukSQv+InEHapzrBiW3hP1CZcj9ft9xAQxDFwNnqtsCMrNBAMoeawbC4kkCRCaRACZ8wQsCJ90DvKF1BB/fGQD9diUA=",
          "dtype": "f4"
         },
         "z": {
          "bdata": "6zC1wQj0wsGYg6PBdRfaQXDh7kBN7jhBWjD6QSCd7kGmcc/BwpKQPm92rsHhz7HBHQg7wEeg+r9yCwFA23SAPqGIG8JPpw/C2CQmwoxgr8E=",
          "dtype": "f4"
         }
        },
        {
         "customdata": [
          [
           "Malzahar",
           0
          ],
          [
           "Malzahar",
           1
          ],
          [
           "Malzahar",
           2
          ],
          [
           "Malzahar",
           3
          ],
          [
           "Malzahar",
           4
          ],
          [
           "Malzahar",
           5
          ],
          [
           "Malzahar",
           6
          ],
          [
           "Malzahar",
           7
          ],
          [
           "Malzahar",
           8
          ],
          [
           "Malzahar",
           9
          ],
          [
           "Malzahar",
           10
          ],
          [
           "Malzahar",
           11
          ],
          [
           "Malzahar",
           12
          ],
          [
           "Malzahar",
           13
          ],
          [
           "Malzahar",
           14
          ],
          [
           "Malzahar",
           15
          ],
          [
           "Malzahar",
           16
          ],
          [
           "Malzahar",
           17
          ],
          [
           "Malzahar",
           18
          ],
          [
           "Malzahar",
           18
          ]
         ],
         "hovertemplate": "champion=%{customdata[0]}<br>x=%{x}<br>y=%{y}<br>z=%{z}<br>patch=%{customdata[1]}<extra></extra>",
         "legendgroup": "Malzahar",
         "marker": {
          "color": "#636efa",
          "size": 5,
          "symbol": "circle"
         },
         "mode": "markers",
         "name": "Malzahar",
         "scene": "scene",
         "showlegend": true,
         "type": "scatter3d",
         "visible": "legendonly",
         "x": {
          "bdata": "MZRBQbWANEFbS65BJOs1Qm2EmkHUYpJBJOdkQPuYhED/oGTBo8sYQg/hGkJfOww9D8oYQeoujEB7aFfBLUiVwdQnYMGJuvJA7ElsQaCWvsE=",
          "dtype": "f4"
         },
         "y": {
          "bdata": "9mYdQgz82kEMN/zAGofUP0/RmcHMwDvBSVzCQahS4sFQPKlBOKdUvtp5BMB2TdvB3IEowVAMxcAuH53BsOi9Qenjuj8A+wbB/xn3wc/3HUA=",
          "dtype": "f4"
         },
         "z": {
          "bdata": "YiFaQRZ5FcGANMHBBq1AQUNlK8HnwbHBZkFkwTfTPsGk6KzBmptdQdzzZUFm1FTBCgaFwP8SF0JiBOJB5mWAwcpNdUEwx/1BBYQhwb/1gcA=",
          "dtype": "f4"
         }
        },
        {
         "customdata": [
          [
           "Smolder",
           0
          ],
          [
           "Smolder",
           1
          ],
          [
           "Smolder",
           2
          ],
          [
           "Smolder",
           3
          ],
          [
           "Smolder",
           4
          ],
          [
           "Smolder",
           5
          ],
          [
           "Smolder",
           6
          ],
          [
           "Smolder",
           7
          ],
          [
           "Smolder",
           8
          ],
          [
           "Smolder",
           9
          ],
          [
           "Smolder",
           10
          ],
          [
           "Smolder",
           11
          ],
          [
           "Smolder",
           12
          ],
          [
           "Smolder",
           13
          ],
          [
           "Smolder",
           14
          ],
          [
           "Smolder",
           15
          ],
          [
           "Smolder",
           16
          ],
          [
           "Smolder",
           17
          ],
          [
           "Smolder",
           18
          ],
          [
           "Smolder",
           18
          ]
         ],
         "hovertemplate": "champion=%{customdata[0]}<br>x=%{x}<br>y=%{y}<br>z=%{z}<br>patch=%{customdata[1]}<extra></extra>",
         "legendgroup": "Smolder",
         "marker": {
          "color": "#EF553B",
          "size": 5,
          "symbol": "circle"
         },
         "mode": "markers",
         "name": "Smolder",
         "scene": "scene",
         "showlegend": true,
         "type": "scatter3d",
         "visible": "legendonly",
         "x": {
          "bdata": "1YoswGCRkMFW2DjCXRsNwst7FcLkERhAE2jnQfTCM0INxh5CNxiDQUlCKELTI/BBEuAmQv5Pt0GcpwdCHna+QJuBhEH/IedB62qcwfzQ3UA=",
          "dtype": "f4"
         },
         "y": {
          "bdata": "9dgfQcTFG0G4/0lARg8EwAy8CMBcygZCzQ1UwaY8h0EMpJpBltYKwWC3n0HNhadAnpjmQOedkEH7brZBGVrvP4ObsEFKL7+/L8taQXQ24sA=",
          "dtype": "f4"
         },
         "z": {
          "bdata": "wMlJQVWA+0H0IbLAsS+MQX0CkkHQx8vB3Ku0wcThR0EzJdM+sbXdwSbTiECCs6a/bfupQQI3nsEru4O/2wFewU2B6L/Z4dxBQHkRQuXG0EA=",
          "dtype": "f4"
         }
        },
        {
         "customdata": [
          [
           "Milio",
           0
          ],
          [
           "Milio",
           1
          ],
          [
           "Milio",
           2
          ],
          [
           "Milio",
           3
          ],
          [
           "Milio",
           4
          ],
          [
           "Milio",
           5
          ],
          [
           "Milio",
           6
          ],
          [
           "Milio",
           7
          ],
          [
           "Milio",
           8
          ],
          [
           "Milio",
           9
          ],
          [
           "Milio",
           10
          ],
          [
           "Milio",
           11
          ],
          [
           "Milio",
           12
          ],
          [
           "Milio",
           13
          ],
          [
           "Milio",
           14
          ],
          [
           "Milio",
           15
          ],
          [
           "Milio",
           16
          ],
          [
           "Milio",
           17
          ],
          [
           "Milio",
           18
          ],
          [
           "Milio",
           18
          ]
         ],
         "hovertemplate": "champion=%{customdata[0]}<br>x=%{x}<br>y=%{y}<br>z=%{z}<br>patch=%{customdata[1]}<extra></extra>",
         "legendgroup": "Milio",
         "marker": {
          "color": "#00cc96",
          "size": 5,
          "symbol": "circle"
         },
         "mode": "markers",
         "name": "Milio",
         "scene": "scene",
         "showlegend": true,
         "type": "scatter3d",
         "visible": "legendonly",
         "x": {
          "bdata": "wVI6wZHJA0GdVQ/BXBnyQeN38kAUWF5BdTwUQVw880DLLxLBQtnfwZsydcDVVzjB4rr+wMjOBsGYCqXBRZxCwfJIhUHGIGPBpfCAQCAOH0E=",
          "dtype": "f4"
         },
         "y": {
          "bdata": "E9P/wHyYtcGHUw9C7ZDJQfLuNcHkO7RBrJ+FQSHPokEPo5NBkkXsPx7wIb44EeXBj/e0QT52GEK6phZBGtV4QP7T10EESO1AwipGQGXBCEA=",
          "dtype": "f4"
         },
         "z": {
          "bdata": "iGevwM88q0FWCXZBlg5wQFEYDMK8Uf0/O3/dQTSbzkEqcPNAad4oQX+WXEECDCfBHu5PQDR4G0GsTXnBG1mTwbvJ7sE2l1LBKAEhQZB8ykA=",
          "dtype": "f4"
         }
        },
        {
         "customdata": [
          [
           "Talon",
           0
          ],
          [
           "Talon",
           1
          ],
          [
           "Talon",
           2
          ],
          [
           "Talon",
           3
          ],
          [
           "Talon",
           4
          ],
          [
           "Talon",
           5
          ],
          [
           "Talon",
           6
          ],
          [
           "Talon",
           7
          ],
          [
           "Talon",
           8
          ],
          [
           "Talon",
           9
          ],
          [
           "Talon",
           10
          ],
          [
           "Talon",
           11
          ],
          [
           "Talon",
           12
          ],
          [
           "Talon",
           13
          ],
          [
           "Talon",
           14
          ],
          [
           "Talon",
           15
          ],
          [
           "Talon",
           16
          ],
          [
           "Talon",
           17
          ],
          [
           "Talon",
           18
          ],
          [
           "Talon",
           18
          ]
         ],
         "hovertemplate": "champion=%{customdata[0]}<br>x=%{x}<br>y=%{y}<br>z=%{z}<br>patch=%{customdata[1]}<extra></extra>",
         "legendgroup": "Talon",
         "marker": {
          "color": "#ab63fa",
          "size": 5,
          "symbol": "circle"
         },
         "mode": "markers",
         "name": "Talon",
         "scene": "scene",
         "showlegend": true,
         "type": "scatter3d",
         "visible": "legendonly",
         "x": {
          "bdata": "mAWvQFUeqUBsZQLCub4JQt8rScGLiKvB9C5SPx8GAsFnPA5CoiZZQWS0WMHVGBbCimoLwtTS+8HDNw7BPMVtwQ6R60EdOYPBR9YPwsltz8E=",
          "dtype": "f4"
         },
         "y": {
          "bdata": "O+nCQY90tEEcKMBBhbnHQRRMp8CIvbzBfekWwtQA8sDydFy/Z3rBv4zE58ChXnM/P/WUQMm8r0EXPt5BcdD9P6Rq7UFWT5/Ao0XHPyqMrUA=",
          "dtype": "f4"
         },
         "z": {
          "bdata": "b8IYwWdYFEKfxKY8GMKOv7TygkGkKSdBjOs5QaMwscHj1UfBqlTDvrjCiEFvMd1AJbApQfQIlb5oBWlBmHYeQW9Azb/zmBpB22sZQddTK0E=",
          "dtype": "f4"
         }
        },
        {
         "customdata": [
          [
           "Hwei",
           0
          ],
          [
           "Hwei",
           1
          ],
          [
           "Hwei",
           2
          ],
          [
           "Hwei",
           3
          ],
          [
           "Hwei",
           4
          ],
          [
           "Hwei",
           5
          ],
          [
           "Hwei",
           6
          ],
          [
           "Hwei",
           7
          ],
          [
           "Hwei",
           8
          ],
          [
           "Hwei",
           9
          ],
          [
           "Hwei",
           10
          ],
          [
           "Hwei",
           11
          ],
          [
           "Hwei",
           12
          ],
          [
           "Hwei",
           13
          ],
          [
           "Hwei",
           14
          ],
          [
           "Hwei",
           15
          ],
          [
           "Hwei",
           16
          ],
          [
           "Hwei",
           17
          ],
          [
           "Hwei",
           18
          ],
          [
           "Hwei",
           18
          ]
         ],
         "hovertemplate": "champion=%{customdata[0]}<br>x=%{x}<br>y=%{y}<br>z=%{z}<br>patch=%{customdata[1]}<extra></extra>",
         "legendgroup": "Hwei",
         "marker": {
          "color": "#FFA15A",
          "size": 5,
          "symbol": "circle"
         },
         "mode": "markers",
         "name": "Hwei",
         "scene": "scene",
         "showlegend": true,
         "type": "scatter3d",
         "visible": "legendonly",
         "x": {
          "bdata": "15frQcXZIEHNuHFB+eO/wZ+nssGMiqvBJl9lQVshqMG7OcvBE79xwU/arsFr2s3AE+0pwa1j58GlsUHBt2aHwbuXAEJi6XhBDMg/QTQDRME=",
          "dtype": "f4"
         },
         "y": {
          "bdata": "wTK9Qbm94UEqDyvBlX24QQvZu0GvJcHAnYALwYrMn8Cj9GE/zoPEvycuv8GTAbpAApJAQcrTHD6mmCHBIeivQYEIbcFant5B5l/HQTBqOsA=",
          "dtype": "f4"
         },
         "z": {
          "bdata": "+1uPwTyzy8DCwldBs1c7QTy6YEH7fPfBud2AQeoGE8JyEdxBadX6QWeEdkE8lt/BReSTwTQCosE8awJBKLaVwfHE+MHRZ2LBF9M2wQxXp8A=",
          "dtype": "f4"
         }
        },
        {
         "customdata": [
          [
           "Riven",
           0
          ],
          [
           "Riven",
           1
          ],
          [
           "Riven",
           2
          ],
          [
           "Riven",
           3
          ],
          [
           "Riven",
           4
          ],
          [
           "Riven",
           5
          ],
          [
           "Riven",
           6
          ],
          [
           "Riven",
           7
          ],
          [
           "Riven",
           8
          ],
          [
           "Riven",
           9
          ],
          [
           "Riven",
           10
          ],
          [
           "Riven",
           11
          ],
          [
           "Riven",
           12
          ],
          [
           "Riven",
           13
          ],
          [
           "Riven",
           14
          ],
          [
           "Riven",
           15
          ],
          [
           "Riven",
           16
          ],
          [
           "Riven",
           17
          ],
          [
           "Riven",
           18
          ],
          [
           "Riven",
           18
          ]
         ],
         "hovertemplate": "champion=%{customdata[0]}<br>x=%{x}<br>y=%{y}<br>z=%{z}<br>patch=%{customdata[1]}<extra></extra>",
         "legendgroup": "Riven",
         "marker": {
          "color": "#19d3f3",
          "size": 5,
          "symbol": "circle"
         },
         "mode": "markers",
         "name": "Riven",
         "scene": "scene",
         "showlegend": true,
         "type": "scatter3d",
         "visible": "legendonly",
         "x": {
          "bdata": "PZnmwXid58FF3alB6R/ZwbLs48GzYebBWvuoQRRADkK3bJpBtf6vwbAA1MGVbb/BC2y5wUO1jsEmurHBa2RPwfj52MHHjtvBExz4wboj18A=",
          "dtype": "f4"
         },
         "y": {
          "bdata": "kv+2wdFEzMEIttfBnWW0wI970sGDDNPBpNAPvt02s8EnatfAI0XlwWXR7sGP7czBD3HdwaPoCcKyB9TBTueewchsx8E23OXBeUT9wdJ2OL8=",
          "dtype": "f4"
         },
         "z": {
          "bdata": "+ChHQYq8qkHIwIxBulU0wG8Lu0GDGs1BUecWwVc+OEBb05RAY+CTQYOJC0E5cmVBc4wqQcy/fEHgAZ7Au5wFQcdtQkF8EXRBIIyXP++Pp0A=",
          "dtype": "f4"
         }
        },
        {
         "customdata": [
          [
           "Naafiri",
           0
          ],
          [
           "Naafiri",
           1
          ],
          [
           "Naafiri",
           2
          ],
          [
           "Naafiri",
           3
          ],
          [
           "Naafiri",
           4
          ],
          [
           "Naafiri",
           5
          ],
          [
           "Naafiri",
           6
          ],
          [
           "Naafiri",
           7
          ],
          [
           "Naafiri",
           8
          ],
          [
           "Naafiri",
           9
          ],
          [
           "Naafiri",
           10
          ],
          [
           "Naafiri",
           11
          ],
          [
           "Naafiri",
           12
          ],
          [
           "Naafiri",
           13
          ],
          [
           "Naafiri",
           14
          ],
          [
           "Naafiri",
           15
          ],
          [
           "Naafiri",
           16
          ],
          [
           "Naafiri",
           17
          ],
          [
           "Naafiri",
           18
          ],
          [
           "Naafiri",
           18
          ]
         ],
         "hovertemplate": "champion=%{customdata[0]}<br>x=%{x}<br>y=%{y}<br>z=%{z}<br>patch=%{customdata[1]}<extra></extra>",
         "legendgroup": "Naafiri",
         "marker": {
          "color": "#FF6692",
          "size": 5,
          "symbol": "circle"
         },
         "mode": "markers",
         "name": "Naafiri",
         "scene": "scene",
         "showlegend": true,
         "type": "scatter3d",
         "visible": "legendonly",
         "x": {
          "bdata": "+/CmwAB4gkHe1KpBKH+tQSbvxUElsEZBuJiYQb8/M0ErXIvBmfvawWvlFsId9dRA/U2/QKA02EEew1JBW7mSQSAnmMHaLtfBdFywwUUOjME=",
          "dtype": "f4"
         },
         "y": {
          "bdata": "WNPXwQloIcLNkRXCFQAewjVt9cFXfwTC1EXswQSIz8EzvQjCRarkwYhIBMEO/GpBMFDSQPmW/MDEZPjBeTgqwjgU08GKx0DBP/wbQu6CSsE=",
          "dtype": "f4"
         },
         "z": {
          "bdata": "ZOCLQXyfIsFEHeTAkg4SwTwtZ0GY2rLBZrSLQXl848GptajB81OcwH8VQsGPG5vAirYKQs2CLUFYmbTBmwkMwXhvrkFnpRlBqD53QK2tg0E=",
          "dtype": "f4"
         }
        },
        {
         "customdata": [
          [
           "Kog'Maw",
           0
          ],
          [
           "Kog'Maw",
           1
          ],
          [
           "Kog'Maw",
           2
          ],
          [
           "Kog'Maw",
           3
          ],
          [
           "Kog'Maw",
           4
          ],
          [
           "Kog'Maw",
           5
          ],
          [
           "Kog'Maw",
           6
          ],
          [
           "Kog'Maw",
           7
          ],
          [
           "Kog'Maw",
           8
          ],
          [
           "Kog'Maw",
           9
          ],
          [
           "Kog'Maw",
           10
          ],
          [
           "Kog'Maw",
           11
          ],
          [
           "Kog'Maw",
           12
          ],
          [
           "Kog'Maw",
           13
          ],
          [
           "Kog'Maw",
           14
          ],
          [
           "Kog'Maw",
           15
          ],
          [
           "Kog'Maw",
           16
          ],
          [
           "Kog'Maw",
           17
          ],
          [
           "Kog'Maw",
           18
          ],
          [
           "Kog'Maw",
           18
          ]
         ],
         "hovertemplate": "champion=%{customdata[0]}<br>x=%{x}<br>y=%{y}<br>z=%{z}<br>patch=%{customdata[1]}<extra></extra>",
         "legendgroup": "Kog'Maw",
         "marker": {
          "color": "#B6E880",
          "size": 5,
          "symbol": "circle"
         },
         "mode": "markers",
         "name": "Kog'Maw",
         "scene": "scene",
         "showlegend": true,
         "type": "scatter3d",
         "visible": "legendonly",
         "x": {
          "bdata": "F/VnQRljh0EKQB+/0WM8wa1x38Broq9B8uylQJR2bsFwV53ByGUAwvdbA8IC/oxBDZMRQhvzSMEZhatBF+B2wNq0Cb87pMrB4YqUwL9dAkE=",
          "dtype": "f4"
         },
         "y": {
          "bdata": "d8ZQQR5WakEEtnNBBBmxwAQrMUGs3ZnBE02twZg5xUAIT2LA5U5mwJ6ZhsAsVpHAu7/SQey0q7+HKNFBISH9QTIoSsEFDbRAjDbzQYKAVUA=",
          "dtype": "f4"
         },
         "z": {
          "bdata": "TUXuwVOp7cHSesZBiHKawVEh0EFh8qfBiBKSwXTB1UGsdldBlOblQaFu+UFRsCfCg8H7wOdpzMFxp9HBz+UpQYlRHMFai69B3TY1wQIvG0E=",
          "dtype": "f4"
         }
        },
        {
         "customdata": [
          [
           "Shen",
           0
          ],
          [
           "Shen",
           1
          ],
          [
           "Shen",
           2
          ],
          [
           "Shen",
           3
          ],
          [
           "Shen",
           4
          ],
          [
           "Shen",
           5
          ],
          [
           "Shen",
           6
          ],
          [
           "Shen",
           7
          ],
          [
           "Shen",
           8
          ],
          [
           "Shen",
           9
          ],
          [
           "Shen",
           10
          ],
          [
           "Shen",
           11
          ],
          [
           "Shen",
           12
          ],
          [
           "Shen",
           13
          ],
          [
           "Shen",
           14
          ],
          [
           "Shen",
           15
          ],
          [
           "Shen",
           16
          ],
          [
           "Shen",
           17
          ],
          [
           "Shen",
           18
          ],
          [
           "Shen",
           18
          ]
         ],
         "hovertemplate": "champion=%{customdata[0]}<br>x=%{x}<br>y=%{y}<br>z=%{z}<br>patch=%{customdata[1]}<extra></extra>",
         "legendgroup": "Shen",
         "marker": {
          "color": "#FF97FF",
          "size": 5,
          "symbol": "circle"
         },
         "mode": "markers",
         "name": "Shen",
         "scene": "scene",
         "showlegend": true,
         "type": "scatter3d",
         "visible": "legendonly",
         "x": {
          "bdata": "fo/5wEyKu8AJLpzBCw6cwAxdFcEP3ye/4s8Cwh1yHsLPugfC09i5wYVCy8EeTCDBBVP9wfzsjUEyIbXBfjeAwdJFLEAudABBm02oQXPJU8E=",
          "dtype": "f4"
         },
         "y": {
          "bdata": "OCE7wbltXMHwnorBNSauwS6flUEBfBhBQ6q/QFKvT0FUt2e+mBEHwpi/AUFi8drBXoGoQMuSTcBBBodAa0wGP5ONZ8FQ3RbBkBQ9QWOw6sA=",
          "dtype": "f4"
         },
         "z": {
          "bdata": "a355wZ3gOcGistFBOrfdQcjTFEJRoQfBOg7jwd5GjMAQTErBkPNdwbH8D8GE9o++VvTkwGhy1MEBscvAoJsNwSxvA0KmuRrBafAFwg8a5UA=",
          "dtype": "f4"
         }
        },
        {
         "customdata": [
          [
           "Lux",
           0
          ],
          [
           "Lux",
           1
          ],
          [
           "Lux",
           2
          ],
          [
           "Lux",
           3
          ],
          [
           "Lux",
           4
          ],
          [
           "Lux",
           5
          ],
          [
           "Lux",
           6
          ],
          [
           "Lux",
           7
          ],
          [
           "Lux",
           8
          ],
          [
           "Lux",
           9
          ],
          [
           "Lux",
           10
          ],
          [
           "Lux",
           11
          ],
          [
           "Lux",
           12
          ],
          [
           "Lux",
           13
          ],
          [
           "Lux",
           14
          ],
          [
           "Lux",
           15
          ],
          [
           "Lux",
           16
          ],
          [
           "Lux",
           17
          ],
          [
           "Lux",
           18
          ],
          [
           "Lux",
           18
          ]
         ],
         "hovertemplate": "champion=%{customdata[0]}<br>x=%{x}<br>y=%{y}<br>z=%{z}<br>patch=%{customdata[1]}<extra></extra>",
         "legendgroup": "Lux",
         "marker": {
          "color": "#FECB52",
          "size": 5,
          "symbol": "circle"
         },
         "mode": "markers",
         "name": "Lux",
         "scene": "scene",
         "showlegend": true,
         "type": "scatter3d",
         "visible": "legendonly",
         "x": {
          "bdata": "/4QUwYb37MFhdYBBjmpJPxMmrsCdBQTA8JSowRqv1cHY2tfBcxuewWaA9cFkzZXAcfmAQb6iUsF56NrA2LJ9QDjP1EEqzmhB/cQHv+xzysA=",
          "dtype": "f4"
         },
         "y": {
          "bdata": "Ek17QXX4pUEP4WHBqTDrQaOApUH/vcDBSLNRQTij3UAORX1A3FgRwCWZLUE27mFBN2ADQSrABUEe6MJAJ3oNQVBfUsDK80rB2cmjQccMlEA=",
          "dtype": "f4"
         },
         "z": {
          "bdata": "HUcCQYmZrcF77yZCFqlTwZKsnEDeq9LBYDfWwXheAEJg4NhBHeg+wXjqO8Hgn9NBPZPVQC4pVUHHW3dBVf8GQiIJJUEOIwnA0xl0QANagsA=",
          "dtype": "f4"
         }
        },
        {
         "customdata": [
          [
           "UNKNOWN",
           0
          ],
          [
           "UNKNOWN",
           1
          ],
          [
           "UNKNOWN",
           2
          ],
          [
           "UNKNOWN",
           3
          ],
          [
           "UNKNOWN",
           4
          ],
          [
           "UNKNOWN",
           5
          ],
          [
           "UNKNOWN",
           6
          ],
          [
           "UNKNOWN",
           7
          ],
          [
           "UNKNOWN",
           8
          ],
          [
           "UNKNOWN",
           9
          ],
          [
           "UNKNOWN",
           10
          ],
          [
           "UNKNOWN",
           11
          ],
          [
           "UNKNOWN",
           12
          ],
          [
           "UNKNOWN",
           13
          ],
          [
           "UNKNOWN",
           14
          ],
          [
           "UNKNOWN",
           15
          ],
          [
           "UNKNOWN",
           16
          ],
          [
           "UNKNOWN",
           17
          ],
          [
           "UNKNOWN",
           18
          ],
          [
           "UNKNOWN",
           18
          ]
         ],
         "hovertemplate": "champion=%{customdata[0]}<br>x=%{x}<br>y=%{y}<br>z=%{z}<br>patch=%{customdata[1]}<extra></extra>",
         "legendgroup": "UNKNOWN",
         "marker": {
          "color": "#636efa",
          "size": 5,
          "symbol": "circle"
         },
         "mode": "markers",
         "name": "UNKNOWN",
         "scene": "scene",
         "showlegend": true,
         "type": "scatter3d",
         "visible": "legendonly",
         "x": {
          "bdata": "x7uzwO6UjMCMu8DAKBCvwGAX8cBt2hTBalw5wU+XO8E4/zfBBr7uwHfFJ8EI0UHB7dFnwRQ6ecG4cILBCWNjwTK6QcE2A2fBMAhVwZk5rMA=",
          "dtype": "f4"
         },
         "y": {
          "bdata": "5zYqQZIQMUFBhEhB63MiQfDAIEEwvCtBudMxQS0OVkF8AjlBbXwlQWNHIkHFHQZB128cQf2R70CWo/pApG3rQK3gykA2kqVA36G8QDCWUsA=",
          "dtype": "f4"
         },
         "z": {
          "bdata": "/Z7BwFBVdcAOXVLAPHTEv+dpSMD+JoK/56DWPjOKl8C2YHrArAxXQBC7ekD534FAApY2QJhYPkCUd+w+6zzEv+ysyr6uIu2+h3bgP64o8j8=",
          "dtype": "f4"
         }
        }
       ],
       "layout": {
        "height": 1000,
        "legend": {
         "title": {
          "text": "champion"
         },
         "tracegroupgap": 0
        },
        "scene": {
         "domain": {
          "x": [
           0,
           1
          ],
          "y": [
           0,
           1
          ]
         },
         "xaxis": {
          "title": {
           "text": "t-SNE 1"
          }
         },
         "yaxis": {
          "title": {
           "text": "t-SNE 2"
          }
         },
         "zaxis": {
          "title": {
           "text": "t-SNE 3"
          }
         }
        },
        "template": {
         "data": {
          "bar": [
           {
            "error_x": {
             "color": "#2a3f5f"
            },
            "error_y": {
             "color": "#2a3f5f"
            },
            "marker": {
             "line": {
              "color": "#E5ECF6",
              "width": 0.5
             },
             "pattern": {
              "fillmode": "overlay",
              "size": 10,
              "solidity": 0.2
             }
            },
            "type": "bar"
           }
          ],
          "barpolar": [
           {
            "marker": {
             "line": {
              "color": "#E5ECF6",
              "width": 0.5
             },
             "pattern": {
              "fillmode": "overlay",
              "size": 10,
              "solidity": 0.2
             }
            },
            "type": "barpolar"
           }
          ],
          "carpet": [
           {
            "aaxis": {
             "endlinecolor": "#2a3f5f",
             "gridcolor": "white",
             "linecolor": "white",
             "minorgridcolor": "white",
             "startlinecolor": "#2a3f5f"
            },
            "baxis": {
             "endlinecolor": "#2a3f5f",
             "gridcolor": "white",
             "linecolor": "white",
             "minorgridcolor": "white",
             "startlinecolor": "#2a3f5f"
            },
            "type": "carpet"
           }
          ],
          "choropleth": [
           {
            "colorbar": {
             "outlinewidth": 0,
             "ticks": ""
            },
            "type": "choropleth"
           }
          ],
          "contour": [
           {
            "colorbar": {
             "outlinewidth": 0,
             "ticks": ""
            },
            "colorscale": [
             [
              0,
              "#0d0887"
             ],
             [
              0.1111111111111111,
              "#46039f"
             ],
             [
              0.2222222222222222,
              "#7201a8"
             ],
             [
              0.3333333333333333,
              "#9c179e"
             ],
             [
              0.4444444444444444,
              "#bd3786"
             ],
             [
              0.5555555555555556,
              "#d8576b"
             ],
             [
              0.6666666666666666,
              "#ed7953"
             ],
             [
              0.7777777777777778,
              "#fb9f3a"
             ],
             [
              0.8888888888888888,
              "#fdca26"
             ],
             [
              1,
              "#f0f921"
             ]
            ],
            "type": "contour"
           }
          ],
          "contourcarpet": [
           {
            "colorbar": {
             "outlinewidth": 0,
             "ticks": ""
            },
            "type": "contourcarpet"
           }
          ],
          "heatmap": [
           {
            "colorbar": {
             "outlinewidth": 0,
             "ticks": ""
            },
            "colorscale": [
             [
              0,
              "#0d0887"
             ],
             [
              0.1111111111111111,
              "#46039f"
             ],
             [
              0.2222222222222222,
              "#7201a8"
             ],
             [
              0.3333333333333333,
              "#9c179e"
             ],
             [
              0.4444444444444444,
              "#bd3786"
             ],
             [
              0.5555555555555556,
              "#d8576b"
             ],
             [
              0.6666666666666666,
              "#ed7953"
             ],
             [
              0.7777777777777778,
              "#fb9f3a"
             ],
             [
              0.8888888888888888,
              "#fdca26"
             ],
             [
              1,
              "#f0f921"
             ]
            ],
            "type": "heatmap"
           }
          ],
          "histogram": [
           {
            "marker": {
             "pattern": {
              "fillmode": "overlay",
              "size": 10,
              "solidity": 0.2
             }
            },
            "type": "histogram"
           }
          ],
          "histogram2d": [
           {
            "colorbar": {
             "outlinewidth": 0,
             "ticks": ""
            },
            "colorscale": [
             [
              0,
              "#0d0887"
             ],
             [
              0.1111111111111111,
              "#46039f"
             ],
             [
              0.2222222222222222,
              "#7201a8"
             ],
             [
              0.3333333333333333,
              "#9c179e"
             ],
             [
              0.4444444444444444,
              "#bd3786"
             ],
             [
              0.5555555555555556,
              "#d8576b"
             ],
             [
              0.6666666666666666,
              "#ed7953"
             ],
             [
              0.7777777777777778,
              "#fb9f3a"
             ],
             [
              0.8888888888888888,
              "#fdca26"
             ],
             [
              1,
              "#f0f921"
             ]
            ],
            "type": "histogram2d"
           }
          ],
          "histogram2dcontour": [
           {
            "colorbar": {
             "outlinewidth": 0,
             "ticks": ""
            },
            "colorscale": [
             [
              0,
              "#0d0887"
             ],
             [
              0.1111111111111111,
              "#46039f"
             ],
             [
              0.2222222222222222,
              "#7201a8"
             ],
             [
              0.3333333333333333,
              "#9c179e"
             ],
             [
              0.4444444444444444,
              "#bd3786"
             ],
             [
              0.5555555555555556,
              "#d8576b"
             ],
             [
              0.6666666666666666,
              "#ed7953"
             ],
             [
              0.7777777777777778,
              "#fb9f3a"
             ],
             [
              0.8888888888888888,
              "#fdca26"
             ],
             [
              1,
              "#f0f921"
             ]
            ],
            "type": "histogram2dcontour"
           }
          ],
          "mesh3d": [
           {
            "colorbar": {
             "outlinewidth": 0,
             "ticks": ""
            },
            "type": "mesh3d"
           }
          ],
          "parcoords": [
           {
            "line": {
             "colorbar": {
              "outlinewidth": 0,
              "ticks": ""
             }
            },
            "type": "parcoords"
           }
          ],
          "pie": [
           {
            "automargin": true,
            "type": "pie"
           }
          ],
          "scatter": [
           {
            "fillpattern": {
             "fillmode": "overlay",
             "size": 10,
             "solidity": 0.2
            },
            "type": "scatter"
           }
          ],
          "scatter3d": [
           {
            "line": {
             "colorbar": {
              "outlinewidth": 0,
              "ticks": ""
             }
            },
            "marker": {
             "colorbar": {
              "outlinewidth": 0,
              "ticks": ""
             }
            },
            "type": "scatter3d"
           }
          ],
          "scattercarpet": [
           {
            "marker": {
             "colorbar": {
              "outlinewidth": 0,
              "ticks": ""
             }
            },
            "type": "scattercarpet"
           }
          ],
          "scattergeo": [
           {
            "marker": {
             "colorbar": {
              "outlinewidth": 0,
              "ticks": ""
             }
            },
            "type": "scattergeo"
           }
          ],
          "scattergl": [
           {
            "marker": {
             "colorbar": {
              "outlinewidth": 0,
              "ticks": ""
             }
            },
            "type": "scattergl"
           }
          ],
          "scattermap": [
           {
            "marker": {
             "colorbar": {
              "outlinewidth": 0,
              "ticks": ""
             }
            },
            "type": "scattermap"
           }
          ],
          "scattermapbox": [
           {
            "marker": {
             "colorbar": {
              "outlinewidth": 0,
              "ticks": ""
             }
            },
            "type": "scattermapbox"
           }
          ],
          "scatterpolar": [
           {
            "marker": {
             "colorbar": {
              "outlinewidth": 0,
              "ticks": ""
             }
            },
            "type": "scatterpolar"
           }
          ],
          "scatterpolargl": [
           {
            "marker": {
             "colorbar": {
              "outlinewidth": 0,
              "ticks": ""
             }
            },
            "type": "scatterpolargl"
           }
          ],
          "scatterternary": [
           {
            "marker": {
             "colorbar": {
              "outlinewidth": 0,
              "ticks": ""
             }
            },
            "type": "scatterternary"
           }
          ],
          "surface": [
           {
            "colorbar": {
             "outlinewidth": 0,
             "ticks": ""
            },
            "colorscale": [
             [
              0,
              "#0d0887"
             ],
             [
              0.1111111111111111,
              "#46039f"
             ],
             [
              0.2222222222222222,
              "#7201a8"
             ],
             [
              0.3333333333333333,
              "#9c179e"
             ],
             [
              0.4444444444444444,
              "#bd3786"
             ],
             [
              0.5555555555555556,
              "#d8576b"
             ],
             [
              0.6666666666666666,
              "#ed7953"
             ],
             [
              0.7777777777777778,
              "#fb9f3a"
             ],
             [
              0.8888888888888888,
              "#fdca26"
             ],
             [
              1,
              "#f0f921"
             ]
            ],
            "type": "surface"
           }
          ],
          "table": [
           {
            "cells": {
             "fill": {
              "color": "#EBF0F8"
             },
             "line": {
              "color": "white"
             }
            },
            "header": {
             "fill": {
              "color": "#C8D4E3"
             },
             "line": {
              "color": "white"
             }
            },
            "type": "table"
           }
          ]
         },
         "layout": {
          "annotationdefaults": {
           "arrowcolor": "#2a3f5f",
           "arrowhead": 0,
           "arrowwidth": 1
          },
          "autotypenumbers": "strict",
          "coloraxis": {
           "colorbar": {
            "outlinewidth": 0,
            "ticks": ""
           }
          },
          "colorscale": {
           "diverging": [
            [
             0,
             "#8e0152"
            ],
            [
             0.1,
             "#c51b7d"
            ],
            [
             0.2,
             "#de77ae"
            ],
            [
             0.3,
             "#f1b6da"
            ],
            [
             0.4,
             "#fde0ef"
            ],
            [
             0.5,
             "#f7f7f7"
            ],
            [
             0.6,
             "#e6f5d0"
            ],
            [
             0.7,
             "#b8e186"
            ],
            [
             0.8,
             "#7fbc41"
            ],
            [
             0.9,
             "#4d9221"
            ],
            [
             1,
             "#276419"
            ]
           ],
           "sequential": [
            [
             0,
             "#0d0887"
            ],
            [
             0.1111111111111111,
             "#46039f"
            ],
            [
             0.2222222222222222,
             "#7201a8"
            ],
            [
             0.3333333333333333,
             "#9c179e"
            ],
            [
             0.4444444444444444,
             "#bd3786"
            ],
            [
             0.5555555555555556,
             "#d8576b"
            ],
            [
             0.6666666666666666,
             "#ed7953"
            ],
            [
             0.7777777777777778,
             "#fb9f3a"
            ],
            [
             0.8888888888888888,
             "#fdca26"
            ],
            [
             1,
             "#f0f921"
            ]
           ],
           "sequentialminus": [
            [
             0,
             "#0d0887"
            ],
            [
             0.1111111111111111,
             "#46039f"
            ],
            [
             0.2222222222222222,
             "#7201a8"
            ],
            [
             0.3333333333333333,
             "#9c179e"
            ],
            [
             0.4444444444444444,
             "#bd3786"
            ],
            [
             0.5555555555555556,
             "#d8576b"
            ],
            [
             0.6666666666666666,
             "#ed7953"
            ],
            [
             0.7777777777777778,
             "#fb9f3a"
            ],
            [
             0.8888888888888888,
             "#fdca26"
            ],
            [
             1,
             "#f0f921"
            ]
           ]
          },
          "colorway": [
           "#636efa",
           "#EF553B",
           "#00cc96",
           "#ab63fa",
           "#FFA15A",
           "#19d3f3",
           "#FF6692",
           "#B6E880",
           "#FF97FF",
           "#FECB52"
          ],
          "font": {
           "color": "#2a3f5f"
          },
          "geo": {
           "bgcolor": "white",
           "lakecolor": "white",
           "landcolor": "#E5ECF6",
           "showlakes": true,
           "showland": true,
           "subunitcolor": "white"
          },
          "hoverlabel": {
           "align": "left"
          },
          "hovermode": "closest",
          "mapbox": {
           "style": "light"
          },
          "paper_bgcolor": "white",
          "plot_bgcolor": "#E5ECF6",
          "polar": {
           "angularaxis": {
            "gridcolor": "white",
            "linecolor": "white",
            "ticks": ""
           },
           "bgcolor": "#E5ECF6",
           "radialaxis": {
            "gridcolor": "white",
            "linecolor": "white",
            "ticks": ""
           }
          },
          "scene": {
           "xaxis": {
            "backgroundcolor": "#E5ECF6",
            "gridcolor": "white",
            "gridwidth": 2,
            "linecolor": "white",
            "showbackground": true,
            "ticks": "",
            "zerolinecolor": "white"
           },
           "yaxis": {
            "backgroundcolor": "#E5ECF6",
            "gridcolor": "white",
            "gridwidth": 2,
            "linecolor": "white",
            "showbackground": true,
            "ticks": "",
            "zerolinecolor": "white"
           },
           "zaxis": {
            "backgroundcolor": "#E5ECF6",
            "gridcolor": "white",
            "gridwidth": 2,
            "linecolor": "white",
            "showbackground": true,
            "ticks": "",
            "zerolinecolor": "white"
           }
          },
          "shapedefaults": {
           "line": {
            "color": "#2a3f5f"
           }
          },
          "ternary": {
           "aaxis": {
            "gridcolor": "white",
            "linecolor": "white",
            "ticks": ""
           },
           "baxis": {
            "gridcolor": "white",
            "linecolor": "white",
            "ticks": ""
           },
           "bgcolor": "#E5ECF6",
           "caxis": {
            "gridcolor": "white",
            "linecolor": "white",
            "ticks": ""
           }
          },
          "title": {
           "x": 0.05
          },
          "xaxis": {
           "automargin": true,
           "gridcolor": "white",
           "linecolor": "white",
           "ticks": "",
           "title": {
            "standoff": 15
           },
           "zerolinecolor": "white",
           "zerolinewidth": 2
          },
          "yaxis": {
           "automargin": true,
           "gridcolor": "white",
           "linecolor": "white",
           "ticks": "",
           "title": {
            "standoff": 15
           },
           "zerolinecolor": "white",
           "zerolinewidth": 2
          }
         }
        },
        "title": {
         "text": "3D t-SNE Visualization of Champion-Patch Embeddings"
        },
        "updatemenus": [
         {
          "buttons": [
           {
            "args": [
             {
              "visible": true
             }
            ],
            "label": "Show All",
            "method": "update"
           },
           {
            "args": [
             {
              "visible": "legendonly"
             }
            ],
            "label": "Hide All",
            "method": "update"
           }
          ],
          "showactive": false,
          "type": "buttons",
          "x": 1.1,
          "xanchor": "right",
          "y": 1.1,
          "yanchor": "top"
         }
        ],
        "width": 1400
       }
      }
     },
     "metadata": {},
     "output_type": "display_data"
    }
   ],
   "source": [
    "# Prepare data for plotting\n",
    "plot_data = []\n",
    "for champ_idx in range(num_champions):\n",
    "    champ_id = champion_id_encoder.classes_[champ_idx]\n",
    "    try:\n",
    "        champ_id = int(champ_id)\n",
    "        champ_name = id_to_name.get(champ_id, f\"Unknown ID {champ_id}\")\n",
    "    except ValueError:\n",
    "        champ_name = str(champ_id)\n",
    "    for patch_idx, patch in enumerate(patch_mapping.values()):\n",
    "        idx = champ_idx * num_patches + patch_idx\n",
    "        plot_data.append(\n",
    "            {\n",
    "                \"x\": embeddings_3d[idx, 0],\n",
    "                \"y\": embeddings_3d[idx, 1],\n",
    "                \"z\": embeddings_3d[idx, 2],\n",
    "                \"champion\": champ_name,\n",
    "                \"patch\": patch,\n",
    "            }\n",
    "        )\n",
    "\n",
    "df = pd.DataFrame(plot_data)\n",
    "\n",
    "# Create 3D scatter plot\n",
    "fig = px.scatter_3d(\n",
    "    df,\n",
    "    x=\"x\",\n",
    "    y=\"y\",\n",
    "    z=\"z\",\n",
    "    color=\"champion\",\n",
    "    hover_data=[\"champion\", \"patch\"],\n",
    "    title=\"3D t-SNE Visualization of Champion-Patch Embeddings\",\n",
    ")\n",
    "\n",
    "# Update traces to be hidden by default\n",
    "fig.update_traces(\n",
    "    marker=dict(size=5), visible=\"legendonly\"  # This makes all traces hidden by default\n",
    ")\n",
    "\n",
    "# Update layout for better visualization\n",
    "fig.update_layout(\n",
    "    scene=dict(xaxis_title=\"t-SNE 1\", yaxis_title=\"t-SNE 2\", zaxis_title=\"t-SNE 3\"),\n",
    "    # Add buttons for show/hide all\n",
    "    width=1400,  # default is usually around 700-800\n",
    "    height=1000,  # default is usually around 600\n",
    "    updatemenus=[\n",
    "        dict(\n",
    "            type=\"buttons\",\n",
    "            showactive=False,\n",
    "            buttons=[\n",
    "                dict(label=\"Show All\", method=\"update\", args=[{\"visible\": True}]),\n",
    "                dict(\n",
    "                    label=\"Hide All\", method=\"update\", args=[{\"visible\": \"legendonly\"}]\n",
    "                ),\n",
    "            ],\n",
    "            x=1.1,\n",
    "            y=1.1,\n",
    "            xanchor=\"right\",\n",
    "            yanchor=\"top\",\n",
    "        )\n",
    "    ],\n",
    ")\n",
    "\n",
    "fig.show()"
   ]
  },
  {
   "cell_type": "markdown",
   "metadata": {},
   "source": [
    "# Patch embed visualization\n"
   ]
  },
  {
   "cell_type": "code",
   "execution_count": 5,
   "metadata": {},
   "outputs": [
    {
     "name": "stdout",
     "output_type": "stream",
     "text": [
      "{0: '14.12', 1: '14.13', 2: '14.14', 3: '14.15', 4: '14.16', 5: '14.17', 6: '14.18', 7: '14.19', 8: '14.20', 9: '14.21', 10: '14.22', 11: '14.23', 12: '14.24', 13: '15.01', 14: '15.02', 15: '15.03', 16: '15.04', 17: '15.05', 18: '15.07'}\n"
     ]
    },
    {
     "ename": "KeyError",
     "evalue": "19",
     "output_type": "error",
     "traceback": [
      "\u001b[31m---------------------------------------------------------------------------\u001b[39m",
      "\u001b[31mKeyError\u001b[39m                                  Traceback (most recent call last)",
      "\u001b[36mCell\u001b[39m\u001b[36m \u001b[39m\u001b[32mIn[5]\u001b[39m\u001b[32m, line 60\u001b[39m\n\u001b[32m     56\u001b[39m     plt.tight_layout()\n\u001b[32m     57\u001b[39m     plt.show()\n\u001b[32m---> \u001b[39m\u001b[32m60\u001b[39m \u001b[43mvisualize_patch_embeddings\u001b[49m\u001b[43m(\u001b[49m\u001b[43mmodel\u001b[49m\u001b[43m)\u001b[49m\n",
      "\u001b[36mCell\u001b[39m\u001b[36m \u001b[39m\u001b[32mIn[5]\u001b[39m\u001b[32m, line 26\u001b[39m, in \u001b[36mvisualize_patch_embeddings\u001b[39m\u001b[34m(model)\u001b[39m\n\u001b[32m     24\u001b[39m patch_to_version = {v: k \u001b[38;5;28;01mfor\u001b[39;00m k, v \u001b[38;5;129;01min\u001b[39;00m model.patch_mapping.items()}\n\u001b[32m     25\u001b[39m \u001b[38;5;28mprint\u001b[39m(patch_to_version)\n\u001b[32m---> \u001b[39m\u001b[32m26\u001b[39m patch_versions = [\u001b[43mpatch_to_version\u001b[49m\u001b[43m[\u001b[49m\u001b[43mi\u001b[49m\u001b[43m]\u001b[49m \u001b[38;5;28;01mfor\u001b[39;00m i \u001b[38;5;129;01min\u001b[39;00m \u001b[38;5;28mrange\u001b[39m(\u001b[38;5;28mlen\u001b[39m(model.patch_mapping))]\n\u001b[32m     28\u001b[39m \u001b[38;5;66;03m# Create the plot\u001b[39;00m\n\u001b[32m     29\u001b[39m plt.figure(figsize=(\u001b[32m12\u001b[39m, \u001b[32m8\u001b[39m))\n",
      "\u001b[31mKeyError\u001b[39m: 19"
     ]
    }
   ],
   "source": [
    "import torch\n",
    "from sklearn.manifold import TSNE\n",
    "import matplotlib.pyplot as plt\n",
    "import seaborn as sns\n",
    "import numpy as np\n",
    "\n",
    "\n",
    "# Assuming 'model' is your trained model instance\n",
    "def visualize_patch_embeddings(model: Model) -> None:\n",
    "    # Get the patch embedding weights\n",
    "    patch_embeddings = (\n",
    "        model.patch_embedding.weight.detach().cpu().numpy()\n",
    "    )  # Shape: (num_patches, embed_dim)\n",
    "\n",
    "    # Calculate appropriate perplexity (rule of thumb: n_samples / 3)\n",
    "    n_samples = len(model.patch_mapping)\n",
    "    perplexity = min(30, n_samples // 3)\n",
    "\n",
    "    # Apply t-SNE\n",
    "    tsne = TSNE(n_components=2, random_state=42, perplexity=perplexity)\n",
    "    patch_embeddings_2d = tsne.fit_transform(patch_embeddings)\n",
    "\n",
    "    # Create a mapping from patch index to patch version\n",
    "    patch_to_version = {v: k for k, v in model.patch_mapping.items()}\n",
    "    print(patch_to_version)\n",
    "    patch_versions = [patch_to_version[i] for i in range(len(model.patch_mapping))]\n",
    "\n",
    "    # Create the plot\n",
    "    plt.figure(figsize=(12, 8))\n",
    "    scatter = plt.scatter(\n",
    "        patch_embeddings_2d[:, 0],\n",
    "        patch_embeddings_2d[:, 1],\n",
    "        c=np.arange(len(patch_versions) - 1),  # Color by chronological order\n",
    "        cmap=\"viridis\",\n",
    "        alpha=0.6,\n",
    "    )\n",
    "\n",
    "    # Add patch version labels\n",
    "    for i, patch in enumerate(patch_versions):\n",
    "        plt.annotate(\n",
    "            f\"{patch}\",\n",
    "            (patch_embeddings_2d[i, 0], patch_embeddings_2d[i, 1]),\n",
    "            xytext=(5, 5),\n",
    "            textcoords=\"offset points\",\n",
    "            fontsize=8,\n",
    "            alpha=0.7,\n",
    "        )\n",
    "\n",
    "    plt.colorbar(scatter, label=\"Patch Order\")\n",
    "    plt.title(\"t-SNE Visualization of Patch Embeddings\")\n",
    "    plt.xlabel(\"t-SNE Component 1\")\n",
    "    plt.ylabel(\"t-SNE Component 2\")\n",
    "\n",
    "    # Add grid for better readability\n",
    "    plt.grid(True, alpha=0.3)\n",
    "    plt.tight_layout()\n",
    "    plt.show()\n",
    "\n",
    "\n",
    "visualize_patch_embeddings(model)"
   ]
  },
  {
   "cell_type": "code",
   "execution_count": null,
   "metadata": {},
   "outputs": [],
   "source": []
  }
 ],
 "metadata": {
  "kernelspec": {
   "display_name": ".venv",
   "language": "python",
   "name": "python3"
  },
  "language_info": {
   "codemirror_mode": {
    "name": "ipython",
    "version": 3
   },
   "file_extension": ".py",
   "mimetype": "text/x-python",
   "name": "python",
   "nbconvert_exporter": "python",
   "pygments_lexer": "ipython3",
   "version": "3.12.9"
  }
 },
 "nbformat": 4,
 "nbformat_minor": 2
}
