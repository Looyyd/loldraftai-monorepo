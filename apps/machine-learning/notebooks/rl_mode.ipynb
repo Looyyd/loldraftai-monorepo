{
 "cells": [
  {
   "cell_type": "code",
   "execution_count": null,
   "metadata": {},
   "outputs": [],
   "source": [
    "from IPython.display import display, Image as IPImage\n",
    "from sb3_contrib import MaskablePPO\n",
    "from stable_baselines3.common.vec_env import DummyVecEnv\n",
    "from sb3_contrib.common.wrappers import ActionMasker\n",
    "from sb3_contrib.common.maskable.utils import get_action_masks\n",
    "\n",
    "from utils import DATA_DIR\n",
    "from utils.rl.env import LoLDraftEnv, SelfPlayWrapper, action_mask_fn, FixedRoleDraftEnv\n",
    "from utils.rl.visualizer import integrate_with_env\n",
    "\n",
    "# Load the trained model\n",
    "model = MaskablePPO.load(f\"{DATA_DIR}/lol_draft_ppo\")\n",
    "\n",
    "# Create and wrap the environment\n",
    "env = integrate_with_env(FixedRoleDraftEnv)()\n",
    "env = SelfPlayWrapper(env)\n",
    "env = ActionMasker(env, action_mask_fn)\n",
    "env = DummyVecEnv([lambda: env])"
   ]
  },
  {
   "cell_type": "code",
   "execution_count": null,
   "metadata": {},
   "outputs": [],
   "source": [
    "\n",
    "# Reset the environment\n",
    "obs = env.reset()\n",
    "done = False\n",
    "\n",
    "while not done:\n",
    "    # Get the action mask\n",
    "    action_masks = get_action_masks(env)\n",
    "\n",
    "    # Use the action_masks when predicting the action\n",
    "    action, _states = model.predict(obs, action_masks=action_masks, deterministic=True)\n",
    "\n",
    "    # Step the environment\n",
    "    obs, reward, done, info = env.step(action)\n",
    "\n",
    "    if done[0]:  # DummyVecEnv returns a list of done flags\n",
    "        print(\"Episode reward(blue side winrate):\", reward)\n",
    "        # Get the final render\n",
    "        image_data = env.envs[0].render()\n",
    "\n",
    "        if image_data is not None:\n",
    "            display(IPImage(data=image_data))\n",
    "        else:\n",
    "            print(\"Draft is not complete or visualization is not available.\")"
   ]
  },
  {
   "cell_type": "code",
   "execution_count": null,
   "metadata": {},
   "outputs": [],
   "source": []
  }
 ],
 "metadata": {
  "kernelspec": {
   "display_name": ".venv",
   "language": "python",
   "name": "python3"
  },
  "language_info": {
   "codemirror_mode": {
    "name": "ipython",
    "version": 3
   },
   "file_extension": ".py",
   "mimetype": "text/x-python",
   "name": "python",
   "nbconvert_exporter": "python",
   "pygments_lexer": "ipython3",
   "version": "3.12.6"
  }
 },
 "nbformat": 4,
 "nbformat_minor": 2
}
