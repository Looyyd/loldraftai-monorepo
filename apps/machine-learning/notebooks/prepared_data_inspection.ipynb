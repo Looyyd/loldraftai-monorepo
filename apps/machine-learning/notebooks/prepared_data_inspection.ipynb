{
 "cells": [
  {
   "cell_type": "code",
   "execution_count": null,
   "metadata": {},
   "outputs": [],
   "source": [
    "import os\n",
    "import glob\n",
    "import pandas as pd\n",
    "from utils.match_prediction import PREPARED_DATA_DIR\n",
    "\n",
    "# Get the first training file\n",
    "train_files = glob.glob(os.path.join(PREPARED_DATA_DIR, \"train\", \"*.parquet\"))\n",
    "first_file = sorted(train_files)[0] # Sort to ensure consistent file selection\n",
    "\n",
    "# Load the file\n",
    "df = pd.read_parquet(first_file)\n",
    "\n",
    "# Print basic information\n",
    "print(f\"Loading file: {os.path.basename(first_file)}\")\n",
    "print(f\"\\nDataFrame shape: {df.shape}\")\n",
    "print(\"\\nColumn dtypes:\")\n",
    "print(df.dtypes)\n",
    "print(\"\\nFirst few rows:\")\n",
    "df.head()"
   ]
  },
  {
   "cell_type": "code",
   "execution_count": null,
   "metadata": {},
   "outputs": [],
   "source": [
    "unique_values_elo = sorted(df[\"elo\"].unique())\n",
    "unique_values_queue_type = sorted(df[\"queue_type\"].unique())\n",
    "unique_values_patch = sorted(df[\"patch\"].unique())\n",
    "unique_values_champion_ids = sorted(df[\"champion_ids\"].explode().unique())\n",
    "\n",
    "print(f\"Unique values for elo: {unique_values_elo}\")\n",
    "print(f\"Unique values for queue_type: {unique_values_queue_type}\")\n",
    "print(f\"Unique values for patch: {unique_values_patch}\")\n",
    "print(f\"Unique values for champion_ids: {unique_values_champion_ids}\")"
   ]
  },
  {
   "cell_type": "code",
   "execution_count": null,
   "metadata": {},
   "outputs": [],
   "source": [
    "from utils.match_prediction import PATCH_MAPPING_PATH, CHAMPION_ID_ENCODER_PATH\n",
    "import pickle\n",
    "\n",
    "with open(CHAMPION_ID_ENCODER_PATH, \"rb\") as f:\n",
    "    champion_mapping = pickle.load(f)[\"mapping\"]\n",
    "\n",
    "with open(PATCH_MAPPING_PATH, \"rb\") as f:\n",
    "    patch_mapping = pickle.load(f)[\"mapping\"]\n",
    "\n",
    "# TODO: one is dict, the other is encoder, maybe would be better if both had same type\n",
    "print(f\"Patch mapping: {patch_mapping}\")\n",
    "print(f\"Champion mapping: {champion_mapping}\")"
   ]
  },
  {
   "cell_type": "code",
   "execution_count": null,
   "metadata": {},
   "outputs": [],
   "source": []
  }
 ],
 "metadata": {
  "kernelspec": {
   "display_name": ".venv",
   "language": "python",
   "name": "python3"
  },
  "language_info": {
   "codemirror_mode": {
    "name": "ipython",
    "version": 3
   },
   "file_extension": ".py",
   "mimetype": "text/x-python",
   "name": "python",
   "nbconvert_exporter": "python",
   "pygments_lexer": "ipython3",
   "version": "3.12.9"
  }
 },
 "nbformat": 4,
 "nbformat_minor": 2
}
