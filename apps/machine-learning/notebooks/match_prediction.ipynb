{
 "cells": [
  {
   "cell_type": "code",
   "execution_count": null,
   "metadata": {},
   "outputs": [],
   "source": [
    "import numpy as np\n",
    "import requests\n",
    "from utils.rl.champions import Champion\n",
    "\n",
    "def fetch_blue_side_winrate_prediction(champion_ids: np.ndarray):\n",
    "    \"\"\"\n",
    "    Fetch the blue side winrate prediction for a given set of champion IDs.\n",
    "    \"\"\"\n",
    "    input_data = {\n",
    "        \"region\": \"EUW1\",\n",
    "        \"averageTier\": \"DIAMOND\",\n",
    "        \"averageDivision\": \"II\",\n",
    "        # Champion IDs are blue picks from top to bot, then red picks from top to bot\n",
    "        \"champion_ids\": champion_ids.tolist(),  # list of 10 champion IDs\n",
    "        \"gameVersionMajorPatch\": 14,\n",
    "        \"gameVersionMinorPatch\": 18,\n",
    "    }\n",
    "\n",
    "    response = requests.post(\"http://localhost:8000/predict\", json=input_data)\n",
    "    if response.status_code != 200:\n",
    "        raise Exception(f\"Failed to get winrate prediction: {response.json()}\")\n",
    "    winrate_prediction = response.json()[\n",
    "        \"win_probability\"\n",
    "    ]  # blue side winrate prediction\n",
    "\n",
    "    return winrate_prediction"
   ]
  },
  {
   "cell_type": "code",
   "execution_count": null,
   "metadata": {},
   "outputs": [],
   "source": [
    "\n",
    "blue_side_top = Champion.JAX\n",
    "blue_side_jungle = Champion.NOCTURNE\n",
    "blue_side_mid = Champion.ORIANNA\n",
    "blue_side_adc = Champion.DRAVEN\n",
    "blue_side_support = Champion.NAUTILUS\n",
    "\n",
    "red_side_top = Champion.GRAGAS\n",
    "red_side_jungle = Champion.SKARNER\n",
    "red_side_mid = Champion.AHRI\n",
    "red_side_adc = Champion.JHIN\n",
    "red_side_support = Champion.LEONA\n",
    "\n",
    "champions = [blue_side_top, blue_side_jungle, blue_side_mid, blue_side_adc, blue_side_support, red_side_top, red_side_jungle, red_side_mid, red_side_adc, red_side_support]\n",
    "\n",
    "champion_ids = np.array([champion.id for champion in champions])\n",
    "champion_ids = np.array([1010 for champion in champions])\n",
    "\n",
    "blue_side_winrate_prediction = fetch_blue_side_winrate_prediction(champion_ids)\n",
    "print(f\"Blue side winrate prediction: {blue_side_winrate_prediction:.2%}\")"
   ]
  },
  {
   "cell_type": "code",
   "execution_count": null,
   "metadata": {},
   "outputs": [],
   "source": []
  }
 ],
 "metadata": {
  "kernelspec": {
   "display_name": ".venv",
   "language": "python",
   "name": "python3"
  },
  "language_info": {
   "codemirror_mode": {
    "name": "ipython",
    "version": 3
   },
   "file_extension": ".py",
   "mimetype": "text/x-python",
   "name": "python",
   "nbconvert_exporter": "python",
   "pygments_lexer": "ipython3",
   "version": "3.12.6"
  }
 },
 "nbformat": 4,
 "nbformat_minor": 2
}
