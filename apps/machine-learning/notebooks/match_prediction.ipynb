{
 "cells": [
  {
   "cell_type": "code",
   "execution_count": null,
   "metadata": {},
   "outputs": [],
   "source": [
    "import numpy as np\n",
    "import requests\n",
    "from utils.rl.champions import Champion\n",
    "\n",
    "\n",
    "def fetch_blue_side_winrate_prediction(\n",
    "    champion_ids: np.ndarray,\n",
    "    average_tier: str = \"DIAMOND\",\n",
    "    average_division: str = \"III\",\n",
    "):\n",
    "    \"\"\"\n",
    "    Fetch the blue side winrate prediction for a given set of champion IDs.\n",
    "    \"\"\"\n",
    "    input_data = {\n",
    "        \"region\": \"EUW1\",\n",
    "        \"averageTier\": average_tier,\n",
    "        \"averageDivision\": average_division,\n",
    "        # Champion IDs are blue picks from top to bot, then red picks from top to bot\n",
    "        \"champion_ids\": champion_ids.tolist(),  # list of 10 champion IDs\n",
    "        \"gameVersionMajorPatch\": 14,\n",
    "        \"gameVersionMinorPatch\": 18,\n",
    "    }\n",
    "\n",
    "    response = requests.post(\"http://localhost:8000/predict\", json=input_data)\n",
    "    if response.status_code != 200:\n",
    "        raise Exception(f\"Failed to get winrate prediction: {response.json()}\")\n",
    "    winrate_prediction = response.json()[\n",
    "        \"win_probability\"\n",
    "    ]  # blue side winrate prediction\n",
    "\n",
    "    return winrate_prediction"
   ]
  },
  {
   "cell_type": "code",
   "execution_count": null,
   "metadata": {},
   "outputs": [],
   "source": [
    "blue_side_top = Champion.JAX\n",
    "blue_side_jungle = Champion.NOCTURNE\n",
    "blue_side_mid = Champion.ORIANNA\n",
    "blue_side_adc = Champion.DRAVEN\n",
    "blue_side_support = Champion.NAUTILUS\n",
    "\n",
    "red_side_top = Champion.GRAGAS\n",
    "red_side_jungle = Champion.SKARNER\n",
    "red_side_mid = Champion.AHRI\n",
    "red_side_adc = Champion.JHIN\n",
    "red_side_support = Champion.LEONA\n",
    "\n",
    "champions = [\n",
    "    blue_side_top,\n",
    "    blue_side_jungle,\n",
    "    blue_side_mid,\n",
    "    blue_side_adc,\n",
    "    blue_side_support,\n",
    "    red_side_top,\n",
    "    red_side_jungle,\n",
    "    red_side_mid,\n",
    "    red_side_adc,\n",
    "    red_side_support,\n",
    "]\n",
    "\n",
    "champion_ids = np.array([champion.id for champion in champions])\n",
    "\n",
    "average_tier = \"DIAMOND\"\n",
    "for division in [\"I\", \"II\", \"III\", \"IV\"]:\n",
    "    blue_side_winrate_prediction = fetch_blue_side_winrate_prediction(\n",
    "        champion_ids, average_tier, division\n",
    "    )\n",
    "    print(\n",
    "        f\"Blue side winrate prediction for {average_tier} {division}: {blue_side_winrate_prediction:.2%}\"\n",
    "    )"
   ]
  },
  {
   "cell_type": "code",
   "execution_count": null,
   "metadata": {},
   "outputs": [],
   "source": []
  }
 ],
 "metadata": {
  "kernelspec": {
   "display_name": ".venv",
   "language": "python",
   "name": "python3"
  },
  "language_info": {
   "codemirror_mode": {
    "name": "ipython",
    "version": 3
   },
   "file_extension": ".py",
   "mimetype": "text/x-python",
   "name": "python",
   "nbconvert_exporter": "python",
   "pygments_lexer": "ipython3",
   "version": "3.12.6"
  }
 },
 "nbformat": 4,
 "nbformat_minor": 2
}
